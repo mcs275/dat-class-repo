{
 "cells": [
  {
   "cell_type": "markdown",
   "metadata": {},
   "source": [
    "<img src=\"http://imgur.com/1ZcRyrc.png\" style=\"float: left; margin: 20px; height: 55px\">\n",
    "\n",
    "# Project 2: Analyzing IMDb Data\n",
    "\n",
    "_Author: Kevin Markham (DC)_\n",
    "\n",
    "---"
   ]
  },
  {
   "cell_type": "markdown",
   "metadata": {},
   "source": [
    "For project two, you will complete a series of exercises exploring movie rating data from IMDb.\n",
    "\n",
    "For these exercises, you will be conducting basic exploratory data analysis on IMDB's movie data, looking to answer such questions as:\n",
    "\n",
    "What is the average rating per genre?\n",
    "How many different actors are in a movie?\n",
    "\n",
    "This process will help you practice your data analysis skills while becoming comfortable with Pandas."
   ]
  },
  {
   "cell_type": "markdown",
   "metadata": {},
   "source": [
    "## Basic level"
   ]
  },
  {
   "cell_type": "code",
   "execution_count": 23,
   "metadata": {},
   "outputs": [],
   "source": [
    "import pandas as pd\n",
    "import numpy as np\n",
    "import matplotlib.pyplot as plt\n",
    "import plotly.express as px\n",
    "%matplotlib inline"
   ]
  },
  {
   "cell_type": "markdown",
   "metadata": {},
   "source": [
    "#### Read in 'imdb_1000.csv' and store it in a DataFrame named movies."
   ]
  },
  {
   "cell_type": "code",
   "execution_count": 4,
   "metadata": {},
   "outputs": [
    {
     "data": {
      "text/html": [
       "<div>\n",
       "<style scoped>\n",
       "    .dataframe tbody tr th:only-of-type {\n",
       "        vertical-align: middle;\n",
       "    }\n",
       "\n",
       "    .dataframe tbody tr th {\n",
       "        vertical-align: top;\n",
       "    }\n",
       "\n",
       "    .dataframe thead th {\n",
       "        text-align: right;\n",
       "    }\n",
       "</style>\n",
       "<table border=\"1\" class=\"dataframe\">\n",
       "  <thead>\n",
       "    <tr style=\"text-align: right;\">\n",
       "      <th></th>\n",
       "      <th>star_rating</th>\n",
       "      <th>title</th>\n",
       "      <th>content_rating</th>\n",
       "      <th>genre</th>\n",
       "      <th>duration</th>\n",
       "      <th>actors_list</th>\n",
       "    </tr>\n",
       "  </thead>\n",
       "  <tbody>\n",
       "    <tr>\n",
       "      <th>0</th>\n",
       "      <td>9.3</td>\n",
       "      <td>The Shawshank Redemption</td>\n",
       "      <td>R</td>\n",
       "      <td>Crime</td>\n",
       "      <td>142</td>\n",
       "      <td>[u'Tim Robbins', u'Morgan Freeman', u'Bob Gunt...</td>\n",
       "    </tr>\n",
       "    <tr>\n",
       "      <th>1</th>\n",
       "      <td>9.2</td>\n",
       "      <td>The Godfather</td>\n",
       "      <td>R</td>\n",
       "      <td>Crime</td>\n",
       "      <td>175</td>\n",
       "      <td>[u'Marlon Brando', u'Al Pacino', u'James Caan']</td>\n",
       "    </tr>\n",
       "    <tr>\n",
       "      <th>2</th>\n",
       "      <td>9.1</td>\n",
       "      <td>The Godfather: Part II</td>\n",
       "      <td>R</td>\n",
       "      <td>Crime</td>\n",
       "      <td>200</td>\n",
       "      <td>[u'Al Pacino', u'Robert De Niro', u'Robert Duv...</td>\n",
       "    </tr>\n",
       "    <tr>\n",
       "      <th>3</th>\n",
       "      <td>9.0</td>\n",
       "      <td>The Dark Knight</td>\n",
       "      <td>PG-13</td>\n",
       "      <td>Action</td>\n",
       "      <td>152</td>\n",
       "      <td>[u'Christian Bale', u'Heath Ledger', u'Aaron E...</td>\n",
       "    </tr>\n",
       "    <tr>\n",
       "      <th>4</th>\n",
       "      <td>8.9</td>\n",
       "      <td>Pulp Fiction</td>\n",
       "      <td>R</td>\n",
       "      <td>Crime</td>\n",
       "      <td>154</td>\n",
       "      <td>[u'John Travolta', u'Uma Thurman', u'Samuel L....</td>\n",
       "    </tr>\n",
       "  </tbody>\n",
       "</table>\n",
       "</div>"
      ],
      "text/plain": [
       "   star_rating                     title content_rating   genre  duration  \\\n",
       "0          9.3  The Shawshank Redemption              R   Crime       142   \n",
       "1          9.2             The Godfather              R   Crime       175   \n",
       "2          9.1    The Godfather: Part II              R   Crime       200   \n",
       "3          9.0           The Dark Knight          PG-13  Action       152   \n",
       "4          8.9              Pulp Fiction              R   Crime       154   \n",
       "\n",
       "                                         actors_list  \n",
       "0  [u'Tim Robbins', u'Morgan Freeman', u'Bob Gunt...  \n",
       "1    [u'Marlon Brando', u'Al Pacino', u'James Caan']  \n",
       "2  [u'Al Pacino', u'Robert De Niro', u'Robert Duv...  \n",
       "3  [u'Christian Bale', u'Heath Ledger', u'Aaron E...  \n",
       "4  [u'John Travolta', u'Uma Thurman', u'Samuel L....  "
      ]
     },
     "execution_count": 4,
     "metadata": {},
     "output_type": "execute_result"
    }
   ],
   "source": [
    "movies = pd.read_csv('/Users/liamsweeney/dat-11-15/dat-11-15/dat-11-15/dat-11-15/dat-11-15/Homework/Unit1/data/imdb_1000.csv')\n",
    "movies.head()"
   ]
  },
  {
   "cell_type": "markdown",
   "metadata": {},
   "source": [
    "#### Check the number of rows and columns."
   ]
  },
  {
   "cell_type": "code",
   "execution_count": 8,
   "metadata": {},
   "outputs": [
    {
     "data": {
      "text/plain": [
       "979"
      ]
     },
     "execution_count": 8,
     "metadata": {},
     "output_type": "execute_result"
    }
   ],
   "source": [
    "# Answer:\n",
    "len(movies)\n"
   ]
  },
  {
   "cell_type": "code",
   "execution_count": 9,
   "metadata": {},
   "outputs": [
    {
     "data": {
      "text/plain": [
       "6"
      ]
     },
     "execution_count": 9,
     "metadata": {},
     "output_type": "execute_result"
    }
   ],
   "source": [
    "len(movies.columns)"
   ]
  },
  {
   "cell_type": "markdown",
   "metadata": {},
   "source": [
    "#### Check the data type of each column."
   ]
  },
  {
   "cell_type": "code",
   "execution_count": 10,
   "metadata": {},
   "outputs": [
    {
     "data": {
      "text/plain": [
       "star_rating       float64\n",
       "title              object\n",
       "content_rating     object\n",
       "genre              object\n",
       "duration            int64\n",
       "actors_list        object\n",
       "dtype: object"
      ]
     },
     "execution_count": 10,
     "metadata": {},
     "output_type": "execute_result"
    }
   ],
   "source": [
    "# Answer:\n",
    "movies.dtypes"
   ]
  },
  {
   "cell_type": "code",
   "execution_count": 45,
   "metadata": {},
   "outputs": [
    {
     "data": {
      "text/plain": [
       "pandas.core.series.Series"
      ]
     },
     "execution_count": 45,
     "metadata": {},
     "output_type": "execute_result"
    }
   ],
   "source": [
    "type(movies['content_rating'])"
   ]
  },
  {
   "cell_type": "code",
   "execution_count": 52,
   "metadata": {},
   "outputs": [
    {
     "data": {
      "text/plain": [
       "str"
      ]
     },
     "execution_count": 52,
     "metadata": {},
     "output_type": "execute_result"
    }
   ],
   "source": [
    "type(movies['content_rating'][0])"
   ]
  },
  {
   "cell_type": "markdown",
   "metadata": {},
   "source": [
    "#### Calculate the average movie duration."
   ]
  },
  {
   "cell_type": "code",
   "execution_count": 12,
   "metadata": {},
   "outputs": [
    {
     "data": {
      "text/plain": [
       "120.97957099080695"
      ]
     },
     "execution_count": 12,
     "metadata": {},
     "output_type": "execute_result"
    }
   ],
   "source": [
    "# Answer:\n",
    "movies['duration'].mean()"
   ]
  },
  {
   "cell_type": "markdown",
   "metadata": {},
   "source": [
    "#### Sort the DataFrame by duration to find the shortest and longest movies."
   ]
  },
  {
   "cell_type": "code",
   "execution_count": 14,
   "metadata": {},
   "outputs": [
    {
     "data": {
      "text/html": [
       "<div>\n",
       "<style scoped>\n",
       "    .dataframe tbody tr th:only-of-type {\n",
       "        vertical-align: middle;\n",
       "    }\n",
       "\n",
       "    .dataframe tbody tr th {\n",
       "        vertical-align: top;\n",
       "    }\n",
       "\n",
       "    .dataframe thead th {\n",
       "        text-align: right;\n",
       "    }\n",
       "</style>\n",
       "<table border=\"1\" class=\"dataframe\">\n",
       "  <thead>\n",
       "    <tr style=\"text-align: right;\">\n",
       "      <th></th>\n",
       "      <th>star_rating</th>\n",
       "      <th>title</th>\n",
       "      <th>content_rating</th>\n",
       "      <th>genre</th>\n",
       "      <th>duration</th>\n",
       "      <th>actors_list</th>\n",
       "    </tr>\n",
       "  </thead>\n",
       "  <tbody>\n",
       "    <tr>\n",
       "      <th>389</th>\n",
       "      <td>8.0</td>\n",
       "      <td>Freaks</td>\n",
       "      <td>UNRATED</td>\n",
       "      <td>Drama</td>\n",
       "      <td>64</td>\n",
       "      <td>[u'Wallace Ford', u'Leila Hyams', u'Olga Bacla...</td>\n",
       "    </tr>\n",
       "    <tr>\n",
       "      <th>338</th>\n",
       "      <td>8.0</td>\n",
       "      <td>Battleship Potemkin</td>\n",
       "      <td>UNRATED</td>\n",
       "      <td>History</td>\n",
       "      <td>66</td>\n",
       "      <td>[u'Aleksandr Antonov', u'Vladimir Barsky', u'G...</td>\n",
       "    </tr>\n",
       "    <tr>\n",
       "      <th>258</th>\n",
       "      <td>8.1</td>\n",
       "      <td>The Cabinet of Dr. Caligari</td>\n",
       "      <td>UNRATED</td>\n",
       "      <td>Crime</td>\n",
       "      <td>67</td>\n",
       "      <td>[u'Werner Krauss', u'Conrad Veidt', u'Friedric...</td>\n",
       "    </tr>\n",
       "    <tr>\n",
       "      <th>293</th>\n",
       "      <td>8.1</td>\n",
       "      <td>Duck Soup</td>\n",
       "      <td>PASSED</td>\n",
       "      <td>Comedy</td>\n",
       "      <td>68</td>\n",
       "      <td>[u'Groucho Marx', u'Harpo Marx', u'Chico Marx']</td>\n",
       "    </tr>\n",
       "    <tr>\n",
       "      <th>88</th>\n",
       "      <td>8.4</td>\n",
       "      <td>The Kid</td>\n",
       "      <td>NOT RATED</td>\n",
       "      <td>Comedy</td>\n",
       "      <td>68</td>\n",
       "      <td>[u'Charles Chaplin', u'Edna Purviance', u'Jack...</td>\n",
       "    </tr>\n",
       "    <tr>\n",
       "      <th>...</th>\n",
       "      <td>...</td>\n",
       "      <td>...</td>\n",
       "      <td>...</td>\n",
       "      <td>...</td>\n",
       "      <td>...</td>\n",
       "      <td>...</td>\n",
       "    </tr>\n",
       "    <tr>\n",
       "      <th>445</th>\n",
       "      <td>7.9</td>\n",
       "      <td>The Ten Commandments</td>\n",
       "      <td>APPROVED</td>\n",
       "      <td>Adventure</td>\n",
       "      <td>220</td>\n",
       "      <td>[u'Charlton Heston', u'Yul Brynner', u'Anne Ba...</td>\n",
       "    </tr>\n",
       "    <tr>\n",
       "      <th>142</th>\n",
       "      <td>8.3</td>\n",
       "      <td>Lagaan: Once Upon a Time in India</td>\n",
       "      <td>PG</td>\n",
       "      <td>Adventure</td>\n",
       "      <td>224</td>\n",
       "      <td>[u'Aamir Khan', u'Gracy Singh', u'Rachel Shell...</td>\n",
       "    </tr>\n",
       "    <tr>\n",
       "      <th>78</th>\n",
       "      <td>8.4</td>\n",
       "      <td>Once Upon a Time in America</td>\n",
       "      <td>R</td>\n",
       "      <td>Crime</td>\n",
       "      <td>229</td>\n",
       "      <td>[u'Robert De Niro', u'James Woods', u'Elizabet...</td>\n",
       "    </tr>\n",
       "    <tr>\n",
       "      <th>157</th>\n",
       "      <td>8.2</td>\n",
       "      <td>Gone with the Wind</td>\n",
       "      <td>G</td>\n",
       "      <td>Drama</td>\n",
       "      <td>238</td>\n",
       "      <td>[u'Clark Gable', u'Vivien Leigh', u'Thomas Mit...</td>\n",
       "    </tr>\n",
       "    <tr>\n",
       "      <th>476</th>\n",
       "      <td>7.8</td>\n",
       "      <td>Hamlet</td>\n",
       "      <td>PG-13</td>\n",
       "      <td>Drama</td>\n",
       "      <td>242</td>\n",
       "      <td>[u'Kenneth Branagh', u'Julie Christie', u'Dere...</td>\n",
       "    </tr>\n",
       "  </tbody>\n",
       "</table>\n",
       "<p>979 rows × 6 columns</p>\n",
       "</div>"
      ],
      "text/plain": [
       "     star_rating                              title content_rating      genre  \\\n",
       "389          8.0                             Freaks        UNRATED      Drama   \n",
       "338          8.0                Battleship Potemkin        UNRATED    History   \n",
       "258          8.1        The Cabinet of Dr. Caligari        UNRATED      Crime   \n",
       "293          8.1                          Duck Soup         PASSED     Comedy   \n",
       "88           8.4                            The Kid      NOT RATED     Comedy   \n",
       "..           ...                                ...            ...        ...   \n",
       "445          7.9               The Ten Commandments       APPROVED  Adventure   \n",
       "142          8.3  Lagaan: Once Upon a Time in India             PG  Adventure   \n",
       "78           8.4        Once Upon a Time in America              R      Crime   \n",
       "157          8.2                 Gone with the Wind              G      Drama   \n",
       "476          7.8                             Hamlet          PG-13      Drama   \n",
       "\n",
       "     duration                                        actors_list  \n",
       "389        64  [u'Wallace Ford', u'Leila Hyams', u'Olga Bacla...  \n",
       "338        66  [u'Aleksandr Antonov', u'Vladimir Barsky', u'G...  \n",
       "258        67  [u'Werner Krauss', u'Conrad Veidt', u'Friedric...  \n",
       "293        68    [u'Groucho Marx', u'Harpo Marx', u'Chico Marx']  \n",
       "88         68  [u'Charles Chaplin', u'Edna Purviance', u'Jack...  \n",
       "..        ...                                                ...  \n",
       "445       220  [u'Charlton Heston', u'Yul Brynner', u'Anne Ba...  \n",
       "142       224  [u'Aamir Khan', u'Gracy Singh', u'Rachel Shell...  \n",
       "78        229  [u'Robert De Niro', u'James Woods', u'Elizabet...  \n",
       "157       238  [u'Clark Gable', u'Vivien Leigh', u'Thomas Mit...  \n",
       "476       242  [u'Kenneth Branagh', u'Julie Christie', u'Dere...  \n",
       "\n",
       "[979 rows x 6 columns]"
      ]
     },
     "execution_count": 14,
     "metadata": {},
     "output_type": "execute_result"
    }
   ],
   "source": [
    "# Answer:\n",
    "movies.sort_values(by='duration')"
   ]
  },
  {
   "cell_type": "markdown",
   "metadata": {},
   "source": [
    "#### Create a histogram of duration, choosing an \"appropriate\" number of bins."
   ]
  },
  {
   "cell_type": "code",
   "execution_count": 16,
   "metadata": {},
   "outputs": [
    {
     "data": {
      "text/plain": [
       "(array([193., 560., 177.,  41.,   8.]),\n",
       " array([ 64. ,  99.6, 135.2, 170.8, 206.4, 242. ]),\n",
       " <BarContainer object of 5 artists>)"
      ]
     },
     "execution_count": 16,
     "metadata": {},
     "output_type": "execute_result"
    },
    {
     "data": {
      "image/png": "[encoded data removed]",
      "text/plain": [
       "<Figure size 432x288 with 1 Axes>"
      ]
     },
     "metadata": {
      "needs_background": "light"
     },
     "output_type": "display_data"
    }
   ],
   "source": [
    "# Answer:\n",
    "plt.hist(movies['duration'], bins = 5)"
   ]
  },
  {
   "cell_type": "markdown",
   "metadata": {},
   "source": [
    "#### Use a box plot to display that same data."
   ]
  },
  {
   "cell_type": "code",
   "execution_count": 17,
   "metadata": {},
   "outputs": [
    {
     "data": {
      "text/plain": [
       "<AxesSubplot:>"
      ]
     },
     "execution_count": 17,
     "metadata": {},
     "output_type": "execute_result"
    },
    {
     "data": {
      "image/png": "[encoded data removed]",
      "text/plain": [
       "<Figure size 432x288 with 1 Axes>"
      ]
     },
     "metadata": {
      "needs_background": "light"
     },
     "output_type": "display_data"
    }
   ],
   "source": [
    "# Answer:\n",
    "movies.boxplot(column='duration')"
   ]
  },
  {
   "cell_type": "markdown",
   "metadata": {},
   "source": [
    "## Intermediate level"
   ]
  },
  {
   "cell_type": "markdown",
   "metadata": {},
   "source": [
    "#### Count how many movies have each of the content ratings."
   ]
  },
  {
   "cell_type": "code",
   "execution_count": 21,
   "metadata": {},
   "outputs": [
    {
     "data": {
      "text/plain": [
       "R            460\n",
       "PG-13        189\n",
       "PG           123\n",
       "NOT RATED     65\n",
       "APPROVED      47\n",
       "UNRATED       38\n",
       "G             32\n",
       "PASSED         7\n",
       "NC-17          7\n",
       "X              4\n",
       "GP             3\n",
       "TV-MA          1\n",
       "Name: content_rating, dtype: int64"
      ]
     },
     "execution_count": 21,
     "metadata": {},
     "output_type": "execute_result"
    }
   ],
   "source": [
    "# Answer:\n",
    "movies['content_rating'].value_counts()"
   ]
  },
  {
   "cell_type": "markdown",
   "metadata": {},
   "source": [
    "#### Use a visualization to display that same data, including a title and x and y labels."
   ]
  },
  {
   "cell_type": "code",
   "execution_count": 30,
   "metadata": {},
   "outputs": [],
   "source": [
    "movies['count'] = 1\n",
    "data = movies.groupby('content_rating')['count'].sum().reset_index()\n"
   ]
  },
  {
   "cell_type": "code",
   "execution_count": 32,
   "metadata": {},
   "outputs": [
    {
     "data": {
      "application/vnd.plotly.v1+json": {
       "config": {
        "plotlyServerURL": "https://plot.ly"
       },
       "data": [
        {
         "alignmentgroup": "True",
         "hovertemplate": "content_rating=%{x}<br>count=%{y}<extra></extra>",
         "legendgroup": "",
         "marker": {
          "color": "#636efa",
          "pattern": {
           "shape": ""
          }
         },
         "name": "",
         "offsetgroup": "",
         "orientation": "v",
         "showlegend": false,
         "textposition": "auto",
         "type": "bar",
         "x": [
          "APPROVED",
          "G",
          "GP",
          "NC-17",
          "NOT RATED",
          "PASSED",
          "PG",
          "PG-13",
          "R",
          "TV-MA",
          "UNRATED",
          "X"
         ],
         "xaxis": "x",
         "y": [
          47,
          32,
          3,
          7,
          65,
          7,
          123,
          189,
          460,
          1,
          38,
          4
         ],
         "yaxis": "y"
        }
       ],
       "layout": {
        "barmode": "relative",
        "legend": {
         "tracegroupgap": 0
        },
        "margin": {
         "t": 60
        },
        "template": {
         "data": {
          "bar": [
           {
            "error_x": {
             "color": "#2a3f5f"
            },
            "error_y": {
             "color": "#2a3f5f"
            },
            "marker": {
             "line": {
              "color": "#E5ECF6",
              "width": 0.5
             },
             "pattern": {
              "fillmode": "overlay",
              "size": 10,
              "solidity": 0.2
             }
            },
            "type": "bar"
           }
          ],
          "barpolar": [
           {
            "marker": {
             "line": {
              "color": "#E5ECF6",
              "width": 0.5
             },
             "pattern": {
              "fillmode": "overlay",
              "size": 10,
              "solidity": 0.2
             }
            },
            "type": "barpolar"
           }
          ],
          "carpet": [
           {
            "aaxis": {
             "endlinecolor": "#2a3f5f",
             "gridcolor": "white",
             "linecolor": "white",
             "minorgridcolor": "white",
             "startlinecolor": "#2a3f5f"
            },
            "baxis": {
             "endlinecolor": "#2a3f5f",
             "gridcolor": "white",
             "linecolor": "white",
             "minorgridcolor": "white",
             "startlinecolor": "#2a3f5f"
            },
            "type": "carpet"
           }
          ],
          "choropleth": [
           {
            "colorbar": {
             "outlinewidth": 0,
             "ticks": ""
            },
            "type": "choropleth"
           }
          ],
          "contour": [
           {
            "colorbar": {
             "outlinewidth": 0,
             "ticks": ""
            },
            "colorscale": [
             [
              0,
              "#0d0887"
             ],
             [
              0.1111111111111111,
              "#46039f"
             ],
             [
              0.2222222222222222,
              "#7201a8"
             ],
             [
              0.3333333333333333,
              "#9c179e"
             ],
             [
              0.4444444444444444,
              "#bd3786"
             ],
             [
              0.5555555555555556,
              "#d8576b"
             ],
             [
              0.6666666666666666,
              "#ed7953"
             ],
             [
              0.7777777777777778,
              "#fb9f3a"
             ],
             [
              0.8888888888888888,
              "#fdca26"
             ],
             [
              1,
              "#f0f921"
             ]
            ],
            "type": "contour"
           }
          ],
          "contourcarpet": [
           {
            "colorbar": {
             "outlinewidth": 0,
             "ticks": ""
            },
            "type": "contourcarpet"
           }
          ],
          "heatmap": [
           {
            "colorbar": {
             "outlinewidth": 0,
             "ticks": ""
            },
            "colorscale": [
             [
              0,
              "#0d0887"
             ],
             [
              0.1111111111111111,
              "#46039f"
             ],
             [
              0.2222222222222222,
              "#7201a8"
             ],
             [
              0.3333333333333333,
              "#9c179e"
             ],
             [
              0.4444444444444444,
              "#bd3786"
             ],
             [
              0.5555555555555556,
              "#d8576b"
             ],
             [
              0.6666666666666666,
              "#ed7953"
             ],
             [
              0.7777777777777778,
              "#fb9f3a"
             ],
             [
              0.8888888888888888,
              "#fdca26"
             ],
             [
              1,
              "#f0f921"
             ]
            ],
            "type": "heatmap"
           }
          ],
          "heatmapgl": [
           {
            "colorbar": {
             "outlinewidth": 0,
             "ticks": ""
            },
            "colorscale": [
             [
              0,
              "#0d0887"
             ],
             [
              0.1111111111111111,
              "#46039f"
             ],
             [
              0.2222222222222222,
              "#7201a8"
             ],
             [
              0.3333333333333333,
              "#9c179e"
             ],
             [
              0.4444444444444444,
              "#bd3786"
             ],
             [
              0.5555555555555556,
              "#d8576b"
             ],
             [
              0.6666666666666666,
              "#ed7953"
             ],
             [
              0.7777777777777778,
              "#fb9f3a"
             ],
             [
              0.8888888888888888,
              "#fdca26"
             ],
             [
              1,
              "#f0f921"
             ]
            ],
            "type": "heatmapgl"
           }
          ],
          "histogram": [
           {
            "marker": {
             "pattern": {
              "fillmode": "overlay",
              "size": 10,
              "solidity": 0.2
             }
            },
            "type": "histogram"
           }
          ],
          "histogram2d": [
           {
            "colorbar": {
             "outlinewidth": 0,
             "ticks": ""
            },
            "colorscale": [
             [
              0,
              "#0d0887"
             ],
             [
              0.1111111111111111,
              "#46039f"
             ],
             [
              0.2222222222222222,
              "#7201a8"
             ],
             [
              0.3333333333333333,
              "#9c179e"
             ],
             [
              0.4444444444444444,
              "#bd3786"
             ],
             [
              0.5555555555555556,
              "#d8576b"
             ],
             [
              0.6666666666666666,
              "#ed7953"
             ],
             [
              0.7777777777777778,
              "#fb9f3a"
             ],
             [
              0.8888888888888888,
              "#fdca26"
             ],
             [
              1,
              "#f0f921"
             ]
            ],
            "type": "histogram2d"
           }
          ],
          "histogram2dcontour": [
           {
            "colorbar": {
             "outlinewidth": 0,
             "ticks": ""
            },
            "colorscale": [
             [
              0,
              "#0d0887"
             ],
             [
              0.1111111111111111,
              "#46039f"
             ],
             [
              0.2222222222222222,
              "#7201a8"
             ],
             [
              0.3333333333333333,
              "#9c179e"
             ],
             [
              0.4444444444444444,
              "#bd3786"
             ],
             [
              0.5555555555555556,
              "#d8576b"
             ],
             [
              0.6666666666666666,
              "#ed7953"
             ],
             [
              0.7777777777777778,
              "#fb9f3a"
             ],
             [
              0.8888888888888888,
              "#fdca26"
             ],
             [
              1,
              "#f0f921"
             ]
            ],
            "type": "histogram2dcontour"
           }
          ],
          "mesh3d": [
           {
            "colorbar": {
             "outlinewidth": 0,
             "ticks": ""
            },
            "type": "mesh3d"
           }
          ],
          "parcoords": [
           {
            "line": {
             "colorbar": {
              "outlinewidth": 0,
              "ticks": ""
             }
            },
            "type": "parcoords"
           }
          ],
          "pie": [
           {
            "automargin": true,
            "type": "pie"
           }
          ],
          "scatter": [
           {
            "marker": {
             "colorbar": {
              "outlinewidth": 0,
              "ticks": ""
             }
            },
            "type": "scatter"
           }
          ],
          "scatter3d": [
           {
            "line": {
             "colorbar": {
              "outlinewidth": 0,
              "ticks": ""
             }
            },
            "marker": {
             "colorbar": {
              "outlinewidth": 0,
              "ticks": ""
             }
            },
            "type": "scatter3d"
           }
          ],
          "scattercarpet": [
           {
            "marker": {
             "colorbar": {
              "outlinewidth": 0,
              "ticks": ""
             }
            },
            "type": "scattercarpet"
           }
          ],
          "scattergeo": [
           {
            "marker": {
             "colorbar": {
              "outlinewidth": 0,
              "ticks": ""
             }
            },
            "type": "scattergeo"
           }
          ],
          "scattergl": [
           {
            "marker": {
             "colorbar": {
              "outlinewidth": 0,
              "ticks": ""
             }
            },
            "type": "scattergl"
           }
          ],
          "scattermapbox": [
           {
            "marker": {
             "colorbar": {
              "outlinewidth": 0,
              "ticks": ""
             }
            },
            "type": "scattermapbox"
           }
          ],
          "scatterpolar": [
           {
            "marker": {
             "colorbar": {
              "outlinewidth": 0,
              "ticks": ""
             }
            },
            "type": "scatterpolar"
           }
          ],
          "scatterpolargl": [
           {
            "marker": {
             "colorbar": {
              "outlinewidth": 0,
              "ticks": ""
             }
            },
            "type": "scatterpolargl"
           }
          ],
          "scatterternary": [
           {
            "marker": {
             "colorbar": {
              "outlinewidth": 0,
              "ticks": ""
             }
            },
            "type": "scatterternary"
           }
          ],
          "surface": [
           {
            "colorbar": {
             "outlinewidth": 0,
             "ticks": ""
            },
            "colorscale": [
             [
              0,
              "#0d0887"
             ],
             [
              0.1111111111111111,
              "#46039f"
             ],
             [
              0.2222222222222222,
              "#7201a8"
             ],
             [
              0.3333333333333333,
              "#9c179e"
             ],
             [
              0.4444444444444444,
              "#bd3786"
             ],
             [
              0.5555555555555556,
              "#d8576b"
             ],
             [
              0.6666666666666666,
              "#ed7953"
             ],
             [
              0.7777777777777778,
              "#fb9f3a"
             ],
             [
              0.8888888888888888,
              "#fdca26"
             ],
             [
              1,
              "#f0f921"
             ]
            ],
            "type": "surface"
           }
          ],
          "table": [
           {
            "cells": {
             "fill": {
              "color": "#EBF0F8"
             },
             "line": {
              "color": "white"
             }
            },
            "header": {
             "fill": {
              "color": "#C8D4E3"
             },
             "line": {
              "color": "white"
             }
            },
            "type": "table"
           }
          ]
         },
         "layout": {
          "annotationdefaults": {
           "arrowcolor": "#2a3f5f",
           "arrowhead": 0,
           "arrowwidth": 1
          },
          "autotypenumbers": "strict",
          "coloraxis": {
           "colorbar": {
            "outlinewidth": 0,
            "ticks": ""
           }
          },
          "colorscale": {
           "diverging": [
            [
             0,
             "#8e0152"
            ],
            [
             0.1,
             "#c51b7d"
            ],
            [
             0.2,
             "#de77ae"
            ],
            [
             0.3,
             "#f1b6da"
            ],
            [
             0.4,
             "#fde0ef"
            ],
            [
             0.5,
             "#f7f7f7"
            ],
            [
             0.6,
             "#e6f5d0"
            ],
            [
             0.7,
             "#b8e186"
            ],
            [
             0.8,
             "#7fbc41"
            ],
            [
             0.9,
             "#4d9221"
            ],
            [
             1,
             "#276419"
            ]
           ],
           "sequential": [
            [
             0,
             "#0d0887"
            ],
            [
             0.1111111111111111,
             "#46039f"
            ],
            [
             0.2222222222222222,
             "#7201a8"
            ],
            [
             0.3333333333333333,
             "#9c179e"
            ],
            [
             0.4444444444444444,
             "#bd3786"
            ],
            [
             0.5555555555555556,
             "#d8576b"
            ],
            [
             0.6666666666666666,
             "#ed7953"
            ],
            [
             0.7777777777777778,
             "#fb9f3a"
            ],
            [
             0.8888888888888888,
             "#fdca26"
            ],
            [
             1,
             "#f0f921"
            ]
           ],
           "sequentialminus": [
            [
             0,
             "#0d0887"
            ],
            [
             0.1111111111111111,
             "#46039f"
            ],
            [
             0.2222222222222222,
             "#7201a8"
            ],
            [
             0.3333333333333333,
             "#9c179e"
            ],
            [
             0.4444444444444444,
             "#bd3786"
            ],
            [
             0.5555555555555556,
             "#d8576b"
            ],
            [
             0.6666666666666666,
             "#ed7953"
            ],
            [
             0.7777777777777778,
             "#fb9f3a"
            ],
            [
             0.8888888888888888,
             "#fdca26"
            ],
            [
             1,
             "#f0f921"
            ]
           ]
          },
          "colorway": [
           "#636efa",
           "#EF553B",
           "#00cc96",
           "#ab63fa",
           "#FFA15A",
           "#19d3f3",
           "#FF6692",
           "#B6E880",
           "#FF97FF",
           "#FECB52"
          ],
          "font": {
           "color": "#2a3f5f"
          },
          "geo": {
           "bgcolor": "white",
           "lakecolor": "white",
           "landcolor": "#E5ECF6",
           "showlakes": true,
           "showland": true,
           "subunitcolor": "white"
          },
          "hoverlabel": {
           "align": "left"
          },
          "hovermode": "closest",
          "mapbox": {
           "style": "light"
          },
          "paper_bgcolor": "white",
          "plot_bgcolor": "#E5ECF6",
          "polar": {
           "angularaxis": {
            "gridcolor": "white",
            "linecolor": "white",
            "ticks": ""
           },
           "bgcolor": "#E5ECF6",
           "radialaxis": {
            "gridcolor": "white",
            "linecolor": "white",
            "ticks": ""
           }
          },
          "scene": {
           "xaxis": {
            "backgroundcolor": "#E5ECF6",
            "gridcolor": "white",
            "gridwidth": 2,
            "linecolor": "white",
            "showbackground": true,
            "ticks": "",
            "zerolinecolor": "white"
           },
           "yaxis": {
            "backgroundcolor": "#E5ECF6",
            "gridcolor": "white",
            "gridwidth": 2,
            "linecolor": "white",
            "showbackground": true,
            "ticks": "",
            "zerolinecolor": "white"
           },
           "zaxis": {
            "backgroundcolor": "#E5ECF6",
            "gridcolor": "white",
            "gridwidth": 2,
            "linecolor": "white",
            "showbackground": true,
            "ticks": "",
            "zerolinecolor": "white"
           }
          },
          "shapedefaults": {
           "line": {
            "color": "#2a3f5f"
           }
          },
          "ternary": {
           "aaxis": {
            "gridcolor": "white",
            "linecolor": "white",
            "ticks": ""
           },
           "baxis": {
            "gridcolor": "white",
            "linecolor": "white",
            "ticks": ""
           },
           "bgcolor": "#E5ECF6",
           "caxis": {
            "gridcolor": "white",
            "linecolor": "white",
            "ticks": ""
           }
          },
          "title": {
           "x": 0.05
          },
          "xaxis": {
           "automargin": true,
           "gridcolor": "white",
           "linecolor": "white",
           "ticks": "",
           "title": {
            "standoff": 15
           },
           "zerolinecolor": "white",
           "zerolinewidth": 2
          },
          "yaxis": {
           "automargin": true,
           "gridcolor": "white",
           "linecolor": "white",
           "ticks": "",
           "title": {
            "standoff": 15
           },
           "zerolinecolor": "white",
           "zerolinewidth": 2
          }
         }
        },
        "xaxis": {
         "anchor": "y",
         "domain": [
          0,
          1
         ],
         "title": {
          "text": "content_rating"
         }
        },
        "yaxis": {
         "anchor": "x",
         "domain": [
          0,
          1
         ],
         "title": {
          "text": "count"
         }
        }
       }
      },
      "text/html": [
       "<div>                            <div id=\"18a281dc-e344-4ff8-982e-e11307fd50ea\" class=\"plotly-graph-div\" style=\"height:525px; width:100%;\"></div>            <script type=\"text/javascript\">                require([\"plotly\"], function(Plotly) {                    window.PLOTLYENV=window.PLOTLYENV || {};                                    if (document.getElementById(\"18a281dc-e344-4ff8-982e-e11307fd50ea\")) {                    Plotly.newPlot(                        \"18a281dc-e344-4ff8-982e-e11307fd50ea\",                        [{\"alignmentgroup\":\"True\",\"hovertemplate\":\"content_rating=%{x}<br>count=%{y}<extra></extra>\",\"legendgroup\":\"\",\"marker\":{\"color\":\"#636efa\",\"pattern\":{\"shape\":\"\"}},\"name\":\"\",\"offsetgroup\":\"\",\"orientation\":\"v\",\"showlegend\":false,\"textposition\":\"auto\",\"x\":[\"APPROVED\",\"G\",\"GP\",\"NC-17\",\"NOT RATED\",\"PASSED\",\"PG\",\"PG-13\",\"R\",\"TV-MA\",\"UNRATED\",\"X\"],\"xaxis\":\"x\",\"y\":[47,32,3,7,65,7,123,189,460,1,38,4],\"yaxis\":\"y\",\"type\":\"bar\"}],                        {\"template\":{\"data\":{\"bar\":[{\"error_x\":{\"color\":\"#2a3f5f\"},\"error_y\":{\"color\":\"#2a3f5f\"},\"marker\":{\"line\":{\"color\":\"#E5ECF6\",\"width\":0.5},\"pattern\":{\"fillmode\":\"overlay\",\"size\":10,\"solidity\":0.2}},\"type\":\"bar\"}],\"barpolar\":[{\"marker\":{\"line\":{\"color\":\"#E5ECF6\",\"width\":0.5},\"pattern\":{\"fillmode\":\"overlay\",\"size\":10,\"solidity\":0.2}},\"type\":\"barpolar\"}],\"carpet\":[{\"aaxis\":{\"endlinecolor\":\"#2a3f5f\",\"gridcolor\":\"white\",\"linecolor\":\"white\",\"minorgridcolor\":\"white\",\"startlinecolor\":\"#2a3f5f\"},\"baxis\":{\"endlinecolor\":\"#2a3f5f\",\"gridcolor\":\"white\",\"linecolor\":\"white\",\"minorgridcolor\":\"white\",\"startlinecolor\":\"#2a3f5f\"},\"type\":\"carpet\"}],\"choropleth\":[{\"colorbar\":{\"outlinewidth\":0,\"ticks\":\"\"},\"type\":\"choropleth\"}],\"contour\":[{\"colorbar\":{\"outlinewidth\":0,\"ticks\":\"\"},\"colorscale\":[[0.0,\"#0d0887\"],[0.1111111111111111,\"#46039f\"],[0.2222222222222222,\"#7201a8\"],[0.3333333333333333,\"#9c179e\"],[0.4444444444444444,\"#bd3786\"],[0.5555555555555556,\"#d8576b\"],[0.6666666666666666,\"#ed7953\"],[0.7777777777777778,\"#fb9f3a\"],[0.8888888888888888,\"#fdca26\"],[1.0,\"#f0f921\"]],\"type\":\"contour\"}],\"contourcarpet\":[{\"colorbar\":{\"outlinewidth\":0,\"ticks\":\"\"},\"type\":\"contourcarpet\"}],\"heatmap\":[{\"colorbar\":{\"outlinewidth\":0,\"ticks\":\"\"},\"colorscale\":[[0.0,\"#0d0887\"],[0.1111111111111111,\"#46039f\"],[0.2222222222222222,\"#7201a8\"],[0.3333333333333333,\"#9c179e\"],[0.4444444444444444,\"#bd3786\"],[0.5555555555555556,\"#d8576b\"],[0.6666666666666666,\"#ed7953\"],[0.7777777777777778,\"#fb9f3a\"],[0.8888888888888888,\"#fdca26\"],[1.0,\"#f0f921\"]],\"type\":\"heatmap\"}],\"heatmapgl\":[{\"colorbar\":{\"outlinewidth\":0,\"ticks\":\"\"},\"colorscale\":[[0.0,\"#0d0887\"],[0.1111111111111111,\"#46039f\"],[0.2222222222222222,\"#7201a8\"],[0.3333333333333333,\"#9c179e\"],[0.4444444444444444,\"#bd3786\"],[0.5555555555555556,\"#d8576b\"],[0.6666666666666666,\"#ed7953\"],[0.7777777777777778,\"#fb9f3a\"],[0.8888888888888888,\"#fdca26\"],[1.0,\"#f0f921\"]],\"type\":\"heatmapgl\"}],\"histogram\":[{\"marker\":{\"pattern\":{\"fillmode\":\"overlay\",\"size\":10,\"solidity\":0.2}},\"type\":\"histogram\"}],\"histogram2d\":[{\"colorbar\":{\"outlinewidth\":0,\"ticks\":\"\"},\"colorscale\":[[0.0,\"#0d0887\"],[0.1111111111111111,\"#46039f\"],[0.2222222222222222,\"#7201a8\"],[0.3333333333333333,\"#9c179e\"],[0.4444444444444444,\"#bd3786\"],[0.5555555555555556,\"#d8576b\"],[0.6666666666666666,\"#ed7953\"],[0.7777777777777778,\"#fb9f3a\"],[0.8888888888888888,\"#fdca26\"],[1.0,\"#f0f921\"]],\"type\":\"histogram2d\"}],\"histogram2dcontour\":[{\"colorbar\":{\"outlinewidth\":0,\"ticks\":\"\"},\"colorscale\":[[0.0,\"#0d0887\"],[0.1111111111111111,\"#46039f\"],[0.2222222222222222,\"#7201a8\"],[0.3333333333333333,\"#9c179e\"],[0.4444444444444444,\"#bd3786\"],[0.5555555555555556,\"#d8576b\"],[0.6666666666666666,\"#ed7953\"],[0.7777777777777778,\"#fb9f3a\"],[0.8888888888888888,\"#fdca26\"],[1.0,\"#f0f921\"]],\"type\":\"histogram2dcontour\"}],\"mesh3d\":[{\"colorbar\":{\"outlinewidth\":0,\"ticks\":\"\"},\"type\":\"mesh3d\"}],\"parcoords\":[{\"line\":{\"colorbar\":{\"outlinewidth\":0,\"ticks\":\"\"}},\"type\":\"parcoords\"}],\"pie\":[{\"automargin\":true,\"type\":\"pie\"}],\"scatter\":[{\"marker\":{\"colorbar\":{\"outlinewidth\":0,\"ticks\":\"\"}},\"type\":\"scatter\"}],\"scatter3d\":[{\"line\":{\"colorbar\":{\"outlinewidth\":0,\"ticks\":\"\"}},\"marker\":{\"colorbar\":{\"outlinewidth\":0,\"ticks\":\"\"}},\"type\":\"scatter3d\"}],\"scattercarpet\":[{\"marker\":{\"colorbar\":{\"outlinewidth\":0,\"ticks\":\"\"}},\"type\":\"scattercarpet\"}],\"scattergeo\":[{\"marker\":{\"colorbar\":{\"outlinewidth\":0,\"ticks\":\"\"}},\"type\":\"scattergeo\"}],\"scattergl\":[{\"marker\":{\"colorbar\":{\"outlinewidth\":0,\"ticks\":\"\"}},\"type\":\"scattergl\"}],\"scattermapbox\":[{\"marker\":{\"colorbar\":{\"outlinewidth\":0,\"ticks\":\"\"}},\"type\":\"scattermapbox\"}],\"scatterpolar\":[{\"marker\":{\"colorbar\":{\"outlinewidth\":0,\"ticks\":\"\"}},\"type\":\"scatterpolar\"}],\"scatterpolargl\":[{\"marker\":{\"colorbar\":{\"outlinewidth\":0,\"ticks\":\"\"}},\"type\":\"scatterpolargl\"}],\"scatterternary\":[{\"marker\":{\"colorbar\":{\"outlinewidth\":0,\"ticks\":\"\"}},\"type\":\"scatterternary\"}],\"surface\":[{\"colorbar\":{\"outlinewidth\":0,\"ticks\":\"\"},\"colorscale\":[[0.0,\"#0d0887\"],[0.1111111111111111,\"#46039f\"],[0.2222222222222222,\"#7201a8\"],[0.3333333333333333,\"#9c179e\"],[0.4444444444444444,\"#bd3786\"],[0.5555555555555556,\"#d8576b\"],[0.6666666666666666,\"#ed7953\"],[0.7777777777777778,\"#fb9f3a\"],[0.8888888888888888,\"#fdca26\"],[1.0,\"#f0f921\"]],\"type\":\"surface\"}],\"table\":[{\"cells\":{\"fill\":{\"color\":\"#EBF0F8\"},\"line\":{\"color\":\"white\"}},\"header\":{\"fill\":{\"color\":\"#C8D4E3\"},\"line\":{\"color\":\"white\"}},\"type\":\"table\"}]},\"layout\":{\"annotationdefaults\":{\"arrowcolor\":\"#2a3f5f\",\"arrowhead\":0,\"arrowwidth\":1},\"autotypenumbers\":\"strict\",\"coloraxis\":{\"colorbar\":{\"outlinewidth\":0,\"ticks\":\"\"}},\"colorscale\":{\"diverging\":[[0,\"#8e0152\"],[0.1,\"#c51b7d\"],[0.2,\"#de77ae\"],[0.3,\"#f1b6da\"],[0.4,\"#fde0ef\"],[0.5,\"#f7f7f7\"],[0.6,\"#e6f5d0\"],[0.7,\"#b8e186\"],[0.8,\"#7fbc41\"],[0.9,\"#4d9221\"],[1,\"#276419\"]],\"sequential\":[[0.0,\"#0d0887\"],[0.1111111111111111,\"#46039f\"],[0.2222222222222222,\"#7201a8\"],[0.3333333333333333,\"#9c179e\"],[0.4444444444444444,\"#bd3786\"],[0.5555555555555556,\"#d8576b\"],[0.6666666666666666,\"#ed7953\"],[0.7777777777777778,\"#fb9f3a\"],[0.8888888888888888,\"#fdca26\"],[1.0,\"#f0f921\"]],\"sequentialminus\":[[0.0,\"#0d0887\"],[0.1111111111111111,\"#46039f\"],[0.2222222222222222,\"#7201a8\"],[0.3333333333333333,\"#9c179e\"],[0.4444444444444444,\"#bd3786\"],[0.5555555555555556,\"#d8576b\"],[0.6666666666666666,\"#ed7953\"],[0.7777777777777778,\"#fb9f3a\"],[0.8888888888888888,\"#fdca26\"],[1.0,\"#f0f921\"]]},\"colorway\":[\"#636efa\",\"#EF553B\",\"#00cc96\",\"#ab63fa\",\"#FFA15A\",\"#19d3f3\",\"#FF6692\",\"#B6E880\",\"#FF97FF\",\"#FECB52\"],\"font\":{\"color\":\"#2a3f5f\"},\"geo\":{\"bgcolor\":\"white\",\"lakecolor\":\"white\",\"landcolor\":\"#E5ECF6\",\"showlakes\":true,\"showland\":true,\"subunitcolor\":\"white\"},\"hoverlabel\":{\"align\":\"left\"},\"hovermode\":\"closest\",\"mapbox\":{\"style\":\"light\"},\"paper_bgcolor\":\"white\",\"plot_bgcolor\":\"#E5ECF6\",\"polar\":{\"angularaxis\":{\"gridcolor\":\"white\",\"linecolor\":\"white\",\"ticks\":\"\"},\"bgcolor\":\"#E5ECF6\",\"radialaxis\":{\"gridcolor\":\"white\",\"linecolor\":\"white\",\"ticks\":\"\"}},\"scene\":{\"xaxis\":{\"backgroundcolor\":\"#E5ECF6\",\"gridcolor\":\"white\",\"gridwidth\":2,\"linecolor\":\"white\",\"showbackground\":true,\"ticks\":\"\",\"zerolinecolor\":\"white\"},\"yaxis\":{\"backgroundcolor\":\"#E5ECF6\",\"gridcolor\":\"white\",\"gridwidth\":2,\"linecolor\":\"white\",\"showbackground\":true,\"ticks\":\"\",\"zerolinecolor\":\"white\"},\"zaxis\":{\"backgroundcolor\":\"#E5ECF6\",\"gridcolor\":\"white\",\"gridwidth\":2,\"linecolor\":\"white\",\"showbackground\":true,\"ticks\":\"\",\"zerolinecolor\":\"white\"}},\"shapedefaults\":{\"line\":{\"color\":\"#2a3f5f\"}},\"ternary\":{\"aaxis\":{\"gridcolor\":\"white\",\"linecolor\":\"white\",\"ticks\":\"\"},\"baxis\":{\"gridcolor\":\"white\",\"linecolor\":\"white\",\"ticks\":\"\"},\"bgcolor\":\"#E5ECF6\",\"caxis\":{\"gridcolor\":\"white\",\"linecolor\":\"white\",\"ticks\":\"\"}},\"title\":{\"x\":0.05},\"xaxis\":{\"automargin\":true,\"gridcolor\":\"white\",\"linecolor\":\"white\",\"ticks\":\"\",\"title\":{\"standoff\":15},\"zerolinecolor\":\"white\",\"zerolinewidth\":2},\"yaxis\":{\"automargin\":true,\"gridcolor\":\"white\",\"linecolor\":\"white\",\"ticks\":\"\",\"title\":{\"standoff\":15},\"zerolinecolor\":\"white\",\"zerolinewidth\":2}}},\"xaxis\":{\"anchor\":\"y\",\"domain\":[0.0,1.0],\"title\":{\"text\":\"content_rating\"}},\"yaxis\":{\"anchor\":\"x\",\"domain\":[0.0,1.0],\"title\":{\"text\":\"count\"}},\"legend\":{\"tracegroupgap\":0},\"margin\":{\"t\":60},\"barmode\":\"relative\"},                        {\"responsive\": true}                    ).then(function(){\n",
       "                            \n",
       "var gd = document.getElementById('18a281dc-e344-4ff8-982e-e11307fd50ea');\n",
       "var x = new MutationObserver(function (mutations, observer) {{\n",
       "        var display = window.getComputedStyle(gd).display;\n",
       "        if (!display || display === 'none') {{\n",
       "            console.log([gd, 'removed!']);\n",
       "            Plotly.purge(gd);\n",
       "            observer.disconnect();\n",
       "        }}\n",
       "}});\n",
       "\n",
       "// Listen for the removal of the full notebook cells\n",
       "var notebookContainer = gd.closest('#notebook-container');\n",
       "if (notebookContainer) {{\n",
       "    x.observe(notebookContainer, {childList: true});\n",
       "}}\n",
       "\n",
       "// Listen for the clearing of the current output cell\n",
       "var outputEl = gd.closest('.output');\n",
       "if (outputEl) {{\n",
       "    x.observe(outputEl, {childList: true});\n",
       "}}\n",
       "\n",
       "                        })                };                });            </script>        </div>"
      ]
     },
     "metadata": {},
     "output_type": "display_data"
    }
   ],
   "source": [
    "px.bar(data, x = \"content_rating\", y = \"count\")"
   ]
  },
  {
   "cell_type": "code",
   "execution_count": 33,
   "metadata": {},
   "outputs": [],
   "source": [
    "# Answer:\n",
    "# did not figure out, px.histogram(data, x='content_rating')"
   ]
  },
  {
   "cell_type": "markdown",
   "metadata": {},
   "source": [
    "#### Convert the following content ratings to \"UNRATED\": NOT RATED, APPROVED, PASSED, GP."
   ]
  },
  {
   "cell_type": "code",
   "execution_count": 54,
   "metadata": {},
   "outputs": [
    {
     "data": {
      "text/plain": [
       "R          460\n",
       "PG-13      189\n",
       "UNRATED    150\n",
       "PG         123\n",
       "G           32\n",
       "PASSED       7\n",
       "NC-17        7\n",
       "X            4\n",
       "GP           3\n",
       "TV-MA        1\n",
       "Name: content_rating, dtype: int64"
      ]
     },
     "execution_count": 54,
     "metadata": {},
     "output_type": "execute_result"
    }
   ],
   "source": [
    "# Answer: df.replace({'A': r'^ba.$'}, {'A': 'new'}, regex=True)\n",
    "#movies.replace({'content_rating': r'Approved'}, {'content_rating': 'UNRATED'}, regex=True)\n",
    "#movies['content_rating'] = movies['content_rating'].replace(['APPROVED', 'Passed'], ['UNRATED'])\n",
    "movies['content_rating'] = movies['content_rating'].replace(['APPROVED', 'NOT RATED'], 'UNRATED')\n",
    "movies['content_rating'].value_counts()\n"
   ]
  },
  {
   "cell_type": "markdown",
   "metadata": {},
   "source": [
    "#### Convert the following content ratings to \"NC-17\": X, TV-MA."
   ]
  },
  {
   "cell_type": "code",
   "execution_count": 55,
   "metadata": {},
   "outputs": [
    {
     "data": {
      "text/plain": [
       "R          460\n",
       "PG-13      189\n",
       "UNRATED    150\n",
       "PG         123\n",
       "G           32\n",
       "NC-17       12\n",
       "PASSED       7\n",
       "GP           3\n",
       "Name: content_rating, dtype: int64"
      ]
     },
     "execution_count": 55,
     "metadata": {},
     "output_type": "execute_result"
    }
   ],
   "source": [
    "# Answer:\n",
    "movies['content_rating'] = movies['content_rating'].replace(['X', 'TV-MA'], 'NC-17')\n",
    "movies['content_rating'].value_counts()"
   ]
  },
  {
   "cell_type": "markdown",
   "metadata": {},
   "source": [
    "#### Count the number of missing values in each column."
   ]
  },
  {
   "cell_type": "code",
   "execution_count": 56,
   "metadata": {},
   "outputs": [
    {
     "data": {
      "text/plain": [
       "star_rating       0\n",
       "title             0\n",
       "content_rating    3\n",
       "genre             0\n",
       "duration          0\n",
       "actors_list       0\n",
       "count             0\n",
       "dtype: int64"
      ]
     },
     "execution_count": 56,
     "metadata": {},
     "output_type": "execute_result"
    }
   ],
   "source": [
    "# Answer:\n",
    "movies.isnull().sum()"
   ]
  },
  {
   "cell_type": "markdown",
   "metadata": {},
   "source": [
    "#### If there are missing values: examine them, then fill them in with \"reasonable\" values."
   ]
  },
  {
   "cell_type": "code",
   "execution_count": 58,
   "metadata": {},
   "outputs": [
    {
     "ename": "TypeError",
     "evalue": "isnull() takes 1 positional argument but 2 were given",
     "output_type": "error",
     "traceback": [
      "\u001b[0;31m---------------------------------------------------------------------------\u001b[0m",
      "\u001b[0;31mTypeError\u001b[0m                                 Traceback (most recent call last)",
      "\u001b[0;32m<ipython-input-58-6275b3f94313>\u001b[0m in \u001b[0;36m<module>\u001b[0;34m\u001b[0m\n\u001b[1;32m      1\u001b[0m \u001b[0;31m# Answer:\u001b[0m\u001b[0;34m\u001b[0m\u001b[0;34m\u001b[0m\u001b[0;34m\u001b[0m\u001b[0m\n\u001b[0;32m----> 2\u001b[0;31m \u001b[0mmovies\u001b[0m\u001b[0;34m.\u001b[0m\u001b[0misnull\u001b[0m\u001b[0;34m(\u001b[0m\u001b[0;32mTrue\u001b[0m\u001b[0;34m)\u001b[0m\u001b[0;34m\u001b[0m\u001b[0;34m\u001b[0m\u001b[0m\n\u001b[0m",
      "\u001b[0;31mTypeError\u001b[0m: isnull() takes 1 positional argument but 2 were given"
     ]
    }
   ],
   "source": [
    "# Answer:\n",
    "movies.isnull(True)"
   ]
  },
  {
   "cell_type": "markdown",
   "metadata": {},
   "source": [
    "#### Calculate the average star rating for movies 2 hours or longer, and compare that with the average star rating for movies shorter than 2 hours."
   ]
  },
  {
   "cell_type": "code",
   "execution_count": 66,
   "metadata": {},
   "outputs": [
    {
     "data": {
      "text/plain": [
       "star_rating      7.953670\n",
       "duration       143.385321\n",
       "count            1.000000\n",
       "dtype: float64"
      ]
     },
     "execution_count": 66,
     "metadata": {},
     "output_type": "execute_result"
    }
   ],
   "source": [
    "# Answer:\n",
    "two_hour_movie = movies[movies['duration'] > 120]\n",
    "two_hour_movie.mean()\n"
   ]
  },
  {
   "cell_type": "code",
   "execution_count": 67,
   "metadata": {},
   "outputs": [
    {
     "data": {
      "text/plain": [
       "star_rating      7.838667\n",
       "duration       102.405714\n",
       "count            1.000000\n",
       "dtype: float64"
      ]
     },
     "execution_count": 67,
     "metadata": {},
     "output_type": "execute_result"
    }
   ],
   "source": [
    "short_movie = movies[movies['duration'] < 120]\n",
    "short_movie.mean()"
   ]
  },
  {
   "cell_type": "markdown",
   "metadata": {},
   "source": [
    "#### Use a visualization to detect whether there is a relationship between duration and star rating."
   ]
  },
  {
   "cell_type": "code",
   "execution_count": null,
   "metadata": {
    "collapsed": true
   },
   "outputs": [],
   "source": [
    "# Answer:\n"
   ]
  },
  {
   "cell_type": "markdown",
   "metadata": {},
   "source": [
    "#### Calculate the average duration for each genre."
   ]
  },
  {
   "cell_type": "code",
   "execution_count": 69,
   "metadata": {},
   "outputs": [
    {
     "data": {
      "text/html": [
       "<div>\n",
       "<style scoped>\n",
       "    .dataframe tbody tr th:only-of-type {\n",
       "        vertical-align: middle;\n",
       "    }\n",
       "\n",
       "    .dataframe tbody tr th {\n",
       "        vertical-align: top;\n",
       "    }\n",
       "\n",
       "    .dataframe thead th {\n",
       "        text-align: right;\n",
       "    }\n",
       "</style>\n",
       "<table border=\"1\" class=\"dataframe\">\n",
       "  <thead>\n",
       "    <tr style=\"text-align: right;\">\n",
       "      <th></th>\n",
       "      <th>star_rating</th>\n",
       "      <th>duration</th>\n",
       "      <th>count</th>\n",
       "    </tr>\n",
       "    <tr>\n",
       "      <th>genre</th>\n",
       "      <th></th>\n",
       "      <th></th>\n",
       "      <th></th>\n",
       "    </tr>\n",
       "  </thead>\n",
       "  <tbody>\n",
       "    <tr>\n",
       "      <th>Action</th>\n",
       "      <td>7.884559</td>\n",
       "      <td>126.485294</td>\n",
       "      <td>1.0</td>\n",
       "    </tr>\n",
       "    <tr>\n",
       "      <th>Adventure</th>\n",
       "      <td>7.933333</td>\n",
       "      <td>134.840000</td>\n",
       "      <td>1.0</td>\n",
       "    </tr>\n",
       "    <tr>\n",
       "      <th>Animation</th>\n",
       "      <td>7.914516</td>\n",
       "      <td>96.596774</td>\n",
       "      <td>1.0</td>\n",
       "    </tr>\n",
       "    <tr>\n",
       "      <th>Biography</th>\n",
       "      <td>7.862338</td>\n",
       "      <td>131.844156</td>\n",
       "      <td>1.0</td>\n",
       "    </tr>\n",
       "    <tr>\n",
       "      <th>Comedy</th>\n",
       "      <td>7.822436</td>\n",
       "      <td>107.602564</td>\n",
       "      <td>1.0</td>\n",
       "    </tr>\n",
       "    <tr>\n",
       "      <th>Crime</th>\n",
       "      <td>7.916935</td>\n",
       "      <td>122.298387</td>\n",
       "      <td>1.0</td>\n",
       "    </tr>\n",
       "    <tr>\n",
       "      <th>Drama</th>\n",
       "      <td>7.902518</td>\n",
       "      <td>126.539568</td>\n",
       "      <td>1.0</td>\n",
       "    </tr>\n",
       "    <tr>\n",
       "      <th>Family</th>\n",
       "      <td>7.850000</td>\n",
       "      <td>107.500000</td>\n",
       "      <td>1.0</td>\n",
       "    </tr>\n",
       "    <tr>\n",
       "      <th>Fantasy</th>\n",
       "      <td>7.700000</td>\n",
       "      <td>112.000000</td>\n",
       "      <td>1.0</td>\n",
       "    </tr>\n",
       "    <tr>\n",
       "      <th>Film-Noir</th>\n",
       "      <td>8.033333</td>\n",
       "      <td>97.333333</td>\n",
       "      <td>1.0</td>\n",
       "    </tr>\n",
       "    <tr>\n",
       "      <th>History</th>\n",
       "      <td>8.000000</td>\n",
       "      <td>66.000000</td>\n",
       "      <td>1.0</td>\n",
       "    </tr>\n",
       "    <tr>\n",
       "      <th>Horror</th>\n",
       "      <td>7.806897</td>\n",
       "      <td>102.517241</td>\n",
       "      <td>1.0</td>\n",
       "    </tr>\n",
       "    <tr>\n",
       "      <th>Mystery</th>\n",
       "      <td>7.975000</td>\n",
       "      <td>115.625000</td>\n",
       "      <td>1.0</td>\n",
       "    </tr>\n",
       "    <tr>\n",
       "      <th>Sci-Fi</th>\n",
       "      <td>7.920000</td>\n",
       "      <td>109.000000</td>\n",
       "      <td>1.0</td>\n",
       "    </tr>\n",
       "    <tr>\n",
       "      <th>Thriller</th>\n",
       "      <td>7.680000</td>\n",
       "      <td>114.200000</td>\n",
       "      <td>1.0</td>\n",
       "    </tr>\n",
       "    <tr>\n",
       "      <th>Western</th>\n",
       "      <td>8.255556</td>\n",
       "      <td>136.666667</td>\n",
       "      <td>1.0</td>\n",
       "    </tr>\n",
       "  </tbody>\n",
       "</table>\n",
       "</div>"
      ],
      "text/plain": [
       "           star_rating    duration  count\n",
       "genre                                    \n",
       "Action        7.884559  126.485294    1.0\n",
       "Adventure     7.933333  134.840000    1.0\n",
       "Animation     7.914516   96.596774    1.0\n",
       "Biography     7.862338  131.844156    1.0\n",
       "Comedy        7.822436  107.602564    1.0\n",
       "Crime         7.916935  122.298387    1.0\n",
       "Drama         7.902518  126.539568    1.0\n",
       "Family        7.850000  107.500000    1.0\n",
       "Fantasy       7.700000  112.000000    1.0\n",
       "Film-Noir     8.033333   97.333333    1.0\n",
       "History       8.000000   66.000000    1.0\n",
       "Horror        7.806897  102.517241    1.0\n",
       "Mystery       7.975000  115.625000    1.0\n",
       "Sci-Fi        7.920000  109.000000    1.0\n",
       "Thriller      7.680000  114.200000    1.0\n",
       "Western       8.255556  136.666667    1.0"
      ]
     },
     "execution_count": 69,
     "metadata": {},
     "output_type": "execute_result"
    }
   ],
   "source": [
    "# Answer:\n",
    "\n",
    "\n",
    "movies.groupby('genre').mean()\n",
    "\n"
   ]
  },
  {
   "cell_type": "markdown",
   "metadata": {},
   "source": [
    "## Advanced level"
   ]
  },
  {
   "cell_type": "markdown",
   "metadata": {},
   "source": [
    "#### Visualize the relationship between content rating and duration."
   ]
  },
  {
   "cell_type": "code",
   "execution_count": 71,
   "metadata": {},
   "outputs": [
    {
     "data": {
      "application/vnd.plotly.v1+json": {
       "config": {
        "plotlyServerURL": "https://plot.ly"
       },
       "data": [
        {
         "alignmentgroup": "True",
         "hovertemplate": "content_rating=%{x}<br>duration=%{y}<extra></extra>",
         "legendgroup": "",
         "marker": {
          "color": "#636efa",
          "pattern": {
           "shape": ""
          }
         },
         "name": "",
         "offsetgroup": "",
         "orientation": "v",
         "showlegend": false,
         "textposition": "auto",
         "type": "bar",
         "x": [
          "R",
          "R",
          "R",
          "PG-13",
          "R",
          "UNRATED",
          "UNRATED",
          "PG-13",
          "R",
          "R",
          "PG-13",
          "PG-13",
          "PG",
          "PG-13",
          "PG-13",
          "PG-13",
          "R",
          "UNRATED",
          "R",
          "PG",
          "R",
          "R",
          "UNRATED",
          "R",
          "R",
          "PG-13",
          "PG-13",
          "R",
          "R",
          "PASSED",
          "PG",
          "R",
          "PG",
          "R",
          "R",
          "G",
          "R",
          "PG",
          "UNRATED",
          "R",
          "R",
          "UNRATED",
          "R",
          "PG-13",
          "R",
          "R",
          "R",
          "PG",
          "PG",
          "R",
          "R",
          "R",
          "UNRATED",
          "PG-13",
          "PG",
          "G",
          "R",
          "R",
          "UNRATED",
          "R",
          "PG-13",
          "UNRATED",
          "R",
          "UNRATED",
          "G",
          "UNRATED",
          "UNRATED",
          "R",
          "R",
          "PG-13",
          "R",
          "UNRATED",
          "UNRATED",
          "PG-13",
          "UNRATED",
          "R",
          "UNRATED",
          "R",
          "R",
          "PASSED",
          "PG",
          "G",
          "R",
          "UNRATED",
          "R",
          "PG",
          "NC-17",
          "UNRATED",
          "UNRATED",
          "UNRATED",
          "R",
          "R",
          "R",
          "UNRATED",
          "UNRATED",
          "UNRATED",
          "UNRATED",
          "PG",
          "UNRATED",
          "R",
          "UNRATED",
          "PG",
          "R",
          "UNRATED",
          "UNRATED",
          "UNRATED",
          "R",
          "UNRATED",
          "UNRATED",
          "UNRATED",
          "G",
          "UNRATED",
          "R",
          "PG-13",
          "R",
          "R",
          "UNRATED",
          "G",
          "PG-13",
          "R",
          "UNRATED",
          "R",
          "UNRATED",
          "UNRATED",
          "R",
          "R",
          "PG",
          "UNRATED",
          "UNRATED",
          "R",
          "R",
          "G",
          "UNRATED",
          "UNRATED",
          "UNRATED",
          "R",
          "R",
          "PG",
          "R",
          "R",
          "UNRATED",
          "R",
          "PG",
          "R",
          "UNRATED",
          "R",
          "PG-13",
          "PG",
          "PG",
          "UNRATED",
          "R",
          "R",
          "R",
          "R",
          "PG",
          "R",
          "R",
          "G",
          "R",
          "PASSED",
          "PG",
          "UNRATED",
          "R",
          "R",
          "R",
          "UNRATED",
          "R",
          "UNRATED",
          "G",
          "UNRATED",
          "PG-13",
          "PG",
          "R",
          "R",
          "UNRATED",
          "PG-13",
          "R",
          "PG-13",
          "UNRATED",
          "PG",
          "PG-13",
          "UNRATED",
          "UNRATED",
          "UNRATED",
          "R",
          "R",
          "R",
          null,
          "UNRATED",
          "R",
          "R",
          "PG-13",
          "G",
          "PG",
          "R",
          "R",
          "PG-13",
          "R",
          "R",
          "R",
          "PG",
          "R",
          "R",
          "UNRATED",
          "G",
          "R",
          "R",
          "UNRATED",
          "PG",
          "PG-13",
          "UNRATED",
          "PG-13",
          "R",
          "R",
          "R",
          "UNRATED",
          "R",
          "UNRATED",
          "R",
          "NC-17",
          "PG",
          "PG",
          "PG-13",
          "R",
          "PASSED",
          "R",
          "R",
          "PG-13",
          "R",
          "UNRATED",
          "UNRATED",
          "UNRATED",
          "PG-13",
          "UNRATED",
          "UNRATED",
          "R",
          "PG",
          "UNRATED",
          "R",
          "UNRATED",
          "PG-13",
          "PG",
          "R",
          "R",
          "R",
          "PG",
          "UNRATED",
          "R",
          "PG-13",
          "PG",
          "PG",
          "UNRATED",
          "UNRATED",
          "UNRATED",
          "UNRATED",
          "UNRATED",
          "R",
          "UNRATED",
          "UNRATED",
          "PG-13",
          "PG-13",
          "R",
          "UNRATED",
          "UNRATED",
          "R",
          "UNRATED",
          "PG",
          "PG",
          "R",
          "PG",
          "PG-13",
          "PG-13",
          "UNRATED",
          "R",
          "R",
          "PG",
          "R",
          "G",
          "R",
          "PG-13",
          "PG",
          "R",
          "GP",
          "R",
          "PG",
          "UNRATED",
          "PG-13",
          "UNRATED",
          "R",
          "UNRATED",
          "R",
          "UNRATED",
          "UNRATED",
          "PASSED",
          "G",
          "PG",
          "R",
          "PG",
          "UNRATED",
          "PG-13",
          "R",
          "PG-13",
          "GP",
          "PG",
          "PG",
          "PG-13",
          "R",
          "PG",
          "R",
          "R",
          "PG-13",
          "R",
          "PG-13",
          "G",
          "PG-13",
          "UNRATED",
          "R",
          "UNRATED",
          "R",
          "R",
          "R",
          "R",
          "R",
          "R",
          "R",
          "R",
          "R",
          "PG",
          "UNRATED",
          "UNRATED",
          "UNRATED",
          "R",
          "G",
          "UNRATED",
          "R",
          "PG-13",
          "PG",
          "R",
          "UNRATED",
          "PG-13",
          "PG-13",
          "PG-13",
          "PG",
          "UNRATED",
          "R",
          "R",
          "R",
          "PG",
          "G",
          "R",
          "UNRATED",
          "UNRATED",
          "R",
          "UNRATED",
          "R",
          "R",
          "PG-13",
          "G",
          "PASSED",
          "PG-13",
          "R",
          "G",
          "PG-13",
          "R",
          "R",
          "R",
          "PG-13",
          "R",
          "G",
          "R",
          "PG-13",
          "R",
          "R",
          "PG-13",
          "R",
          "R",
          "UNRATED",
          "PG-13",
          "PG",
          "PG-13",
          "PG-13",
          "PG",
          "R",
          "R",
          "UNRATED",
          "PG-13",
          "PG",
          "NC-17",
          "R",
          "UNRATED",
          "R",
          "PG-13",
          "R",
          "PG",
          "R",
          "PG",
          "R",
          "PG-13",
          "PG",
          "R",
          "PG-13",
          "R",
          "R",
          "PG-13",
          "PG",
          "UNRATED",
          "R",
          "R",
          "PG-13",
          "R",
          "UNRATED",
          "PG-13",
          "UNRATED",
          "R",
          "G",
          "R",
          "R",
          "R",
          "R",
          "UNRATED",
          "PG",
          "PG",
          "R",
          "R",
          "R",
          "PG",
          "R",
          "UNRATED",
          "PG-13",
          "R",
          "R",
          "R",
          "R",
          "PG-13",
          "PG-13",
          "R",
          "R",
          "PG-13",
          "R",
          "PG-13",
          "R",
          "R",
          "PG-13",
          "PG",
          "UNRATED",
          "UNRATED",
          "R",
          "PG-13",
          "PG",
          "R",
          "R",
          "UNRATED",
          "R",
          "UNRATED",
          "R",
          "PG-13",
          "NC-17",
          "R",
          "R",
          "PG-13",
          "PG-13",
          "G",
          "R",
          "R",
          "R",
          "R",
          "R",
          "UNRATED",
          "PG",
          "R",
          "R",
          "PG",
          "UNRATED",
          "R",
          "R",
          "R",
          "PG-13",
          "PG-13",
          "UNRATED",
          "R",
          "R",
          "UNRATED",
          "R",
          "R",
          "UNRATED",
          "R",
          "NC-17",
          "PG-13",
          "PG-13",
          "PG-13",
          "R",
          "UNRATED",
          "R",
          "R",
          "PG",
          "PG",
          "R",
          "G",
          "G",
          "PG-13",
          "R",
          "PG",
          "R",
          "PG-13",
          "PG",
          "R",
          "R",
          "PG-13",
          "PG-13",
          "R",
          "PG-13",
          "PG-13",
          "PG",
          "UNRATED",
          "PG",
          "R",
          "PG",
          "PG-13",
          "PG",
          "R",
          "PG",
          "UNRATED",
          "PG-13",
          "UNRATED",
          "PG",
          "PG",
          "UNRATED",
          "R",
          "UNRATED",
          "R",
          "R",
          "UNRATED",
          "PG-13",
          "R",
          "G",
          "PG",
          "PG-13",
          "PG",
          "R",
          "PG-13",
          "PG-13",
          "R",
          "PG-13",
          "R",
          "R",
          "R",
          "UNRATED",
          "PG",
          "R",
          "R",
          "PG-13",
          "PG",
          "R",
          "R",
          "PG-13",
          "R",
          "R",
          "UNRATED",
          "R",
          "R",
          "R",
          "R",
          "PG-13",
          "UNRATED",
          "R",
          "PG",
          "R",
          "PG-13",
          "PG-13",
          "PG-13",
          "R",
          "R",
          "PG-13",
          "UNRATED",
          "R",
          "UNRATED",
          "R",
          "PG-13",
          "PG-13",
          "PG-13",
          "PG",
          "R",
          "UNRATED",
          "R",
          "R",
          "PG",
          "PG",
          "R",
          "R",
          "R",
          "PG",
          "PG-13",
          "UNRATED",
          "R",
          "R",
          "PG",
          "R",
          "R",
          "R",
          "R",
          "R",
          "R",
          "R",
          "R",
          "NC-17",
          "PG-13",
          "R",
          "R",
          "R",
          "R",
          "R",
          "R",
          "UNRATED",
          "R",
          "R",
          "R",
          "R",
          "PG",
          "UNRATED",
          "PASSED",
          "PG-13",
          "R",
          "PG-13",
          "PG-13",
          "R",
          "G",
          "PG-13",
          "PG-13",
          "R",
          "PG-13",
          "PG-13",
          "UNRATED",
          "R",
          "R",
          "PG",
          "R",
          "R",
          "R",
          "R",
          "PG-13",
          "R",
          "PG",
          "PG-13",
          "PG-13",
          "PG-13",
          "PG",
          "R",
          "UNRATED",
          "R",
          null,
          "R",
          "R",
          "UNRATED",
          "PG-13",
          "R",
          "R",
          "UNRATED",
          "PG",
          "PG-13",
          "R",
          "PG-13",
          "PG-13",
          "PG-13",
          "R",
          "PG",
          "UNRATED",
          "R",
          "PG-13",
          "G",
          "PG",
          "R",
          "R",
          "R",
          "UNRATED",
          "G",
          "R",
          "R",
          "R",
          "PG-13",
          "PG-13",
          "PG-13",
          "R",
          "PG-13",
          "R",
          "PG-13",
          "R",
          "PG-13",
          "UNRATED",
          "R",
          "PG-13",
          "R",
          "GP",
          "R",
          "R",
          "R",
          "R",
          "PG-13",
          "R",
          "R",
          "PG-13",
          "R",
          "R",
          "R",
          "UNRATED",
          "R",
          "PG-13",
          "PG-13",
          "R",
          "R",
          "PG-13",
          "R",
          "R",
          "R",
          "UNRATED",
          "R",
          "NC-17",
          "R",
          "R",
          "PG-13",
          "R",
          "R",
          "R",
          "R",
          "R",
          "R",
          "R",
          "PG-13",
          "PG-13",
          "R",
          "R",
          "UNRATED",
          "R",
          "R",
          "R",
          "R",
          "PG-13",
          "PG-13",
          "PG",
          "R",
          "R",
          "R",
          "R",
          "R",
          "PG",
          "R",
          "R",
          "R",
          "R",
          "PG",
          "R",
          "R",
          "PG-13",
          "R",
          "PG",
          "PG",
          "NC-17",
          "PG-13",
          "UNRATED",
          "PG-13",
          "G",
          "R",
          "R",
          "R",
          "UNRATED",
          "PG",
          "R",
          "G",
          "UNRATED",
          "R",
          "R",
          "R",
          "R",
          "PG",
          "R",
          "R",
          "PG",
          "PG-13",
          "PG-13",
          "R",
          "R",
          "R",
          "R",
          "PG-13",
          "R",
          "R",
          "R",
          "R",
          "PG-13",
          "R",
          "PG",
          "PG-13",
          "R",
          "R",
          "R",
          "PG",
          "R",
          "NC-17",
          "R",
          "R",
          "R",
          "PG",
          "PG-13",
          "UNRATED",
          "R",
          "PG-13",
          "PG-13",
          "PG-13",
          "R",
          "R",
          "PG-13",
          "PG-13",
          "R",
          "PG-13",
          "PG",
          "PG-13",
          "R",
          "PG",
          "PG-13",
          "R",
          "R",
          "G",
          "PG-13",
          "PG",
          "UNRATED",
          "PG-13",
          "PG",
          "R",
          "UNRATED",
          "R",
          "R",
          "R",
          "R",
          "R",
          "R",
          "R",
          "PG",
          "R",
          "R",
          "PG-13",
          "R",
          "R",
          "R",
          "R",
          "R",
          "UNRATED",
          "PG-13",
          "R",
          "R",
          "PG",
          "PG-13",
          "PG",
          "PG-13",
          "PG",
          "PG",
          "PG",
          "R",
          "PG-13",
          "PG-13",
          "PG-13",
          "PG-13",
          "R",
          "R",
          "R",
          "R",
          "R",
          "PG-13",
          "UNRATED",
          "PG-13",
          "PG-13",
          "R",
          "R",
          "PG-13",
          "R",
          "R",
          "PG-13",
          "R",
          "PG-13",
          "R",
          "R",
          "R",
          "R",
          "R",
          "G",
          "R",
          "R",
          "R",
          "R",
          "R",
          "PG-13",
          "R",
          "R",
          "PG",
          "R",
          "R",
          "PG-13",
          "R",
          "UNRATED",
          "R",
          "PG",
          "UNRATED",
          "R",
          "R",
          "R",
          "R",
          "R",
          "R",
          "R",
          "R",
          "PG",
          "PG",
          "R",
          "R",
          "R",
          "NC-17",
          "R",
          "NC-17",
          "R",
          "R",
          "R",
          "R",
          "R",
          "R",
          "PG-13",
          "PG-13",
          "PG-13",
          "R",
          "R",
          "R",
          "R",
          "PG-13",
          "R",
          "R",
          "PG-13",
          "PG",
          "PG-13",
          "R",
          null,
          "PG",
          "G",
          "R",
          "PG-13",
          "PG",
          "PG-13",
          "PG-13",
          "R",
          "R",
          "PG-13",
          "UNRATED",
          "R",
          "PG",
          "R",
          "R",
          "R",
          "PG",
          "PG-13",
          "R",
          "PG",
          "R",
          "PG-13",
          "R",
          "PG-13",
          "R",
          "PG",
          "R",
          "PG-13",
          "PG-13",
          "PG-13",
          "R",
          "R",
          "R",
          "R",
          "R",
          "NC-17",
          "PG-13",
          "PG",
          "PG",
          "PG-13",
          "PG",
          "R"
         ],
         "xaxis": "x",
         "y": [
          142,
          175,
          200,
          152,
          154,
          96,
          161,
          201,
          195,
          139,
          178,
          148,
          124,
          142,
          179,
          169,
          133,
          207,
          146,
          121,
          136,
          130,
          130,
          106,
          127,
          116,
          175,
          118,
          110,
          87,
          125,
          112,
          102,
          107,
          119,
          87,
          169,
          115,
          112,
          109,
          189,
          110,
          150,
          165,
          155,
          137,
          113,
          165,
          95,
          151,
          155,
          153,
          125,
          130,
          116,
          89,
          137,
          117,
          88,
          165,
          170,
          89,
          146,
          99,
          98,
          116,
          156,
          122,
          149,
          134,
          122,
          136,
          157,
          123,
          119,
          137,
          128,
          120,
          229,
          107,
          134,
          103,
          177,
          129,
          102,
          216,
          136,
          93,
          68,
          189,
          99,
          108,
          113,
          181,
          103,
          138,
          110,
          129,
          88,
          160,
          126,
          91,
          116,
          125,
          143,
          93,
          102,
          132,
          153,
          183,
          160,
          120,
          138,
          140,
          153,
          170,
          129,
          81,
          127,
          131,
          172,
          115,
          108,
          107,
          129,
          156,
          96,
          91,
          95,
          162,
          130,
          86,
          186,
          151,
          96,
          170,
          118,
          161,
          131,
          126,
          131,
          129,
          224,
          180,
          105,
          117,
          140,
          119,
          124,
          130,
          139,
          107,
          132,
          117,
          126,
          122,
          178,
          238,
          149,
          172,
          98,
          116,
          116,
          123,
          148,
          123,
          182,
          92,
          93,
          100,
          135,
          105,
          94,
          140,
          83,
          95,
          98,
          143,
          99,
          98,
          121,
          163,
          121,
          167,
          188,
          121,
          109,
          110,
          129,
          127,
          94,
          107,
          100,
          117,
          129,
          120,
          121,
          133,
          111,
          122,
          101,
          134,
          165,
          138,
          212,
          154,
          89,
          134,
          93,
          114,
          88,
          130,
          101,
          158,
          99,
          108,
          124,
          132,
          113,
          131,
          191,
          167,
          130,
          147,
          102,
          88,
          165,
          132,
          118,
          101,
          108,
          174,
          98,
          92,
          98,
          106,
          85,
          101,
          105,
          115,
          115,
          124,
          105,
          103,
          138,
          184,
          120,
          99,
          131,
          138,
          98,
          123,
          118,
          114,
          118,
          112,
          124,
          160,
          67,
          146,
          125,
          115,
          134,
          141,
          129,
          104,
          94,
          124,
          150,
          119,
          128,
          143,
          85,
          151,
          118,
          101,
          99,
          92,
          125,
          102,
          106,
          107,
          91,
          80,
          122,
          102,
          112,
          92,
          135,
          136,
          153,
          105,
          126,
          68,
          84,
          103,
          145,
          80,
          106,
          127,
          178,
          137,
          172,
          76,
          130,
          96,
          82,
          115,
          95,
          143,
          125,
          120,
          127,
          112,
          104,
          113,
          189,
          127,
          188,
          96,
          113,
          132,
          122,
          126,
          140,
          133,
          112,
          102,
          93,
          109,
          81,
          108,
          111,
          119,
          96,
          197,
          127,
          138,
          66,
          181,
          141,
          144,
          128,
          83,
          121,
          98,
          117,
          94,
          174,
          112,
          108,
          70,
          99,
          96,
          137,
          136,
          100,
          90,
          96,
          161,
          115,
          181,
          169,
          98,
          136,
          138,
          119,
          123,
          112,
          120,
          103,
          97,
          109,
          165,
          156,
          147,
          100,
          126,
          115,
          105,
          144,
          102,
          107,
          119,
          90,
          197,
          86,
          113,
          133,
          64,
          141,
          113,
          122,
          105,
          119,
          102,
          122,
          123,
          113,
          97,
          117,
          111,
          85,
          99,
          134,
          75,
          109,
          117,
          91,
          128,
          111,
          119,
          100,
          114,
          92,
          141,
          101,
          115,
          127,
          96,
          129,
          135,
          109,
          157,
          193,
          94,
          155,
          113,
          130,
          117,
          159,
          141,
          112,
          162,
          126,
          120,
          144,
          120,
          109,
          97,
          108,
          115,
          136,
          90,
          170,
          220,
          116,
          134,
          124,
          91,
          103,
          96,
          119,
          98,
          101,
          93,
          179,
          155,
          121,
          103,
          127,
          103,
          107,
          100,
          92,
          94,
          158,
          86,
          115,
          130,
          107,
          100,
          108,
          124,
          131,
          122,
          242,
          127,
          141,
          126,
          89,
          113,
          152,
          107,
          92,
          145,
          84,
          126,
          132,
          78,
          117,
          128,
          100,
          128,
          100,
          143,
          107,
          100,
          125,
          106,
          157,
          94,
          104,
          94,
          153,
          123,
          120,
          105,
          166,
          112,
          94,
          111,
          87,
          80,
          108,
          102,
          105,
          136,
          101,
          100,
          108,
          101,
          106,
          105,
          88,
          129,
          138,
          129,
          118,
          139,
          123,
          150,
          132,
          80,
          178,
          79,
          163,
          114,
          144,
          130,
          154,
          81,
          95,
          101,
          120,
          93,
          115,
          106,
          120,
          110,
          123,
          142,
          99,
          112,
          120,
          122,
          130,
          139,
          129,
          141,
          127,
          130,
          118,
          110,
          115,
          101,
          112,
          108,
          143,
          152,
          117,
          121,
          119,
          114,
          122,
          105,
          110,
          116,
          139,
          121,
          109,
          146,
          113,
          100,
          121,
          113,
          113,
          117,
          93,
          101,
          90,
          131,
          98,
          93,
          121,
          82,
          124,
          100,
          117,
          99,
          116,
          123,
          114,
          133,
          105,
          127,
          144,
          90,
          118,
          122,
          102,
          187,
          87,
          154,
          89,
          88,
          129,
          95,
          118,
          98,
          194,
          114,
          80,
          130,
          135,
          101,
          105,
          129,
          134,
          143,
          202,
          89,
          106,
          92,
          137,
          124,
          122,
          113,
          112,
          110,
          135,
          88,
          146,
          104,
          125,
          131,
          91,
          142,
          129,
          158,
          102,
          99,
          101,
          104,
          119,
          103,
          88,
          100,
          146,
          150,
          140,
          140,
          110,
          97,
          102,
          152,
          100,
          94,
          85,
          104,
          112,
          191,
          119,
          111,
          94,
          103,
          134,
          157,
          158,
          127,
          101,
          109,
          98,
          134,
          168,
          93,
          145,
          111,
          88,
          123,
          121,
          144,
          116,
          124,
          147,
          106,
          113,
          129,
          94,
          126,
          128,
          111,
          146,
          85,
          105,
          132,
          130,
          162,
          113,
          110,
          113,
          162,
          110,
          78,
          92,
          95,
          138,
          102,
          128,
          96,
          164,
          126,
          110,
          109,
          122,
          124,
          128,
          157,
          120,
          102,
          152,
          170,
          102,
          116,
          164,
          85,
          104,
          99,
          81,
          131,
          101,
          121,
          69,
          92,
          94,
          141,
          116,
          98,
          135,
          121,
          108,
          114,
          102,
          112,
          140,
          157,
          128,
          108,
          139,
          83,
          131,
          113,
          136,
          96,
          118,
          108,
          83,
          205,
          124,
          111,
          137,
          104,
          109,
          115,
          99,
          114,
          133,
          131,
          131,
          123,
          126,
          97,
          126,
          89,
          122,
          121,
          125,
          105,
          118,
          81,
          115,
          126,
          113,
          107,
          126,
          111,
          85,
          120,
          93,
          100,
          107,
          126,
          131,
          116,
          143,
          93,
          96,
          160,
          137,
          119,
          114,
          98,
          111,
          138,
          144,
          107,
          114,
          125,
          146,
          113,
          85,
          97,
          93,
          113,
          128,
          114,
          147,
          127,
          167,
          124,
          109,
          124,
          102,
          130,
          125,
          98,
          154,
          97,
          128,
          98,
          101,
          147,
          172,
          125,
          88,
          125,
          121,
          112,
          120,
          133,
          110,
          135,
          110,
          80,
          135,
          101,
          112,
          124,
          129,
          104,
          96,
          105,
          109,
          117,
          78,
          138,
          106,
          90,
          106,
          91,
          112,
          134,
          112,
          104,
          101,
          120,
          123,
          133,
          110,
          129,
          120,
          83,
          88,
          96,
          139,
          113,
          84,
          106,
          170,
          144,
          104,
          153,
          85,
          130,
          93,
          148,
          115,
          102,
          125,
          106,
          121,
          143,
          116,
          99,
          116,
          128,
          119,
          104,
          114,
          152,
          129,
          103,
          112,
          92,
          141,
          106,
          109,
          104,
          122,
          111,
          112,
          116,
          130,
          133,
          134,
          92,
          104,
          110,
          97,
          100,
          118,
          112,
          138,
          92,
          118,
          140,
          128,
          101,
          75,
          97,
          111,
          175,
          94,
          97,
          132,
          120,
          107,
          89,
          86,
          103,
          108,
          105,
          117,
          102,
          104,
          157,
          104,
          98,
          109,
          96,
          103,
          114,
          99,
          118,
          150,
          105,
          87,
          136,
          162,
          109,
          107,
          90,
          112,
          126,
          116,
          118,
          138,
          114,
          126
         ],
         "yaxis": "y"
        }
       ],
       "layout": {
        "barmode": "relative",
        "legend": {
         "tracegroupgap": 0
        },
        "margin": {
         "t": 60
        },
        "template": {
         "data": {
          "bar": [
           {
            "error_x": {
             "color": "#2a3f5f"
            },
            "error_y": {
             "color": "#2a3f5f"
            },
            "marker": {
             "line": {
              "color": "#E5ECF6",
              "width": 0.5
             },
             "pattern": {
              "fillmode": "overlay",
              "size": 10,
              "solidity": 0.2
             }
            },
            "type": "bar"
           }
          ],
          "barpolar": [
           {
            "marker": {
             "line": {
              "color": "#E5ECF6",
              "width": 0.5
             },
             "pattern": {
              "fillmode": "overlay",
              "size": 10,
              "solidity": 0.2
             }
            },
            "type": "barpolar"
           }
          ],
          "carpet": [
           {
            "aaxis": {
             "endlinecolor": "#2a3f5f",
             "gridcolor": "white",
             "linecolor": "white",
             "minorgridcolor": "white",
             "startlinecolor": "#2a3f5f"
            },
            "baxis": {
             "endlinecolor": "#2a3f5f",
             "gridcolor": "white",
             "linecolor": "white",
             "minorgridcolor": "white",
             "startlinecolor": "#2a3f5f"
            },
            "type": "carpet"
           }
          ],
          "choropleth": [
           {
            "colorbar": {
             "outlinewidth": 0,
             "ticks": ""
            },
            "type": "choropleth"
           }
          ],
          "contour": [
           {
            "colorbar": {
             "outlinewidth": 0,
             "ticks": ""
            },
            "colorscale": [
             [
              0,
              "#0d0887"
             ],
             [
              0.1111111111111111,
              "#46039f"
             ],
             [
              0.2222222222222222,
              "#7201a8"
             ],
             [
              0.3333333333333333,
              "#9c179e"
             ],
             [
              0.4444444444444444,
              "#bd3786"
             ],
             [
              0.5555555555555556,
              "#d8576b"
             ],
             [
              0.6666666666666666,
              "#ed7953"
             ],
             [
              0.7777777777777778,
              "#fb9f3a"
             ],
             [
              0.8888888888888888,
              "#fdca26"
             ],
             [
              1,
              "#f0f921"
             ]
            ],
            "type": "contour"
           }
          ],
          "contourcarpet": [
           {
            "colorbar": {
             "outlinewidth": 0,
             "ticks": ""
            },
            "type": "contourcarpet"
           }
          ],
          "heatmap": [
           {
            "colorbar": {
             "outlinewidth": 0,
             "ticks": ""
            },
            "colorscale": [
             [
              0,
              "#0d0887"
             ],
             [
              0.1111111111111111,
              "#46039f"
             ],
             [
              0.2222222222222222,
              "#7201a8"
             ],
             [
              0.3333333333333333,
              "#9c179e"
             ],
             [
              0.4444444444444444,
              "#bd3786"
             ],
             [
              0.5555555555555556,
              "#d8576b"
             ],
             [
              0.6666666666666666,
              "#ed7953"
             ],
             [
              0.7777777777777778,
              "#fb9f3a"
             ],
             [
              0.8888888888888888,
              "#fdca26"
             ],
             [
              1,
              "#f0f921"
             ]
            ],
            "type": "heatmap"
           }
          ],
          "heatmapgl": [
           {
            "colorbar": {
             "outlinewidth": 0,
             "ticks": ""
            },
            "colorscale": [
             [
              0,
              "#0d0887"
             ],
             [
              0.1111111111111111,
              "#46039f"
             ],
             [
              0.2222222222222222,
              "#7201a8"
             ],
             [
              0.3333333333333333,
              "#9c179e"
             ],
             [
              0.4444444444444444,
              "#bd3786"
             ],
             [
              0.5555555555555556,
              "#d8576b"
             ],
             [
              0.6666666666666666,
              "#ed7953"
             ],
             [
              0.7777777777777778,
              "#fb9f3a"
             ],
             [
              0.8888888888888888,
              "#fdca26"
             ],
             [
              1,
              "#f0f921"
             ]
            ],
            "type": "heatmapgl"
           }
          ],
          "histogram": [
           {
            "marker": {
             "pattern": {
              "fillmode": "overlay",
              "size": 10,
              "solidity": 0.2
             }
            },
            "type": "histogram"
           }
          ],
          "histogram2d": [
           {
            "colorbar": {
             "outlinewidth": 0,
             "ticks": ""
            },
            "colorscale": [
             [
              0,
              "#0d0887"
             ],
             [
              0.1111111111111111,
              "#46039f"
             ],
             [
              0.2222222222222222,
              "#7201a8"
             ],
             [
              0.3333333333333333,
              "#9c179e"
             ],
             [
              0.4444444444444444,
              "#bd3786"
             ],
             [
              0.5555555555555556,
              "#d8576b"
             ],
             [
              0.6666666666666666,
              "#ed7953"
             ],
             [
              0.7777777777777778,
              "#fb9f3a"
             ],
             [
              0.8888888888888888,
              "#fdca26"
             ],
             [
              1,
              "#f0f921"
             ]
            ],
            "type": "histogram2d"
           }
          ],
          "histogram2dcontour": [
           {
            "colorbar": {
             "outlinewidth": 0,
             "ticks": ""
            },
            "colorscale": [
             [
              0,
              "#0d0887"
             ],
             [
              0.1111111111111111,
              "#46039f"
             ],
             [
              0.2222222222222222,
              "#7201a8"
             ],
             [
              0.3333333333333333,
              "#9c179e"
             ],
             [
              0.4444444444444444,
              "#bd3786"
             ],
             [
              0.5555555555555556,
              "#d8576b"
             ],
             [
              0.6666666666666666,
              "#ed7953"
             ],
             [
              0.7777777777777778,
              "#fb9f3a"
             ],
             [
              0.8888888888888888,
              "#fdca26"
             ],
             [
              1,
              "#f0f921"
             ]
            ],
            "type": "histogram2dcontour"
           }
          ],
          "mesh3d": [
           {
            "colorbar": {
             "outlinewidth": 0,
             "ticks": ""
            },
            "type": "mesh3d"
           }
          ],
          "parcoords": [
           {
            "line": {
             "colorbar": {
              "outlinewidth": 0,
              "ticks": ""
             }
            },
            "type": "parcoords"
           }
          ],
          "pie": [
           {
            "automargin": true,
            "type": "pie"
           }
          ],
          "scatter": [
           {
            "marker": {
             "colorbar": {
              "outlinewidth": 0,
              "ticks": ""
             }
            },
            "type": "scatter"
           }
          ],
          "scatter3d": [
           {
            "line": {
             "colorbar": {
              "outlinewidth": 0,
              "ticks": ""
             }
            },
            "marker": {
             "colorbar": {
              "outlinewidth": 0,
              "ticks": ""
             }
            },
            "type": "scatter3d"
           }
          ],
          "scattercarpet": [
           {
            "marker": {
             "colorbar": {
              "outlinewidth": 0,
              "ticks": ""
             }
            },
            "type": "scattercarpet"
           }
          ],
          "scattergeo": [
           {
            "marker": {
             "colorbar": {
              "outlinewidth": 0,
              "ticks": ""
             }
            },
            "type": "scattergeo"
           }
          ],
          "scattergl": [
           {
            "marker": {
             "colorbar": {
              "outlinewidth": 0,
              "ticks": ""
             }
            },
            "type": "scattergl"
           }
          ],
          "scattermapbox": [
           {
            "marker": {
             "colorbar": {
              "outlinewidth": 0,
              "ticks": ""
             }
            },
            "type": "scattermapbox"
           }
          ],
          "scatterpolar": [
           {
            "marker": {
             "colorbar": {
              "outlinewidth": 0,
              "ticks": ""
             }
            },
            "type": "scatterpolar"
           }
          ],
          "scatterpolargl": [
           {
            "marker": {
             "colorbar": {
              "outlinewidth": 0,
              "ticks": ""
             }
            },
            "type": "scatterpolargl"
           }
          ],
          "scatterternary": [
           {
            "marker": {
             "colorbar": {
              "outlinewidth": 0,
              "ticks": ""
             }
            },
            "type": "scatterternary"
           }
          ],
          "surface": [
           {
            "colorbar": {
             "outlinewidth": 0,
             "ticks": ""
            },
            "colorscale": [
             [
              0,
              "#0d0887"
             ],
             [
              0.1111111111111111,
              "#46039f"
             ],
             [
              0.2222222222222222,
              "#7201a8"
             ],
             [
              0.3333333333333333,
              "#9c179e"
             ],
             [
              0.4444444444444444,
              "#bd3786"
             ],
             [
              0.5555555555555556,
              "#d8576b"
             ],
             [
              0.6666666666666666,
              "#ed7953"
             ],
             [
              0.7777777777777778,
              "#fb9f3a"
             ],
             [
              0.8888888888888888,
              "#fdca26"
             ],
             [
              1,
              "#f0f921"
             ]
            ],
            "type": "surface"
           }
          ],
          "table": [
           {
            "cells": {
             "fill": {
              "color": "#EBF0F8"
             },
             "line": {
              "color": "white"
             }
            },
            "header": {
             "fill": {
              "color": "#C8D4E3"
             },
             "line": {
              "color": "white"
             }
            },
            "type": "table"
           }
          ]
         },
         "layout": {
          "annotationdefaults": {
           "arrowcolor": "#2a3f5f",
           "arrowhead": 0,
           "arrowwidth": 1
          },
          "autotypenumbers": "strict",
          "coloraxis": {
           "colorbar": {
            "outlinewidth": 0,
            "ticks": ""
           }
          },
          "colorscale": {
           "diverging": [
            [
             0,
             "#8e0152"
            ],
            [
             0.1,
             "#c51b7d"
            ],
            [
             0.2,
             "#de77ae"
            ],
            [
             0.3,
             "#f1b6da"
            ],
            [
             0.4,
             "#fde0ef"
            ],
            [
             0.5,
             "#f7f7f7"
            ],
            [
             0.6,
             "#e6f5d0"
            ],
            [
             0.7,
             "#b8e186"
            ],
            [
             0.8,
             "#7fbc41"
            ],
            [
             0.9,
             "#4d9221"
            ],
            [
             1,
             "#276419"
            ]
           ],
           "sequential": [
            [
             0,
             "#0d0887"
            ],
            [
             0.1111111111111111,
             "#46039f"
            ],
            [
             0.2222222222222222,
             "#7201a8"
            ],
            [
             0.3333333333333333,
             "#9c179e"
            ],
            [
             0.4444444444444444,
             "#bd3786"
            ],
            [
             0.5555555555555556,
             "#d8576b"
            ],
            [
             0.6666666666666666,
             "#ed7953"
            ],
            [
             0.7777777777777778,
             "#fb9f3a"
            ],
            [
             0.8888888888888888,
             "#fdca26"
            ],
            [
             1,
             "#f0f921"
            ]
           ],
           "sequentialminus": [
            [
             0,
             "#0d0887"
            ],
            [
             0.1111111111111111,
             "#46039f"
            ],
            [
             0.2222222222222222,
             "#7201a8"
            ],
            [
             0.3333333333333333,
             "#9c179e"
            ],
            [
             0.4444444444444444,
             "#bd3786"
            ],
            [
             0.5555555555555556,
             "#d8576b"
            ],
            [
             0.6666666666666666,
             "#ed7953"
            ],
            [
             0.7777777777777778,
             "#fb9f3a"
            ],
            [
             0.8888888888888888,
             "#fdca26"
            ],
            [
             1,
             "#f0f921"
            ]
           ]
          },
          "colorway": [
           "#636efa",
           "#EF553B",
           "#00cc96",
           "#ab63fa",
           "#FFA15A",
           "#19d3f3",
           "#FF6692",
           "#B6E880",
           "#FF97FF",
           "#FECB52"
          ],
          "font": {
           "color": "#2a3f5f"
          },
          "geo": {
           "bgcolor": "white",
           "lakecolor": "white",
           "landcolor": "#E5ECF6",
           "showlakes": true,
           "showland": true,
           "subunitcolor": "white"
          },
          "hoverlabel": {
           "align": "left"
          },
          "hovermode": "closest",
          "mapbox": {
           "style": "light"
          },
          "paper_bgcolor": "white",
          "plot_bgcolor": "#E5ECF6",
          "polar": {
           "angularaxis": {
            "gridcolor": "white",
            "linecolor": "white",
            "ticks": ""
           },
           "bgcolor": "#E5ECF6",
           "radialaxis": {
            "gridcolor": "white",
            "linecolor": "white",
            "ticks": ""
           }
          },
          "scene": {
           "xaxis": {
            "backgroundcolor": "#E5ECF6",
            "gridcolor": "white",
            "gridwidth": 2,
            "linecolor": "white",
            "showbackground": true,
            "ticks": "",
            "zerolinecolor": "white"
           },
           "yaxis": {
            "backgroundcolor": "#E5ECF6",
            "gridcolor": "white",
            "gridwidth": 2,
            "linecolor": "white",
            "showbackground": true,
            "ticks": "",
            "zerolinecolor": "white"
           },
           "zaxis": {
            "backgroundcolor": "#E5ECF6",
            "gridcolor": "white",
            "gridwidth": 2,
            "linecolor": "white",
            "showbackground": true,
            "ticks": "",
            "zerolinecolor": "white"
           }
          },
          "shapedefaults": {
           "line": {
            "color": "#2a3f5f"
           }
          },
          "ternary": {
           "aaxis": {
            "gridcolor": "white",
            "linecolor": "white",
            "ticks": ""
           },
           "baxis": {
            "gridcolor": "white",
            "linecolor": "white",
            "ticks": ""
           },
           "bgcolor": "#E5ECF6",
           "caxis": {
            "gridcolor": "white",
            "linecolor": "white",
            "ticks": ""
           }
          },
          "title": {
           "x": 0.05
          },
          "xaxis": {
           "automargin": true,
           "gridcolor": "white",
           "linecolor": "white",
           "ticks": "",
           "title": {
            "standoff": 15
           },
           "zerolinecolor": "white",
           "zerolinewidth": 2
          },
          "yaxis": {
           "automargin": true,
           "gridcolor": "white",
           "linecolor": "white",
           "ticks": "",
           "title": {
            "standoff": 15
           },
           "zerolinecolor": "white",
           "zerolinewidth": 2
          }
         }
        },
        "xaxis": {
         "anchor": "y",
         "domain": [
          0,
          1
         ],
         "title": {
          "text": "content_rating"
         }
        },
        "yaxis": {
         "anchor": "x",
         "domain": [
          0,
          1
         ],
         "title": {
          "text": "duration"
         }
        }
       }
      },
      "text/html": [
       "<div>                            <div id=\"e2697393-e003-4323-b1e6-22395eb07de3\" class=\"plotly-graph-div\" style=\"height:525px; width:100%;\"></div>            <script type=\"text/javascript\">                require([\"plotly\"], function(Plotly) {                    window.PLOTLYENV=window.PLOTLYENV || {};                                    if (document.getElementById(\"e2697393-e003-4323-b1e6-22395eb07de3\")) {                    Plotly.newPlot(                        \"e2697393-e003-4323-b1e6-22395eb07de3\",                        [{\"alignmentgroup\":\"True\",\"hovertemplate\":\"content_rating=%{x}<br>duration=%{y}<extra></extra>\",\"legendgroup\":\"\",\"marker\":{\"color\":\"#636efa\",\"pattern\":{\"shape\":\"\"}},\"name\":\"\",\"offsetgroup\":\"\",\"orientation\":\"v\",\"showlegend\":false,\"textposition\":\"auto\",\"x\":[\"R\",\"R\",\"R\",\"PG-13\",\"R\",\"UNRATED\",\"UNRATED\",\"PG-13\",\"R\",\"R\",\"PG-13\",\"PG-13\",\"PG\",\"PG-13\",\"PG-13\",\"PG-13\",\"R\",\"UNRATED\",\"R\",\"PG\",\"R\",\"R\",\"UNRATED\",\"R\",\"R\",\"PG-13\",\"PG-13\",\"R\",\"R\",\"PASSED\",\"PG\",\"R\",\"PG\",\"R\",\"R\",\"G\",\"R\",\"PG\",\"UNRATED\",\"R\",\"R\",\"UNRATED\",\"R\",\"PG-13\",\"R\",\"R\",\"R\",\"PG\",\"PG\",\"R\",\"R\",\"R\",\"UNRATED\",\"PG-13\",\"PG\",\"G\",\"R\",\"R\",\"UNRATED\",\"R\",\"PG-13\",\"UNRATED\",\"R\",\"UNRATED\",\"G\",\"UNRATED\",\"UNRATED\",\"R\",\"R\",\"PG-13\",\"R\",\"UNRATED\",\"UNRATED\",\"PG-13\",\"UNRATED\",\"R\",\"UNRATED\",\"R\",\"R\",\"PASSED\",\"PG\",\"G\",\"R\",\"UNRATED\",\"R\",\"PG\",\"NC-17\",\"UNRATED\",\"UNRATED\",\"UNRATED\",\"R\",\"R\",\"R\",\"UNRATED\",\"UNRATED\",\"UNRATED\",\"UNRATED\",\"PG\",\"UNRATED\",\"R\",\"UNRATED\",\"PG\",\"R\",\"UNRATED\",\"UNRATED\",\"UNRATED\",\"R\",\"UNRATED\",\"UNRATED\",\"UNRATED\",\"G\",\"UNRATED\",\"R\",\"PG-13\",\"R\",\"R\",\"UNRATED\",\"G\",\"PG-13\",\"R\",\"UNRATED\",\"R\",\"UNRATED\",\"UNRATED\",\"R\",\"R\",\"PG\",\"UNRATED\",\"UNRATED\",\"R\",\"R\",\"G\",\"UNRATED\",\"UNRATED\",\"UNRATED\",\"R\",\"R\",\"PG\",\"R\",\"R\",\"UNRATED\",\"R\",\"PG\",\"R\",\"UNRATED\",\"R\",\"PG-13\",\"PG\",\"PG\",\"UNRATED\",\"R\",\"R\",\"R\",\"R\",\"PG\",\"R\",\"R\",\"G\",\"R\",\"PASSED\",\"PG\",\"UNRATED\",\"R\",\"R\",\"R\",\"UNRATED\",\"R\",\"UNRATED\",\"G\",\"UNRATED\",\"PG-13\",\"PG\",\"R\",\"R\",\"UNRATED\",\"PG-13\",\"R\",\"PG-13\",\"UNRATED\",\"PG\",\"PG-13\",\"UNRATED\",\"UNRATED\",\"UNRATED\",\"R\",\"R\",\"R\",null,\"UNRATED\",\"R\",\"R\",\"PG-13\",\"G\",\"PG\",\"R\",\"R\",\"PG-13\",\"R\",\"R\",\"R\",\"PG\",\"R\",\"R\",\"UNRATED\",\"G\",\"R\",\"R\",\"UNRATED\",\"PG\",\"PG-13\",\"UNRATED\",\"PG-13\",\"R\",\"R\",\"R\",\"UNRATED\",\"R\",\"UNRATED\",\"R\",\"NC-17\",\"PG\",\"PG\",\"PG-13\",\"R\",\"PASSED\",\"R\",\"R\",\"PG-13\",\"R\",\"UNRATED\",\"UNRATED\",\"UNRATED\",\"PG-13\",\"UNRATED\",\"UNRATED\",\"R\",\"PG\",\"UNRATED\",\"R\",\"UNRATED\",\"PG-13\",\"PG\",\"R\",\"R\",\"R\",\"PG\",\"UNRATED\",\"R\",\"PG-13\",\"PG\",\"PG\",\"UNRATED\",\"UNRATED\",\"UNRATED\",\"UNRATED\",\"UNRATED\",\"R\",\"UNRATED\",\"UNRATED\",\"PG-13\",\"PG-13\",\"R\",\"UNRATED\",\"UNRATED\",\"R\",\"UNRATED\",\"PG\",\"PG\",\"R\",\"PG\",\"PG-13\",\"PG-13\",\"UNRATED\",\"R\",\"R\",\"PG\",\"R\",\"G\",\"R\",\"PG-13\",\"PG\",\"R\",\"GP\",\"R\",\"PG\",\"UNRATED\",\"PG-13\",\"UNRATED\",\"R\",\"UNRATED\",\"R\",\"UNRATED\",\"UNRATED\",\"PASSED\",\"G\",\"PG\",\"R\",\"PG\",\"UNRATED\",\"PG-13\",\"R\",\"PG-13\",\"GP\",\"PG\",\"PG\",\"PG-13\",\"R\",\"PG\",\"R\",\"R\",\"PG-13\",\"R\",\"PG-13\",\"G\",\"PG-13\",\"UNRATED\",\"R\",\"UNRATED\",\"R\",\"R\",\"R\",\"R\",\"R\",\"R\",\"R\",\"R\",\"R\",\"PG\",\"UNRATED\",\"UNRATED\",\"UNRATED\",\"R\",\"G\",\"UNRATED\",\"R\",\"PG-13\",\"PG\",\"R\",\"UNRATED\",\"PG-13\",\"PG-13\",\"PG-13\",\"PG\",\"UNRATED\",\"R\",\"R\",\"R\",\"PG\",\"G\",\"R\",\"UNRATED\",\"UNRATED\",\"R\",\"UNRATED\",\"R\",\"R\",\"PG-13\",\"G\",\"PASSED\",\"PG-13\",\"R\",\"G\",\"PG-13\",\"R\",\"R\",\"R\",\"PG-13\",\"R\",\"G\",\"R\",\"PG-13\",\"R\",\"R\",\"PG-13\",\"R\",\"R\",\"UNRATED\",\"PG-13\",\"PG\",\"PG-13\",\"PG-13\",\"PG\",\"R\",\"R\",\"UNRATED\",\"PG-13\",\"PG\",\"NC-17\",\"R\",\"UNRATED\",\"R\",\"PG-13\",\"R\",\"PG\",\"R\",\"PG\",\"R\",\"PG-13\",\"PG\",\"R\",\"PG-13\",\"R\",\"R\",\"PG-13\",\"PG\",\"UNRATED\",\"R\",\"R\",\"PG-13\",\"R\",\"UNRATED\",\"PG-13\",\"UNRATED\",\"R\",\"G\",\"R\",\"R\",\"R\",\"R\",\"UNRATED\",\"PG\",\"PG\",\"R\",\"R\",\"R\",\"PG\",\"R\",\"UNRATED\",\"PG-13\",\"R\",\"R\",\"R\",\"R\",\"PG-13\",\"PG-13\",\"R\",\"R\",\"PG-13\",\"R\",\"PG-13\",\"R\",\"R\",\"PG-13\",\"PG\",\"UNRATED\",\"UNRATED\",\"R\",\"PG-13\",\"PG\",\"R\",\"R\",\"UNRATED\",\"R\",\"UNRATED\",\"R\",\"PG-13\",\"NC-17\",\"R\",\"R\",\"PG-13\",\"PG-13\",\"G\",\"R\",\"R\",\"R\",\"R\",\"R\",\"UNRATED\",\"PG\",\"R\",\"R\",\"PG\",\"UNRATED\",\"R\",\"R\",\"R\",\"PG-13\",\"PG-13\",\"UNRATED\",\"R\",\"R\",\"UNRATED\",\"R\",\"R\",\"UNRATED\",\"R\",\"NC-17\",\"PG-13\",\"PG-13\",\"PG-13\",\"R\",\"UNRATED\",\"R\",\"R\",\"PG\",\"PG\",\"R\",\"G\",\"G\",\"PG-13\",\"R\",\"PG\",\"R\",\"PG-13\",\"PG\",\"R\",\"R\",\"PG-13\",\"PG-13\",\"R\",\"PG-13\",\"PG-13\",\"PG\",\"UNRATED\",\"PG\",\"R\",\"PG\",\"PG-13\",\"PG\",\"R\",\"PG\",\"UNRATED\",\"PG-13\",\"UNRATED\",\"PG\",\"PG\",\"UNRATED\",\"R\",\"UNRATED\",\"R\",\"R\",\"UNRATED\",\"PG-13\",\"R\",\"G\",\"PG\",\"PG-13\",\"PG\",\"R\",\"PG-13\",\"PG-13\",\"R\",\"PG-13\",\"R\",\"R\",\"R\",\"UNRATED\",\"PG\",\"R\",\"R\",\"PG-13\",\"PG\",\"R\",\"R\",\"PG-13\",\"R\",\"R\",\"UNRATED\",\"R\",\"R\",\"R\",\"R\",\"PG-13\",\"UNRATED\",\"R\",\"PG\",\"R\",\"PG-13\",\"PG-13\",\"PG-13\",\"R\",\"R\",\"PG-13\",\"UNRATED\",\"R\",\"UNRATED\",\"R\",\"PG-13\",\"PG-13\",\"PG-13\",\"PG\",\"R\",\"UNRATED\",\"R\",\"R\",\"PG\",\"PG\",\"R\",\"R\",\"R\",\"PG\",\"PG-13\",\"UNRATED\",\"R\",\"R\",\"PG\",\"R\",\"R\",\"R\",\"R\",\"R\",\"R\",\"R\",\"R\",\"NC-17\",\"PG-13\",\"R\",\"R\",\"R\",\"R\",\"R\",\"R\",\"UNRATED\",\"R\",\"R\",\"R\",\"R\",\"PG\",\"UNRATED\",\"PASSED\",\"PG-13\",\"R\",\"PG-13\",\"PG-13\",\"R\",\"G\",\"PG-13\",\"PG-13\",\"R\",\"PG-13\",\"PG-13\",\"UNRATED\",\"R\",\"R\",\"PG\",\"R\",\"R\",\"R\",\"R\",\"PG-13\",\"R\",\"PG\",\"PG-13\",\"PG-13\",\"PG-13\",\"PG\",\"R\",\"UNRATED\",\"R\",null,\"R\",\"R\",\"UNRATED\",\"PG-13\",\"R\",\"R\",\"UNRATED\",\"PG\",\"PG-13\",\"R\",\"PG-13\",\"PG-13\",\"PG-13\",\"R\",\"PG\",\"UNRATED\",\"R\",\"PG-13\",\"G\",\"PG\",\"R\",\"R\",\"R\",\"UNRATED\",\"G\",\"R\",\"R\",\"R\",\"PG-13\",\"PG-13\",\"PG-13\",\"R\",\"PG-13\",\"R\",\"PG-13\",\"R\",\"PG-13\",\"UNRATED\",\"R\",\"PG-13\",\"R\",\"GP\",\"R\",\"R\",\"R\",\"R\",\"PG-13\",\"R\",\"R\",\"PG-13\",\"R\",\"R\",\"R\",\"UNRATED\",\"R\",\"PG-13\",\"PG-13\",\"R\",\"R\",\"PG-13\",\"R\",\"R\",\"R\",\"UNRATED\",\"R\",\"NC-17\",\"R\",\"R\",\"PG-13\",\"R\",\"R\",\"R\",\"R\",\"R\",\"R\",\"R\",\"PG-13\",\"PG-13\",\"R\",\"R\",\"UNRATED\",\"R\",\"R\",\"R\",\"R\",\"PG-13\",\"PG-13\",\"PG\",\"R\",\"R\",\"R\",\"R\",\"R\",\"PG\",\"R\",\"R\",\"R\",\"R\",\"PG\",\"R\",\"R\",\"PG-13\",\"R\",\"PG\",\"PG\",\"NC-17\",\"PG-13\",\"UNRATED\",\"PG-13\",\"G\",\"R\",\"R\",\"R\",\"UNRATED\",\"PG\",\"R\",\"G\",\"UNRATED\",\"R\",\"R\",\"R\",\"R\",\"PG\",\"R\",\"R\",\"PG\",\"PG-13\",\"PG-13\",\"R\",\"R\",\"R\",\"R\",\"PG-13\",\"R\",\"R\",\"R\",\"R\",\"PG-13\",\"R\",\"PG\",\"PG-13\",\"R\",\"R\",\"R\",\"PG\",\"R\",\"NC-17\",\"R\",\"R\",\"R\",\"PG\",\"PG-13\",\"UNRATED\",\"R\",\"PG-13\",\"PG-13\",\"PG-13\",\"R\",\"R\",\"PG-13\",\"PG-13\",\"R\",\"PG-13\",\"PG\",\"PG-13\",\"R\",\"PG\",\"PG-13\",\"R\",\"R\",\"G\",\"PG-13\",\"PG\",\"UNRATED\",\"PG-13\",\"PG\",\"R\",\"UNRATED\",\"R\",\"R\",\"R\",\"R\",\"R\",\"R\",\"R\",\"PG\",\"R\",\"R\",\"PG-13\",\"R\",\"R\",\"R\",\"R\",\"R\",\"UNRATED\",\"PG-13\",\"R\",\"R\",\"PG\",\"PG-13\",\"PG\",\"PG-13\",\"PG\",\"PG\",\"PG\",\"R\",\"PG-13\",\"PG-13\",\"PG-13\",\"PG-13\",\"R\",\"R\",\"R\",\"R\",\"R\",\"PG-13\",\"UNRATED\",\"PG-13\",\"PG-13\",\"R\",\"R\",\"PG-13\",\"R\",\"R\",\"PG-13\",\"R\",\"PG-13\",\"R\",\"R\",\"R\",\"R\",\"R\",\"G\",\"R\",\"R\",\"R\",\"R\",\"R\",\"PG-13\",\"R\",\"R\",\"PG\",\"R\",\"R\",\"PG-13\",\"R\",\"UNRATED\",\"R\",\"PG\",\"UNRATED\",\"R\",\"R\",\"R\",\"R\",\"R\",\"R\",\"R\",\"R\",\"PG\",\"PG\",\"R\",\"R\",\"R\",\"NC-17\",\"R\",\"NC-17\",\"R\",\"R\",\"R\",\"R\",\"R\",\"R\",\"PG-13\",\"PG-13\",\"PG-13\",\"R\",\"R\",\"R\",\"R\",\"PG-13\",\"R\",\"R\",\"PG-13\",\"PG\",\"PG-13\",\"R\",null,\"PG\",\"G\",\"R\",\"PG-13\",\"PG\",\"PG-13\",\"PG-13\",\"R\",\"R\",\"PG-13\",\"UNRATED\",\"R\",\"PG\",\"R\",\"R\",\"R\",\"PG\",\"PG-13\",\"R\",\"PG\",\"R\",\"PG-13\",\"R\",\"PG-13\",\"R\",\"PG\",\"R\",\"PG-13\",\"PG-13\",\"PG-13\",\"R\",\"R\",\"R\",\"R\",\"R\",\"NC-17\",\"PG-13\",\"PG\",\"PG\",\"PG-13\",\"PG\",\"R\"],\"xaxis\":\"x\",\"y\":[142,175,200,152,154,96,161,201,195,139,178,148,124,142,179,169,133,207,146,121,136,130,130,106,127,116,175,118,110,87,125,112,102,107,119,87,169,115,112,109,189,110,150,165,155,137,113,165,95,151,155,153,125,130,116,89,137,117,88,165,170,89,146,99,98,116,156,122,149,134,122,136,157,123,119,137,128,120,229,107,134,103,177,129,102,216,136,93,68,189,99,108,113,181,103,138,110,129,88,160,126,91,116,125,143,93,102,132,153,183,160,120,138,140,153,170,129,81,127,131,172,115,108,107,129,156,96,91,95,162,130,86,186,151,96,170,118,161,131,126,131,129,224,180,105,117,140,119,124,130,139,107,132,117,126,122,178,238,149,172,98,116,116,123,148,123,182,92,93,100,135,105,94,140,83,95,98,143,99,98,121,163,121,167,188,121,109,110,129,127,94,107,100,117,129,120,121,133,111,122,101,134,165,138,212,154,89,134,93,114,88,130,101,158,99,108,124,132,113,131,191,167,130,147,102,88,165,132,118,101,108,174,98,92,98,106,85,101,105,115,115,124,105,103,138,184,120,99,131,138,98,123,118,114,118,112,124,160,67,146,125,115,134,141,129,104,94,124,150,119,128,143,85,151,118,101,99,92,125,102,106,107,91,80,122,102,112,92,135,136,153,105,126,68,84,103,145,80,106,127,178,137,172,76,130,96,82,115,95,143,125,120,127,112,104,113,189,127,188,96,113,132,122,126,140,133,112,102,93,109,81,108,111,119,96,197,127,138,66,181,141,144,128,83,121,98,117,94,174,112,108,70,99,96,137,136,100,90,96,161,115,181,169,98,136,138,119,123,112,120,103,97,109,165,156,147,100,126,115,105,144,102,107,119,90,197,86,113,133,64,141,113,122,105,119,102,122,123,113,97,117,111,85,99,134,75,109,117,91,128,111,119,100,114,92,141,101,115,127,96,129,135,109,157,193,94,155,113,130,117,159,141,112,162,126,120,144,120,109,97,108,115,136,90,170,220,116,134,124,91,103,96,119,98,101,93,179,155,121,103,127,103,107,100,92,94,158,86,115,130,107,100,108,124,131,122,242,127,141,126,89,113,152,107,92,145,84,126,132,78,117,128,100,128,100,143,107,100,125,106,157,94,104,94,153,123,120,105,166,112,94,111,87,80,108,102,105,136,101,100,108,101,106,105,88,129,138,129,118,139,123,150,132,80,178,79,163,114,144,130,154,81,95,101,120,93,115,106,120,110,123,142,99,112,120,122,130,139,129,141,127,130,118,110,115,101,112,108,143,152,117,121,119,114,122,105,110,116,139,121,109,146,113,100,121,113,113,117,93,101,90,131,98,93,121,82,124,100,117,99,116,123,114,133,105,127,144,90,118,122,102,187,87,154,89,88,129,95,118,98,194,114,80,130,135,101,105,129,134,143,202,89,106,92,137,124,122,113,112,110,135,88,146,104,125,131,91,142,129,158,102,99,101,104,119,103,88,100,146,150,140,140,110,97,102,152,100,94,85,104,112,191,119,111,94,103,134,157,158,127,101,109,98,134,168,93,145,111,88,123,121,144,116,124,147,106,113,129,94,126,128,111,146,85,105,132,130,162,113,110,113,162,110,78,92,95,138,102,128,96,164,126,110,109,122,124,128,157,120,102,152,170,102,116,164,85,104,99,81,131,101,121,69,92,94,141,116,98,135,121,108,114,102,112,140,157,128,108,139,83,131,113,136,96,118,108,83,205,124,111,137,104,109,115,99,114,133,131,131,123,126,97,126,89,122,121,125,105,118,81,115,126,113,107,126,111,85,120,93,100,107,126,131,116,143,93,96,160,137,119,114,98,111,138,144,107,114,125,146,113,85,97,93,113,128,114,147,127,167,124,109,124,102,130,125,98,154,97,128,98,101,147,172,125,88,125,121,112,120,133,110,135,110,80,135,101,112,124,129,104,96,105,109,117,78,138,106,90,106,91,112,134,112,104,101,120,123,133,110,129,120,83,88,96,139,113,84,106,170,144,104,153,85,130,93,148,115,102,125,106,121,143,116,99,116,128,119,104,114,152,129,103,112,92,141,106,109,104,122,111,112,116,130,133,134,92,104,110,97,100,118,112,138,92,118,140,128,101,75,97,111,175,94,97,132,120,107,89,86,103,108,105,117,102,104,157,104,98,109,96,103,114,99,118,150,105,87,136,162,109,107,90,112,126,116,118,138,114,126],\"yaxis\":\"y\",\"type\":\"bar\"}],                        {\"template\":{\"data\":{\"bar\":[{\"error_x\":{\"color\":\"#2a3f5f\"},\"error_y\":{\"color\":\"#2a3f5f\"},\"marker\":{\"line\":{\"color\":\"#E5ECF6\",\"width\":0.5},\"pattern\":{\"fillmode\":\"overlay\",\"size\":10,\"solidity\":0.2}},\"type\":\"bar\"}],\"barpolar\":[{\"marker\":{\"line\":{\"color\":\"#E5ECF6\",\"width\":0.5},\"pattern\":{\"fillmode\":\"overlay\",\"size\":10,\"solidity\":0.2}},\"type\":\"barpolar\"}],\"carpet\":[{\"aaxis\":{\"endlinecolor\":\"#2a3f5f\",\"gridcolor\":\"white\",\"linecolor\":\"white\",\"minorgridcolor\":\"white\",\"startlinecolor\":\"#2a3f5f\"},\"baxis\":{\"endlinecolor\":\"#2a3f5f\",\"gridcolor\":\"white\",\"linecolor\":\"white\",\"minorgridcolor\":\"white\",\"startlinecolor\":\"#2a3f5f\"},\"type\":\"carpet\"}],\"choropleth\":[{\"colorbar\":{\"outlinewidth\":0,\"ticks\":\"\"},\"type\":\"choropleth\"}],\"contour\":[{\"colorbar\":{\"outlinewidth\":0,\"ticks\":\"\"},\"colorscale\":[[0.0,\"#0d0887\"],[0.1111111111111111,\"#46039f\"],[0.2222222222222222,\"#7201a8\"],[0.3333333333333333,\"#9c179e\"],[0.4444444444444444,\"#bd3786\"],[0.5555555555555556,\"#d8576b\"],[0.6666666666666666,\"#ed7953\"],[0.7777777777777778,\"#fb9f3a\"],[0.8888888888888888,\"#fdca26\"],[1.0,\"#f0f921\"]],\"type\":\"contour\"}],\"contourcarpet\":[{\"colorbar\":{\"outlinewidth\":0,\"ticks\":\"\"},\"type\":\"contourcarpet\"}],\"heatmap\":[{\"colorbar\":{\"outlinewidth\":0,\"ticks\":\"\"},\"colorscale\":[[0.0,\"#0d0887\"],[0.1111111111111111,\"#46039f\"],[0.2222222222222222,\"#7201a8\"],[0.3333333333333333,\"#9c179e\"],[0.4444444444444444,\"#bd3786\"],[0.5555555555555556,\"#d8576b\"],[0.6666666666666666,\"#ed7953\"],[0.7777777777777778,\"#fb9f3a\"],[0.8888888888888888,\"#fdca26\"],[1.0,\"#f0f921\"]],\"type\":\"heatmap\"}],\"heatmapgl\":[{\"colorbar\":{\"outlinewidth\":0,\"ticks\":\"\"},\"colorscale\":[[0.0,\"#0d0887\"],[0.1111111111111111,\"#46039f\"],[0.2222222222222222,\"#7201a8\"],[0.3333333333333333,\"#9c179e\"],[0.4444444444444444,\"#bd3786\"],[0.5555555555555556,\"#d8576b\"],[0.6666666666666666,\"#ed7953\"],[0.7777777777777778,\"#fb9f3a\"],[0.8888888888888888,\"#fdca26\"],[1.0,\"#f0f921\"]],\"type\":\"heatmapgl\"}],\"histogram\":[{\"marker\":{\"pattern\":{\"fillmode\":\"overlay\",\"size\":10,\"solidity\":0.2}},\"type\":\"histogram\"}],\"histogram2d\":[{\"colorbar\":{\"outlinewidth\":0,\"ticks\":\"\"},\"colorscale\":[[0.0,\"#0d0887\"],[0.1111111111111111,\"#46039f\"],[0.2222222222222222,\"#7201a8\"],[0.3333333333333333,\"#9c179e\"],[0.4444444444444444,\"#bd3786\"],[0.5555555555555556,\"#d8576b\"],[0.6666666666666666,\"#ed7953\"],[0.7777777777777778,\"#fb9f3a\"],[0.8888888888888888,\"#fdca26\"],[1.0,\"#f0f921\"]],\"type\":\"histogram2d\"}],\"histogram2dcontour\":[{\"colorbar\":{\"outlinewidth\":0,\"ticks\":\"\"},\"colorscale\":[[0.0,\"#0d0887\"],[0.1111111111111111,\"#46039f\"],[0.2222222222222222,\"#7201a8\"],[0.3333333333333333,\"#9c179e\"],[0.4444444444444444,\"#bd3786\"],[0.5555555555555556,\"#d8576b\"],[0.6666666666666666,\"#ed7953\"],[0.7777777777777778,\"#fb9f3a\"],[0.8888888888888888,\"#fdca26\"],[1.0,\"#f0f921\"]],\"type\":\"histogram2dcontour\"}],\"mesh3d\":[{\"colorbar\":{\"outlinewidth\":0,\"ticks\":\"\"},\"type\":\"mesh3d\"}],\"parcoords\":[{\"line\":{\"colorbar\":{\"outlinewidth\":0,\"ticks\":\"\"}},\"type\":\"parcoords\"}],\"pie\":[{\"automargin\":true,\"type\":\"pie\"}],\"scatter\":[{\"marker\":{\"colorbar\":{\"outlinewidth\":0,\"ticks\":\"\"}},\"type\":\"scatter\"}],\"scatter3d\":[{\"line\":{\"colorbar\":{\"outlinewidth\":0,\"ticks\":\"\"}},\"marker\":{\"colorbar\":{\"outlinewidth\":0,\"ticks\":\"\"}},\"type\":\"scatter3d\"}],\"scattercarpet\":[{\"marker\":{\"colorbar\":{\"outlinewidth\":0,\"ticks\":\"\"}},\"type\":\"scattercarpet\"}],\"scattergeo\":[{\"marker\":{\"colorbar\":{\"outlinewidth\":0,\"ticks\":\"\"}},\"type\":\"scattergeo\"}],\"scattergl\":[{\"marker\":{\"colorbar\":{\"outlinewidth\":0,\"ticks\":\"\"}},\"type\":\"scattergl\"}],\"scattermapbox\":[{\"marker\":{\"colorbar\":{\"outlinewidth\":0,\"ticks\":\"\"}},\"type\":\"scattermapbox\"}],\"scatterpolar\":[{\"marker\":{\"colorbar\":{\"outlinewidth\":0,\"ticks\":\"\"}},\"type\":\"scatterpolar\"}],\"scatterpolargl\":[{\"marker\":{\"colorbar\":{\"outlinewidth\":0,\"ticks\":\"\"}},\"type\":\"scatterpolargl\"}],\"scatterternary\":[{\"marker\":{\"colorbar\":{\"outlinewidth\":0,\"ticks\":\"\"}},\"type\":\"scatterternary\"}],\"surface\":[{\"colorbar\":{\"outlinewidth\":0,\"ticks\":\"\"},\"colorscale\":[[0.0,\"#0d0887\"],[0.1111111111111111,\"#46039f\"],[0.2222222222222222,\"#7201a8\"],[0.3333333333333333,\"#9c179e\"],[0.4444444444444444,\"#bd3786\"],[0.5555555555555556,\"#d8576b\"],[0.6666666666666666,\"#ed7953\"],[0.7777777777777778,\"#fb9f3a\"],[0.8888888888888888,\"#fdca26\"],[1.0,\"#f0f921\"]],\"type\":\"surface\"}],\"table\":[{\"cells\":{\"fill\":{\"color\":\"#EBF0F8\"},\"line\":{\"color\":\"white\"}},\"header\":{\"fill\":{\"color\":\"#C8D4E3\"},\"line\":{\"color\":\"white\"}},\"type\":\"table\"}]},\"layout\":{\"annotationdefaults\":{\"arrowcolor\":\"#2a3f5f\",\"arrowhead\":0,\"arrowwidth\":1},\"autotypenumbers\":\"strict\",\"coloraxis\":{\"colorbar\":{\"outlinewidth\":0,\"ticks\":\"\"}},\"colorscale\":{\"diverging\":[[0,\"#8e0152\"],[0.1,\"#c51b7d\"],[0.2,\"#de77ae\"],[0.3,\"#f1b6da\"],[0.4,\"#fde0ef\"],[0.5,\"#f7f7f7\"],[0.6,\"#e6f5d0\"],[0.7,\"#b8e186\"],[0.8,\"#7fbc41\"],[0.9,\"#4d9221\"],[1,\"#276419\"]],\"sequential\":[[0.0,\"#0d0887\"],[0.1111111111111111,\"#46039f\"],[0.2222222222222222,\"#7201a8\"],[0.3333333333333333,\"#9c179e\"],[0.4444444444444444,\"#bd3786\"],[0.5555555555555556,\"#d8576b\"],[0.6666666666666666,\"#ed7953\"],[0.7777777777777778,\"#fb9f3a\"],[0.8888888888888888,\"#fdca26\"],[1.0,\"#f0f921\"]],\"sequentialminus\":[[0.0,\"#0d0887\"],[0.1111111111111111,\"#46039f\"],[0.2222222222222222,\"#7201a8\"],[0.3333333333333333,\"#9c179e\"],[0.4444444444444444,\"#bd3786\"],[0.5555555555555556,\"#d8576b\"],[0.6666666666666666,\"#ed7953\"],[0.7777777777777778,\"#fb9f3a\"],[0.8888888888888888,\"#fdca26\"],[1.0,\"#f0f921\"]]},\"colorway\":[\"#636efa\",\"#EF553B\",\"#00cc96\",\"#ab63fa\",\"#FFA15A\",\"#19d3f3\",\"#FF6692\",\"#B6E880\",\"#FF97FF\",\"#FECB52\"],\"font\":{\"color\":\"#2a3f5f\"},\"geo\":{\"bgcolor\":\"white\",\"lakecolor\":\"white\",\"landcolor\":\"#E5ECF6\",\"showlakes\":true,\"showland\":true,\"subunitcolor\":\"white\"},\"hoverlabel\":{\"align\":\"left\"},\"hovermode\":\"closest\",\"mapbox\":{\"style\":\"light\"},\"paper_bgcolor\":\"white\",\"plot_bgcolor\":\"#E5ECF6\",\"polar\":{\"angularaxis\":{\"gridcolor\":\"white\",\"linecolor\":\"white\",\"ticks\":\"\"},\"bgcolor\":\"#E5ECF6\",\"radialaxis\":{\"gridcolor\":\"white\",\"linecolor\":\"white\",\"ticks\":\"\"}},\"scene\":{\"xaxis\":{\"backgroundcolor\":\"#E5ECF6\",\"gridcolor\":\"white\",\"gridwidth\":2,\"linecolor\":\"white\",\"showbackground\":true,\"ticks\":\"\",\"zerolinecolor\":\"white\"},\"yaxis\":{\"backgroundcolor\":\"#E5ECF6\",\"gridcolor\":\"white\",\"gridwidth\":2,\"linecolor\":\"white\",\"showbackground\":true,\"ticks\":\"\",\"zerolinecolor\":\"white\"},\"zaxis\":{\"backgroundcolor\":\"#E5ECF6\",\"gridcolor\":\"white\",\"gridwidth\":2,\"linecolor\":\"white\",\"showbackground\":true,\"ticks\":\"\",\"zerolinecolor\":\"white\"}},\"shapedefaults\":{\"line\":{\"color\":\"#2a3f5f\"}},\"ternary\":{\"aaxis\":{\"gridcolor\":\"white\",\"linecolor\":\"white\",\"ticks\":\"\"},\"baxis\":{\"gridcolor\":\"white\",\"linecolor\":\"white\",\"ticks\":\"\"},\"bgcolor\":\"#E5ECF6\",\"caxis\":{\"gridcolor\":\"white\",\"linecolor\":\"white\",\"ticks\":\"\"}},\"title\":{\"x\":0.05},\"xaxis\":{\"automargin\":true,\"gridcolor\":\"white\",\"linecolor\":\"white\",\"ticks\":\"\",\"title\":{\"standoff\":15},\"zerolinecolor\":\"white\",\"zerolinewidth\":2},\"yaxis\":{\"automargin\":true,\"gridcolor\":\"white\",\"linecolor\":\"white\",\"ticks\":\"\",\"title\":{\"standoff\":15},\"zerolinecolor\":\"white\",\"zerolinewidth\":2}}},\"xaxis\":{\"anchor\":\"y\",\"domain\":[0.0,1.0],\"title\":{\"text\":\"content_rating\"}},\"yaxis\":{\"anchor\":\"x\",\"domain\":[0.0,1.0],\"title\":{\"text\":\"duration\"}},\"legend\":{\"tracegroupgap\":0},\"margin\":{\"t\":60},\"barmode\":\"relative\"},                        {\"responsive\": true}                    ).then(function(){\n",
       "                            \n",
       "var gd = document.getElementById('e2697393-e003-4323-b1e6-22395eb07de3');\n",
       "var x = new MutationObserver(function (mutations, observer) {{\n",
       "        var display = window.getComputedStyle(gd).display;\n",
       "        if (!display || display === 'none') {{\n",
       "            console.log([gd, 'removed!']);\n",
       "            Plotly.purge(gd);\n",
       "            observer.disconnect();\n",
       "        }}\n",
       "}});\n",
       "\n",
       "// Listen for the removal of the full notebook cells\n",
       "var notebookContainer = gd.closest('#notebook-container');\n",
       "if (notebookContainer) {{\n",
       "    x.observe(notebookContainer, {childList: true});\n",
       "}}\n",
       "\n",
       "// Listen for the clearing of the current output cell\n",
       "var outputEl = gd.closest('.output');\n",
       "if (outputEl) {{\n",
       "    x.observe(outputEl, {childList: true});\n",
       "}}\n",
       "\n",
       "                        })                };                });            </script>        </div>"
      ]
     },
     "metadata": {},
     "output_type": "display_data"
    }
   ],
   "source": [
    "# Answer:\n",
    "# create a grouping for the chart\n",
    "#data = df.groupby('visit_date')[['visitors', 'reserve_visitors']].sum().reset_index()\n",
    "# create a column for day of the week to use for later charts\n",
    "#data['day'] = data.visit_date.dt.day_name()\n",
    "\n",
    "# simple scatter chart\n",
    "px.bar(movies, x='content_rating', y='duration')"
   ]
  },
  {
   "cell_type": "markdown",
   "metadata": {},
   "source": [
    "#### Determine the top rated movie (by star rating) for each genre."
   ]
  },
  {
   "cell_type": "code",
   "execution_count": 202,
   "metadata": {},
   "outputs": [
    {
     "data": {
      "text/plain": [
       "genre\n",
       "Action       9.0\n",
       "Adventure    8.9\n",
       "Animation    8.6\n",
       "Biography    8.9\n",
       "Comedy       8.6\n",
       "Crime        9.3\n",
       "Drama        8.9\n",
       "Family       7.9\n",
       "Fantasy      7.7\n",
       "Film-Noir    8.3\n",
       "History      8.0\n",
       "Horror       8.6\n",
       "Mystery      8.6\n",
       "Sci-Fi       8.2\n",
       "Thriller     8.0\n",
       "Western      8.9\n",
       "Name: star_rating, dtype: float64"
      ]
     },
     "execution_count": 202,
     "metadata": {},
     "output_type": "execute_result"
    }
   ],
   "source": [
    "# Answer:\n",
    "\n",
    "\n",
    "#movies = movies.set_index('genre')\n",
    "#movies\n",
    "movies[['star_rating']].max()\n",
    "movies.groupby(movies.index)['star_rating'].max()"
   ]
  },
  {
   "cell_type": "markdown",
   "metadata": {},
   "source": [
    "#### Check if there are multiple movies with the same title, and if so, determine if they are actually duplicates."
   ]
  },
  {
   "cell_type": "code",
   "execution_count": 116,
   "metadata": {},
   "outputs": [
    {
     "data": {
      "text/html": [
       "<div>\n",
       "<style scoped>\n",
       "    .dataframe tbody tr th:only-of-type {\n",
       "        vertical-align: middle;\n",
       "    }\n",
       "\n",
       "    .dataframe tbody tr th {\n",
       "        vertical-align: top;\n",
       "    }\n",
       "\n",
       "    .dataframe thead th {\n",
       "        text-align: right;\n",
       "    }\n",
       "</style>\n",
       "<table border=\"1\" class=\"dataframe\">\n",
       "  <thead>\n",
       "    <tr style=\"text-align: right;\">\n",
       "      <th></th>\n",
       "      <th>star_rating</th>\n",
       "      <th>title</th>\n",
       "      <th>content_rating</th>\n",
       "      <th>duration</th>\n",
       "      <th>actors_list</th>\n",
       "      <th>count</th>\n",
       "    </tr>\n",
       "    <tr>\n",
       "      <th>genre</th>\n",
       "      <th></th>\n",
       "      <th></th>\n",
       "      <th></th>\n",
       "      <th></th>\n",
       "      <th></th>\n",
       "      <th></th>\n",
       "    </tr>\n",
       "  </thead>\n",
       "  <tbody>\n",
       "    <tr>\n",
       "      <th>Crime</th>\n",
       "      <td>9.3</td>\n",
       "      <td>The Shawshank Redemption</td>\n",
       "      <td>R</td>\n",
       "      <td>142</td>\n",
       "      <td>[u'Tim Robbins', u'Morgan Freeman', u'Bob Gunt...</td>\n",
       "      <td>1</td>\n",
       "    </tr>\n",
       "    <tr>\n",
       "      <th>Crime</th>\n",
       "      <td>9.2</td>\n",
       "      <td>The Godfather</td>\n",
       "      <td>R</td>\n",
       "      <td>175</td>\n",
       "      <td>[u'Marlon Brando', u'Al Pacino', u'James Caan']</td>\n",
       "      <td>1</td>\n",
       "    </tr>\n",
       "    <tr>\n",
       "      <th>Crime</th>\n",
       "      <td>9.1</td>\n",
       "      <td>The Godfather: Part II</td>\n",
       "      <td>R</td>\n",
       "      <td>200</td>\n",
       "      <td>[u'Al Pacino', u'Robert De Niro', u'Robert Duv...</td>\n",
       "      <td>1</td>\n",
       "    </tr>\n",
       "    <tr>\n",
       "      <th>Action</th>\n",
       "      <td>9.0</td>\n",
       "      <td>The Dark Knight</td>\n",
       "      <td>PG-13</td>\n",
       "      <td>152</td>\n",
       "      <td>[u'Christian Bale', u'Heath Ledger', u'Aaron E...</td>\n",
       "      <td>1</td>\n",
       "    </tr>\n",
       "    <tr>\n",
       "      <th>Crime</th>\n",
       "      <td>8.9</td>\n",
       "      <td>Pulp Fiction</td>\n",
       "      <td>R</td>\n",
       "      <td>154</td>\n",
       "      <td>[u'John Travolta', u'Uma Thurman', u'Samuel L....</td>\n",
       "      <td>1</td>\n",
       "    </tr>\n",
       "    <tr>\n",
       "      <th>...</th>\n",
       "      <td>...</td>\n",
       "      <td>...</td>\n",
       "      <td>...</td>\n",
       "      <td>...</td>\n",
       "      <td>...</td>\n",
       "      <td>...</td>\n",
       "    </tr>\n",
       "    <tr>\n",
       "      <th>Comedy</th>\n",
       "      <td>7.4</td>\n",
       "      <td>Tootsie</td>\n",
       "      <td>PG</td>\n",
       "      <td>116</td>\n",
       "      <td>[u'Dustin Hoffman', u'Jessica Lange', u'Teri G...</td>\n",
       "      <td>1</td>\n",
       "    </tr>\n",
       "    <tr>\n",
       "      <th>Adventure</th>\n",
       "      <td>7.4</td>\n",
       "      <td>Back to the Future Part III</td>\n",
       "      <td>PG</td>\n",
       "      <td>118</td>\n",
       "      <td>[u'Michael J. Fox', u'Christopher Lloyd', u'Ma...</td>\n",
       "      <td>1</td>\n",
       "    </tr>\n",
       "    <tr>\n",
       "      <th>Action</th>\n",
       "      <td>7.4</td>\n",
       "      <td>Master and Commander: The Far Side of the World</td>\n",
       "      <td>PG-13</td>\n",
       "      <td>138</td>\n",
       "      <td>[u'Russell Crowe', u'Paul Bettany', u'Billy Bo...</td>\n",
       "      <td>1</td>\n",
       "    </tr>\n",
       "    <tr>\n",
       "      <th>Horror</th>\n",
       "      <td>7.4</td>\n",
       "      <td>Poltergeist</td>\n",
       "      <td>PG</td>\n",
       "      <td>114</td>\n",
       "      <td>[u'JoBeth Williams', u\"Heather O'Rourke\", u'Cr...</td>\n",
       "      <td>1</td>\n",
       "    </tr>\n",
       "    <tr>\n",
       "      <th>Crime</th>\n",
       "      <td>7.4</td>\n",
       "      <td>Wall Street</td>\n",
       "      <td>R</td>\n",
       "      <td>126</td>\n",
       "      <td>[u'Charlie Sheen', u'Michael Douglas', u'Tamar...</td>\n",
       "      <td>1</td>\n",
       "    </tr>\n",
       "  </tbody>\n",
       "</table>\n",
       "<p>979 rows × 6 columns</p>\n",
       "</div>"
      ],
      "text/plain": [
       "           star_rating                                            title  \\\n",
       "genre                                                                     \n",
       "Crime              9.3                         The Shawshank Redemption   \n",
       "Crime              9.2                                    The Godfather   \n",
       "Crime              9.1                           The Godfather: Part II   \n",
       "Action             9.0                                  The Dark Knight   \n",
       "Crime              8.9                                     Pulp Fiction   \n",
       "...                ...                                              ...   \n",
       "Comedy             7.4                                          Tootsie   \n",
       "Adventure          7.4                      Back to the Future Part III   \n",
       "Action             7.4  Master and Commander: The Far Side of the World   \n",
       "Horror             7.4                                      Poltergeist   \n",
       "Crime              7.4                                      Wall Street   \n",
       "\n",
       "          content_rating  duration  \\\n",
       "genre                                \n",
       "Crime                  R       142   \n",
       "Crime                  R       175   \n",
       "Crime                  R       200   \n",
       "Action             PG-13       152   \n",
       "Crime                  R       154   \n",
       "...                  ...       ...   \n",
       "Comedy                PG       116   \n",
       "Adventure             PG       118   \n",
       "Action             PG-13       138   \n",
       "Horror                PG       114   \n",
       "Crime                  R       126   \n",
       "\n",
       "                                                 actors_list  count  \n",
       "genre                                                                \n",
       "Crime      [u'Tim Robbins', u'Morgan Freeman', u'Bob Gunt...      1  \n",
       "Crime        [u'Marlon Brando', u'Al Pacino', u'James Caan']      1  \n",
       "Crime      [u'Al Pacino', u'Robert De Niro', u'Robert Duv...      1  \n",
       "Action     [u'Christian Bale', u'Heath Ledger', u'Aaron E...      1  \n",
       "Crime      [u'John Travolta', u'Uma Thurman', u'Samuel L....      1  \n",
       "...                                                      ...    ...  \n",
       "Comedy     [u'Dustin Hoffman', u'Jessica Lange', u'Teri G...      1  \n",
       "Adventure  [u'Michael J. Fox', u'Christopher Lloyd', u'Ma...      1  \n",
       "Action     [u'Russell Crowe', u'Paul Bettany', u'Billy Bo...      1  \n",
       "Horror     [u'JoBeth Williams', u\"Heather O'Rourke\", u'Cr...      1  \n",
       "Crime      [u'Charlie Sheen', u'Michael Douglas', u'Tamar...      1  \n",
       "\n",
       "[979 rows x 6 columns]"
      ]
     },
     "execution_count": 116,
     "metadata": {},
     "output_type": "execute_result"
    }
   ],
   "source": [
    "movies"
   ]
  },
  {
   "cell_type": "code",
   "execution_count": 123,
   "metadata": {},
   "outputs": [
    {
     "data": {
      "text/html": [
       "<div>\n",
       "<style scoped>\n",
       "    .dataframe tbody tr th:only-of-type {\n",
       "        vertical-align: middle;\n",
       "    }\n",
       "\n",
       "    .dataframe tbody tr th {\n",
       "        vertical-align: top;\n",
       "    }\n",
       "\n",
       "    .dataframe thead th {\n",
       "        text-align: right;\n",
       "    }\n",
       "</style>\n",
       "<table border=\"1\" class=\"dataframe\">\n",
       "  <thead>\n",
       "    <tr style=\"text-align: right;\">\n",
       "      <th></th>\n",
       "      <th>star_rating</th>\n",
       "      <th>title</th>\n",
       "      <th>content_rating</th>\n",
       "      <th>duration</th>\n",
       "      <th>actors_list</th>\n",
       "      <th>count</th>\n",
       "      <th>Duplicates</th>\n",
       "    </tr>\n",
       "    <tr>\n",
       "      <th>genre</th>\n",
       "      <th></th>\n",
       "      <th></th>\n",
       "      <th></th>\n",
       "      <th></th>\n",
       "      <th></th>\n",
       "      <th></th>\n",
       "      <th></th>\n",
       "    </tr>\n",
       "  </thead>\n",
       "  <tbody>\n",
       "    <tr>\n",
       "      <th>Crime</th>\n",
       "      <td>7.8</td>\n",
       "      <td>The Girl with the Dragon Tattoo</td>\n",
       "      <td>R</td>\n",
       "      <td>152</td>\n",
       "      <td>[u'Michael Nyqvist', u'Noomi Rapace', u'Ewa Fr...</td>\n",
       "      <td>1</td>\n",
       "      <td>True</td>\n",
       "    </tr>\n",
       "    <tr>\n",
       "      <th>Horror</th>\n",
       "      <td>7.5</td>\n",
       "      <td>Dracula</td>\n",
       "      <td>R</td>\n",
       "      <td>128</td>\n",
       "      <td>[u'Gary Oldman', u'Winona Ryder', u'Anthony Ho...</td>\n",
       "      <td>1</td>\n",
       "      <td>True</td>\n",
       "    </tr>\n",
       "    <tr>\n",
       "      <th>Crime</th>\n",
       "      <td>7.5</td>\n",
       "      <td>Les Miserables</td>\n",
       "      <td>PG-13</td>\n",
       "      <td>134</td>\n",
       "      <td>[u'Liam Neeson', u'Geoffrey Rush', u'Uma Thurm...</td>\n",
       "      <td>1</td>\n",
       "      <td>True</td>\n",
       "    </tr>\n",
       "    <tr>\n",
       "      <th>Adventure</th>\n",
       "      <td>7.4</td>\n",
       "      <td>True Grit</td>\n",
       "      <td>NaN</td>\n",
       "      <td>128</td>\n",
       "      <td>[u'John Wayne', u'Kim Darby', u'Glen Campbell']</td>\n",
       "      <td>1</td>\n",
       "      <td>True</td>\n",
       "    </tr>\n",
       "  </tbody>\n",
       "</table>\n",
       "</div>"
      ],
      "text/plain": [
       "           star_rating                            title content_rating  \\\n",
       "genre                                                                    \n",
       "Crime              7.8  The Girl with the Dragon Tattoo              R   \n",
       "Horror             7.5                          Dracula              R   \n",
       "Crime              7.5                   Les Miserables          PG-13   \n",
       "Adventure          7.4                        True Grit            NaN   \n",
       "\n",
       "           duration                                        actors_list  count  \\\n",
       "genre                                                                           \n",
       "Crime           152  [u'Michael Nyqvist', u'Noomi Rapace', u'Ewa Fr...      1   \n",
       "Horror          128  [u'Gary Oldman', u'Winona Ryder', u'Anthony Ho...      1   \n",
       "Crime           134  [u'Liam Neeson', u'Geoffrey Rush', u'Uma Thurm...      1   \n",
       "Adventure       128    [u'John Wayne', u'Kim Darby', u'Glen Campbell']      1   \n",
       "\n",
       "           Duplicates  \n",
       "genre                  \n",
       "Crime            True  \n",
       "Horror           True  \n",
       "Crime            True  \n",
       "Adventure        True  "
      ]
     },
     "execution_count": 123,
     "metadata": {},
     "output_type": "execute_result"
    }
   ],
   "source": [
    "# Answer:\n",
    "\n",
    "movies[['title']]\n",
    "duplicates = movies.duplicated(subset=['title'])\n",
    "movies['Duplicates'] = duplicates\n",
    "movies\n",
    "movies[movies['Duplicates']==True]\n",
    "#how do i see the preceding row?"
   ]
  },
  {
   "cell_type": "markdown",
   "metadata": {
    "collapsed": true
   },
   "source": [
    "#### Calculate the average star rating for each genre, but only include genres with at least 10 movies\n"
   ]
  },
  {
   "cell_type": "markdown",
   "metadata": {},
   "source": [
    "#### Option 1: manually create a list of relevant genres, then filter using that list"
   ]
  },
  {
   "cell_type": "code",
   "execution_count": null,
   "metadata": {
    "collapsed": true
   },
   "outputs": [],
   "source": [
    "# Answer:"
   ]
  },
  {
   "cell_type": "markdown",
   "metadata": {},
   "source": [
    "#### Option 2: automatically create a list of relevant genres by saving the value_counts and then filtering"
   ]
  },
  {
   "cell_type": "code",
   "execution_count": null,
   "metadata": {
    "collapsed": true
   },
   "outputs": [],
   "source": [
    "# Answer:"
   ]
  },
  {
   "cell_type": "markdown",
   "metadata": {},
   "source": [
    "#### Option 3: calculate the average star rating for all genres, then filter using a boolean Series"
   ]
  },
  {
   "cell_type": "code",
   "execution_count": 198,
   "metadata": {},
   "outputs": [
    {
     "name": "stderr",
     "output_type": "stream",
     "text": [
      "<ipython-input-198-7c178c6f6872>:6: SettingWithCopyWarning:\n",
      "\n",
      "\n",
      "A value is trying to be set on a copy of a slice from a DataFrame.\n",
      "Try using .loc[row_indexer,col_indexer] = value instead\n",
      "\n",
      "See the caveats in the documentation: https://pandas.pydata.org/pandas-docs/stable/user_guide/indexing.html#returning-a-view-versus-a-copy\n",
      "\n"
     ]
    },
    {
     "data": {
      "text/html": [
       "<div>\n",
       "<style scoped>\n",
       "    .dataframe tbody tr th:only-of-type {\n",
       "        vertical-align: middle;\n",
       "    }\n",
       "\n",
       "    .dataframe tbody tr th {\n",
       "        vertical-align: top;\n",
       "    }\n",
       "\n",
       "    .dataframe thead th {\n",
       "        text-align: right;\n",
       "    }\n",
       "</style>\n",
       "<table border=\"1\" class=\"dataframe\">\n",
       "  <thead>\n",
       "    <tr style=\"text-align: right;\">\n",
       "      <th></th>\n",
       "      <th>star_rating</th>\n",
       "      <th>duration</th>\n",
       "      <th>count</th>\n",
       "      <th>Duplicates</th>\n",
       "      <th>average_score</th>\n",
       "    </tr>\n",
       "    <tr>\n",
       "      <th>genre</th>\n",
       "      <th></th>\n",
       "      <th></th>\n",
       "      <th></th>\n",
       "      <th></th>\n",
       "      <th></th>\n",
       "    </tr>\n",
       "  </thead>\n",
       "  <tbody>\n",
       "    <tr>\n",
       "      <th>Action</th>\n",
       "      <td>1072.3</td>\n",
       "      <td>17202</td>\n",
       "      <td>136</td>\n",
       "      <td>0</td>\n",
       "      <td>7.884559</td>\n",
       "    </tr>\n",
       "    <tr>\n",
       "      <th>Adventure</th>\n",
       "      <td>595.0</td>\n",
       "      <td>10113</td>\n",
       "      <td>75</td>\n",
       "      <td>1</td>\n",
       "      <td>7.933333</td>\n",
       "    </tr>\n",
       "    <tr>\n",
       "      <th>Animation</th>\n",
       "      <td>490.7</td>\n",
       "      <td>5989</td>\n",
       "      <td>62</td>\n",
       "      <td>0</td>\n",
       "      <td>7.914516</td>\n",
       "    </tr>\n",
       "    <tr>\n",
       "      <th>Biography</th>\n",
       "      <td>605.4</td>\n",
       "      <td>10152</td>\n",
       "      <td>77</td>\n",
       "      <td>0</td>\n",
       "      <td>7.862338</td>\n",
       "    </tr>\n",
       "    <tr>\n",
       "      <th>Comedy</th>\n",
       "      <td>1220.3</td>\n",
       "      <td>16786</td>\n",
       "      <td>156</td>\n",
       "      <td>0</td>\n",
       "      <td>7.822436</td>\n",
       "    </tr>\n",
       "    <tr>\n",
       "      <th>Crime</th>\n",
       "      <td>981.7</td>\n",
       "      <td>15165</td>\n",
       "      <td>124</td>\n",
       "      <td>2</td>\n",
       "      <td>7.916935</td>\n",
       "    </tr>\n",
       "    <tr>\n",
       "      <th>Drama</th>\n",
       "      <td>2196.9</td>\n",
       "      <td>35178</td>\n",
       "      <td>278</td>\n",
       "      <td>0</td>\n",
       "      <td>7.902518</td>\n",
       "    </tr>\n",
       "    <tr>\n",
       "      <th>Horror</th>\n",
       "      <td>226.4</td>\n",
       "      <td>2973</td>\n",
       "      <td>29</td>\n",
       "      <td>1</td>\n",
       "      <td>7.806897</td>\n",
       "    </tr>\n",
       "    <tr>\n",
       "      <th>Mystery</th>\n",
       "      <td>127.6</td>\n",
       "      <td>1850</td>\n",
       "      <td>16</td>\n",
       "      <td>0</td>\n",
       "      <td>7.975000</td>\n",
       "    </tr>\n",
       "  </tbody>\n",
       "</table>\n",
       "</div>"
      ],
      "text/plain": [
       "           star_rating  duration  count  Duplicates  average_score\n",
       "genre                                                             \n",
       "Action          1072.3     17202    136           0       7.884559\n",
       "Adventure        595.0     10113     75           1       7.933333\n",
       "Animation        490.7      5989     62           0       7.914516\n",
       "Biography        605.4     10152     77           0       7.862338\n",
       "Comedy          1220.3     16786    156           0       7.822436\n",
       "Crime            981.7     15165    124           2       7.916935\n",
       "Drama           2196.9     35178    278           0       7.902518\n",
       "Horror           226.4      2973     29           1       7.806897\n",
       "Mystery          127.6      1850     16           0       7.975000"
      ]
     },
     "execution_count": 198,
     "metadata": {},
     "output_type": "execute_result"
    }
   ],
   "source": [
    "# Answer:\n",
    "\n",
    "genre = movies.groupby(['genre']).sum()\n",
    "genre['count'] > 10\n",
    "keep = genre[genre['count'] > 10]\n",
    "keep['average_score'] = keep['star_rating']/keep['count']\n",
    "keep\n",
    "#genre = movies.groupby(['genre']).sum()\n",
    "#genre['average_rating'] = np.where(genre['count'] > 10, genre['count'], genre['star_rating']/genre['count'])\n",
    "#genre\n",
    "#avg=genre['star_rating']/[genre['count']]\n",
    "#genre[genre['count' > 10]]"
   ]
  },
  {
   "cell_type": "markdown",
   "metadata": {},
   "source": [
    "#### Option 4: aggregate by count and mean, then filter using the count"
   ]
  },
  {
   "cell_type": "code",
   "execution_count": null,
   "metadata": {
    "collapsed": true
   },
   "outputs": [],
   "source": [
    "# Answer:"
   ]
  },
  {
   "cell_type": "markdown",
   "metadata": {},
   "source": [
    "## Bonus"
   ]
  },
  {
   "cell_type": "markdown",
   "metadata": {
    "collapsed": true
   },
   "source": [
    "#### Figure out something \"interesting\" using the actors data!"
   ]
  },
  {
   "cell_type": "code",
   "execution_count": null,
   "metadata": {
    "collapsed": true
   },
   "outputs": [],
   "source": []
  }
 ],
 "metadata": {
  "kernelspec": {
   "display_name": "Python 3",
   "language": "python",
   "name": "python3"
  },
  "language_info": {
   "codemirror_mode": {
    "name": "ipython",
    "version": 3
   },
   "file_extension": ".py",
   "mimetype": "text/x-python",
   "name": "python",
   "nbconvert_exporter": "python",
   "pygments_lexer": "ipython3",
   "version": "3.8.8"
  }
 },
 "nbformat": 4,
 "nbformat_minor": 1
}
