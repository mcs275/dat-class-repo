{
 "cells": [
  {
   "cell_type": "markdown",
   "metadata": {},
   "source": [
    "<img src=\"http://imgur.com/1ZcRyrc.png\" style=\"float: left; margin: 20px; height: 55px\">\n",
    "\n",
    "# Project 2: Analyzing IMDb Data\n",
    "\n",
    "_Author: Kevin Markham (DC)_\n",
    "\n",
    "---"
   ]
  },
  {
   "cell_type": "markdown",
   "metadata": {},
   "source": [
    "For project two, you will complete a series of exercises exploring movie rating data from IMDb.\n",
    "\n",
    "For these exercises, you will be conducting basic exploratory data analysis on IMDB's movie data, looking to answer such questions as:\n",
    "\n",
    "What is the average rating per genre?\n",
    "How many different actors are in a movie?\n",
    "\n",
    "This process will help you practice your data analysis skills while becoming comfortable with Pandas."
   ]
  },
  {
   "cell_type": "markdown",
   "metadata": {},
   "source": [
    "## Basic level"
   ]
  },
  {
   "cell_type": "code",
   "execution_count": 2,
   "metadata": {},
   "outputs": [],
   "source": [
    "import pandas as pd\n",
    "import matplotlib.pyplot as plt\n",
    "%matplotlib inline"
   ]
  },
  {
   "cell_type": "markdown",
   "metadata": {},
   "source": [
    "#### Read in 'imdb_1000.csv' and store it in a DataFrame named movies."
   ]
  },
  {
   "cell_type": "code",
   "execution_count": 3,
   "metadata": {},
   "outputs": [
    {
     "data": {
      "text/html": [
       "<div>\n",
       "<style scoped>\n",
       "    .dataframe tbody tr th:only-of-type {\n",
       "        vertical-align: middle;\n",
       "    }\n",
       "\n",
       "    .dataframe tbody tr th {\n",
       "        vertical-align: top;\n",
       "    }\n",
       "\n",
       "    .dataframe thead th {\n",
       "        text-align: right;\n",
       "    }\n",
       "</style>\n",
       "<table border=\"1\" class=\"dataframe\">\n",
       "  <thead>\n",
       "    <tr style=\"text-align: right;\">\n",
       "      <th></th>\n",
       "      <th>star_rating</th>\n",
       "      <th>title</th>\n",
       "      <th>content_rating</th>\n",
       "      <th>genre</th>\n",
       "      <th>duration</th>\n",
       "      <th>actors_list</th>\n",
       "    </tr>\n",
       "  </thead>\n",
       "  <tbody>\n",
       "    <tr>\n",
       "      <th>0</th>\n",
       "      <td>9.3</td>\n",
       "      <td>The Shawshank Redemption</td>\n",
       "      <td>R</td>\n",
       "      <td>Crime</td>\n",
       "      <td>142</td>\n",
       "      <td>[u'Tim Robbins', u'Morgan Freeman', u'Bob Gunt...</td>\n",
       "    </tr>\n",
       "    <tr>\n",
       "      <th>1</th>\n",
       "      <td>9.2</td>\n",
       "      <td>The Godfather</td>\n",
       "      <td>R</td>\n",
       "      <td>Crime</td>\n",
       "      <td>175</td>\n",
       "      <td>[u'Marlon Brando', u'Al Pacino', u'James Caan']</td>\n",
       "    </tr>\n",
       "    <tr>\n",
       "      <th>2</th>\n",
       "      <td>9.1</td>\n",
       "      <td>The Godfather: Part II</td>\n",
       "      <td>R</td>\n",
       "      <td>Crime</td>\n",
       "      <td>200</td>\n",
       "      <td>[u'Al Pacino', u'Robert De Niro', u'Robert Duv...</td>\n",
       "    </tr>\n",
       "    <tr>\n",
       "      <th>3</th>\n",
       "      <td>9.0</td>\n",
       "      <td>The Dark Knight</td>\n",
       "      <td>PG-13</td>\n",
       "      <td>Action</td>\n",
       "      <td>152</td>\n",
       "      <td>[u'Christian Bale', u'Heath Ledger', u'Aaron E...</td>\n",
       "    </tr>\n",
       "    <tr>\n",
       "      <th>4</th>\n",
       "      <td>8.9</td>\n",
       "      <td>Pulp Fiction</td>\n",
       "      <td>R</td>\n",
       "      <td>Crime</td>\n",
       "      <td>154</td>\n",
       "      <td>[u'John Travolta', u'Uma Thurman', u'Samuel L....</td>\n",
       "    </tr>\n",
       "  </tbody>\n",
       "</table>\n",
       "</div>"
      ],
      "text/plain": [
       "   star_rating                     title content_rating   genre  duration  \\\n",
       "0          9.3  The Shawshank Redemption              R   Crime       142   \n",
       "1          9.2             The Godfather              R   Crime       175   \n",
       "2          9.1    The Godfather: Part II              R   Crime       200   \n",
       "3          9.0           The Dark Knight          PG-13  Action       152   \n",
       "4          8.9              Pulp Fiction              R   Crime       154   \n",
       "\n",
       "                                         actors_list  \n",
       "0  [u'Tim Robbins', u'Morgan Freeman', u'Bob Gunt...  \n",
       "1    [u'Marlon Brando', u'Al Pacino', u'James Caan']  \n",
       "2  [u'Al Pacino', u'Robert De Niro', u'Robert Duv...  \n",
       "3  [u'Christian Bale', u'Heath Ledger', u'Aaron E...  \n",
       "4  [u'John Travolta', u'Uma Thurman', u'Samuel L....  "
      ]
     },
     "execution_count": 3,
     "metadata": {},
     "output_type": "execute_result"
    }
   ],
   "source": [
    "movies = pd.read_csv('./data/imdb_1000.csv')\n",
    "movies.head()"
   ]
  },
  {
   "cell_type": "markdown",
   "metadata": {},
   "source": [
    "#### Check the number of rows and columns."
   ]
  },
  {
   "cell_type": "code",
   "execution_count": 4,
   "metadata": {},
   "outputs": [
    {
     "data": {
      "text/plain": [
       "979"
      ]
     },
     "execution_count": 4,
     "metadata": {},
     "output_type": "execute_result"
    }
   ],
   "source": [
    "movies.shape[0]"
   ]
  },
  {
   "cell_type": "code",
   "execution_count": 5,
   "metadata": {},
   "outputs": [
    {
     "data": {
      "text/plain": [
       "6"
      ]
     },
     "execution_count": 5,
     "metadata": {},
     "output_type": "execute_result"
    }
   ],
   "source": [
    "movies.shape[1]"
   ]
  },
  {
   "cell_type": "markdown",
   "metadata": {},
   "source": [
    "#### Check the data type of each column."
   ]
  },
  {
   "cell_type": "code",
   "execution_count": 6,
   "metadata": {},
   "outputs": [
    {
     "name": "stdout",
     "output_type": "stream",
     "text": [
      "<class 'pandas.core.frame.DataFrame'>\n",
      "RangeIndex: 979 entries, 0 to 978\n",
      "Data columns (total 6 columns):\n",
      " #   Column          Non-Null Count  Dtype  \n",
      "---  ------          --------------  -----  \n",
      " 0   star_rating     979 non-null    float64\n",
      " 1   title           979 non-null    object \n",
      " 2   content_rating  976 non-null    object \n",
      " 3   genre           979 non-null    object \n",
      " 4   duration        979 non-null    int64  \n",
      " 5   actors_list     979 non-null    object \n",
      "dtypes: float64(1), int64(1), object(4)\n",
      "memory usage: 46.0+ KB\n"
     ]
    }
   ],
   "source": [
    "#movies.dtypes\n",
    "movies.info() # preferred meathod "
   ]
  },
  {
   "cell_type": "markdown",
   "metadata": {},
   "source": [
    "#### Calculate the average movie duration."
   ]
  },
  {
   "cell_type": "code",
   "execution_count": 7,
   "metadata": {},
   "outputs": [
    {
     "data": {
      "text/plain": [
       "120.97957099080695"
      ]
     },
     "execution_count": 7,
     "metadata": {},
     "output_type": "execute_result"
    }
   ],
   "source": [
    "movies['duration'].mean()"
   ]
  },
  {
   "cell_type": "markdown",
   "metadata": {},
   "source": [
    "#### Sort the DataFrame by duration to find the shortest and longest movies."
   ]
  },
  {
   "cell_type": "code",
   "execution_count": 8,
   "metadata": {},
   "outputs": [],
   "source": [
    "#index max or query where value of duration = max/ min duration"
   ]
  },
  {
   "cell_type": "code",
   "execution_count": 9,
   "metadata": {
    "scrolled": false
   },
   "outputs": [
    {
     "data": {
      "text/html": [
       "<div>\n",
       "<style scoped>\n",
       "    .dataframe tbody tr th:only-of-type {\n",
       "        vertical-align: middle;\n",
       "    }\n",
       "\n",
       "    .dataframe tbody tr th {\n",
       "        vertical-align: top;\n",
       "    }\n",
       "\n",
       "    .dataframe thead th {\n",
       "        text-align: right;\n",
       "    }\n",
       "</style>\n",
       "<table border=\"1\" class=\"dataframe\">\n",
       "  <thead>\n",
       "    <tr style=\"text-align: right;\">\n",
       "      <th></th>\n",
       "      <th>star_rating</th>\n",
       "      <th>title</th>\n",
       "      <th>content_rating</th>\n",
       "      <th>genre</th>\n",
       "      <th>duration</th>\n",
       "      <th>actors_list</th>\n",
       "    </tr>\n",
       "  </thead>\n",
       "  <tbody>\n",
       "    <tr>\n",
       "      <th>476</th>\n",
       "      <td>7.8</td>\n",
       "      <td>Hamlet</td>\n",
       "      <td>PG-13</td>\n",
       "      <td>Drama</td>\n",
       "      <td>242</td>\n",
       "      <td>[u'Kenneth Branagh', u'Julie Christie', u'Dere...</td>\n",
       "    </tr>\n",
       "    <tr>\n",
       "      <th>157</th>\n",
       "      <td>8.2</td>\n",
       "      <td>Gone with the Wind</td>\n",
       "      <td>G</td>\n",
       "      <td>Drama</td>\n",
       "      <td>238</td>\n",
       "      <td>[u'Clark Gable', u'Vivien Leigh', u'Thomas Mit...</td>\n",
       "    </tr>\n",
       "    <tr>\n",
       "      <th>78</th>\n",
       "      <td>8.4</td>\n",
       "      <td>Once Upon a Time in America</td>\n",
       "      <td>R</td>\n",
       "      <td>Crime</td>\n",
       "      <td>229</td>\n",
       "      <td>[u'Robert De Niro', u'James Woods', u'Elizabet...</td>\n",
       "    </tr>\n",
       "    <tr>\n",
       "      <th>142</th>\n",
       "      <td>8.3</td>\n",
       "      <td>Lagaan: Once Upon a Time in India</td>\n",
       "      <td>PG</td>\n",
       "      <td>Adventure</td>\n",
       "      <td>224</td>\n",
       "      <td>[u'Aamir Khan', u'Gracy Singh', u'Rachel Shell...</td>\n",
       "    </tr>\n",
       "    <tr>\n",
       "      <th>445</th>\n",
       "      <td>7.9</td>\n",
       "      <td>The Ten Commandments</td>\n",
       "      <td>APPROVED</td>\n",
       "      <td>Adventure</td>\n",
       "      <td>220</td>\n",
       "      <td>[u'Charlton Heston', u'Yul Brynner', u'Anne Ba...</td>\n",
       "    </tr>\n",
       "    <tr>\n",
       "      <th>...</th>\n",
       "      <td>...</td>\n",
       "      <td>...</td>\n",
       "      <td>...</td>\n",
       "      <td>...</td>\n",
       "      <td>...</td>\n",
       "      <td>...</td>\n",
       "    </tr>\n",
       "    <tr>\n",
       "      <th>293</th>\n",
       "      <td>8.1</td>\n",
       "      <td>Duck Soup</td>\n",
       "      <td>PASSED</td>\n",
       "      <td>Comedy</td>\n",
       "      <td>68</td>\n",
       "      <td>[u'Groucho Marx', u'Harpo Marx', u'Chico Marx']</td>\n",
       "    </tr>\n",
       "    <tr>\n",
       "      <th>88</th>\n",
       "      <td>8.4</td>\n",
       "      <td>The Kid</td>\n",
       "      <td>NOT RATED</td>\n",
       "      <td>Comedy</td>\n",
       "      <td>68</td>\n",
       "      <td>[u'Charles Chaplin', u'Edna Purviance', u'Jack...</td>\n",
       "    </tr>\n",
       "    <tr>\n",
       "      <th>258</th>\n",
       "      <td>8.1</td>\n",
       "      <td>The Cabinet of Dr. Caligari</td>\n",
       "      <td>UNRATED</td>\n",
       "      <td>Crime</td>\n",
       "      <td>67</td>\n",
       "      <td>[u'Werner Krauss', u'Conrad Veidt', u'Friedric...</td>\n",
       "    </tr>\n",
       "    <tr>\n",
       "      <th>338</th>\n",
       "      <td>8.0</td>\n",
       "      <td>Battleship Potemkin</td>\n",
       "      <td>UNRATED</td>\n",
       "      <td>History</td>\n",
       "      <td>66</td>\n",
       "      <td>[u'Aleksandr Antonov', u'Vladimir Barsky', u'G...</td>\n",
       "    </tr>\n",
       "    <tr>\n",
       "      <th>389</th>\n",
       "      <td>8.0</td>\n",
       "      <td>Freaks</td>\n",
       "      <td>UNRATED</td>\n",
       "      <td>Drama</td>\n",
       "      <td>64</td>\n",
       "      <td>[u'Wallace Ford', u'Leila Hyams', u'Olga Bacla...</td>\n",
       "    </tr>\n",
       "  </tbody>\n",
       "</table>\n",
       "<p>979 rows × 6 columns</p>\n",
       "</div>"
      ],
      "text/plain": [
       "     star_rating                              title content_rating      genre  \\\n",
       "476          7.8                             Hamlet          PG-13      Drama   \n",
       "157          8.2                 Gone with the Wind              G      Drama   \n",
       "78           8.4        Once Upon a Time in America              R      Crime   \n",
       "142          8.3  Lagaan: Once Upon a Time in India             PG  Adventure   \n",
       "445          7.9               The Ten Commandments       APPROVED  Adventure   \n",
       "..           ...                                ...            ...        ...   \n",
       "293          8.1                          Duck Soup         PASSED     Comedy   \n",
       "88           8.4                            The Kid      NOT RATED     Comedy   \n",
       "258          8.1        The Cabinet of Dr. Caligari        UNRATED      Crime   \n",
       "338          8.0                Battleship Potemkin        UNRATED    History   \n",
       "389          8.0                             Freaks        UNRATED      Drama   \n",
       "\n",
       "     duration                                        actors_list  \n",
       "476       242  [u'Kenneth Branagh', u'Julie Christie', u'Dere...  \n",
       "157       238  [u'Clark Gable', u'Vivien Leigh', u'Thomas Mit...  \n",
       "78        229  [u'Robert De Niro', u'James Woods', u'Elizabet...  \n",
       "142       224  [u'Aamir Khan', u'Gracy Singh', u'Rachel Shell...  \n",
       "445       220  [u'Charlton Heston', u'Yul Brynner', u'Anne Ba...  \n",
       "..        ...                                                ...  \n",
       "293        68    [u'Groucho Marx', u'Harpo Marx', u'Chico Marx']  \n",
       "88         68  [u'Charles Chaplin', u'Edna Purviance', u'Jack...  \n",
       "258        67  [u'Werner Krauss', u'Conrad Veidt', u'Friedric...  \n",
       "338        66  [u'Aleksandr Antonov', u'Vladimir Barsky', u'G...  \n",
       "389        64  [u'Wallace Ford', u'Leila Hyams', u'Olga Bacla...  \n",
       "\n",
       "[979 rows x 6 columns]"
      ]
     },
     "execution_count": 9,
     "metadata": {},
     "output_type": "execute_result"
    }
   ],
   "source": [
    "movies.sort_values(['duration'], ascending = False)"
   ]
  },
  {
   "cell_type": "code",
   "execution_count": 10,
   "metadata": {
    "scrolled": true
   },
   "outputs": [
    {
     "data": {
      "text/html": [
       "<div>\n",
       "<style scoped>\n",
       "    .dataframe tbody tr th:only-of-type {\n",
       "        vertical-align: middle;\n",
       "    }\n",
       "\n",
       "    .dataframe tbody tr th {\n",
       "        vertical-align: top;\n",
       "    }\n",
       "\n",
       "    .dataframe thead th {\n",
       "        text-align: right;\n",
       "    }\n",
       "</style>\n",
       "<table border=\"1\" class=\"dataframe\">\n",
       "  <thead>\n",
       "    <tr style=\"text-align: right;\">\n",
       "      <th></th>\n",
       "      <th>star_rating</th>\n",
       "      <th>title</th>\n",
       "      <th>content_rating</th>\n",
       "      <th>genre</th>\n",
       "      <th>duration</th>\n",
       "      <th>actors_list</th>\n",
       "    </tr>\n",
       "  </thead>\n",
       "  <tbody>\n",
       "    <tr>\n",
       "      <th>476</th>\n",
       "      <td>7.8</td>\n",
       "      <td>Hamlet</td>\n",
       "      <td>PG-13</td>\n",
       "      <td>Drama</td>\n",
       "      <td>242</td>\n",
       "      <td>[u'Kenneth Branagh', u'Julie Christie', u'Dere...</td>\n",
       "    </tr>\n",
       "    <tr>\n",
       "      <th>157</th>\n",
       "      <td>8.2</td>\n",
       "      <td>Gone with the Wind</td>\n",
       "      <td>G</td>\n",
       "      <td>Drama</td>\n",
       "      <td>238</td>\n",
       "      <td>[u'Clark Gable', u'Vivien Leigh', u'Thomas Mit...</td>\n",
       "    </tr>\n",
       "    <tr>\n",
       "      <th>78</th>\n",
       "      <td>8.4</td>\n",
       "      <td>Once Upon a Time in America</td>\n",
       "      <td>R</td>\n",
       "      <td>Crime</td>\n",
       "      <td>229</td>\n",
       "      <td>[u'Robert De Niro', u'James Woods', u'Elizabet...</td>\n",
       "    </tr>\n",
       "    <tr>\n",
       "      <th>142</th>\n",
       "      <td>8.3</td>\n",
       "      <td>Lagaan: Once Upon a Time in India</td>\n",
       "      <td>PG</td>\n",
       "      <td>Adventure</td>\n",
       "      <td>224</td>\n",
       "      <td>[u'Aamir Khan', u'Gracy Singh', u'Rachel Shell...</td>\n",
       "    </tr>\n",
       "    <tr>\n",
       "      <th>445</th>\n",
       "      <td>7.9</td>\n",
       "      <td>The Ten Commandments</td>\n",
       "      <td>APPROVED</td>\n",
       "      <td>Adventure</td>\n",
       "      <td>220</td>\n",
       "      <td>[u'Charlton Heston', u'Yul Brynner', u'Anne Ba...</td>\n",
       "    </tr>\n",
       "  </tbody>\n",
       "</table>\n",
       "</div>"
      ],
      "text/plain": [
       "     star_rating                              title content_rating      genre  \\\n",
       "476          7.8                             Hamlet          PG-13      Drama   \n",
       "157          8.2                 Gone with the Wind              G      Drama   \n",
       "78           8.4        Once Upon a Time in America              R      Crime   \n",
       "142          8.3  Lagaan: Once Upon a Time in India             PG  Adventure   \n",
       "445          7.9               The Ten Commandments       APPROVED  Adventure   \n",
       "\n",
       "     duration                                        actors_list  \n",
       "476       242  [u'Kenneth Branagh', u'Julie Christie', u'Dere...  \n",
       "157       238  [u'Clark Gable', u'Vivien Leigh', u'Thomas Mit...  \n",
       "78        229  [u'Robert De Niro', u'James Woods', u'Elizabet...  \n",
       "142       224  [u'Aamir Khan', u'Gracy Singh', u'Rachel Shell...  \n",
       "445       220  [u'Charlton Heston', u'Yul Brynner', u'Anne Ba...  "
      ]
     },
     "execution_count": 10,
     "metadata": {},
     "output_type": "execute_result"
    }
   ],
   "source": [
    "movies.sort_values(['duration'], ascending = False).head(5)"
   ]
  },
  {
   "cell_type": "code",
   "execution_count": 11,
   "metadata": {},
   "outputs": [
    {
     "data": {
      "text/html": [
       "<div>\n",
       "<style scoped>\n",
       "    .dataframe tbody tr th:only-of-type {\n",
       "        vertical-align: middle;\n",
       "    }\n",
       "\n",
       "    .dataframe tbody tr th {\n",
       "        vertical-align: top;\n",
       "    }\n",
       "\n",
       "    .dataframe thead th {\n",
       "        text-align: right;\n",
       "    }\n",
       "</style>\n",
       "<table border=\"1\" class=\"dataframe\">\n",
       "  <thead>\n",
       "    <tr style=\"text-align: right;\">\n",
       "      <th></th>\n",
       "      <th>star_rating</th>\n",
       "      <th>title</th>\n",
       "      <th>content_rating</th>\n",
       "      <th>genre</th>\n",
       "      <th>duration</th>\n",
       "      <th>actors_list</th>\n",
       "    </tr>\n",
       "  </thead>\n",
       "  <tbody>\n",
       "    <tr>\n",
       "      <th>293</th>\n",
       "      <td>8.1</td>\n",
       "      <td>Duck Soup</td>\n",
       "      <td>PASSED</td>\n",
       "      <td>Comedy</td>\n",
       "      <td>68</td>\n",
       "      <td>[u'Groucho Marx', u'Harpo Marx', u'Chico Marx']</td>\n",
       "    </tr>\n",
       "    <tr>\n",
       "      <th>88</th>\n",
       "      <td>8.4</td>\n",
       "      <td>The Kid</td>\n",
       "      <td>NOT RATED</td>\n",
       "      <td>Comedy</td>\n",
       "      <td>68</td>\n",
       "      <td>[u'Charles Chaplin', u'Edna Purviance', u'Jack...</td>\n",
       "    </tr>\n",
       "    <tr>\n",
       "      <th>258</th>\n",
       "      <td>8.1</td>\n",
       "      <td>The Cabinet of Dr. Caligari</td>\n",
       "      <td>UNRATED</td>\n",
       "      <td>Crime</td>\n",
       "      <td>67</td>\n",
       "      <td>[u'Werner Krauss', u'Conrad Veidt', u'Friedric...</td>\n",
       "    </tr>\n",
       "    <tr>\n",
       "      <th>338</th>\n",
       "      <td>8.0</td>\n",
       "      <td>Battleship Potemkin</td>\n",
       "      <td>UNRATED</td>\n",
       "      <td>History</td>\n",
       "      <td>66</td>\n",
       "      <td>[u'Aleksandr Antonov', u'Vladimir Barsky', u'G...</td>\n",
       "    </tr>\n",
       "    <tr>\n",
       "      <th>389</th>\n",
       "      <td>8.0</td>\n",
       "      <td>Freaks</td>\n",
       "      <td>UNRATED</td>\n",
       "      <td>Drama</td>\n",
       "      <td>64</td>\n",
       "      <td>[u'Wallace Ford', u'Leila Hyams', u'Olga Bacla...</td>\n",
       "    </tr>\n",
       "  </tbody>\n",
       "</table>\n",
       "</div>"
      ],
      "text/plain": [
       "     star_rating                        title content_rating    genre  \\\n",
       "293          8.1                    Duck Soup         PASSED   Comedy   \n",
       "88           8.4                      The Kid      NOT RATED   Comedy   \n",
       "258          8.1  The Cabinet of Dr. Caligari        UNRATED    Crime   \n",
       "338          8.0          Battleship Potemkin        UNRATED  History   \n",
       "389          8.0                       Freaks        UNRATED    Drama   \n",
       "\n",
       "     duration                                        actors_list  \n",
       "293        68    [u'Groucho Marx', u'Harpo Marx', u'Chico Marx']  \n",
       "88         68  [u'Charles Chaplin', u'Edna Purviance', u'Jack...  \n",
       "258        67  [u'Werner Krauss', u'Conrad Veidt', u'Friedric...  \n",
       "338        66  [u'Aleksandr Antonov', u'Vladimir Barsky', u'G...  \n",
       "389        64  [u'Wallace Ford', u'Leila Hyams', u'Olga Bacla...  "
      ]
     },
     "execution_count": 11,
     "metadata": {},
     "output_type": "execute_result"
    }
   ],
   "source": [
    "movies.sort_values(['duration'], ascending = False).tail(5)"
   ]
  },
  {
   "cell_type": "markdown",
   "metadata": {},
   "source": [
    "#### Create a histogram of duration, choosing an \"appropriate\" number of bins."
   ]
  },
  {
   "cell_type": "code",
   "execution_count": 12,
   "metadata": {
    "scrolled": true
   },
   "outputs": [
    {
     "data": {
      "text/plain": [
       "<AxesSubplot:title={'center':'Duration of Films'}, ylabel='Frequency'>"
      ]
     },
     "execution_count": 12,
     "metadata": {},
     "output_type": "execute_result"
    },
    {
     "data": {
      "image/png": "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\n",
      "text/plain": [
       "<Figure size 720x432 with 1 Axes>"
      ]
     },
     "metadata": {
      "needs_background": "light"
     },
     "output_type": "display_data"
    }
   ],
   "source": [
    "movies['duration'].plot(kind = 'hist', bins=10, figsize = (10,6), title = 'Duration of Films')\n",
    "#check additional arguements, ?"
   ]
  },
  {
   "cell_type": "code",
   "execution_count": 13,
   "metadata": {},
   "outputs": [],
   "source": [
    "?movies.hist"
   ]
  },
  {
   "cell_type": "markdown",
   "metadata": {},
   "source": [
    "#### Use a box plot to display that same data."
   ]
  },
  {
   "cell_type": "code",
   "execution_count": 14,
   "metadata": {},
   "outputs": [
    {
     "data": {
      "text/plain": [
       "<AxesSubplot:>"
      ]
     },
     "execution_count": 14,
     "metadata": {},
     "output_type": "execute_result"
    },
    {
     "data": {
      "image/png": "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\n",
      "text/plain": [
       "<Figure size 432x288 with 1 Axes>"
      ]
     },
     "metadata": {
      "needs_background": "light"
     },
     "output_type": "display_data"
    }
   ],
   "source": [
    "movies.boxplot(column = 'duration')"
   ]
  },
  {
   "cell_type": "markdown",
   "metadata": {},
   "source": [
    "## Intermediate level"
   ]
  },
  {
   "cell_type": "markdown",
   "metadata": {},
   "source": [
    "#### Count how many movies have each of the content ratings."
   ]
  },
  {
   "cell_type": "code",
   "execution_count": 16,
   "metadata": {},
   "outputs": [
    {
     "data": {
      "text/html": [
       "<div>\n",
       "<style scoped>\n",
       "    .dataframe tbody tr th:only-of-type {\n",
       "        vertical-align: middle;\n",
       "    }\n",
       "\n",
       "    .dataframe tbody tr th {\n",
       "        vertical-align: top;\n",
       "    }\n",
       "\n",
       "    .dataframe thead th {\n",
       "        text-align: right;\n",
       "    }\n",
       "</style>\n",
       "<table border=\"1\" class=\"dataframe\">\n",
       "  <thead>\n",
       "    <tr style=\"text-align: right;\">\n",
       "      <th></th>\n",
       "      <th>star_rating</th>\n",
       "      <th>title</th>\n",
       "      <th>genre</th>\n",
       "      <th>duration</th>\n",
       "      <th>actors_list</th>\n",
       "    </tr>\n",
       "    <tr>\n",
       "      <th>content_rating</th>\n",
       "      <th></th>\n",
       "      <th></th>\n",
       "      <th></th>\n",
       "      <th></th>\n",
       "      <th></th>\n",
       "    </tr>\n",
       "  </thead>\n",
       "  <tbody>\n",
       "    <tr>\n",
       "      <th>APPROVED</th>\n",
       "      <td>47</td>\n",
       "      <td>47</td>\n",
       "      <td>47</td>\n",
       "      <td>47</td>\n",
       "      <td>47</td>\n",
       "    </tr>\n",
       "    <tr>\n",
       "      <th>G</th>\n",
       "      <td>32</td>\n",
       "      <td>32</td>\n",
       "      <td>32</td>\n",
       "      <td>32</td>\n",
       "      <td>32</td>\n",
       "    </tr>\n",
       "    <tr>\n",
       "      <th>GP</th>\n",
       "      <td>3</td>\n",
       "      <td>3</td>\n",
       "      <td>3</td>\n",
       "      <td>3</td>\n",
       "      <td>3</td>\n",
       "    </tr>\n",
       "    <tr>\n",
       "      <th>NC-17</th>\n",
       "      <td>7</td>\n",
       "      <td>7</td>\n",
       "      <td>7</td>\n",
       "      <td>7</td>\n",
       "      <td>7</td>\n",
       "    </tr>\n",
       "    <tr>\n",
       "      <th>NOT RATED</th>\n",
       "      <td>65</td>\n",
       "      <td>65</td>\n",
       "      <td>65</td>\n",
       "      <td>65</td>\n",
       "      <td>65</td>\n",
       "    </tr>\n",
       "    <tr>\n",
       "      <th>PASSED</th>\n",
       "      <td>7</td>\n",
       "      <td>7</td>\n",
       "      <td>7</td>\n",
       "      <td>7</td>\n",
       "      <td>7</td>\n",
       "    </tr>\n",
       "    <tr>\n",
       "      <th>PG</th>\n",
       "      <td>123</td>\n",
       "      <td>123</td>\n",
       "      <td>123</td>\n",
       "      <td>123</td>\n",
       "      <td>123</td>\n",
       "    </tr>\n",
       "    <tr>\n",
       "      <th>PG-13</th>\n",
       "      <td>189</td>\n",
       "      <td>189</td>\n",
       "      <td>189</td>\n",
       "      <td>189</td>\n",
       "      <td>189</td>\n",
       "    </tr>\n",
       "    <tr>\n",
       "      <th>R</th>\n",
       "      <td>460</td>\n",
       "      <td>460</td>\n",
       "      <td>460</td>\n",
       "      <td>460</td>\n",
       "      <td>460</td>\n",
       "    </tr>\n",
       "    <tr>\n",
       "      <th>TV-MA</th>\n",
       "      <td>1</td>\n",
       "      <td>1</td>\n",
       "      <td>1</td>\n",
       "      <td>1</td>\n",
       "      <td>1</td>\n",
       "    </tr>\n",
       "    <tr>\n",
       "      <th>UNRATED</th>\n",
       "      <td>38</td>\n",
       "      <td>38</td>\n",
       "      <td>38</td>\n",
       "      <td>38</td>\n",
       "      <td>38</td>\n",
       "    </tr>\n",
       "    <tr>\n",
       "      <th>X</th>\n",
       "      <td>4</td>\n",
       "      <td>4</td>\n",
       "      <td>4</td>\n",
       "      <td>4</td>\n",
       "      <td>4</td>\n",
       "    </tr>\n",
       "  </tbody>\n",
       "</table>\n",
       "</div>"
      ],
      "text/plain": [
       "                star_rating  title  genre  duration  actors_list\n",
       "content_rating                                                  \n",
       "APPROVED                 47     47     47        47           47\n",
       "G                        32     32     32        32           32\n",
       "GP                        3      3      3         3            3\n",
       "NC-17                     7      7      7         7            7\n",
       "NOT RATED                65     65     65        65           65\n",
       "PASSED                    7      7      7         7            7\n",
       "PG                      123    123    123       123          123\n",
       "PG-13                   189    189    189       189          189\n",
       "R                       460    460    460       460          460\n",
       "TV-MA                     1      1      1         1            1\n",
       "UNRATED                  38     38     38        38           38\n",
       "X                         4      4      4         4            4"
      ]
     },
     "execution_count": 16,
     "metadata": {},
     "output_type": "execute_result"
    }
   ],
   "source": [
    "movies.groupby('content_rating').count()"
   ]
  },
  {
   "cell_type": "markdown",
   "metadata": {},
   "source": [
    "#### Use a visualization to display that same data, including a title and x and y labels."
   ]
  },
  {
   "cell_type": "code",
   "execution_count": 22,
   "metadata": {},
   "outputs": [],
   "source": [
    "groupby_values = movies.groupby('content_rating')['title'].count()\n",
    "#movies['groupby_values'].plot(kind = 'bar', x = 'title', y = 'content_rating')\n",
    "#graph the grouping"
   ]
  },
  {
   "cell_type": "code",
   "execution_count": 126,
   "metadata": {
    "scrolled": true
   },
   "outputs": [],
   "source": [
    "#trying to create a bar chart with content ratings on the x and sum of total films on the y\n",
    "#movies['content_rating'].plot(kind = 'bar', x = 'content_rating', y = sum('title'))"
   ]
  },
  {
   "cell_type": "markdown",
   "metadata": {},
   "source": [
    "#### Convert the following content ratings to \"UNRATED\": NOT RATED, APPROVED, PASSED, GP."
   ]
  },
  {
   "cell_type": "code",
   "execution_count": 130,
   "metadata": {},
   "outputs": [],
   "source": [
    "#movies.replace((to_replace = [('NOT RATED', 'APPROVED', 'PASSED', 'GP')]), value = 'UNRATED')\n",
    "content_ratings = movieSs['content_rating'].replace(to_replace =['NOT RATED', 'APPROVED', 'PASSED', 'GP'], value = 'UNRATED')"
   ]
  },
  {
   "cell_type": "code",
   "execution_count": 132,
   "metadata": {},
   "outputs": [],
   "source": [
    "movies['content_rating'] = content_ratings"
   ]
  },
  {
   "cell_type": "code",
   "execution_count": 138,
   "metadata": {},
   "outputs": [
    {
     "data": {
      "text/plain": [
       "array(['R', 'PG-13', 'UNRATED', 'PG', 'G', 'X', nan, 'TV-MA', 'NC-17'],\n",
       "      dtype=object)"
      ]
     },
     "execution_count": 138,
     "metadata": {},
     "output_type": "execute_result"
    }
   ],
   "source": [
    "movies['content_rating'].unique()"
   ]
  },
  {
   "cell_type": "markdown",
   "metadata": {},
   "source": [
    "#### Convert the following content ratings to \"NC-17\": X, TV-MA."
   ]
  },
  {
   "cell_type": "code",
   "execution_count": 87,
   "metadata": {
    "scrolled": true
   },
   "outputs": [
    {
     "data": {
      "text/html": [
       "<div>\n",
       "<style scoped>\n",
       "    .dataframe tbody tr th:only-of-type {\n",
       "        vertical-align: middle;\n",
       "    }\n",
       "\n",
       "    .dataframe tbody tr th {\n",
       "        vertical-align: top;\n",
       "    }\n",
       "\n",
       "    .dataframe thead th {\n",
       "        text-align: right;\n",
       "    }\n",
       "</style>\n",
       "<table border=\"1\" class=\"dataframe\">\n",
       "  <thead>\n",
       "    <tr style=\"text-align: right;\">\n",
       "      <th></th>\n",
       "      <th>star_rating</th>\n",
       "      <th>title</th>\n",
       "      <th>content_rating</th>\n",
       "      <th>genre</th>\n",
       "      <th>duration</th>\n",
       "      <th>actors_list</th>\n",
       "    </tr>\n",
       "  </thead>\n",
       "  <tbody>\n",
       "    <tr>\n",
       "      <th>0</th>\n",
       "      <td>9.3</td>\n",
       "      <td>The Shawshank Redemption</td>\n",
       "      <td>R</td>\n",
       "      <td>Crime</td>\n",
       "      <td>142</td>\n",
       "      <td>[u'Tim Robbins', u'Morgan Freeman', u'Bob Gunt...</td>\n",
       "    </tr>\n",
       "    <tr>\n",
       "      <th>1</th>\n",
       "      <td>9.2</td>\n",
       "      <td>The Godfather</td>\n",
       "      <td>R</td>\n",
       "      <td>Crime</td>\n",
       "      <td>175</td>\n",
       "      <td>[u'Marlon Brando', u'Al Pacino', u'James Caan']</td>\n",
       "    </tr>\n",
       "    <tr>\n",
       "      <th>2</th>\n",
       "      <td>9.1</td>\n",
       "      <td>The Godfather: Part II</td>\n",
       "      <td>R</td>\n",
       "      <td>Crime</td>\n",
       "      <td>200</td>\n",
       "      <td>[u'Al Pacino', u'Robert De Niro', u'Robert Duv...</td>\n",
       "    </tr>\n",
       "    <tr>\n",
       "      <th>3</th>\n",
       "      <td>9.0</td>\n",
       "      <td>The Dark Knight</td>\n",
       "      <td>PG-13</td>\n",
       "      <td>Action</td>\n",
       "      <td>152</td>\n",
       "      <td>[u'Christian Bale', u'Heath Ledger', u'Aaron E...</td>\n",
       "    </tr>\n",
       "    <tr>\n",
       "      <th>4</th>\n",
       "      <td>8.9</td>\n",
       "      <td>Pulp Fiction</td>\n",
       "      <td>R</td>\n",
       "      <td>Crime</td>\n",
       "      <td>154</td>\n",
       "      <td>[u'John Travolta', u'Uma Thurman', u'Samuel L....</td>\n",
       "    </tr>\n",
       "    <tr>\n",
       "      <th>...</th>\n",
       "      <td>...</td>\n",
       "      <td>...</td>\n",
       "      <td>...</td>\n",
       "      <td>...</td>\n",
       "      <td>...</td>\n",
       "      <td>...</td>\n",
       "    </tr>\n",
       "    <tr>\n",
       "      <th>974</th>\n",
       "      <td>7.4</td>\n",
       "      <td>Tootsie</td>\n",
       "      <td>PG</td>\n",
       "      <td>Comedy</td>\n",
       "      <td>116</td>\n",
       "      <td>[u'Dustin Hoffman', u'Jessica Lange', u'Teri G...</td>\n",
       "    </tr>\n",
       "    <tr>\n",
       "      <th>975</th>\n",
       "      <td>7.4</td>\n",
       "      <td>Back to the Future Part III</td>\n",
       "      <td>PG</td>\n",
       "      <td>Adventure</td>\n",
       "      <td>118</td>\n",
       "      <td>[u'Michael J. Fox', u'Christopher Lloyd', u'Ma...</td>\n",
       "    </tr>\n",
       "    <tr>\n",
       "      <th>976</th>\n",
       "      <td>7.4</td>\n",
       "      <td>Master and Commander: The Far Side of the World</td>\n",
       "      <td>PG-13</td>\n",
       "      <td>Action</td>\n",
       "      <td>138</td>\n",
       "      <td>[u'Russell Crowe', u'Paul Bettany', u'Billy Bo...</td>\n",
       "    </tr>\n",
       "    <tr>\n",
       "      <th>977</th>\n",
       "      <td>7.4</td>\n",
       "      <td>Poltergeist</td>\n",
       "      <td>PG</td>\n",
       "      <td>Horror</td>\n",
       "      <td>114</td>\n",
       "      <td>[u'JoBeth Williams', u\"Heather O'Rourke\", u'Cr...</td>\n",
       "    </tr>\n",
       "    <tr>\n",
       "      <th>978</th>\n",
       "      <td>7.4</td>\n",
       "      <td>Wall Street</td>\n",
       "      <td>R</td>\n",
       "      <td>Crime</td>\n",
       "      <td>126</td>\n",
       "      <td>[u'Charlie Sheen', u'Michael Douglas', u'Tamar...</td>\n",
       "    </tr>\n",
       "  </tbody>\n",
       "</table>\n",
       "<p>979 rows × 6 columns</p>\n",
       "</div>"
      ],
      "text/plain": [
       "     star_rating                                            title  \\\n",
       "0            9.3                         The Shawshank Redemption   \n",
       "1            9.2                                    The Godfather   \n",
       "2            9.1                           The Godfather: Part II   \n",
       "3            9.0                                  The Dark Knight   \n",
       "4            8.9                                     Pulp Fiction   \n",
       "..           ...                                              ...   \n",
       "974          7.4                                          Tootsie   \n",
       "975          7.4                      Back to the Future Part III   \n",
       "976          7.4  Master and Commander: The Far Side of the World   \n",
       "977          7.4                                      Poltergeist   \n",
       "978          7.4                                      Wall Street   \n",
       "\n",
       "    content_rating      genre  duration  \\\n",
       "0                R      Crime       142   \n",
       "1                R      Crime       175   \n",
       "2                R      Crime       200   \n",
       "3            PG-13     Action       152   \n",
       "4                R      Crime       154   \n",
       "..             ...        ...       ...   \n",
       "974             PG     Comedy       116   \n",
       "975             PG  Adventure       118   \n",
       "976          PG-13     Action       138   \n",
       "977             PG     Horror       114   \n",
       "978              R      Crime       126   \n",
       "\n",
       "                                           actors_list  \n",
       "0    [u'Tim Robbins', u'Morgan Freeman', u'Bob Gunt...  \n",
       "1      [u'Marlon Brando', u'Al Pacino', u'James Caan']  \n",
       "2    [u'Al Pacino', u'Robert De Niro', u'Robert Duv...  \n",
       "3    [u'Christian Bale', u'Heath Ledger', u'Aaron E...  \n",
       "4    [u'John Travolta', u'Uma Thurman', u'Samuel L....  \n",
       "..                                                 ...  \n",
       "974  [u'Dustin Hoffman', u'Jessica Lange', u'Teri G...  \n",
       "975  [u'Michael J. Fox', u'Christopher Lloyd', u'Ma...  \n",
       "976  [u'Russell Crowe', u'Paul Bettany', u'Billy Bo...  \n",
       "977  [u'JoBeth Williams', u\"Heather O'Rourke\", u'Cr...  \n",
       "978  [u'Charlie Sheen', u'Michael Douglas', u'Tamar...  \n",
       "\n",
       "[979 rows x 6 columns]"
      ]
     },
     "execution_count": 87,
     "metadata": {},
     "output_type": "execute_result"
    }
   ],
   "source": [
    "movies.replace(to_replace ='X', value = 'NC-17')"
   ]
  },
  {
   "cell_type": "code",
   "execution_count": 88,
   "metadata": {},
   "outputs": [
    {
     "data": {
      "text/html": [
       "<div>\n",
       "<style scoped>\n",
       "    .dataframe tbody tr th:only-of-type {\n",
       "        vertical-align: middle;\n",
       "    }\n",
       "\n",
       "    .dataframe tbody tr th {\n",
       "        vertical-align: top;\n",
       "    }\n",
       "\n",
       "    .dataframe thead th {\n",
       "        text-align: right;\n",
       "    }\n",
       "</style>\n",
       "<table border=\"1\" class=\"dataframe\">\n",
       "  <thead>\n",
       "    <tr style=\"text-align: right;\">\n",
       "      <th></th>\n",
       "      <th>star_rating</th>\n",
       "      <th>title</th>\n",
       "      <th>content_rating</th>\n",
       "      <th>genre</th>\n",
       "      <th>duration</th>\n",
       "      <th>actors_list</th>\n",
       "    </tr>\n",
       "  </thead>\n",
       "  <tbody>\n",
       "    <tr>\n",
       "      <th>0</th>\n",
       "      <td>9.3</td>\n",
       "      <td>The Shawshank Redemption</td>\n",
       "      <td>R</td>\n",
       "      <td>Crime</td>\n",
       "      <td>142</td>\n",
       "      <td>[u'Tim Robbins', u'Morgan Freeman', u'Bob Gunt...</td>\n",
       "    </tr>\n",
       "    <tr>\n",
       "      <th>1</th>\n",
       "      <td>9.2</td>\n",
       "      <td>The Godfather</td>\n",
       "      <td>R</td>\n",
       "      <td>Crime</td>\n",
       "      <td>175</td>\n",
       "      <td>[u'Marlon Brando', u'Al Pacino', u'James Caan']</td>\n",
       "    </tr>\n",
       "    <tr>\n",
       "      <th>2</th>\n",
       "      <td>9.1</td>\n",
       "      <td>The Godfather: Part II</td>\n",
       "      <td>R</td>\n",
       "      <td>Crime</td>\n",
       "      <td>200</td>\n",
       "      <td>[u'Al Pacino', u'Robert De Niro', u'Robert Duv...</td>\n",
       "    </tr>\n",
       "    <tr>\n",
       "      <th>3</th>\n",
       "      <td>9.0</td>\n",
       "      <td>The Dark Knight</td>\n",
       "      <td>PG-13</td>\n",
       "      <td>Action</td>\n",
       "      <td>152</td>\n",
       "      <td>[u'Christian Bale', u'Heath Ledger', u'Aaron E...</td>\n",
       "    </tr>\n",
       "    <tr>\n",
       "      <th>4</th>\n",
       "      <td>8.9</td>\n",
       "      <td>Pulp Fiction</td>\n",
       "      <td>R</td>\n",
       "      <td>Crime</td>\n",
       "      <td>154</td>\n",
       "      <td>[u'John Travolta', u'Uma Thurman', u'Samuel L....</td>\n",
       "    </tr>\n",
       "    <tr>\n",
       "      <th>...</th>\n",
       "      <td>...</td>\n",
       "      <td>...</td>\n",
       "      <td>...</td>\n",
       "      <td>...</td>\n",
       "      <td>...</td>\n",
       "      <td>...</td>\n",
       "    </tr>\n",
       "    <tr>\n",
       "      <th>974</th>\n",
       "      <td>7.4</td>\n",
       "      <td>Tootsie</td>\n",
       "      <td>PG</td>\n",
       "      <td>Comedy</td>\n",
       "      <td>116</td>\n",
       "      <td>[u'Dustin Hoffman', u'Jessica Lange', u'Teri G...</td>\n",
       "    </tr>\n",
       "    <tr>\n",
       "      <th>975</th>\n",
       "      <td>7.4</td>\n",
       "      <td>Back to the Future Part III</td>\n",
       "      <td>PG</td>\n",
       "      <td>Adventure</td>\n",
       "      <td>118</td>\n",
       "      <td>[u'Michael J. Fox', u'Christopher Lloyd', u'Ma...</td>\n",
       "    </tr>\n",
       "    <tr>\n",
       "      <th>976</th>\n",
       "      <td>7.4</td>\n",
       "      <td>Master and Commander: The Far Side of the World</td>\n",
       "      <td>PG-13</td>\n",
       "      <td>Action</td>\n",
       "      <td>138</td>\n",
       "      <td>[u'Russell Crowe', u'Paul Bettany', u'Billy Bo...</td>\n",
       "    </tr>\n",
       "    <tr>\n",
       "      <th>977</th>\n",
       "      <td>7.4</td>\n",
       "      <td>Poltergeist</td>\n",
       "      <td>PG</td>\n",
       "      <td>Horror</td>\n",
       "      <td>114</td>\n",
       "      <td>[u'JoBeth Williams', u\"Heather O'Rourke\", u'Cr...</td>\n",
       "    </tr>\n",
       "    <tr>\n",
       "      <th>978</th>\n",
       "      <td>7.4</td>\n",
       "      <td>Wall Street</td>\n",
       "      <td>R</td>\n",
       "      <td>Crime</td>\n",
       "      <td>126</td>\n",
       "      <td>[u'Charlie Sheen', u'Michael Douglas', u'Tamar...</td>\n",
       "    </tr>\n",
       "  </tbody>\n",
       "</table>\n",
       "<p>979 rows × 6 columns</p>\n",
       "</div>"
      ],
      "text/plain": [
       "     star_rating                                            title  \\\n",
       "0            9.3                         The Shawshank Redemption   \n",
       "1            9.2                                    The Godfather   \n",
       "2            9.1                           The Godfather: Part II   \n",
       "3            9.0                                  The Dark Knight   \n",
       "4            8.9                                     Pulp Fiction   \n",
       "..           ...                                              ...   \n",
       "974          7.4                                          Tootsie   \n",
       "975          7.4                      Back to the Future Part III   \n",
       "976          7.4  Master and Commander: The Far Side of the World   \n",
       "977          7.4                                      Poltergeist   \n",
       "978          7.4                                      Wall Street   \n",
       "\n",
       "    content_rating      genre  duration  \\\n",
       "0                R      Crime       142   \n",
       "1                R      Crime       175   \n",
       "2                R      Crime       200   \n",
       "3            PG-13     Action       152   \n",
       "4                R      Crime       154   \n",
       "..             ...        ...       ...   \n",
       "974             PG     Comedy       116   \n",
       "975             PG  Adventure       118   \n",
       "976          PG-13     Action       138   \n",
       "977             PG     Horror       114   \n",
       "978              R      Crime       126   \n",
       "\n",
       "                                           actors_list  \n",
       "0    [u'Tim Robbins', u'Morgan Freeman', u'Bob Gunt...  \n",
       "1      [u'Marlon Brando', u'Al Pacino', u'James Caan']  \n",
       "2    [u'Al Pacino', u'Robert De Niro', u'Robert Duv...  \n",
       "3    [u'Christian Bale', u'Heath Ledger', u'Aaron E...  \n",
       "4    [u'John Travolta', u'Uma Thurman', u'Samuel L....  \n",
       "..                                                 ...  \n",
       "974  [u'Dustin Hoffman', u'Jessica Lange', u'Teri G...  \n",
       "975  [u'Michael J. Fox', u'Christopher Lloyd', u'Ma...  \n",
       "976  [u'Russell Crowe', u'Paul Bettany', u'Billy Bo...  \n",
       "977  [u'JoBeth Williams', u\"Heather O'Rourke\", u'Cr...  \n",
       "978  [u'Charlie Sheen', u'Michael Douglas', u'Tamar...  \n",
       "\n",
       "[979 rows x 6 columns]"
      ]
     },
     "execution_count": 88,
     "metadata": {},
     "output_type": "execute_result"
    }
   ],
   "source": [
    "movies.replace(to_replace ='TV-MA', value = 'NC-17')"
   ]
  },
  {
   "cell_type": "markdown",
   "metadata": {},
   "source": [
    "#### Count the number of missing values in each column."
   ]
  },
  {
   "cell_type": "code",
   "execution_count": 91,
   "metadata": {},
   "outputs": [
    {
     "data": {
      "text/plain": [
       "star_rating       0\n",
       "title             0\n",
       "content_rating    3\n",
       "genre             0\n",
       "duration          0\n",
       "actors_list       0\n",
       "dtype: int64"
      ]
     },
     "execution_count": 91,
     "metadata": {},
     "output_type": "execute_result"
    }
   ],
   "source": [
    "movies.isnull().sum()"
   ]
  },
  {
   "cell_type": "markdown",
   "metadata": {},
   "source": [
    "#### If there are missing values: examine them, then fill them in with \"reasonable\" values."
   ]
  },
  {
   "cell_type": "code",
   "execution_count": null,
   "metadata": {
    "collapsed": true
   },
   "outputs": [],
   "source": [
    "# Answer:"
   ]
  },
  {
   "cell_type": "markdown",
   "metadata": {},
   "source": [
    "#### Calculate the average star rating for movies 2 hours or longer, and compare that with the average star rating for movies shorter than 2 hours."
   ]
  },
  {
   "cell_type": "code",
   "execution_count": null,
   "metadata": {
    "collapsed": true
   },
   "outputs": [],
   "source": [
    "# Answer:"
   ]
  },
  {
   "cell_type": "markdown",
   "metadata": {},
   "source": [
    "#### Use a visualization to detect whether there is a relationship between duration and star rating."
   ]
  },
  {
   "cell_type": "code",
   "execution_count": null,
   "metadata": {
    "collapsed": true
   },
   "outputs": [],
   "source": [
    "# Answer:"
   ]
  },
  {
   "cell_type": "markdown",
   "metadata": {},
   "source": [
    "#### Calculate the average duration for each genre."
   ]
  },
  {
   "cell_type": "code",
   "execution_count": 21,
   "metadata": {},
   "outputs": [
    {
     "data": {
      "text/plain": [
       "genre\n",
       "Action       126.485294\n",
       "Adventure    134.840000\n",
       "Animation     96.596774\n",
       "Biography    131.844156\n",
       "Comedy       107.602564\n",
       "Crime        122.298387\n",
       "Drama        126.539568\n",
       "Family       107.500000\n",
       "Fantasy      112.000000\n",
       "Film-Noir     97.333333\n",
       "History       66.000000\n",
       "Horror       102.517241\n",
       "Mystery      115.625000\n",
       "Sci-Fi       109.000000\n",
       "Thriller     114.200000\n",
       "Western      136.666667\n",
       "Name: duration, dtype: float64"
      ]
     },
     "execution_count": 21,
     "metadata": {},
     "output_type": "execute_result"
    }
   ],
   "source": [
    "movies.groupby('genre')['duration'].mean()"
   ]
  },
  {
   "cell_type": "markdown",
   "metadata": {},
   "source": [
    "## Advanced level"
   ]
  },
  {
   "cell_type": "markdown",
   "metadata": {},
   "source": [
    "#### Visualize the relationship between content rating and duration."
   ]
  },
  {
   "cell_type": "code",
   "execution_count": null,
   "metadata": {
    "collapsed": true
   },
   "outputs": [],
   "source": [
    "# Answer:"
   ]
  },
  {
   "cell_type": "markdown",
   "metadata": {},
   "source": [
    "#### Determine the top rated movie (by star rating) for each genre."
   ]
  },
  {
   "cell_type": "code",
   "execution_count": null,
   "metadata": {
    "collapsed": true
   },
   "outputs": [],
   "source": [
    "# Answer:"
   ]
  },
  {
   "cell_type": "markdown",
   "metadata": {},
   "source": [
    "#### Check if there are multiple movies with the same title, and if so, determine if they are actually duplicates."
   ]
  },
  {
   "cell_type": "code",
   "execution_count": null,
   "metadata": {
    "collapsed": true
   },
   "outputs": [],
   "source": [
    "# Answer:"
   ]
  },
  {
   "cell_type": "markdown",
   "metadata": {
    "collapsed": true
   },
   "source": [
    "#### Calculate the average star rating for each genre, but only include genres with at least 10 movies\n"
   ]
  },
  {
   "cell_type": "markdown",
   "metadata": {},
   "source": [
    "#### Option 1: manually create a list of relevant genres, then filter using that list"
   ]
  },
  {
   "cell_type": "code",
   "execution_count": null,
   "metadata": {
    "collapsed": true
   },
   "outputs": [],
   "source": [
    "# Answer:"
   ]
  },
  {
   "cell_type": "markdown",
   "metadata": {},
   "source": [
    "#### Option 2: automatically create a list of relevant genres by saving the value_counts and then filtering"
   ]
  },
  {
   "cell_type": "code",
   "execution_count": null,
   "metadata": {
    "collapsed": true
   },
   "outputs": [],
   "source": [
    "# Answer:"
   ]
  },
  {
   "cell_type": "markdown",
   "metadata": {},
   "source": [
    "#### Option 3: calculate the average star rating for all genres, then filter using a boolean Series"
   ]
  },
  {
   "cell_type": "code",
   "execution_count": null,
   "metadata": {
    "collapsed": true
   },
   "outputs": [],
   "source": [
    "# Answer:"
   ]
  },
  {
   "cell_type": "markdown",
   "metadata": {},
   "source": [
    "#### Option 4: aggregate by count and mean, then filter using the count"
   ]
  },
  {
   "cell_type": "code",
   "execution_count": null,
   "metadata": {
    "collapsed": true
   },
   "outputs": [],
   "source": [
    "# Answer:"
   ]
  },
  {
   "cell_type": "markdown",
   "metadata": {},
   "source": [
    "## Bonus"
   ]
  },
  {
   "cell_type": "markdown",
   "metadata": {
    "collapsed": true
   },
   "source": [
    "#### Figure out something \"interesting\" using the actors data!"
   ]
  },
  {
   "cell_type": "code",
   "execution_count": null,
   "metadata": {
    "collapsed": true
   },
   "outputs": [],
   "source": []
  }
 ],
 "metadata": {
  "kernelspec": {
   "display_name": "Python 3",
   "language": "python",
   "name": "python3"
  },
  "language_info": {
   "codemirror_mode": {
    "name": "ipython",
    "version": 3
   },
   "file_extension": ".py",
   "mimetype": "text/x-python",
   "name": "python",
   "nbconvert_exporter": "python",
   "pygments_lexer": "ipython3",
<<<<<<< HEAD
   "version": "3.8.5"
=======
   "version": "3.8.8"
>>>>>>> 47b2484ce0a32c8c37275f0354207e26eb222815
  }
 },
 "nbformat": 4,
 "nbformat_minor": 1
}
