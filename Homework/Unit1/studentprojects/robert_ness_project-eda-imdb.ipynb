{
 "cells": [
  {
   "cell_type": "markdown",
   "metadata": {},
   "source": [
    "<img src=\"http://imgur.com/1ZcRyrc.png\" style=\"float: left; margin: 20px; height: 55px\">\n",
    "\n",
    "# Project 2: Analyzing IMDb Data\n",
    "\n",
    "_Author: Kevin Markham (DC)_\n",
    "\n",
    "---"
   ]
  },
  {
   "cell_type": "markdown",
   "metadata": {},
   "source": [
    "For project two, you will complete a series of exercises exploring movie rating data from IMDb.\n",
    "\n",
    "For these exercises, you will be conducting basic exploratory data analysis on IMDB's movie data, looking to answer such questions as:\n",
    "\n",
    "What is the average rating per genre?\n",
    "How many different actors are in a movie?\n",
    "\n",
    "This process will help you practice your data analysis skills while becoming comfortable with Pandas."
   ]
  },
  {
   "cell_type": "markdown",
   "metadata": {},
   "source": [
    "## Basic level"
   ]
  },
  {
   "cell_type": "code",
<<<<<<< HEAD
   "execution_count": 1,
=======
   "execution_count": 2,
>>>>>>> 47b2484ce0a32c8c37275f0354207e26eb222815
   "metadata": {},
   "outputs": [],
   "source": [
    "import pandas as pd\n",
    "import matplotlib.pyplot as plt\n",
    "import numpy as np\n",
    "%matplotlib inline"
   ]
  },
  {
   "cell_type": "markdown",
   "metadata": {},
   "source": [
    "#### Read in 'imdb_1000.csv' and store it in a DataFrame named movies."
   ]
  },
  {
   "cell_type": "code",
<<<<<<< HEAD
   "execution_count": 4,
=======
   "execution_count": 3,
>>>>>>> 47b2484ce0a32c8c37275f0354207e26eb222815
   "metadata": {},
   "outputs": [
    {
     "data": {
      "text/html": [
       "<div>\n",
       "<style scoped>\n",
       "    .dataframe tbody tr th:only-of-type {\n",
       "        vertical-align: middle;\n",
       "    }\n",
       "\n",
       "    .dataframe tbody tr th {\n",
       "        vertical-align: top;\n",
       "    }\n",
       "\n",
       "    .dataframe thead th {\n",
       "        text-align: right;\n",
       "    }\n",
       "</style>\n",
       "<table border=\"1\" class=\"dataframe\">\n",
       "  <thead>\n",
       "    <tr style=\"text-align: right;\">\n",
       "      <th></th>\n",
       "      <th>star_rating</th>\n",
       "      <th>title</th>\n",
       "      <th>content_rating</th>\n",
       "      <th>genre</th>\n",
       "      <th>duration</th>\n",
       "      <th>actors_list</th>\n",
       "    </tr>\n",
       "  </thead>\n",
       "  <tbody>\n",
       "    <tr>\n",
       "      <th>0</th>\n",
       "      <td>9.3</td>\n",
       "      <td>The Shawshank Redemption</td>\n",
       "      <td>R</td>\n",
       "      <td>Crime</td>\n",
       "      <td>142</td>\n",
       "      <td>[u'Tim Robbins', u'Morgan Freeman', u'Bob Gunt...</td>\n",
       "    </tr>\n",
       "    <tr>\n",
       "      <th>1</th>\n",
       "      <td>9.2</td>\n",
       "      <td>The Godfather</td>\n",
       "      <td>R</td>\n",
       "      <td>Crime</td>\n",
       "      <td>175</td>\n",
       "      <td>[u'Marlon Brando', u'Al Pacino', u'James Caan']</td>\n",
       "    </tr>\n",
       "    <tr>\n",
       "      <th>2</th>\n",
       "      <td>9.1</td>\n",
       "      <td>The Godfather: Part II</td>\n",
       "      <td>R</td>\n",
       "      <td>Crime</td>\n",
       "      <td>200</td>\n",
       "      <td>[u'Al Pacino', u'Robert De Niro', u'Robert Duv...</td>\n",
       "    </tr>\n",
       "    <tr>\n",
       "      <th>3</th>\n",
       "      <td>9.0</td>\n",
       "      <td>The Dark Knight</td>\n",
       "      <td>PG-13</td>\n",
       "      <td>Action</td>\n",
       "      <td>152</td>\n",
       "      <td>[u'Christian Bale', u'Heath Ledger', u'Aaron E...</td>\n",
       "    </tr>\n",
       "    <tr>\n",
       "      <th>4</th>\n",
       "      <td>8.9</td>\n",
       "      <td>Pulp Fiction</td>\n",
       "      <td>R</td>\n",
       "      <td>Crime</td>\n",
       "      <td>154</td>\n",
       "      <td>[u'John Travolta', u'Uma Thurman', u'Samuel L....</td>\n",
       "    </tr>\n",
       "    <tr>\n",
       "      <th>...</th>\n",
       "      <td>...</td>\n",
       "      <td>...</td>\n",
       "      <td>...</td>\n",
       "      <td>...</td>\n",
       "      <td>...</td>\n",
       "      <td>...</td>\n",
       "    </tr>\n",
       "    <tr>\n",
       "      <th>974</th>\n",
       "      <td>7.4</td>\n",
       "      <td>Tootsie</td>\n",
       "      <td>PG</td>\n",
       "      <td>Comedy</td>\n",
       "      <td>116</td>\n",
       "      <td>[u'Dustin Hoffman', u'Jessica Lange', u'Teri G...</td>\n",
       "    </tr>\n",
       "    <tr>\n",
       "      <th>975</th>\n",
       "      <td>7.4</td>\n",
       "      <td>Back to the Future Part III</td>\n",
       "      <td>PG</td>\n",
       "      <td>Adventure</td>\n",
       "      <td>118</td>\n",
       "      <td>[u'Michael J. Fox', u'Christopher Lloyd', u'Ma...</td>\n",
       "    </tr>\n",
       "    <tr>\n",
       "      <th>976</th>\n",
       "      <td>7.4</td>\n",
       "      <td>Master and Commander: The Far Side of the World</td>\n",
       "      <td>PG-13</td>\n",
       "      <td>Action</td>\n",
       "      <td>138</td>\n",
       "      <td>[u'Russell Crowe', u'Paul Bettany', u'Billy Bo...</td>\n",
       "    </tr>\n",
       "    <tr>\n",
       "      <th>977</th>\n",
       "      <td>7.4</td>\n",
       "      <td>Poltergeist</td>\n",
       "      <td>PG</td>\n",
       "      <td>Horror</td>\n",
       "      <td>114</td>\n",
       "      <td>[u'JoBeth Williams', u\"Heather O'Rourke\", u'Cr...</td>\n",
       "    </tr>\n",
       "    <tr>\n",
       "      <th>978</th>\n",
       "      <td>7.4</td>\n",
       "      <td>Wall Street</td>\n",
       "      <td>R</td>\n",
       "      <td>Crime</td>\n",
       "      <td>126</td>\n",
       "      <td>[u'Charlie Sheen', u'Michael Douglas', u'Tamar...</td>\n",
       "    </tr>\n",
       "  </tbody>\n",
       "</table>\n",
       "<p>979 rows × 6 columns</p>\n",
       "</div>"
      ],
      "text/plain": [
       "     star_rating                                            title  \\\n",
       "0            9.3                         The Shawshank Redemption   \n",
       "1            9.2                                    The Godfather   \n",
       "2            9.1                           The Godfather: Part II   \n",
       "3            9.0                                  The Dark Knight   \n",
       "4            8.9                                     Pulp Fiction   \n",
       "..           ...                                              ...   \n",
       "974          7.4                                          Tootsie   \n",
       "975          7.4                      Back to the Future Part III   \n",
       "976          7.4  Master and Commander: The Far Side of the World   \n",
       "977          7.4                                      Poltergeist   \n",
       "978          7.4                                      Wall Street   \n",
       "\n",
       "    content_rating      genre  duration  \\\n",
       "0                R      Crime       142   \n",
       "1                R      Crime       175   \n",
       "2                R      Crime       200   \n",
       "3            PG-13     Action       152   \n",
       "4                R      Crime       154   \n",
       "..             ...        ...       ...   \n",
       "974             PG     Comedy       116   \n",
       "975             PG  Adventure       118   \n",
       "976          PG-13     Action       138   \n",
       "977             PG     Horror       114   \n",
       "978              R      Crime       126   \n",
       "\n",
       "                                           actors_list  \n",
       "0    [u'Tim Robbins', u'Morgan Freeman', u'Bob Gunt...  \n",
       "1      [u'Marlon Brando', u'Al Pacino', u'James Caan']  \n",
       "2    [u'Al Pacino', u'Robert De Niro', u'Robert Duv...  \n",
       "3    [u'Christian Bale', u'Heath Ledger', u'Aaron E...  \n",
       "4    [u'John Travolta', u'Uma Thurman', u'Samuel L....  \n",
       "..                                                 ...  \n",
       "974  [u'Dustin Hoffman', u'Jessica Lange', u'Teri G...  \n",
       "975  [u'Michael J. Fox', u'Christopher Lloyd', u'Ma...  \n",
       "976  [u'Russell Crowe', u'Paul Bettany', u'Billy Bo...  \n",
       "977  [u'JoBeth Williams', u\"Heather O'Rourke\", u'Cr...  \n",
       "978  [u'Charlie Sheen', u'Michael Douglas', u'Tamar...  \n",
       "\n",
       "[979 rows x 6 columns]"
      ]
     },
<<<<<<< HEAD
     "execution_count": 4,
=======
     "execution_count": 3,
>>>>>>> 47b2484ce0a32c8c37275f0354207e26eb222815
     "metadata": {},
     "output_type": "execute_result"
    }
   ],
   "source": [
<<<<<<< HEAD
    "movies = pd.read_csv(r\"C:\\Users\\Jonat\\dat-11-15\\Homework\\Unit1\\data\\imdb_1000.csv\")\n",
=======
    "movies = pd.read_csv('./data/imdb_1000.csv')\n",
>>>>>>> 47b2484ce0a32c8c37275f0354207e26eb222815
    "movies"
   ]
  },
  {
   "cell_type": "markdown",
   "metadata": {},
   "source": [
    "#### Check the number of rows and columns."
   ]
  },
  {
   "cell_type": "code",
   "execution_count": 3,
   "metadata": {},
   "outputs": [
    {
     "name": "stdout",
     "output_type": "stream",
     "text": [
      "There are 979 rows\n",
      "There are 6 columns\n"
     ]
    }
   ],
   "source": [
    "# Answer:\n",
    "number_of_rows = len(movies.index)\n",
    "number_of_columns = len(movies.columns)\n",
    "\n",
    "print('There are ' + str(number_of_rows) + ' rows')\n",
    "print('There are ' + str(number_of_columns) + ' columns')"
   ]
  },
  {
   "cell_type": "markdown",
   "metadata": {},
   "source": [
<<<<<<< HEAD
    "**Jonathan's Note:** `movies.shape` is probably a more natural way to extract this info, even though what you did would still give you the correct answer.  For text formatting, it's better to use the `format` function, which was designed to replace string concatenations in python 3."
   ]
  },
  {
   "cell_type": "markdown",
   "metadata": {},
   "source": [
=======
>>>>>>> 47b2484ce0a32c8c37275f0354207e26eb222815
    "#### Check the data type of each column."
   ]
  },
  {
   "cell_type": "code",
   "execution_count": 4,
   "metadata": {},
   "outputs": [
    {
     "data": {
      "text/plain": [
       "star_rating       float64\n",
       "title              object\n",
       "content_rating     object\n",
       "genre              object\n",
       "duration            int64\n",
       "actors_list        object\n",
       "dtype: object"
      ]
     },
     "execution_count": 4,
     "metadata": {},
     "output_type": "execute_result"
    }
   ],
   "source": [
    "# Answer:\n",
    "movies.dtypes"
   ]
  },
  {
   "cell_type": "markdown",
   "metadata": {},
   "source": [
    "#### Calculate the average movie duration."
   ]
  },
  {
   "cell_type": "code",
   "execution_count": 5,
   "metadata": {},
   "outputs": [
    {
     "name": "stdout",
     "output_type": "stream",
     "text": [
      "The average movie duration is 120.97957099080695 minutes\n"
     ]
    }
   ],
   "source": [
    "# Answer:\n",
    "print('The average movie duration is ' + str(movies['duration'].mean()) + ' minutes')"
   ]
  },
  {
   "cell_type": "markdown",
   "metadata": {},
   "source": [
    "#### Sort the DataFrame by duration to find the shortest and longest movies."
   ]
  },
  {
   "cell_type": "code",
   "execution_count": 6,
   "metadata": {},
   "outputs": [
    {
     "name": "stdout",
     "output_type": "stream",
     "text": [
      "The movie Freaks has the shortest duration at 64 minutes long.\n",
      "The movie Hamlet has the longest duration at 242 minutes long.\n"
     ]
    }
   ],
   "source": [
    "# Answer:\n",
    "shortest_movie = movies.sort_values('duration', ascending = True).head(1)\n",
    "longest_movie = movies.sort_values('duration', ascending = False).head(1)\n",
    "\n",
    "print('The movie ' + shortest_movie.iloc[0]['title'] + ' has the shortest duration at ' + str(shortest_movie.iloc[0]['duration']) + ' minutes long.')\n",
    "print('The movie ' + longest_movie.iloc[0]['title'] + ' has the longest duration at ' + str(longest_movie.iloc[0]['duration']) + ' minutes long.')"
   ]
  },
  {
   "cell_type": "markdown",
   "metadata": {},
   "source": [
<<<<<<< HEAD
    "**Jonathan's Note:** Instead of sorting values and then using `iloc`, it's probably better just to just `loc` to find the exact value and get that directly.  Something like `movies.loc[movies.duration == movies.duration.min(), 'title']`, would return the value directly."
   ]
  },
  {
   "cell_type": "markdown",
   "metadata": {},
   "source": [
=======
>>>>>>> 47b2484ce0a32c8c37275f0354207e26eb222815
    "#### Create a histogram of duration, choosing an \"appropriate\" number of bins."
   ]
  },
  {
   "cell_type": "code",
   "execution_count": 4,
   "metadata": {},
   "outputs": [
    {
     "data": {
      "text/plain": [
       "array([[<AxesSubplot:title={'center':'duration'}>]], dtype=object)"
      ]
     },
     "execution_count": 4,
     "metadata": {},
     "output_type": "execute_result"
    },
    {
     "data": {
      "image/png": "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\n",
      "text/plain": [
       "<Figure size 432x288 with 1 Axes>"
      ]
     },
     "metadata": {
      "needs_background": "light"
     },
     "output_type": "display_data"
    }
   ],
   "source": [
    "# Answer:\n",
    "movies.hist(column = 'duration', bins = 10)"
   ]
  },
  {
   "cell_type": "markdown",
   "metadata": {},
   "source": [
    "#### Use a box plot to display that same data."
   ]
  },
  {
   "cell_type": "code",
   "execution_count": 5,
   "metadata": {},
   "outputs": [
    {
     "data": {
      "text/plain": [
       "<AxesSubplot:>"
      ]
     },
     "execution_count": 5,
     "metadata": {},
     "output_type": "execute_result"
    },
    {
     "data": {
      "image/png": "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\n",
      "text/plain": [
       "<Figure size 432x288 with 1 Axes>"
      ]
     },
     "metadata": {
      "needs_background": "light"
     },
     "output_type": "display_data"
    }
   ],
   "source": [
    "# Answer:\n",
    "movies.boxplot(column = 'duration')"
   ]
  },
  {
   "cell_type": "markdown",
   "metadata": {},
   "source": [
    "## Intermediate level"
   ]
  },
  {
   "cell_type": "markdown",
   "metadata": {},
   "source": [
    "#### Count how many movies have each of the content ratings."
   ]
  },
  {
   "cell_type": "code",
   "execution_count": 6,
   "metadata": {},
   "outputs": [
    {
     "data": {
      "text/html": [
       "<div>\n",
       "<style scoped>\n",
       "    .dataframe tbody tr th:only-of-type {\n",
       "        vertical-align: middle;\n",
       "    }\n",
       "\n",
       "    .dataframe tbody tr th {\n",
       "        vertical-align: top;\n",
       "    }\n",
       "\n",
       "    .dataframe thead th {\n",
       "        text-align: right;\n",
       "    }\n",
       "</style>\n",
       "<table border=\"1\" class=\"dataframe\">\n",
       "  <thead>\n",
       "    <tr style=\"text-align: right;\">\n",
       "      <th></th>\n",
       "      <th>count</th>\n",
       "    </tr>\n",
       "    <tr>\n",
       "      <th>content_rating</th>\n",
       "      <th></th>\n",
       "    </tr>\n",
       "  </thead>\n",
       "  <tbody>\n",
       "    <tr>\n",
       "      <th>APPROVED</th>\n",
       "      <td>47</td>\n",
       "    </tr>\n",
       "    <tr>\n",
       "      <th>G</th>\n",
       "      <td>32</td>\n",
       "    </tr>\n",
       "    <tr>\n",
       "      <th>GP</th>\n",
       "      <td>3</td>\n",
       "    </tr>\n",
       "    <tr>\n",
       "      <th>NC-17</th>\n",
       "      <td>7</td>\n",
       "    </tr>\n",
       "    <tr>\n",
       "      <th>NOT RATED</th>\n",
       "      <td>65</td>\n",
       "    </tr>\n",
       "    <tr>\n",
       "      <th>PASSED</th>\n",
       "      <td>7</td>\n",
       "    </tr>\n",
       "    <tr>\n",
       "      <th>PG</th>\n",
       "      <td>123</td>\n",
       "    </tr>\n",
       "    <tr>\n",
       "      <th>PG-13</th>\n",
       "      <td>189</td>\n",
       "    </tr>\n",
       "    <tr>\n",
       "      <th>R</th>\n",
       "      <td>460</td>\n",
       "    </tr>\n",
       "    <tr>\n",
       "      <th>TV-MA</th>\n",
       "      <td>1</td>\n",
       "    </tr>\n",
       "    <tr>\n",
       "      <th>UNRATED</th>\n",
       "      <td>38</td>\n",
       "    </tr>\n",
       "    <tr>\n",
       "      <th>X</th>\n",
       "      <td>4</td>\n",
       "    </tr>\n",
       "  </tbody>\n",
       "</table>\n",
       "</div>"
      ],
      "text/plain": [
       "                count\n",
       "content_rating       \n",
       "APPROVED           47\n",
       "G                  32\n",
       "GP                  3\n",
       "NC-17               7\n",
       "NOT RATED          65\n",
       "PASSED              7\n",
       "PG                123\n",
       "PG-13             189\n",
       "R                 460\n",
       "TV-MA               1\n",
       "UNRATED            38\n",
       "X                   4"
      ]
     },
     "execution_count": 6,
     "metadata": {},
     "output_type": "execute_result"
    }
   ],
   "source": [
    "# Answer:\n",
    "rating_counts = movies.groupby('content_rating').size().to_frame('count')\n",
    "rating_counts"
   ]
  },
  {
   "cell_type": "markdown",
   "metadata": {},
   "source": [
<<<<<<< HEAD
    "**Jonathan's Note\"** Adding `count` to the `to_frame` method does not accomplish anything."
   ]
  },
  {
   "cell_type": "markdown",
   "metadata": {},
   "source": [
=======
>>>>>>> 47b2484ce0a32c8c37275f0354207e26eb222815
    "#### Use a visualization to display that same data, including a title and x and y labels."
   ]
  },
  {
   "cell_type": "code",
   "execution_count": 10,
   "metadata": {},
   "outputs": [
    {
     "data": {
      "text/plain": [
       "<AxesSubplot:xlabel='content_rating'>"
      ]
     },
     "execution_count": 10,
     "metadata": {},
     "output_type": "execute_result"
    },
    {
     "data": {
      "image/png": "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\n",
      "text/plain": [
       "<Figure size 432x288 with 1 Axes>"
      ]
     },
     "metadata": {
      "needs_background": "light"
     },
     "output_type": "display_data"
    }
   ],
   "source": [
    "# Answer:\n",
    "rating_counts.plot.bar()"
   ]
  },
  {
   "cell_type": "markdown",
   "metadata": {},
   "source": [
    "#### Convert the following content ratings to \"UNRATED\": NOT RATED, APPROVED, PASSED, GP."
   ]
  },
  {
   "cell_type": "code",
   "execution_count": 11,
   "metadata": {},
   "outputs": [
    {
     "data": {
      "text/html": [
       "<div>\n",
       "<style scoped>\n",
       "    .dataframe tbody tr th:only-of-type {\n",
       "        vertical-align: middle;\n",
       "    }\n",
       "\n",
       "    .dataframe tbody tr th {\n",
       "        vertical-align: top;\n",
       "    }\n",
       "\n",
       "    .dataframe thead th {\n",
       "        text-align: right;\n",
       "    }\n",
       "</style>\n",
       "<table border=\"1\" class=\"dataframe\">\n",
       "  <thead>\n",
       "    <tr style=\"text-align: right;\">\n",
       "      <th></th>\n",
       "      <th>count</th>\n",
       "    </tr>\n",
       "    <tr>\n",
       "      <th>content_rating</th>\n",
       "      <th></th>\n",
       "    </tr>\n",
       "  </thead>\n",
       "  <tbody>\n",
       "    <tr>\n",
       "      <th>G</th>\n",
       "      <td>32</td>\n",
       "    </tr>\n",
       "    <tr>\n",
       "      <th>NC-17</th>\n",
       "      <td>7</td>\n",
       "    </tr>\n",
       "    <tr>\n",
       "      <th>PG</th>\n",
       "      <td>123</td>\n",
       "    </tr>\n",
       "    <tr>\n",
       "      <th>PG-13</th>\n",
       "      <td>189</td>\n",
       "    </tr>\n",
       "    <tr>\n",
       "      <th>R</th>\n",
       "      <td>460</td>\n",
       "    </tr>\n",
       "    <tr>\n",
       "      <th>TV-MA</th>\n",
       "      <td>1</td>\n",
       "    </tr>\n",
       "    <tr>\n",
       "      <th>UNRATED</th>\n",
       "      <td>160</td>\n",
       "    </tr>\n",
       "    <tr>\n",
       "      <th>X</th>\n",
       "      <td>4</td>\n",
       "    </tr>\n",
       "  </tbody>\n",
       "</table>\n",
       "</div>"
      ],
      "text/plain": [
       "                count\n",
       "content_rating       \n",
       "G                  32\n",
       "NC-17               7\n",
       "PG                123\n",
       "PG-13             189\n",
       "R                 460\n",
       "TV-MA               1\n",
       "UNRATED           160\n",
       "X                   4"
      ]
     },
     "execution_count": 11,
     "metadata": {},
     "output_type": "execute_result"
    }
   ],
   "source": [
    "# Answer:\n",
    "rating_prep = movies.replace(to_replace = ('NOT RATED', 'APPROVED', 'PASSED', 'GP'), value = 'UNRATED')\n",
    "rating_counts = rating_prep.groupby('content_rating').size().to_frame('count')\n",
    "rating_counts"
   ]
  },
  {
   "cell_type": "markdown",
   "metadata": {},
   "source": [
    "#### Convert the following content ratings to \"NC-17\": X, TV-MA."
   ]
  },
  {
   "cell_type": "code",
   "execution_count": 7,
   "metadata": {},
   "outputs": [
    {
     "data": {
      "text/html": [
       "<div>\n",
       "<style scoped>\n",
       "    .dataframe tbody tr th:only-of-type {\n",
       "        vertical-align: middle;\n",
       "    }\n",
       "\n",
       "    .dataframe tbody tr th {\n",
       "        vertical-align: top;\n",
       "    }\n",
       "\n",
       "    .dataframe thead th {\n",
       "        text-align: right;\n",
       "    }\n",
       "</style>\n",
       "<table border=\"1\" class=\"dataframe\">\n",
       "  <thead>\n",
       "    <tr style=\"text-align: right;\">\n",
       "      <th></th>\n",
       "      <th>count</th>\n",
       "    </tr>\n",
       "    <tr>\n",
       "      <th>content_rating</th>\n",
       "      <th></th>\n",
       "    </tr>\n",
       "  </thead>\n",
       "  <tbody>\n",
       "    <tr>\n",
       "      <th>APPROVED</th>\n",
       "      <td>47</td>\n",
       "    </tr>\n",
       "    <tr>\n",
       "      <th>G</th>\n",
       "      <td>32</td>\n",
       "    </tr>\n",
       "    <tr>\n",
       "      <th>GP</th>\n",
       "      <td>3</td>\n",
       "    </tr>\n",
       "    <tr>\n",
       "      <th>NC-17</th>\n",
       "      <td>12</td>\n",
       "    </tr>\n",
       "    <tr>\n",
       "      <th>NOT RATED</th>\n",
       "      <td>65</td>\n",
       "    </tr>\n",
       "    <tr>\n",
       "      <th>PASSED</th>\n",
       "      <td>7</td>\n",
       "    </tr>\n",
       "    <tr>\n",
       "      <th>PG</th>\n",
       "      <td>123</td>\n",
       "    </tr>\n",
       "    <tr>\n",
       "      <th>PG-13</th>\n",
       "      <td>189</td>\n",
       "    </tr>\n",
       "    <tr>\n",
       "      <th>R</th>\n",
       "      <td>460</td>\n",
       "    </tr>\n",
       "    <tr>\n",
       "      <th>UNRATED</th>\n",
       "      <td>38</td>\n",
       "    </tr>\n",
       "  </tbody>\n",
       "</table>\n",
       "</div>"
      ],
      "text/plain": [
       "                count\n",
       "content_rating       \n",
       "APPROVED           47\n",
       "G                  32\n",
       "GP                  3\n",
       "NC-17              12\n",
       "NOT RATED          65\n",
       "PASSED              7\n",
       "PG                123\n",
       "PG-13             189\n",
       "R                 460\n",
       "UNRATED            38"
      ]
     },
     "execution_count": 7,
     "metadata": {},
     "output_type": "execute_result"
    }
   ],
   "source": [
    "# Answer:\n",
    "rating_prep = movies.replace(to_replace = ('X', 'TV-MA'), value = 'NC-17')\n",
    "rating_counts = rating_prep.groupby('content_rating').size().to_frame('count')\n",
    "rating_counts\n",
    "# didn't reuse the transformation from the previous cell. Wasn't sure if I should or not. "
   ]
  },
  {
   "cell_type": "markdown",
   "metadata": {},
   "source": [
    "#### Count the number of missing values in each column."
   ]
  },
  {
   "cell_type": "code",
   "execution_count": 13,
   "metadata": {},
   "outputs": [
    {
     "data": {
      "text/plain": [
       "star_rating       0\n",
       "title             0\n",
       "content_rating    3\n",
       "genre             0\n",
       "duration          0\n",
       "actors_list       0\n",
       "dtype: int64"
      ]
     },
     "execution_count": 13,
     "metadata": {},
     "output_type": "execute_result"
    }
   ],
   "source": [
    "# Answer:\n",
    "movies.isna().sum()"
   ]
  },
  {
   "cell_type": "markdown",
   "metadata": {},
   "source": [
    "#### If there are missing values: examine them, then fill them in with \"reasonable\" values."
   ]
  },
  {
   "cell_type": "code",
   "execution_count": 14,
   "metadata": {},
   "outputs": [
    {
     "data": {
      "text/html": [
       "<div>\n",
       "<style scoped>\n",
       "    .dataframe tbody tr th:only-of-type {\n",
       "        vertical-align: middle;\n",
       "    }\n",
       "\n",
       "    .dataframe tbody tr th {\n",
       "        vertical-align: top;\n",
       "    }\n",
       "\n",
       "    .dataframe thead th {\n",
       "        text-align: right;\n",
       "    }\n",
       "</style>\n",
       "<table border=\"1\" class=\"dataframe\">\n",
       "  <thead>\n",
       "    <tr style=\"text-align: right;\">\n",
       "      <th></th>\n",
       "      <th>star_rating</th>\n",
       "      <th>title</th>\n",
       "      <th>content_rating</th>\n",
       "      <th>genre</th>\n",
       "      <th>duration</th>\n",
       "      <th>actors_list</th>\n",
       "    </tr>\n",
       "  </thead>\n",
       "  <tbody>\n",
       "    <tr>\n",
       "      <th>0</th>\n",
       "      <td>False</td>\n",
       "      <td>False</td>\n",
       "      <td>False</td>\n",
       "      <td>False</td>\n",
       "      <td>False</td>\n",
       "      <td>False</td>\n",
       "    </tr>\n",
       "    <tr>\n",
       "      <th>1</th>\n",
       "      <td>False</td>\n",
       "      <td>False</td>\n",
       "      <td>False</td>\n",
       "      <td>False</td>\n",
       "      <td>False</td>\n",
       "      <td>False</td>\n",
       "    </tr>\n",
       "    <tr>\n",
       "      <th>2</th>\n",
       "      <td>False</td>\n",
       "      <td>False</td>\n",
       "      <td>False</td>\n",
       "      <td>False</td>\n",
       "      <td>False</td>\n",
       "      <td>False</td>\n",
       "    </tr>\n",
       "    <tr>\n",
       "      <th>3</th>\n",
       "      <td>False</td>\n",
       "      <td>False</td>\n",
       "      <td>False</td>\n",
       "      <td>False</td>\n",
       "      <td>False</td>\n",
       "      <td>False</td>\n",
       "    </tr>\n",
       "    <tr>\n",
       "      <th>4</th>\n",
       "      <td>False</td>\n",
       "      <td>False</td>\n",
       "      <td>False</td>\n",
       "      <td>False</td>\n",
       "      <td>False</td>\n",
       "      <td>False</td>\n",
       "    </tr>\n",
       "    <tr>\n",
       "      <th>...</th>\n",
       "      <td>...</td>\n",
       "      <td>...</td>\n",
       "      <td>...</td>\n",
       "      <td>...</td>\n",
       "      <td>...</td>\n",
       "      <td>...</td>\n",
       "    </tr>\n",
       "    <tr>\n",
       "      <th>974</th>\n",
       "      <td>False</td>\n",
       "      <td>False</td>\n",
       "      <td>False</td>\n",
       "      <td>False</td>\n",
       "      <td>False</td>\n",
       "      <td>False</td>\n",
       "    </tr>\n",
       "    <tr>\n",
       "      <th>975</th>\n",
       "      <td>False</td>\n",
       "      <td>False</td>\n",
       "      <td>False</td>\n",
       "      <td>False</td>\n",
       "      <td>False</td>\n",
       "      <td>False</td>\n",
       "    </tr>\n",
       "    <tr>\n",
       "      <th>976</th>\n",
       "      <td>False</td>\n",
       "      <td>False</td>\n",
       "      <td>False</td>\n",
       "      <td>False</td>\n",
       "      <td>False</td>\n",
       "      <td>False</td>\n",
       "    </tr>\n",
       "    <tr>\n",
       "      <th>977</th>\n",
       "      <td>False</td>\n",
       "      <td>False</td>\n",
       "      <td>False</td>\n",
       "      <td>False</td>\n",
       "      <td>False</td>\n",
       "      <td>False</td>\n",
       "    </tr>\n",
       "    <tr>\n",
       "      <th>978</th>\n",
       "      <td>False</td>\n",
       "      <td>False</td>\n",
       "      <td>False</td>\n",
       "      <td>False</td>\n",
       "      <td>False</td>\n",
       "      <td>False</td>\n",
       "    </tr>\n",
       "  </tbody>\n",
       "</table>\n",
       "<p>979 rows × 6 columns</p>\n",
       "</div>"
      ],
      "text/plain": [
       "     star_rating  title  content_rating  genre  duration  actors_list\n",
       "0          False  False           False  False     False        False\n",
       "1          False  False           False  False     False        False\n",
       "2          False  False           False  False     False        False\n",
       "3          False  False           False  False     False        False\n",
       "4          False  False           False  False     False        False\n",
       "..           ...    ...             ...    ...       ...          ...\n",
       "974        False  False           False  False     False        False\n",
       "975        False  False           False  False     False        False\n",
       "976        False  False           False  False     False        False\n",
       "977        False  False           False  False     False        False\n",
       "978        False  False           False  False     False        False\n",
       "\n",
       "[979 rows x 6 columns]"
      ]
     },
     "execution_count": 14,
     "metadata": {},
     "output_type": "execute_result"
    }
   ],
   "source": [
    "# Answer:\n",
    "movies.isna()"
   ]
  },
  {
   "cell_type": "markdown",
   "metadata": {},
   "source": [
<<<<<<< HEAD
    "**Jonathan's Note:** You need to go a few steps further here.  `movies.isna().sum()` would then give you actual counts for each column."
   ]
  },
  {
   "cell_type": "markdown",
   "metadata": {},
   "source": [
=======
>>>>>>> 47b2484ce0a32c8c37275f0354207e26eb222815
    "#### Calculate the average star rating for movies 2 hours or longer, and compare that with the average star rating for movies shorter than 2 hours."
   ]
  },
  {
   "cell_type": "code",
   "execution_count": 8,
   "metadata": {},
   "outputs": [
    {
     "name": "stdout",
     "output_type": "stream",
     "text": [
      "The average star rating for movies 2 hours or longer is 7.948898678414082\n",
      "The average star rating for movies shorter than 2 hours is 7.838666666666657\n"
     ]
    }
   ],
   "source": [
    "# Answer:\n",
    "longer_than_2 = movies['star_rating'].where(movies['duration'] >= 120).mean()\n",
    "shorter_than_2 = movies['star_rating'].where(movies['duration'] < 120).mean()\n",
    "\n",
    "print('The average star rating for movies 2 hours or longer is ' + str(longer_than_2))\n",
    "print('The average star rating for movies shorter than 2 hours is ' + str(shorter_than_2))"
   ]
  },
  {
   "cell_type": "markdown",
   "metadata": {},
   "source": [
    "#### Use a visualization to detect whether there is a relationship between duration and star rating."
   ]
  },
  {
   "cell_type": "code",
   "execution_count": 16,
   "metadata": {},
   "outputs": [
    {
     "data": {
      "text/plain": [
       "<AxesSubplot:xlabel='content_rating'>"
      ]
     },
     "execution_count": 16,
     "metadata": {},
     "output_type": "execute_result"
    },
    {
     "data": {
      "image/png": "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\n",
      "text/plain": [
       "<Figure size 432x288 with 1 Axes>"
      ]
     },
     "metadata": {
      "needs_background": "light"
     },
     "output_type": "display_data"
    }
   ],
   "source": [
    "# Answer:\n",
    "y = movies['star_rating']\n",
    "x = movies['duration']\n",
    "\n",
    "rating_counts.plot.bar()"
   ]
  },
  {
   "cell_type": "markdown",
   "metadata": {},
   "source": [
    "There seems to be a loose coorelation between duration and star rating, however there doesn't seem to be one for movies longer than 150 minutes. "
   ]
  },
  {
   "cell_type": "markdown",
   "metadata": {},
   "source": [
    "#### Calculate the average duration for each genre."
   ]
  },
  {
   "cell_type": "code",
   "execution_count": 10,
   "metadata": {},
   "outputs": [
    {
     "data": {
      "text/html": [
       "<div>\n",
       "<style scoped>\n",
       "    .dataframe tbody tr th:only-of-type {\n",
       "        vertical-align: middle;\n",
       "    }\n",
       "\n",
       "    .dataframe tbody tr th {\n",
       "        vertical-align: top;\n",
       "    }\n",
       "\n",
       "    .dataframe thead th {\n",
       "        text-align: right;\n",
       "    }\n",
       "</style>\n",
       "<table border=\"1\" class=\"dataframe\">\n",
       "  <thead>\n",
       "    <tr style=\"text-align: right;\">\n",
       "      <th></th>\n",
       "      <th>duration</th>\n",
       "    </tr>\n",
       "    <tr>\n",
       "      <th>genre</th>\n",
       "      <th></th>\n",
       "    </tr>\n",
       "  </thead>\n",
       "  <tbody>\n",
       "    <tr>\n",
       "      <th>Action</th>\n",
       "      <td>126.485294</td>\n",
       "    </tr>\n",
       "    <tr>\n",
       "      <th>Adventure</th>\n",
       "      <td>134.840000</td>\n",
       "    </tr>\n",
       "    <tr>\n",
       "      <th>Animation</th>\n",
       "      <td>96.596774</td>\n",
       "    </tr>\n",
       "    <tr>\n",
       "      <th>Biography</th>\n",
       "      <td>131.844156</td>\n",
       "    </tr>\n",
       "    <tr>\n",
       "      <th>Comedy</th>\n",
       "      <td>107.602564</td>\n",
       "    </tr>\n",
       "    <tr>\n",
       "      <th>Crime</th>\n",
       "      <td>122.298387</td>\n",
       "    </tr>\n",
       "    <tr>\n",
       "      <th>Drama</th>\n",
       "      <td>126.539568</td>\n",
       "    </tr>\n",
       "    <tr>\n",
       "      <th>Family</th>\n",
       "      <td>107.500000</td>\n",
       "    </tr>\n",
       "    <tr>\n",
       "      <th>Fantasy</th>\n",
       "      <td>112.000000</td>\n",
       "    </tr>\n",
       "    <tr>\n",
       "      <th>Film-Noir</th>\n",
       "      <td>97.333333</td>\n",
       "    </tr>\n",
       "    <tr>\n",
       "      <th>History</th>\n",
       "      <td>66.000000</td>\n",
       "    </tr>\n",
       "    <tr>\n",
       "      <th>Horror</th>\n",
       "      <td>102.517241</td>\n",
       "    </tr>\n",
       "    <tr>\n",
       "      <th>Mystery</th>\n",
       "      <td>115.625000</td>\n",
       "    </tr>\n",
       "    <tr>\n",
       "      <th>Sci-Fi</th>\n",
       "      <td>109.000000</td>\n",
       "    </tr>\n",
       "    <tr>\n",
       "      <th>Thriller</th>\n",
       "      <td>114.200000</td>\n",
       "    </tr>\n",
       "    <tr>\n",
       "      <th>Western</th>\n",
       "      <td>136.666667</td>\n",
       "    </tr>\n",
       "  </tbody>\n",
       "</table>\n",
       "</div>"
      ],
      "text/plain": [
       "             duration\n",
       "genre                \n",
       "Action     126.485294\n",
       "Adventure  134.840000\n",
       "Animation   96.596774\n",
       "Biography  131.844156\n",
       "Comedy     107.602564\n",
       "Crime      122.298387\n",
       "Drama      126.539568\n",
       "Family     107.500000\n",
       "Fantasy    112.000000\n",
       "Film-Noir   97.333333\n",
       "History     66.000000\n",
       "Horror     102.517241\n",
       "Mystery    115.625000\n",
       "Sci-Fi     109.000000\n",
       "Thriller   114.200000\n",
       "Western    136.666667"
      ]
     },
     "execution_count": 10,
     "metadata": {},
     "output_type": "execute_result"
    }
   ],
   "source": [
    "# Answer:\n",
    "movies[['genre', 'duration']].groupby('genre').mean()"
   ]
  },
  {
   "cell_type": "markdown",
   "metadata": {},
   "source": [
    "## Advanced level"
   ]
  },
  {
   "cell_type": "markdown",
   "metadata": {},
   "source": [
    "#### Visualize the relationship between content rating and duration."
   ]
  },
  {
   "cell_type": "code",
   "execution_count": 18,
   "metadata": {},
   "outputs": [
    {
     "data": {
      "text/plain": [
       "<AxesSubplot:xlabel='content_rating'>"
      ]
     },
     "execution_count": 18,
     "metadata": {},
     "output_type": "execute_result"
    },
    {
     "data": {
      "image/png": "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\n",
      "text/plain": [
       "<Figure size 432x288 with 1 Axes>"
      ]
     },
     "metadata": {
      "needs_background": "light"
     },
     "output_type": "display_data"
    }
   ],
   "source": [
    "# Answer:\n",
    "\n",
    "# movies[['content_rating', 'duration']].plot.bar()\n",
    "\n",
    "y = movies['duration']\n",
    "x = movies['content_rating']\n",
    "\n",
    "rating_counts.plot.bar()"
   ]
  },
  {
   "cell_type": "markdown",
   "metadata": {},
   "source": [
    "There only seems to be a correlation between duration and movies that are rated R"
   ]
  },
  {
   "cell_type": "markdown",
   "metadata": {},
   "source": [
    "#### Determine the top rated movie (by star rating) for each genre."
   ]
  },
  {
   "cell_type": "code",
   "execution_count": 13,
   "metadata": {},
   "outputs": [
    {
     "data": {
      "text/html": [
       "<div>\n",
       "<style scoped>\n",
       "    .dataframe tbody tr th:only-of-type {\n",
       "        vertical-align: middle;\n",
       "    }\n",
       "\n",
       "    .dataframe tbody tr th {\n",
       "        vertical-align: top;\n",
       "    }\n",
       "\n",
       "    .dataframe thead th {\n",
       "        text-align: right;\n",
       "    }\n",
       "</style>\n",
       "<table border=\"1\" class=\"dataframe\">\n",
       "  <thead>\n",
       "    <tr style=\"text-align: right;\">\n",
       "      <th></th>\n",
       "      <th>title</th>\n",
       "      <th>genre</th>\n",
       "      <th>star_rating</th>\n",
       "    </tr>\n",
       "  </thead>\n",
       "  <tbody>\n",
       "    <tr>\n",
       "      <th>1</th>\n",
       "      <td>The Dark Knight</td>\n",
       "      <td>Action</td>\n",
       "      <td>9.0</td>\n",
       "    </tr>\n",
       "    <tr>\n",
       "      <th>5</th>\n",
       "      <td>The Lord of the Rings: The Return of the King</td>\n",
       "      <td>Adventure</td>\n",
       "      <td>8.9</td>\n",
       "    </tr>\n",
       "    <tr>\n",
       "      <th>10</th>\n",
       "      <td>Spirited Away</td>\n",
       "      <td>Animation</td>\n",
       "      <td>8.6</td>\n",
       "    </tr>\n",
       "    <tr>\n",
       "      <th>6</th>\n",
       "      <td>Schindler's List</td>\n",
       "      <td>Biography</td>\n",
       "      <td>8.9</td>\n",
       "    </tr>\n",
       "    <tr>\n",
       "      <th>9</th>\n",
       "      <td>Modern Times</td>\n",
       "      <td>Comedy</td>\n",
       "      <td>8.6</td>\n",
       "    </tr>\n",
       "    <tr>\n",
       "      <th>8</th>\n",
       "      <td>City Lights</td>\n",
       "      <td>Comedy</td>\n",
       "      <td>8.6</td>\n",
       "    </tr>\n",
       "    <tr>\n",
       "      <th>7</th>\n",
       "      <td>Life Is Beautiful</td>\n",
       "      <td>Comedy</td>\n",
       "      <td>8.6</td>\n",
       "    </tr>\n",
       "    <tr>\n",
       "      <th>0</th>\n",
       "      <td>The Shawshank Redemption</td>\n",
       "      <td>Crime</td>\n",
       "      <td>9.3</td>\n",
       "    </tr>\n",
       "    <tr>\n",
       "      <th>3</th>\n",
       "      <td>Fight Club</td>\n",
       "      <td>Drama</td>\n",
       "      <td>8.9</td>\n",
       "    </tr>\n",
       "    <tr>\n",
       "      <th>2</th>\n",
       "      <td>12 Angry Men</td>\n",
       "      <td>Drama</td>\n",
       "      <td>8.9</td>\n",
       "    </tr>\n",
       "    <tr>\n",
       "      <th>17</th>\n",
       "      <td>E.T. the Extra-Terrestrial</td>\n",
       "      <td>Family</td>\n",
       "      <td>7.9</td>\n",
       "    </tr>\n",
       "    <tr>\n",
       "      <th>18</th>\n",
       "      <td>The City of Lost Children</td>\n",
       "      <td>Fantasy</td>\n",
       "      <td>7.7</td>\n",
       "    </tr>\n",
       "    <tr>\n",
       "      <th>13</th>\n",
       "      <td>The Third Man</td>\n",
       "      <td>Film-Noir</td>\n",
       "      <td>8.3</td>\n",
       "    </tr>\n",
       "    <tr>\n",
       "      <th>15</th>\n",
       "      <td>Battleship Potemkin</td>\n",
       "      <td>History</td>\n",
       "      <td>8.0</td>\n",
       "    </tr>\n",
       "    <tr>\n",
       "      <th>12</th>\n",
       "      <td>Psycho</td>\n",
       "      <td>Horror</td>\n",
       "      <td>8.6</td>\n",
       "    </tr>\n",
       "    <tr>\n",
       "      <th>11</th>\n",
       "      <td>Rear Window</td>\n",
       "      <td>Mystery</td>\n",
       "      <td>8.6</td>\n",
       "    </tr>\n",
       "    <tr>\n",
       "      <th>14</th>\n",
       "      <td>Blade Runner</td>\n",
       "      <td>Sci-Fi</td>\n",
       "      <td>8.2</td>\n",
       "    </tr>\n",
       "    <tr>\n",
       "      <th>16</th>\n",
       "      <td>Shadow of a Doubt</td>\n",
       "      <td>Thriller</td>\n",
       "      <td>8.0</td>\n",
       "    </tr>\n",
       "    <tr>\n",
       "      <th>4</th>\n",
       "      <td>The Good, the Bad and the Ugly</td>\n",
       "      <td>Western</td>\n",
       "      <td>8.9</td>\n",
       "    </tr>\n",
       "  </tbody>\n",
       "</table>\n",
       "</div>"
      ],
      "text/plain": [
       "                                            title      genre  star_rating\n",
       "1                                 The Dark Knight     Action          9.0\n",
       "5   The Lord of the Rings: The Return of the King  Adventure          8.9\n",
       "10                                  Spirited Away  Animation          8.6\n",
       "6                                Schindler's List  Biography          8.9\n",
       "9                                    Modern Times     Comedy          8.6\n",
       "8                                     City Lights     Comedy          8.6\n",
       "7                               Life Is Beautiful     Comedy          8.6\n",
       "0                        The Shawshank Redemption      Crime          9.3\n",
       "3                                      Fight Club      Drama          8.9\n",
       "2                                    12 Angry Men      Drama          8.9\n",
       "17                     E.T. the Extra-Terrestrial     Family          7.9\n",
       "18                      The City of Lost Children    Fantasy          7.7\n",
       "13                                  The Third Man  Film-Noir          8.3\n",
       "15                            Battleship Potemkin    History          8.0\n",
       "12                                         Psycho     Horror          8.6\n",
       "11                                    Rear Window    Mystery          8.6\n",
       "14                                   Blade Runner     Sci-Fi          8.2\n",
       "16                              Shadow of a Doubt   Thriller          8.0\n",
       "4                  The Good, the Bad and the Ugly    Western          8.9"
      ]
     },
     "execution_count": 13,
     "metadata": {},
     "output_type": "execute_result"
    }
   ],
   "source": [
    "# Answer:\n",
    "top_rated_genre = movies.groupby(['genre'])['star_rating'].max().to_frame('star_rating')\n",
    "pd.merge(movies[['title', 'genre', 'star_rating']], top_rated_genre,  how='inner', left_on=['genre','star_rating'], right_on = ['genre','star_rating']).sort_values('genre')\n"
   ]
  },
  {
   "cell_type": "markdown",
   "metadata": {},
   "source": [
<<<<<<< HEAD
    "**Jonathan's Note:** Nice job merging back into the original dataframe to make sure you have all of the values, even if there is a tie.  Lots of students miss this, and I know Chenyi asked a question about it in class, so I'm glad you were able to bake it into the assignment."
   ]
  },
  {
   "cell_type": "markdown",
   "metadata": {},
   "source": [
=======
>>>>>>> 47b2484ce0a32c8c37275f0354207e26eb222815
    "There are few movies that have the same star rating. "
   ]
  },
  {
   "cell_type": "markdown",
   "metadata": {},
   "source": [
    "#### Check if there are multiple movies with the same title, and if so, determine if they are actually duplicates."
   ]
  },
  {
   "cell_type": "code",
   "execution_count": 14,
   "metadata": {},
   "outputs": [
    {
     "data": {
      "text/plain": [
       "title\n",
       "Dracula                            2\n",
       "Les Miserables                     2\n",
       "The Girl with the Dragon Tattoo    2\n",
       "True Grit                          2\n",
       "dtype: int64"
      ]
     },
     "execution_count": 14,
     "metadata": {},
     "output_type": "execute_result"
    }
   ],
   "source": [
    "# Answer:\n",
    "movies.groupby('title').filter(lambda group: len(group) > 1).groupby('title').size()"
   ]
  },
  {
   "cell_type": "markdown",
   "metadata": {},
<<<<<<< HEAD
   "source": []
  },
  {
   "cell_type": "markdown",
   "metadata": {},
=======
>>>>>>> 47b2484ce0a32c8c37275f0354207e26eb222815
   "source": [
    "A release year would be more conclusive as it appears these are all remakes (or reboots). "
   ]
  },
  {
   "cell_type": "code",
   "execution_count": 15,
   "metadata": {},
   "outputs": [
    {
     "data": {
      "text/plain": [
       "Series([], dtype: int64)"
      ]
     },
     "execution_count": 15,
     "metadata": {},
     "output_type": "execute_result"
    }
   ],
   "source": [
    "movies.groupby(['title', 'star_rating', 'actors_list']).filter(lambda group: len(group) > 1).groupby(['title', 'star_rating', 'actors_list']).size()\n"
   ]
  },
  {
   "cell_type": "markdown",
<<<<<<< HEAD
   "metadata": {},
   "source": [
    "**Jonathan's Note:** A better way to approach this would be to use the `duplicated` method, which checks for this directly, and then if you did this you would see that the duplicate titles are in fact separate movies because they were released in different years.  Your second statement is a bit convoluted and would not catch what you are trying to do (I think)."
   ]
  },
  {
   "cell_type": "markdown",
=======
>>>>>>> 47b2484ce0a32c8c37275f0354207e26eb222815
   "metadata": {
    "collapsed": true
   },
   "source": [
    "#### Calculate the average star rating for each genre, but only include genres with at least 10 movies\n"
   ]
  },
  {
   "cell_type": "code",
   "execution_count": 16,
   "metadata": {},
   "outputs": [
    {
     "data": {
      "text/html": [
       "<div>\n",
       "<style scoped>\n",
       "    .dataframe tbody tr th:only-of-type {\n",
       "        vertical-align: middle;\n",
       "    }\n",
       "\n",
       "    .dataframe tbody tr th {\n",
       "        vertical-align: top;\n",
       "    }\n",
       "\n",
       "    .dataframe thead th {\n",
       "        text-align: right;\n",
       "    }\n",
       "</style>\n",
       "<table border=\"1\" class=\"dataframe\">\n",
       "  <thead>\n",
       "    <tr style=\"text-align: right;\">\n",
       "      <th></th>\n",
       "      <th>average_star_rating</th>\n",
       "    </tr>\n",
       "    <tr>\n",
       "      <th>genre</th>\n",
       "      <th></th>\n",
       "    </tr>\n",
       "  </thead>\n",
       "  <tbody>\n",
       "    <tr>\n",
       "      <th>Action</th>\n",
       "      <td>7.884559</td>\n",
       "    </tr>\n",
       "    <tr>\n",
       "      <th>Adventure</th>\n",
       "      <td>7.933333</td>\n",
       "    </tr>\n",
       "    <tr>\n",
       "      <th>Animation</th>\n",
       "      <td>7.914516</td>\n",
       "    </tr>\n",
       "    <tr>\n",
       "      <th>Biography</th>\n",
       "      <td>7.862338</td>\n",
       "    </tr>\n",
       "    <tr>\n",
       "      <th>Comedy</th>\n",
       "      <td>7.822436</td>\n",
       "    </tr>\n",
       "    <tr>\n",
       "      <th>Crime</th>\n",
       "      <td>7.916935</td>\n",
       "    </tr>\n",
       "    <tr>\n",
       "      <th>Drama</th>\n",
       "      <td>7.902518</td>\n",
       "    </tr>\n",
       "    <tr>\n",
       "      <th>Horror</th>\n",
       "      <td>7.806897</td>\n",
       "    </tr>\n",
       "    <tr>\n",
       "      <th>Mystery</th>\n",
       "      <td>7.975000</td>\n",
       "    </tr>\n",
       "  </tbody>\n",
       "</table>\n",
       "</div>"
      ],
      "text/plain": [
       "           average_star_rating\n",
       "genre                         \n",
       "Action                7.884559\n",
       "Adventure             7.933333\n",
       "Animation             7.914516\n",
       "Biography             7.862338\n",
       "Comedy                7.822436\n",
       "Crime                 7.916935\n",
       "Drama                 7.902518\n",
       "Horror                7.806897\n",
       "Mystery               7.975000"
      ]
     },
     "execution_count": 16,
     "metadata": {},
     "output_type": "execute_result"
    }
   ],
   "source": [
    "genre_filter_prep = movies.groupby('genre').filter(lambda group: len(group) => 10).groupby('genre').size().to_frame('count')\n",
    "genre_filter = genre_filter_prep[genre_filter_prep['count'] => 10]['count']\n",
    "average_rating = pd.merge(movies, genre_filter,  how='inner', left_on=['genre'], right_on = ['genre']).sort_values('genre')\n",
    "average_rating.groupby('genre')['star_rating'].mean().to_frame('average_star_rating')\n"
   ]
  },
  {
   "cell_type": "markdown",
   "metadata": {},
   "source": [
    "#### Option 1: manually create a list of relevant genres, then filter using that list"
   ]
  },
  {
   "cell_type": "code",
   "execution_count": 23,
   "metadata": {},
   "outputs": [],
   "source": [
    "# Answer:"
   ]
  },
  {
   "cell_type": "markdown",
   "metadata": {},
   "source": [
    "#### Option 2: automatically create a list of relevant genres by saving the value_counts and then filtering"
   ]
  },
  {
   "cell_type": "code",
   "execution_count": 24,
   "metadata": {},
   "outputs": [],
   "source": [
    "# Answer:"
   ]
  },
  {
   "cell_type": "markdown",
   "metadata": {},
   "source": [
    "#### Option 3: calculate the average star rating for all genres, then filter using a boolean Series"
   ]
  },
  {
   "cell_type": "code",
   "execution_count": 25,
   "metadata": {},
   "outputs": [],
   "source": [
    "# Answer:"
   ]
  },
  {
   "cell_type": "markdown",
   "metadata": {},
   "source": [
    "#### Option 4: aggregate by count and mean, then filter using the count"
   ]
  },
  {
   "cell_type": "code",
   "execution_count": 26,
   "metadata": {},
   "outputs": [],
   "source": [
    "# Answer:"
   ]
  },
  {
   "cell_type": "markdown",
   "metadata": {},
   "source": [
    "## Bonus"
   ]
  },
  {
   "cell_type": "markdown",
   "metadata": {
    "collapsed": true
   },
   "source": [
    "#### Figure out something \"interesting\" using the actors data!"
   ]
  },
  {
   "cell_type": "code",
   "execution_count": 135,
   "metadata": {},
   "outputs": [
    {
     "data": {
      "text/html": [
       "<div>\n",
       "<style scoped>\n",
       "    .dataframe tbody tr th:only-of-type {\n",
       "        vertical-align: middle;\n",
       "    }\n",
       "\n",
       "    .dataframe tbody tr th {\n",
       "        vertical-align: top;\n",
       "    }\n",
       "\n",
       "    .dataframe thead th {\n",
       "        text-align: right;\n",
       "    }\n",
       "</style>\n",
       "<table border=\"1\" class=\"dataframe\">\n",
       "  <thead>\n",
       "    <tr style=\"text-align: right;\">\n",
       "      <th></th>\n",
       "      <th>count</th>\n",
       "    </tr>\n",
       "    <tr>\n",
       "      <th>actor1</th>\n",
       "      <th></th>\n",
       "    </tr>\n",
       "  </thead>\n",
       "  <tbody>\n",
       "    <tr>\n",
       "      <th>'Robert De Niro'</th>\n",
       "      <td>13</td>\n",
       "    </tr>\n",
       "    <tr>\n",
       "      <th>'Tom Hanks'</th>\n",
       "      <td>12</td>\n",
       "    </tr>\n",
       "    <tr>\n",
       "      <th>'Clint Eastwood'</th>\n",
       "      <td>11</td>\n",
       "    </tr>\n",
       "    <tr>\n",
       "      <th>'Al Pacino'</th>\n",
       "      <td>10</td>\n",
       "    </tr>\n",
       "    <tr>\n",
       "      <th>'Johnny Depp'</th>\n",
       "      <td>10</td>\n",
       "    </tr>\n",
       "    <tr>\n",
       "      <th>...</th>\n",
       "      <td>...</td>\n",
       "    </tr>\n",
       "    <tr>\n",
       "      <th>'Maggie Grace'</th>\n",
       "      <td>1</td>\n",
       "    </tr>\n",
       "    <tr>\n",
       "      <th>'Mae Clarke'</th>\n",
       "      <td>1</td>\n",
       "    </tr>\n",
       "    <tr>\n",
       "      <th>'Madhavan'</th>\n",
       "      <td>1</td>\n",
       "    </tr>\n",
       "    <tr>\n",
       "      <th>'Madeline Kahn'</th>\n",
       "      <td>1</td>\n",
       "    </tr>\n",
       "    <tr>\n",
       "      <th>'Zooey Deschanel'</th>\n",
       "      <td>1</td>\n",
       "    </tr>\n",
       "  </tbody>\n",
       "</table>\n",
       "<p>2010 rows × 1 columns</p>\n",
       "</div>"
      ],
      "text/plain": [
       "                   count\n",
       "actor1                  \n",
       "'Robert De Niro'      13\n",
       "'Tom Hanks'           12\n",
       "'Clint Eastwood'      11\n",
       "'Al Pacino'           10\n",
       "'Johnny Depp'         10\n",
       "...                  ...\n",
       " 'Maggie Grace'        1\n",
       " 'Mae Clarke'          1\n",
       " 'Madhavan'            1\n",
       " 'Madeline Kahn'       1\n",
       "'Zooey Deschanel'      1\n",
       "\n",
       "[2010 rows x 1 columns]"
      ]
     },
     "execution_count": 135,
     "metadata": {},
     "output_type": "execute_result"
    }
   ],
   "source": [
    "actors_prep = movies['actors_list'].str.split(',', expand=True).rename(columns={0: 'actor1', 1: 'actor2', 2: 'actor3'})\n",
    "\n",
    "actor1 = actors_prep['actor1'].map(lambda x: x.lstrip('\\[u')).to_frame('actor1')\n",
    "\n",
    "actor2 = actors_prep['actor2'].map(lambda x: x.replace(r'u', '')).to_frame('actor2')\n",
    "\n",
    "actor3_prep = actors_prep['actor3'].map(lambda x: x.lstrip('u').rstrip('\\]'))\n",
    "actor3 = actor3_prep.map(lambda x: x.replace(r'u', '')).to_frame('actor3')\n",
    "\n",
    "new_df_movies = pd.concat([movies, actor1, actor2, actor3],axis=1)\n",
    "\n",
    "# new_df_movies\n",
    "\n",
    "actor2 = actor2['actor2'].to_frame('actor1')\n",
    "actor3 = actor3['actor3'].to_frame('actor1')\n",
    "\n",
    "all_actors = pd.concat([actor1,actor2,actor3], ignore_index=True)\n",
    "\n",
    "\n",
    "appearance_count = all_actors.groupby('actor1').size().to_frame('count')\n",
    "\n",
    "appearance_count.sort_values('count', ascending = False)"
   ]
  },
  {
   "cell_type": "markdown",
   "metadata": {},
   "source": [
    "Rober De Niro has the most film credits out of this list. "
   ]
  },
  {
   "cell_type": "code",
   "execution_count": null,
   "metadata": {},
   "outputs": [],
   "source": []
  }
 ],
 "metadata": {
  "kernelspec": {
   "display_name": "Python 3",
   "language": "python",
   "name": "python3"
  },
  "language_info": {
   "codemirror_mode": {
    "name": "ipython",
    "version": 3
   },
   "file_extension": ".py",
   "mimetype": "text/x-python",
   "name": "python",
   "nbconvert_exporter": "python",
   "pygments_lexer": "ipython3",
   "version": "3.8.5"
  }
 },
 "nbformat": 4,
 "nbformat_minor": 1
}
