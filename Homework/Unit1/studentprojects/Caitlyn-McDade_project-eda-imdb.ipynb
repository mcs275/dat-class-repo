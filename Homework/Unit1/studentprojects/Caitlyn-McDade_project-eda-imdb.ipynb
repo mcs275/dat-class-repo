{
 "cells": [
  {
   "cell_type": "markdown",
   "metadata": {},
   "source": [
    "<img src=\"http://imgur.com/1ZcRyrc.png\" style=\"float: left; margin: 20px; height: 55px\">\n",
    "\n",
    "# Project 2: Analyzing IMDb Data\n",
    "\n",
    "_Author: Kevin Markham (DC)_\n",
    "\n",
    "---"
   ]
  },
  {
   "cell_type": "markdown",
   "metadata": {},
   "source": [
    "For project two, you will complete a series of exercises exploring movie rating data from IMDb.\n",
    "\n",
    "For these exercises, you will be conducting basic exploratory data analysis on IMDB's movie data, looking to answer such questions as:\n",
    "\n",
    "What is the average rating per genre?\n",
    "How many different actors are in a movie?\n",
    "\n",
    "This process will help you practice your data analysis skills while becoming comfortable with Pandas."
   ]
  },
  {
   "cell_type": "markdown",
   "metadata": {},
   "source": [
    "## Basic level"
   ]
  },
  {
   "cell_type": "code",
   "execution_count": 63,
   "metadata": {},
   "outputs": [],
   "source": [
    "import pandas as pd\n",
    "import numpy as np\n",
    "import matplotlib.pyplot as plt\n",
    "import plotly.express as px\n",
    "%matplotlib inline"
   ]
  },
  {
   "cell_type": "markdown",
   "metadata": {},
   "source": [
    "#### Read in 'imdb_1000.csv' and store it in a DataFrame named movies."
   ]
  },
  {
   "cell_type": "code",
   "execution_count": 64,
   "metadata": {},
   "outputs": [
    {
     "data": {
      "text/html": [
       "<div>\n",
       "<style scoped>\n",
       "    .dataframe tbody tr th:only-of-type {\n",
       "        vertical-align: middle;\n",
       "    }\n",
       "\n",
       "    .dataframe tbody tr th {\n",
       "        vertical-align: top;\n",
       "    }\n",
       "\n",
       "    .dataframe thead th {\n",
       "        text-align: right;\n",
       "    }\n",
       "</style>\n",
       "<table border=\"1\" class=\"dataframe\">\n",
       "  <thead>\n",
       "    <tr style=\"text-align: right;\">\n",
       "      <th></th>\n",
       "      <th>star_rating</th>\n",
       "      <th>title</th>\n",
       "      <th>content_rating</th>\n",
       "      <th>genre</th>\n",
       "      <th>duration</th>\n",
       "      <th>actors_list</th>\n",
       "    </tr>\n",
       "  </thead>\n",
       "  <tbody>\n",
       "    <tr>\n",
       "      <th>0</th>\n",
       "      <td>9.3</td>\n",
       "      <td>The Shawshank Redemption</td>\n",
       "      <td>R</td>\n",
       "      <td>Crime</td>\n",
       "      <td>142</td>\n",
       "      <td>[u'Tim Robbins', u'Morgan Freeman', u'Bob Gunt...</td>\n",
       "    </tr>\n",
       "    <tr>\n",
       "      <th>1</th>\n",
       "      <td>9.2</td>\n",
       "      <td>The Godfather</td>\n",
       "      <td>R</td>\n",
       "      <td>Crime</td>\n",
       "      <td>175</td>\n",
       "      <td>[u'Marlon Brando', u'Al Pacino', u'James Caan']</td>\n",
       "    </tr>\n",
       "    <tr>\n",
       "      <th>2</th>\n",
       "      <td>9.1</td>\n",
       "      <td>The Godfather: Part II</td>\n",
       "      <td>R</td>\n",
       "      <td>Crime</td>\n",
       "      <td>200</td>\n",
       "      <td>[u'Al Pacino', u'Robert De Niro', u'Robert Duv...</td>\n",
       "    </tr>\n",
       "    <tr>\n",
       "      <th>3</th>\n",
       "      <td>9.0</td>\n",
       "      <td>The Dark Knight</td>\n",
       "      <td>PG-13</td>\n",
       "      <td>Action</td>\n",
       "      <td>152</td>\n",
       "      <td>[u'Christian Bale', u'Heath Ledger', u'Aaron E...</td>\n",
       "    </tr>\n",
       "    <tr>\n",
       "      <th>4</th>\n",
       "      <td>8.9</td>\n",
       "      <td>Pulp Fiction</td>\n",
       "      <td>R</td>\n",
       "      <td>Crime</td>\n",
       "      <td>154</td>\n",
       "      <td>[u'John Travolta', u'Uma Thurman', u'Samuel L....</td>\n",
       "    </tr>\n",
       "  </tbody>\n",
       "</table>\n",
       "</div>"
      ],
      "text/plain": [
       "   star_rating                     title content_rating   genre  duration  \\\n",
       "0          9.3  The Shawshank Redemption              R   Crime       142   \n",
       "1          9.2             The Godfather              R   Crime       175   \n",
       "2          9.1    The Godfather: Part II              R   Crime       200   \n",
       "3          9.0           The Dark Knight          PG-13  Action       152   \n",
       "4          8.9              Pulp Fiction              R   Crime       154   \n",
       "\n",
       "                                         actors_list  \n",
       "0  [u'Tim Robbins', u'Morgan Freeman', u'Bob Gunt...  \n",
       "1    [u'Marlon Brando', u'Al Pacino', u'James Caan']  \n",
       "2  [u'Al Pacino', u'Robert De Niro', u'Robert Duv...  \n",
       "3  [u'Christian Bale', u'Heath Ledger', u'Aaron E...  \n",
       "4  [u'John Travolta', u'Uma Thurman', u'Samuel L....  "
      ]
     },
     "execution_count": 64,
     "metadata": {},
     "output_type": "execute_result"
    }
   ],
   "source": [
    "movies = pd.read_csv('./data/imdb_1000.csv')\n",
    "movies.head()"
   ]
  },
  {
   "cell_type": "markdown",
   "metadata": {},
   "source": [
    "#### Check the number of rows and columns."
   ]
  },
  {
   "cell_type": "code",
   "execution_count": 65,
   "metadata": {},
   "outputs": [
    {
     "data": {
      "text/plain": [
       "(979, 6)"
      ]
     },
     "execution_count": 65,
     "metadata": {},
     "output_type": "execute_result"
    }
   ],
   "source": [
    "# Answer:\n",
    "movies.shape"
   ]
  },
  {
   "cell_type": "markdown",
   "metadata": {},
   "source": [
    "#### Check the data type of each column."
   ]
  },
  {
   "cell_type": "code",
   "execution_count": 66,
   "metadata": {},
   "outputs": [
    {
     "data": {
      "text/plain": [
       "star_rating       float64\n",
       "title              object\n",
       "content_rating     object\n",
       "genre              object\n",
       "duration            int64\n",
       "actors_list        object\n",
       "dtype: object"
      ]
     },
     "execution_count": 66,
     "metadata": {},
     "output_type": "execute_result"
    }
   ],
   "source": [
    "# Answer:\n",
    "movies.dtypes"
   ]
  },
  {
   "cell_type": "markdown",
   "metadata": {},
   "source": [
    "#### Calculate the average movie duration."
   ]
  },
  {
   "cell_type": "code",
   "execution_count": 67,
   "metadata": {},
   "outputs": [
    {
     "data": {
      "text/plain": [
       "120.97957099080695"
      ]
     },
     "execution_count": 67,
     "metadata": {},
     "output_type": "execute_result"
    }
   ],
   "source": [
    "# Answer:\n",
    "movies['duration'].mean()"
   ]
  },
  {
   "cell_type": "markdown",
   "metadata": {},
   "source": [
    "#### Sort the DataFrame by duration to find the shortest and longest movies."
   ]
  },
  {
   "cell_type": "code",
   "execution_count": 68,
   "metadata": {},
   "outputs": [
    {
     "data": {
      "text/html": [
       "<div>\n",
       "<style scoped>\n",
       "    .dataframe tbody tr th:only-of-type {\n",
       "        vertical-align: middle;\n",
       "    }\n",
       "\n",
       "    .dataframe tbody tr th {\n",
       "        vertical-align: top;\n",
       "    }\n",
       "\n",
       "    .dataframe thead th {\n",
       "        text-align: right;\n",
       "    }\n",
       "</style>\n",
       "<table border=\"1\" class=\"dataframe\">\n",
       "  <thead>\n",
       "    <tr style=\"text-align: right;\">\n",
       "      <th></th>\n",
       "      <th>star_rating</th>\n",
       "      <th>title</th>\n",
       "      <th>content_rating</th>\n",
       "      <th>genre</th>\n",
       "      <th>duration</th>\n",
       "      <th>actors_list</th>\n",
       "    </tr>\n",
       "  </thead>\n",
       "  <tbody>\n",
       "    <tr>\n",
       "      <th>476</th>\n",
       "      <td>7.8</td>\n",
       "      <td>Hamlet</td>\n",
       "      <td>PG-13</td>\n",
       "      <td>Drama</td>\n",
       "      <td>242</td>\n",
       "      <td>[u'Kenneth Branagh', u'Julie Christie', u'Dere...</td>\n",
       "    </tr>\n",
       "    <tr>\n",
       "      <th>157</th>\n",
       "      <td>8.2</td>\n",
       "      <td>Gone with the Wind</td>\n",
       "      <td>G</td>\n",
       "      <td>Drama</td>\n",
       "      <td>238</td>\n",
       "      <td>[u'Clark Gable', u'Vivien Leigh', u'Thomas Mit...</td>\n",
       "    </tr>\n",
       "    <tr>\n",
       "      <th>78</th>\n",
       "      <td>8.4</td>\n",
       "      <td>Once Upon a Time in America</td>\n",
       "      <td>R</td>\n",
       "      <td>Crime</td>\n",
       "      <td>229</td>\n",
       "      <td>[u'Robert De Niro', u'James Woods', u'Elizabet...</td>\n",
       "    </tr>\n",
       "    <tr>\n",
       "      <th>142</th>\n",
       "      <td>8.3</td>\n",
       "      <td>Lagaan: Once Upon a Time in India</td>\n",
       "      <td>PG</td>\n",
       "      <td>Adventure</td>\n",
       "      <td>224</td>\n",
       "      <td>[u'Aamir Khan', u'Gracy Singh', u'Rachel Shell...</td>\n",
       "    </tr>\n",
       "    <tr>\n",
       "      <th>445</th>\n",
       "      <td>7.9</td>\n",
       "      <td>The Ten Commandments</td>\n",
       "      <td>APPROVED</td>\n",
       "      <td>Adventure</td>\n",
       "      <td>220</td>\n",
       "      <td>[u'Charlton Heston', u'Yul Brynner', u'Anne Ba...</td>\n",
       "    </tr>\n",
       "    <tr>\n",
       "      <th>...</th>\n",
       "      <td>...</td>\n",
       "      <td>...</td>\n",
       "      <td>...</td>\n",
       "      <td>...</td>\n",
       "      <td>...</td>\n",
       "      <td>...</td>\n",
       "    </tr>\n",
       "    <tr>\n",
       "      <th>293</th>\n",
       "      <td>8.1</td>\n",
       "      <td>Duck Soup</td>\n",
       "      <td>PASSED</td>\n",
       "      <td>Comedy</td>\n",
       "      <td>68</td>\n",
       "      <td>[u'Groucho Marx', u'Harpo Marx', u'Chico Marx']</td>\n",
       "    </tr>\n",
       "    <tr>\n",
       "      <th>88</th>\n",
       "      <td>8.4</td>\n",
       "      <td>The Kid</td>\n",
       "      <td>NOT RATED</td>\n",
       "      <td>Comedy</td>\n",
       "      <td>68</td>\n",
       "      <td>[u'Charles Chaplin', u'Edna Purviance', u'Jack...</td>\n",
       "    </tr>\n",
       "    <tr>\n",
       "      <th>258</th>\n",
       "      <td>8.1</td>\n",
       "      <td>The Cabinet of Dr. Caligari</td>\n",
       "      <td>UNRATED</td>\n",
       "      <td>Crime</td>\n",
       "      <td>67</td>\n",
       "      <td>[u'Werner Krauss', u'Conrad Veidt', u'Friedric...</td>\n",
       "    </tr>\n",
       "    <tr>\n",
       "      <th>338</th>\n",
       "      <td>8.0</td>\n",
       "      <td>Battleship Potemkin</td>\n",
       "      <td>UNRATED</td>\n",
       "      <td>History</td>\n",
       "      <td>66</td>\n",
       "      <td>[u'Aleksandr Antonov', u'Vladimir Barsky', u'G...</td>\n",
       "    </tr>\n",
       "    <tr>\n",
       "      <th>389</th>\n",
       "      <td>8.0</td>\n",
       "      <td>Freaks</td>\n",
       "      <td>UNRATED</td>\n",
       "      <td>Drama</td>\n",
       "      <td>64</td>\n",
       "      <td>[u'Wallace Ford', u'Leila Hyams', u'Olga Bacla...</td>\n",
       "    </tr>\n",
       "  </tbody>\n",
       "</table>\n",
       "<p>979 rows × 6 columns</p>\n",
       "</div>"
      ],
      "text/plain": [
       "     star_rating                              title content_rating      genre  \\\n",
       "476          7.8                             Hamlet          PG-13      Drama   \n",
       "157          8.2                 Gone with the Wind              G      Drama   \n",
       "78           8.4        Once Upon a Time in America              R      Crime   \n",
       "142          8.3  Lagaan: Once Upon a Time in India             PG  Adventure   \n",
       "445          7.9               The Ten Commandments       APPROVED  Adventure   \n",
       "..           ...                                ...            ...        ...   \n",
       "293          8.1                          Duck Soup         PASSED     Comedy   \n",
       "88           8.4                            The Kid      NOT RATED     Comedy   \n",
       "258          8.1        The Cabinet of Dr. Caligari        UNRATED      Crime   \n",
       "338          8.0                Battleship Potemkin        UNRATED    History   \n",
       "389          8.0                             Freaks        UNRATED      Drama   \n",
       "\n",
       "     duration                                        actors_list  \n",
       "476       242  [u'Kenneth Branagh', u'Julie Christie', u'Dere...  \n",
       "157       238  [u'Clark Gable', u'Vivien Leigh', u'Thomas Mit...  \n",
       "78        229  [u'Robert De Niro', u'James Woods', u'Elizabet...  \n",
       "142       224  [u'Aamir Khan', u'Gracy Singh', u'Rachel Shell...  \n",
       "445       220  [u'Charlton Heston', u'Yul Brynner', u'Anne Ba...  \n",
       "..        ...                                                ...  \n",
       "293        68    [u'Groucho Marx', u'Harpo Marx', u'Chico Marx']  \n",
       "88         68  [u'Charles Chaplin', u'Edna Purviance', u'Jack...  \n",
       "258        67  [u'Werner Krauss', u'Conrad Veidt', u'Friedric...  \n",
       "338        66  [u'Aleksandr Antonov', u'Vladimir Barsky', u'G...  \n",
       "389        64  [u'Wallace Ford', u'Leila Hyams', u'Olga Bacla...  \n",
       "\n",
       "[979 rows x 6 columns]"
      ]
     },
     "execution_count": 68,
     "metadata": {},
     "output_type": "execute_result"
    }
   ],
   "source": [
    "# Answer: longest movie is Hamlet\n",
    "movies.sort_values(by=['duration'], ascending=False)"
   ]
  },
  {
   "cell_type": "code",
   "execution_count": 69,
   "metadata": {},
   "outputs": [
    {
     "data": {
      "text/html": [
       "<div>\n",
       "<style scoped>\n",
       "    .dataframe tbody tr th:only-of-type {\n",
       "        vertical-align: middle;\n",
       "    }\n",
       "\n",
       "    .dataframe tbody tr th {\n",
       "        vertical-align: top;\n",
       "    }\n",
       "\n",
       "    .dataframe thead th {\n",
       "        text-align: right;\n",
       "    }\n",
       "</style>\n",
       "<table border=\"1\" class=\"dataframe\">\n",
       "  <thead>\n",
       "    <tr style=\"text-align: right;\">\n",
       "      <th></th>\n",
       "      <th>star_rating</th>\n",
       "      <th>title</th>\n",
       "      <th>content_rating</th>\n",
       "      <th>genre</th>\n",
       "      <th>duration</th>\n",
       "      <th>actors_list</th>\n",
       "    </tr>\n",
       "  </thead>\n",
       "  <tbody>\n",
       "    <tr>\n",
       "      <th>389</th>\n",
       "      <td>8.0</td>\n",
       "      <td>Freaks</td>\n",
       "      <td>UNRATED</td>\n",
       "      <td>Drama</td>\n",
       "      <td>64</td>\n",
       "      <td>[u'Wallace Ford', u'Leila Hyams', u'Olga Bacla...</td>\n",
       "    </tr>\n",
       "    <tr>\n",
       "      <th>338</th>\n",
       "      <td>8.0</td>\n",
       "      <td>Battleship Potemkin</td>\n",
       "      <td>UNRATED</td>\n",
       "      <td>History</td>\n",
       "      <td>66</td>\n",
       "      <td>[u'Aleksandr Antonov', u'Vladimir Barsky', u'G...</td>\n",
       "    </tr>\n",
       "    <tr>\n",
       "      <th>258</th>\n",
       "      <td>8.1</td>\n",
       "      <td>The Cabinet of Dr. Caligari</td>\n",
       "      <td>UNRATED</td>\n",
       "      <td>Crime</td>\n",
       "      <td>67</td>\n",
       "      <td>[u'Werner Krauss', u'Conrad Veidt', u'Friedric...</td>\n",
       "    </tr>\n",
       "    <tr>\n",
       "      <th>293</th>\n",
       "      <td>8.1</td>\n",
       "      <td>Duck Soup</td>\n",
       "      <td>PASSED</td>\n",
       "      <td>Comedy</td>\n",
       "      <td>68</td>\n",
       "      <td>[u'Groucho Marx', u'Harpo Marx', u'Chico Marx']</td>\n",
       "    </tr>\n",
       "    <tr>\n",
       "      <th>88</th>\n",
       "      <td>8.4</td>\n",
       "      <td>The Kid</td>\n",
       "      <td>NOT RATED</td>\n",
       "      <td>Comedy</td>\n",
       "      <td>68</td>\n",
       "      <td>[u'Charles Chaplin', u'Edna Purviance', u'Jack...</td>\n",
       "    </tr>\n",
       "    <tr>\n",
       "      <th>...</th>\n",
       "      <td>...</td>\n",
       "      <td>...</td>\n",
       "      <td>...</td>\n",
       "      <td>...</td>\n",
       "      <td>...</td>\n",
       "      <td>...</td>\n",
       "    </tr>\n",
       "    <tr>\n",
       "      <th>445</th>\n",
       "      <td>7.9</td>\n",
       "      <td>The Ten Commandments</td>\n",
       "      <td>APPROVED</td>\n",
       "      <td>Adventure</td>\n",
       "      <td>220</td>\n",
       "      <td>[u'Charlton Heston', u'Yul Brynner', u'Anne Ba...</td>\n",
       "    </tr>\n",
       "    <tr>\n",
       "      <th>142</th>\n",
       "      <td>8.3</td>\n",
       "      <td>Lagaan: Once Upon a Time in India</td>\n",
       "      <td>PG</td>\n",
       "      <td>Adventure</td>\n",
       "      <td>224</td>\n",
       "      <td>[u'Aamir Khan', u'Gracy Singh', u'Rachel Shell...</td>\n",
       "    </tr>\n",
       "    <tr>\n",
       "      <th>78</th>\n",
       "      <td>8.4</td>\n",
       "      <td>Once Upon a Time in America</td>\n",
       "      <td>R</td>\n",
       "      <td>Crime</td>\n",
       "      <td>229</td>\n",
       "      <td>[u'Robert De Niro', u'James Woods', u'Elizabet...</td>\n",
       "    </tr>\n",
       "    <tr>\n",
       "      <th>157</th>\n",
       "      <td>8.2</td>\n",
       "      <td>Gone with the Wind</td>\n",
       "      <td>G</td>\n",
       "      <td>Drama</td>\n",
       "      <td>238</td>\n",
       "      <td>[u'Clark Gable', u'Vivien Leigh', u'Thomas Mit...</td>\n",
       "    </tr>\n",
       "    <tr>\n",
       "      <th>476</th>\n",
       "      <td>7.8</td>\n",
       "      <td>Hamlet</td>\n",
       "      <td>PG-13</td>\n",
       "      <td>Drama</td>\n",
       "      <td>242</td>\n",
       "      <td>[u'Kenneth Branagh', u'Julie Christie', u'Dere...</td>\n",
       "    </tr>\n",
       "  </tbody>\n",
       "</table>\n",
       "<p>979 rows × 6 columns</p>\n",
       "</div>"
      ],
      "text/plain": [
       "     star_rating                              title content_rating      genre  \\\n",
       "389          8.0                             Freaks        UNRATED      Drama   \n",
       "338          8.0                Battleship Potemkin        UNRATED    History   \n",
       "258          8.1        The Cabinet of Dr. Caligari        UNRATED      Crime   \n",
       "293          8.1                          Duck Soup         PASSED     Comedy   \n",
       "88           8.4                            The Kid      NOT RATED     Comedy   \n",
       "..           ...                                ...            ...        ...   \n",
       "445          7.9               The Ten Commandments       APPROVED  Adventure   \n",
       "142          8.3  Lagaan: Once Upon a Time in India             PG  Adventure   \n",
       "78           8.4        Once Upon a Time in America              R      Crime   \n",
       "157          8.2                 Gone with the Wind              G      Drama   \n",
       "476          7.8                             Hamlet          PG-13      Drama   \n",
       "\n",
       "     duration                                        actors_list  \n",
       "389        64  [u'Wallace Ford', u'Leila Hyams', u'Olga Bacla...  \n",
       "338        66  [u'Aleksandr Antonov', u'Vladimir Barsky', u'G...  \n",
       "258        67  [u'Werner Krauss', u'Conrad Veidt', u'Friedric...  \n",
       "293        68    [u'Groucho Marx', u'Harpo Marx', u'Chico Marx']  \n",
       "88         68  [u'Charles Chaplin', u'Edna Purviance', u'Jack...  \n",
       "..        ...                                                ...  \n",
       "445       220  [u'Charlton Heston', u'Yul Brynner', u'Anne Ba...  \n",
       "142       224  [u'Aamir Khan', u'Gracy Singh', u'Rachel Shell...  \n",
       "78        229  [u'Robert De Niro', u'James Woods', u'Elizabet...  \n",
       "157       238  [u'Clark Gable', u'Vivien Leigh', u'Thomas Mit...  \n",
       "476       242  [u'Kenneth Branagh', u'Julie Christie', u'Dere...  \n",
       "\n",
       "[979 rows x 6 columns]"
      ]
     },
     "execution_count": 69,
     "metadata": {},
     "output_type": "execute_result"
    }
   ],
   "source": [
    "# Answer: shortest movie is Freaks\n",
    "movies.sort_values(by=['duration'], ascending=True)"
   ]
  },
  {
   "cell_type": "markdown",
   "metadata": {},
   "source": [
    "#### Create a histogram of duration, choosing an \"appropriate\" number of bins."
   ]
  },
  {
   "cell_type": "code",
   "execution_count": 70,
   "metadata": {},
   "outputs": [
    {
     "data": {
      "application/vnd.plotly.v1+json": {
       "config": {
        "plotlyServerURL": "https://plot.ly"
       },
       "data": [
        {
         "alignmentgroup": "True",
         "bingroup": "x",
         "hovertemplate": "duration=%{x}<br>count=%{y}<extra></extra>",
         "legendgroup": "",
         "marker": {
          "color": "#636efa",
          "pattern": {
           "shape": ""
          }
         },
         "name": "",
         "nbinsx": 30,
         "offsetgroup": "",
         "orientation": "v",
         "showlegend": false,
         "type": "histogram",
         "x": [
          142,
          175,
          200,
          152,
          154,
          96,
          161,
          201,
          195,
          139,
          178,
          148,
          124,
          142,
          179,
          169,
          133,
          207,
          146,
          121,
          136,
          130,
          130,
          106,
          127,
          116,
          175,
          118,
          110,
          87,
          125,
          112,
          102,
          107,
          119,
          87,
          169,
          115,
          112,
          109,
          189,
          110,
          150,
          165,
          155,
          137,
          113,
          165,
          95,
          151,
          155,
          153,
          125,
          130,
          116,
          89,
          137,
          117,
          88,
          165,
          170,
          89,
          146,
          99,
          98,
          116,
          156,
          122,
          149,
          134,
          122,
          136,
          157,
          123,
          119,
          137,
          128,
          120,
          229,
          107,
          134,
          103,
          177,
          129,
          102,
          216,
          136,
          93,
          68,
          189,
          99,
          108,
          113,
          181,
          103,
          138,
          110,
          129,
          88,
          160,
          126,
          91,
          116,
          125,
          143,
          93,
          102,
          132,
          153,
          183,
          160,
          120,
          138,
          140,
          153,
          170,
          129,
          81,
          127,
          131,
          172,
          115,
          108,
          107,
          129,
          156,
          96,
          91,
          95,
          162,
          130,
          86,
          186,
          151,
          96,
          170,
          118,
          161,
          131,
          126,
          131,
          129,
          224,
          180,
          105,
          117,
          140,
          119,
          124,
          130,
          139,
          107,
          132,
          117,
          126,
          122,
          178,
          238,
          149,
          172,
          98,
          116,
          116,
          123,
          148,
          123,
          182,
          92,
          93,
          100,
          135,
          105,
          94,
          140,
          83,
          95,
          98,
          143,
          99,
          98,
          121,
          163,
          121,
          167,
          188,
          121,
          109,
          110,
          129,
          127,
          94,
          107,
          100,
          117,
          129,
          120,
          121,
          133,
          111,
          122,
          101,
          134,
          165,
          138,
          212,
          154,
          89,
          134,
          93,
          114,
          88,
          130,
          101,
          158,
          99,
          108,
          124,
          132,
          113,
          131,
          191,
          167,
          130,
          147,
          102,
          88,
          165,
          132,
          118,
          101,
          108,
          174,
          98,
          92,
          98,
          106,
          85,
          101,
          105,
          115,
          115,
          124,
          105,
          103,
          138,
          184,
          120,
          99,
          131,
          138,
          98,
          123,
          118,
          114,
          118,
          112,
          124,
          160,
          67,
          146,
          125,
          115,
          134,
          141,
          129,
          104,
          94,
          124,
          150,
          119,
          128,
          143,
          85,
          151,
          118,
          101,
          99,
          92,
          125,
          102,
          106,
          107,
          91,
          80,
          122,
          102,
          112,
          92,
          135,
          136,
          153,
          105,
          126,
          68,
          84,
          103,
          145,
          80,
          106,
          127,
          178,
          137,
          172,
          76,
          130,
          96,
          82,
          115,
          95,
          143,
          125,
          120,
          127,
          112,
          104,
          113,
          189,
          127,
          188,
          96,
          113,
          132,
          122,
          126,
          140,
          133,
          112,
          102,
          93,
          109,
          81,
          108,
          111,
          119,
          96,
          197,
          127,
          138,
          66,
          181,
          141,
          144,
          128,
          83,
          121,
          98,
          117,
          94,
          174,
          112,
          108,
          70,
          99,
          96,
          137,
          136,
          100,
          90,
          96,
          161,
          115,
          181,
          169,
          98,
          136,
          138,
          119,
          123,
          112,
          120,
          103,
          97,
          109,
          165,
          156,
          147,
          100,
          126,
          115,
          105,
          144,
          102,
          107,
          119,
          90,
          197,
          86,
          113,
          133,
          64,
          141,
          113,
          122,
          105,
          119,
          102,
          122,
          123,
          113,
          97,
          117,
          111,
          85,
          99,
          134,
          75,
          109,
          117,
          91,
          128,
          111,
          119,
          100,
          114,
          92,
          141,
          101,
          115,
          127,
          96,
          129,
          135,
          109,
          157,
          193,
          94,
          155,
          113,
          130,
          117,
          159,
          141,
          112,
          162,
          126,
          120,
          144,
          120,
          109,
          97,
          108,
          115,
          136,
          90,
          170,
          220,
          116,
          134,
          124,
          91,
          103,
          96,
          119,
          98,
          101,
          93,
          179,
          155,
          121,
          103,
          127,
          103,
          107,
          100,
          92,
          94,
          158,
          86,
          115,
          130,
          107,
          100,
          108,
          124,
          131,
          122,
          242,
          127,
          141,
          126,
          89,
          113,
          152,
          107,
          92,
          145,
          84,
          126,
          132,
          78,
          117,
          128,
          100,
          128,
          100,
          143,
          107,
          100,
          125,
          106,
          157,
          94,
          104,
          94,
          153,
          123,
          120,
          105,
          166,
          112,
          94,
          111,
          87,
          80,
          108,
          102,
          105,
          136,
          101,
          100,
          108,
          101,
          106,
          105,
          88,
          129,
          138,
          129,
          118,
          139,
          123,
          150,
          132,
          80,
          178,
          79,
          163,
          114,
          144,
          130,
          154,
          81,
          95,
          101,
          120,
          93,
          115,
          106,
          120,
          110,
          123,
          142,
          99,
          112,
          120,
          122,
          130,
          139,
          129,
          141,
          127,
          130,
          118,
          110,
          115,
          101,
          112,
          108,
          143,
          152,
          117,
          121,
          119,
          114,
          122,
          105,
          110,
          116,
          139,
          121,
          109,
          146,
          113,
          100,
          121,
          113,
          113,
          117,
          93,
          101,
          90,
          131,
          98,
          93,
          121,
          82,
          124,
          100,
          117,
          99,
          116,
          123,
          114,
          133,
          105,
          127,
          144,
          90,
          118,
          122,
          102,
          187,
          87,
          154,
          89,
          88,
          129,
          95,
          118,
          98,
          194,
          114,
          80,
          130,
          135,
          101,
          105,
          129,
          134,
          143,
          202,
          89,
          106,
          92,
          137,
          124,
          122,
          113,
          112,
          110,
          135,
          88,
          146,
          104,
          125,
          131,
          91,
          142,
          129,
          158,
          102,
          99,
          101,
          104,
          119,
          103,
          88,
          100,
          146,
          150,
          140,
          140,
          110,
          97,
          102,
          152,
          100,
          94,
          85,
          104,
          112,
          191,
          119,
          111,
          94,
          103,
          134,
          157,
          158,
          127,
          101,
          109,
          98,
          134,
          168,
          93,
          145,
          111,
          88,
          123,
          121,
          144,
          116,
          124,
          147,
          106,
          113,
          129,
          94,
          126,
          128,
          111,
          146,
          85,
          105,
          132,
          130,
          162,
          113,
          110,
          113,
          162,
          110,
          78,
          92,
          95,
          138,
          102,
          128,
          96,
          164,
          126,
          110,
          109,
          122,
          124,
          128,
          157,
          120,
          102,
          152,
          170,
          102,
          116,
          164,
          85,
          104,
          99,
          81,
          131,
          101,
          121,
          69,
          92,
          94,
          141,
          116,
          98,
          135,
          121,
          108,
          114,
          102,
          112,
          140,
          157,
          128,
          108,
          139,
          83,
          131,
          113,
          136,
          96,
          118,
          108,
          83,
          205,
          124,
          111,
          137,
          104,
          109,
          115,
          99,
          114,
          133,
          131,
          131,
          123,
          126,
          97,
          126,
          89,
          122,
          121,
          125,
          105,
          118,
          81,
          115,
          126,
          113,
          107,
          126,
          111,
          85,
          120,
          93,
          100,
          107,
          126,
          131,
          116,
          143,
          93,
          96,
          160,
          137,
          119,
          114,
          98,
          111,
          138,
          144,
          107,
          114,
          125,
          146,
          113,
          85,
          97,
          93,
          113,
          128,
          114,
          147,
          127,
          167,
          124,
          109,
          124,
          102,
          130,
          125,
          98,
          154,
          97,
          128,
          98,
          101,
          147,
          172,
          125,
          88,
          125,
          121,
          112,
          120,
          133,
          110,
          135,
          110,
          80,
          135,
          101,
          112,
          124,
          129,
          104,
          96,
          105,
          109,
          117,
          78,
          138,
          106,
          90,
          106,
          91,
          112,
          134,
          112,
          104,
          101,
          120,
          123,
          133,
          110,
          129,
          120,
          83,
          88,
          96,
          139,
          113,
          84,
          106,
          170,
          144,
          104,
          153,
          85,
          130,
          93,
          148,
          115,
          102,
          125,
          106,
          121,
          143,
          116,
          99,
          116,
          128,
          119,
          104,
          114,
          152,
          129,
          103,
          112,
          92,
          141,
          106,
          109,
          104,
          122,
          111,
          112,
          116,
          130,
          133,
          134,
          92,
          104,
          110,
          97,
          100,
          118,
          112,
          138,
          92,
          118,
          140,
          128,
          101,
          75,
          97,
          111,
          175,
          94,
          97,
          132,
          120,
          107,
          89,
          86,
          103,
          108,
          105,
          117,
          102,
          104,
          157,
          104,
          98,
          109,
          96,
          103,
          114,
          99,
          118,
          150,
          105,
          87,
          136,
          162,
          109,
          107,
          90,
          112,
          126,
          116,
          118,
          138,
          114,
          126
         ],
         "xaxis": "x",
         "yaxis": "y"
        }
       ],
       "layout": {
        "barmode": "relative",
        "legend": {
         "tracegroupgap": 0
        },
        "margin": {
         "t": 60
        },
        "template": {
         "data": {
          "bar": [
           {
            "error_x": {
             "color": "#2a3f5f"
            },
            "error_y": {
             "color": "#2a3f5f"
            },
            "marker": {
             "line": {
              "color": "#E5ECF6",
              "width": 0.5
             },
             "pattern": {
              "fillmode": "overlay",
              "size": 10,
              "solidity": 0.2
             }
            },
            "type": "bar"
           }
          ],
          "barpolar": [
           {
            "marker": {
             "line": {
              "color": "#E5ECF6",
              "width": 0.5
             },
             "pattern": {
              "fillmode": "overlay",
              "size": 10,
              "solidity": 0.2
             }
            },
            "type": "barpolar"
           }
          ],
          "carpet": [
           {
            "aaxis": {
             "endlinecolor": "#2a3f5f",
             "gridcolor": "white",
             "linecolor": "white",
             "minorgridcolor": "white",
             "startlinecolor": "#2a3f5f"
            },
            "baxis": {
             "endlinecolor": "#2a3f5f",
             "gridcolor": "white",
             "linecolor": "white",
             "minorgridcolor": "white",
             "startlinecolor": "#2a3f5f"
            },
            "type": "carpet"
           }
          ],
          "choropleth": [
           {
            "colorbar": {
             "outlinewidth": 0,
             "ticks": ""
            },
            "type": "choropleth"
           }
          ],
          "contour": [
           {
            "colorbar": {
             "outlinewidth": 0,
             "ticks": ""
            },
            "colorscale": [
             [
              0,
              "#0d0887"
             ],
             [
              0.1111111111111111,
              "#46039f"
             ],
             [
              0.2222222222222222,
              "#7201a8"
             ],
             [
              0.3333333333333333,
              "#9c179e"
             ],
             [
              0.4444444444444444,
              "#bd3786"
             ],
             [
              0.5555555555555556,
              "#d8576b"
             ],
             [
              0.6666666666666666,
              "#ed7953"
             ],
             [
              0.7777777777777778,
              "#fb9f3a"
             ],
             [
              0.8888888888888888,
              "#fdca26"
             ],
             [
              1,
              "#f0f921"
             ]
            ],
            "type": "contour"
           }
          ],
          "contourcarpet": [
           {
            "colorbar": {
             "outlinewidth": 0,
             "ticks": ""
            },
            "type": "contourcarpet"
           }
          ],
          "heatmap": [
           {
            "colorbar": {
             "outlinewidth": 0,
             "ticks": ""
            },
            "colorscale": [
             [
              0,
              "#0d0887"
             ],
             [
              0.1111111111111111,
              "#46039f"
             ],
             [
              0.2222222222222222,
              "#7201a8"
             ],
             [
              0.3333333333333333,
              "#9c179e"
             ],
             [
              0.4444444444444444,
              "#bd3786"
             ],
             [
              0.5555555555555556,
              "#d8576b"
             ],
             [
              0.6666666666666666,
              "#ed7953"
             ],
             [
              0.7777777777777778,
              "#fb9f3a"
             ],
             [
              0.8888888888888888,
              "#fdca26"
             ],
             [
              1,
              "#f0f921"
             ]
            ],
            "type": "heatmap"
           }
          ],
          "heatmapgl": [
           {
            "colorbar": {
             "outlinewidth": 0,
             "ticks": ""
            },
            "colorscale": [
             [
              0,
              "#0d0887"
             ],
             [
              0.1111111111111111,
              "#46039f"
             ],
             [
              0.2222222222222222,
              "#7201a8"
             ],
             [
              0.3333333333333333,
              "#9c179e"
             ],
             [
              0.4444444444444444,
              "#bd3786"
             ],
             [
              0.5555555555555556,
              "#d8576b"
             ],
             [
              0.6666666666666666,
              "#ed7953"
             ],
             [
              0.7777777777777778,
              "#fb9f3a"
             ],
             [
              0.8888888888888888,
              "#fdca26"
             ],
             [
              1,
              "#f0f921"
             ]
            ],
            "type": "heatmapgl"
           }
          ],
          "histogram": [
           {
            "marker": {
             "pattern": {
              "fillmode": "overlay",
              "size": 10,
              "solidity": 0.2
             }
            },
            "type": "histogram"
           }
          ],
          "histogram2d": [
           {
            "colorbar": {
             "outlinewidth": 0,
             "ticks": ""
            },
            "colorscale": [
             [
              0,
              "#0d0887"
             ],
             [
              0.1111111111111111,
              "#46039f"
             ],
             [
              0.2222222222222222,
              "#7201a8"
             ],
             [
              0.3333333333333333,
              "#9c179e"
             ],
             [
              0.4444444444444444,
              "#bd3786"
             ],
             [
              0.5555555555555556,
              "#d8576b"
             ],
             [
              0.6666666666666666,
              "#ed7953"
             ],
             [
              0.7777777777777778,
              "#fb9f3a"
             ],
             [
              0.8888888888888888,
              "#fdca26"
             ],
             [
              1,
              "#f0f921"
             ]
            ],
            "type": "histogram2d"
           }
          ],
          "histogram2dcontour": [
           {
            "colorbar": {
             "outlinewidth": 0,
             "ticks": ""
            },
            "colorscale": [
             [
              0,
              "#0d0887"
             ],
             [
              0.1111111111111111,
              "#46039f"
             ],
             [
              0.2222222222222222,
              "#7201a8"
             ],
             [
              0.3333333333333333,
              "#9c179e"
             ],
             [
              0.4444444444444444,
              "#bd3786"
             ],
             [
              0.5555555555555556,
              "#d8576b"
             ],
             [
              0.6666666666666666,
              "#ed7953"
             ],
             [
              0.7777777777777778,
              "#fb9f3a"
             ],
             [
              0.8888888888888888,
              "#fdca26"
             ],
             [
              1,
              "#f0f921"
             ]
            ],
            "type": "histogram2dcontour"
           }
          ],
          "mesh3d": [
           {
            "colorbar": {
             "outlinewidth": 0,
             "ticks": ""
            },
            "type": "mesh3d"
           }
          ],
          "parcoords": [
           {
            "line": {
             "colorbar": {
              "outlinewidth": 0,
              "ticks": ""
             }
            },
            "type": "parcoords"
           }
          ],
          "pie": [
           {
            "automargin": true,
            "type": "pie"
           }
          ],
          "scatter": [
           {
            "marker": {
             "colorbar": {
              "outlinewidth": 0,
              "ticks": ""
             }
            },
            "type": "scatter"
           }
          ],
          "scatter3d": [
           {
            "line": {
             "colorbar": {
              "outlinewidth": 0,
              "ticks": ""
             }
            },
            "marker": {
             "colorbar": {
              "outlinewidth": 0,
              "ticks": ""
             }
            },
            "type": "scatter3d"
           }
          ],
          "scattercarpet": [
           {
            "marker": {
             "colorbar": {
              "outlinewidth": 0,
              "ticks": ""
             }
            },
            "type": "scattercarpet"
           }
          ],
          "scattergeo": [
           {
            "marker": {
             "colorbar": {
              "outlinewidth": 0,
              "ticks": ""
             }
            },
            "type": "scattergeo"
           }
          ],
          "scattergl": [
           {
            "marker": {
             "colorbar": {
              "outlinewidth": 0,
              "ticks": ""
             }
            },
            "type": "scattergl"
           }
          ],
          "scattermapbox": [
           {
            "marker": {
             "colorbar": {
              "outlinewidth": 0,
              "ticks": ""
             }
            },
            "type": "scattermapbox"
           }
          ],
          "scatterpolar": [
           {
            "marker": {
             "colorbar": {
              "outlinewidth": 0,
              "ticks": ""
             }
            },
            "type": "scatterpolar"
           }
          ],
          "scatterpolargl": [
           {
            "marker": {
             "colorbar": {
              "outlinewidth": 0,
              "ticks": ""
             }
            },
            "type": "scatterpolargl"
           }
          ],
          "scatterternary": [
           {
            "marker": {
             "colorbar": {
              "outlinewidth": 0,
              "ticks": ""
             }
            },
            "type": "scatterternary"
           }
          ],
          "surface": [
           {
            "colorbar": {
             "outlinewidth": 0,
             "ticks": ""
            },
            "colorscale": [
             [
              0,
              "#0d0887"
             ],
             [
              0.1111111111111111,
              "#46039f"
             ],
             [
              0.2222222222222222,
              "#7201a8"
             ],
             [
              0.3333333333333333,
              "#9c179e"
             ],
             [
              0.4444444444444444,
              "#bd3786"
             ],
             [
              0.5555555555555556,
              "#d8576b"
             ],
             [
              0.6666666666666666,
              "#ed7953"
             ],
             [
              0.7777777777777778,
              "#fb9f3a"
             ],
             [
              0.8888888888888888,
              "#fdca26"
             ],
             [
              1,
              "#f0f921"
             ]
            ],
            "type": "surface"
           }
          ],
          "table": [
           {
            "cells": {
             "fill": {
              "color": "#EBF0F8"
             },
             "line": {
              "color": "white"
             }
            },
            "header": {
             "fill": {
              "color": "#C8D4E3"
             },
             "line": {
              "color": "white"
             }
            },
            "type": "table"
           }
          ]
         },
         "layout": {
          "annotationdefaults": {
           "arrowcolor": "#2a3f5f",
           "arrowhead": 0,
           "arrowwidth": 1
          },
          "autotypenumbers": "strict",
          "coloraxis": {
           "colorbar": {
            "outlinewidth": 0,
            "ticks": ""
           }
          },
          "colorscale": {
           "diverging": [
            [
             0,
             "#8e0152"
            ],
            [
             0.1,
             "#c51b7d"
            ],
            [
             0.2,
             "#de77ae"
            ],
            [
             0.3,
             "#f1b6da"
            ],
            [
             0.4,
             "#fde0ef"
            ],
            [
             0.5,
             "#f7f7f7"
            ],
            [
             0.6,
             "#e6f5d0"
            ],
            [
             0.7,
             "#b8e186"
            ],
            [
             0.8,
             "#7fbc41"
            ],
            [
             0.9,
             "#4d9221"
            ],
            [
             1,
             "#276419"
            ]
           ],
           "sequential": [
            [
             0,
             "#0d0887"
            ],
            [
             0.1111111111111111,
             "#46039f"
            ],
            [
             0.2222222222222222,
             "#7201a8"
            ],
            [
             0.3333333333333333,
             "#9c179e"
            ],
            [
             0.4444444444444444,
             "#bd3786"
            ],
            [
             0.5555555555555556,
             "#d8576b"
            ],
            [
             0.6666666666666666,
             "#ed7953"
            ],
            [
             0.7777777777777778,
             "#fb9f3a"
            ],
            [
             0.8888888888888888,
             "#fdca26"
            ],
            [
             1,
             "#f0f921"
            ]
           ],
           "sequentialminus": [
            [
             0,
             "#0d0887"
            ],
            [
             0.1111111111111111,
             "#46039f"
            ],
            [
             0.2222222222222222,
             "#7201a8"
            ],
            [
             0.3333333333333333,
             "#9c179e"
            ],
            [
             0.4444444444444444,
             "#bd3786"
            ],
            [
             0.5555555555555556,
             "#d8576b"
            ],
            [
             0.6666666666666666,
             "#ed7953"
            ],
            [
             0.7777777777777778,
             "#fb9f3a"
            ],
            [
             0.8888888888888888,
             "#fdca26"
            ],
            [
             1,
             "#f0f921"
            ]
           ]
          },
          "colorway": [
           "#636efa",
           "#EF553B",
           "#00cc96",
           "#ab63fa",
           "#FFA15A",
           "#19d3f3",
           "#FF6692",
           "#B6E880",
           "#FF97FF",
           "#FECB52"
          ],
          "font": {
           "color": "#2a3f5f"
          },
          "geo": {
           "bgcolor": "white",
           "lakecolor": "white",
           "landcolor": "#E5ECF6",
           "showlakes": true,
           "showland": true,
           "subunitcolor": "white"
          },
          "hoverlabel": {
           "align": "left"
          },
          "hovermode": "closest",
          "mapbox": {
           "style": "light"
          },
          "paper_bgcolor": "white",
          "plot_bgcolor": "#E5ECF6",
          "polar": {
           "angularaxis": {
            "gridcolor": "white",
            "linecolor": "white",
            "ticks": ""
           },
           "bgcolor": "#E5ECF6",
           "radialaxis": {
            "gridcolor": "white",
            "linecolor": "white",
            "ticks": ""
           }
          },
          "scene": {
           "xaxis": {
            "backgroundcolor": "#E5ECF6",
            "gridcolor": "white",
            "gridwidth": 2,
            "linecolor": "white",
            "showbackground": true,
            "ticks": "",
            "zerolinecolor": "white"
           },
           "yaxis": {
            "backgroundcolor": "#E5ECF6",
            "gridcolor": "white",
            "gridwidth": 2,
            "linecolor": "white",
            "showbackground": true,
            "ticks": "",
            "zerolinecolor": "white"
           },
           "zaxis": {
            "backgroundcolor": "#E5ECF6",
            "gridcolor": "white",
            "gridwidth": 2,
            "linecolor": "white",
            "showbackground": true,
            "ticks": "",
            "zerolinecolor": "white"
           }
          },
          "shapedefaults": {
           "line": {
            "color": "#2a3f5f"
           }
          },
          "ternary": {
           "aaxis": {
            "gridcolor": "white",
            "linecolor": "white",
            "ticks": ""
           },
           "baxis": {
            "gridcolor": "white",
            "linecolor": "white",
            "ticks": ""
           },
           "bgcolor": "#E5ECF6",
           "caxis": {
            "gridcolor": "white",
            "linecolor": "white",
            "ticks": ""
           }
          },
          "title": {
           "x": 0.05
          },
          "xaxis": {
           "automargin": true,
           "gridcolor": "white",
           "linecolor": "white",
           "ticks": "",
           "title": {
            "standoff": 15
           },
           "zerolinecolor": "white",
           "zerolinewidth": 2
          },
          "yaxis": {
           "automargin": true,
           "gridcolor": "white",
           "linecolor": "white",
           "ticks": "",
           "title": {
            "standoff": 15
           },
           "zerolinecolor": "white",
           "zerolinewidth": 2
          }
         }
        },
        "xaxis": {
         "anchor": "y",
         "domain": [
          0,
          1
         ],
         "title": {
          "text": "duration"
         }
        },
        "yaxis": {
         "anchor": "x",
         "domain": [
          0,
          1
         ],
         "title": {
          "text": "count"
         }
        }
       }
      },
      "text/html": [
       "<div>                            <div id=\"a444834f-9f34-4c5c-825e-b328e876d289\" class=\"plotly-graph-div\" style=\"height:525px; width:100%;\"></div>            <script type=\"text/javascript\">                require([\"plotly\"], function(Plotly) {                    window.PLOTLYENV=window.PLOTLYENV || {};                                    if (document.getElementById(\"a444834f-9f34-4c5c-825e-b328e876d289\")) {                    Plotly.newPlot(                        \"a444834f-9f34-4c5c-825e-b328e876d289\",                        [{\"alignmentgroup\":\"True\",\"bingroup\":\"x\",\"hovertemplate\":\"duration=%{x}<br>count=%{y}<extra></extra>\",\"legendgroup\":\"\",\"marker\":{\"color\":\"#636efa\",\"pattern\":{\"shape\":\"\"}},\"name\":\"\",\"nbinsx\":30,\"offsetgroup\":\"\",\"orientation\":\"v\",\"showlegend\":false,\"x\":[142,175,200,152,154,96,161,201,195,139,178,148,124,142,179,169,133,207,146,121,136,130,130,106,127,116,175,118,110,87,125,112,102,107,119,87,169,115,112,109,189,110,150,165,155,137,113,165,95,151,155,153,125,130,116,89,137,117,88,165,170,89,146,99,98,116,156,122,149,134,122,136,157,123,119,137,128,120,229,107,134,103,177,129,102,216,136,93,68,189,99,108,113,181,103,138,110,129,88,160,126,91,116,125,143,93,102,132,153,183,160,120,138,140,153,170,129,81,127,131,172,115,108,107,129,156,96,91,95,162,130,86,186,151,96,170,118,161,131,126,131,129,224,180,105,117,140,119,124,130,139,107,132,117,126,122,178,238,149,172,98,116,116,123,148,123,182,92,93,100,135,105,94,140,83,95,98,143,99,98,121,163,121,167,188,121,109,110,129,127,94,107,100,117,129,120,121,133,111,122,101,134,165,138,212,154,89,134,93,114,88,130,101,158,99,108,124,132,113,131,191,167,130,147,102,88,165,132,118,101,108,174,98,92,98,106,85,101,105,115,115,124,105,103,138,184,120,99,131,138,98,123,118,114,118,112,124,160,67,146,125,115,134,141,129,104,94,124,150,119,128,143,85,151,118,101,99,92,125,102,106,107,91,80,122,102,112,92,135,136,153,105,126,68,84,103,145,80,106,127,178,137,172,76,130,96,82,115,95,143,125,120,127,112,104,113,189,127,188,96,113,132,122,126,140,133,112,102,93,109,81,108,111,119,96,197,127,138,66,181,141,144,128,83,121,98,117,94,174,112,108,70,99,96,137,136,100,90,96,161,115,181,169,98,136,138,119,123,112,120,103,97,109,165,156,147,100,126,115,105,144,102,107,119,90,197,86,113,133,64,141,113,122,105,119,102,122,123,113,97,117,111,85,99,134,75,109,117,91,128,111,119,100,114,92,141,101,115,127,96,129,135,109,157,193,94,155,113,130,117,159,141,112,162,126,120,144,120,109,97,108,115,136,90,170,220,116,134,124,91,103,96,119,98,101,93,179,155,121,103,127,103,107,100,92,94,158,86,115,130,107,100,108,124,131,122,242,127,141,126,89,113,152,107,92,145,84,126,132,78,117,128,100,128,100,143,107,100,125,106,157,94,104,94,153,123,120,105,166,112,94,111,87,80,108,102,105,136,101,100,108,101,106,105,88,129,138,129,118,139,123,150,132,80,178,79,163,114,144,130,154,81,95,101,120,93,115,106,120,110,123,142,99,112,120,122,130,139,129,141,127,130,118,110,115,101,112,108,143,152,117,121,119,114,122,105,110,116,139,121,109,146,113,100,121,113,113,117,93,101,90,131,98,93,121,82,124,100,117,99,116,123,114,133,105,127,144,90,118,122,102,187,87,154,89,88,129,95,118,98,194,114,80,130,135,101,105,129,134,143,202,89,106,92,137,124,122,113,112,110,135,88,146,104,125,131,91,142,129,158,102,99,101,104,119,103,88,100,146,150,140,140,110,97,102,152,100,94,85,104,112,191,119,111,94,103,134,157,158,127,101,109,98,134,168,93,145,111,88,123,121,144,116,124,147,106,113,129,94,126,128,111,146,85,105,132,130,162,113,110,113,162,110,78,92,95,138,102,128,96,164,126,110,109,122,124,128,157,120,102,152,170,102,116,164,85,104,99,81,131,101,121,69,92,94,141,116,98,135,121,108,114,102,112,140,157,128,108,139,83,131,113,136,96,118,108,83,205,124,111,137,104,109,115,99,114,133,131,131,123,126,97,126,89,122,121,125,105,118,81,115,126,113,107,126,111,85,120,93,100,107,126,131,116,143,93,96,160,137,119,114,98,111,138,144,107,114,125,146,113,85,97,93,113,128,114,147,127,167,124,109,124,102,130,125,98,154,97,128,98,101,147,172,125,88,125,121,112,120,133,110,135,110,80,135,101,112,124,129,104,96,105,109,117,78,138,106,90,106,91,112,134,112,104,101,120,123,133,110,129,120,83,88,96,139,113,84,106,170,144,104,153,85,130,93,148,115,102,125,106,121,143,116,99,116,128,119,104,114,152,129,103,112,92,141,106,109,104,122,111,112,116,130,133,134,92,104,110,97,100,118,112,138,92,118,140,128,101,75,97,111,175,94,97,132,120,107,89,86,103,108,105,117,102,104,157,104,98,109,96,103,114,99,118,150,105,87,136,162,109,107,90,112,126,116,118,138,114,126],\"xaxis\":\"x\",\"yaxis\":\"y\",\"type\":\"histogram\"}],                        {\"template\":{\"data\":{\"bar\":[{\"error_x\":{\"color\":\"#2a3f5f\"},\"error_y\":{\"color\":\"#2a3f5f\"},\"marker\":{\"line\":{\"color\":\"#E5ECF6\",\"width\":0.5},\"pattern\":{\"fillmode\":\"overlay\",\"size\":10,\"solidity\":0.2}},\"type\":\"bar\"}],\"barpolar\":[{\"marker\":{\"line\":{\"color\":\"#E5ECF6\",\"width\":0.5},\"pattern\":{\"fillmode\":\"overlay\",\"size\":10,\"solidity\":0.2}},\"type\":\"barpolar\"}],\"carpet\":[{\"aaxis\":{\"endlinecolor\":\"#2a3f5f\",\"gridcolor\":\"white\",\"linecolor\":\"white\",\"minorgridcolor\":\"white\",\"startlinecolor\":\"#2a3f5f\"},\"baxis\":{\"endlinecolor\":\"#2a3f5f\",\"gridcolor\":\"white\",\"linecolor\":\"white\",\"minorgridcolor\":\"white\",\"startlinecolor\":\"#2a3f5f\"},\"type\":\"carpet\"}],\"choropleth\":[{\"colorbar\":{\"outlinewidth\":0,\"ticks\":\"\"},\"type\":\"choropleth\"}],\"contour\":[{\"colorbar\":{\"outlinewidth\":0,\"ticks\":\"\"},\"colorscale\":[[0.0,\"#0d0887\"],[0.1111111111111111,\"#46039f\"],[0.2222222222222222,\"#7201a8\"],[0.3333333333333333,\"#9c179e\"],[0.4444444444444444,\"#bd3786\"],[0.5555555555555556,\"#d8576b\"],[0.6666666666666666,\"#ed7953\"],[0.7777777777777778,\"#fb9f3a\"],[0.8888888888888888,\"#fdca26\"],[1.0,\"#f0f921\"]],\"type\":\"contour\"}],\"contourcarpet\":[{\"colorbar\":{\"outlinewidth\":0,\"ticks\":\"\"},\"type\":\"contourcarpet\"}],\"heatmap\":[{\"colorbar\":{\"outlinewidth\":0,\"ticks\":\"\"},\"colorscale\":[[0.0,\"#0d0887\"],[0.1111111111111111,\"#46039f\"],[0.2222222222222222,\"#7201a8\"],[0.3333333333333333,\"#9c179e\"],[0.4444444444444444,\"#bd3786\"],[0.5555555555555556,\"#d8576b\"],[0.6666666666666666,\"#ed7953\"],[0.7777777777777778,\"#fb9f3a\"],[0.8888888888888888,\"#fdca26\"],[1.0,\"#f0f921\"]],\"type\":\"heatmap\"}],\"heatmapgl\":[{\"colorbar\":{\"outlinewidth\":0,\"ticks\":\"\"},\"colorscale\":[[0.0,\"#0d0887\"],[0.1111111111111111,\"#46039f\"],[0.2222222222222222,\"#7201a8\"],[0.3333333333333333,\"#9c179e\"],[0.4444444444444444,\"#bd3786\"],[0.5555555555555556,\"#d8576b\"],[0.6666666666666666,\"#ed7953\"],[0.7777777777777778,\"#fb9f3a\"],[0.8888888888888888,\"#fdca26\"],[1.0,\"#f0f921\"]],\"type\":\"heatmapgl\"}],\"histogram\":[{\"marker\":{\"pattern\":{\"fillmode\":\"overlay\",\"size\":10,\"solidity\":0.2}},\"type\":\"histogram\"}],\"histogram2d\":[{\"colorbar\":{\"outlinewidth\":0,\"ticks\":\"\"},\"colorscale\":[[0.0,\"#0d0887\"],[0.1111111111111111,\"#46039f\"],[0.2222222222222222,\"#7201a8\"],[0.3333333333333333,\"#9c179e\"],[0.4444444444444444,\"#bd3786\"],[0.5555555555555556,\"#d8576b\"],[0.6666666666666666,\"#ed7953\"],[0.7777777777777778,\"#fb9f3a\"],[0.8888888888888888,\"#fdca26\"],[1.0,\"#f0f921\"]],\"type\":\"histogram2d\"}],\"histogram2dcontour\":[{\"colorbar\":{\"outlinewidth\":0,\"ticks\":\"\"},\"colorscale\":[[0.0,\"#0d0887\"],[0.1111111111111111,\"#46039f\"],[0.2222222222222222,\"#7201a8\"],[0.3333333333333333,\"#9c179e\"],[0.4444444444444444,\"#bd3786\"],[0.5555555555555556,\"#d8576b\"],[0.6666666666666666,\"#ed7953\"],[0.7777777777777778,\"#fb9f3a\"],[0.8888888888888888,\"#fdca26\"],[1.0,\"#f0f921\"]],\"type\":\"histogram2dcontour\"}],\"mesh3d\":[{\"colorbar\":{\"outlinewidth\":0,\"ticks\":\"\"},\"type\":\"mesh3d\"}],\"parcoords\":[{\"line\":{\"colorbar\":{\"outlinewidth\":0,\"ticks\":\"\"}},\"type\":\"parcoords\"}],\"pie\":[{\"automargin\":true,\"type\":\"pie\"}],\"scatter\":[{\"marker\":{\"colorbar\":{\"outlinewidth\":0,\"ticks\":\"\"}},\"type\":\"scatter\"}],\"scatter3d\":[{\"line\":{\"colorbar\":{\"outlinewidth\":0,\"ticks\":\"\"}},\"marker\":{\"colorbar\":{\"outlinewidth\":0,\"ticks\":\"\"}},\"type\":\"scatter3d\"}],\"scattercarpet\":[{\"marker\":{\"colorbar\":{\"outlinewidth\":0,\"ticks\":\"\"}},\"type\":\"scattercarpet\"}],\"scattergeo\":[{\"marker\":{\"colorbar\":{\"outlinewidth\":0,\"ticks\":\"\"}},\"type\":\"scattergeo\"}],\"scattergl\":[{\"marker\":{\"colorbar\":{\"outlinewidth\":0,\"ticks\":\"\"}},\"type\":\"scattergl\"}],\"scattermapbox\":[{\"marker\":{\"colorbar\":{\"outlinewidth\":0,\"ticks\":\"\"}},\"type\":\"scattermapbox\"}],\"scatterpolar\":[{\"marker\":{\"colorbar\":{\"outlinewidth\":0,\"ticks\":\"\"}},\"type\":\"scatterpolar\"}],\"scatterpolargl\":[{\"marker\":{\"colorbar\":{\"outlinewidth\":0,\"ticks\":\"\"}},\"type\":\"scatterpolargl\"}],\"scatterternary\":[{\"marker\":{\"colorbar\":{\"outlinewidth\":0,\"ticks\":\"\"}},\"type\":\"scatterternary\"}],\"surface\":[{\"colorbar\":{\"outlinewidth\":0,\"ticks\":\"\"},\"colorscale\":[[0.0,\"#0d0887\"],[0.1111111111111111,\"#46039f\"],[0.2222222222222222,\"#7201a8\"],[0.3333333333333333,\"#9c179e\"],[0.4444444444444444,\"#bd3786\"],[0.5555555555555556,\"#d8576b\"],[0.6666666666666666,\"#ed7953\"],[0.7777777777777778,\"#fb9f3a\"],[0.8888888888888888,\"#fdca26\"],[1.0,\"#f0f921\"]],\"type\":\"surface\"}],\"table\":[{\"cells\":{\"fill\":{\"color\":\"#EBF0F8\"},\"line\":{\"color\":\"white\"}},\"header\":{\"fill\":{\"color\":\"#C8D4E3\"},\"line\":{\"color\":\"white\"}},\"type\":\"table\"}]},\"layout\":{\"annotationdefaults\":{\"arrowcolor\":\"#2a3f5f\",\"arrowhead\":0,\"arrowwidth\":1},\"autotypenumbers\":\"strict\",\"coloraxis\":{\"colorbar\":{\"outlinewidth\":0,\"ticks\":\"\"}},\"colorscale\":{\"diverging\":[[0,\"#8e0152\"],[0.1,\"#c51b7d\"],[0.2,\"#de77ae\"],[0.3,\"#f1b6da\"],[0.4,\"#fde0ef\"],[0.5,\"#f7f7f7\"],[0.6,\"#e6f5d0\"],[0.7,\"#b8e186\"],[0.8,\"#7fbc41\"],[0.9,\"#4d9221\"],[1,\"#276419\"]],\"sequential\":[[0.0,\"#0d0887\"],[0.1111111111111111,\"#46039f\"],[0.2222222222222222,\"#7201a8\"],[0.3333333333333333,\"#9c179e\"],[0.4444444444444444,\"#bd3786\"],[0.5555555555555556,\"#d8576b\"],[0.6666666666666666,\"#ed7953\"],[0.7777777777777778,\"#fb9f3a\"],[0.8888888888888888,\"#fdca26\"],[1.0,\"#f0f921\"]],\"sequentialminus\":[[0.0,\"#0d0887\"],[0.1111111111111111,\"#46039f\"],[0.2222222222222222,\"#7201a8\"],[0.3333333333333333,\"#9c179e\"],[0.4444444444444444,\"#bd3786\"],[0.5555555555555556,\"#d8576b\"],[0.6666666666666666,\"#ed7953\"],[0.7777777777777778,\"#fb9f3a\"],[0.8888888888888888,\"#fdca26\"],[1.0,\"#f0f921\"]]},\"colorway\":[\"#636efa\",\"#EF553B\",\"#00cc96\",\"#ab63fa\",\"#FFA15A\",\"#19d3f3\",\"#FF6692\",\"#B6E880\",\"#FF97FF\",\"#FECB52\"],\"font\":{\"color\":\"#2a3f5f\"},\"geo\":{\"bgcolor\":\"white\",\"lakecolor\":\"white\",\"landcolor\":\"#E5ECF6\",\"showlakes\":true,\"showland\":true,\"subunitcolor\":\"white\"},\"hoverlabel\":{\"align\":\"left\"},\"hovermode\":\"closest\",\"mapbox\":{\"style\":\"light\"},\"paper_bgcolor\":\"white\",\"plot_bgcolor\":\"#E5ECF6\",\"polar\":{\"angularaxis\":{\"gridcolor\":\"white\",\"linecolor\":\"white\",\"ticks\":\"\"},\"bgcolor\":\"#E5ECF6\",\"radialaxis\":{\"gridcolor\":\"white\",\"linecolor\":\"white\",\"ticks\":\"\"}},\"scene\":{\"xaxis\":{\"backgroundcolor\":\"#E5ECF6\",\"gridcolor\":\"white\",\"gridwidth\":2,\"linecolor\":\"white\",\"showbackground\":true,\"ticks\":\"\",\"zerolinecolor\":\"white\"},\"yaxis\":{\"backgroundcolor\":\"#E5ECF6\",\"gridcolor\":\"white\",\"gridwidth\":2,\"linecolor\":\"white\",\"showbackground\":true,\"ticks\":\"\",\"zerolinecolor\":\"white\"},\"zaxis\":{\"backgroundcolor\":\"#E5ECF6\",\"gridcolor\":\"white\",\"gridwidth\":2,\"linecolor\":\"white\",\"showbackground\":true,\"ticks\":\"\",\"zerolinecolor\":\"white\"}},\"shapedefaults\":{\"line\":{\"color\":\"#2a3f5f\"}},\"ternary\":{\"aaxis\":{\"gridcolor\":\"white\",\"linecolor\":\"white\",\"ticks\":\"\"},\"baxis\":{\"gridcolor\":\"white\",\"linecolor\":\"white\",\"ticks\":\"\"},\"bgcolor\":\"#E5ECF6\",\"caxis\":{\"gridcolor\":\"white\",\"linecolor\":\"white\",\"ticks\":\"\"}},\"title\":{\"x\":0.05},\"xaxis\":{\"automargin\":true,\"gridcolor\":\"white\",\"linecolor\":\"white\",\"ticks\":\"\",\"title\":{\"standoff\":15},\"zerolinecolor\":\"white\",\"zerolinewidth\":2},\"yaxis\":{\"automargin\":true,\"gridcolor\":\"white\",\"linecolor\":\"white\",\"ticks\":\"\",\"title\":{\"standoff\":15},\"zerolinecolor\":\"white\",\"zerolinewidth\":2}}},\"xaxis\":{\"anchor\":\"y\",\"domain\":[0.0,1.0],\"title\":{\"text\":\"duration\"}},\"yaxis\":{\"anchor\":\"x\",\"domain\":[0.0,1.0],\"title\":{\"text\":\"count\"}},\"legend\":{\"tracegroupgap\":0},\"margin\":{\"t\":60},\"barmode\":\"relative\"},                        {\"responsive\": true}                    ).then(function(){\n",
       "                            \n",
       "var gd = document.getElementById('a444834f-9f34-4c5c-825e-b328e876d289');\n",
       "var x = new MutationObserver(function (mutations, observer) {{\n",
       "        var display = window.getComputedStyle(gd).display;\n",
       "        if (!display || display === 'none') {{\n",
       "            console.log([gd, 'removed!']);\n",
       "            Plotly.purge(gd);\n",
       "            observer.disconnect();\n",
       "        }}\n",
       "}});\n",
       "\n",
       "// Listen for the removal of the full notebook cells\n",
       "var notebookContainer = gd.closest('#notebook-container');\n",
       "if (notebookContainer) {{\n",
       "    x.observe(notebookContainer, {childList: true});\n",
       "}}\n",
       "\n",
       "// Listen for the clearing of the current output cell\n",
       "var outputEl = gd.closest('.output');\n",
       "if (outputEl) {{\n",
       "    x.observe(outputEl, {childList: true});\n",
       "}}\n",
       "\n",
       "                        })                };                });            </script>        </div>"
      ]
     },
     "metadata": {},
     "output_type": "display_data"
    }
   ],
   "source": [
    "# Answer:\n",
    "px.histogram(movies, x=\"duration\", nbins=30)"
   ]
  },
  {
   "cell_type": "markdown",
   "metadata": {},
   "source": [
    "#### Use a box plot to display that same data."
   ]
  },
  {
   "cell_type": "code",
   "execution_count": 71,
   "metadata": {},
   "outputs": [
    {
     "data": {
      "application/vnd.plotly.v1+json": {
       "config": {
        "plotlyServerURL": "https://plot.ly"
       },
       "data": [
        {
         "alignmentgroup": "True",
         "hovertemplate": "duration=%{x}<extra></extra>",
         "legendgroup": "",
         "marker": {
          "color": "#636efa"
         },
         "name": "",
         "notched": false,
         "offsetgroup": "",
         "orientation": "h",
         "showlegend": false,
         "type": "box",
         "x": [
          142,
          175,
          200,
          152,
          154,
          96,
          161,
          201,
          195,
          139,
          178,
          148,
          124,
          142,
          179,
          169,
          133,
          207,
          146,
          121,
          136,
          130,
          130,
          106,
          127,
          116,
          175,
          118,
          110,
          87,
          125,
          112,
          102,
          107,
          119,
          87,
          169,
          115,
          112,
          109,
          189,
          110,
          150,
          165,
          155,
          137,
          113,
          165,
          95,
          151,
          155,
          153,
          125,
          130,
          116,
          89,
          137,
          117,
          88,
          165,
          170,
          89,
          146,
          99,
          98,
          116,
          156,
          122,
          149,
          134,
          122,
          136,
          157,
          123,
          119,
          137,
          128,
          120,
          229,
          107,
          134,
          103,
          177,
          129,
          102,
          216,
          136,
          93,
          68,
          189,
          99,
          108,
          113,
          181,
          103,
          138,
          110,
          129,
          88,
          160,
          126,
          91,
          116,
          125,
          143,
          93,
          102,
          132,
          153,
          183,
          160,
          120,
          138,
          140,
          153,
          170,
          129,
          81,
          127,
          131,
          172,
          115,
          108,
          107,
          129,
          156,
          96,
          91,
          95,
          162,
          130,
          86,
          186,
          151,
          96,
          170,
          118,
          161,
          131,
          126,
          131,
          129,
          224,
          180,
          105,
          117,
          140,
          119,
          124,
          130,
          139,
          107,
          132,
          117,
          126,
          122,
          178,
          238,
          149,
          172,
          98,
          116,
          116,
          123,
          148,
          123,
          182,
          92,
          93,
          100,
          135,
          105,
          94,
          140,
          83,
          95,
          98,
          143,
          99,
          98,
          121,
          163,
          121,
          167,
          188,
          121,
          109,
          110,
          129,
          127,
          94,
          107,
          100,
          117,
          129,
          120,
          121,
          133,
          111,
          122,
          101,
          134,
          165,
          138,
          212,
          154,
          89,
          134,
          93,
          114,
          88,
          130,
          101,
          158,
          99,
          108,
          124,
          132,
          113,
          131,
          191,
          167,
          130,
          147,
          102,
          88,
          165,
          132,
          118,
          101,
          108,
          174,
          98,
          92,
          98,
          106,
          85,
          101,
          105,
          115,
          115,
          124,
          105,
          103,
          138,
          184,
          120,
          99,
          131,
          138,
          98,
          123,
          118,
          114,
          118,
          112,
          124,
          160,
          67,
          146,
          125,
          115,
          134,
          141,
          129,
          104,
          94,
          124,
          150,
          119,
          128,
          143,
          85,
          151,
          118,
          101,
          99,
          92,
          125,
          102,
          106,
          107,
          91,
          80,
          122,
          102,
          112,
          92,
          135,
          136,
          153,
          105,
          126,
          68,
          84,
          103,
          145,
          80,
          106,
          127,
          178,
          137,
          172,
          76,
          130,
          96,
          82,
          115,
          95,
          143,
          125,
          120,
          127,
          112,
          104,
          113,
          189,
          127,
          188,
          96,
          113,
          132,
          122,
          126,
          140,
          133,
          112,
          102,
          93,
          109,
          81,
          108,
          111,
          119,
          96,
          197,
          127,
          138,
          66,
          181,
          141,
          144,
          128,
          83,
          121,
          98,
          117,
          94,
          174,
          112,
          108,
          70,
          99,
          96,
          137,
          136,
          100,
          90,
          96,
          161,
          115,
          181,
          169,
          98,
          136,
          138,
          119,
          123,
          112,
          120,
          103,
          97,
          109,
          165,
          156,
          147,
          100,
          126,
          115,
          105,
          144,
          102,
          107,
          119,
          90,
          197,
          86,
          113,
          133,
          64,
          141,
          113,
          122,
          105,
          119,
          102,
          122,
          123,
          113,
          97,
          117,
          111,
          85,
          99,
          134,
          75,
          109,
          117,
          91,
          128,
          111,
          119,
          100,
          114,
          92,
          141,
          101,
          115,
          127,
          96,
          129,
          135,
          109,
          157,
          193,
          94,
          155,
          113,
          130,
          117,
          159,
          141,
          112,
          162,
          126,
          120,
          144,
          120,
          109,
          97,
          108,
          115,
          136,
          90,
          170,
          220,
          116,
          134,
          124,
          91,
          103,
          96,
          119,
          98,
          101,
          93,
          179,
          155,
          121,
          103,
          127,
          103,
          107,
          100,
          92,
          94,
          158,
          86,
          115,
          130,
          107,
          100,
          108,
          124,
          131,
          122,
          242,
          127,
          141,
          126,
          89,
          113,
          152,
          107,
          92,
          145,
          84,
          126,
          132,
          78,
          117,
          128,
          100,
          128,
          100,
          143,
          107,
          100,
          125,
          106,
          157,
          94,
          104,
          94,
          153,
          123,
          120,
          105,
          166,
          112,
          94,
          111,
          87,
          80,
          108,
          102,
          105,
          136,
          101,
          100,
          108,
          101,
          106,
          105,
          88,
          129,
          138,
          129,
          118,
          139,
          123,
          150,
          132,
          80,
          178,
          79,
          163,
          114,
          144,
          130,
          154,
          81,
          95,
          101,
          120,
          93,
          115,
          106,
          120,
          110,
          123,
          142,
          99,
          112,
          120,
          122,
          130,
          139,
          129,
          141,
          127,
          130,
          118,
          110,
          115,
          101,
          112,
          108,
          143,
          152,
          117,
          121,
          119,
          114,
          122,
          105,
          110,
          116,
          139,
          121,
          109,
          146,
          113,
          100,
          121,
          113,
          113,
          117,
          93,
          101,
          90,
          131,
          98,
          93,
          121,
          82,
          124,
          100,
          117,
          99,
          116,
          123,
          114,
          133,
          105,
          127,
          144,
          90,
          118,
          122,
          102,
          187,
          87,
          154,
          89,
          88,
          129,
          95,
          118,
          98,
          194,
          114,
          80,
          130,
          135,
          101,
          105,
          129,
          134,
          143,
          202,
          89,
          106,
          92,
          137,
          124,
          122,
          113,
          112,
          110,
          135,
          88,
          146,
          104,
          125,
          131,
          91,
          142,
          129,
          158,
          102,
          99,
          101,
          104,
          119,
          103,
          88,
          100,
          146,
          150,
          140,
          140,
          110,
          97,
          102,
          152,
          100,
          94,
          85,
          104,
          112,
          191,
          119,
          111,
          94,
          103,
          134,
          157,
          158,
          127,
          101,
          109,
          98,
          134,
          168,
          93,
          145,
          111,
          88,
          123,
          121,
          144,
          116,
          124,
          147,
          106,
          113,
          129,
          94,
          126,
          128,
          111,
          146,
          85,
          105,
          132,
          130,
          162,
          113,
          110,
          113,
          162,
          110,
          78,
          92,
          95,
          138,
          102,
          128,
          96,
          164,
          126,
          110,
          109,
          122,
          124,
          128,
          157,
          120,
          102,
          152,
          170,
          102,
          116,
          164,
          85,
          104,
          99,
          81,
          131,
          101,
          121,
          69,
          92,
          94,
          141,
          116,
          98,
          135,
          121,
          108,
          114,
          102,
          112,
          140,
          157,
          128,
          108,
          139,
          83,
          131,
          113,
          136,
          96,
          118,
          108,
          83,
          205,
          124,
          111,
          137,
          104,
          109,
          115,
          99,
          114,
          133,
          131,
          131,
          123,
          126,
          97,
          126,
          89,
          122,
          121,
          125,
          105,
          118,
          81,
          115,
          126,
          113,
          107,
          126,
          111,
          85,
          120,
          93,
          100,
          107,
          126,
          131,
          116,
          143,
          93,
          96,
          160,
          137,
          119,
          114,
          98,
          111,
          138,
          144,
          107,
          114,
          125,
          146,
          113,
          85,
          97,
          93,
          113,
          128,
          114,
          147,
          127,
          167,
          124,
          109,
          124,
          102,
          130,
          125,
          98,
          154,
          97,
          128,
          98,
          101,
          147,
          172,
          125,
          88,
          125,
          121,
          112,
          120,
          133,
          110,
          135,
          110,
          80,
          135,
          101,
          112,
          124,
          129,
          104,
          96,
          105,
          109,
          117,
          78,
          138,
          106,
          90,
          106,
          91,
          112,
          134,
          112,
          104,
          101,
          120,
          123,
          133,
          110,
          129,
          120,
          83,
          88,
          96,
          139,
          113,
          84,
          106,
          170,
          144,
          104,
          153,
          85,
          130,
          93,
          148,
          115,
          102,
          125,
          106,
          121,
          143,
          116,
          99,
          116,
          128,
          119,
          104,
          114,
          152,
          129,
          103,
          112,
          92,
          141,
          106,
          109,
          104,
          122,
          111,
          112,
          116,
          130,
          133,
          134,
          92,
          104,
          110,
          97,
          100,
          118,
          112,
          138,
          92,
          118,
          140,
          128,
          101,
          75,
          97,
          111,
          175,
          94,
          97,
          132,
          120,
          107,
          89,
          86,
          103,
          108,
          105,
          117,
          102,
          104,
          157,
          104,
          98,
          109,
          96,
          103,
          114,
          99,
          118,
          150,
          105,
          87,
          136,
          162,
          109,
          107,
          90,
          112,
          126,
          116,
          118,
          138,
          114,
          126
         ],
         "x0": " ",
         "xaxis": "x",
         "y0": " ",
         "yaxis": "y"
        }
       ],
       "layout": {
        "boxmode": "group",
        "legend": {
         "tracegroupgap": 0
        },
        "margin": {
         "t": 60
        },
        "template": {
         "data": {
          "bar": [
           {
            "error_x": {
             "color": "#2a3f5f"
            },
            "error_y": {
             "color": "#2a3f5f"
            },
            "marker": {
             "line": {
              "color": "#E5ECF6",
              "width": 0.5
             },
             "pattern": {
              "fillmode": "overlay",
              "size": 10,
              "solidity": 0.2
             }
            },
            "type": "bar"
           }
          ],
          "barpolar": [
           {
            "marker": {
             "line": {
              "color": "#E5ECF6",
              "width": 0.5
             },
             "pattern": {
              "fillmode": "overlay",
              "size": 10,
              "solidity": 0.2
             }
            },
            "type": "barpolar"
           }
          ],
          "carpet": [
           {
            "aaxis": {
             "endlinecolor": "#2a3f5f",
             "gridcolor": "white",
             "linecolor": "white",
             "minorgridcolor": "white",
             "startlinecolor": "#2a3f5f"
            },
            "baxis": {
             "endlinecolor": "#2a3f5f",
             "gridcolor": "white",
             "linecolor": "white",
             "minorgridcolor": "white",
             "startlinecolor": "#2a3f5f"
            },
            "type": "carpet"
           }
          ],
          "choropleth": [
           {
            "colorbar": {
             "outlinewidth": 0,
             "ticks": ""
            },
            "type": "choropleth"
           }
          ],
          "contour": [
           {
            "colorbar": {
             "outlinewidth": 0,
             "ticks": ""
            },
            "colorscale": [
             [
              0,
              "#0d0887"
             ],
             [
              0.1111111111111111,
              "#46039f"
             ],
             [
              0.2222222222222222,
              "#7201a8"
             ],
             [
              0.3333333333333333,
              "#9c179e"
             ],
             [
              0.4444444444444444,
              "#bd3786"
             ],
             [
              0.5555555555555556,
              "#d8576b"
             ],
             [
              0.6666666666666666,
              "#ed7953"
             ],
             [
              0.7777777777777778,
              "#fb9f3a"
             ],
             [
              0.8888888888888888,
              "#fdca26"
             ],
             [
              1,
              "#f0f921"
             ]
            ],
            "type": "contour"
           }
          ],
          "contourcarpet": [
           {
            "colorbar": {
             "outlinewidth": 0,
             "ticks": ""
            },
            "type": "contourcarpet"
           }
          ],
          "heatmap": [
           {
            "colorbar": {
             "outlinewidth": 0,
             "ticks": ""
            },
            "colorscale": [
             [
              0,
              "#0d0887"
             ],
             [
              0.1111111111111111,
              "#46039f"
             ],
             [
              0.2222222222222222,
              "#7201a8"
             ],
             [
              0.3333333333333333,
              "#9c179e"
             ],
             [
              0.4444444444444444,
              "#bd3786"
             ],
             [
              0.5555555555555556,
              "#d8576b"
             ],
             [
              0.6666666666666666,
              "#ed7953"
             ],
             [
              0.7777777777777778,
              "#fb9f3a"
             ],
             [
              0.8888888888888888,
              "#fdca26"
             ],
             [
              1,
              "#f0f921"
             ]
            ],
            "type": "heatmap"
           }
          ],
          "heatmapgl": [
           {
            "colorbar": {
             "outlinewidth": 0,
             "ticks": ""
            },
            "colorscale": [
             [
              0,
              "#0d0887"
             ],
             [
              0.1111111111111111,
              "#46039f"
             ],
             [
              0.2222222222222222,
              "#7201a8"
             ],
             [
              0.3333333333333333,
              "#9c179e"
             ],
             [
              0.4444444444444444,
              "#bd3786"
             ],
             [
              0.5555555555555556,
              "#d8576b"
             ],
             [
              0.6666666666666666,
              "#ed7953"
             ],
             [
              0.7777777777777778,
              "#fb9f3a"
             ],
             [
              0.8888888888888888,
              "#fdca26"
             ],
             [
              1,
              "#f0f921"
             ]
            ],
            "type": "heatmapgl"
           }
          ],
          "histogram": [
           {
            "marker": {
             "pattern": {
              "fillmode": "overlay",
              "size": 10,
              "solidity": 0.2
             }
            },
            "type": "histogram"
           }
          ],
          "histogram2d": [
           {
            "colorbar": {
             "outlinewidth": 0,
             "ticks": ""
            },
            "colorscale": [
             [
              0,
              "#0d0887"
             ],
             [
              0.1111111111111111,
              "#46039f"
             ],
             [
              0.2222222222222222,
              "#7201a8"
             ],
             [
              0.3333333333333333,
              "#9c179e"
             ],
             [
              0.4444444444444444,
              "#bd3786"
             ],
             [
              0.5555555555555556,
              "#d8576b"
             ],
             [
              0.6666666666666666,
              "#ed7953"
             ],
             [
              0.7777777777777778,
              "#fb9f3a"
             ],
             [
              0.8888888888888888,
              "#fdca26"
             ],
             [
              1,
              "#f0f921"
             ]
            ],
            "type": "histogram2d"
           }
          ],
          "histogram2dcontour": [
           {
            "colorbar": {
             "outlinewidth": 0,
             "ticks": ""
            },
            "colorscale": [
             [
              0,
              "#0d0887"
             ],
             [
              0.1111111111111111,
              "#46039f"
             ],
             [
              0.2222222222222222,
              "#7201a8"
             ],
             [
              0.3333333333333333,
              "#9c179e"
             ],
             [
              0.4444444444444444,
              "#bd3786"
             ],
             [
              0.5555555555555556,
              "#d8576b"
             ],
             [
              0.6666666666666666,
              "#ed7953"
             ],
             [
              0.7777777777777778,
              "#fb9f3a"
             ],
             [
              0.8888888888888888,
              "#fdca26"
             ],
             [
              1,
              "#f0f921"
             ]
            ],
            "type": "histogram2dcontour"
           }
          ],
          "mesh3d": [
           {
            "colorbar": {
             "outlinewidth": 0,
             "ticks": ""
            },
            "type": "mesh3d"
           }
          ],
          "parcoords": [
           {
            "line": {
             "colorbar": {
              "outlinewidth": 0,
              "ticks": ""
             }
            },
            "type": "parcoords"
           }
          ],
          "pie": [
           {
            "automargin": true,
            "type": "pie"
           }
          ],
          "scatter": [
           {
            "marker": {
             "colorbar": {
              "outlinewidth": 0,
              "ticks": ""
             }
            },
            "type": "scatter"
           }
          ],
          "scatter3d": [
           {
            "line": {
             "colorbar": {
              "outlinewidth": 0,
              "ticks": ""
             }
            },
            "marker": {
             "colorbar": {
              "outlinewidth": 0,
              "ticks": ""
             }
            },
            "type": "scatter3d"
           }
          ],
          "scattercarpet": [
           {
            "marker": {
             "colorbar": {
              "outlinewidth": 0,
              "ticks": ""
             }
            },
            "type": "scattercarpet"
           }
          ],
          "scattergeo": [
           {
            "marker": {
             "colorbar": {
              "outlinewidth": 0,
              "ticks": ""
             }
            },
            "type": "scattergeo"
           }
          ],
          "scattergl": [
           {
            "marker": {
             "colorbar": {
              "outlinewidth": 0,
              "ticks": ""
             }
            },
            "type": "scattergl"
           }
          ],
          "scattermapbox": [
           {
            "marker": {
             "colorbar": {
              "outlinewidth": 0,
              "ticks": ""
             }
            },
            "type": "scattermapbox"
           }
          ],
          "scatterpolar": [
           {
            "marker": {
             "colorbar": {
              "outlinewidth": 0,
              "ticks": ""
             }
            },
            "type": "scatterpolar"
           }
          ],
          "scatterpolargl": [
           {
            "marker": {
             "colorbar": {
              "outlinewidth": 0,
              "ticks": ""
             }
            },
            "type": "scatterpolargl"
           }
          ],
          "scatterternary": [
           {
            "marker": {
             "colorbar": {
              "outlinewidth": 0,
              "ticks": ""
             }
            },
            "type": "scatterternary"
           }
          ],
          "surface": [
           {
            "colorbar": {
             "outlinewidth": 0,
             "ticks": ""
            },
            "colorscale": [
             [
              0,
              "#0d0887"
             ],
             [
              0.1111111111111111,
              "#46039f"
             ],
             [
              0.2222222222222222,
              "#7201a8"
             ],
             [
              0.3333333333333333,
              "#9c179e"
             ],
             [
              0.4444444444444444,
              "#bd3786"
             ],
             [
              0.5555555555555556,
              "#d8576b"
             ],
             [
              0.6666666666666666,
              "#ed7953"
             ],
             [
              0.7777777777777778,
              "#fb9f3a"
             ],
             [
              0.8888888888888888,
              "#fdca26"
             ],
             [
              1,
              "#f0f921"
             ]
            ],
            "type": "surface"
           }
          ],
          "table": [
           {
            "cells": {
             "fill": {
              "color": "#EBF0F8"
             },
             "line": {
              "color": "white"
             }
            },
            "header": {
             "fill": {
              "color": "#C8D4E3"
             },
             "line": {
              "color": "white"
             }
            },
            "type": "table"
           }
          ]
         },
         "layout": {
          "annotationdefaults": {
           "arrowcolor": "#2a3f5f",
           "arrowhead": 0,
           "arrowwidth": 1
          },
          "autotypenumbers": "strict",
          "coloraxis": {
           "colorbar": {
            "outlinewidth": 0,
            "ticks": ""
           }
          },
          "colorscale": {
           "diverging": [
            [
             0,
             "#8e0152"
            ],
            [
             0.1,
             "#c51b7d"
            ],
            [
             0.2,
             "#de77ae"
            ],
            [
             0.3,
             "#f1b6da"
            ],
            [
             0.4,
             "#fde0ef"
            ],
            [
             0.5,
             "#f7f7f7"
            ],
            [
             0.6,
             "#e6f5d0"
            ],
            [
             0.7,
             "#b8e186"
            ],
            [
             0.8,
             "#7fbc41"
            ],
            [
             0.9,
             "#4d9221"
            ],
            [
             1,
             "#276419"
            ]
           ],
           "sequential": [
            [
             0,
             "#0d0887"
            ],
            [
             0.1111111111111111,
             "#46039f"
            ],
            [
             0.2222222222222222,
             "#7201a8"
            ],
            [
             0.3333333333333333,
             "#9c179e"
            ],
            [
             0.4444444444444444,
             "#bd3786"
            ],
            [
             0.5555555555555556,
             "#d8576b"
            ],
            [
             0.6666666666666666,
             "#ed7953"
            ],
            [
             0.7777777777777778,
             "#fb9f3a"
            ],
            [
             0.8888888888888888,
             "#fdca26"
            ],
            [
             1,
             "#f0f921"
            ]
           ],
           "sequentialminus": [
            [
             0,
             "#0d0887"
            ],
            [
             0.1111111111111111,
             "#46039f"
            ],
            [
             0.2222222222222222,
             "#7201a8"
            ],
            [
             0.3333333333333333,
             "#9c179e"
            ],
            [
             0.4444444444444444,
             "#bd3786"
            ],
            [
             0.5555555555555556,
             "#d8576b"
            ],
            [
             0.6666666666666666,
             "#ed7953"
            ],
            [
             0.7777777777777778,
             "#fb9f3a"
            ],
            [
             0.8888888888888888,
             "#fdca26"
            ],
            [
             1,
             "#f0f921"
            ]
           ]
          },
          "colorway": [
           "#636efa",
           "#EF553B",
           "#00cc96",
           "#ab63fa",
           "#FFA15A",
           "#19d3f3",
           "#FF6692",
           "#B6E880",
           "#FF97FF",
           "#FECB52"
          ],
          "font": {
           "color": "#2a3f5f"
          },
          "geo": {
           "bgcolor": "white",
           "lakecolor": "white",
           "landcolor": "#E5ECF6",
           "showlakes": true,
           "showland": true,
           "subunitcolor": "white"
          },
          "hoverlabel": {
           "align": "left"
          },
          "hovermode": "closest",
          "mapbox": {
           "style": "light"
          },
          "paper_bgcolor": "white",
          "plot_bgcolor": "#E5ECF6",
          "polar": {
           "angularaxis": {
            "gridcolor": "white",
            "linecolor": "white",
            "ticks": ""
           },
           "bgcolor": "#E5ECF6",
           "radialaxis": {
            "gridcolor": "white",
            "linecolor": "white",
            "ticks": ""
           }
          },
          "scene": {
           "xaxis": {
            "backgroundcolor": "#E5ECF6",
            "gridcolor": "white",
            "gridwidth": 2,
            "linecolor": "white",
            "showbackground": true,
            "ticks": "",
            "zerolinecolor": "white"
           },
           "yaxis": {
            "backgroundcolor": "#E5ECF6",
            "gridcolor": "white",
            "gridwidth": 2,
            "linecolor": "white",
            "showbackground": true,
            "ticks": "",
            "zerolinecolor": "white"
           },
           "zaxis": {
            "backgroundcolor": "#E5ECF6",
            "gridcolor": "white",
            "gridwidth": 2,
            "linecolor": "white",
            "showbackground": true,
            "ticks": "",
            "zerolinecolor": "white"
           }
          },
          "shapedefaults": {
           "line": {
            "color": "#2a3f5f"
           }
          },
          "ternary": {
           "aaxis": {
            "gridcolor": "white",
            "linecolor": "white",
            "ticks": ""
           },
           "baxis": {
            "gridcolor": "white",
            "linecolor": "white",
            "ticks": ""
           },
           "bgcolor": "#E5ECF6",
           "caxis": {
            "gridcolor": "white",
            "linecolor": "white",
            "ticks": ""
           }
          },
          "title": {
           "x": 0.05
          },
          "xaxis": {
           "automargin": true,
           "gridcolor": "white",
           "linecolor": "white",
           "ticks": "",
           "title": {
            "standoff": 15
           },
           "zerolinecolor": "white",
           "zerolinewidth": 2
          },
          "yaxis": {
           "automargin": true,
           "gridcolor": "white",
           "linecolor": "white",
           "ticks": "",
           "title": {
            "standoff": 15
           },
           "zerolinecolor": "white",
           "zerolinewidth": 2
          }
         }
        },
        "xaxis": {
         "anchor": "y",
         "domain": [
          0,
          1
         ],
         "title": {
          "text": "duration"
         }
        },
        "yaxis": {
         "anchor": "x",
         "domain": [
          0,
          1
         ]
        }
       }
      },
      "text/html": [
       "<div>                            <div id=\"5c66dc77-84dc-4929-8e6e-d2a3095020a7\" class=\"plotly-graph-div\" style=\"height:525px; width:100%;\"></div>            <script type=\"text/javascript\">                require([\"plotly\"], function(Plotly) {                    window.PLOTLYENV=window.PLOTLYENV || {};                                    if (document.getElementById(\"5c66dc77-84dc-4929-8e6e-d2a3095020a7\")) {                    Plotly.newPlot(                        \"5c66dc77-84dc-4929-8e6e-d2a3095020a7\",                        [{\"alignmentgroup\":\"True\",\"hovertemplate\":\"duration=%{x}<extra></extra>\",\"legendgroup\":\"\",\"marker\":{\"color\":\"#636efa\"},\"name\":\"\",\"notched\":false,\"offsetgroup\":\"\",\"orientation\":\"h\",\"showlegend\":false,\"x\":[142,175,200,152,154,96,161,201,195,139,178,148,124,142,179,169,133,207,146,121,136,130,130,106,127,116,175,118,110,87,125,112,102,107,119,87,169,115,112,109,189,110,150,165,155,137,113,165,95,151,155,153,125,130,116,89,137,117,88,165,170,89,146,99,98,116,156,122,149,134,122,136,157,123,119,137,128,120,229,107,134,103,177,129,102,216,136,93,68,189,99,108,113,181,103,138,110,129,88,160,126,91,116,125,143,93,102,132,153,183,160,120,138,140,153,170,129,81,127,131,172,115,108,107,129,156,96,91,95,162,130,86,186,151,96,170,118,161,131,126,131,129,224,180,105,117,140,119,124,130,139,107,132,117,126,122,178,238,149,172,98,116,116,123,148,123,182,92,93,100,135,105,94,140,83,95,98,143,99,98,121,163,121,167,188,121,109,110,129,127,94,107,100,117,129,120,121,133,111,122,101,134,165,138,212,154,89,134,93,114,88,130,101,158,99,108,124,132,113,131,191,167,130,147,102,88,165,132,118,101,108,174,98,92,98,106,85,101,105,115,115,124,105,103,138,184,120,99,131,138,98,123,118,114,118,112,124,160,67,146,125,115,134,141,129,104,94,124,150,119,128,143,85,151,118,101,99,92,125,102,106,107,91,80,122,102,112,92,135,136,153,105,126,68,84,103,145,80,106,127,178,137,172,76,130,96,82,115,95,143,125,120,127,112,104,113,189,127,188,96,113,132,122,126,140,133,112,102,93,109,81,108,111,119,96,197,127,138,66,181,141,144,128,83,121,98,117,94,174,112,108,70,99,96,137,136,100,90,96,161,115,181,169,98,136,138,119,123,112,120,103,97,109,165,156,147,100,126,115,105,144,102,107,119,90,197,86,113,133,64,141,113,122,105,119,102,122,123,113,97,117,111,85,99,134,75,109,117,91,128,111,119,100,114,92,141,101,115,127,96,129,135,109,157,193,94,155,113,130,117,159,141,112,162,126,120,144,120,109,97,108,115,136,90,170,220,116,134,124,91,103,96,119,98,101,93,179,155,121,103,127,103,107,100,92,94,158,86,115,130,107,100,108,124,131,122,242,127,141,126,89,113,152,107,92,145,84,126,132,78,117,128,100,128,100,143,107,100,125,106,157,94,104,94,153,123,120,105,166,112,94,111,87,80,108,102,105,136,101,100,108,101,106,105,88,129,138,129,118,139,123,150,132,80,178,79,163,114,144,130,154,81,95,101,120,93,115,106,120,110,123,142,99,112,120,122,130,139,129,141,127,130,118,110,115,101,112,108,143,152,117,121,119,114,122,105,110,116,139,121,109,146,113,100,121,113,113,117,93,101,90,131,98,93,121,82,124,100,117,99,116,123,114,133,105,127,144,90,118,122,102,187,87,154,89,88,129,95,118,98,194,114,80,130,135,101,105,129,134,143,202,89,106,92,137,124,122,113,112,110,135,88,146,104,125,131,91,142,129,158,102,99,101,104,119,103,88,100,146,150,140,140,110,97,102,152,100,94,85,104,112,191,119,111,94,103,134,157,158,127,101,109,98,134,168,93,145,111,88,123,121,144,116,124,147,106,113,129,94,126,128,111,146,85,105,132,130,162,113,110,113,162,110,78,92,95,138,102,128,96,164,126,110,109,122,124,128,157,120,102,152,170,102,116,164,85,104,99,81,131,101,121,69,92,94,141,116,98,135,121,108,114,102,112,140,157,128,108,139,83,131,113,136,96,118,108,83,205,124,111,137,104,109,115,99,114,133,131,131,123,126,97,126,89,122,121,125,105,118,81,115,126,113,107,126,111,85,120,93,100,107,126,131,116,143,93,96,160,137,119,114,98,111,138,144,107,114,125,146,113,85,97,93,113,128,114,147,127,167,124,109,124,102,130,125,98,154,97,128,98,101,147,172,125,88,125,121,112,120,133,110,135,110,80,135,101,112,124,129,104,96,105,109,117,78,138,106,90,106,91,112,134,112,104,101,120,123,133,110,129,120,83,88,96,139,113,84,106,170,144,104,153,85,130,93,148,115,102,125,106,121,143,116,99,116,128,119,104,114,152,129,103,112,92,141,106,109,104,122,111,112,116,130,133,134,92,104,110,97,100,118,112,138,92,118,140,128,101,75,97,111,175,94,97,132,120,107,89,86,103,108,105,117,102,104,157,104,98,109,96,103,114,99,118,150,105,87,136,162,109,107,90,112,126,116,118,138,114,126],\"x0\":\" \",\"xaxis\":\"x\",\"y0\":\" \",\"yaxis\":\"y\",\"type\":\"box\"}],                        {\"template\":{\"data\":{\"bar\":[{\"error_x\":{\"color\":\"#2a3f5f\"},\"error_y\":{\"color\":\"#2a3f5f\"},\"marker\":{\"line\":{\"color\":\"#E5ECF6\",\"width\":0.5},\"pattern\":{\"fillmode\":\"overlay\",\"size\":10,\"solidity\":0.2}},\"type\":\"bar\"}],\"barpolar\":[{\"marker\":{\"line\":{\"color\":\"#E5ECF6\",\"width\":0.5},\"pattern\":{\"fillmode\":\"overlay\",\"size\":10,\"solidity\":0.2}},\"type\":\"barpolar\"}],\"carpet\":[{\"aaxis\":{\"endlinecolor\":\"#2a3f5f\",\"gridcolor\":\"white\",\"linecolor\":\"white\",\"minorgridcolor\":\"white\",\"startlinecolor\":\"#2a3f5f\"},\"baxis\":{\"endlinecolor\":\"#2a3f5f\",\"gridcolor\":\"white\",\"linecolor\":\"white\",\"minorgridcolor\":\"white\",\"startlinecolor\":\"#2a3f5f\"},\"type\":\"carpet\"}],\"choropleth\":[{\"colorbar\":{\"outlinewidth\":0,\"ticks\":\"\"},\"type\":\"choropleth\"}],\"contour\":[{\"colorbar\":{\"outlinewidth\":0,\"ticks\":\"\"},\"colorscale\":[[0.0,\"#0d0887\"],[0.1111111111111111,\"#46039f\"],[0.2222222222222222,\"#7201a8\"],[0.3333333333333333,\"#9c179e\"],[0.4444444444444444,\"#bd3786\"],[0.5555555555555556,\"#d8576b\"],[0.6666666666666666,\"#ed7953\"],[0.7777777777777778,\"#fb9f3a\"],[0.8888888888888888,\"#fdca26\"],[1.0,\"#f0f921\"]],\"type\":\"contour\"}],\"contourcarpet\":[{\"colorbar\":{\"outlinewidth\":0,\"ticks\":\"\"},\"type\":\"contourcarpet\"}],\"heatmap\":[{\"colorbar\":{\"outlinewidth\":0,\"ticks\":\"\"},\"colorscale\":[[0.0,\"#0d0887\"],[0.1111111111111111,\"#46039f\"],[0.2222222222222222,\"#7201a8\"],[0.3333333333333333,\"#9c179e\"],[0.4444444444444444,\"#bd3786\"],[0.5555555555555556,\"#d8576b\"],[0.6666666666666666,\"#ed7953\"],[0.7777777777777778,\"#fb9f3a\"],[0.8888888888888888,\"#fdca26\"],[1.0,\"#f0f921\"]],\"type\":\"heatmap\"}],\"heatmapgl\":[{\"colorbar\":{\"outlinewidth\":0,\"ticks\":\"\"},\"colorscale\":[[0.0,\"#0d0887\"],[0.1111111111111111,\"#46039f\"],[0.2222222222222222,\"#7201a8\"],[0.3333333333333333,\"#9c179e\"],[0.4444444444444444,\"#bd3786\"],[0.5555555555555556,\"#d8576b\"],[0.6666666666666666,\"#ed7953\"],[0.7777777777777778,\"#fb9f3a\"],[0.8888888888888888,\"#fdca26\"],[1.0,\"#f0f921\"]],\"type\":\"heatmapgl\"}],\"histogram\":[{\"marker\":{\"pattern\":{\"fillmode\":\"overlay\",\"size\":10,\"solidity\":0.2}},\"type\":\"histogram\"}],\"histogram2d\":[{\"colorbar\":{\"outlinewidth\":0,\"ticks\":\"\"},\"colorscale\":[[0.0,\"#0d0887\"],[0.1111111111111111,\"#46039f\"],[0.2222222222222222,\"#7201a8\"],[0.3333333333333333,\"#9c179e\"],[0.4444444444444444,\"#bd3786\"],[0.5555555555555556,\"#d8576b\"],[0.6666666666666666,\"#ed7953\"],[0.7777777777777778,\"#fb9f3a\"],[0.8888888888888888,\"#fdca26\"],[1.0,\"#f0f921\"]],\"type\":\"histogram2d\"}],\"histogram2dcontour\":[{\"colorbar\":{\"outlinewidth\":0,\"ticks\":\"\"},\"colorscale\":[[0.0,\"#0d0887\"],[0.1111111111111111,\"#46039f\"],[0.2222222222222222,\"#7201a8\"],[0.3333333333333333,\"#9c179e\"],[0.4444444444444444,\"#bd3786\"],[0.5555555555555556,\"#d8576b\"],[0.6666666666666666,\"#ed7953\"],[0.7777777777777778,\"#fb9f3a\"],[0.8888888888888888,\"#fdca26\"],[1.0,\"#f0f921\"]],\"type\":\"histogram2dcontour\"}],\"mesh3d\":[{\"colorbar\":{\"outlinewidth\":0,\"ticks\":\"\"},\"type\":\"mesh3d\"}],\"parcoords\":[{\"line\":{\"colorbar\":{\"outlinewidth\":0,\"ticks\":\"\"}},\"type\":\"parcoords\"}],\"pie\":[{\"automargin\":true,\"type\":\"pie\"}],\"scatter\":[{\"marker\":{\"colorbar\":{\"outlinewidth\":0,\"ticks\":\"\"}},\"type\":\"scatter\"}],\"scatter3d\":[{\"line\":{\"colorbar\":{\"outlinewidth\":0,\"ticks\":\"\"}},\"marker\":{\"colorbar\":{\"outlinewidth\":0,\"ticks\":\"\"}},\"type\":\"scatter3d\"}],\"scattercarpet\":[{\"marker\":{\"colorbar\":{\"outlinewidth\":0,\"ticks\":\"\"}},\"type\":\"scattercarpet\"}],\"scattergeo\":[{\"marker\":{\"colorbar\":{\"outlinewidth\":0,\"ticks\":\"\"}},\"type\":\"scattergeo\"}],\"scattergl\":[{\"marker\":{\"colorbar\":{\"outlinewidth\":0,\"ticks\":\"\"}},\"type\":\"scattergl\"}],\"scattermapbox\":[{\"marker\":{\"colorbar\":{\"outlinewidth\":0,\"ticks\":\"\"}},\"type\":\"scattermapbox\"}],\"scatterpolar\":[{\"marker\":{\"colorbar\":{\"outlinewidth\":0,\"ticks\":\"\"}},\"type\":\"scatterpolar\"}],\"scatterpolargl\":[{\"marker\":{\"colorbar\":{\"outlinewidth\":0,\"ticks\":\"\"}},\"type\":\"scatterpolargl\"}],\"scatterternary\":[{\"marker\":{\"colorbar\":{\"outlinewidth\":0,\"ticks\":\"\"}},\"type\":\"scatterternary\"}],\"surface\":[{\"colorbar\":{\"outlinewidth\":0,\"ticks\":\"\"},\"colorscale\":[[0.0,\"#0d0887\"],[0.1111111111111111,\"#46039f\"],[0.2222222222222222,\"#7201a8\"],[0.3333333333333333,\"#9c179e\"],[0.4444444444444444,\"#bd3786\"],[0.5555555555555556,\"#d8576b\"],[0.6666666666666666,\"#ed7953\"],[0.7777777777777778,\"#fb9f3a\"],[0.8888888888888888,\"#fdca26\"],[1.0,\"#f0f921\"]],\"type\":\"surface\"}],\"table\":[{\"cells\":{\"fill\":{\"color\":\"#EBF0F8\"},\"line\":{\"color\":\"white\"}},\"header\":{\"fill\":{\"color\":\"#C8D4E3\"},\"line\":{\"color\":\"white\"}},\"type\":\"table\"}]},\"layout\":{\"annotationdefaults\":{\"arrowcolor\":\"#2a3f5f\",\"arrowhead\":0,\"arrowwidth\":1},\"autotypenumbers\":\"strict\",\"coloraxis\":{\"colorbar\":{\"outlinewidth\":0,\"ticks\":\"\"}},\"colorscale\":{\"diverging\":[[0,\"#8e0152\"],[0.1,\"#c51b7d\"],[0.2,\"#de77ae\"],[0.3,\"#f1b6da\"],[0.4,\"#fde0ef\"],[0.5,\"#f7f7f7\"],[0.6,\"#e6f5d0\"],[0.7,\"#b8e186\"],[0.8,\"#7fbc41\"],[0.9,\"#4d9221\"],[1,\"#276419\"]],\"sequential\":[[0.0,\"#0d0887\"],[0.1111111111111111,\"#46039f\"],[0.2222222222222222,\"#7201a8\"],[0.3333333333333333,\"#9c179e\"],[0.4444444444444444,\"#bd3786\"],[0.5555555555555556,\"#d8576b\"],[0.6666666666666666,\"#ed7953\"],[0.7777777777777778,\"#fb9f3a\"],[0.8888888888888888,\"#fdca26\"],[1.0,\"#f0f921\"]],\"sequentialminus\":[[0.0,\"#0d0887\"],[0.1111111111111111,\"#46039f\"],[0.2222222222222222,\"#7201a8\"],[0.3333333333333333,\"#9c179e\"],[0.4444444444444444,\"#bd3786\"],[0.5555555555555556,\"#d8576b\"],[0.6666666666666666,\"#ed7953\"],[0.7777777777777778,\"#fb9f3a\"],[0.8888888888888888,\"#fdca26\"],[1.0,\"#f0f921\"]]},\"colorway\":[\"#636efa\",\"#EF553B\",\"#00cc96\",\"#ab63fa\",\"#FFA15A\",\"#19d3f3\",\"#FF6692\",\"#B6E880\",\"#FF97FF\",\"#FECB52\"],\"font\":{\"color\":\"#2a3f5f\"},\"geo\":{\"bgcolor\":\"white\",\"lakecolor\":\"white\",\"landcolor\":\"#E5ECF6\",\"showlakes\":true,\"showland\":true,\"subunitcolor\":\"white\"},\"hoverlabel\":{\"align\":\"left\"},\"hovermode\":\"closest\",\"mapbox\":{\"style\":\"light\"},\"paper_bgcolor\":\"white\",\"plot_bgcolor\":\"#E5ECF6\",\"polar\":{\"angularaxis\":{\"gridcolor\":\"white\",\"linecolor\":\"white\",\"ticks\":\"\"},\"bgcolor\":\"#E5ECF6\",\"radialaxis\":{\"gridcolor\":\"white\",\"linecolor\":\"white\",\"ticks\":\"\"}},\"scene\":{\"xaxis\":{\"backgroundcolor\":\"#E5ECF6\",\"gridcolor\":\"white\",\"gridwidth\":2,\"linecolor\":\"white\",\"showbackground\":true,\"ticks\":\"\",\"zerolinecolor\":\"white\"},\"yaxis\":{\"backgroundcolor\":\"#E5ECF6\",\"gridcolor\":\"white\",\"gridwidth\":2,\"linecolor\":\"white\",\"showbackground\":true,\"ticks\":\"\",\"zerolinecolor\":\"white\"},\"zaxis\":{\"backgroundcolor\":\"#E5ECF6\",\"gridcolor\":\"white\",\"gridwidth\":2,\"linecolor\":\"white\",\"showbackground\":true,\"ticks\":\"\",\"zerolinecolor\":\"white\"}},\"shapedefaults\":{\"line\":{\"color\":\"#2a3f5f\"}},\"ternary\":{\"aaxis\":{\"gridcolor\":\"white\",\"linecolor\":\"white\",\"ticks\":\"\"},\"baxis\":{\"gridcolor\":\"white\",\"linecolor\":\"white\",\"ticks\":\"\"},\"bgcolor\":\"#E5ECF6\",\"caxis\":{\"gridcolor\":\"white\",\"linecolor\":\"white\",\"ticks\":\"\"}},\"title\":{\"x\":0.05},\"xaxis\":{\"automargin\":true,\"gridcolor\":\"white\",\"linecolor\":\"white\",\"ticks\":\"\",\"title\":{\"standoff\":15},\"zerolinecolor\":\"white\",\"zerolinewidth\":2},\"yaxis\":{\"automargin\":true,\"gridcolor\":\"white\",\"linecolor\":\"white\",\"ticks\":\"\",\"title\":{\"standoff\":15},\"zerolinecolor\":\"white\",\"zerolinewidth\":2}}},\"xaxis\":{\"anchor\":\"y\",\"domain\":[0.0,1.0],\"title\":{\"text\":\"duration\"}},\"yaxis\":{\"anchor\":\"x\",\"domain\":[0.0,1.0]},\"legend\":{\"tracegroupgap\":0},\"margin\":{\"t\":60},\"boxmode\":\"group\"},                        {\"responsive\": true}                    ).then(function(){\n",
       "                            \n",
       "var gd = document.getElementById('5c66dc77-84dc-4929-8e6e-d2a3095020a7');\n",
       "var x = new MutationObserver(function (mutations, observer) {{\n",
       "        var display = window.getComputedStyle(gd).display;\n",
       "        if (!display || display === 'none') {{\n",
       "            console.log([gd, 'removed!']);\n",
       "            Plotly.purge(gd);\n",
       "            observer.disconnect();\n",
       "        }}\n",
       "}});\n",
       "\n",
       "// Listen for the removal of the full notebook cells\n",
       "var notebookContainer = gd.closest('#notebook-container');\n",
       "if (notebookContainer) {{\n",
       "    x.observe(notebookContainer, {childList: true});\n",
       "}}\n",
       "\n",
       "// Listen for the clearing of the current output cell\n",
       "var outputEl = gd.closest('.output');\n",
       "if (outputEl) {{\n",
       "    x.observe(outputEl, {childList: true});\n",
       "}}\n",
       "\n",
       "                        })                };                });            </script>        </div>"
      ]
     },
     "metadata": {},
     "output_type": "display_data"
    }
   ],
   "source": [
    "# Answer:\n",
    "px.box(movies, x=\"duration\")"
   ]
  },
  {
   "cell_type": "markdown",
   "metadata": {},
   "source": [
    "## Intermediate level"
   ]
  },
  {
   "cell_type": "markdown",
   "metadata": {},
   "source": [
    "#### Count how many movies have each of the content ratings."
   ]
  },
  {
   "cell_type": "code",
   "execution_count": 72,
   "metadata": {},
   "outputs": [
    {
     "data": {
      "text/html": [
       "<div>\n",
       "<style scoped>\n",
       "    .dataframe tbody tr th:only-of-type {\n",
       "        vertical-align: middle;\n",
       "    }\n",
       "\n",
       "    .dataframe tbody tr th {\n",
       "        vertical-align: top;\n",
       "    }\n",
       "\n",
       "    .dataframe thead th {\n",
       "        text-align: right;\n",
       "    }\n",
       "</style>\n",
       "<table border=\"1\" class=\"dataframe\">\n",
       "  <thead>\n",
       "    <tr style=\"text-align: right;\">\n",
       "      <th></th>\n",
       "      <th>content_rating</th>\n",
       "      <th>title</th>\n",
       "    </tr>\n",
       "  </thead>\n",
       "  <tbody>\n",
       "    <tr>\n",
       "      <th>0</th>\n",
       "      <td>APPROVED</td>\n",
       "      <td>47</td>\n",
       "    </tr>\n",
       "    <tr>\n",
       "      <th>1</th>\n",
       "      <td>G</td>\n",
       "      <td>32</td>\n",
       "    </tr>\n",
       "    <tr>\n",
       "      <th>2</th>\n",
       "      <td>GP</td>\n",
       "      <td>3</td>\n",
       "    </tr>\n",
       "    <tr>\n",
       "      <th>3</th>\n",
       "      <td>NC-17</td>\n",
       "      <td>7</td>\n",
       "    </tr>\n",
       "    <tr>\n",
       "      <th>4</th>\n",
       "      <td>NOT RATED</td>\n",
       "      <td>65</td>\n",
       "    </tr>\n",
       "    <tr>\n",
       "      <th>5</th>\n",
       "      <td>PASSED</td>\n",
       "      <td>7</td>\n",
       "    </tr>\n",
       "    <tr>\n",
       "      <th>6</th>\n",
       "      <td>PG</td>\n",
       "      <td>123</td>\n",
       "    </tr>\n",
       "    <tr>\n",
       "      <th>7</th>\n",
       "      <td>PG-13</td>\n",
       "      <td>189</td>\n",
       "    </tr>\n",
       "    <tr>\n",
       "      <th>8</th>\n",
       "      <td>R</td>\n",
       "      <td>460</td>\n",
       "    </tr>\n",
       "    <tr>\n",
       "      <th>9</th>\n",
       "      <td>TV-MA</td>\n",
       "      <td>1</td>\n",
       "    </tr>\n",
       "    <tr>\n",
       "      <th>10</th>\n",
       "      <td>UNRATED</td>\n",
       "      <td>38</td>\n",
       "    </tr>\n",
       "    <tr>\n",
       "      <th>11</th>\n",
       "      <td>X</td>\n",
       "      <td>4</td>\n",
       "    </tr>\n",
       "  </tbody>\n",
       "</table>\n",
       "</div>"
      ],
      "text/plain": [
       "   content_rating  title\n",
       "0        APPROVED     47\n",
       "1               G     32\n",
       "2              GP      3\n",
       "3           NC-17      7\n",
       "4       NOT RATED     65\n",
       "5          PASSED      7\n",
       "6              PG    123\n",
       "7           PG-13    189\n",
       "8               R    460\n",
       "9           TV-MA      1\n",
       "10        UNRATED     38\n",
       "11              X      4"
      ]
     },
     "execution_count": 72,
     "metadata": {},
     "output_type": "execute_result"
    }
   ],
   "source": [
    "# Answer:\n",
    "content_ratings = movies.groupby('content_rating')['title'].count().reset_index()\n",
    "content_ratings"
   ]
  },
  {
   "cell_type": "markdown",
   "metadata": {},
   "source": [
    "#### Use a visualization to display that same data, including a title and x and y labels."
   ]
  },
  {
   "cell_type": "code",
   "execution_count": 73,
   "metadata": {},
   "outputs": [
    {
     "data": {
      "application/vnd.plotly.v1+json": {
       "config": {
        "plotlyServerURL": "https://plot.ly"
       },
       "data": [
        {
         "alignmentgroup": "True",
         "hovertemplate": "content_rating=%{x}<br>title=%{y}<extra></extra>",
         "legendgroup": "",
         "marker": {
          "color": "#636efa",
          "pattern": {
           "shape": ""
          }
         },
         "name": "",
         "offsetgroup": "",
         "orientation": "v",
         "showlegend": false,
         "textposition": "auto",
         "type": "bar",
         "x": [
          "APPROVED",
          "G",
          "GP",
          "NC-17",
          "NOT RATED",
          "PASSED",
          "PG",
          "PG-13",
          "R",
          "TV-MA",
          "UNRATED",
          "X"
         ],
         "xaxis": "x",
         "y": [
          47,
          32,
          3,
          7,
          65,
          7,
          123,
          189,
          460,
          1,
          38,
          4
         ],
         "yaxis": "y"
        }
       ],
       "layout": {
        "barmode": "group",
        "legend": {
         "tracegroupgap": 0
        },
        "margin": {
         "t": 60
        },
        "template": {
         "data": {
          "bar": [
           {
            "error_x": {
             "color": "#2a3f5f"
            },
            "error_y": {
             "color": "#2a3f5f"
            },
            "marker": {
             "line": {
              "color": "#E5ECF6",
              "width": 0.5
             },
             "pattern": {
              "fillmode": "overlay",
              "size": 10,
              "solidity": 0.2
             }
            },
            "type": "bar"
           }
          ],
          "barpolar": [
           {
            "marker": {
             "line": {
              "color": "#E5ECF6",
              "width": 0.5
             },
             "pattern": {
              "fillmode": "overlay",
              "size": 10,
              "solidity": 0.2
             }
            },
            "type": "barpolar"
           }
          ],
          "carpet": [
           {
            "aaxis": {
             "endlinecolor": "#2a3f5f",
             "gridcolor": "white",
             "linecolor": "white",
             "minorgridcolor": "white",
             "startlinecolor": "#2a3f5f"
            },
            "baxis": {
             "endlinecolor": "#2a3f5f",
             "gridcolor": "white",
             "linecolor": "white",
             "minorgridcolor": "white",
             "startlinecolor": "#2a3f5f"
            },
            "type": "carpet"
           }
          ],
          "choropleth": [
           {
            "colorbar": {
             "outlinewidth": 0,
             "ticks": ""
            },
            "type": "choropleth"
           }
          ],
          "contour": [
           {
            "colorbar": {
             "outlinewidth": 0,
             "ticks": ""
            },
            "colorscale": [
             [
              0,
              "#0d0887"
             ],
             [
              0.1111111111111111,
              "#46039f"
             ],
             [
              0.2222222222222222,
              "#7201a8"
             ],
             [
              0.3333333333333333,
              "#9c179e"
             ],
             [
              0.4444444444444444,
              "#bd3786"
             ],
             [
              0.5555555555555556,
              "#d8576b"
             ],
             [
              0.6666666666666666,
              "#ed7953"
             ],
             [
              0.7777777777777778,
              "#fb9f3a"
             ],
             [
              0.8888888888888888,
              "#fdca26"
             ],
             [
              1,
              "#f0f921"
             ]
            ],
            "type": "contour"
           }
          ],
          "contourcarpet": [
           {
            "colorbar": {
             "outlinewidth": 0,
             "ticks": ""
            },
            "type": "contourcarpet"
           }
          ],
          "heatmap": [
           {
            "colorbar": {
             "outlinewidth": 0,
             "ticks": ""
            },
            "colorscale": [
             [
              0,
              "#0d0887"
             ],
             [
              0.1111111111111111,
              "#46039f"
             ],
             [
              0.2222222222222222,
              "#7201a8"
             ],
             [
              0.3333333333333333,
              "#9c179e"
             ],
             [
              0.4444444444444444,
              "#bd3786"
             ],
             [
              0.5555555555555556,
              "#d8576b"
             ],
             [
              0.6666666666666666,
              "#ed7953"
             ],
             [
              0.7777777777777778,
              "#fb9f3a"
             ],
             [
              0.8888888888888888,
              "#fdca26"
             ],
             [
              1,
              "#f0f921"
             ]
            ],
            "type": "heatmap"
           }
          ],
          "heatmapgl": [
           {
            "colorbar": {
             "outlinewidth": 0,
             "ticks": ""
            },
            "colorscale": [
             [
              0,
              "#0d0887"
             ],
             [
              0.1111111111111111,
              "#46039f"
             ],
             [
              0.2222222222222222,
              "#7201a8"
             ],
             [
              0.3333333333333333,
              "#9c179e"
             ],
             [
              0.4444444444444444,
              "#bd3786"
             ],
             [
              0.5555555555555556,
              "#d8576b"
             ],
             [
              0.6666666666666666,
              "#ed7953"
             ],
             [
              0.7777777777777778,
              "#fb9f3a"
             ],
             [
              0.8888888888888888,
              "#fdca26"
             ],
             [
              1,
              "#f0f921"
             ]
            ],
            "type": "heatmapgl"
           }
          ],
          "histogram": [
           {
            "marker": {
             "pattern": {
              "fillmode": "overlay",
              "size": 10,
              "solidity": 0.2
             }
            },
            "type": "histogram"
           }
          ],
          "histogram2d": [
           {
            "colorbar": {
             "outlinewidth": 0,
             "ticks": ""
            },
            "colorscale": [
             [
              0,
              "#0d0887"
             ],
             [
              0.1111111111111111,
              "#46039f"
             ],
             [
              0.2222222222222222,
              "#7201a8"
             ],
             [
              0.3333333333333333,
              "#9c179e"
             ],
             [
              0.4444444444444444,
              "#bd3786"
             ],
             [
              0.5555555555555556,
              "#d8576b"
             ],
             [
              0.6666666666666666,
              "#ed7953"
             ],
             [
              0.7777777777777778,
              "#fb9f3a"
             ],
             [
              0.8888888888888888,
              "#fdca26"
             ],
             [
              1,
              "#f0f921"
             ]
            ],
            "type": "histogram2d"
           }
          ],
          "histogram2dcontour": [
           {
            "colorbar": {
             "outlinewidth": 0,
             "ticks": ""
            },
            "colorscale": [
             [
              0,
              "#0d0887"
             ],
             [
              0.1111111111111111,
              "#46039f"
             ],
             [
              0.2222222222222222,
              "#7201a8"
             ],
             [
              0.3333333333333333,
              "#9c179e"
             ],
             [
              0.4444444444444444,
              "#bd3786"
             ],
             [
              0.5555555555555556,
              "#d8576b"
             ],
             [
              0.6666666666666666,
              "#ed7953"
             ],
             [
              0.7777777777777778,
              "#fb9f3a"
             ],
             [
              0.8888888888888888,
              "#fdca26"
             ],
             [
              1,
              "#f0f921"
             ]
            ],
            "type": "histogram2dcontour"
           }
          ],
          "mesh3d": [
           {
            "colorbar": {
             "outlinewidth": 0,
             "ticks": ""
            },
            "type": "mesh3d"
           }
          ],
          "parcoords": [
           {
            "line": {
             "colorbar": {
              "outlinewidth": 0,
              "ticks": ""
             }
            },
            "type": "parcoords"
           }
          ],
          "pie": [
           {
            "automargin": true,
            "type": "pie"
           }
          ],
          "scatter": [
           {
            "marker": {
             "colorbar": {
              "outlinewidth": 0,
              "ticks": ""
             }
            },
            "type": "scatter"
           }
          ],
          "scatter3d": [
           {
            "line": {
             "colorbar": {
              "outlinewidth": 0,
              "ticks": ""
             }
            },
            "marker": {
             "colorbar": {
              "outlinewidth": 0,
              "ticks": ""
             }
            },
            "type": "scatter3d"
           }
          ],
          "scattercarpet": [
           {
            "marker": {
             "colorbar": {
              "outlinewidth": 0,
              "ticks": ""
             }
            },
            "type": "scattercarpet"
           }
          ],
          "scattergeo": [
           {
            "marker": {
             "colorbar": {
              "outlinewidth": 0,
              "ticks": ""
             }
            },
            "type": "scattergeo"
           }
          ],
          "scattergl": [
           {
            "marker": {
             "colorbar": {
              "outlinewidth": 0,
              "ticks": ""
             }
            },
            "type": "scattergl"
           }
          ],
          "scattermapbox": [
           {
            "marker": {
             "colorbar": {
              "outlinewidth": 0,
              "ticks": ""
             }
            },
            "type": "scattermapbox"
           }
          ],
          "scatterpolar": [
           {
            "marker": {
             "colorbar": {
              "outlinewidth": 0,
              "ticks": ""
             }
            },
            "type": "scatterpolar"
           }
          ],
          "scatterpolargl": [
           {
            "marker": {
             "colorbar": {
              "outlinewidth": 0,
              "ticks": ""
             }
            },
            "type": "scatterpolargl"
           }
          ],
          "scatterternary": [
           {
            "marker": {
             "colorbar": {
              "outlinewidth": 0,
              "ticks": ""
             }
            },
            "type": "scatterternary"
           }
          ],
          "surface": [
           {
            "colorbar": {
             "outlinewidth": 0,
             "ticks": ""
            },
            "colorscale": [
             [
              0,
              "#0d0887"
             ],
             [
              0.1111111111111111,
              "#46039f"
             ],
             [
              0.2222222222222222,
              "#7201a8"
             ],
             [
              0.3333333333333333,
              "#9c179e"
             ],
             [
              0.4444444444444444,
              "#bd3786"
             ],
             [
              0.5555555555555556,
              "#d8576b"
             ],
             [
              0.6666666666666666,
              "#ed7953"
             ],
             [
              0.7777777777777778,
              "#fb9f3a"
             ],
             [
              0.8888888888888888,
              "#fdca26"
             ],
             [
              1,
              "#f0f921"
             ]
            ],
            "type": "surface"
           }
          ],
          "table": [
           {
            "cells": {
             "fill": {
              "color": "#EBF0F8"
             },
             "line": {
              "color": "white"
             }
            },
            "header": {
             "fill": {
              "color": "#C8D4E3"
             },
             "line": {
              "color": "white"
             }
            },
            "type": "table"
           }
          ]
         },
         "layout": {
          "annotationdefaults": {
           "arrowcolor": "#2a3f5f",
           "arrowhead": 0,
           "arrowwidth": 1
          },
          "autotypenumbers": "strict",
          "coloraxis": {
           "colorbar": {
            "outlinewidth": 0,
            "ticks": ""
           }
          },
          "colorscale": {
           "diverging": [
            [
             0,
             "#8e0152"
            ],
            [
             0.1,
             "#c51b7d"
            ],
            [
             0.2,
             "#de77ae"
            ],
            [
             0.3,
             "#f1b6da"
            ],
            [
             0.4,
             "#fde0ef"
            ],
            [
             0.5,
             "#f7f7f7"
            ],
            [
             0.6,
             "#e6f5d0"
            ],
            [
             0.7,
             "#b8e186"
            ],
            [
             0.8,
             "#7fbc41"
            ],
            [
             0.9,
             "#4d9221"
            ],
            [
             1,
             "#276419"
            ]
           ],
           "sequential": [
            [
             0,
             "#0d0887"
            ],
            [
             0.1111111111111111,
             "#46039f"
            ],
            [
             0.2222222222222222,
             "#7201a8"
            ],
            [
             0.3333333333333333,
             "#9c179e"
            ],
            [
             0.4444444444444444,
             "#bd3786"
            ],
            [
             0.5555555555555556,
             "#d8576b"
            ],
            [
             0.6666666666666666,
             "#ed7953"
            ],
            [
             0.7777777777777778,
             "#fb9f3a"
            ],
            [
             0.8888888888888888,
             "#fdca26"
            ],
            [
             1,
             "#f0f921"
            ]
           ],
           "sequentialminus": [
            [
             0,
             "#0d0887"
            ],
            [
             0.1111111111111111,
             "#46039f"
            ],
            [
             0.2222222222222222,
             "#7201a8"
            ],
            [
             0.3333333333333333,
             "#9c179e"
            ],
            [
             0.4444444444444444,
             "#bd3786"
            ],
            [
             0.5555555555555556,
             "#d8576b"
            ],
            [
             0.6666666666666666,
             "#ed7953"
            ],
            [
             0.7777777777777778,
             "#fb9f3a"
            ],
            [
             0.8888888888888888,
             "#fdca26"
            ],
            [
             1,
             "#f0f921"
            ]
           ]
          },
          "colorway": [
           "#636efa",
           "#EF553B",
           "#00cc96",
           "#ab63fa",
           "#FFA15A",
           "#19d3f3",
           "#FF6692",
           "#B6E880",
           "#FF97FF",
           "#FECB52"
          ],
          "font": {
           "color": "#2a3f5f"
          },
          "geo": {
           "bgcolor": "white",
           "lakecolor": "white",
           "landcolor": "#E5ECF6",
           "showlakes": true,
           "showland": true,
           "subunitcolor": "white"
          },
          "hoverlabel": {
           "align": "left"
          },
          "hovermode": "closest",
          "mapbox": {
           "style": "light"
          },
          "paper_bgcolor": "white",
          "plot_bgcolor": "#E5ECF6",
          "polar": {
           "angularaxis": {
            "gridcolor": "white",
            "linecolor": "white",
            "ticks": ""
           },
           "bgcolor": "#E5ECF6",
           "radialaxis": {
            "gridcolor": "white",
            "linecolor": "white",
            "ticks": ""
           }
          },
          "scene": {
           "xaxis": {
            "backgroundcolor": "#E5ECF6",
            "gridcolor": "white",
            "gridwidth": 2,
            "linecolor": "white",
            "showbackground": true,
            "ticks": "",
            "zerolinecolor": "white"
           },
           "yaxis": {
            "backgroundcolor": "#E5ECF6",
            "gridcolor": "white",
            "gridwidth": 2,
            "linecolor": "white",
            "showbackground": true,
            "ticks": "",
            "zerolinecolor": "white"
           },
           "zaxis": {
            "backgroundcolor": "#E5ECF6",
            "gridcolor": "white",
            "gridwidth": 2,
            "linecolor": "white",
            "showbackground": true,
            "ticks": "",
            "zerolinecolor": "white"
           }
          },
          "shapedefaults": {
           "line": {
            "color": "#2a3f5f"
           }
          },
          "ternary": {
           "aaxis": {
            "gridcolor": "white",
            "linecolor": "white",
            "ticks": ""
           },
           "baxis": {
            "gridcolor": "white",
            "linecolor": "white",
            "ticks": ""
           },
           "bgcolor": "#E5ECF6",
           "caxis": {
            "gridcolor": "white",
            "linecolor": "white",
            "ticks": ""
           }
          },
          "title": {
           "x": 0.05
          },
          "xaxis": {
           "automargin": true,
           "gridcolor": "white",
           "linecolor": "white",
           "ticks": "",
           "title": {
            "standoff": 15
           },
           "zerolinecolor": "white",
           "zerolinewidth": 2
          },
          "yaxis": {
           "automargin": true,
           "gridcolor": "white",
           "linecolor": "white",
           "ticks": "",
           "title": {
            "standoff": 15
           },
           "zerolinecolor": "white",
           "zerolinewidth": 2
          }
         }
        },
        "xaxis": {
         "anchor": "y",
         "domain": [
          0,
          1
         ],
         "title": {
          "text": "content_rating"
         }
        },
        "yaxis": {
         "anchor": "x",
         "domain": [
          0,
          1
         ],
         "title": {
          "text": "title"
         }
        }
       }
      },
      "text/html": [
       "<div>                            <div id=\"e45abd98-480a-4371-9bc8-c47394dfd0da\" class=\"plotly-graph-div\" style=\"height:525px; width:100%;\"></div>            <script type=\"text/javascript\">                require([\"plotly\"], function(Plotly) {                    window.PLOTLYENV=window.PLOTLYENV || {};                                    if (document.getElementById(\"e45abd98-480a-4371-9bc8-c47394dfd0da\")) {                    Plotly.newPlot(                        \"e45abd98-480a-4371-9bc8-c47394dfd0da\",                        [{\"alignmentgroup\":\"True\",\"hovertemplate\":\"content_rating=%{x}<br>title=%{y}<extra></extra>\",\"legendgroup\":\"\",\"marker\":{\"color\":\"#636efa\",\"pattern\":{\"shape\":\"\"}},\"name\":\"\",\"offsetgroup\":\"\",\"orientation\":\"v\",\"showlegend\":false,\"textposition\":\"auto\",\"x\":[\"APPROVED\",\"G\",\"GP\",\"NC-17\",\"NOT RATED\",\"PASSED\",\"PG\",\"PG-13\",\"R\",\"TV-MA\",\"UNRATED\",\"X\"],\"xaxis\":\"x\",\"y\":[47,32,3,7,65,7,123,189,460,1,38,4],\"yaxis\":\"y\",\"type\":\"bar\"}],                        {\"template\":{\"data\":{\"bar\":[{\"error_x\":{\"color\":\"#2a3f5f\"},\"error_y\":{\"color\":\"#2a3f5f\"},\"marker\":{\"line\":{\"color\":\"#E5ECF6\",\"width\":0.5},\"pattern\":{\"fillmode\":\"overlay\",\"size\":10,\"solidity\":0.2}},\"type\":\"bar\"}],\"barpolar\":[{\"marker\":{\"line\":{\"color\":\"#E5ECF6\",\"width\":0.5},\"pattern\":{\"fillmode\":\"overlay\",\"size\":10,\"solidity\":0.2}},\"type\":\"barpolar\"}],\"carpet\":[{\"aaxis\":{\"endlinecolor\":\"#2a3f5f\",\"gridcolor\":\"white\",\"linecolor\":\"white\",\"minorgridcolor\":\"white\",\"startlinecolor\":\"#2a3f5f\"},\"baxis\":{\"endlinecolor\":\"#2a3f5f\",\"gridcolor\":\"white\",\"linecolor\":\"white\",\"minorgridcolor\":\"white\",\"startlinecolor\":\"#2a3f5f\"},\"type\":\"carpet\"}],\"choropleth\":[{\"colorbar\":{\"outlinewidth\":0,\"ticks\":\"\"},\"type\":\"choropleth\"}],\"contour\":[{\"colorbar\":{\"outlinewidth\":0,\"ticks\":\"\"},\"colorscale\":[[0.0,\"#0d0887\"],[0.1111111111111111,\"#46039f\"],[0.2222222222222222,\"#7201a8\"],[0.3333333333333333,\"#9c179e\"],[0.4444444444444444,\"#bd3786\"],[0.5555555555555556,\"#d8576b\"],[0.6666666666666666,\"#ed7953\"],[0.7777777777777778,\"#fb9f3a\"],[0.8888888888888888,\"#fdca26\"],[1.0,\"#f0f921\"]],\"type\":\"contour\"}],\"contourcarpet\":[{\"colorbar\":{\"outlinewidth\":0,\"ticks\":\"\"},\"type\":\"contourcarpet\"}],\"heatmap\":[{\"colorbar\":{\"outlinewidth\":0,\"ticks\":\"\"},\"colorscale\":[[0.0,\"#0d0887\"],[0.1111111111111111,\"#46039f\"],[0.2222222222222222,\"#7201a8\"],[0.3333333333333333,\"#9c179e\"],[0.4444444444444444,\"#bd3786\"],[0.5555555555555556,\"#d8576b\"],[0.6666666666666666,\"#ed7953\"],[0.7777777777777778,\"#fb9f3a\"],[0.8888888888888888,\"#fdca26\"],[1.0,\"#f0f921\"]],\"type\":\"heatmap\"}],\"heatmapgl\":[{\"colorbar\":{\"outlinewidth\":0,\"ticks\":\"\"},\"colorscale\":[[0.0,\"#0d0887\"],[0.1111111111111111,\"#46039f\"],[0.2222222222222222,\"#7201a8\"],[0.3333333333333333,\"#9c179e\"],[0.4444444444444444,\"#bd3786\"],[0.5555555555555556,\"#d8576b\"],[0.6666666666666666,\"#ed7953\"],[0.7777777777777778,\"#fb9f3a\"],[0.8888888888888888,\"#fdca26\"],[1.0,\"#f0f921\"]],\"type\":\"heatmapgl\"}],\"histogram\":[{\"marker\":{\"pattern\":{\"fillmode\":\"overlay\",\"size\":10,\"solidity\":0.2}},\"type\":\"histogram\"}],\"histogram2d\":[{\"colorbar\":{\"outlinewidth\":0,\"ticks\":\"\"},\"colorscale\":[[0.0,\"#0d0887\"],[0.1111111111111111,\"#46039f\"],[0.2222222222222222,\"#7201a8\"],[0.3333333333333333,\"#9c179e\"],[0.4444444444444444,\"#bd3786\"],[0.5555555555555556,\"#d8576b\"],[0.6666666666666666,\"#ed7953\"],[0.7777777777777778,\"#fb9f3a\"],[0.8888888888888888,\"#fdca26\"],[1.0,\"#f0f921\"]],\"type\":\"histogram2d\"}],\"histogram2dcontour\":[{\"colorbar\":{\"outlinewidth\":0,\"ticks\":\"\"},\"colorscale\":[[0.0,\"#0d0887\"],[0.1111111111111111,\"#46039f\"],[0.2222222222222222,\"#7201a8\"],[0.3333333333333333,\"#9c179e\"],[0.4444444444444444,\"#bd3786\"],[0.5555555555555556,\"#d8576b\"],[0.6666666666666666,\"#ed7953\"],[0.7777777777777778,\"#fb9f3a\"],[0.8888888888888888,\"#fdca26\"],[1.0,\"#f0f921\"]],\"type\":\"histogram2dcontour\"}],\"mesh3d\":[{\"colorbar\":{\"outlinewidth\":0,\"ticks\":\"\"},\"type\":\"mesh3d\"}],\"parcoords\":[{\"line\":{\"colorbar\":{\"outlinewidth\":0,\"ticks\":\"\"}},\"type\":\"parcoords\"}],\"pie\":[{\"automargin\":true,\"type\":\"pie\"}],\"scatter\":[{\"marker\":{\"colorbar\":{\"outlinewidth\":0,\"ticks\":\"\"}},\"type\":\"scatter\"}],\"scatter3d\":[{\"line\":{\"colorbar\":{\"outlinewidth\":0,\"ticks\":\"\"}},\"marker\":{\"colorbar\":{\"outlinewidth\":0,\"ticks\":\"\"}},\"type\":\"scatter3d\"}],\"scattercarpet\":[{\"marker\":{\"colorbar\":{\"outlinewidth\":0,\"ticks\":\"\"}},\"type\":\"scattercarpet\"}],\"scattergeo\":[{\"marker\":{\"colorbar\":{\"outlinewidth\":0,\"ticks\":\"\"}},\"type\":\"scattergeo\"}],\"scattergl\":[{\"marker\":{\"colorbar\":{\"outlinewidth\":0,\"ticks\":\"\"}},\"type\":\"scattergl\"}],\"scattermapbox\":[{\"marker\":{\"colorbar\":{\"outlinewidth\":0,\"ticks\":\"\"}},\"type\":\"scattermapbox\"}],\"scatterpolar\":[{\"marker\":{\"colorbar\":{\"outlinewidth\":0,\"ticks\":\"\"}},\"type\":\"scatterpolar\"}],\"scatterpolargl\":[{\"marker\":{\"colorbar\":{\"outlinewidth\":0,\"ticks\":\"\"}},\"type\":\"scatterpolargl\"}],\"scatterternary\":[{\"marker\":{\"colorbar\":{\"outlinewidth\":0,\"ticks\":\"\"}},\"type\":\"scatterternary\"}],\"surface\":[{\"colorbar\":{\"outlinewidth\":0,\"ticks\":\"\"},\"colorscale\":[[0.0,\"#0d0887\"],[0.1111111111111111,\"#46039f\"],[0.2222222222222222,\"#7201a8\"],[0.3333333333333333,\"#9c179e\"],[0.4444444444444444,\"#bd3786\"],[0.5555555555555556,\"#d8576b\"],[0.6666666666666666,\"#ed7953\"],[0.7777777777777778,\"#fb9f3a\"],[0.8888888888888888,\"#fdca26\"],[1.0,\"#f0f921\"]],\"type\":\"surface\"}],\"table\":[{\"cells\":{\"fill\":{\"color\":\"#EBF0F8\"},\"line\":{\"color\":\"white\"}},\"header\":{\"fill\":{\"color\":\"#C8D4E3\"},\"line\":{\"color\":\"white\"}},\"type\":\"table\"}]},\"layout\":{\"annotationdefaults\":{\"arrowcolor\":\"#2a3f5f\",\"arrowhead\":0,\"arrowwidth\":1},\"autotypenumbers\":\"strict\",\"coloraxis\":{\"colorbar\":{\"outlinewidth\":0,\"ticks\":\"\"}},\"colorscale\":{\"diverging\":[[0,\"#8e0152\"],[0.1,\"#c51b7d\"],[0.2,\"#de77ae\"],[0.3,\"#f1b6da\"],[0.4,\"#fde0ef\"],[0.5,\"#f7f7f7\"],[0.6,\"#e6f5d0\"],[0.7,\"#b8e186\"],[0.8,\"#7fbc41\"],[0.9,\"#4d9221\"],[1,\"#276419\"]],\"sequential\":[[0.0,\"#0d0887\"],[0.1111111111111111,\"#46039f\"],[0.2222222222222222,\"#7201a8\"],[0.3333333333333333,\"#9c179e\"],[0.4444444444444444,\"#bd3786\"],[0.5555555555555556,\"#d8576b\"],[0.6666666666666666,\"#ed7953\"],[0.7777777777777778,\"#fb9f3a\"],[0.8888888888888888,\"#fdca26\"],[1.0,\"#f0f921\"]],\"sequentialminus\":[[0.0,\"#0d0887\"],[0.1111111111111111,\"#46039f\"],[0.2222222222222222,\"#7201a8\"],[0.3333333333333333,\"#9c179e\"],[0.4444444444444444,\"#bd3786\"],[0.5555555555555556,\"#d8576b\"],[0.6666666666666666,\"#ed7953\"],[0.7777777777777778,\"#fb9f3a\"],[0.8888888888888888,\"#fdca26\"],[1.0,\"#f0f921\"]]},\"colorway\":[\"#636efa\",\"#EF553B\",\"#00cc96\",\"#ab63fa\",\"#FFA15A\",\"#19d3f3\",\"#FF6692\",\"#B6E880\",\"#FF97FF\",\"#FECB52\"],\"font\":{\"color\":\"#2a3f5f\"},\"geo\":{\"bgcolor\":\"white\",\"lakecolor\":\"white\",\"landcolor\":\"#E5ECF6\",\"showlakes\":true,\"showland\":true,\"subunitcolor\":\"white\"},\"hoverlabel\":{\"align\":\"left\"},\"hovermode\":\"closest\",\"mapbox\":{\"style\":\"light\"},\"paper_bgcolor\":\"white\",\"plot_bgcolor\":\"#E5ECF6\",\"polar\":{\"angularaxis\":{\"gridcolor\":\"white\",\"linecolor\":\"white\",\"ticks\":\"\"},\"bgcolor\":\"#E5ECF6\",\"radialaxis\":{\"gridcolor\":\"white\",\"linecolor\":\"white\",\"ticks\":\"\"}},\"scene\":{\"xaxis\":{\"backgroundcolor\":\"#E5ECF6\",\"gridcolor\":\"white\",\"gridwidth\":2,\"linecolor\":\"white\",\"showbackground\":true,\"ticks\":\"\",\"zerolinecolor\":\"white\"},\"yaxis\":{\"backgroundcolor\":\"#E5ECF6\",\"gridcolor\":\"white\",\"gridwidth\":2,\"linecolor\":\"white\",\"showbackground\":true,\"ticks\":\"\",\"zerolinecolor\":\"white\"},\"zaxis\":{\"backgroundcolor\":\"#E5ECF6\",\"gridcolor\":\"white\",\"gridwidth\":2,\"linecolor\":\"white\",\"showbackground\":true,\"ticks\":\"\",\"zerolinecolor\":\"white\"}},\"shapedefaults\":{\"line\":{\"color\":\"#2a3f5f\"}},\"ternary\":{\"aaxis\":{\"gridcolor\":\"white\",\"linecolor\":\"white\",\"ticks\":\"\"},\"baxis\":{\"gridcolor\":\"white\",\"linecolor\":\"white\",\"ticks\":\"\"},\"bgcolor\":\"#E5ECF6\",\"caxis\":{\"gridcolor\":\"white\",\"linecolor\":\"white\",\"ticks\":\"\"}},\"title\":{\"x\":0.05},\"xaxis\":{\"automargin\":true,\"gridcolor\":\"white\",\"linecolor\":\"white\",\"ticks\":\"\",\"title\":{\"standoff\":15},\"zerolinecolor\":\"white\",\"zerolinewidth\":2},\"yaxis\":{\"automargin\":true,\"gridcolor\":\"white\",\"linecolor\":\"white\",\"ticks\":\"\",\"title\":{\"standoff\":15},\"zerolinecolor\":\"white\",\"zerolinewidth\":2}}},\"xaxis\":{\"anchor\":\"y\",\"domain\":[0.0,1.0],\"title\":{\"text\":\"content_rating\"}},\"yaxis\":{\"anchor\":\"x\",\"domain\":[0.0,1.0],\"title\":{\"text\":\"title\"}},\"legend\":{\"tracegroupgap\":0},\"margin\":{\"t\":60},\"barmode\":\"group\"},                        {\"responsive\": true}                    ).then(function(){\n",
       "                            \n",
       "var gd = document.getElementById('e45abd98-480a-4371-9bc8-c47394dfd0da');\n",
       "var x = new MutationObserver(function (mutations, observer) {{\n",
       "        var display = window.getComputedStyle(gd).display;\n",
       "        if (!display || display === 'none') {{\n",
       "            console.log([gd, 'removed!']);\n",
       "            Plotly.purge(gd);\n",
       "            observer.disconnect();\n",
       "        }}\n",
       "}});\n",
       "\n",
       "// Listen for the removal of the full notebook cells\n",
       "var notebookContainer = gd.closest('#notebook-container');\n",
       "if (notebookContainer) {{\n",
       "    x.observe(notebookContainer, {childList: true});\n",
       "}}\n",
       "\n",
       "// Listen for the clearing of the current output cell\n",
       "var outputEl = gd.closest('.output');\n",
       "if (outputEl) {{\n",
       "    x.observe(outputEl, {childList: true});\n",
       "}}\n",
       "\n",
       "                        })                };                });            </script>        </div>"
      ]
     },
     "metadata": {},
     "output_type": "display_data"
    }
   ],
   "source": [
    "# Answer:\n",
    "px.bar(content_ratings, x='content_rating', y='title', barmode='group')"
   ]
  },
  {
   "cell_type": "markdown",
   "metadata": {},
   "source": [
    "#### Convert the following content ratings to \"UNRATED\": NOT RATED, APPROVED, PASSED, GP."
   ]
  },
  {
   "cell_type": "code",
   "execution_count": 74,
   "metadata": {},
   "outputs": [
    {
     "data": {
      "text/html": [
       "<div>\n",
       "<style scoped>\n",
       "    .dataframe tbody tr th:only-of-type {\n",
       "        vertical-align: middle;\n",
       "    }\n",
       "\n",
       "    .dataframe tbody tr th {\n",
       "        vertical-align: top;\n",
       "    }\n",
       "\n",
       "    .dataframe thead th {\n",
       "        text-align: right;\n",
       "    }\n",
       "</style>\n",
       "<table border=\"1\" class=\"dataframe\">\n",
       "  <thead>\n",
       "    <tr style=\"text-align: right;\">\n",
       "      <th></th>\n",
       "      <th>star_rating</th>\n",
       "      <th>title</th>\n",
       "      <th>content_rating</th>\n",
       "      <th>genre</th>\n",
       "      <th>duration</th>\n",
       "      <th>actors_list</th>\n",
       "    </tr>\n",
       "  </thead>\n",
       "  <tbody>\n",
       "  </tbody>\n",
       "</table>\n",
       "</div>"
      ],
      "text/plain": [
       "Empty DataFrame\n",
       "Columns: [star_rating, title, content_rating, genre, duration, actors_list]\n",
       "Index: []"
      ]
     },
     "execution_count": 74,
     "metadata": {},
     "output_type": "execute_result"
    }
   ],
   "source": [
    "# Answer:\n",
    "#update the ratings\n",
    "movies['content_rating'] = np.where(movies['content_rating'].isin(['NOT RATED', 'APPROVED', 'PASSED', 'GP']), 'UNRATED', movies['content_rating'])\n",
    "\n",
    "#check to make sure they've all been updated. Below query should retun 0 results\n",
    "movies.loc[movies['content_rating'].isin(['NOT RATED', 'APPROVED', 'PASSED', 'GP']), :]"
   ]
  },
  {
   "cell_type": "markdown",
   "metadata": {},
   "source": [
    "#### Convert the following content ratings to \"NC-17\": X, TV-MA."
   ]
  },
  {
   "cell_type": "code",
   "execution_count": 75,
   "metadata": {},
   "outputs": [
    {
     "data": {
      "text/html": [
       "<div>\n",
       "<style scoped>\n",
       "    .dataframe tbody tr th:only-of-type {\n",
       "        vertical-align: middle;\n",
       "    }\n",
       "\n",
       "    .dataframe tbody tr th {\n",
       "        vertical-align: top;\n",
       "    }\n",
       "\n",
       "    .dataframe thead th {\n",
       "        text-align: right;\n",
       "    }\n",
       "</style>\n",
       "<table border=\"1\" class=\"dataframe\">\n",
       "  <thead>\n",
       "    <tr style=\"text-align: right;\">\n",
       "      <th></th>\n",
       "      <th>star_rating</th>\n",
       "      <th>title</th>\n",
       "      <th>content_rating</th>\n",
       "      <th>genre</th>\n",
       "      <th>duration</th>\n",
       "      <th>actors_list</th>\n",
       "    </tr>\n",
       "  </thead>\n",
       "  <tbody>\n",
       "  </tbody>\n",
       "</table>\n",
       "</div>"
      ],
      "text/plain": [
       "Empty DataFrame\n",
       "Columns: [star_rating, title, content_rating, genre, duration, actors_list]\n",
       "Index: []"
      ]
     },
     "execution_count": 75,
     "metadata": {},
     "output_type": "execute_result"
    }
   ],
   "source": [
    "# Answer:\n",
    "#update the ratings\n",
    "movies['content_rating'] = np.where(movies['content_rating'].isin(['X' , 'TV-MA']), 'NC-17', movies['content_rating'])\n",
    "\n",
    "#check to make sure they've all been updated. Below query should retun 0 results\n",
    "movies.loc[movies['content_rating'].isin(['X' , 'TV-MA']), :]"
   ]
  },
  {
   "cell_type": "markdown",
   "metadata": {},
   "source": [
    "#### Count the number of missing values in each column."
   ]
  },
  {
   "cell_type": "code",
   "execution_count": 76,
   "metadata": {},
   "outputs": [
    {
     "data": {
      "text/plain": [
       "star_rating       0\n",
       "title             0\n",
       "content_rating    3\n",
       "genre             0\n",
       "duration          0\n",
       "actors_list       0\n",
       "dtype: int64"
      ]
     },
     "execution_count": 76,
     "metadata": {},
     "output_type": "execute_result"
    }
   ],
   "source": [
    "# Answer:\n",
    "movies.isnull().sum()"
   ]
  },
  {
   "cell_type": "markdown",
   "metadata": {},
   "source": [
    "#### If there are missing values: examine them, then fill them in with \"reasonable\" values."
   ]
  },
  {
   "cell_type": "code",
   "execution_count": 77,
   "metadata": {},
   "outputs": [
    {
     "data": {
      "text/html": [
       "<div>\n",
       "<style scoped>\n",
       "    .dataframe tbody tr th:only-of-type {\n",
       "        vertical-align: middle;\n",
       "    }\n",
       "\n",
       "    .dataframe tbody tr th {\n",
       "        vertical-align: top;\n",
       "    }\n",
       "\n",
       "    .dataframe thead th {\n",
       "        text-align: right;\n",
       "    }\n",
       "</style>\n",
       "<table border=\"1\" class=\"dataframe\">\n",
       "  <thead>\n",
       "    <tr style=\"text-align: right;\">\n",
       "      <th></th>\n",
       "      <th>star_rating</th>\n",
       "      <th>title</th>\n",
       "      <th>content_rating</th>\n",
       "      <th>genre</th>\n",
       "      <th>duration</th>\n",
       "      <th>actors_list</th>\n",
       "    </tr>\n",
       "  </thead>\n",
       "  <tbody>\n",
       "    <tr>\n",
       "      <th>187</th>\n",
       "      <td>8.2</td>\n",
       "      <td>Butch Cassidy and the Sundance Kid</td>\n",
       "      <td>UNKNOWN</td>\n",
       "      <td>Biography</td>\n",
       "      <td>110</td>\n",
       "      <td>[u'Paul Newman', u'Robert Redford', u'Katharin...</td>\n",
       "    </tr>\n",
       "    <tr>\n",
       "      <th>649</th>\n",
       "      <td>7.7</td>\n",
       "      <td>Where Eagles Dare</td>\n",
       "      <td>UNKNOWN</td>\n",
       "      <td>Action</td>\n",
       "      <td>158</td>\n",
       "      <td>[u'Richard Burton', u'Clint Eastwood', u'Mary ...</td>\n",
       "    </tr>\n",
       "    <tr>\n",
       "      <th>936</th>\n",
       "      <td>7.4</td>\n",
       "      <td>True Grit</td>\n",
       "      <td>UNKNOWN</td>\n",
       "      <td>Adventure</td>\n",
       "      <td>128</td>\n",
       "      <td>[u'John Wayne', u'Kim Darby', u'Glen Campbell']</td>\n",
       "    </tr>\n",
       "  </tbody>\n",
       "</table>\n",
       "</div>"
      ],
      "text/plain": [
       "     star_rating                               title content_rating  \\\n",
       "187          8.2  Butch Cassidy and the Sundance Kid        UNKNOWN   \n",
       "649          7.7                   Where Eagles Dare        UNKNOWN   \n",
       "936          7.4                           True Grit        UNKNOWN   \n",
       "\n",
       "         genre  duration                                        actors_list  \n",
       "187  Biography       110  [u'Paul Newman', u'Robert Redford', u'Katharin...  \n",
       "649     Action       158  [u'Richard Burton', u'Clint Eastwood', u'Mary ...  \n",
       "936  Adventure       128    [u'John Wayne', u'Kim Darby', u'Glen Campbell']  "
      ]
     },
     "execution_count": 77,
     "metadata": {},
     "output_type": "execute_result"
    }
   ],
   "source": [
    "# Answer:\n",
    "#Filling in N/A \n",
    "movies['content_rating'] = movies['content_rating'].fillna('UNKNOWN')\n",
    "\n",
    "#Check to make sure they got filled in\n",
    "movies.loc[movies['content_rating'] == 'UNKNOWN', :]"
   ]
  },
  {
   "cell_type": "markdown",
   "metadata": {},
   "source": [
    "#### Calculate the average star rating for movies 2 hours or longer, and compare that with the average star rating for movies shorter than 2 hours."
   ]
  },
  {
   "cell_type": "code",
   "execution_count": 78,
   "metadata": {},
   "outputs": [
    {
     "data": {
      "text/html": [
       "<div>\n",
       "<style scoped>\n",
       "    .dataframe tbody tr th:only-of-type {\n",
       "        vertical-align: middle;\n",
       "    }\n",
       "\n",
       "    .dataframe tbody tr th {\n",
       "        vertical-align: top;\n",
       "    }\n",
       "\n",
       "    .dataframe thead th {\n",
       "        text-align: right;\n",
       "    }\n",
       "</style>\n",
       "<table border=\"1\" class=\"dataframe\">\n",
       "  <thead>\n",
       "    <tr style=\"text-align: right;\">\n",
       "      <th></th>\n",
       "      <th>star_rating</th>\n",
       "      <th>title</th>\n",
       "      <th>content_rating</th>\n",
       "      <th>genre</th>\n",
       "      <th>duration</th>\n",
       "      <th>actors_list</th>\n",
       "      <th>length</th>\n",
       "    </tr>\n",
       "  </thead>\n",
       "  <tbody>\n",
       "    <tr>\n",
       "      <th>0</th>\n",
       "      <td>9.3</td>\n",
       "      <td>The Shawshank Redemption</td>\n",
       "      <td>R</td>\n",
       "      <td>Crime</td>\n",
       "      <td>142</td>\n",
       "      <td>[u'Tim Robbins', u'Morgan Freeman', u'Bob Gunt...</td>\n",
       "      <td>2 hours or more</td>\n",
       "    </tr>\n",
       "    <tr>\n",
       "      <th>1</th>\n",
       "      <td>9.2</td>\n",
       "      <td>The Godfather</td>\n",
       "      <td>R</td>\n",
       "      <td>Crime</td>\n",
       "      <td>175</td>\n",
       "      <td>[u'Marlon Brando', u'Al Pacino', u'James Caan']</td>\n",
       "      <td>2 hours or more</td>\n",
       "    </tr>\n",
       "    <tr>\n",
       "      <th>2</th>\n",
       "      <td>9.1</td>\n",
       "      <td>The Godfather: Part II</td>\n",
       "      <td>R</td>\n",
       "      <td>Crime</td>\n",
       "      <td>200</td>\n",
       "      <td>[u'Al Pacino', u'Robert De Niro', u'Robert Duv...</td>\n",
       "      <td>2 hours or more</td>\n",
       "    </tr>\n",
       "    <tr>\n",
       "      <th>3</th>\n",
       "      <td>9.0</td>\n",
       "      <td>The Dark Knight</td>\n",
       "      <td>PG-13</td>\n",
       "      <td>Action</td>\n",
       "      <td>152</td>\n",
       "      <td>[u'Christian Bale', u'Heath Ledger', u'Aaron E...</td>\n",
       "      <td>2 hours or more</td>\n",
       "    </tr>\n",
       "    <tr>\n",
       "      <th>4</th>\n",
       "      <td>8.9</td>\n",
       "      <td>Pulp Fiction</td>\n",
       "      <td>R</td>\n",
       "      <td>Crime</td>\n",
       "      <td>154</td>\n",
       "      <td>[u'John Travolta', u'Uma Thurman', u'Samuel L....</td>\n",
       "      <td>2 hours or more</td>\n",
       "    </tr>\n",
       "  </tbody>\n",
       "</table>\n",
       "</div>"
      ],
      "text/plain": [
       "   star_rating                     title content_rating   genre  duration  \\\n",
       "0          9.3  The Shawshank Redemption              R   Crime       142   \n",
       "1          9.2             The Godfather              R   Crime       175   \n",
       "2          9.1    The Godfather: Part II              R   Crime       200   \n",
       "3          9.0           The Dark Knight          PG-13  Action       152   \n",
       "4          8.9              Pulp Fiction              R   Crime       154   \n",
       "\n",
       "                                         actors_list           length  \n",
       "0  [u'Tim Robbins', u'Morgan Freeman', u'Bob Gunt...  2 hours or more  \n",
       "1    [u'Marlon Brando', u'Al Pacino', u'James Caan']  2 hours or more  \n",
       "2  [u'Al Pacino', u'Robert De Niro', u'Robert Duv...  2 hours or more  \n",
       "3  [u'Christian Bale', u'Heath Ledger', u'Aaron E...  2 hours or more  \n",
       "4  [u'John Travolta', u'Uma Thurman', u'Samuel L....  2 hours or more  "
      ]
     },
     "execution_count": 78,
     "metadata": {},
     "output_type": "execute_result"
    }
   ],
   "source": [
    "# Answer:\n",
    "# Create a column called length to indicate whether the movies is '2 hours or more' or 'Less than 2 hours' \n",
    "movies['length'] = np.where(movies['duration'] >= 120, '2 hours or more', 'Less than 2 hours')\n",
    "movies.head()"
   ]
  },
  {
   "cell_type": "code",
   "execution_count": 79,
   "metadata": {},
   "outputs": [
    {
     "data": {
      "text/plain": [
       "length\n",
       "2 hours or more      7.948899\n",
       "Less than 2 hours    7.838667\n",
       "Name: star_rating, dtype: float64"
      ]
     },
     "execution_count": 79,
     "metadata": {},
     "output_type": "execute_result"
    }
   ],
   "source": [
    "# calculate the avergae star rating, grouped by 'length' column (created in cell above)\n",
    "movies.groupby('length')['star_rating'].mean()"
   ]
  },
  {
   "cell_type": "markdown",
   "metadata": {},
   "source": [
    "#### Use a visualization to detect whether there is a relationship between duration and star rating."
   ]
  },
  {
   "cell_type": "code",
   "execution_count": 80,
   "metadata": {},
   "outputs": [
    {
     "data": {
      "application/vnd.plotly.v1+json": {
       "config": {
        "plotlyServerURL": "https://plot.ly"
       },
       "data": [
        {
         "hovertemplate": "duration=%{x}<br>star_rating=%{y}<extra></extra>",
         "legendgroup": "",
         "marker": {
          "color": "#636efa",
          "symbol": "circle"
         },
         "mode": "markers",
         "name": "",
         "orientation": "v",
         "showlegend": false,
         "type": "scatter",
         "x": [
          142,
          175,
          200,
          152,
          154,
          96,
          161,
          201,
          195,
          139,
          178,
          148,
          124,
          142,
          179,
          169,
          133,
          207,
          146,
          121,
          136,
          130,
          130,
          106,
          127,
          116,
          175,
          118,
          110,
          87,
          125,
          112,
          102,
          107,
          119,
          87,
          169,
          115,
          112,
          109,
          189,
          110,
          150,
          165,
          155,
          137,
          113,
          165,
          95,
          151,
          155,
          153,
          125,
          130,
          116,
          89,
          137,
          117,
          88,
          165,
          170,
          89,
          146,
          99,
          98,
          116,
          156,
          122,
          149,
          134,
          122,
          136,
          157,
          123,
          119,
          137,
          128,
          120,
          229,
          107,
          134,
          103,
          177,
          129,
          102,
          216,
          136,
          93,
          68,
          189,
          99,
          108,
          113,
          181,
          103,
          138,
          110,
          129,
          88,
          160,
          126,
          91,
          116,
          125,
          143,
          93,
          102,
          132,
          153,
          183,
          160,
          120,
          138,
          140,
          153,
          170,
          129,
          81,
          127,
          131,
          172,
          115,
          108,
          107,
          129,
          156,
          96,
          91,
          95,
          162,
          130,
          86,
          186,
          151,
          96,
          170,
          118,
          161,
          131,
          126,
          131,
          129,
          224,
          180,
          105,
          117,
          140,
          119,
          124,
          130,
          139,
          107,
          132,
          117,
          126,
          122,
          178,
          238,
          149,
          172,
          98,
          116,
          116,
          123,
          148,
          123,
          182,
          92,
          93,
          100,
          135,
          105,
          94,
          140,
          83,
          95,
          98,
          143,
          99,
          98,
          121,
          163,
          121,
          167,
          188,
          121,
          109,
          110,
          129,
          127,
          94,
          107,
          100,
          117,
          129,
          120,
          121,
          133,
          111,
          122,
          101,
          134,
          165,
          138,
          212,
          154,
          89,
          134,
          93,
          114,
          88,
          130,
          101,
          158,
          99,
          108,
          124,
          132,
          113,
          131,
          191,
          167,
          130,
          147,
          102,
          88,
          165,
          132,
          118,
          101,
          108,
          174,
          98,
          92,
          98,
          106,
          85,
          101,
          105,
          115,
          115,
          124,
          105,
          103,
          138,
          184,
          120,
          99,
          131,
          138,
          98,
          123,
          118,
          114,
          118,
          112,
          124,
          160,
          67,
          146,
          125,
          115,
          134,
          141,
          129,
          104,
          94,
          124,
          150,
          119,
          128,
          143,
          85,
          151,
          118,
          101,
          99,
          92,
          125,
          102,
          106,
          107,
          91,
          80,
          122,
          102,
          112,
          92,
          135,
          136,
          153,
          105,
          126,
          68,
          84,
          103,
          145,
          80,
          106,
          127,
          178,
          137,
          172,
          76,
          130,
          96,
          82,
          115,
          95,
          143,
          125,
          120,
          127,
          112,
          104,
          113,
          189,
          127,
          188,
          96,
          113,
          132,
          122,
          126,
          140,
          133,
          112,
          102,
          93,
          109,
          81,
          108,
          111,
          119,
          96,
          197,
          127,
          138,
          66,
          181,
          141,
          144,
          128,
          83,
          121,
          98,
          117,
          94,
          174,
          112,
          108,
          70,
          99,
          96,
          137,
          136,
          100,
          90,
          96,
          161,
          115,
          181,
          169,
          98,
          136,
          138,
          119,
          123,
          112,
          120,
          103,
          97,
          109,
          165,
          156,
          147,
          100,
          126,
          115,
          105,
          144,
          102,
          107,
          119,
          90,
          197,
          86,
          113,
          133,
          64,
          141,
          113,
          122,
          105,
          119,
          102,
          122,
          123,
          113,
          97,
          117,
          111,
          85,
          99,
          134,
          75,
          109,
          117,
          91,
          128,
          111,
          119,
          100,
          114,
          92,
          141,
          101,
          115,
          127,
          96,
          129,
          135,
          109,
          157,
          193,
          94,
          155,
          113,
          130,
          117,
          159,
          141,
          112,
          162,
          126,
          120,
          144,
          120,
          109,
          97,
          108,
          115,
          136,
          90,
          170,
          220,
          116,
          134,
          124,
          91,
          103,
          96,
          119,
          98,
          101,
          93,
          179,
          155,
          121,
          103,
          127,
          103,
          107,
          100,
          92,
          94,
          158,
          86,
          115,
          130,
          107,
          100,
          108,
          124,
          131,
          122,
          242,
          127,
          141,
          126,
          89,
          113,
          152,
          107,
          92,
          145,
          84,
          126,
          132,
          78,
          117,
          128,
          100,
          128,
          100,
          143,
          107,
          100,
          125,
          106,
          157,
          94,
          104,
          94,
          153,
          123,
          120,
          105,
          166,
          112,
          94,
          111,
          87,
          80,
          108,
          102,
          105,
          136,
          101,
          100,
          108,
          101,
          106,
          105,
          88,
          129,
          138,
          129,
          118,
          139,
          123,
          150,
          132,
          80,
          178,
          79,
          163,
          114,
          144,
          130,
          154,
          81,
          95,
          101,
          120,
          93,
          115,
          106,
          120,
          110,
          123,
          142,
          99,
          112,
          120,
          122,
          130,
          139,
          129,
          141,
          127,
          130,
          118,
          110,
          115,
          101,
          112,
          108,
          143,
          152,
          117,
          121,
          119,
          114,
          122,
          105,
          110,
          116,
          139,
          121,
          109,
          146,
          113,
          100,
          121,
          113,
          113,
          117,
          93,
          101,
          90,
          131,
          98,
          93,
          121,
          82,
          124,
          100,
          117,
          99,
          116,
          123,
          114,
          133,
          105,
          127,
          144,
          90,
          118,
          122,
          102,
          187,
          87,
          154,
          89,
          88,
          129,
          95,
          118,
          98,
          194,
          114,
          80,
          130,
          135,
          101,
          105,
          129,
          134,
          143,
          202,
          89,
          106,
          92,
          137,
          124,
          122,
          113,
          112,
          110,
          135,
          88,
          146,
          104,
          125,
          131,
          91,
          142,
          129,
          158,
          102,
          99,
          101,
          104,
          119,
          103,
          88,
          100,
          146,
          150,
          140,
          140,
          110,
          97,
          102,
          152,
          100,
          94,
          85,
          104,
          112,
          191,
          119,
          111,
          94,
          103,
          134,
          157,
          158,
          127,
          101,
          109,
          98,
          134,
          168,
          93,
          145,
          111,
          88,
          123,
          121,
          144,
          116,
          124,
          147,
          106,
          113,
          129,
          94,
          126,
          128,
          111,
          146,
          85,
          105,
          132,
          130,
          162,
          113,
          110,
          113,
          162,
          110,
          78,
          92,
          95,
          138,
          102,
          128,
          96,
          164,
          126,
          110,
          109,
          122,
          124,
          128,
          157,
          120,
          102,
          152,
          170,
          102,
          116,
          164,
          85,
          104,
          99,
          81,
          131,
          101,
          121,
          69,
          92,
          94,
          141,
          116,
          98,
          135,
          121,
          108,
          114,
          102,
          112,
          140,
          157,
          128,
          108,
          139,
          83,
          131,
          113,
          136,
          96,
          118,
          108,
          83,
          205,
          124,
          111,
          137,
          104,
          109,
          115,
          99,
          114,
          133,
          131,
          131,
          123,
          126,
          97,
          126,
          89,
          122,
          121,
          125,
          105,
          118,
          81,
          115,
          126,
          113,
          107,
          126,
          111,
          85,
          120,
          93,
          100,
          107,
          126,
          131,
          116,
          143,
          93,
          96,
          160,
          137,
          119,
          114,
          98,
          111,
          138,
          144,
          107,
          114,
          125,
          146,
          113,
          85,
          97,
          93,
          113,
          128,
          114,
          147,
          127,
          167,
          124,
          109,
          124,
          102,
          130,
          125,
          98,
          154,
          97,
          128,
          98,
          101,
          147,
          172,
          125,
          88,
          125,
          121,
          112,
          120,
          133,
          110,
          135,
          110,
          80,
          135,
          101,
          112,
          124,
          129,
          104,
          96,
          105,
          109,
          117,
          78,
          138,
          106,
          90,
          106,
          91,
          112,
          134,
          112,
          104,
          101,
          120,
          123,
          133,
          110,
          129,
          120,
          83,
          88,
          96,
          139,
          113,
          84,
          106,
          170,
          144,
          104,
          153,
          85,
          130,
          93,
          148,
          115,
          102,
          125,
          106,
          121,
          143,
          116,
          99,
          116,
          128,
          119,
          104,
          114,
          152,
          129,
          103,
          112,
          92,
          141,
          106,
          109,
          104,
          122,
          111,
          112,
          116,
          130,
          133,
          134,
          92,
          104,
          110,
          97,
          100,
          118,
          112,
          138,
          92,
          118,
          140,
          128,
          101,
          75,
          97,
          111,
          175,
          94,
          97,
          132,
          120,
          107,
          89,
          86,
          103,
          108,
          105,
          117,
          102,
          104,
          157,
          104,
          98,
          109,
          96,
          103,
          114,
          99,
          118,
          150,
          105,
          87,
          136,
          162,
          109,
          107,
          90,
          112,
          126,
          116,
          118,
          138,
          114,
          126
         ],
         "xaxis": "x",
         "y": [
          9.3,
          9.2,
          9.1,
          9,
          8.9,
          8.9,
          8.9,
          8.9,
          8.9,
          8.9,
          8.8,
          8.8,
          8.8,
          8.8,
          8.8,
          8.7,
          8.7,
          8.7,
          8.7,
          8.7,
          8.7,
          8.7,
          8.7,
          8.7,
          8.7,
          8.6,
          8.6,
          8.6,
          8.6,
          8.6,
          8.6,
          8.6,
          8.6,
          8.6,
          8.6,
          8.6,
          8.6,
          8.6,
          8.6,
          8.6,
          8.5,
          8.5,
          8.5,
          8.5,
          8.5,
          8.5,
          8.5,
          8.5,
          8.5,
          8.5,
          8.5,
          8.5,
          8.5,
          8.5,
          8.5,
          8.5,
          8.5,
          8.5,
          8.5,
          8.5,
          8.5,
          8.5,
          8.5,
          8.4,
          8.4,
          8.4,
          8.4,
          8.4,
          8.4,
          8.4,
          8.4,
          8.4,
          8.4,
          8.4,
          8.4,
          8.4,
          8.4,
          8.4,
          8.4,
          8.4,
          8.4,
          8.4,
          8.4,
          8.4,
          8.4,
          8.4,
          8.4,
          8.4,
          8.4,
          8.4,
          8.4,
          8.4,
          8.4,
          8.4,
          8.4,
          8.4,
          8.4,
          8.4,
          8.4,
          8.4,
          8.3,
          8.3,
          8.3,
          8.3,
          8.3,
          8.3,
          8.3,
          8.3,
          8.3,
          8.3,
          8.3,
          8.3,
          8.3,
          8.3,
          8.3,
          8.3,
          8.3,
          8.3,
          8.3,
          8.3,
          8.3,
          8.3,
          8.3,
          8.3,
          8.3,
          8.3,
          8.3,
          8.3,
          8.3,
          8.3,
          8.3,
          8.3,
          8.3,
          8.3,
          8.3,
          8.3,
          8.3,
          8.3,
          8.3,
          8.3,
          8.3,
          8.3,
          8.3,
          8.2,
          8.2,
          8.2,
          8.2,
          8.2,
          8.2,
          8.2,
          8.2,
          8.2,
          8.2,
          8.2,
          8.2,
          8.2,
          8.2,
          8.2,
          8.2,
          8.2,
          8.2,
          8.2,
          8.2,
          8.2,
          8.2,
          8.2,
          8.2,
          8.2,
          8.2,
          8.2,
          8.2,
          8.2,
          8.2,
          8.2,
          8.2,
          8.2,
          8.2,
          8.2,
          8.2,
          8.2,
          8.2,
          8.2,
          8.2,
          8.2,
          8.2,
          8.2,
          8.2,
          8.2,
          8.2,
          8.2,
          8.2,
          8.2,
          8.2,
          8.2,
          8.1,
          8.1,
          8.1,
          8.1,
          8.1,
          8.1,
          8.1,
          8.1,
          8.1,
          8.1,
          8.1,
          8.1,
          8.1,
          8.1,
          8.1,
          8.1,
          8.1,
          8.1,
          8.1,
          8.1,
          8.1,
          8.1,
          8.1,
          8.1,
          8.1,
          8.1,
          8.1,
          8.1,
          8.1,
          8.1,
          8.1,
          8.1,
          8.1,
          8.1,
          8.1,
          8.1,
          8.1,
          8.1,
          8.1,
          8.1,
          8.1,
          8.1,
          8.1,
          8.1,
          8.1,
          8.1,
          8.1,
          8.1,
          8.1,
          8.1,
          8.1,
          8.1,
          8.1,
          8.1,
          8.1,
          8.1,
          8.1,
          8.1,
          8.1,
          8.1,
          8.1,
          8.1,
          8.1,
          8.1,
          8.1,
          8.1,
          8.1,
          8.1,
          8.1,
          8.1,
          8.1,
          8.1,
          8.1,
          8.1,
          8.1,
          8.1,
          8.1,
          8.1,
          8.1,
          8.1,
          8.1,
          8.1,
          8.1,
          8.1,
          8.1,
          8.1,
          8.1,
          8.1,
          8.1,
          8.1,
          8.1,
          8.1,
          8.1,
          8.1,
          8.1,
          8.1,
          8.1,
          8.1,
          8.1,
          8.1,
          8.1,
          8.1,
          8.1,
          8,
          8,
          8,
          8,
          8,
          8,
          8,
          8,
          8,
          8,
          8,
          8,
          8,
          8,
          8,
          8,
          8,
          8,
          8,
          8,
          8,
          8,
          8,
          8,
          8,
          8,
          8,
          8,
          8,
          8,
          8,
          8,
          8,
          8,
          8,
          8,
          8,
          8,
          8,
          8,
          8,
          8,
          8,
          8,
          8,
          8,
          8,
          8,
          8,
          8,
          8,
          8,
          8,
          8,
          8,
          8,
          8,
          8,
          8,
          8,
          8,
          8,
          8,
          8,
          8,
          8,
          8,
          8,
          8,
          8,
          8,
          8,
          8,
          8,
          8,
          8,
          8,
          8,
          8,
          8,
          8,
          8,
          8,
          8,
          8,
          8,
          8,
          8,
          8,
          8,
          8,
          8,
          8,
          8,
          8,
          8,
          8,
          7.9,
          7.9,
          7.9,
          7.9,
          7.9,
          7.9,
          7.9,
          7.9,
          7.9,
          7.9,
          7.9,
          7.9,
          7.9,
          7.9,
          7.9,
          7.9,
          7.9,
          7.9,
          7.9,
          7.9,
          7.9,
          7.9,
          7.9,
          7.9,
          7.9,
          7.9,
          7.9,
          7.9,
          7.9,
          7.9,
          7.9,
          7.9,
          7.9,
          7.9,
          7.9,
          7.9,
          7.9,
          7.9,
          7.9,
          7.9,
          7.9,
          7.9,
          7.9,
          7.9,
          7.9,
          7.9,
          7.9,
          7.9,
          7.9,
          7.9,
          7.9,
          7.9,
          7.9,
          7.9,
          7.9,
          7.9,
          7.9,
          7.9,
          7.9,
          7.9,
          7.9,
          7.9,
          7.9,
          7.9,
          7.9,
          7.9,
          7.9,
          7.9,
          7.9,
          7.9,
          7.9,
          7.9,
          7.9,
          7.9,
          7.9,
          7.8,
          7.8,
          7.8,
          7.8,
          7.8,
          7.8,
          7.8,
          7.8,
          7.8,
          7.8,
          7.8,
          7.8,
          7.8,
          7.8,
          7.8,
          7.8,
          7.8,
          7.8,
          7.8,
          7.8,
          7.8,
          7.8,
          7.8,
          7.8,
          7.8,
          7.8,
          7.8,
          7.8,
          7.8,
          7.8,
          7.8,
          7.8,
          7.8,
          7.8,
          7.8,
          7.8,
          7.8,
          7.8,
          7.8,
          7.8,
          7.8,
          7.8,
          7.8,
          7.8,
          7.8,
          7.8,
          7.8,
          7.8,
          7.8,
          7.8,
          7.8,
          7.8,
          7.8,
          7.8,
          7.8,
          7.8,
          7.8,
          7.8,
          7.8,
          7.8,
          7.8,
          7.8,
          7.8,
          7.8,
          7.8,
          7.8,
          7.8,
          7.8,
          7.8,
          7.8,
          7.8,
          7.8,
          7.8,
          7.8,
          7.8,
          7.8,
          7.8,
          7.8,
          7.8,
          7.8,
          7.8,
          7.8,
          7.8,
          7.8,
          7.8,
          7.8,
          7.8,
          7.8,
          7.8,
          7.8,
          7.8,
          7.8,
          7.8,
          7.8,
          7.8,
          7.8,
          7.8,
          7.8,
          7.8,
          7.8,
          7.8,
          7.8,
          7.8,
          7.8,
          7.8,
          7.8,
          7.8,
          7.8,
          7.8,
          7.8,
          7.8,
          7.8,
          7.8,
          7.8,
          7.8,
          7.8,
          7.7,
          7.7,
          7.7,
          7.7,
          7.7,
          7.7,
          7.7,
          7.7,
          7.7,
          7.7,
          7.7,
          7.7,
          7.7,
          7.7,
          7.7,
          7.7,
          7.7,
          7.7,
          7.7,
          7.7,
          7.7,
          7.7,
          7.7,
          7.7,
          7.7,
          7.7,
          7.7,
          7.7,
          7.7,
          7.7,
          7.7,
          7.7,
          7.7,
          7.7,
          7.7,
          7.7,
          7.7,
          7.7,
          7.7,
          7.7,
          7.7,
          7.7,
          7.7,
          7.7,
          7.7,
          7.7,
          7.7,
          7.7,
          7.7,
          7.7,
          7.7,
          7.7,
          7.7,
          7.7,
          7.7,
          7.7,
          7.7,
          7.7,
          7.7,
          7.7,
          7.7,
          7.7,
          7.7,
          7.7,
          7.7,
          7.7,
          7.7,
          7.7,
          7.7,
          7.7,
          7.7,
          7.7,
          7.7,
          7.7,
          7.7,
          7.7,
          7.7,
          7.7,
          7.7,
          7.7,
          7.7,
          7.7,
          7.7,
          7.7,
          7.7,
          7.7,
          7.7,
          7.7,
          7.7,
          7.7,
          7.7,
          7.7,
          7.7,
          7.7,
          7.7,
          7.7,
          7.7,
          7.7,
          7.7,
          7.7,
          7.7,
          7.7,
          7.7,
          7.7,
          7.7,
          7.7,
          7.7,
          7.7,
          7.7,
          7.7,
          7.7,
          7.7,
          7.7,
          7.6,
          7.6,
          7.6,
          7.6,
          7.6,
          7.6,
          7.6,
          7.6,
          7.6,
          7.6,
          7.6,
          7.6,
          7.6,
          7.6,
          7.6,
          7.6,
          7.6,
          7.6,
          7.6,
          7.6,
          7.6,
          7.6,
          7.6,
          7.6,
          7.6,
          7.6,
          7.6,
          7.6,
          7.6,
          7.6,
          7.6,
          7.6,
          7.6,
          7.6,
          7.6,
          7.6,
          7.6,
          7.6,
          7.6,
          7.6,
          7.6,
          7.6,
          7.6,
          7.6,
          7.6,
          7.6,
          7.6,
          7.6,
          7.6,
          7.6,
          7.6,
          7.6,
          7.6,
          7.6,
          7.6,
          7.6,
          7.6,
          7.6,
          7.6,
          7.6,
          7.6,
          7.6,
          7.6,
          7.6,
          7.6,
          7.6,
          7.6,
          7.6,
          7.6,
          7.6,
          7.6,
          7.6,
          7.6,
          7.6,
          7.6,
          7.6,
          7.6,
          7.6,
          7.6,
          7.6,
          7.6,
          7.6,
          7.6,
          7.6,
          7.6,
          7.6,
          7.6,
          7.6,
          7.6,
          7.6,
          7.6,
          7.6,
          7.6,
          7.6,
          7.6,
          7.6,
          7.6,
          7.6,
          7.6,
          7.6,
          7.6,
          7.6,
          7.6,
          7.6,
          7.6,
          7.6,
          7.6,
          7.6,
          7.6,
          7.6,
          7.6,
          7.6,
          7.6,
          7.6,
          7.6,
          7.6,
          7.6,
          7.6,
          7.6,
          7.6,
          7.6,
          7.6,
          7.6,
          7.6,
          7.5,
          7.5,
          7.5,
          7.5,
          7.5,
          7.5,
          7.5,
          7.5,
          7.5,
          7.5,
          7.5,
          7.5,
          7.5,
          7.5,
          7.5,
          7.5,
          7.5,
          7.5,
          7.5,
          7.5,
          7.5,
          7.5,
          7.5,
          7.5,
          7.5,
          7.5,
          7.5,
          7.5,
          7.5,
          7.5,
          7.5,
          7.5,
          7.5,
          7.5,
          7.5,
          7.5,
          7.5,
          7.5,
          7.5,
          7.5,
          7.5,
          7.5,
          7.5,
          7.5,
          7.5,
          7.5,
          7.5,
          7.5,
          7.5,
          7.5,
          7.5,
          7.5,
          7.5,
          7.5,
          7.5,
          7.5,
          7.5,
          7.5,
          7.5,
          7.5,
          7.5,
          7.5,
          7.5,
          7.5,
          7.5,
          7.5,
          7.5,
          7.5,
          7.5,
          7.5,
          7.5,
          7.5,
          7.5,
          7.5,
          7.5,
          7.5,
          7.5,
          7.5,
          7.5,
          7.5,
          7.5,
          7.5,
          7.5,
          7.5,
          7.5,
          7.5,
          7.5,
          7.5,
          7.5,
          7.5,
          7.5,
          7.5,
          7.5,
          7.5,
          7.5,
          7.5,
          7.5,
          7.5,
          7.5,
          7.5,
          7.5,
          7.5,
          7.5,
          7.5,
          7.5,
          7.5,
          7.5,
          7.5,
          7.4,
          7.4,
          7.4,
          7.4,
          7.4,
          7.4,
          7.4,
          7.4,
          7.4,
          7.4,
          7.4,
          7.4,
          7.4,
          7.4,
          7.4,
          7.4,
          7.4,
          7.4,
          7.4,
          7.4,
          7.4,
          7.4,
          7.4,
          7.4,
          7.4,
          7.4,
          7.4,
          7.4,
          7.4,
          7.4,
          7.4,
          7.4,
          7.4,
          7.4,
          7.4,
          7.4,
          7.4,
          7.4,
          7.4,
          7.4,
          7.4,
          7.4,
          7.4,
          7.4,
          7.4,
          7.4,
          7.4,
          7.4,
          7.4
         ],
         "yaxis": "y"
        },
        {
         "hovertemplate": "<b>OLS trendline</b><br>star_rating = 0.00291166 * duration + 7.53753<br>R<sup>2</sup>=0.051597<br><br>duration=%{x}<br>star_rating=%{y} <b>(trend)</b><extra></extra>",
         "legendgroup": "",
         "marker": {
          "color": "#636efa",
          "symbol": "circle"
         },
         "mode": "lines",
         "name": "",
         "showlegend": false,
         "type": "scatter",
         "x": [
          64,
          66,
          67,
          68,
          68,
          69,
          70,
          75,
          75,
          76,
          78,
          78,
          78,
          79,
          80,
          80,
          80,
          80,
          80,
          80,
          81,
          81,
          81,
          81,
          81,
          82,
          82,
          83,
          83,
          83,
          83,
          83,
          84,
          84,
          84,
          85,
          85,
          85,
          85,
          85,
          85,
          85,
          85,
          85,
          86,
          86,
          86,
          86,
          87,
          87,
          87,
          87,
          87,
          88,
          88,
          88,
          88,
          88,
          88,
          88,
          88,
          88,
          88,
          88,
          89,
          89,
          89,
          89,
          89,
          89,
          89,
          89,
          90,
          90,
          90,
          90,
          90,
          90,
          90,
          91,
          91,
          91,
          91,
          91,
          91,
          91,
          92,
          92,
          92,
          92,
          92,
          92,
          92,
          92,
          92,
          92,
          92,
          92,
          92,
          93,
          93,
          93,
          93,
          93,
          93,
          93,
          93,
          93,
          93,
          93,
          93,
          93,
          93,
          94,
          94,
          94,
          94,
          94,
          94,
          94,
          94,
          94,
          94,
          94,
          94,
          94,
          94,
          95,
          95,
          95,
          95,
          95,
          95,
          95,
          96,
          96,
          96,
          96,
          96,
          96,
          96,
          96,
          96,
          96,
          96,
          96,
          96,
          96,
          96,
          96,
          97,
          97,
          97,
          97,
          97,
          97,
          97,
          97,
          97,
          97,
          98,
          98,
          98,
          98,
          98,
          98,
          98,
          98,
          98,
          98,
          98,
          98,
          98,
          98,
          98,
          98,
          98,
          98,
          99,
          99,
          99,
          99,
          99,
          99,
          99,
          99,
          99,
          99,
          99,
          99,
          99,
          99,
          99,
          100,
          100,
          100,
          100,
          100,
          100,
          100,
          100,
          100,
          100,
          100,
          100,
          100,
          100,
          100,
          100,
          100,
          101,
          101,
          101,
          101,
          101,
          101,
          101,
          101,
          101,
          101,
          101,
          101,
          101,
          101,
          101,
          101,
          101,
          101,
          101,
          101,
          102,
          102,
          102,
          102,
          102,
          102,
          102,
          102,
          102,
          102,
          102,
          102,
          102,
          102,
          102,
          102,
          102,
          102,
          102,
          102,
          103,
          103,
          103,
          103,
          103,
          103,
          103,
          103,
          103,
          103,
          103,
          103,
          103,
          104,
          104,
          104,
          104,
          104,
          104,
          104,
          104,
          104,
          104,
          104,
          104,
          104,
          104,
          104,
          104,
          105,
          105,
          105,
          105,
          105,
          105,
          105,
          105,
          105,
          105,
          105,
          105,
          105,
          105,
          105,
          105,
          105,
          105,
          106,
          106,
          106,
          106,
          106,
          106,
          106,
          106,
          106,
          106,
          106,
          106,
          106,
          106,
          107,
          107,
          107,
          107,
          107,
          107,
          107,
          107,
          107,
          107,
          107,
          107,
          107,
          107,
          107,
          107,
          108,
          108,
          108,
          108,
          108,
          108,
          108,
          108,
          108,
          108,
          108,
          108,
          108,
          108,
          108,
          109,
          109,
          109,
          109,
          109,
          109,
          109,
          109,
          109,
          109,
          109,
          109,
          109,
          109,
          109,
          109,
          110,
          110,
          110,
          110,
          110,
          110,
          110,
          110,
          110,
          110,
          110,
          110,
          110,
          110,
          110,
          110,
          111,
          111,
          111,
          111,
          111,
          111,
          111,
          111,
          111,
          111,
          111,
          111,
          111,
          112,
          112,
          112,
          112,
          112,
          112,
          112,
          112,
          112,
          112,
          112,
          112,
          112,
          112,
          112,
          112,
          112,
          112,
          112,
          112,
          112,
          112,
          112,
          113,
          113,
          113,
          113,
          113,
          113,
          113,
          113,
          113,
          113,
          113,
          113,
          113,
          113,
          113,
          113,
          113,
          113,
          113,
          113,
          113,
          113,
          114,
          114,
          114,
          114,
          114,
          114,
          114,
          114,
          114,
          114,
          114,
          114,
          114,
          114,
          114,
          115,
          115,
          115,
          115,
          115,
          115,
          115,
          115,
          115,
          115,
          115,
          115,
          115,
          115,
          115,
          115,
          116,
          116,
          116,
          116,
          116,
          116,
          116,
          116,
          116,
          116,
          116,
          116,
          116,
          116,
          116,
          116,
          116,
          117,
          117,
          117,
          117,
          117,
          117,
          117,
          117,
          117,
          117,
          117,
          117,
          117,
          117,
          118,
          118,
          118,
          118,
          118,
          118,
          118,
          118,
          118,
          118,
          118,
          118,
          118,
          118,
          118,
          118,
          119,
          119,
          119,
          119,
          119,
          119,
          119,
          119,
          119,
          119,
          119,
          119,
          119,
          119,
          119,
          120,
          120,
          120,
          120,
          120,
          120,
          120,
          120,
          120,
          120,
          120,
          120,
          120,
          120,
          120,
          120,
          120,
          120,
          121,
          121,
          121,
          121,
          121,
          121,
          121,
          121,
          121,
          121,
          121,
          121,
          121,
          121,
          121,
          121,
          121,
          122,
          122,
          122,
          122,
          122,
          122,
          122,
          122,
          122,
          122,
          122,
          122,
          122,
          122,
          122,
          122,
          123,
          123,
          123,
          123,
          123,
          123,
          123,
          123,
          123,
          123,
          123,
          123,
          123,
          124,
          124,
          124,
          124,
          124,
          124,
          124,
          124,
          124,
          124,
          124,
          124,
          124,
          124,
          124,
          124,
          125,
          125,
          125,
          125,
          125,
          125,
          125,
          125,
          125,
          125,
          125,
          125,
          125,
          125,
          126,
          126,
          126,
          126,
          126,
          126,
          126,
          126,
          126,
          126,
          126,
          126,
          126,
          126,
          126,
          126,
          126,
          126,
          127,
          127,
          127,
          127,
          127,
          127,
          127,
          127,
          127,
          127,
          127,
          127,
          127,
          127,
          128,
          128,
          128,
          128,
          128,
          128,
          128,
          128,
          128,
          128,
          128,
          128,
          128,
          128,
          129,
          129,
          129,
          129,
          129,
          129,
          129,
          129,
          129,
          129,
          129,
          129,
          129,
          129,
          129,
          129,
          129,
          129,
          129,
          130,
          130,
          130,
          130,
          130,
          130,
          130,
          130,
          130,
          130,
          130,
          130,
          130,
          130,
          130,
          130,
          130,
          130,
          131,
          131,
          131,
          131,
          131,
          131,
          131,
          131,
          131,
          131,
          131,
          131,
          131,
          132,
          132,
          132,
          132,
          132,
          132,
          132,
          132,
          132,
          133,
          133,
          133,
          133,
          133,
          133,
          133,
          133,
          133,
          134,
          134,
          134,
          134,
          134,
          134,
          134,
          134,
          134,
          134,
          134,
          134,
          135,
          135,
          135,
          135,
          135,
          135,
          135,
          135,
          136,
          136,
          136,
          136,
          136,
          136,
          136,
          136,
          136,
          136,
          137,
          137,
          137,
          137,
          137,
          137,
          137,
          137,
          138,
          138,
          138,
          138,
          138,
          138,
          138,
          138,
          138,
          138,
          138,
          138,
          138,
          139,
          139,
          139,
          139,
          139,
          139,
          139,
          140,
          140,
          140,
          140,
          140,
          140,
          140,
          140,
          141,
          141,
          141,
          141,
          141,
          141,
          141,
          141,
          141,
          142,
          142,
          142,
          142,
          143,
          143,
          143,
          143,
          143,
          143,
          143,
          143,
          143,
          144,
          144,
          144,
          144,
          144,
          144,
          144,
          144,
          145,
          145,
          145,
          146,
          146,
          146,
          146,
          146,
          146,
          146,
          146,
          147,
          147,
          147,
          147,
          147,
          148,
          148,
          148,
          149,
          149,
          150,
          150,
          150,
          150,
          150,
          151,
          151,
          151,
          152,
          152,
          152,
          152,
          152,
          152,
          153,
          153,
          153,
          153,
          153,
          153,
          154,
          154,
          154,
          154,
          154,
          155,
          155,
          155,
          155,
          156,
          156,
          156,
          157,
          157,
          157,
          157,
          157,
          157,
          157,
          158,
          158,
          158,
          158,
          159,
          160,
          160,
          160,
          160,
          161,
          161,
          161,
          162,
          162,
          162,
          162,
          162,
          163,
          163,
          164,
          164,
          165,
          165,
          165,
          165,
          165,
          165,
          166,
          167,
          167,
          167,
          168,
          169,
          169,
          169,
          170,
          170,
          170,
          170,
          170,
          170,
          172,
          172,
          172,
          172,
          174,
          174,
          175,
          175,
          175,
          177,
          178,
          178,
          178,
          178,
          179,
          179,
          180,
          181,
          181,
          181,
          182,
          183,
          184,
          186,
          187,
          188,
          188,
          189,
          189,
          189,
          191,
          191,
          193,
          194,
          195,
          197,
          197,
          200,
          201,
          202,
          205,
          207,
          212,
          216,
          220,
          224,
          229,
          238,
          242
         ],
         "xaxis": "x",
         "y": [
          7.723880482781461,
          7.729703798392202,
          7.732615456197572,
          7.7355271140029425,
          7.7355271140029425,
          7.738438771808312,
          7.741350429613682,
          7.7559087186405336,
          7.7559087186405336,
          7.758820376445903,
          7.7646436920566435,
          7.7646436920566435,
          7.7646436920566435,
          7.767555349862014,
          7.770467007667384,
          7.770467007667384,
          7.770467007667384,
          7.770467007667384,
          7.770467007667384,
          7.770467007667384,
          7.773378665472754,
          7.773378665472754,
          7.773378665472754,
          7.773378665472754,
          7.773378665472754,
          7.776290323278124,
          7.776290323278124,
          7.779201981083494,
          7.779201981083494,
          7.779201981083494,
          7.779201981083494,
          7.779201981083494,
          7.782113638888864,
          7.782113638888864,
          7.782113638888864,
          7.785025296694235,
          7.785025296694235,
          7.785025296694235,
          7.785025296694235,
          7.785025296694235,
          7.785025296694235,
          7.785025296694235,
          7.785025296694235,
          7.785025296694235,
          7.787936954499605,
          7.787936954499605,
          7.787936954499605,
          7.787936954499605,
          7.790848612304975,
          7.790848612304975,
          7.790848612304975,
          7.790848612304975,
          7.790848612304975,
          7.7937602701103454,
          7.7937602701103454,
          7.7937602701103454,
          7.7937602701103454,
          7.7937602701103454,
          7.7937602701103454,
          7.7937602701103454,
          7.7937602701103454,
          7.7937602701103454,
          7.7937602701103454,
          7.7937602701103454,
          7.796671927915715,
          7.796671927915715,
          7.796671927915715,
          7.796671927915715,
          7.796671927915715,
          7.796671927915715,
          7.796671927915715,
          7.796671927915715,
          7.799583585721085,
          7.799583585721085,
          7.799583585721085,
          7.799583585721085,
          7.799583585721085,
          7.799583585721085,
          7.799583585721085,
          7.802495243526455,
          7.802495243526455,
          7.802495243526455,
          7.802495243526455,
          7.802495243526455,
          7.802495243526455,
          7.802495243526455,
          7.805406901331826,
          7.805406901331826,
          7.805406901331826,
          7.805406901331826,
          7.805406901331826,
          7.805406901331826,
          7.805406901331826,
          7.805406901331826,
          7.805406901331826,
          7.805406901331826,
          7.805406901331826,
          7.805406901331826,
          7.805406901331826,
          7.808318559137196,
          7.808318559137196,
          7.808318559137196,
          7.808318559137196,
          7.808318559137196,
          7.808318559137196,
          7.808318559137196,
          7.808318559137196,
          7.808318559137196,
          7.808318559137196,
          7.808318559137196,
          7.808318559137196,
          7.808318559137196,
          7.808318559137196,
          7.811230216942566,
          7.811230216942566,
          7.811230216942566,
          7.811230216942566,
          7.811230216942566,
          7.811230216942566,
          7.811230216942566,
          7.811230216942566,
          7.811230216942566,
          7.811230216942566,
          7.811230216942566,
          7.811230216942566,
          7.811230216942566,
          7.811230216942566,
          7.814141874747936,
          7.814141874747936,
          7.814141874747936,
          7.814141874747936,
          7.814141874747936,
          7.814141874747936,
          7.814141874747936,
          7.817053532553306,
          7.817053532553306,
          7.817053532553306,
          7.817053532553306,
          7.817053532553306,
          7.817053532553306,
          7.817053532553306,
          7.817053532553306,
          7.817053532553306,
          7.817053532553306,
          7.817053532553306,
          7.817053532553306,
          7.817053532553306,
          7.817053532553306,
          7.817053532553306,
          7.817053532553306,
          7.819965190358676,
          7.819965190358676,
          7.819965190358676,
          7.819965190358676,
          7.819965190358676,
          7.819965190358676,
          7.819965190358676,
          7.819965190358676,
          7.819965190358676,
          7.819965190358676,
          7.8228768481640465,
          7.8228768481640465,
          7.8228768481640465,
          7.8228768481640465,
          7.8228768481640465,
          7.8228768481640465,
          7.8228768481640465,
          7.8228768481640465,
          7.8228768481640465,
          7.8228768481640465,
          7.8228768481640465,
          7.8228768481640465,
          7.8228768481640465,
          7.8228768481640465,
          7.8228768481640465,
          7.8228768481640465,
          7.8228768481640465,
          7.8228768481640465,
          7.825788505969417,
          7.825788505969417,
          7.825788505969417,
          7.825788505969417,
          7.825788505969417,
          7.825788505969417,
          7.825788505969417,
          7.825788505969417,
          7.825788505969417,
          7.825788505969417,
          7.825788505969417,
          7.825788505969417,
          7.825788505969417,
          7.825788505969417,
          7.825788505969417,
          7.828700163774787,
          7.828700163774787,
          7.828700163774787,
          7.828700163774787,
          7.828700163774787,
          7.828700163774787,
          7.828700163774787,
          7.828700163774787,
          7.828700163774787,
          7.828700163774787,
          7.828700163774787,
          7.828700163774787,
          7.828700163774787,
          7.828700163774787,
          7.828700163774787,
          7.828700163774787,
          7.828700163774787,
          7.831611821580157,
          7.831611821580157,
          7.831611821580157,
          7.831611821580157,
          7.831611821580157,
          7.831611821580157,
          7.831611821580157,
          7.831611821580157,
          7.831611821580157,
          7.831611821580157,
          7.831611821580157,
          7.831611821580157,
          7.831611821580157,
          7.831611821580157,
          7.831611821580157,
          7.831611821580157,
          7.831611821580157,
          7.831611821580157,
          7.831611821580157,
          7.831611821580157,
          7.834523479385527,
          7.834523479385527,
          7.834523479385527,
          7.834523479385527,
          7.834523479385527,
          7.834523479385527,
          7.834523479385527,
          7.834523479385527,
          7.834523479385527,
          7.834523479385527,
          7.834523479385527,
          7.834523479385527,
          7.834523479385527,
          7.834523479385527,
          7.834523479385527,
          7.834523479385527,
          7.834523479385527,
          7.834523479385527,
          7.834523479385527,
          7.834523479385527,
          7.837435137190897,
          7.837435137190897,
          7.837435137190897,
          7.837435137190897,
          7.837435137190897,
          7.837435137190897,
          7.837435137190897,
          7.837435137190897,
          7.837435137190897,
          7.837435137190897,
          7.837435137190897,
          7.837435137190897,
          7.837435137190897,
          7.840346794996267,
          7.840346794996267,
          7.840346794996267,
          7.840346794996267,
          7.840346794996267,
          7.840346794996267,
          7.840346794996267,
          7.840346794996267,
          7.840346794996267,
          7.840346794996267,
          7.840346794996267,
          7.840346794996267,
          7.840346794996267,
          7.840346794996267,
          7.840346794996267,
          7.840346794996267,
          7.843258452801638,
          7.843258452801638,
          7.843258452801638,
          7.843258452801638,
          7.843258452801638,
          7.843258452801638,
          7.843258452801638,
          7.843258452801638,
          7.843258452801638,
          7.843258452801638,
          7.843258452801638,
          7.843258452801638,
          7.843258452801638,
          7.843258452801638,
          7.843258452801638,
          7.843258452801638,
          7.843258452801638,
          7.843258452801638,
          7.846170110607008,
          7.846170110607008,
          7.846170110607008,
          7.846170110607008,
          7.846170110607008,
          7.846170110607008,
          7.846170110607008,
          7.846170110607008,
          7.846170110607008,
          7.846170110607008,
          7.846170110607008,
          7.846170110607008,
          7.846170110607008,
          7.846170110607008,
          7.849081768412378,
          7.849081768412378,
          7.849081768412378,
          7.849081768412378,
          7.849081768412378,
          7.849081768412378,
          7.849081768412378,
          7.849081768412378,
          7.849081768412378,
          7.849081768412378,
          7.849081768412378,
          7.849081768412378,
          7.849081768412378,
          7.849081768412378,
          7.849081768412378,
          7.849081768412378,
          7.851993426217748,
          7.851993426217748,
          7.851993426217748,
          7.851993426217748,
          7.851993426217748,
          7.851993426217748,
          7.851993426217748,
          7.851993426217748,
          7.851993426217748,
          7.851993426217748,
          7.851993426217748,
          7.851993426217748,
          7.851993426217748,
          7.851993426217748,
          7.851993426217748,
          7.854905084023118,
          7.854905084023118,
          7.854905084023118,
          7.854905084023118,
          7.854905084023118,
          7.854905084023118,
          7.854905084023118,
          7.854905084023118,
          7.854905084023118,
          7.854905084023118,
          7.854905084023118,
          7.854905084023118,
          7.854905084023118,
          7.854905084023118,
          7.854905084023118,
          7.854905084023118,
          7.857816741828488,
          7.857816741828488,
          7.857816741828488,
          7.857816741828488,
          7.857816741828488,
          7.857816741828488,
          7.857816741828488,
          7.857816741828488,
          7.857816741828488,
          7.857816741828488,
          7.857816741828488,
          7.857816741828488,
          7.857816741828488,
          7.857816741828488,
          7.857816741828488,
          7.857816741828488,
          7.860728399633858,
          7.860728399633858,
          7.860728399633858,
          7.860728399633858,
          7.860728399633858,
          7.860728399633858,
          7.860728399633858,
          7.860728399633858,
          7.860728399633858,
          7.860728399633858,
          7.860728399633858,
          7.860728399633858,
          7.860728399633858,
          7.863640057439229,
          7.863640057439229,
          7.863640057439229,
          7.863640057439229,
          7.863640057439229,
          7.863640057439229,
          7.863640057439229,
          7.863640057439229,
          7.863640057439229,
          7.863640057439229,
          7.863640057439229,
          7.863640057439229,
          7.863640057439229,
          7.863640057439229,
          7.863640057439229,
          7.863640057439229,
          7.863640057439229,
          7.863640057439229,
          7.863640057439229,
          7.863640057439229,
          7.863640057439229,
          7.863640057439229,
          7.863640057439229,
          7.866551715244599,
          7.866551715244599,
          7.866551715244599,
          7.866551715244599,
          7.866551715244599,
          7.866551715244599,
          7.866551715244599,
          7.866551715244599,
          7.866551715244599,
          7.866551715244599,
          7.866551715244599,
          7.866551715244599,
          7.866551715244599,
          7.866551715244599,
          7.866551715244599,
          7.866551715244599,
          7.866551715244599,
          7.866551715244599,
          7.866551715244599,
          7.866551715244599,
          7.866551715244599,
          7.866551715244599,
          7.869463373049969,
          7.869463373049969,
          7.869463373049969,
          7.869463373049969,
          7.869463373049969,
          7.869463373049969,
          7.869463373049969,
          7.869463373049969,
          7.869463373049969,
          7.869463373049969,
          7.869463373049969,
          7.869463373049969,
          7.869463373049969,
          7.869463373049969,
          7.869463373049969,
          7.8723750308553395,
          7.8723750308553395,
          7.8723750308553395,
          7.8723750308553395,
          7.8723750308553395,
          7.8723750308553395,
          7.8723750308553395,
          7.8723750308553395,
          7.8723750308553395,
          7.8723750308553395,
          7.8723750308553395,
          7.8723750308553395,
          7.8723750308553395,
          7.8723750308553395,
          7.8723750308553395,
          7.8723750308553395,
          7.875286688660709,
          7.875286688660709,
          7.875286688660709,
          7.875286688660709,
          7.875286688660709,
          7.875286688660709,
          7.875286688660709,
          7.875286688660709,
          7.875286688660709,
          7.875286688660709,
          7.875286688660709,
          7.875286688660709,
          7.875286688660709,
          7.875286688660709,
          7.875286688660709,
          7.875286688660709,
          7.875286688660709,
          7.878198346466079,
          7.878198346466079,
          7.878198346466079,
          7.878198346466079,
          7.878198346466079,
          7.878198346466079,
          7.878198346466079,
          7.878198346466079,
          7.878198346466079,
          7.878198346466079,
          7.878198346466079,
          7.878198346466079,
          7.878198346466079,
          7.878198346466079,
          7.8811100042714495,
          7.8811100042714495,
          7.8811100042714495,
          7.8811100042714495,
          7.8811100042714495,
          7.8811100042714495,
          7.8811100042714495,
          7.8811100042714495,
          7.8811100042714495,
          7.8811100042714495,
          7.8811100042714495,
          7.8811100042714495,
          7.8811100042714495,
          7.8811100042714495,
          7.8811100042714495,
          7.8811100042714495,
          7.88402166207682,
          7.88402166207682,
          7.88402166207682,
          7.88402166207682,
          7.88402166207682,
          7.88402166207682,
          7.88402166207682,
          7.88402166207682,
          7.88402166207682,
          7.88402166207682,
          7.88402166207682,
          7.88402166207682,
          7.88402166207682,
          7.88402166207682,
          7.88402166207682,
          7.88693331988219,
          7.88693331988219,
          7.88693331988219,
          7.88693331988219,
          7.88693331988219,
          7.88693331988219,
          7.88693331988219,
          7.88693331988219,
          7.88693331988219,
          7.88693331988219,
          7.88693331988219,
          7.88693331988219,
          7.88693331988219,
          7.88693331988219,
          7.88693331988219,
          7.88693331988219,
          7.88693331988219,
          7.88693331988219,
          7.88984497768756,
          7.88984497768756,
          7.88984497768756,
          7.88984497768756,
          7.88984497768756,
          7.88984497768756,
          7.88984497768756,
          7.88984497768756,
          7.88984497768756,
          7.88984497768756,
          7.88984497768756,
          7.88984497768756,
          7.88984497768756,
          7.88984497768756,
          7.88984497768756,
          7.88984497768756,
          7.88984497768756,
          7.89275663549293,
          7.89275663549293,
          7.89275663549293,
          7.89275663549293,
          7.89275663549293,
          7.89275663549293,
          7.89275663549293,
          7.89275663549293,
          7.89275663549293,
          7.89275663549293,
          7.89275663549293,
          7.89275663549293,
          7.89275663549293,
          7.89275663549293,
          7.89275663549293,
          7.89275663549293,
          7.8956682932983,
          7.8956682932983,
          7.8956682932983,
          7.8956682932983,
          7.8956682932983,
          7.8956682932983,
          7.8956682932983,
          7.8956682932983,
          7.8956682932983,
          7.8956682932983,
          7.8956682932983,
          7.8956682932983,
          7.8956682932983,
          7.89857995110367,
          7.89857995110367,
          7.89857995110367,
          7.89857995110367,
          7.89857995110367,
          7.89857995110367,
          7.89857995110367,
          7.89857995110367,
          7.89857995110367,
          7.89857995110367,
          7.89857995110367,
          7.89857995110367,
          7.89857995110367,
          7.89857995110367,
          7.89857995110367,
          7.89857995110367,
          7.901491608909041,
          7.901491608909041,
          7.901491608909041,
          7.901491608909041,
          7.901491608909041,
          7.901491608909041,
          7.901491608909041,
          7.901491608909041,
          7.901491608909041,
          7.901491608909041,
          7.901491608909041,
          7.901491608909041,
          7.901491608909041,
          7.901491608909041,
          7.904403266714411,
          7.904403266714411,
          7.904403266714411,
          7.904403266714411,
          7.904403266714411,
          7.904403266714411,
          7.904403266714411,
          7.904403266714411,
          7.904403266714411,
          7.904403266714411,
          7.904403266714411,
          7.904403266714411,
          7.904403266714411,
          7.904403266714411,
          7.904403266714411,
          7.904403266714411,
          7.904403266714411,
          7.904403266714411,
          7.907314924519781,
          7.907314924519781,
          7.907314924519781,
          7.907314924519781,
          7.907314924519781,
          7.907314924519781,
          7.907314924519781,
          7.907314924519781,
          7.907314924519781,
          7.907314924519781,
          7.907314924519781,
          7.907314924519781,
          7.907314924519781,
          7.907314924519781,
          7.910226582325151,
          7.910226582325151,
          7.910226582325151,
          7.910226582325151,
          7.910226582325151,
          7.910226582325151,
          7.910226582325151,
          7.910226582325151,
          7.910226582325151,
          7.910226582325151,
          7.910226582325151,
          7.910226582325151,
          7.910226582325151,
          7.910226582325151,
          7.913138240130521,
          7.913138240130521,
          7.913138240130521,
          7.913138240130521,
          7.913138240130521,
          7.913138240130521,
          7.913138240130521,
          7.913138240130521,
          7.913138240130521,
          7.913138240130521,
          7.913138240130521,
          7.913138240130521,
          7.913138240130521,
          7.913138240130521,
          7.913138240130521,
          7.913138240130521,
          7.913138240130521,
          7.913138240130521,
          7.913138240130521,
          7.916049897935891,
          7.916049897935891,
          7.916049897935891,
          7.916049897935891,
          7.916049897935891,
          7.916049897935891,
          7.916049897935891,
          7.916049897935891,
          7.916049897935891,
          7.916049897935891,
          7.916049897935891,
          7.916049897935891,
          7.916049897935891,
          7.916049897935891,
          7.916049897935891,
          7.916049897935891,
          7.916049897935891,
          7.916049897935891,
          7.918961555741261,
          7.918961555741261,
          7.918961555741261,
          7.918961555741261,
          7.918961555741261,
          7.918961555741261,
          7.918961555741261,
          7.918961555741261,
          7.918961555741261,
          7.918961555741261,
          7.918961555741261,
          7.918961555741261,
          7.918961555741261,
          7.921873213546632,
          7.921873213546632,
          7.921873213546632,
          7.921873213546632,
          7.921873213546632,
          7.921873213546632,
          7.921873213546632,
          7.921873213546632,
          7.921873213546632,
          7.924784871352002,
          7.924784871352002,
          7.924784871352002,
          7.924784871352002,
          7.924784871352002,
          7.924784871352002,
          7.924784871352002,
          7.924784871352002,
          7.924784871352002,
          7.927696529157372,
          7.927696529157372,
          7.927696529157372,
          7.927696529157372,
          7.927696529157372,
          7.927696529157372,
          7.927696529157372,
          7.927696529157372,
          7.927696529157372,
          7.927696529157372,
          7.927696529157372,
          7.927696529157372,
          7.930608186962742,
          7.930608186962742,
          7.930608186962742,
          7.930608186962742,
          7.930608186962742,
          7.930608186962742,
          7.930608186962742,
          7.930608186962742,
          7.933519844768112,
          7.933519844768112,
          7.933519844768112,
          7.933519844768112,
          7.933519844768112,
          7.933519844768112,
          7.933519844768112,
          7.933519844768112,
          7.933519844768112,
          7.933519844768112,
          7.936431502573482,
          7.936431502573482,
          7.936431502573482,
          7.936431502573482,
          7.936431502573482,
          7.936431502573482,
          7.936431502573482,
          7.936431502573482,
          7.9393431603788525,
          7.9393431603788525,
          7.9393431603788525,
          7.9393431603788525,
          7.9393431603788525,
          7.9393431603788525,
          7.9393431603788525,
          7.9393431603788525,
          7.9393431603788525,
          7.9393431603788525,
          7.9393431603788525,
          7.9393431603788525,
          7.9393431603788525,
          7.942254818184223,
          7.942254818184223,
          7.942254818184223,
          7.942254818184223,
          7.942254818184223,
          7.942254818184223,
          7.942254818184223,
          7.945166475989593,
          7.945166475989593,
          7.945166475989593,
          7.945166475989593,
          7.945166475989593,
          7.945166475989593,
          7.945166475989593,
          7.945166475989593,
          7.948078133794963,
          7.948078133794963,
          7.948078133794963,
          7.948078133794963,
          7.948078133794963,
          7.948078133794963,
          7.948078133794963,
          7.948078133794963,
          7.948078133794963,
          7.950989791600333,
          7.950989791600333,
          7.950989791600333,
          7.950989791600333,
          7.953901449405703,
          7.953901449405703,
          7.953901449405703,
          7.953901449405703,
          7.953901449405703,
          7.953901449405703,
          7.953901449405703,
          7.953901449405703,
          7.953901449405703,
          7.956813107211073,
          7.956813107211073,
          7.956813107211073,
          7.956813107211073,
          7.956813107211073,
          7.956813107211073,
          7.956813107211073,
          7.956813107211073,
          7.9597247650164435,
          7.9597247650164435,
          7.9597247650164435,
          7.962636422821814,
          7.962636422821814,
          7.962636422821814,
          7.962636422821814,
          7.962636422821814,
          7.962636422821814,
          7.962636422821814,
          7.962636422821814,
          7.965548080627184,
          7.965548080627184,
          7.965548080627184,
          7.965548080627184,
          7.965548080627184,
          7.9684597384325535,
          7.9684597384325535,
          7.9684597384325535,
          7.971371396237924,
          7.971371396237924,
          7.974283054043294,
          7.974283054043294,
          7.974283054043294,
          7.974283054043294,
          7.974283054043294,
          7.977194711848664,
          7.977194711848664,
          7.977194711848664,
          7.980106369654035,
          7.980106369654035,
          7.980106369654035,
          7.980106369654035,
          7.980106369654035,
          7.980106369654035,
          7.983018027459405,
          7.983018027459405,
          7.983018027459405,
          7.983018027459405,
          7.983018027459405,
          7.983018027459405,
          7.985929685264775,
          7.985929685264775,
          7.985929685264775,
          7.985929685264775,
          7.985929685264775,
          7.988841343070145,
          7.988841343070145,
          7.988841343070145,
          7.988841343070145,
          7.991753000875515,
          7.991753000875515,
          7.991753000875515,
          7.994664658680885,
          7.994664658680885,
          7.994664658680885,
          7.994664658680885,
          7.994664658680885,
          7.994664658680885,
          7.994664658680885,
          7.997576316486255,
          7.997576316486255,
          7.997576316486255,
          7.997576316486255,
          8.000487974291625,
          8.003399632096995,
          8.003399632096995,
          8.003399632096995,
          8.003399632096995,
          8.006311289902365,
          8.006311289902365,
          8.006311289902365,
          8.009222947707736,
          8.009222947707736,
          8.009222947707736,
          8.009222947707736,
          8.009222947707736,
          8.012134605513106,
          8.012134605513106,
          8.015046263318476,
          8.015046263318476,
          8.017957921123847,
          8.017957921123847,
          8.017957921123847,
          8.017957921123847,
          8.017957921123847,
          8.017957921123847,
          8.020869578929217,
          8.023781236734587,
          8.023781236734587,
          8.023781236734587,
          8.026692894539957,
          8.029604552345328,
          8.029604552345328,
          8.029604552345328,
          8.032516210150698,
          8.032516210150698,
          8.032516210150698,
          8.032516210150698,
          8.032516210150698,
          8.032516210150698,
          8.038339525761437,
          8.038339525761437,
          8.038339525761437,
          8.038339525761437,
          8.044162841372177,
          8.044162841372177,
          8.047074499177548,
          8.047074499177548,
          8.047074499177548,
          8.052897814788288,
          8.055809472593658,
          8.055809472593658,
          8.055809472593658,
          8.055809472593658,
          8.058721130399029,
          8.058721130399029,
          8.061632788204399,
          8.06454444600977,
          8.06454444600977,
          8.06454444600977,
          8.06745610381514,
          8.07036776162051,
          8.07327941942588,
          8.079102735036619,
          8.08201439284199,
          8.08492605064736,
          8.08492605064736,
          8.08783770845273,
          8.08783770845273,
          8.08783770845273,
          8.09366102406347,
          8.09366102406347,
          8.09948433967421,
          8.102395997479581,
          8.105307655284951,
          8.11113097089569,
          8.11113097089569,
          8.119865944311801,
          8.122777602117171,
          8.125689259922542,
          8.134424233338652,
          8.140247548949393,
          8.154805837976243,
          8.166452469197724,
          8.178099100419205,
          8.189745731640684,
          8.204304020667536,
          8.230508940915866,
          8.242155572137348
         ],
         "yaxis": "y"
        }
       ],
       "layout": {
        "legend": {
         "tracegroupgap": 0
        },
        "template": {
         "data": {
          "bar": [
           {
            "error_x": {
             "color": "#2a3f5f"
            },
            "error_y": {
             "color": "#2a3f5f"
            },
            "marker": {
             "line": {
              "color": "#E5ECF6",
              "width": 0.5
             },
             "pattern": {
              "fillmode": "overlay",
              "size": 10,
              "solidity": 0.2
             }
            },
            "type": "bar"
           }
          ],
          "barpolar": [
           {
            "marker": {
             "line": {
              "color": "#E5ECF6",
              "width": 0.5
             },
             "pattern": {
              "fillmode": "overlay",
              "size": 10,
              "solidity": 0.2
             }
            },
            "type": "barpolar"
           }
          ],
          "carpet": [
           {
            "aaxis": {
             "endlinecolor": "#2a3f5f",
             "gridcolor": "white",
             "linecolor": "white",
             "minorgridcolor": "white",
             "startlinecolor": "#2a3f5f"
            },
            "baxis": {
             "endlinecolor": "#2a3f5f",
             "gridcolor": "white",
             "linecolor": "white",
             "minorgridcolor": "white",
             "startlinecolor": "#2a3f5f"
            },
            "type": "carpet"
           }
          ],
          "choropleth": [
           {
            "colorbar": {
             "outlinewidth": 0,
             "ticks": ""
            },
            "type": "choropleth"
           }
          ],
          "contour": [
           {
            "colorbar": {
             "outlinewidth": 0,
             "ticks": ""
            },
            "colorscale": [
             [
              0,
              "#0d0887"
             ],
             [
              0.1111111111111111,
              "#46039f"
             ],
             [
              0.2222222222222222,
              "#7201a8"
             ],
             [
              0.3333333333333333,
              "#9c179e"
             ],
             [
              0.4444444444444444,
              "#bd3786"
             ],
             [
              0.5555555555555556,
              "#d8576b"
             ],
             [
              0.6666666666666666,
              "#ed7953"
             ],
             [
              0.7777777777777778,
              "#fb9f3a"
             ],
             [
              0.8888888888888888,
              "#fdca26"
             ],
             [
              1,
              "#f0f921"
             ]
            ],
            "type": "contour"
           }
          ],
          "contourcarpet": [
           {
            "colorbar": {
             "outlinewidth": 0,
             "ticks": ""
            },
            "type": "contourcarpet"
           }
          ],
          "heatmap": [
           {
            "colorbar": {
             "outlinewidth": 0,
             "ticks": ""
            },
            "colorscale": [
             [
              0,
              "#0d0887"
             ],
             [
              0.1111111111111111,
              "#46039f"
             ],
             [
              0.2222222222222222,
              "#7201a8"
             ],
             [
              0.3333333333333333,
              "#9c179e"
             ],
             [
              0.4444444444444444,
              "#bd3786"
             ],
             [
              0.5555555555555556,
              "#d8576b"
             ],
             [
              0.6666666666666666,
              "#ed7953"
             ],
             [
              0.7777777777777778,
              "#fb9f3a"
             ],
             [
              0.8888888888888888,
              "#fdca26"
             ],
             [
              1,
              "#f0f921"
             ]
            ],
            "type": "heatmap"
           }
          ],
          "heatmapgl": [
           {
            "colorbar": {
             "outlinewidth": 0,
             "ticks": ""
            },
            "colorscale": [
             [
              0,
              "#0d0887"
             ],
             [
              0.1111111111111111,
              "#46039f"
             ],
             [
              0.2222222222222222,
              "#7201a8"
             ],
             [
              0.3333333333333333,
              "#9c179e"
             ],
             [
              0.4444444444444444,
              "#bd3786"
             ],
             [
              0.5555555555555556,
              "#d8576b"
             ],
             [
              0.6666666666666666,
              "#ed7953"
             ],
             [
              0.7777777777777778,
              "#fb9f3a"
             ],
             [
              0.8888888888888888,
              "#fdca26"
             ],
             [
              1,
              "#f0f921"
             ]
            ],
            "type": "heatmapgl"
           }
          ],
          "histogram": [
           {
            "marker": {
             "pattern": {
              "fillmode": "overlay",
              "size": 10,
              "solidity": 0.2
             }
            },
            "type": "histogram"
           }
          ],
          "histogram2d": [
           {
            "colorbar": {
             "outlinewidth": 0,
             "ticks": ""
            },
            "colorscale": [
             [
              0,
              "#0d0887"
             ],
             [
              0.1111111111111111,
              "#46039f"
             ],
             [
              0.2222222222222222,
              "#7201a8"
             ],
             [
              0.3333333333333333,
              "#9c179e"
             ],
             [
              0.4444444444444444,
              "#bd3786"
             ],
             [
              0.5555555555555556,
              "#d8576b"
             ],
             [
              0.6666666666666666,
              "#ed7953"
             ],
             [
              0.7777777777777778,
              "#fb9f3a"
             ],
             [
              0.8888888888888888,
              "#fdca26"
             ],
             [
              1,
              "#f0f921"
             ]
            ],
            "type": "histogram2d"
           }
          ],
          "histogram2dcontour": [
           {
            "colorbar": {
             "outlinewidth": 0,
             "ticks": ""
            },
            "colorscale": [
             [
              0,
              "#0d0887"
             ],
             [
              0.1111111111111111,
              "#46039f"
             ],
             [
              0.2222222222222222,
              "#7201a8"
             ],
             [
              0.3333333333333333,
              "#9c179e"
             ],
             [
              0.4444444444444444,
              "#bd3786"
             ],
             [
              0.5555555555555556,
              "#d8576b"
             ],
             [
              0.6666666666666666,
              "#ed7953"
             ],
             [
              0.7777777777777778,
              "#fb9f3a"
             ],
             [
              0.8888888888888888,
              "#fdca26"
             ],
             [
              1,
              "#f0f921"
             ]
            ],
            "type": "histogram2dcontour"
           }
          ],
          "mesh3d": [
           {
            "colorbar": {
             "outlinewidth": 0,
             "ticks": ""
            },
            "type": "mesh3d"
           }
          ],
          "parcoords": [
           {
            "line": {
             "colorbar": {
              "outlinewidth": 0,
              "ticks": ""
             }
            },
            "type": "parcoords"
           }
          ],
          "pie": [
           {
            "automargin": true,
            "type": "pie"
           }
          ],
          "scatter": [
           {
            "marker": {
             "colorbar": {
              "outlinewidth": 0,
              "ticks": ""
             }
            },
            "type": "scatter"
           }
          ],
          "scatter3d": [
           {
            "line": {
             "colorbar": {
              "outlinewidth": 0,
              "ticks": ""
             }
            },
            "marker": {
             "colorbar": {
              "outlinewidth": 0,
              "ticks": ""
             }
            },
            "type": "scatter3d"
           }
          ],
          "scattercarpet": [
           {
            "marker": {
             "colorbar": {
              "outlinewidth": 0,
              "ticks": ""
             }
            },
            "type": "scattercarpet"
           }
          ],
          "scattergeo": [
           {
            "marker": {
             "colorbar": {
              "outlinewidth": 0,
              "ticks": ""
             }
            },
            "type": "scattergeo"
           }
          ],
          "scattergl": [
           {
            "marker": {
             "colorbar": {
              "outlinewidth": 0,
              "ticks": ""
             }
            },
            "type": "scattergl"
           }
          ],
          "scattermapbox": [
           {
            "marker": {
             "colorbar": {
              "outlinewidth": 0,
              "ticks": ""
             }
            },
            "type": "scattermapbox"
           }
          ],
          "scatterpolar": [
           {
            "marker": {
             "colorbar": {
              "outlinewidth": 0,
              "ticks": ""
             }
            },
            "type": "scatterpolar"
           }
          ],
          "scatterpolargl": [
           {
            "marker": {
             "colorbar": {
              "outlinewidth": 0,
              "ticks": ""
             }
            },
            "type": "scatterpolargl"
           }
          ],
          "scatterternary": [
           {
            "marker": {
             "colorbar": {
              "outlinewidth": 0,
              "ticks": ""
             }
            },
            "type": "scatterternary"
           }
          ],
          "surface": [
           {
            "colorbar": {
             "outlinewidth": 0,
             "ticks": ""
            },
            "colorscale": [
             [
              0,
              "#0d0887"
             ],
             [
              0.1111111111111111,
              "#46039f"
             ],
             [
              0.2222222222222222,
              "#7201a8"
             ],
             [
              0.3333333333333333,
              "#9c179e"
             ],
             [
              0.4444444444444444,
              "#bd3786"
             ],
             [
              0.5555555555555556,
              "#d8576b"
             ],
             [
              0.6666666666666666,
              "#ed7953"
             ],
             [
              0.7777777777777778,
              "#fb9f3a"
             ],
             [
              0.8888888888888888,
              "#fdca26"
             ],
             [
              1,
              "#f0f921"
             ]
            ],
            "type": "surface"
           }
          ],
          "table": [
           {
            "cells": {
             "fill": {
              "color": "#EBF0F8"
             },
             "line": {
              "color": "white"
             }
            },
            "header": {
             "fill": {
              "color": "#C8D4E3"
             },
             "line": {
              "color": "white"
             }
            },
            "type": "table"
           }
          ]
         },
         "layout": {
          "annotationdefaults": {
           "arrowcolor": "#2a3f5f",
           "arrowhead": 0,
           "arrowwidth": 1
          },
          "autotypenumbers": "strict",
          "coloraxis": {
           "colorbar": {
            "outlinewidth": 0,
            "ticks": ""
           }
          },
          "colorscale": {
           "diverging": [
            [
             0,
             "#8e0152"
            ],
            [
             0.1,
             "#c51b7d"
            ],
            [
             0.2,
             "#de77ae"
            ],
            [
             0.3,
             "#f1b6da"
            ],
            [
             0.4,
             "#fde0ef"
            ],
            [
             0.5,
             "#f7f7f7"
            ],
            [
             0.6,
             "#e6f5d0"
            ],
            [
             0.7,
             "#b8e186"
            ],
            [
             0.8,
             "#7fbc41"
            ],
            [
             0.9,
             "#4d9221"
            ],
            [
             1,
             "#276419"
            ]
           ],
           "sequential": [
            [
             0,
             "#0d0887"
            ],
            [
             0.1111111111111111,
             "#46039f"
            ],
            [
             0.2222222222222222,
             "#7201a8"
            ],
            [
             0.3333333333333333,
             "#9c179e"
            ],
            [
             0.4444444444444444,
             "#bd3786"
            ],
            [
             0.5555555555555556,
             "#d8576b"
            ],
            [
             0.6666666666666666,
             "#ed7953"
            ],
            [
             0.7777777777777778,
             "#fb9f3a"
            ],
            [
             0.8888888888888888,
             "#fdca26"
            ],
            [
             1,
             "#f0f921"
            ]
           ],
           "sequentialminus": [
            [
             0,
             "#0d0887"
            ],
            [
             0.1111111111111111,
             "#46039f"
            ],
            [
             0.2222222222222222,
             "#7201a8"
            ],
            [
             0.3333333333333333,
             "#9c179e"
            ],
            [
             0.4444444444444444,
             "#bd3786"
            ],
            [
             0.5555555555555556,
             "#d8576b"
            ],
            [
             0.6666666666666666,
             "#ed7953"
            ],
            [
             0.7777777777777778,
             "#fb9f3a"
            ],
            [
             0.8888888888888888,
             "#fdca26"
            ],
            [
             1,
             "#f0f921"
            ]
           ]
          },
          "colorway": [
           "#636efa",
           "#EF553B",
           "#00cc96",
           "#ab63fa",
           "#FFA15A",
           "#19d3f3",
           "#FF6692",
           "#B6E880",
           "#FF97FF",
           "#FECB52"
          ],
          "font": {
           "color": "#2a3f5f"
          },
          "geo": {
           "bgcolor": "white",
           "lakecolor": "white",
           "landcolor": "#E5ECF6",
           "showlakes": true,
           "showland": true,
           "subunitcolor": "white"
          },
          "hoverlabel": {
           "align": "left"
          },
          "hovermode": "closest",
          "mapbox": {
           "style": "light"
          },
          "paper_bgcolor": "white",
          "plot_bgcolor": "#E5ECF6",
          "polar": {
           "angularaxis": {
            "gridcolor": "white",
            "linecolor": "white",
            "ticks": ""
           },
           "bgcolor": "#E5ECF6",
           "radialaxis": {
            "gridcolor": "white",
            "linecolor": "white",
            "ticks": ""
           }
          },
          "scene": {
           "xaxis": {
            "backgroundcolor": "#E5ECF6",
            "gridcolor": "white",
            "gridwidth": 2,
            "linecolor": "white",
            "showbackground": true,
            "ticks": "",
            "zerolinecolor": "white"
           },
           "yaxis": {
            "backgroundcolor": "#E5ECF6",
            "gridcolor": "white",
            "gridwidth": 2,
            "linecolor": "white",
            "showbackground": true,
            "ticks": "",
            "zerolinecolor": "white"
           },
           "zaxis": {
            "backgroundcolor": "#E5ECF6",
            "gridcolor": "white",
            "gridwidth": 2,
            "linecolor": "white",
            "showbackground": true,
            "ticks": "",
            "zerolinecolor": "white"
           }
          },
          "shapedefaults": {
           "line": {
            "color": "#2a3f5f"
           }
          },
          "ternary": {
           "aaxis": {
            "gridcolor": "white",
            "linecolor": "white",
            "ticks": ""
           },
           "baxis": {
            "gridcolor": "white",
            "linecolor": "white",
            "ticks": ""
           },
           "bgcolor": "#E5ECF6",
           "caxis": {
            "gridcolor": "white",
            "linecolor": "white",
            "ticks": ""
           }
          },
          "title": {
           "x": 0.05
          },
          "xaxis": {
           "automargin": true,
           "gridcolor": "white",
           "linecolor": "white",
           "ticks": "",
           "title": {
            "standoff": 15
           },
           "zerolinecolor": "white",
           "zerolinewidth": 2
          },
          "yaxis": {
           "automargin": true,
           "gridcolor": "white",
           "linecolor": "white",
           "ticks": "",
           "title": {
            "standoff": 15
           },
           "zerolinecolor": "white",
           "zerolinewidth": 2
          }
         }
        },
        "title": {
         "text": "Duration vs Star Rating"
        },
        "xaxis": {
         "anchor": "y",
         "domain": [
          0,
          1
         ],
         "title": {
          "text": "duration"
         }
        },
        "yaxis": {
         "anchor": "x",
         "domain": [
          0,
          1
         ],
         "title": {
          "text": "star_rating"
         }
        }
       }
      },
      "text/html": [
       "<div>                            <div id=\"3fb1b304-ff26-45fa-8c13-ddc98675d700\" class=\"plotly-graph-div\" style=\"height:525px; width:100%;\"></div>            <script type=\"text/javascript\">                require([\"plotly\"], function(Plotly) {                    window.PLOTLYENV=window.PLOTLYENV || {};                                    if (document.getElementById(\"3fb1b304-ff26-45fa-8c13-ddc98675d700\")) {                    Plotly.newPlot(                        \"3fb1b304-ff26-45fa-8c13-ddc98675d700\",                        [{\"hovertemplate\":\"duration=%{x}<br>star_rating=%{y}<extra></extra>\",\"legendgroup\":\"\",\"marker\":{\"color\":\"#636efa\",\"symbol\":\"circle\"},\"mode\":\"markers\",\"name\":\"\",\"orientation\":\"v\",\"showlegend\":false,\"x\":[142,175,200,152,154,96,161,201,195,139,178,148,124,142,179,169,133,207,146,121,136,130,130,106,127,116,175,118,110,87,125,112,102,107,119,87,169,115,112,109,189,110,150,165,155,137,113,165,95,151,155,153,125,130,116,89,137,117,88,165,170,89,146,99,98,116,156,122,149,134,122,136,157,123,119,137,128,120,229,107,134,103,177,129,102,216,136,93,68,189,99,108,113,181,103,138,110,129,88,160,126,91,116,125,143,93,102,132,153,183,160,120,138,140,153,170,129,81,127,131,172,115,108,107,129,156,96,91,95,162,130,86,186,151,96,170,118,161,131,126,131,129,224,180,105,117,140,119,124,130,139,107,132,117,126,122,178,238,149,172,98,116,116,123,148,123,182,92,93,100,135,105,94,140,83,95,98,143,99,98,121,163,121,167,188,121,109,110,129,127,94,107,100,117,129,120,121,133,111,122,101,134,165,138,212,154,89,134,93,114,88,130,101,158,99,108,124,132,113,131,191,167,130,147,102,88,165,132,118,101,108,174,98,92,98,106,85,101,105,115,115,124,105,103,138,184,120,99,131,138,98,123,118,114,118,112,124,160,67,146,125,115,134,141,129,104,94,124,150,119,128,143,85,151,118,101,99,92,125,102,106,107,91,80,122,102,112,92,135,136,153,105,126,68,84,103,145,80,106,127,178,137,172,76,130,96,82,115,95,143,125,120,127,112,104,113,189,127,188,96,113,132,122,126,140,133,112,102,93,109,81,108,111,119,96,197,127,138,66,181,141,144,128,83,121,98,117,94,174,112,108,70,99,96,137,136,100,90,96,161,115,181,169,98,136,138,119,123,112,120,103,97,109,165,156,147,100,126,115,105,144,102,107,119,90,197,86,113,133,64,141,113,122,105,119,102,122,123,113,97,117,111,85,99,134,75,109,117,91,128,111,119,100,114,92,141,101,115,127,96,129,135,109,157,193,94,155,113,130,117,159,141,112,162,126,120,144,120,109,97,108,115,136,90,170,220,116,134,124,91,103,96,119,98,101,93,179,155,121,103,127,103,107,100,92,94,158,86,115,130,107,100,108,124,131,122,242,127,141,126,89,113,152,107,92,145,84,126,132,78,117,128,100,128,100,143,107,100,125,106,157,94,104,94,153,123,120,105,166,112,94,111,87,80,108,102,105,136,101,100,108,101,106,105,88,129,138,129,118,139,123,150,132,80,178,79,163,114,144,130,154,81,95,101,120,93,115,106,120,110,123,142,99,112,120,122,130,139,129,141,127,130,118,110,115,101,112,108,143,152,117,121,119,114,122,105,110,116,139,121,109,146,113,100,121,113,113,117,93,101,90,131,98,93,121,82,124,100,117,99,116,123,114,133,105,127,144,90,118,122,102,187,87,154,89,88,129,95,118,98,194,114,80,130,135,101,105,129,134,143,202,89,106,92,137,124,122,113,112,110,135,88,146,104,125,131,91,142,129,158,102,99,101,104,119,103,88,100,146,150,140,140,110,97,102,152,100,94,85,104,112,191,119,111,94,103,134,157,158,127,101,109,98,134,168,93,145,111,88,123,121,144,116,124,147,106,113,129,94,126,128,111,146,85,105,132,130,162,113,110,113,162,110,78,92,95,138,102,128,96,164,126,110,109,122,124,128,157,120,102,152,170,102,116,164,85,104,99,81,131,101,121,69,92,94,141,116,98,135,121,108,114,102,112,140,157,128,108,139,83,131,113,136,96,118,108,83,205,124,111,137,104,109,115,99,114,133,131,131,123,126,97,126,89,122,121,125,105,118,81,115,126,113,107,126,111,85,120,93,100,107,126,131,116,143,93,96,160,137,119,114,98,111,138,144,107,114,125,146,113,85,97,93,113,128,114,147,127,167,124,109,124,102,130,125,98,154,97,128,98,101,147,172,125,88,125,121,112,120,133,110,135,110,80,135,101,112,124,129,104,96,105,109,117,78,138,106,90,106,91,112,134,112,104,101,120,123,133,110,129,120,83,88,96,139,113,84,106,170,144,104,153,85,130,93,148,115,102,125,106,121,143,116,99,116,128,119,104,114,152,129,103,112,92,141,106,109,104,122,111,112,116,130,133,134,92,104,110,97,100,118,112,138,92,118,140,128,101,75,97,111,175,94,97,132,120,107,89,86,103,108,105,117,102,104,157,104,98,109,96,103,114,99,118,150,105,87,136,162,109,107,90,112,126,116,118,138,114,126],\"xaxis\":\"x\",\"y\":[9.3,9.2,9.1,9.0,8.9,8.9,8.9,8.9,8.9,8.9,8.8,8.8,8.8,8.8,8.8,8.7,8.7,8.7,8.7,8.7,8.7,8.7,8.7,8.7,8.7,8.6,8.6,8.6,8.6,8.6,8.6,8.6,8.6,8.6,8.6,8.6,8.6,8.6,8.6,8.6,8.5,8.5,8.5,8.5,8.5,8.5,8.5,8.5,8.5,8.5,8.5,8.5,8.5,8.5,8.5,8.5,8.5,8.5,8.5,8.5,8.5,8.5,8.5,8.4,8.4,8.4,8.4,8.4,8.4,8.4,8.4,8.4,8.4,8.4,8.4,8.4,8.4,8.4,8.4,8.4,8.4,8.4,8.4,8.4,8.4,8.4,8.4,8.4,8.4,8.4,8.4,8.4,8.4,8.4,8.4,8.4,8.4,8.4,8.4,8.4,8.3,8.3,8.3,8.3,8.3,8.3,8.3,8.3,8.3,8.3,8.3,8.3,8.3,8.3,8.3,8.3,8.3,8.3,8.3,8.3,8.3,8.3,8.3,8.3,8.3,8.3,8.3,8.3,8.3,8.3,8.3,8.3,8.3,8.3,8.3,8.3,8.3,8.3,8.3,8.3,8.3,8.3,8.3,8.2,8.2,8.2,8.2,8.2,8.2,8.2,8.2,8.2,8.2,8.2,8.2,8.2,8.2,8.2,8.2,8.2,8.2,8.2,8.2,8.2,8.2,8.2,8.2,8.2,8.2,8.2,8.2,8.2,8.2,8.2,8.2,8.2,8.2,8.2,8.2,8.2,8.2,8.2,8.2,8.2,8.2,8.2,8.2,8.2,8.2,8.2,8.2,8.2,8.2,8.2,8.1,8.1,8.1,8.1,8.1,8.1,8.1,8.1,8.1,8.1,8.1,8.1,8.1,8.1,8.1,8.1,8.1,8.1,8.1,8.1,8.1,8.1,8.1,8.1,8.1,8.1,8.1,8.1,8.1,8.1,8.1,8.1,8.1,8.1,8.1,8.1,8.1,8.1,8.1,8.1,8.1,8.1,8.1,8.1,8.1,8.1,8.1,8.1,8.1,8.1,8.1,8.1,8.1,8.1,8.1,8.1,8.1,8.1,8.1,8.1,8.1,8.1,8.1,8.1,8.1,8.1,8.1,8.1,8.1,8.1,8.1,8.1,8.1,8.1,8.1,8.1,8.1,8.1,8.1,8.1,8.1,8.1,8.1,8.1,8.1,8.1,8.1,8.1,8.1,8.1,8.1,8.1,8.1,8.1,8.1,8.1,8.1,8.1,8.1,8.1,8.1,8.1,8.1,8.0,8.0,8.0,8.0,8.0,8.0,8.0,8.0,8.0,8.0,8.0,8.0,8.0,8.0,8.0,8.0,8.0,8.0,8.0,8.0,8.0,8.0,8.0,8.0,8.0,8.0,8.0,8.0,8.0,8.0,8.0,8.0,8.0,8.0,8.0,8.0,8.0,8.0,8.0,8.0,8.0,8.0,8.0,8.0,8.0,8.0,8.0,8.0,8.0,8.0,8.0,8.0,8.0,8.0,8.0,8.0,8.0,8.0,8.0,8.0,8.0,8.0,8.0,8.0,8.0,8.0,8.0,8.0,8.0,8.0,8.0,8.0,8.0,8.0,8.0,8.0,8.0,8.0,8.0,8.0,8.0,8.0,8.0,8.0,8.0,8.0,8.0,8.0,8.0,8.0,8.0,8.0,8.0,8.0,8.0,8.0,8.0,7.9,7.9,7.9,7.9,7.9,7.9,7.9,7.9,7.9,7.9,7.9,7.9,7.9,7.9,7.9,7.9,7.9,7.9,7.9,7.9,7.9,7.9,7.9,7.9,7.9,7.9,7.9,7.9,7.9,7.9,7.9,7.9,7.9,7.9,7.9,7.9,7.9,7.9,7.9,7.9,7.9,7.9,7.9,7.9,7.9,7.9,7.9,7.9,7.9,7.9,7.9,7.9,7.9,7.9,7.9,7.9,7.9,7.9,7.9,7.9,7.9,7.9,7.9,7.9,7.9,7.9,7.9,7.9,7.9,7.9,7.9,7.9,7.9,7.9,7.9,7.8,7.8,7.8,7.8,7.8,7.8,7.8,7.8,7.8,7.8,7.8,7.8,7.8,7.8,7.8,7.8,7.8,7.8,7.8,7.8,7.8,7.8,7.8,7.8,7.8,7.8,7.8,7.8,7.8,7.8,7.8,7.8,7.8,7.8,7.8,7.8,7.8,7.8,7.8,7.8,7.8,7.8,7.8,7.8,7.8,7.8,7.8,7.8,7.8,7.8,7.8,7.8,7.8,7.8,7.8,7.8,7.8,7.8,7.8,7.8,7.8,7.8,7.8,7.8,7.8,7.8,7.8,7.8,7.8,7.8,7.8,7.8,7.8,7.8,7.8,7.8,7.8,7.8,7.8,7.8,7.8,7.8,7.8,7.8,7.8,7.8,7.8,7.8,7.8,7.8,7.8,7.8,7.8,7.8,7.8,7.8,7.8,7.8,7.8,7.8,7.8,7.8,7.8,7.8,7.8,7.8,7.8,7.8,7.8,7.8,7.8,7.8,7.8,7.8,7.8,7.8,7.7,7.7,7.7,7.7,7.7,7.7,7.7,7.7,7.7,7.7,7.7,7.7,7.7,7.7,7.7,7.7,7.7,7.7,7.7,7.7,7.7,7.7,7.7,7.7,7.7,7.7,7.7,7.7,7.7,7.7,7.7,7.7,7.7,7.7,7.7,7.7,7.7,7.7,7.7,7.7,7.7,7.7,7.7,7.7,7.7,7.7,7.7,7.7,7.7,7.7,7.7,7.7,7.7,7.7,7.7,7.7,7.7,7.7,7.7,7.7,7.7,7.7,7.7,7.7,7.7,7.7,7.7,7.7,7.7,7.7,7.7,7.7,7.7,7.7,7.7,7.7,7.7,7.7,7.7,7.7,7.7,7.7,7.7,7.7,7.7,7.7,7.7,7.7,7.7,7.7,7.7,7.7,7.7,7.7,7.7,7.7,7.7,7.7,7.7,7.7,7.7,7.7,7.7,7.7,7.7,7.7,7.7,7.7,7.7,7.7,7.7,7.7,7.7,7.6,7.6,7.6,7.6,7.6,7.6,7.6,7.6,7.6,7.6,7.6,7.6,7.6,7.6,7.6,7.6,7.6,7.6,7.6,7.6,7.6,7.6,7.6,7.6,7.6,7.6,7.6,7.6,7.6,7.6,7.6,7.6,7.6,7.6,7.6,7.6,7.6,7.6,7.6,7.6,7.6,7.6,7.6,7.6,7.6,7.6,7.6,7.6,7.6,7.6,7.6,7.6,7.6,7.6,7.6,7.6,7.6,7.6,7.6,7.6,7.6,7.6,7.6,7.6,7.6,7.6,7.6,7.6,7.6,7.6,7.6,7.6,7.6,7.6,7.6,7.6,7.6,7.6,7.6,7.6,7.6,7.6,7.6,7.6,7.6,7.6,7.6,7.6,7.6,7.6,7.6,7.6,7.6,7.6,7.6,7.6,7.6,7.6,7.6,7.6,7.6,7.6,7.6,7.6,7.6,7.6,7.6,7.6,7.6,7.6,7.6,7.6,7.6,7.6,7.6,7.6,7.6,7.6,7.6,7.6,7.6,7.6,7.6,7.6,7.5,7.5,7.5,7.5,7.5,7.5,7.5,7.5,7.5,7.5,7.5,7.5,7.5,7.5,7.5,7.5,7.5,7.5,7.5,7.5,7.5,7.5,7.5,7.5,7.5,7.5,7.5,7.5,7.5,7.5,7.5,7.5,7.5,7.5,7.5,7.5,7.5,7.5,7.5,7.5,7.5,7.5,7.5,7.5,7.5,7.5,7.5,7.5,7.5,7.5,7.5,7.5,7.5,7.5,7.5,7.5,7.5,7.5,7.5,7.5,7.5,7.5,7.5,7.5,7.5,7.5,7.5,7.5,7.5,7.5,7.5,7.5,7.5,7.5,7.5,7.5,7.5,7.5,7.5,7.5,7.5,7.5,7.5,7.5,7.5,7.5,7.5,7.5,7.5,7.5,7.5,7.5,7.5,7.5,7.5,7.5,7.5,7.5,7.5,7.5,7.5,7.5,7.5,7.5,7.5,7.5,7.5,7.5,7.4,7.4,7.4,7.4,7.4,7.4,7.4,7.4,7.4,7.4,7.4,7.4,7.4,7.4,7.4,7.4,7.4,7.4,7.4,7.4,7.4,7.4,7.4,7.4,7.4,7.4,7.4,7.4,7.4,7.4,7.4,7.4,7.4,7.4,7.4,7.4,7.4,7.4,7.4,7.4,7.4,7.4,7.4,7.4,7.4,7.4,7.4,7.4,7.4],\"yaxis\":\"y\",\"type\":\"scatter\"},{\"hovertemplate\":\"<b>OLS trendline</b><br>star_rating = 0.00291166 * duration + 7.53753<br>R<sup>2</sup>=0.051597<br><br>duration=%{x}<br>star_rating=%{y} <b>(trend)</b><extra></extra>\",\"legendgroup\":\"\",\"marker\":{\"color\":\"#636efa\",\"symbol\":\"circle\"},\"mode\":\"lines\",\"name\":\"\",\"showlegend\":false,\"x\":[64,66,67,68,68,69,70,75,75,76,78,78,78,79,80,80,80,80,80,80,81,81,81,81,81,82,82,83,83,83,83,83,84,84,84,85,85,85,85,85,85,85,85,85,86,86,86,86,87,87,87,87,87,88,88,88,88,88,88,88,88,88,88,88,89,89,89,89,89,89,89,89,90,90,90,90,90,90,90,91,91,91,91,91,91,91,92,92,92,92,92,92,92,92,92,92,92,92,92,93,93,93,93,93,93,93,93,93,93,93,93,93,93,94,94,94,94,94,94,94,94,94,94,94,94,94,94,95,95,95,95,95,95,95,96,96,96,96,96,96,96,96,96,96,96,96,96,96,96,96,97,97,97,97,97,97,97,97,97,97,98,98,98,98,98,98,98,98,98,98,98,98,98,98,98,98,98,98,99,99,99,99,99,99,99,99,99,99,99,99,99,99,99,100,100,100,100,100,100,100,100,100,100,100,100,100,100,100,100,100,101,101,101,101,101,101,101,101,101,101,101,101,101,101,101,101,101,101,101,101,102,102,102,102,102,102,102,102,102,102,102,102,102,102,102,102,102,102,102,102,103,103,103,103,103,103,103,103,103,103,103,103,103,104,104,104,104,104,104,104,104,104,104,104,104,104,104,104,104,105,105,105,105,105,105,105,105,105,105,105,105,105,105,105,105,105,105,106,106,106,106,106,106,106,106,106,106,106,106,106,106,107,107,107,107,107,107,107,107,107,107,107,107,107,107,107,107,108,108,108,108,108,108,108,108,108,108,108,108,108,108,108,109,109,109,109,109,109,109,109,109,109,109,109,109,109,109,109,110,110,110,110,110,110,110,110,110,110,110,110,110,110,110,110,111,111,111,111,111,111,111,111,111,111,111,111,111,112,112,112,112,112,112,112,112,112,112,112,112,112,112,112,112,112,112,112,112,112,112,112,113,113,113,113,113,113,113,113,113,113,113,113,113,113,113,113,113,113,113,113,113,113,114,114,114,114,114,114,114,114,114,114,114,114,114,114,114,115,115,115,115,115,115,115,115,115,115,115,115,115,115,115,115,116,116,116,116,116,116,116,116,116,116,116,116,116,116,116,116,116,117,117,117,117,117,117,117,117,117,117,117,117,117,117,118,118,118,118,118,118,118,118,118,118,118,118,118,118,118,118,119,119,119,119,119,119,119,119,119,119,119,119,119,119,119,120,120,120,120,120,120,120,120,120,120,120,120,120,120,120,120,120,120,121,121,121,121,121,121,121,121,121,121,121,121,121,121,121,121,121,122,122,122,122,122,122,122,122,122,122,122,122,122,122,122,122,123,123,123,123,123,123,123,123,123,123,123,123,123,124,124,124,124,124,124,124,124,124,124,124,124,124,124,124,124,125,125,125,125,125,125,125,125,125,125,125,125,125,125,126,126,126,126,126,126,126,126,126,126,126,126,126,126,126,126,126,126,127,127,127,127,127,127,127,127,127,127,127,127,127,127,128,128,128,128,128,128,128,128,128,128,128,128,128,128,129,129,129,129,129,129,129,129,129,129,129,129,129,129,129,129,129,129,129,130,130,130,130,130,130,130,130,130,130,130,130,130,130,130,130,130,130,131,131,131,131,131,131,131,131,131,131,131,131,131,132,132,132,132,132,132,132,132,132,133,133,133,133,133,133,133,133,133,134,134,134,134,134,134,134,134,134,134,134,134,135,135,135,135,135,135,135,135,136,136,136,136,136,136,136,136,136,136,137,137,137,137,137,137,137,137,138,138,138,138,138,138,138,138,138,138,138,138,138,139,139,139,139,139,139,139,140,140,140,140,140,140,140,140,141,141,141,141,141,141,141,141,141,142,142,142,142,143,143,143,143,143,143,143,143,143,144,144,144,144,144,144,144,144,145,145,145,146,146,146,146,146,146,146,146,147,147,147,147,147,148,148,148,149,149,150,150,150,150,150,151,151,151,152,152,152,152,152,152,153,153,153,153,153,153,154,154,154,154,154,155,155,155,155,156,156,156,157,157,157,157,157,157,157,158,158,158,158,159,160,160,160,160,161,161,161,162,162,162,162,162,163,163,164,164,165,165,165,165,165,165,166,167,167,167,168,169,169,169,170,170,170,170,170,170,172,172,172,172,174,174,175,175,175,177,178,178,178,178,179,179,180,181,181,181,182,183,184,186,187,188,188,189,189,189,191,191,193,194,195,197,197,200,201,202,205,207,212,216,220,224,229,238,242],\"xaxis\":\"x\",\"y\":[7.723880482781461,7.729703798392202,7.732615456197572,7.7355271140029425,7.7355271140029425,7.738438771808312,7.741350429613682,7.7559087186405336,7.7559087186405336,7.758820376445903,7.7646436920566435,7.7646436920566435,7.7646436920566435,7.767555349862014,7.770467007667384,7.770467007667384,7.770467007667384,7.770467007667384,7.770467007667384,7.770467007667384,7.773378665472754,7.773378665472754,7.773378665472754,7.773378665472754,7.773378665472754,7.776290323278124,7.776290323278124,7.779201981083494,7.779201981083494,7.779201981083494,7.779201981083494,7.779201981083494,7.782113638888864,7.782113638888864,7.782113638888864,7.785025296694235,7.785025296694235,7.785025296694235,7.785025296694235,7.785025296694235,7.785025296694235,7.785025296694235,7.785025296694235,7.785025296694235,7.787936954499605,7.787936954499605,7.787936954499605,7.787936954499605,7.790848612304975,7.790848612304975,7.790848612304975,7.790848612304975,7.790848612304975,7.7937602701103454,7.7937602701103454,7.7937602701103454,7.7937602701103454,7.7937602701103454,7.7937602701103454,7.7937602701103454,7.7937602701103454,7.7937602701103454,7.7937602701103454,7.7937602701103454,7.796671927915715,7.796671927915715,7.796671927915715,7.796671927915715,7.796671927915715,7.796671927915715,7.796671927915715,7.796671927915715,7.799583585721085,7.799583585721085,7.799583585721085,7.799583585721085,7.799583585721085,7.799583585721085,7.799583585721085,7.802495243526455,7.802495243526455,7.802495243526455,7.802495243526455,7.802495243526455,7.802495243526455,7.802495243526455,7.805406901331826,7.805406901331826,7.805406901331826,7.805406901331826,7.805406901331826,7.805406901331826,7.805406901331826,7.805406901331826,7.805406901331826,7.805406901331826,7.805406901331826,7.805406901331826,7.805406901331826,7.808318559137196,7.808318559137196,7.808318559137196,7.808318559137196,7.808318559137196,7.808318559137196,7.808318559137196,7.808318559137196,7.808318559137196,7.808318559137196,7.808318559137196,7.808318559137196,7.808318559137196,7.808318559137196,7.811230216942566,7.811230216942566,7.811230216942566,7.811230216942566,7.811230216942566,7.811230216942566,7.811230216942566,7.811230216942566,7.811230216942566,7.811230216942566,7.811230216942566,7.811230216942566,7.811230216942566,7.811230216942566,7.814141874747936,7.814141874747936,7.814141874747936,7.814141874747936,7.814141874747936,7.814141874747936,7.814141874747936,7.817053532553306,7.817053532553306,7.817053532553306,7.817053532553306,7.817053532553306,7.817053532553306,7.817053532553306,7.817053532553306,7.817053532553306,7.817053532553306,7.817053532553306,7.817053532553306,7.817053532553306,7.817053532553306,7.817053532553306,7.817053532553306,7.819965190358676,7.819965190358676,7.819965190358676,7.819965190358676,7.819965190358676,7.819965190358676,7.819965190358676,7.819965190358676,7.819965190358676,7.819965190358676,7.8228768481640465,7.8228768481640465,7.8228768481640465,7.8228768481640465,7.8228768481640465,7.8228768481640465,7.8228768481640465,7.8228768481640465,7.8228768481640465,7.8228768481640465,7.8228768481640465,7.8228768481640465,7.8228768481640465,7.8228768481640465,7.8228768481640465,7.8228768481640465,7.8228768481640465,7.8228768481640465,7.825788505969417,7.825788505969417,7.825788505969417,7.825788505969417,7.825788505969417,7.825788505969417,7.825788505969417,7.825788505969417,7.825788505969417,7.825788505969417,7.825788505969417,7.825788505969417,7.825788505969417,7.825788505969417,7.825788505969417,7.828700163774787,7.828700163774787,7.828700163774787,7.828700163774787,7.828700163774787,7.828700163774787,7.828700163774787,7.828700163774787,7.828700163774787,7.828700163774787,7.828700163774787,7.828700163774787,7.828700163774787,7.828700163774787,7.828700163774787,7.828700163774787,7.828700163774787,7.831611821580157,7.831611821580157,7.831611821580157,7.831611821580157,7.831611821580157,7.831611821580157,7.831611821580157,7.831611821580157,7.831611821580157,7.831611821580157,7.831611821580157,7.831611821580157,7.831611821580157,7.831611821580157,7.831611821580157,7.831611821580157,7.831611821580157,7.831611821580157,7.831611821580157,7.831611821580157,7.834523479385527,7.834523479385527,7.834523479385527,7.834523479385527,7.834523479385527,7.834523479385527,7.834523479385527,7.834523479385527,7.834523479385527,7.834523479385527,7.834523479385527,7.834523479385527,7.834523479385527,7.834523479385527,7.834523479385527,7.834523479385527,7.834523479385527,7.834523479385527,7.834523479385527,7.834523479385527,7.837435137190897,7.837435137190897,7.837435137190897,7.837435137190897,7.837435137190897,7.837435137190897,7.837435137190897,7.837435137190897,7.837435137190897,7.837435137190897,7.837435137190897,7.837435137190897,7.837435137190897,7.840346794996267,7.840346794996267,7.840346794996267,7.840346794996267,7.840346794996267,7.840346794996267,7.840346794996267,7.840346794996267,7.840346794996267,7.840346794996267,7.840346794996267,7.840346794996267,7.840346794996267,7.840346794996267,7.840346794996267,7.840346794996267,7.843258452801638,7.843258452801638,7.843258452801638,7.843258452801638,7.843258452801638,7.843258452801638,7.843258452801638,7.843258452801638,7.843258452801638,7.843258452801638,7.843258452801638,7.843258452801638,7.843258452801638,7.843258452801638,7.843258452801638,7.843258452801638,7.843258452801638,7.843258452801638,7.846170110607008,7.846170110607008,7.846170110607008,7.846170110607008,7.846170110607008,7.846170110607008,7.846170110607008,7.846170110607008,7.846170110607008,7.846170110607008,7.846170110607008,7.846170110607008,7.846170110607008,7.846170110607008,7.849081768412378,7.849081768412378,7.849081768412378,7.849081768412378,7.849081768412378,7.849081768412378,7.849081768412378,7.849081768412378,7.849081768412378,7.849081768412378,7.849081768412378,7.849081768412378,7.849081768412378,7.849081768412378,7.849081768412378,7.849081768412378,7.851993426217748,7.851993426217748,7.851993426217748,7.851993426217748,7.851993426217748,7.851993426217748,7.851993426217748,7.851993426217748,7.851993426217748,7.851993426217748,7.851993426217748,7.851993426217748,7.851993426217748,7.851993426217748,7.851993426217748,7.854905084023118,7.854905084023118,7.854905084023118,7.854905084023118,7.854905084023118,7.854905084023118,7.854905084023118,7.854905084023118,7.854905084023118,7.854905084023118,7.854905084023118,7.854905084023118,7.854905084023118,7.854905084023118,7.854905084023118,7.854905084023118,7.857816741828488,7.857816741828488,7.857816741828488,7.857816741828488,7.857816741828488,7.857816741828488,7.857816741828488,7.857816741828488,7.857816741828488,7.857816741828488,7.857816741828488,7.857816741828488,7.857816741828488,7.857816741828488,7.857816741828488,7.857816741828488,7.860728399633858,7.860728399633858,7.860728399633858,7.860728399633858,7.860728399633858,7.860728399633858,7.860728399633858,7.860728399633858,7.860728399633858,7.860728399633858,7.860728399633858,7.860728399633858,7.860728399633858,7.863640057439229,7.863640057439229,7.863640057439229,7.863640057439229,7.863640057439229,7.863640057439229,7.863640057439229,7.863640057439229,7.863640057439229,7.863640057439229,7.863640057439229,7.863640057439229,7.863640057439229,7.863640057439229,7.863640057439229,7.863640057439229,7.863640057439229,7.863640057439229,7.863640057439229,7.863640057439229,7.863640057439229,7.863640057439229,7.863640057439229,7.866551715244599,7.866551715244599,7.866551715244599,7.866551715244599,7.866551715244599,7.866551715244599,7.866551715244599,7.866551715244599,7.866551715244599,7.866551715244599,7.866551715244599,7.866551715244599,7.866551715244599,7.866551715244599,7.866551715244599,7.866551715244599,7.866551715244599,7.866551715244599,7.866551715244599,7.866551715244599,7.866551715244599,7.866551715244599,7.869463373049969,7.869463373049969,7.869463373049969,7.869463373049969,7.869463373049969,7.869463373049969,7.869463373049969,7.869463373049969,7.869463373049969,7.869463373049969,7.869463373049969,7.869463373049969,7.869463373049969,7.869463373049969,7.869463373049969,7.8723750308553395,7.8723750308553395,7.8723750308553395,7.8723750308553395,7.8723750308553395,7.8723750308553395,7.8723750308553395,7.8723750308553395,7.8723750308553395,7.8723750308553395,7.8723750308553395,7.8723750308553395,7.8723750308553395,7.8723750308553395,7.8723750308553395,7.8723750308553395,7.875286688660709,7.875286688660709,7.875286688660709,7.875286688660709,7.875286688660709,7.875286688660709,7.875286688660709,7.875286688660709,7.875286688660709,7.875286688660709,7.875286688660709,7.875286688660709,7.875286688660709,7.875286688660709,7.875286688660709,7.875286688660709,7.875286688660709,7.878198346466079,7.878198346466079,7.878198346466079,7.878198346466079,7.878198346466079,7.878198346466079,7.878198346466079,7.878198346466079,7.878198346466079,7.878198346466079,7.878198346466079,7.878198346466079,7.878198346466079,7.878198346466079,7.8811100042714495,7.8811100042714495,7.8811100042714495,7.8811100042714495,7.8811100042714495,7.8811100042714495,7.8811100042714495,7.8811100042714495,7.8811100042714495,7.8811100042714495,7.8811100042714495,7.8811100042714495,7.8811100042714495,7.8811100042714495,7.8811100042714495,7.8811100042714495,7.88402166207682,7.88402166207682,7.88402166207682,7.88402166207682,7.88402166207682,7.88402166207682,7.88402166207682,7.88402166207682,7.88402166207682,7.88402166207682,7.88402166207682,7.88402166207682,7.88402166207682,7.88402166207682,7.88402166207682,7.88693331988219,7.88693331988219,7.88693331988219,7.88693331988219,7.88693331988219,7.88693331988219,7.88693331988219,7.88693331988219,7.88693331988219,7.88693331988219,7.88693331988219,7.88693331988219,7.88693331988219,7.88693331988219,7.88693331988219,7.88693331988219,7.88693331988219,7.88693331988219,7.88984497768756,7.88984497768756,7.88984497768756,7.88984497768756,7.88984497768756,7.88984497768756,7.88984497768756,7.88984497768756,7.88984497768756,7.88984497768756,7.88984497768756,7.88984497768756,7.88984497768756,7.88984497768756,7.88984497768756,7.88984497768756,7.88984497768756,7.89275663549293,7.89275663549293,7.89275663549293,7.89275663549293,7.89275663549293,7.89275663549293,7.89275663549293,7.89275663549293,7.89275663549293,7.89275663549293,7.89275663549293,7.89275663549293,7.89275663549293,7.89275663549293,7.89275663549293,7.89275663549293,7.8956682932983,7.8956682932983,7.8956682932983,7.8956682932983,7.8956682932983,7.8956682932983,7.8956682932983,7.8956682932983,7.8956682932983,7.8956682932983,7.8956682932983,7.8956682932983,7.8956682932983,7.89857995110367,7.89857995110367,7.89857995110367,7.89857995110367,7.89857995110367,7.89857995110367,7.89857995110367,7.89857995110367,7.89857995110367,7.89857995110367,7.89857995110367,7.89857995110367,7.89857995110367,7.89857995110367,7.89857995110367,7.89857995110367,7.901491608909041,7.901491608909041,7.901491608909041,7.901491608909041,7.901491608909041,7.901491608909041,7.901491608909041,7.901491608909041,7.901491608909041,7.901491608909041,7.901491608909041,7.901491608909041,7.901491608909041,7.901491608909041,7.904403266714411,7.904403266714411,7.904403266714411,7.904403266714411,7.904403266714411,7.904403266714411,7.904403266714411,7.904403266714411,7.904403266714411,7.904403266714411,7.904403266714411,7.904403266714411,7.904403266714411,7.904403266714411,7.904403266714411,7.904403266714411,7.904403266714411,7.904403266714411,7.907314924519781,7.907314924519781,7.907314924519781,7.907314924519781,7.907314924519781,7.907314924519781,7.907314924519781,7.907314924519781,7.907314924519781,7.907314924519781,7.907314924519781,7.907314924519781,7.907314924519781,7.907314924519781,7.910226582325151,7.910226582325151,7.910226582325151,7.910226582325151,7.910226582325151,7.910226582325151,7.910226582325151,7.910226582325151,7.910226582325151,7.910226582325151,7.910226582325151,7.910226582325151,7.910226582325151,7.910226582325151,7.913138240130521,7.913138240130521,7.913138240130521,7.913138240130521,7.913138240130521,7.913138240130521,7.913138240130521,7.913138240130521,7.913138240130521,7.913138240130521,7.913138240130521,7.913138240130521,7.913138240130521,7.913138240130521,7.913138240130521,7.913138240130521,7.913138240130521,7.913138240130521,7.913138240130521,7.916049897935891,7.916049897935891,7.916049897935891,7.916049897935891,7.916049897935891,7.916049897935891,7.916049897935891,7.916049897935891,7.916049897935891,7.916049897935891,7.916049897935891,7.916049897935891,7.916049897935891,7.916049897935891,7.916049897935891,7.916049897935891,7.916049897935891,7.916049897935891,7.918961555741261,7.918961555741261,7.918961555741261,7.918961555741261,7.918961555741261,7.918961555741261,7.918961555741261,7.918961555741261,7.918961555741261,7.918961555741261,7.918961555741261,7.918961555741261,7.918961555741261,7.921873213546632,7.921873213546632,7.921873213546632,7.921873213546632,7.921873213546632,7.921873213546632,7.921873213546632,7.921873213546632,7.921873213546632,7.924784871352002,7.924784871352002,7.924784871352002,7.924784871352002,7.924784871352002,7.924784871352002,7.924784871352002,7.924784871352002,7.924784871352002,7.927696529157372,7.927696529157372,7.927696529157372,7.927696529157372,7.927696529157372,7.927696529157372,7.927696529157372,7.927696529157372,7.927696529157372,7.927696529157372,7.927696529157372,7.927696529157372,7.930608186962742,7.930608186962742,7.930608186962742,7.930608186962742,7.930608186962742,7.930608186962742,7.930608186962742,7.930608186962742,7.933519844768112,7.933519844768112,7.933519844768112,7.933519844768112,7.933519844768112,7.933519844768112,7.933519844768112,7.933519844768112,7.933519844768112,7.933519844768112,7.936431502573482,7.936431502573482,7.936431502573482,7.936431502573482,7.936431502573482,7.936431502573482,7.936431502573482,7.936431502573482,7.9393431603788525,7.9393431603788525,7.9393431603788525,7.9393431603788525,7.9393431603788525,7.9393431603788525,7.9393431603788525,7.9393431603788525,7.9393431603788525,7.9393431603788525,7.9393431603788525,7.9393431603788525,7.9393431603788525,7.942254818184223,7.942254818184223,7.942254818184223,7.942254818184223,7.942254818184223,7.942254818184223,7.942254818184223,7.945166475989593,7.945166475989593,7.945166475989593,7.945166475989593,7.945166475989593,7.945166475989593,7.945166475989593,7.945166475989593,7.948078133794963,7.948078133794963,7.948078133794963,7.948078133794963,7.948078133794963,7.948078133794963,7.948078133794963,7.948078133794963,7.948078133794963,7.950989791600333,7.950989791600333,7.950989791600333,7.950989791600333,7.953901449405703,7.953901449405703,7.953901449405703,7.953901449405703,7.953901449405703,7.953901449405703,7.953901449405703,7.953901449405703,7.953901449405703,7.956813107211073,7.956813107211073,7.956813107211073,7.956813107211073,7.956813107211073,7.956813107211073,7.956813107211073,7.956813107211073,7.9597247650164435,7.9597247650164435,7.9597247650164435,7.962636422821814,7.962636422821814,7.962636422821814,7.962636422821814,7.962636422821814,7.962636422821814,7.962636422821814,7.962636422821814,7.965548080627184,7.965548080627184,7.965548080627184,7.965548080627184,7.965548080627184,7.9684597384325535,7.9684597384325535,7.9684597384325535,7.971371396237924,7.971371396237924,7.974283054043294,7.974283054043294,7.974283054043294,7.974283054043294,7.974283054043294,7.977194711848664,7.977194711848664,7.977194711848664,7.980106369654035,7.980106369654035,7.980106369654035,7.980106369654035,7.980106369654035,7.980106369654035,7.983018027459405,7.983018027459405,7.983018027459405,7.983018027459405,7.983018027459405,7.983018027459405,7.985929685264775,7.985929685264775,7.985929685264775,7.985929685264775,7.985929685264775,7.988841343070145,7.988841343070145,7.988841343070145,7.988841343070145,7.991753000875515,7.991753000875515,7.991753000875515,7.994664658680885,7.994664658680885,7.994664658680885,7.994664658680885,7.994664658680885,7.994664658680885,7.994664658680885,7.997576316486255,7.997576316486255,7.997576316486255,7.997576316486255,8.000487974291625,8.003399632096995,8.003399632096995,8.003399632096995,8.003399632096995,8.006311289902365,8.006311289902365,8.006311289902365,8.009222947707736,8.009222947707736,8.009222947707736,8.009222947707736,8.009222947707736,8.012134605513106,8.012134605513106,8.015046263318476,8.015046263318476,8.017957921123847,8.017957921123847,8.017957921123847,8.017957921123847,8.017957921123847,8.017957921123847,8.020869578929217,8.023781236734587,8.023781236734587,8.023781236734587,8.026692894539957,8.029604552345328,8.029604552345328,8.029604552345328,8.032516210150698,8.032516210150698,8.032516210150698,8.032516210150698,8.032516210150698,8.032516210150698,8.038339525761437,8.038339525761437,8.038339525761437,8.038339525761437,8.044162841372177,8.044162841372177,8.047074499177548,8.047074499177548,8.047074499177548,8.052897814788288,8.055809472593658,8.055809472593658,8.055809472593658,8.055809472593658,8.058721130399029,8.058721130399029,8.061632788204399,8.06454444600977,8.06454444600977,8.06454444600977,8.06745610381514,8.07036776162051,8.07327941942588,8.079102735036619,8.08201439284199,8.08492605064736,8.08492605064736,8.08783770845273,8.08783770845273,8.08783770845273,8.09366102406347,8.09366102406347,8.09948433967421,8.102395997479581,8.105307655284951,8.11113097089569,8.11113097089569,8.119865944311801,8.122777602117171,8.125689259922542,8.134424233338652,8.140247548949393,8.154805837976243,8.166452469197724,8.178099100419205,8.189745731640684,8.204304020667536,8.230508940915866,8.242155572137348],\"yaxis\":\"y\",\"type\":\"scatter\"}],                        {\"template\":{\"data\":{\"bar\":[{\"error_x\":{\"color\":\"#2a3f5f\"},\"error_y\":{\"color\":\"#2a3f5f\"},\"marker\":{\"line\":{\"color\":\"#E5ECF6\",\"width\":0.5},\"pattern\":{\"fillmode\":\"overlay\",\"size\":10,\"solidity\":0.2}},\"type\":\"bar\"}],\"barpolar\":[{\"marker\":{\"line\":{\"color\":\"#E5ECF6\",\"width\":0.5},\"pattern\":{\"fillmode\":\"overlay\",\"size\":10,\"solidity\":0.2}},\"type\":\"barpolar\"}],\"carpet\":[{\"aaxis\":{\"endlinecolor\":\"#2a3f5f\",\"gridcolor\":\"white\",\"linecolor\":\"white\",\"minorgridcolor\":\"white\",\"startlinecolor\":\"#2a3f5f\"},\"baxis\":{\"endlinecolor\":\"#2a3f5f\",\"gridcolor\":\"white\",\"linecolor\":\"white\",\"minorgridcolor\":\"white\",\"startlinecolor\":\"#2a3f5f\"},\"type\":\"carpet\"}],\"choropleth\":[{\"colorbar\":{\"outlinewidth\":0,\"ticks\":\"\"},\"type\":\"choropleth\"}],\"contour\":[{\"colorbar\":{\"outlinewidth\":0,\"ticks\":\"\"},\"colorscale\":[[0.0,\"#0d0887\"],[0.1111111111111111,\"#46039f\"],[0.2222222222222222,\"#7201a8\"],[0.3333333333333333,\"#9c179e\"],[0.4444444444444444,\"#bd3786\"],[0.5555555555555556,\"#d8576b\"],[0.6666666666666666,\"#ed7953\"],[0.7777777777777778,\"#fb9f3a\"],[0.8888888888888888,\"#fdca26\"],[1.0,\"#f0f921\"]],\"type\":\"contour\"}],\"contourcarpet\":[{\"colorbar\":{\"outlinewidth\":0,\"ticks\":\"\"},\"type\":\"contourcarpet\"}],\"heatmap\":[{\"colorbar\":{\"outlinewidth\":0,\"ticks\":\"\"},\"colorscale\":[[0.0,\"#0d0887\"],[0.1111111111111111,\"#46039f\"],[0.2222222222222222,\"#7201a8\"],[0.3333333333333333,\"#9c179e\"],[0.4444444444444444,\"#bd3786\"],[0.5555555555555556,\"#d8576b\"],[0.6666666666666666,\"#ed7953\"],[0.7777777777777778,\"#fb9f3a\"],[0.8888888888888888,\"#fdca26\"],[1.0,\"#f0f921\"]],\"type\":\"heatmap\"}],\"heatmapgl\":[{\"colorbar\":{\"outlinewidth\":0,\"ticks\":\"\"},\"colorscale\":[[0.0,\"#0d0887\"],[0.1111111111111111,\"#46039f\"],[0.2222222222222222,\"#7201a8\"],[0.3333333333333333,\"#9c179e\"],[0.4444444444444444,\"#bd3786\"],[0.5555555555555556,\"#d8576b\"],[0.6666666666666666,\"#ed7953\"],[0.7777777777777778,\"#fb9f3a\"],[0.8888888888888888,\"#fdca26\"],[1.0,\"#f0f921\"]],\"type\":\"heatmapgl\"}],\"histogram\":[{\"marker\":{\"pattern\":{\"fillmode\":\"overlay\",\"size\":10,\"solidity\":0.2}},\"type\":\"histogram\"}],\"histogram2d\":[{\"colorbar\":{\"outlinewidth\":0,\"ticks\":\"\"},\"colorscale\":[[0.0,\"#0d0887\"],[0.1111111111111111,\"#46039f\"],[0.2222222222222222,\"#7201a8\"],[0.3333333333333333,\"#9c179e\"],[0.4444444444444444,\"#bd3786\"],[0.5555555555555556,\"#d8576b\"],[0.6666666666666666,\"#ed7953\"],[0.7777777777777778,\"#fb9f3a\"],[0.8888888888888888,\"#fdca26\"],[1.0,\"#f0f921\"]],\"type\":\"histogram2d\"}],\"histogram2dcontour\":[{\"colorbar\":{\"outlinewidth\":0,\"ticks\":\"\"},\"colorscale\":[[0.0,\"#0d0887\"],[0.1111111111111111,\"#46039f\"],[0.2222222222222222,\"#7201a8\"],[0.3333333333333333,\"#9c179e\"],[0.4444444444444444,\"#bd3786\"],[0.5555555555555556,\"#d8576b\"],[0.6666666666666666,\"#ed7953\"],[0.7777777777777778,\"#fb9f3a\"],[0.8888888888888888,\"#fdca26\"],[1.0,\"#f0f921\"]],\"type\":\"histogram2dcontour\"}],\"mesh3d\":[{\"colorbar\":{\"outlinewidth\":0,\"ticks\":\"\"},\"type\":\"mesh3d\"}],\"parcoords\":[{\"line\":{\"colorbar\":{\"outlinewidth\":0,\"ticks\":\"\"}},\"type\":\"parcoords\"}],\"pie\":[{\"automargin\":true,\"type\":\"pie\"}],\"scatter\":[{\"marker\":{\"colorbar\":{\"outlinewidth\":0,\"ticks\":\"\"}},\"type\":\"scatter\"}],\"scatter3d\":[{\"line\":{\"colorbar\":{\"outlinewidth\":0,\"ticks\":\"\"}},\"marker\":{\"colorbar\":{\"outlinewidth\":0,\"ticks\":\"\"}},\"type\":\"scatter3d\"}],\"scattercarpet\":[{\"marker\":{\"colorbar\":{\"outlinewidth\":0,\"ticks\":\"\"}},\"type\":\"scattercarpet\"}],\"scattergeo\":[{\"marker\":{\"colorbar\":{\"outlinewidth\":0,\"ticks\":\"\"}},\"type\":\"scattergeo\"}],\"scattergl\":[{\"marker\":{\"colorbar\":{\"outlinewidth\":0,\"ticks\":\"\"}},\"type\":\"scattergl\"}],\"scattermapbox\":[{\"marker\":{\"colorbar\":{\"outlinewidth\":0,\"ticks\":\"\"}},\"type\":\"scattermapbox\"}],\"scatterpolar\":[{\"marker\":{\"colorbar\":{\"outlinewidth\":0,\"ticks\":\"\"}},\"type\":\"scatterpolar\"}],\"scatterpolargl\":[{\"marker\":{\"colorbar\":{\"outlinewidth\":0,\"ticks\":\"\"}},\"type\":\"scatterpolargl\"}],\"scatterternary\":[{\"marker\":{\"colorbar\":{\"outlinewidth\":0,\"ticks\":\"\"}},\"type\":\"scatterternary\"}],\"surface\":[{\"colorbar\":{\"outlinewidth\":0,\"ticks\":\"\"},\"colorscale\":[[0.0,\"#0d0887\"],[0.1111111111111111,\"#46039f\"],[0.2222222222222222,\"#7201a8\"],[0.3333333333333333,\"#9c179e\"],[0.4444444444444444,\"#bd3786\"],[0.5555555555555556,\"#d8576b\"],[0.6666666666666666,\"#ed7953\"],[0.7777777777777778,\"#fb9f3a\"],[0.8888888888888888,\"#fdca26\"],[1.0,\"#f0f921\"]],\"type\":\"surface\"}],\"table\":[{\"cells\":{\"fill\":{\"color\":\"#EBF0F8\"},\"line\":{\"color\":\"white\"}},\"header\":{\"fill\":{\"color\":\"#C8D4E3\"},\"line\":{\"color\":\"white\"}},\"type\":\"table\"}]},\"layout\":{\"annotationdefaults\":{\"arrowcolor\":\"#2a3f5f\",\"arrowhead\":0,\"arrowwidth\":1},\"autotypenumbers\":\"strict\",\"coloraxis\":{\"colorbar\":{\"outlinewidth\":0,\"ticks\":\"\"}},\"colorscale\":{\"diverging\":[[0,\"#8e0152\"],[0.1,\"#c51b7d\"],[0.2,\"#de77ae\"],[0.3,\"#f1b6da\"],[0.4,\"#fde0ef\"],[0.5,\"#f7f7f7\"],[0.6,\"#e6f5d0\"],[0.7,\"#b8e186\"],[0.8,\"#7fbc41\"],[0.9,\"#4d9221\"],[1,\"#276419\"]],\"sequential\":[[0.0,\"#0d0887\"],[0.1111111111111111,\"#46039f\"],[0.2222222222222222,\"#7201a8\"],[0.3333333333333333,\"#9c179e\"],[0.4444444444444444,\"#bd3786\"],[0.5555555555555556,\"#d8576b\"],[0.6666666666666666,\"#ed7953\"],[0.7777777777777778,\"#fb9f3a\"],[0.8888888888888888,\"#fdca26\"],[1.0,\"#f0f921\"]],\"sequentialminus\":[[0.0,\"#0d0887\"],[0.1111111111111111,\"#46039f\"],[0.2222222222222222,\"#7201a8\"],[0.3333333333333333,\"#9c179e\"],[0.4444444444444444,\"#bd3786\"],[0.5555555555555556,\"#d8576b\"],[0.6666666666666666,\"#ed7953\"],[0.7777777777777778,\"#fb9f3a\"],[0.8888888888888888,\"#fdca26\"],[1.0,\"#f0f921\"]]},\"colorway\":[\"#636efa\",\"#EF553B\",\"#00cc96\",\"#ab63fa\",\"#FFA15A\",\"#19d3f3\",\"#FF6692\",\"#B6E880\",\"#FF97FF\",\"#FECB52\"],\"font\":{\"color\":\"#2a3f5f\"},\"geo\":{\"bgcolor\":\"white\",\"lakecolor\":\"white\",\"landcolor\":\"#E5ECF6\",\"showlakes\":true,\"showland\":true,\"subunitcolor\":\"white\"},\"hoverlabel\":{\"align\":\"left\"},\"hovermode\":\"closest\",\"mapbox\":{\"style\":\"light\"},\"paper_bgcolor\":\"white\",\"plot_bgcolor\":\"#E5ECF6\",\"polar\":{\"angularaxis\":{\"gridcolor\":\"white\",\"linecolor\":\"white\",\"ticks\":\"\"},\"bgcolor\":\"#E5ECF6\",\"radialaxis\":{\"gridcolor\":\"white\",\"linecolor\":\"white\",\"ticks\":\"\"}},\"scene\":{\"xaxis\":{\"backgroundcolor\":\"#E5ECF6\",\"gridcolor\":\"white\",\"gridwidth\":2,\"linecolor\":\"white\",\"showbackground\":true,\"ticks\":\"\",\"zerolinecolor\":\"white\"},\"yaxis\":{\"backgroundcolor\":\"#E5ECF6\",\"gridcolor\":\"white\",\"gridwidth\":2,\"linecolor\":\"white\",\"showbackground\":true,\"ticks\":\"\",\"zerolinecolor\":\"white\"},\"zaxis\":{\"backgroundcolor\":\"#E5ECF6\",\"gridcolor\":\"white\",\"gridwidth\":2,\"linecolor\":\"white\",\"showbackground\":true,\"ticks\":\"\",\"zerolinecolor\":\"white\"}},\"shapedefaults\":{\"line\":{\"color\":\"#2a3f5f\"}},\"ternary\":{\"aaxis\":{\"gridcolor\":\"white\",\"linecolor\":\"white\",\"ticks\":\"\"},\"baxis\":{\"gridcolor\":\"white\",\"linecolor\":\"white\",\"ticks\":\"\"},\"bgcolor\":\"#E5ECF6\",\"caxis\":{\"gridcolor\":\"white\",\"linecolor\":\"white\",\"ticks\":\"\"}},\"title\":{\"x\":0.05},\"xaxis\":{\"automargin\":true,\"gridcolor\":\"white\",\"linecolor\":\"white\",\"ticks\":\"\",\"title\":{\"standoff\":15},\"zerolinecolor\":\"white\",\"zerolinewidth\":2},\"yaxis\":{\"automargin\":true,\"gridcolor\":\"white\",\"linecolor\":\"white\",\"ticks\":\"\",\"title\":{\"standoff\":15},\"zerolinecolor\":\"white\",\"zerolinewidth\":2}}},\"xaxis\":{\"anchor\":\"y\",\"domain\":[0.0,1.0],\"title\":{\"text\":\"duration\"}},\"yaxis\":{\"anchor\":\"x\",\"domain\":[0.0,1.0],\"title\":{\"text\":\"star_rating\"}},\"legend\":{\"tracegroupgap\":0},\"title\":{\"text\":\"Duration vs Star Rating\"}},                        {\"responsive\": true}                    ).then(function(){\n",
       "                            \n",
       "var gd = document.getElementById('3fb1b304-ff26-45fa-8c13-ddc98675d700');\n",
       "var x = new MutationObserver(function (mutations, observer) {{\n",
       "        var display = window.getComputedStyle(gd).display;\n",
       "        if (!display || display === 'none') {{\n",
       "            console.log([gd, 'removed!']);\n",
       "            Plotly.purge(gd);\n",
       "            observer.disconnect();\n",
       "        }}\n",
       "}});\n",
       "\n",
       "// Listen for the removal of the full notebook cells\n",
       "var notebookContainer = gd.closest('#notebook-container');\n",
       "if (notebookContainer) {{\n",
       "    x.observe(notebookContainer, {childList: true});\n",
       "}}\n",
       "\n",
       "// Listen for the clearing of the current output cell\n",
       "var outputEl = gd.closest('.output');\n",
       "if (outputEl) {{\n",
       "    x.observe(outputEl, {childList: true});\n",
       "}}\n",
       "\n",
       "                        })                };                });            </script>        </div>"
      ]
     },
     "metadata": {},
     "output_type": "display_data"
    }
   ],
   "source": [
    "# Answer: There is a positive correlation between duration and star rating, as indicated by the trend line\n",
    "px.scatter(movies, x='duration', y='star_rating', trendline='ols',  title='Duration vs Star Rating')"
   ]
  },
  {
   "cell_type": "markdown",
   "metadata": {},
   "source": [
    "#### Calculate the average duration for each genre."
   ]
  },
  {
   "cell_type": "code",
   "execution_count": 81,
   "metadata": {},
   "outputs": [
    {
     "data": {
      "text/html": [
       "<div>\n",
       "<style scoped>\n",
       "    .dataframe tbody tr th:only-of-type {\n",
       "        vertical-align: middle;\n",
       "    }\n",
       "\n",
       "    .dataframe tbody tr th {\n",
       "        vertical-align: top;\n",
       "    }\n",
       "\n",
       "    .dataframe thead th {\n",
       "        text-align: right;\n",
       "    }\n",
       "</style>\n",
       "<table border=\"1\" class=\"dataframe\">\n",
       "  <thead>\n",
       "    <tr style=\"text-align: right;\">\n",
       "      <th></th>\n",
       "      <th>genre</th>\n",
       "      <th>duration</th>\n",
       "    </tr>\n",
       "  </thead>\n",
       "  <tbody>\n",
       "    <tr>\n",
       "      <th>0</th>\n",
       "      <td>Action</td>\n",
       "      <td>126.485294</td>\n",
       "    </tr>\n",
       "    <tr>\n",
       "      <th>1</th>\n",
       "      <td>Adventure</td>\n",
       "      <td>134.840000</td>\n",
       "    </tr>\n",
       "    <tr>\n",
       "      <th>2</th>\n",
       "      <td>Animation</td>\n",
       "      <td>96.596774</td>\n",
       "    </tr>\n",
       "    <tr>\n",
       "      <th>3</th>\n",
       "      <td>Biography</td>\n",
       "      <td>131.844156</td>\n",
       "    </tr>\n",
       "    <tr>\n",
       "      <th>4</th>\n",
       "      <td>Comedy</td>\n",
       "      <td>107.602564</td>\n",
       "    </tr>\n",
       "    <tr>\n",
       "      <th>5</th>\n",
       "      <td>Crime</td>\n",
       "      <td>122.298387</td>\n",
       "    </tr>\n",
       "    <tr>\n",
       "      <th>6</th>\n",
       "      <td>Drama</td>\n",
       "      <td>126.539568</td>\n",
       "    </tr>\n",
       "    <tr>\n",
       "      <th>7</th>\n",
       "      <td>Family</td>\n",
       "      <td>107.500000</td>\n",
       "    </tr>\n",
       "    <tr>\n",
       "      <th>8</th>\n",
       "      <td>Fantasy</td>\n",
       "      <td>112.000000</td>\n",
       "    </tr>\n",
       "    <tr>\n",
       "      <th>9</th>\n",
       "      <td>Film-Noir</td>\n",
       "      <td>97.333333</td>\n",
       "    </tr>\n",
       "    <tr>\n",
       "      <th>10</th>\n",
       "      <td>History</td>\n",
       "      <td>66.000000</td>\n",
       "    </tr>\n",
       "    <tr>\n",
       "      <th>11</th>\n",
       "      <td>Horror</td>\n",
       "      <td>102.517241</td>\n",
       "    </tr>\n",
       "    <tr>\n",
       "      <th>12</th>\n",
       "      <td>Mystery</td>\n",
       "      <td>115.625000</td>\n",
       "    </tr>\n",
       "    <tr>\n",
       "      <th>13</th>\n",
       "      <td>Sci-Fi</td>\n",
       "      <td>109.000000</td>\n",
       "    </tr>\n",
       "    <tr>\n",
       "      <th>14</th>\n",
       "      <td>Thriller</td>\n",
       "      <td>114.200000</td>\n",
       "    </tr>\n",
       "    <tr>\n",
       "      <th>15</th>\n",
       "      <td>Western</td>\n",
       "      <td>136.666667</td>\n",
       "    </tr>\n",
       "  </tbody>\n",
       "</table>\n",
       "</div>"
      ],
      "text/plain": [
       "        genre    duration\n",
       "0      Action  126.485294\n",
       "1   Adventure  134.840000\n",
       "2   Animation   96.596774\n",
       "3   Biography  131.844156\n",
       "4      Comedy  107.602564\n",
       "5       Crime  122.298387\n",
       "6       Drama  126.539568\n",
       "7      Family  107.500000\n",
       "8     Fantasy  112.000000\n",
       "9   Film-Noir   97.333333\n",
       "10    History   66.000000\n",
       "11     Horror  102.517241\n",
       "12    Mystery  115.625000\n",
       "13     Sci-Fi  109.000000\n",
       "14   Thriller  114.200000\n",
       "15    Western  136.666667"
      ]
     },
     "execution_count": 81,
     "metadata": {},
     "output_type": "execute_result"
    }
   ],
   "source": [
    "# Answer:\n",
    "df = movies.groupby('genre')['duration'].mean().reset_index()\n",
    "df"
   ]
  },
  {
   "cell_type": "markdown",
   "metadata": {},
   "source": [
    "## Advanced level"
   ]
  },
  {
   "cell_type": "markdown",
   "metadata": {},
   "source": [
    "#### Visualize the relationship between content rating and duration."
   ]
  },
  {
   "cell_type": "code",
   "execution_count": 82,
   "metadata": {},
   "outputs": [
    {
     "data": {
      "text/plain": [
       "array(['R', 'PG-13', 'UNRATED', 'PG', 'G', 'NC-17', 'UNKNOWN'],\n",
       "      dtype=object)"
      ]
     },
     "execution_count": 82,
     "metadata": {},
     "output_type": "execute_result"
    }
   ],
   "source": [
    "#Answer: As the content ratings increase, the star ratings trend down \n",
    "\n",
    "# Find the unique content ratings (this will be used in the next cell)\n",
    "movies['content_rating'].unique()"
   ]
  },
  {
   "cell_type": "code",
   "execution_count": 83,
   "metadata": {},
   "outputs": [
    {
     "data": {
      "application/vnd.plotly.v1+json": {
       "config": {
        "plotlyServerURL": "https://plot.ly"
       },
       "data": [
        {
         "alignmentgroup": "True",
         "hovertemplate": "star_rating=%{x}<br>content_rating=%{y}<extra></extra>",
         "legendgroup": "",
         "marker": {
          "color": "#636efa",
          "pattern": {
           "shape": ""
          }
         },
         "name": "",
         "offsetgroup": "",
         "orientation": "h",
         "showlegend": false,
         "textposition": "auto",
         "type": "bar",
         "x": [
          7.766666666666666,
          8.0625,
          7.990625,
          7.879674796747966,
          7.828571428571421,
          7.85478260869563,
          7.758333333333334
         ],
         "xaxis": "x",
         "y": [
          "UNKNOWN",
          "UNRATED",
          "G",
          "PG",
          "PG-13",
          "R",
          "NC-17"
         ],
         "yaxis": "y"
        }
       ],
       "layout": {
        "barmode": "relative",
        "legend": {
         "tracegroupgap": 0
        },
        "template": {
         "data": {
          "bar": [
           {
            "error_x": {
             "color": "#2a3f5f"
            },
            "error_y": {
             "color": "#2a3f5f"
            },
            "marker": {
             "line": {
              "color": "#E5ECF6",
              "width": 0.5
             },
             "pattern": {
              "fillmode": "overlay",
              "size": 10,
              "solidity": 0.2
             }
            },
            "type": "bar"
           }
          ],
          "barpolar": [
           {
            "marker": {
             "line": {
              "color": "#E5ECF6",
              "width": 0.5
             },
             "pattern": {
              "fillmode": "overlay",
              "size": 10,
              "solidity": 0.2
             }
            },
            "type": "barpolar"
           }
          ],
          "carpet": [
           {
            "aaxis": {
             "endlinecolor": "#2a3f5f",
             "gridcolor": "white",
             "linecolor": "white",
             "minorgridcolor": "white",
             "startlinecolor": "#2a3f5f"
            },
            "baxis": {
             "endlinecolor": "#2a3f5f",
             "gridcolor": "white",
             "linecolor": "white",
             "minorgridcolor": "white",
             "startlinecolor": "#2a3f5f"
            },
            "type": "carpet"
           }
          ],
          "choropleth": [
           {
            "colorbar": {
             "outlinewidth": 0,
             "ticks": ""
            },
            "type": "choropleth"
           }
          ],
          "contour": [
           {
            "colorbar": {
             "outlinewidth": 0,
             "ticks": ""
            },
            "colorscale": [
             [
              0,
              "#0d0887"
             ],
             [
              0.1111111111111111,
              "#46039f"
             ],
             [
              0.2222222222222222,
              "#7201a8"
             ],
             [
              0.3333333333333333,
              "#9c179e"
             ],
             [
              0.4444444444444444,
              "#bd3786"
             ],
             [
              0.5555555555555556,
              "#d8576b"
             ],
             [
              0.6666666666666666,
              "#ed7953"
             ],
             [
              0.7777777777777778,
              "#fb9f3a"
             ],
             [
              0.8888888888888888,
              "#fdca26"
             ],
             [
              1,
              "#f0f921"
             ]
            ],
            "type": "contour"
           }
          ],
          "contourcarpet": [
           {
            "colorbar": {
             "outlinewidth": 0,
             "ticks": ""
            },
            "type": "contourcarpet"
           }
          ],
          "heatmap": [
           {
            "colorbar": {
             "outlinewidth": 0,
             "ticks": ""
            },
            "colorscale": [
             [
              0,
              "#0d0887"
             ],
             [
              0.1111111111111111,
              "#46039f"
             ],
             [
              0.2222222222222222,
              "#7201a8"
             ],
             [
              0.3333333333333333,
              "#9c179e"
             ],
             [
              0.4444444444444444,
              "#bd3786"
             ],
             [
              0.5555555555555556,
              "#d8576b"
             ],
             [
              0.6666666666666666,
              "#ed7953"
             ],
             [
              0.7777777777777778,
              "#fb9f3a"
             ],
             [
              0.8888888888888888,
              "#fdca26"
             ],
             [
              1,
              "#f0f921"
             ]
            ],
            "type": "heatmap"
           }
          ],
          "heatmapgl": [
           {
            "colorbar": {
             "outlinewidth": 0,
             "ticks": ""
            },
            "colorscale": [
             [
              0,
              "#0d0887"
             ],
             [
              0.1111111111111111,
              "#46039f"
             ],
             [
              0.2222222222222222,
              "#7201a8"
             ],
             [
              0.3333333333333333,
              "#9c179e"
             ],
             [
              0.4444444444444444,
              "#bd3786"
             ],
             [
              0.5555555555555556,
              "#d8576b"
             ],
             [
              0.6666666666666666,
              "#ed7953"
             ],
             [
              0.7777777777777778,
              "#fb9f3a"
             ],
             [
              0.8888888888888888,
              "#fdca26"
             ],
             [
              1,
              "#f0f921"
             ]
            ],
            "type": "heatmapgl"
           }
          ],
          "histogram": [
           {
            "marker": {
             "pattern": {
              "fillmode": "overlay",
              "size": 10,
              "solidity": 0.2
             }
            },
            "type": "histogram"
           }
          ],
          "histogram2d": [
           {
            "colorbar": {
             "outlinewidth": 0,
             "ticks": ""
            },
            "colorscale": [
             [
              0,
              "#0d0887"
             ],
             [
              0.1111111111111111,
              "#46039f"
             ],
             [
              0.2222222222222222,
              "#7201a8"
             ],
             [
              0.3333333333333333,
              "#9c179e"
             ],
             [
              0.4444444444444444,
              "#bd3786"
             ],
             [
              0.5555555555555556,
              "#d8576b"
             ],
             [
              0.6666666666666666,
              "#ed7953"
             ],
             [
              0.7777777777777778,
              "#fb9f3a"
             ],
             [
              0.8888888888888888,
              "#fdca26"
             ],
             [
              1,
              "#f0f921"
             ]
            ],
            "type": "histogram2d"
           }
          ],
          "histogram2dcontour": [
           {
            "colorbar": {
             "outlinewidth": 0,
             "ticks": ""
            },
            "colorscale": [
             [
              0,
              "#0d0887"
             ],
             [
              0.1111111111111111,
              "#46039f"
             ],
             [
              0.2222222222222222,
              "#7201a8"
             ],
             [
              0.3333333333333333,
              "#9c179e"
             ],
             [
              0.4444444444444444,
              "#bd3786"
             ],
             [
              0.5555555555555556,
              "#d8576b"
             ],
             [
              0.6666666666666666,
              "#ed7953"
             ],
             [
              0.7777777777777778,
              "#fb9f3a"
             ],
             [
              0.8888888888888888,
              "#fdca26"
             ],
             [
              1,
              "#f0f921"
             ]
            ],
            "type": "histogram2dcontour"
           }
          ],
          "mesh3d": [
           {
            "colorbar": {
             "outlinewidth": 0,
             "ticks": ""
            },
            "type": "mesh3d"
           }
          ],
          "parcoords": [
           {
            "line": {
             "colorbar": {
              "outlinewidth": 0,
              "ticks": ""
             }
            },
            "type": "parcoords"
           }
          ],
          "pie": [
           {
            "automargin": true,
            "type": "pie"
           }
          ],
          "scatter": [
           {
            "marker": {
             "colorbar": {
              "outlinewidth": 0,
              "ticks": ""
             }
            },
            "type": "scatter"
           }
          ],
          "scatter3d": [
           {
            "line": {
             "colorbar": {
              "outlinewidth": 0,
              "ticks": ""
             }
            },
            "marker": {
             "colorbar": {
              "outlinewidth": 0,
              "ticks": ""
             }
            },
            "type": "scatter3d"
           }
          ],
          "scattercarpet": [
           {
            "marker": {
             "colorbar": {
              "outlinewidth": 0,
              "ticks": ""
             }
            },
            "type": "scattercarpet"
           }
          ],
          "scattergeo": [
           {
            "marker": {
             "colorbar": {
              "outlinewidth": 0,
              "ticks": ""
             }
            },
            "type": "scattergeo"
           }
          ],
          "scattergl": [
           {
            "marker": {
             "colorbar": {
              "outlinewidth": 0,
              "ticks": ""
             }
            },
            "type": "scattergl"
           }
          ],
          "scattermapbox": [
           {
            "marker": {
             "colorbar": {
              "outlinewidth": 0,
              "ticks": ""
             }
            },
            "type": "scattermapbox"
           }
          ],
          "scatterpolar": [
           {
            "marker": {
             "colorbar": {
              "outlinewidth": 0,
              "ticks": ""
             }
            },
            "type": "scatterpolar"
           }
          ],
          "scatterpolargl": [
           {
            "marker": {
             "colorbar": {
              "outlinewidth": 0,
              "ticks": ""
             }
            },
            "type": "scatterpolargl"
           }
          ],
          "scatterternary": [
           {
            "marker": {
             "colorbar": {
              "outlinewidth": 0,
              "ticks": ""
             }
            },
            "type": "scatterternary"
           }
          ],
          "surface": [
           {
            "colorbar": {
             "outlinewidth": 0,
             "ticks": ""
            },
            "colorscale": [
             [
              0,
              "#0d0887"
             ],
             [
              0.1111111111111111,
              "#46039f"
             ],
             [
              0.2222222222222222,
              "#7201a8"
             ],
             [
              0.3333333333333333,
              "#9c179e"
             ],
             [
              0.4444444444444444,
              "#bd3786"
             ],
             [
              0.5555555555555556,
              "#d8576b"
             ],
             [
              0.6666666666666666,
              "#ed7953"
             ],
             [
              0.7777777777777778,
              "#fb9f3a"
             ],
             [
              0.8888888888888888,
              "#fdca26"
             ],
             [
              1,
              "#f0f921"
             ]
            ],
            "type": "surface"
           }
          ],
          "table": [
           {
            "cells": {
             "fill": {
              "color": "#EBF0F8"
             },
             "line": {
              "color": "white"
             }
            },
            "header": {
             "fill": {
              "color": "#C8D4E3"
             },
             "line": {
              "color": "white"
             }
            },
            "type": "table"
           }
          ]
         },
         "layout": {
          "annotationdefaults": {
           "arrowcolor": "#2a3f5f",
           "arrowhead": 0,
           "arrowwidth": 1
          },
          "autotypenumbers": "strict",
          "coloraxis": {
           "colorbar": {
            "outlinewidth": 0,
            "ticks": ""
           }
          },
          "colorscale": {
           "diverging": [
            [
             0,
             "#8e0152"
            ],
            [
             0.1,
             "#c51b7d"
            ],
            [
             0.2,
             "#de77ae"
            ],
            [
             0.3,
             "#f1b6da"
            ],
            [
             0.4,
             "#fde0ef"
            ],
            [
             0.5,
             "#f7f7f7"
            ],
            [
             0.6,
             "#e6f5d0"
            ],
            [
             0.7,
             "#b8e186"
            ],
            [
             0.8,
             "#7fbc41"
            ],
            [
             0.9,
             "#4d9221"
            ],
            [
             1,
             "#276419"
            ]
           ],
           "sequential": [
            [
             0,
             "#0d0887"
            ],
            [
             0.1111111111111111,
             "#46039f"
            ],
            [
             0.2222222222222222,
             "#7201a8"
            ],
            [
             0.3333333333333333,
             "#9c179e"
            ],
            [
             0.4444444444444444,
             "#bd3786"
            ],
            [
             0.5555555555555556,
             "#d8576b"
            ],
            [
             0.6666666666666666,
             "#ed7953"
            ],
            [
             0.7777777777777778,
             "#fb9f3a"
            ],
            [
             0.8888888888888888,
             "#fdca26"
            ],
            [
             1,
             "#f0f921"
            ]
           ],
           "sequentialminus": [
            [
             0,
             "#0d0887"
            ],
            [
             0.1111111111111111,
             "#46039f"
            ],
            [
             0.2222222222222222,
             "#7201a8"
            ],
            [
             0.3333333333333333,
             "#9c179e"
            ],
            [
             0.4444444444444444,
             "#bd3786"
            ],
            [
             0.5555555555555556,
             "#d8576b"
            ],
            [
             0.6666666666666666,
             "#ed7953"
            ],
            [
             0.7777777777777778,
             "#fb9f3a"
            ],
            [
             0.8888888888888888,
             "#fdca26"
            ],
            [
             1,
             "#f0f921"
            ]
           ]
          },
          "colorway": [
           "#636efa",
           "#EF553B",
           "#00cc96",
           "#ab63fa",
           "#FFA15A",
           "#19d3f3",
           "#FF6692",
           "#B6E880",
           "#FF97FF",
           "#FECB52"
          ],
          "font": {
           "color": "#2a3f5f"
          },
          "geo": {
           "bgcolor": "white",
           "lakecolor": "white",
           "landcolor": "#E5ECF6",
           "showlakes": true,
           "showland": true,
           "subunitcolor": "white"
          },
          "hoverlabel": {
           "align": "left"
          },
          "hovermode": "closest",
          "mapbox": {
           "style": "light"
          },
          "paper_bgcolor": "white",
          "plot_bgcolor": "#E5ECF6",
          "polar": {
           "angularaxis": {
            "gridcolor": "white",
            "linecolor": "white",
            "ticks": ""
           },
           "bgcolor": "#E5ECF6",
           "radialaxis": {
            "gridcolor": "white",
            "linecolor": "white",
            "ticks": ""
           }
          },
          "scene": {
           "xaxis": {
            "backgroundcolor": "#E5ECF6",
            "gridcolor": "white",
            "gridwidth": 2,
            "linecolor": "white",
            "showbackground": true,
            "ticks": "",
            "zerolinecolor": "white"
           },
           "yaxis": {
            "backgroundcolor": "#E5ECF6",
            "gridcolor": "white",
            "gridwidth": 2,
            "linecolor": "white",
            "showbackground": true,
            "ticks": "",
            "zerolinecolor": "white"
           },
           "zaxis": {
            "backgroundcolor": "#E5ECF6",
            "gridcolor": "white",
            "gridwidth": 2,
            "linecolor": "white",
            "showbackground": true,
            "ticks": "",
            "zerolinecolor": "white"
           }
          },
          "shapedefaults": {
           "line": {
            "color": "#2a3f5f"
           }
          },
          "ternary": {
           "aaxis": {
            "gridcolor": "white",
            "linecolor": "white",
            "ticks": ""
           },
           "baxis": {
            "gridcolor": "white",
            "linecolor": "white",
            "ticks": ""
           },
           "bgcolor": "#E5ECF6",
           "caxis": {
            "gridcolor": "white",
            "linecolor": "white",
            "ticks": ""
           }
          },
          "title": {
           "x": 0.05
          },
          "xaxis": {
           "automargin": true,
           "gridcolor": "white",
           "linecolor": "white",
           "ticks": "",
           "title": {
            "standoff": 15
           },
           "zerolinecolor": "white",
           "zerolinewidth": 2
          },
          "yaxis": {
           "automargin": true,
           "gridcolor": "white",
           "linecolor": "white",
           "ticks": "",
           "title": {
            "standoff": 15
           },
           "zerolinecolor": "white",
           "zerolinewidth": 2
          }
         }
        },
        "title": {
         "text": "Content Rating vs Star Rating"
        },
        "xaxis": {
         "anchor": "y",
         "domain": [
          0,
          1
         ],
         "range": [
          7.6,
          8.1
         ],
         "title": {
          "text": "star_rating"
         }
        },
        "yaxis": {
         "anchor": "x",
         "domain": [
          0,
          1
         ],
         "title": {
          "text": "content_rating"
         }
        }
       }
      },
      "text/html": [
       "<div>                            <div id=\"d76767cc-996d-4af1-96f6-6a6e84fdf796\" class=\"plotly-graph-div\" style=\"height:525px; width:100%;\"></div>            <script type=\"text/javascript\">                require([\"plotly\"], function(Plotly) {                    window.PLOTLYENV=window.PLOTLYENV || {};                                    if (document.getElementById(\"d76767cc-996d-4af1-96f6-6a6e84fdf796\")) {                    Plotly.newPlot(                        \"d76767cc-996d-4af1-96f6-6a6e84fdf796\",                        [{\"alignmentgroup\":\"True\",\"hovertemplate\":\"star_rating=%{x}<br>content_rating=%{y}<extra></extra>\",\"legendgroup\":\"\",\"marker\":{\"color\":\"#636efa\",\"pattern\":{\"shape\":\"\"}},\"name\":\"\",\"offsetgroup\":\"\",\"orientation\":\"h\",\"showlegend\":false,\"textposition\":\"auto\",\"x\":[7.766666666666666,8.0625,7.990625,7.879674796747966,7.828571428571421,7.85478260869563,7.758333333333334],\"xaxis\":\"x\",\"y\":[\"UNKNOWN\",\"UNRATED\",\"G\",\"PG\",\"PG-13\",\"R\",\"NC-17\"],\"yaxis\":\"y\",\"type\":\"bar\"}],                        {\"template\":{\"data\":{\"bar\":[{\"error_x\":{\"color\":\"#2a3f5f\"},\"error_y\":{\"color\":\"#2a3f5f\"},\"marker\":{\"line\":{\"color\":\"#E5ECF6\",\"width\":0.5},\"pattern\":{\"fillmode\":\"overlay\",\"size\":10,\"solidity\":0.2}},\"type\":\"bar\"}],\"barpolar\":[{\"marker\":{\"line\":{\"color\":\"#E5ECF6\",\"width\":0.5},\"pattern\":{\"fillmode\":\"overlay\",\"size\":10,\"solidity\":0.2}},\"type\":\"barpolar\"}],\"carpet\":[{\"aaxis\":{\"endlinecolor\":\"#2a3f5f\",\"gridcolor\":\"white\",\"linecolor\":\"white\",\"minorgridcolor\":\"white\",\"startlinecolor\":\"#2a3f5f\"},\"baxis\":{\"endlinecolor\":\"#2a3f5f\",\"gridcolor\":\"white\",\"linecolor\":\"white\",\"minorgridcolor\":\"white\",\"startlinecolor\":\"#2a3f5f\"},\"type\":\"carpet\"}],\"choropleth\":[{\"colorbar\":{\"outlinewidth\":0,\"ticks\":\"\"},\"type\":\"choropleth\"}],\"contour\":[{\"colorbar\":{\"outlinewidth\":0,\"ticks\":\"\"},\"colorscale\":[[0.0,\"#0d0887\"],[0.1111111111111111,\"#46039f\"],[0.2222222222222222,\"#7201a8\"],[0.3333333333333333,\"#9c179e\"],[0.4444444444444444,\"#bd3786\"],[0.5555555555555556,\"#d8576b\"],[0.6666666666666666,\"#ed7953\"],[0.7777777777777778,\"#fb9f3a\"],[0.8888888888888888,\"#fdca26\"],[1.0,\"#f0f921\"]],\"type\":\"contour\"}],\"contourcarpet\":[{\"colorbar\":{\"outlinewidth\":0,\"ticks\":\"\"},\"type\":\"contourcarpet\"}],\"heatmap\":[{\"colorbar\":{\"outlinewidth\":0,\"ticks\":\"\"},\"colorscale\":[[0.0,\"#0d0887\"],[0.1111111111111111,\"#46039f\"],[0.2222222222222222,\"#7201a8\"],[0.3333333333333333,\"#9c179e\"],[0.4444444444444444,\"#bd3786\"],[0.5555555555555556,\"#d8576b\"],[0.6666666666666666,\"#ed7953\"],[0.7777777777777778,\"#fb9f3a\"],[0.8888888888888888,\"#fdca26\"],[1.0,\"#f0f921\"]],\"type\":\"heatmap\"}],\"heatmapgl\":[{\"colorbar\":{\"outlinewidth\":0,\"ticks\":\"\"},\"colorscale\":[[0.0,\"#0d0887\"],[0.1111111111111111,\"#46039f\"],[0.2222222222222222,\"#7201a8\"],[0.3333333333333333,\"#9c179e\"],[0.4444444444444444,\"#bd3786\"],[0.5555555555555556,\"#d8576b\"],[0.6666666666666666,\"#ed7953\"],[0.7777777777777778,\"#fb9f3a\"],[0.8888888888888888,\"#fdca26\"],[1.0,\"#f0f921\"]],\"type\":\"heatmapgl\"}],\"histogram\":[{\"marker\":{\"pattern\":{\"fillmode\":\"overlay\",\"size\":10,\"solidity\":0.2}},\"type\":\"histogram\"}],\"histogram2d\":[{\"colorbar\":{\"outlinewidth\":0,\"ticks\":\"\"},\"colorscale\":[[0.0,\"#0d0887\"],[0.1111111111111111,\"#46039f\"],[0.2222222222222222,\"#7201a8\"],[0.3333333333333333,\"#9c179e\"],[0.4444444444444444,\"#bd3786\"],[0.5555555555555556,\"#d8576b\"],[0.6666666666666666,\"#ed7953\"],[0.7777777777777778,\"#fb9f3a\"],[0.8888888888888888,\"#fdca26\"],[1.0,\"#f0f921\"]],\"type\":\"histogram2d\"}],\"histogram2dcontour\":[{\"colorbar\":{\"outlinewidth\":0,\"ticks\":\"\"},\"colorscale\":[[0.0,\"#0d0887\"],[0.1111111111111111,\"#46039f\"],[0.2222222222222222,\"#7201a8\"],[0.3333333333333333,\"#9c179e\"],[0.4444444444444444,\"#bd3786\"],[0.5555555555555556,\"#d8576b\"],[0.6666666666666666,\"#ed7953\"],[0.7777777777777778,\"#fb9f3a\"],[0.8888888888888888,\"#fdca26\"],[1.0,\"#f0f921\"]],\"type\":\"histogram2dcontour\"}],\"mesh3d\":[{\"colorbar\":{\"outlinewidth\":0,\"ticks\":\"\"},\"type\":\"mesh3d\"}],\"parcoords\":[{\"line\":{\"colorbar\":{\"outlinewidth\":0,\"ticks\":\"\"}},\"type\":\"parcoords\"}],\"pie\":[{\"automargin\":true,\"type\":\"pie\"}],\"scatter\":[{\"marker\":{\"colorbar\":{\"outlinewidth\":0,\"ticks\":\"\"}},\"type\":\"scatter\"}],\"scatter3d\":[{\"line\":{\"colorbar\":{\"outlinewidth\":0,\"ticks\":\"\"}},\"marker\":{\"colorbar\":{\"outlinewidth\":0,\"ticks\":\"\"}},\"type\":\"scatter3d\"}],\"scattercarpet\":[{\"marker\":{\"colorbar\":{\"outlinewidth\":0,\"ticks\":\"\"}},\"type\":\"scattercarpet\"}],\"scattergeo\":[{\"marker\":{\"colorbar\":{\"outlinewidth\":0,\"ticks\":\"\"}},\"type\":\"scattergeo\"}],\"scattergl\":[{\"marker\":{\"colorbar\":{\"outlinewidth\":0,\"ticks\":\"\"}},\"type\":\"scattergl\"}],\"scattermapbox\":[{\"marker\":{\"colorbar\":{\"outlinewidth\":0,\"ticks\":\"\"}},\"type\":\"scattermapbox\"}],\"scatterpolar\":[{\"marker\":{\"colorbar\":{\"outlinewidth\":0,\"ticks\":\"\"}},\"type\":\"scatterpolar\"}],\"scatterpolargl\":[{\"marker\":{\"colorbar\":{\"outlinewidth\":0,\"ticks\":\"\"}},\"type\":\"scatterpolargl\"}],\"scatterternary\":[{\"marker\":{\"colorbar\":{\"outlinewidth\":0,\"ticks\":\"\"}},\"type\":\"scatterternary\"}],\"surface\":[{\"colorbar\":{\"outlinewidth\":0,\"ticks\":\"\"},\"colorscale\":[[0.0,\"#0d0887\"],[0.1111111111111111,\"#46039f\"],[0.2222222222222222,\"#7201a8\"],[0.3333333333333333,\"#9c179e\"],[0.4444444444444444,\"#bd3786\"],[0.5555555555555556,\"#d8576b\"],[0.6666666666666666,\"#ed7953\"],[0.7777777777777778,\"#fb9f3a\"],[0.8888888888888888,\"#fdca26\"],[1.0,\"#f0f921\"]],\"type\":\"surface\"}],\"table\":[{\"cells\":{\"fill\":{\"color\":\"#EBF0F8\"},\"line\":{\"color\":\"white\"}},\"header\":{\"fill\":{\"color\":\"#C8D4E3\"},\"line\":{\"color\":\"white\"}},\"type\":\"table\"}]},\"layout\":{\"annotationdefaults\":{\"arrowcolor\":\"#2a3f5f\",\"arrowhead\":0,\"arrowwidth\":1},\"autotypenumbers\":\"strict\",\"coloraxis\":{\"colorbar\":{\"outlinewidth\":0,\"ticks\":\"\"}},\"colorscale\":{\"diverging\":[[0,\"#8e0152\"],[0.1,\"#c51b7d\"],[0.2,\"#de77ae\"],[0.3,\"#f1b6da\"],[0.4,\"#fde0ef\"],[0.5,\"#f7f7f7\"],[0.6,\"#e6f5d0\"],[0.7,\"#b8e186\"],[0.8,\"#7fbc41\"],[0.9,\"#4d9221\"],[1,\"#276419\"]],\"sequential\":[[0.0,\"#0d0887\"],[0.1111111111111111,\"#46039f\"],[0.2222222222222222,\"#7201a8\"],[0.3333333333333333,\"#9c179e\"],[0.4444444444444444,\"#bd3786\"],[0.5555555555555556,\"#d8576b\"],[0.6666666666666666,\"#ed7953\"],[0.7777777777777778,\"#fb9f3a\"],[0.8888888888888888,\"#fdca26\"],[1.0,\"#f0f921\"]],\"sequentialminus\":[[0.0,\"#0d0887\"],[0.1111111111111111,\"#46039f\"],[0.2222222222222222,\"#7201a8\"],[0.3333333333333333,\"#9c179e\"],[0.4444444444444444,\"#bd3786\"],[0.5555555555555556,\"#d8576b\"],[0.6666666666666666,\"#ed7953\"],[0.7777777777777778,\"#fb9f3a\"],[0.8888888888888888,\"#fdca26\"],[1.0,\"#f0f921\"]]},\"colorway\":[\"#636efa\",\"#EF553B\",\"#00cc96\",\"#ab63fa\",\"#FFA15A\",\"#19d3f3\",\"#FF6692\",\"#B6E880\",\"#FF97FF\",\"#FECB52\"],\"font\":{\"color\":\"#2a3f5f\"},\"geo\":{\"bgcolor\":\"white\",\"lakecolor\":\"white\",\"landcolor\":\"#E5ECF6\",\"showlakes\":true,\"showland\":true,\"subunitcolor\":\"white\"},\"hoverlabel\":{\"align\":\"left\"},\"hovermode\":\"closest\",\"mapbox\":{\"style\":\"light\"},\"paper_bgcolor\":\"white\",\"plot_bgcolor\":\"#E5ECF6\",\"polar\":{\"angularaxis\":{\"gridcolor\":\"white\",\"linecolor\":\"white\",\"ticks\":\"\"},\"bgcolor\":\"#E5ECF6\",\"radialaxis\":{\"gridcolor\":\"white\",\"linecolor\":\"white\",\"ticks\":\"\"}},\"scene\":{\"xaxis\":{\"backgroundcolor\":\"#E5ECF6\",\"gridcolor\":\"white\",\"gridwidth\":2,\"linecolor\":\"white\",\"showbackground\":true,\"ticks\":\"\",\"zerolinecolor\":\"white\"},\"yaxis\":{\"backgroundcolor\":\"#E5ECF6\",\"gridcolor\":\"white\",\"gridwidth\":2,\"linecolor\":\"white\",\"showbackground\":true,\"ticks\":\"\",\"zerolinecolor\":\"white\"},\"zaxis\":{\"backgroundcolor\":\"#E5ECF6\",\"gridcolor\":\"white\",\"gridwidth\":2,\"linecolor\":\"white\",\"showbackground\":true,\"ticks\":\"\",\"zerolinecolor\":\"white\"}},\"shapedefaults\":{\"line\":{\"color\":\"#2a3f5f\"}},\"ternary\":{\"aaxis\":{\"gridcolor\":\"white\",\"linecolor\":\"white\",\"ticks\":\"\"},\"baxis\":{\"gridcolor\":\"white\",\"linecolor\":\"white\",\"ticks\":\"\"},\"bgcolor\":\"#E5ECF6\",\"caxis\":{\"gridcolor\":\"white\",\"linecolor\":\"white\",\"ticks\":\"\"}},\"title\":{\"x\":0.05},\"xaxis\":{\"automargin\":true,\"gridcolor\":\"white\",\"linecolor\":\"white\",\"ticks\":\"\",\"title\":{\"standoff\":15},\"zerolinecolor\":\"white\",\"zerolinewidth\":2},\"yaxis\":{\"automargin\":true,\"gridcolor\":\"white\",\"linecolor\":\"white\",\"ticks\":\"\",\"title\":{\"standoff\":15},\"zerolinecolor\":\"white\",\"zerolinewidth\":2}}},\"xaxis\":{\"anchor\":\"y\",\"domain\":[0.0,1.0],\"title\":{\"text\":\"star_rating\"},\"range\":[7.6,8.1]},\"yaxis\":{\"anchor\":\"x\",\"domain\":[0.0,1.0],\"title\":{\"text\":\"content_rating\"}},\"legend\":{\"tracegroupgap\":0},\"title\":{\"text\":\"Content Rating vs Star Rating\"},\"barmode\":\"relative\"},                        {\"responsive\": true}                    ).then(function(){\n",
       "                            \n",
       "var gd = document.getElementById('d76767cc-996d-4af1-96f6-6a6e84fdf796');\n",
       "var x = new MutationObserver(function (mutations, observer) {{\n",
       "        var display = window.getComputedStyle(gd).display;\n",
       "        if (!display || display === 'none') {{\n",
       "            console.log([gd, 'removed!']);\n",
       "            Plotly.purge(gd);\n",
       "            observer.disconnect();\n",
       "        }}\n",
       "}});\n",
       "\n",
       "// Listen for the removal of the full notebook cells\n",
       "var notebookContainer = gd.closest('#notebook-container');\n",
       "if (notebookContainer) {{\n",
       "    x.observe(notebookContainer, {childList: true});\n",
       "}}\n",
       "\n",
       "// Listen for the clearing of the current output cell\n",
       "var outputEl = gd.closest('.output');\n",
       "if (outputEl) {{\n",
       "    x.observe(outputEl, {childList: true});\n",
       "}}\n",
       "\n",
       "                        })                };                });            </script>        </div>"
      ]
     },
     "metadata": {},
     "output_type": "display_data"
    }
   ],
   "source": [
    "# Create a dataframe containing average star rating grouped by content rating\n",
    "Avg_star_rating = movies.groupby('content_rating').mean()\n",
    "Avg_star_rating = Avg_star_rating.reset_index()\n",
    "\n",
    "# Create a column for numeric content rating, that will be used for sorting\n",
    "numeric_rating = {'NC-17': 6, 'R': 5, 'PG-13': 4, 'PG': 3, 'G': 2, 'UNRATED': 1, 'UNKNOWN': 0}\n",
    "Avg_star_rating['numeric_rating'] = Avg_star_rating['content_rating'].map(numeric_rating).astype(float)\n",
    "\n",
    "# Sort the movies dataframe by numeric content rating \n",
    "# This ensures the graph will display data in order, from the lowest content rating to the highest\n",
    "Avg_star_rating.sort_values(by=['numeric_rating'], ascending=True, inplace=True)\n",
    "\n",
    "# Use bar graph to visualize relationship between content rating and duration\n",
    "fig = px.bar(Avg_star_rating, x='star_rating', y='content_rating',  title='Content Rating vs Star Rating')\n",
    "fig.update_xaxes(range=[7.6, 8.1])\n",
    "fig"
   ]
  },
  {
   "cell_type": "markdown",
   "metadata": {},
   "source": [
    "#### Determine the top rated movie (by star rating) for each genre."
   ]
  },
  {
   "cell_type": "code",
   "execution_count": 84,
   "metadata": {},
   "outputs": [
    {
     "data": {
      "text/html": [
       "<div>\n",
       "<style scoped>\n",
       "    .dataframe tbody tr th:only-of-type {\n",
       "        vertical-align: middle;\n",
       "    }\n",
       "\n",
       "    .dataframe tbody tr th {\n",
       "        vertical-align: top;\n",
       "    }\n",
       "\n",
       "    .dataframe thead th {\n",
       "        text-align: right;\n",
       "    }\n",
       "</style>\n",
       "<table border=\"1\" class=\"dataframe\">\n",
       "  <thead>\n",
       "    <tr style=\"text-align: right;\">\n",
       "      <th></th>\n",
       "      <th>star_rating</th>\n",
       "      <th>title</th>\n",
       "      <th>content_rating</th>\n",
       "      <th>genre</th>\n",
       "      <th>duration</th>\n",
       "      <th>actors_list</th>\n",
       "      <th>length</th>\n",
       "    </tr>\n",
       "  </thead>\n",
       "  <tbody>\n",
       "    <tr>\n",
       "      <th>0</th>\n",
       "      <td>9.3</td>\n",
       "      <td>The Shawshank Redemption</td>\n",
       "      <td>R</td>\n",
       "      <td>Crime</td>\n",
       "      <td>142</td>\n",
       "      <td>[u'Tim Robbins', u'Morgan Freeman', u'Bob Gunt...</td>\n",
       "      <td>2 hours or more</td>\n",
       "    </tr>\n",
       "    <tr>\n",
       "      <th>3</th>\n",
       "      <td>9.0</td>\n",
       "      <td>The Dark Knight</td>\n",
       "      <td>PG-13</td>\n",
       "      <td>Action</td>\n",
       "      <td>152</td>\n",
       "      <td>[u'Christian Bale', u'Heath Ledger', u'Aaron E...</td>\n",
       "      <td>2 hours or more</td>\n",
       "    </tr>\n",
       "    <tr>\n",
       "      <th>5</th>\n",
       "      <td>8.9</td>\n",
       "      <td>12 Angry Men</td>\n",
       "      <td>UNRATED</td>\n",
       "      <td>Drama</td>\n",
       "      <td>96</td>\n",
       "      <td>[u'Henry Fonda', u'Lee J. Cobb', u'Martin Bals...</td>\n",
       "      <td>Less than 2 hours</td>\n",
       "    </tr>\n",
       "    <tr>\n",
       "      <th>6</th>\n",
       "      <td>8.9</td>\n",
       "      <td>The Good, the Bad and the Ugly</td>\n",
       "      <td>UNRATED</td>\n",
       "      <td>Western</td>\n",
       "      <td>161</td>\n",
       "      <td>[u'Clint Eastwood', u'Eli Wallach', u'Lee Van ...</td>\n",
       "      <td>2 hours or more</td>\n",
       "    </tr>\n",
       "    <tr>\n",
       "      <th>7</th>\n",
       "      <td>8.9</td>\n",
       "      <td>The Lord of the Rings: The Return of the King</td>\n",
       "      <td>PG-13</td>\n",
       "      <td>Adventure</td>\n",
       "      <td>201</td>\n",
       "      <td>[u'Elijah Wood', u'Viggo Mortensen', u'Ian McK...</td>\n",
       "      <td>2 hours or more</td>\n",
       "    </tr>\n",
       "    <tr>\n",
       "      <th>8</th>\n",
       "      <td>8.9</td>\n",
       "      <td>Schindler's List</td>\n",
       "      <td>R</td>\n",
       "      <td>Biography</td>\n",
       "      <td>195</td>\n",
       "      <td>[u'Liam Neeson', u'Ralph Fiennes', u'Ben Kings...</td>\n",
       "      <td>2 hours or more</td>\n",
       "    </tr>\n",
       "    <tr>\n",
       "      <th>25</th>\n",
       "      <td>8.6</td>\n",
       "      <td>Life Is Beautiful</td>\n",
       "      <td>PG-13</td>\n",
       "      <td>Comedy</td>\n",
       "      <td>116</td>\n",
       "      <td>[u'Roberto Benigni', u'Nicoletta Braschi', u'G...</td>\n",
       "      <td>Less than 2 hours</td>\n",
       "    </tr>\n",
       "    <tr>\n",
       "      <th>30</th>\n",
       "      <td>8.6</td>\n",
       "      <td>Spirited Away</td>\n",
       "      <td>PG</td>\n",
       "      <td>Animation</td>\n",
       "      <td>125</td>\n",
       "      <td>[u'Daveigh Chase', u'Suzanne Pleshette', u'Miy...</td>\n",
       "      <td>2 hours or more</td>\n",
       "    </tr>\n",
       "    <tr>\n",
       "      <th>38</th>\n",
       "      <td>8.6</td>\n",
       "      <td>Rear Window</td>\n",
       "      <td>UNRATED</td>\n",
       "      <td>Mystery</td>\n",
       "      <td>112</td>\n",
       "      <td>[u'James Stewart', u'Grace Kelly', u'Wendell C...</td>\n",
       "      <td>Less than 2 hours</td>\n",
       "    </tr>\n",
       "    <tr>\n",
       "      <th>39</th>\n",
       "      <td>8.6</td>\n",
       "      <td>Psycho</td>\n",
       "      <td>R</td>\n",
       "      <td>Horror</td>\n",
       "      <td>109</td>\n",
       "      <td>[u'Anthony Perkins', u'Janet Leigh', u'Vera Mi...</td>\n",
       "      <td>Less than 2 hours</td>\n",
       "    </tr>\n",
       "    <tr>\n",
       "      <th>105</th>\n",
       "      <td>8.3</td>\n",
       "      <td>The Third Man</td>\n",
       "      <td>UNRATED</td>\n",
       "      <td>Film-Noir</td>\n",
       "      <td>93</td>\n",
       "      <td>[u'Orson Welles', u'Joseph Cotten', u'Alida Va...</td>\n",
       "      <td>Less than 2 hours</td>\n",
       "    </tr>\n",
       "    <tr>\n",
       "      <th>145</th>\n",
       "      <td>8.2</td>\n",
       "      <td>Blade Runner</td>\n",
       "      <td>R</td>\n",
       "      <td>Sci-Fi</td>\n",
       "      <td>117</td>\n",
       "      <td>[u'Harrison Ford', u'Rutger Hauer', u'Sean You...</td>\n",
       "      <td>Less than 2 hours</td>\n",
       "    </tr>\n",
       "    <tr>\n",
       "      <th>338</th>\n",
       "      <td>8.0</td>\n",
       "      <td>Battleship Potemkin</td>\n",
       "      <td>UNRATED</td>\n",
       "      <td>History</td>\n",
       "      <td>66</td>\n",
       "      <td>[u'Aleksandr Antonov', u'Vladimir Barsky', u'G...</td>\n",
       "      <td>Less than 2 hours</td>\n",
       "    </tr>\n",
       "    <tr>\n",
       "      <th>350</th>\n",
       "      <td>8.0</td>\n",
       "      <td>Shadow of a Doubt</td>\n",
       "      <td>UNRATED</td>\n",
       "      <td>Thriller</td>\n",
       "      <td>108</td>\n",
       "      <td>[u'Teresa Wright', u'Joseph Cotten', u'Macdona...</td>\n",
       "      <td>Less than 2 hours</td>\n",
       "    </tr>\n",
       "    <tr>\n",
       "      <th>468</th>\n",
       "      <td>7.9</td>\n",
       "      <td>E.T. the Extra-Terrestrial</td>\n",
       "      <td>PG</td>\n",
       "      <td>Family</td>\n",
       "      <td>115</td>\n",
       "      <td>[u'Henry Thomas', u'Drew Barrymore', u'Peter C...</td>\n",
       "      <td>Less than 2 hours</td>\n",
       "    </tr>\n",
       "    <tr>\n",
       "      <th>638</th>\n",
       "      <td>7.7</td>\n",
       "      <td>The City of Lost Children</td>\n",
       "      <td>R</td>\n",
       "      <td>Fantasy</td>\n",
       "      <td>112</td>\n",
       "      <td>[u'Ron Perlman', u'Daniel Emilfork', u'Judith ...</td>\n",
       "      <td>Less than 2 hours</td>\n",
       "    </tr>\n",
       "  </tbody>\n",
       "</table>\n",
       "</div>"
      ],
      "text/plain": [
       "     star_rating                                          title  \\\n",
       "0            9.3                       The Shawshank Redemption   \n",
       "3            9.0                                The Dark Knight   \n",
       "5            8.9                                   12 Angry Men   \n",
       "6            8.9                 The Good, the Bad and the Ugly   \n",
       "7            8.9  The Lord of the Rings: The Return of the King   \n",
       "8            8.9                               Schindler's List   \n",
       "25           8.6                              Life Is Beautiful   \n",
       "30           8.6                                  Spirited Away   \n",
       "38           8.6                                    Rear Window   \n",
       "39           8.6                                         Psycho   \n",
       "105          8.3                                  The Third Man   \n",
       "145          8.2                                   Blade Runner   \n",
       "338          8.0                            Battleship Potemkin   \n",
       "350          8.0                              Shadow of a Doubt   \n",
       "468          7.9                     E.T. the Extra-Terrestrial   \n",
       "638          7.7                      The City of Lost Children   \n",
       "\n",
       "    content_rating      genre  duration  \\\n",
       "0                R      Crime       142   \n",
       "3            PG-13     Action       152   \n",
       "5          UNRATED      Drama        96   \n",
       "6          UNRATED    Western       161   \n",
       "7            PG-13  Adventure       201   \n",
       "8                R  Biography       195   \n",
       "25           PG-13     Comedy       116   \n",
       "30              PG  Animation       125   \n",
       "38         UNRATED    Mystery       112   \n",
       "39               R     Horror       109   \n",
       "105        UNRATED  Film-Noir        93   \n",
       "145              R     Sci-Fi       117   \n",
       "338        UNRATED    History        66   \n",
       "350        UNRATED   Thriller       108   \n",
       "468             PG     Family       115   \n",
       "638              R    Fantasy       112   \n",
       "\n",
       "                                           actors_list             length  \n",
       "0    [u'Tim Robbins', u'Morgan Freeman', u'Bob Gunt...    2 hours or more  \n",
       "3    [u'Christian Bale', u'Heath Ledger', u'Aaron E...    2 hours or more  \n",
       "5    [u'Henry Fonda', u'Lee J. Cobb', u'Martin Bals...  Less than 2 hours  \n",
       "6    [u'Clint Eastwood', u'Eli Wallach', u'Lee Van ...    2 hours or more  \n",
       "7    [u'Elijah Wood', u'Viggo Mortensen', u'Ian McK...    2 hours or more  \n",
       "8    [u'Liam Neeson', u'Ralph Fiennes', u'Ben Kings...    2 hours or more  \n",
       "25   [u'Roberto Benigni', u'Nicoletta Braschi', u'G...  Less than 2 hours  \n",
       "30   [u'Daveigh Chase', u'Suzanne Pleshette', u'Miy...    2 hours or more  \n",
       "38   [u'James Stewart', u'Grace Kelly', u'Wendell C...  Less than 2 hours  \n",
       "39   [u'Anthony Perkins', u'Janet Leigh', u'Vera Mi...  Less than 2 hours  \n",
       "105  [u'Orson Welles', u'Joseph Cotten', u'Alida Va...  Less than 2 hours  \n",
       "145  [u'Harrison Ford', u'Rutger Hauer', u'Sean You...  Less than 2 hours  \n",
       "338  [u'Aleksandr Antonov', u'Vladimir Barsky', u'G...  Less than 2 hours  \n",
       "350  [u'Teresa Wright', u'Joseph Cotten', u'Macdona...  Less than 2 hours  \n",
       "468  [u'Henry Thomas', u'Drew Barrymore', u'Peter C...  Less than 2 hours  \n",
       "638  [u'Ron Perlman', u'Daniel Emilfork', u'Judith ...  Less than 2 hours  "
      ]
     },
     "execution_count": 84,
     "metadata": {},
     "output_type": "execute_result"
    }
   ],
   "source": [
    "# Answer: See table below\n",
    "\n",
    "# Make a list of genres\n",
    "genres = movies['genre'].unique().tolist()\n",
    "\n",
    "# Loop through the genres, and find the id of the movie with the highest star rating for each genre. Add the ids to a list\n",
    "ids = []\n",
    "for x in genres:\n",
    "    y = movies[movies['genre'] == x]['star_rating'].idxmax()\n",
    "    ids.append(y)\n",
    "\n",
    "# return the rows that correspond to the ids in the 'ids' list (created in the cell above)\n",
    "movies.loc[movies.index.isin(ids), :]"
   ]
  },
  {
   "cell_type": "markdown",
   "metadata": {},
   "source": [
    "#### Check if there are multiple movies with the same title, and if so, determine if they are actually duplicates."
   ]
  },
  {
   "cell_type": "code",
   "execution_count": 85,
   "metadata": {},
   "outputs": [
    {
     "data": {
      "text/html": [
       "<div>\n",
       "<style scoped>\n",
       "    .dataframe tbody tr th:only-of-type {\n",
       "        vertical-align: middle;\n",
       "    }\n",
       "\n",
       "    .dataframe tbody tr th {\n",
       "        vertical-align: top;\n",
       "    }\n",
       "\n",
       "    .dataframe thead th {\n",
       "        text-align: right;\n",
       "    }\n",
       "</style>\n",
       "<table border=\"1\" class=\"dataframe\">\n",
       "  <thead>\n",
       "    <tr style=\"text-align: right;\">\n",
       "      <th></th>\n",
       "      <th>star_rating</th>\n",
       "      <th>title</th>\n",
       "      <th>content_rating</th>\n",
       "      <th>genre</th>\n",
       "      <th>duration</th>\n",
       "      <th>actors_list</th>\n",
       "      <th>length</th>\n",
       "    </tr>\n",
       "  </thead>\n",
       "  <tbody>\n",
       "    <tr>\n",
       "      <th>703</th>\n",
       "      <td>7.6</td>\n",
       "      <td>Dracula</td>\n",
       "      <td>UNRATED</td>\n",
       "      <td>Horror</td>\n",
       "      <td>85</td>\n",
       "      <td>[u'Bela Lugosi', u'Helen Chandler', u'David Ma...</td>\n",
       "      <td>Less than 2 hours</td>\n",
       "    </tr>\n",
       "    <tr>\n",
       "      <th>905</th>\n",
       "      <td>7.5</td>\n",
       "      <td>Dracula</td>\n",
       "      <td>R</td>\n",
       "      <td>Horror</td>\n",
       "      <td>128</td>\n",
       "      <td>[u'Gary Oldman', u'Winona Ryder', u'Anthony Ho...</td>\n",
       "      <td>2 hours or more</td>\n",
       "    </tr>\n",
       "    <tr>\n",
       "      <th>678</th>\n",
       "      <td>7.7</td>\n",
       "      <td>Les Miserables</td>\n",
       "      <td>PG-13</td>\n",
       "      <td>Drama</td>\n",
       "      <td>158</td>\n",
       "      <td>[u'Hugh Jackman', u'Russell Crowe', u'Anne Hat...</td>\n",
       "      <td>2 hours or more</td>\n",
       "    </tr>\n",
       "    <tr>\n",
       "      <th>924</th>\n",
       "      <td>7.5</td>\n",
       "      <td>Les Miserables</td>\n",
       "      <td>PG-13</td>\n",
       "      <td>Crime</td>\n",
       "      <td>134</td>\n",
       "      <td>[u'Liam Neeson', u'Geoffrey Rush', u'Uma Thurm...</td>\n",
       "      <td>2 hours or more</td>\n",
       "    </tr>\n",
       "    <tr>\n",
       "      <th>466</th>\n",
       "      <td>7.9</td>\n",
       "      <td>The Girl with the Dragon Tattoo</td>\n",
       "      <td>R</td>\n",
       "      <td>Crime</td>\n",
       "      <td>158</td>\n",
       "      <td>[u'Daniel Craig', u'Rooney Mara', u'Christophe...</td>\n",
       "      <td>2 hours or more</td>\n",
       "    </tr>\n",
       "    <tr>\n",
       "      <th>482</th>\n",
       "      <td>7.8</td>\n",
       "      <td>The Girl with the Dragon Tattoo</td>\n",
       "      <td>R</td>\n",
       "      <td>Crime</td>\n",
       "      <td>152</td>\n",
       "      <td>[u'Michael Nyqvist', u'Noomi Rapace', u'Ewa Fr...</td>\n",
       "      <td>2 hours or more</td>\n",
       "    </tr>\n",
       "    <tr>\n",
       "      <th>662</th>\n",
       "      <td>7.7</td>\n",
       "      <td>True Grit</td>\n",
       "      <td>PG-13</td>\n",
       "      <td>Adventure</td>\n",
       "      <td>110</td>\n",
       "      <td>[u'Jeff Bridges', u'Matt Damon', u'Hailee Stei...</td>\n",
       "      <td>Less than 2 hours</td>\n",
       "    </tr>\n",
       "    <tr>\n",
       "      <th>936</th>\n",
       "      <td>7.4</td>\n",
       "      <td>True Grit</td>\n",
       "      <td>UNKNOWN</td>\n",
       "      <td>Adventure</td>\n",
       "      <td>128</td>\n",
       "      <td>[u'John Wayne', u'Kim Darby', u'Glen Campbell']</td>\n",
       "      <td>2 hours or more</td>\n",
       "    </tr>\n",
       "  </tbody>\n",
       "</table>\n",
       "</div>"
      ],
      "text/plain": [
       "     star_rating                            title content_rating      genre  \\\n",
       "703          7.6                          Dracula        UNRATED     Horror   \n",
       "905          7.5                          Dracula              R     Horror   \n",
       "678          7.7                   Les Miserables          PG-13      Drama   \n",
       "924          7.5                   Les Miserables          PG-13      Crime   \n",
       "466          7.9  The Girl with the Dragon Tattoo              R      Crime   \n",
       "482          7.8  The Girl with the Dragon Tattoo              R      Crime   \n",
       "662          7.7                        True Grit          PG-13  Adventure   \n",
       "936          7.4                        True Grit        UNKNOWN  Adventure   \n",
       "\n",
       "     duration                                        actors_list  \\\n",
       "703        85  [u'Bela Lugosi', u'Helen Chandler', u'David Ma...   \n",
       "905       128  [u'Gary Oldman', u'Winona Ryder', u'Anthony Ho...   \n",
       "678       158  [u'Hugh Jackman', u'Russell Crowe', u'Anne Hat...   \n",
       "924       134  [u'Liam Neeson', u'Geoffrey Rush', u'Uma Thurm...   \n",
       "466       158  [u'Daniel Craig', u'Rooney Mara', u'Christophe...   \n",
       "482       152  [u'Michael Nyqvist', u'Noomi Rapace', u'Ewa Fr...   \n",
       "662       110  [u'Jeff Bridges', u'Matt Damon', u'Hailee Stei...   \n",
       "936       128    [u'John Wayne', u'Kim Darby', u'Glen Campbell']   \n",
       "\n",
       "                length  \n",
       "703  Less than 2 hours  \n",
       "905    2 hours or more  \n",
       "678    2 hours or more  \n",
       "924    2 hours or more  \n",
       "466    2 hours or more  \n",
       "482    2 hours or more  \n",
       "662  Less than 2 hours  \n",
       "936    2 hours or more  "
      ]
     },
     "execution_count": 85,
     "metadata": {},
     "output_type": "execute_result"
    }
   ],
   "source": [
    "# Answer: 0 of the 4 movies with the same title are true duplicates. The data in the other columns do not contain duplicated values. \n",
    "\n",
    "# Find the duplicate movie titles and add them to a list called dups\n",
    "dups = movies['title'][movies.duplicated(subset=['title'])]\n",
    "\n",
    "# Return the rows with a movie title in the dups list \n",
    "movies.loc[movies['title'].isin(dups), :].sort_values(by='title')"
   ]
  },
  {
   "cell_type": "markdown",
   "metadata": {
    "collapsed": true
   },
   "source": [
    "#### Calculate the average star rating for each genre, but only include genres with at least 10 movies\n"
   ]
  },
  {
   "cell_type": "markdown",
   "metadata": {},
   "source": [
    "#### Option 1: manually create a list of relevant genres, then filter using that list"
   ]
  },
  {
   "cell_type": "code",
   "execution_count": 86,
   "metadata": {},
   "outputs": [],
   "source": [
    "# Answer: please see option 2"
   ]
  },
  {
   "cell_type": "markdown",
   "metadata": {},
   "source": [
    "#### Option 2: automatically create a list of relevant genres by saving the value_counts and then filtering"
   ]
  },
  {
   "cell_type": "code",
   "execution_count": 87,
   "metadata": {},
   "outputs": [
    {
     "data": {
      "text/plain": [
       "['Drama',\n",
       " 'Comedy',\n",
       " 'Action',\n",
       " 'Crime',\n",
       " 'Biography',\n",
       " 'Adventure',\n",
       " 'Animation',\n",
       " 'Horror',\n",
       " 'Mystery']"
      ]
     },
     "execution_count": 87,
     "metadata": {},
     "output_type": "execute_result"
    }
   ],
   "source": [
    "# Answer:\n",
    "\n",
    "# Create a dataframe containing the count of unique rows (i.e. unique movies) for each genre\n",
    "movie_count = movies['genre'].value_counts()\n",
    "movie_count = movie_count.to_frame() \n",
    "\n",
    "# filter for the popular genres, i.e. those with at least 10 movies\n",
    "popular_genres = movie_count[movie_count['genre'] > 10]\n",
    "\n",
    "# add the popular genres to a list\n",
    "popular_genres_list = popular_genres.index.tolist()\n",
    "popular_genres_list"
   ]
  },
  {
   "cell_type": "code",
   "execution_count": 88,
   "metadata": {},
   "outputs": [
    {
     "data": {
      "text/plain": [
       "genre\n",
       "Action       7.884559\n",
       "Adventure    7.933333\n",
       "Animation    7.914516\n",
       "Biography    7.862338\n",
       "Comedy       7.822436\n",
       "Crime        7.916935\n",
       "Drama        7.902518\n",
       "Horror       7.806897\n",
       "Mystery      7.975000\n",
       "Name: star_rating, dtype: float64"
      ]
     },
     "execution_count": 88,
     "metadata": {},
     "output_type": "execute_result"
    }
   ],
   "source": [
    "# return the rows that correspond to popular genres and save it to a dataframe\n",
    "df = movies.loc[movies['genre'].isin(popular_genres_list), :]\n",
    "\n",
    "#calculate the avergae star rating, grouped by genre\n",
    "df.groupby('genre')['star_rating'].mean()"
   ]
  },
  {
   "cell_type": "markdown",
   "metadata": {},
   "source": [
    "#### Option 3: calculate the average star rating for all genres, then filter using a boolean Series"
   ]
  },
  {
   "cell_type": "code",
   "execution_count": 89,
   "metadata": {},
   "outputs": [],
   "source": [
    "# Answer: please see option 2"
   ]
  },
  {
   "cell_type": "markdown",
   "metadata": {},
   "source": [
    "#### Option 4: aggregate by count and mean, then filter using the count"
   ]
  },
  {
   "cell_type": "code",
   "execution_count": 90,
   "metadata": {},
   "outputs": [],
   "source": [
    "# Answer: please see option 2"
   ]
  },
  {
   "cell_type": "markdown",
   "metadata": {},
   "source": [
    "## Bonus"
   ]
  },
  {
   "cell_type": "markdown",
   "metadata": {
    "collapsed": true
   },
   "source": [
    "#### Figure out something \"interesting\" using the actors data!"
   ]
  },
  {
   "cell_type": "code",
   "execution_count": 91,
   "metadata": {},
   "outputs": [],
   "source": [
    "# Didn't get to the bonus this time"
   ]
  }
 ],
 "metadata": {
  "kernelspec": {
   "display_name": "Python 3",
   "language": "python",
   "name": "python3"
  },
  "language_info": {
   "codemirror_mode": {
    "name": "ipython",
    "version": 3
   },
   "file_extension": ".py",
   "mimetype": "text/x-python",
   "name": "python",
   "nbconvert_exporter": "python",
   "pygments_lexer": "ipython3",
   "version": "3.8.8"
  }
 },
 "nbformat": 4,
 "nbformat_minor": 1
}
