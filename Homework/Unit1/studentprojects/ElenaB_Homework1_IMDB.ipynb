{
 "cells": [
  {
   "cell_type": "markdown",
   "metadata": {},
   "source": [
    "<img src=\"http://imgur.com/1ZcRyrc.png\" style=\"float: left; margin: 20px; height: 55px\">\n",
    "\n",
    "# Project 2: Analyzing IMDb Data\n",
    "\n",
    "_Author: Kevin Markham (DC)_\n",
    "\n",
    "---"
   ]
  },
  {
   "cell_type": "markdown",
   "metadata": {},
   "source": [
    "For project two, you will complete a series of exercises exploring movie rating data from IMDb.\n",
    "\n",
    "For these exercises, you will be conducting basic exploratory data analysis on IMDB's movie data, looking to answer such questions as:\n",
    "\n",
    "What is the average rating per genre?\n",
    "How many different actors are in a movie?\n",
    "\n",
    "This process will help you practice your data analysis skills while becoming comfortable with Pandas."
   ]
  },
  {
   "cell_type": "markdown",
   "metadata": {},
   "source": [
    "## Basic level"
   ]
  },
  {
   "cell_type": "code",
   "execution_count": 5,
   "metadata": {},
   "outputs": [],
   "source": [
    "import pandas as pd\n",
    "import matplotlib.pyplot as plt\n",
    "%matplotlib inline"
   ]
  },
  {
   "cell_type": "markdown",
   "metadata": {},
   "source": [
    "#### Read in 'imdb_1000.csv' and store it in a DataFrame named movies."
   ]
  },
  {
   "cell_type": "code",
   "execution_count": 6,
   "metadata": {},
   "outputs": [
    {
     "data": {
      "text/html": [
       "<div>\n",
       "<style scoped>\n",
       "    .dataframe tbody tr th:only-of-type {\n",
       "        vertical-align: middle;\n",
       "    }\n",
       "\n",
       "    .dataframe tbody tr th {\n",
       "        vertical-align: top;\n",
       "    }\n",
       "\n",
       "    .dataframe thead th {\n",
       "        text-align: right;\n",
       "    }\n",
       "</style>\n",
       "<table border=\"1\" class=\"dataframe\">\n",
       "  <thead>\n",
       "    <tr style=\"text-align: right;\">\n",
       "      <th></th>\n",
       "      <th>star_rating</th>\n",
       "      <th>title</th>\n",
       "      <th>content_rating</th>\n",
       "      <th>genre</th>\n",
       "      <th>duration</th>\n",
       "      <th>actors_list</th>\n",
       "    </tr>\n",
       "  </thead>\n",
       "  <tbody>\n",
       "    <tr>\n",
       "      <th>0</th>\n",
       "      <td>9.3</td>\n",
       "      <td>The Shawshank Redemption</td>\n",
       "      <td>R</td>\n",
       "      <td>Crime</td>\n",
       "      <td>142</td>\n",
       "      <td>[u'Tim Robbins', u'Morgan Freeman', u'Bob Gunt...</td>\n",
       "    </tr>\n",
       "    <tr>\n",
       "      <th>1</th>\n",
       "      <td>9.2</td>\n",
       "      <td>The Godfather</td>\n",
       "      <td>R</td>\n",
       "      <td>Crime</td>\n",
       "      <td>175</td>\n",
       "      <td>[u'Marlon Brando', u'Al Pacino', u'James Caan']</td>\n",
       "    </tr>\n",
       "    <tr>\n",
       "      <th>2</th>\n",
       "      <td>9.1</td>\n",
       "      <td>The Godfather: Part II</td>\n",
       "      <td>R</td>\n",
       "      <td>Crime</td>\n",
       "      <td>200</td>\n",
       "      <td>[u'Al Pacino', u'Robert De Niro', u'Robert Duv...</td>\n",
       "    </tr>\n",
       "    <tr>\n",
       "      <th>3</th>\n",
       "      <td>9.0</td>\n",
       "      <td>The Dark Knight</td>\n",
       "      <td>PG-13</td>\n",
       "      <td>Action</td>\n",
       "      <td>152</td>\n",
       "      <td>[u'Christian Bale', u'Heath Ledger', u'Aaron E...</td>\n",
       "    </tr>\n",
       "    <tr>\n",
       "      <th>4</th>\n",
       "      <td>8.9</td>\n",
       "      <td>Pulp Fiction</td>\n",
       "      <td>R</td>\n",
       "      <td>Crime</td>\n",
       "      <td>154</td>\n",
       "      <td>[u'John Travolta', u'Uma Thurman', u'Samuel L....</td>\n",
       "    </tr>\n",
       "  </tbody>\n",
       "</table>\n",
       "</div>"
      ],
      "text/plain": [
       "   star_rating                     title content_rating   genre  duration  \\\n",
       "0          9.3  The Shawshank Redemption              R   Crime       142   \n",
       "1          9.2             The Godfather              R   Crime       175   \n",
       "2          9.1    The Godfather: Part II              R   Crime       200   \n",
       "3          9.0           The Dark Knight          PG-13  Action       152   \n",
       "4          8.9              Pulp Fiction              R   Crime       154   \n",
       "\n",
       "                                         actors_list  \n",
       "0  [u'Tim Robbins', u'Morgan Freeman', u'Bob Gunt...  \n",
       "1    [u'Marlon Brando', u'Al Pacino', u'James Caan']  \n",
       "2  [u'Al Pacino', u'Robert De Niro', u'Robert Duv...  \n",
       "3  [u'Christian Bale', u'Heath Ledger', u'Aaron E...  \n",
       "4  [u'John Travolta', u'Uma Thurman', u'Samuel L....  "
      ]
     },
     "execution_count": 6,
     "metadata": {},
     "output_type": "execute_result"
    }
   ],
   "source": [
    "movies = pd.read_csv('./data/imdb_1000.csv')\n",
    "movies.head()"
   ]
  },
  {
   "cell_type": "markdown",
   "metadata": {},
   "source": [
    "#### Check the number of rows and columns."
   ]
  },
  {
   "cell_type": "code",
   "execution_count": 7,
   "metadata": {},
   "outputs": [
    {
     "name": "stdout",
     "output_type": "stream",
     "text": [
      "Number of Rows: 979\n",
      "Number of Columns: 6\n"
     ]
    }
   ],
   "source": [
    "# Answer:\n",
    "rows=len(movies.axes[0])\n",
    "columns=len(movies.axes[1])\n",
    "print(\"Number of Rows: \" + str(rows))\n",
    "print(\"Number of Columns: \" + str(columns))"
   ]
  },
  {
   "cell_type": "markdown",
   "metadata": {},
   "source": [
<<<<<<< HEAD
    "**Jonathan's Note:** Concatenating strings in this way is very Python 2-ish.  Better to use the format function instead."
   ]
  },
  {
   "cell_type": "markdown",
   "metadata": {},
   "source": [
=======
>>>>>>> 47b2484ce0a32c8c37275f0354207e26eb222815
    "#### Check the data type of each column."
   ]
  },
  {
   "cell_type": "code",
   "execution_count": 8,
   "metadata": {},
   "outputs": [
    {
     "name": "stdout",
     "output_type": "stream",
     "text": [
      "star_rating       float64\n",
      "title              object\n",
      "content_rating     object\n",
      "genre              object\n",
      "duration            int64\n",
      "actors_list        object\n",
      "dtype: object\n"
     ]
    }
   ],
   "source": [
    "# Answer:\n",
    "print(movies.dtypes)\n"
   ]
  },
  {
   "cell_type": "markdown",
   "metadata": {},
   "source": [
<<<<<<< HEAD
    "**Jonathan's Note:** You do not actually need to use `print` here, you can simply just enter the command.  Print is really only necessary if you're trying to view something as part of a function / loop or outputting it to the terminal."
   ]
  },
  {
   "cell_type": "markdown",
   "metadata": {},
   "source": [
=======
>>>>>>> 47b2484ce0a32c8c37275f0354207e26eb222815
    "#### Calculate the average movie duration."
   ]
  },
  {
   "cell_type": "code",
   "execution_count": 10,
   "metadata": {},
   "outputs": [
    {
     "data": {
      "text/plain": [
       "120.97957099080695"
      ]
     },
     "execution_count": 10,
     "metadata": {},
     "output_type": "execute_result"
    }
   ],
   "source": [
    "# Answer:\n",
    "movies['duration'].mean()"
   ]
  },
  {
   "cell_type": "markdown",
   "metadata": {},
   "source": [
    "#### Sort the DataFrame by duration to find the shortest and longest movies."
   ]
  },
  {
   "cell_type": "code",
   "execution_count": 51,
   "metadata": {},
   "outputs": [
    {
     "name": "stdout",
     "output_type": "stream",
     "text": [
      "Hamlet 242\n",
      "Freaks 64\n"
     ]
    }
   ],
   "source": [
    "# Answer:\n",
    "movies.sort_values(by='duration', ascending=False)\n",
    "movies.sort_values(by='duration', ascending=True)\n",
    "print(movies.loc[movies.duration == movies.duration.max(), 'title'].values[0], movies['duration'].max())\n",
    "print(movies.loc[movies.duration == movies.duration.min(), 'title'].values[0], movies['duration'].min())"
   ]
  },
  {
   "cell_type": "markdown",
   "metadata": {},
   "source": [
    "#### Create a histogram of duration, choosing an \"appropriate\" number of bins."
   ]
  },
  {
   "cell_type": "code",
   "execution_count": 323,
   "metadata": {},
   "outputs": [
    {
     "data": {
      "application/vnd.plotly.v1+json": {
       "config": {
        "plotlyServerURL": "https://plot.ly"
       },
       "data": [
        {
         "alignmentgroup": "True",
         "bingroup": "x",
         "hovertemplate": "duration=%{x}<br>count=%{y}<extra></extra>",
         "legendgroup": "",
         "marker": {
          "color": "#636efa",
          "pattern": {
           "shape": ""
          }
         },
         "name": "",
         "nbinsx": 10,
         "offsetgroup": "",
         "orientation": "v",
         "showlegend": false,
         "type": "histogram",
         "x": [
          142,
          175,
          200,
          152,
          154,
          96,
          161,
          201,
          195,
          139,
          178,
          148,
          124,
          142,
          179,
          169,
          133,
          207,
          146,
          121,
          136,
          130,
          130,
          106,
          127,
          116,
          175,
          118,
          110,
          87,
          125,
          112,
          102,
          107,
          119,
          87,
          169,
          115,
          112,
          109,
          189,
          110,
          150,
          165,
          155,
          137,
          113,
          165,
          95,
          151,
          155,
          153,
          125,
          130,
          116,
          89,
          137,
          117,
          88,
          165,
          170,
          89,
          146,
          99,
          98,
          116,
          156,
          122,
          149,
          134,
          122,
          136,
          157,
          123,
          119,
          137,
          128,
          120,
          229,
          107,
          134,
          103,
          177,
          129,
          102,
          216,
          136,
          93,
          68,
          189,
          99,
          108,
          113,
          181,
          103,
          138,
          110,
          129,
          88,
          160,
          126,
          91,
          116,
          125,
          143,
          93,
          102,
          132,
          153,
          183,
          160,
          120,
          138,
          140,
          153,
          170,
          129,
          81,
          127,
          131,
          172,
          115,
          108,
          107,
          129,
          156,
          96,
          91,
          95,
          162,
          130,
          86,
          186,
          151,
          96,
          170,
          118,
          161,
          131,
          126,
          131,
          129,
          224,
          180,
          105,
          117,
          140,
          119,
          124,
          130,
          139,
          107,
          132,
          117,
          126,
          122,
          178,
          238,
          149,
          172,
          98,
          116,
          116,
          123,
          148,
          123,
          182,
          92,
          93,
          100,
          135,
          105,
          94,
          140,
          83,
          95,
          98,
          143,
          99,
          98,
          121,
          163,
          121,
          167,
          188,
          121,
          109,
          110,
          129,
          127,
          94,
          107,
          100,
          117,
          129,
          120,
          121,
          133,
          111,
          122,
          101,
          134,
          165,
          138,
          212,
          154,
          89,
          134,
          93,
          114,
          88,
          130,
          101,
          158,
          99,
          108,
          124,
          132,
          113,
          131,
          191,
          167,
          130,
          147,
          102,
          88,
          165,
          132,
          118,
          101,
          108,
          174,
          98,
          92,
          98,
          106,
          85,
          101,
          105,
          115,
          115,
          124,
          105,
          103,
          138,
          184,
          120,
          99,
          131,
          138,
          98,
          123,
          118,
          114,
          118,
          112,
          124,
          160,
          67,
          146,
          125,
          115,
          134,
          141,
          129,
          104,
          94,
          124,
          150,
          119,
          128,
          143,
          85,
          151,
          118,
          101,
          99,
          92,
          125,
          102,
          106,
          107,
          91,
          80,
          122,
          102,
          112,
          92,
          135,
          136,
          153,
          105,
          126,
          68,
          84,
          103,
          145,
          80,
          106,
          127,
          178,
          137,
          172,
          76,
          130,
          96,
          82,
          115,
          95,
          143,
          125,
          120,
          127,
          112,
          104,
          113,
          189,
          127,
          188,
          96,
          113,
          132,
          122,
          126,
          140,
          133,
          112,
          102,
          93,
          109,
          81,
          108,
          111,
          119,
          96,
          197,
          127,
          138,
          66,
          181,
          141,
          144,
          128,
          83,
          121,
          98,
          117,
          94,
          174,
          112,
          108,
          70,
          99,
          96,
          137,
          136,
          100,
          90,
          96,
          161,
          115,
          181,
          169,
          98,
          136,
          138,
          119,
          123,
          112,
          120,
          103,
          97,
          109,
          165,
          156,
          147,
          100,
          126,
          115,
          105,
          144,
          102,
          107,
          119,
          90,
          197,
          86,
          113,
          133,
          64,
          141,
          113,
          122,
          105,
          119,
          102,
          122,
          123,
          113,
          97,
          117,
          111,
          85,
          99,
          134,
          75,
          109,
          117,
          91,
          128,
          111,
          119,
          100,
          114,
          92,
          141,
          101,
          115,
          127,
          96,
          129,
          135,
          109,
          157,
          193,
          94,
          155,
          113,
          130,
          117,
          159,
          141,
          112,
          162,
          126,
          120,
          144,
          120,
          109,
          97,
          108,
          115,
          136,
          90,
          170,
          220,
          116,
          134,
          124,
          91,
          103,
          96,
          119,
          98,
          101,
          93,
          179,
          155,
          121,
          103,
          127,
          103,
          107,
          100,
          92,
          94,
          158,
          86,
          115,
          130,
          107,
          100,
          108,
          124,
          131,
          122,
          242,
          127,
          141,
          126,
          89,
          113,
          152,
          107,
          92,
          145,
          84,
          126,
          132,
          78,
          117,
          128,
          100,
          128,
          100,
          143,
          107,
          100,
          125,
          106,
          157,
          94,
          104,
          94,
          153,
          123,
          120,
          105,
          166,
          112,
          94,
          111,
          87,
          80,
          108,
          102,
          105,
          136,
          101,
          100,
          108,
          101,
          106,
          105,
          88,
          129,
          138,
          129,
          118,
          139,
          123,
          150,
          132,
          80,
          178,
          79,
          163,
          114,
          144,
          130,
          154,
          81,
          95,
          101,
          120,
          93,
          115,
          106,
          120,
          110,
          123,
          142,
          99,
          112,
          120,
          122,
          130,
          139,
          129,
          141,
          127,
          130,
          118,
          110,
          115,
          101,
          112,
          108,
          143,
          152,
          117,
          121,
          119,
          114,
          122,
          105,
          110,
          116,
          139,
          121,
          109,
          146,
          113,
          100,
          121,
          113,
          113,
          117,
          93,
          101,
          90,
          131,
          98,
          93,
          121,
          82,
          124,
          100,
          117,
          99,
          116,
          123,
          114,
          133,
          105,
          127,
          144,
          90,
          118,
          122,
          102,
          187,
          87,
          154,
          89,
          88,
          129,
          95,
          118,
          98,
          194,
          114,
          80,
          130,
          135,
          101,
          105,
          129,
          134,
          143,
          202,
          89,
          106,
          92,
          137,
          124,
          122,
          113,
          112,
          110,
          135,
          88,
          146,
          104,
          125,
          131,
          91,
          142,
          129,
          158,
          102,
          99,
          101,
          104,
          119,
          103,
          88,
          100,
          146,
          150,
          140,
          140,
          110,
          97,
          102,
          152,
          100,
          94,
          85,
          104,
          112,
          191,
          119,
          111,
          94,
          103,
          134,
          157,
          158,
          127,
          101,
          109,
          98,
          134,
          168,
          93,
          145,
          111,
          88,
          123,
          121,
          144,
          116,
          124,
          147,
          106,
          113,
          129,
          94,
          126,
          128,
          111,
          146,
          85,
          105,
          132,
          130,
          162,
          113,
          110,
          113,
          162,
          110,
          78,
          92,
          95,
          138,
          102,
          128,
          96,
          164,
          126,
          110,
          109,
          122,
          124,
          128,
          157,
          120,
          102,
          152,
          170,
          102,
          116,
          164,
          85,
          104,
          99,
          81,
          131,
          101,
          121,
          69,
          92,
          94,
          141,
          116,
          98,
          135,
          121,
          108,
          114,
          102,
          112,
          140,
          157,
          128,
          108,
          139,
          83,
          131,
          113,
          136,
          96,
          118,
          108,
          83,
          205,
          124,
          111,
          137,
          104,
          109,
          115,
          99,
          114,
          133,
          131,
          131,
          123,
          126,
          97,
          126,
          89,
          122,
          121,
          125,
          105,
          118,
          81,
          115,
          126,
          113,
          107,
          126,
          111,
          85,
          120,
          93,
          100,
          107,
          126,
          131,
          116,
          143,
          93,
          96,
          160,
          137,
          119,
          114,
          98,
          111,
          138,
          144,
          107,
          114,
          125,
          146,
          113,
          85,
          97,
          93,
          113,
          128,
          114,
          147,
          127,
          167,
          124,
          109,
          124,
          102,
          130,
          125,
          98,
          154,
          97,
          128,
          98,
          101,
          147,
          172,
          125,
          88,
          125,
          121,
          112,
          120,
          133,
          110,
          135,
          110,
          80,
          135,
          101,
          112,
          124,
          129,
          104,
          96,
          105,
          109,
          117,
          78,
          138,
          106,
          90,
          106,
          91,
          112,
          134,
          112,
          104,
          101,
          120,
          123,
          133,
          110,
          129,
          120,
          83,
          88,
          96,
          139,
          113,
          84,
          106,
          170,
          144,
          104,
          153,
          85,
          130,
          93,
          148,
          115,
          102,
          125,
          106,
          121,
          143,
          116,
          99,
          116,
          128,
          119,
          104,
          114,
          152,
          129,
          103,
          112,
          92,
          141,
          106,
          109,
          104,
          122,
          111,
          112,
          116,
          130,
          133,
          134,
          92,
          104,
          110,
          97,
          100,
          118,
          112,
          138,
          92,
          118,
          140,
          128,
          101,
          75,
          97,
          111,
          175,
          94,
          97,
          132,
          120,
          107,
          89,
          86,
          103,
          108,
          105,
          117,
          102,
          104,
          157,
          104,
          98,
          109,
          96,
          103,
          114,
          99,
          118,
          150,
          105,
          87,
          136,
          162,
          109,
          107,
          90,
          112,
          126,
          116,
          118,
          138,
          114,
          126
         ],
         "xaxis": "x",
         "yaxis": "y"
        }
       ],
       "layout": {
        "barmode": "relative",
        "legend": {
         "tracegroupgap": 0
        },
        "template": {
         "data": {
          "bar": [
           {
            "error_x": {
             "color": "#2a3f5f"
            },
            "error_y": {
             "color": "#2a3f5f"
            },
            "marker": {
             "line": {
              "color": "#E5ECF6",
              "width": 0.5
             },
             "pattern": {
              "fillmode": "overlay",
              "size": 10,
              "solidity": 0.2
             }
            },
            "type": "bar"
           }
          ],
          "barpolar": [
           {
            "marker": {
             "line": {
              "color": "#E5ECF6",
              "width": 0.5
             },
             "pattern": {
              "fillmode": "overlay",
              "size": 10,
              "solidity": 0.2
             }
            },
            "type": "barpolar"
           }
          ],
          "carpet": [
           {
            "aaxis": {
             "endlinecolor": "#2a3f5f",
             "gridcolor": "white",
             "linecolor": "white",
             "minorgridcolor": "white",
             "startlinecolor": "#2a3f5f"
            },
            "baxis": {
             "endlinecolor": "#2a3f5f",
             "gridcolor": "white",
             "linecolor": "white",
             "minorgridcolor": "white",
             "startlinecolor": "#2a3f5f"
            },
            "type": "carpet"
           }
          ],
          "choropleth": [
           {
            "colorbar": {
             "outlinewidth": 0,
             "ticks": ""
            },
            "type": "choropleth"
           }
          ],
          "contour": [
           {
            "colorbar": {
             "outlinewidth": 0,
             "ticks": ""
            },
            "colorscale": [
             [
              0,
              "#0d0887"
             ],
             [
              0.1111111111111111,
              "#46039f"
             ],
             [
              0.2222222222222222,
              "#7201a8"
             ],
             [
              0.3333333333333333,
              "#9c179e"
             ],
             [
              0.4444444444444444,
              "#bd3786"
             ],
             [
              0.5555555555555556,
              "#d8576b"
             ],
             [
              0.6666666666666666,
              "#ed7953"
             ],
             [
              0.7777777777777778,
              "#fb9f3a"
             ],
             [
              0.8888888888888888,
              "#fdca26"
             ],
             [
              1,
              "#f0f921"
             ]
            ],
            "type": "contour"
           }
          ],
          "contourcarpet": [
           {
            "colorbar": {
             "outlinewidth": 0,
             "ticks": ""
            },
            "type": "contourcarpet"
           }
          ],
          "heatmap": [
           {
            "colorbar": {
             "outlinewidth": 0,
             "ticks": ""
            },
            "colorscale": [
             [
              0,
              "#0d0887"
             ],
             [
              0.1111111111111111,
              "#46039f"
             ],
             [
              0.2222222222222222,
              "#7201a8"
             ],
             [
              0.3333333333333333,
              "#9c179e"
             ],
             [
              0.4444444444444444,
              "#bd3786"
             ],
             [
              0.5555555555555556,
              "#d8576b"
             ],
             [
              0.6666666666666666,
              "#ed7953"
             ],
             [
              0.7777777777777778,
              "#fb9f3a"
             ],
             [
              0.8888888888888888,
              "#fdca26"
             ],
             [
              1,
              "#f0f921"
             ]
            ],
            "type": "heatmap"
           }
          ],
          "heatmapgl": [
           {
            "colorbar": {
             "outlinewidth": 0,
             "ticks": ""
            },
            "colorscale": [
             [
              0,
              "#0d0887"
             ],
             [
              0.1111111111111111,
              "#46039f"
             ],
             [
              0.2222222222222222,
              "#7201a8"
             ],
             [
              0.3333333333333333,
              "#9c179e"
             ],
             [
              0.4444444444444444,
              "#bd3786"
             ],
             [
              0.5555555555555556,
              "#d8576b"
             ],
             [
              0.6666666666666666,
              "#ed7953"
             ],
             [
              0.7777777777777778,
              "#fb9f3a"
             ],
             [
              0.8888888888888888,
              "#fdca26"
             ],
             [
              1,
              "#f0f921"
             ]
            ],
            "type": "heatmapgl"
           }
          ],
          "histogram": [
           {
            "marker": {
             "pattern": {
              "fillmode": "overlay",
              "size": 10,
              "solidity": 0.2
             }
            },
            "type": "histogram"
           }
          ],
          "histogram2d": [
           {
            "colorbar": {
             "outlinewidth": 0,
             "ticks": ""
            },
            "colorscale": [
             [
              0,
              "#0d0887"
             ],
             [
              0.1111111111111111,
              "#46039f"
             ],
             [
              0.2222222222222222,
              "#7201a8"
             ],
             [
              0.3333333333333333,
              "#9c179e"
             ],
             [
              0.4444444444444444,
              "#bd3786"
             ],
             [
              0.5555555555555556,
              "#d8576b"
             ],
             [
              0.6666666666666666,
              "#ed7953"
             ],
             [
              0.7777777777777778,
              "#fb9f3a"
             ],
             [
              0.8888888888888888,
              "#fdca26"
             ],
             [
              1,
              "#f0f921"
             ]
            ],
            "type": "histogram2d"
           }
          ],
          "histogram2dcontour": [
           {
            "colorbar": {
             "outlinewidth": 0,
             "ticks": ""
            },
            "colorscale": [
             [
              0,
              "#0d0887"
             ],
             [
              0.1111111111111111,
              "#46039f"
             ],
             [
              0.2222222222222222,
              "#7201a8"
             ],
             [
              0.3333333333333333,
              "#9c179e"
             ],
             [
              0.4444444444444444,
              "#bd3786"
             ],
             [
              0.5555555555555556,
              "#d8576b"
             ],
             [
              0.6666666666666666,
              "#ed7953"
             ],
             [
              0.7777777777777778,
              "#fb9f3a"
             ],
             [
              0.8888888888888888,
              "#fdca26"
             ],
             [
              1,
              "#f0f921"
             ]
            ],
            "type": "histogram2dcontour"
           }
          ],
          "mesh3d": [
           {
            "colorbar": {
             "outlinewidth": 0,
             "ticks": ""
            },
            "type": "mesh3d"
           }
          ],
          "parcoords": [
           {
            "line": {
             "colorbar": {
              "outlinewidth": 0,
              "ticks": ""
             }
            },
            "type": "parcoords"
           }
          ],
          "pie": [
           {
            "automargin": true,
            "type": "pie"
           }
          ],
          "scatter": [
           {
            "marker": {
             "colorbar": {
              "outlinewidth": 0,
              "ticks": ""
             }
            },
            "type": "scatter"
           }
          ],
          "scatter3d": [
           {
            "line": {
             "colorbar": {
              "outlinewidth": 0,
              "ticks": ""
             }
            },
            "marker": {
             "colorbar": {
              "outlinewidth": 0,
              "ticks": ""
             }
            },
            "type": "scatter3d"
           }
          ],
          "scattercarpet": [
           {
            "marker": {
             "colorbar": {
              "outlinewidth": 0,
              "ticks": ""
             }
            },
            "type": "scattercarpet"
           }
          ],
          "scattergeo": [
           {
            "marker": {
             "colorbar": {
              "outlinewidth": 0,
              "ticks": ""
             }
            },
            "type": "scattergeo"
           }
          ],
          "scattergl": [
           {
            "marker": {
             "colorbar": {
              "outlinewidth": 0,
              "ticks": ""
             }
            },
            "type": "scattergl"
           }
          ],
          "scattermapbox": [
           {
            "marker": {
             "colorbar": {
              "outlinewidth": 0,
              "ticks": ""
             }
            },
            "type": "scattermapbox"
           }
          ],
          "scatterpolar": [
           {
            "marker": {
             "colorbar": {
              "outlinewidth": 0,
              "ticks": ""
             }
            },
            "type": "scatterpolar"
           }
          ],
          "scatterpolargl": [
           {
            "marker": {
             "colorbar": {
              "outlinewidth": 0,
              "ticks": ""
             }
            },
            "type": "scatterpolargl"
           }
          ],
          "scatterternary": [
           {
            "marker": {
             "colorbar": {
              "outlinewidth": 0,
              "ticks": ""
             }
            },
            "type": "scatterternary"
           }
          ],
          "surface": [
           {
            "colorbar": {
             "outlinewidth": 0,
             "ticks": ""
            },
            "colorscale": [
             [
              0,
              "#0d0887"
             ],
             [
              0.1111111111111111,
              "#46039f"
             ],
             [
              0.2222222222222222,
              "#7201a8"
             ],
             [
              0.3333333333333333,
              "#9c179e"
             ],
             [
              0.4444444444444444,
              "#bd3786"
             ],
             [
              0.5555555555555556,
              "#d8576b"
             ],
             [
              0.6666666666666666,
              "#ed7953"
             ],
             [
              0.7777777777777778,
              "#fb9f3a"
             ],
             [
              0.8888888888888888,
              "#fdca26"
             ],
             [
              1,
              "#f0f921"
             ]
            ],
            "type": "surface"
           }
          ],
          "table": [
           {
            "cells": {
             "fill": {
              "color": "#EBF0F8"
             },
             "line": {
              "color": "white"
             }
            },
            "header": {
             "fill": {
              "color": "#C8D4E3"
             },
             "line": {
              "color": "white"
             }
            },
            "type": "table"
           }
          ]
         },
         "layout": {
          "annotationdefaults": {
           "arrowcolor": "#2a3f5f",
           "arrowhead": 0,
           "arrowwidth": 1
          },
          "autotypenumbers": "strict",
          "coloraxis": {
           "colorbar": {
            "outlinewidth": 0,
            "ticks": ""
           }
          },
          "colorscale": {
           "diverging": [
            [
             0,
             "#8e0152"
            ],
            [
             0.1,
             "#c51b7d"
            ],
            [
             0.2,
             "#de77ae"
            ],
            [
             0.3,
             "#f1b6da"
            ],
            [
             0.4,
             "#fde0ef"
            ],
            [
             0.5,
             "#f7f7f7"
            ],
            [
             0.6,
             "#e6f5d0"
            ],
            [
             0.7,
             "#b8e186"
            ],
            [
             0.8,
             "#7fbc41"
            ],
            [
             0.9,
             "#4d9221"
            ],
            [
             1,
             "#276419"
            ]
           ],
           "sequential": [
            [
             0,
             "#0d0887"
            ],
            [
             0.1111111111111111,
             "#46039f"
            ],
            [
             0.2222222222222222,
             "#7201a8"
            ],
            [
             0.3333333333333333,
             "#9c179e"
            ],
            [
             0.4444444444444444,
             "#bd3786"
            ],
            [
             0.5555555555555556,
             "#d8576b"
            ],
            [
             0.6666666666666666,
             "#ed7953"
            ],
            [
             0.7777777777777778,
             "#fb9f3a"
            ],
            [
             0.8888888888888888,
             "#fdca26"
            ],
            [
             1,
             "#f0f921"
            ]
           ],
           "sequentialminus": [
            [
             0,
             "#0d0887"
            ],
            [
             0.1111111111111111,
             "#46039f"
            ],
            [
             0.2222222222222222,
             "#7201a8"
            ],
            [
             0.3333333333333333,
             "#9c179e"
            ],
            [
             0.4444444444444444,
             "#bd3786"
            ],
            [
             0.5555555555555556,
             "#d8576b"
            ],
            [
             0.6666666666666666,
             "#ed7953"
            ],
            [
             0.7777777777777778,
             "#fb9f3a"
            ],
            [
             0.8888888888888888,
             "#fdca26"
            ],
            [
             1,
             "#f0f921"
            ]
           ]
          },
          "colorway": [
           "#636efa",
           "#EF553B",
           "#00cc96",
           "#ab63fa",
           "#FFA15A",
           "#19d3f3",
           "#FF6692",
           "#B6E880",
           "#FF97FF",
           "#FECB52"
          ],
          "font": {
           "color": "#2a3f5f"
          },
          "geo": {
           "bgcolor": "white",
           "lakecolor": "white",
           "landcolor": "#E5ECF6",
           "showlakes": true,
           "showland": true,
           "subunitcolor": "white"
          },
          "hoverlabel": {
           "align": "left"
          },
          "hovermode": "closest",
          "mapbox": {
           "style": "light"
          },
          "paper_bgcolor": "white",
          "plot_bgcolor": "#E5ECF6",
          "polar": {
           "angularaxis": {
            "gridcolor": "white",
            "linecolor": "white",
            "ticks": ""
           },
           "bgcolor": "#E5ECF6",
           "radialaxis": {
            "gridcolor": "white",
            "linecolor": "white",
            "ticks": ""
           }
          },
          "scene": {
           "xaxis": {
            "backgroundcolor": "#E5ECF6",
            "gridcolor": "white",
            "gridwidth": 2,
            "linecolor": "white",
            "showbackground": true,
            "ticks": "",
            "zerolinecolor": "white"
           },
           "yaxis": {
            "backgroundcolor": "#E5ECF6",
            "gridcolor": "white",
            "gridwidth": 2,
            "linecolor": "white",
            "showbackground": true,
            "ticks": "",
            "zerolinecolor": "white"
           },
           "zaxis": {
            "backgroundcolor": "#E5ECF6",
            "gridcolor": "white",
            "gridwidth": 2,
            "linecolor": "white",
            "showbackground": true,
            "ticks": "",
            "zerolinecolor": "white"
           }
          },
          "shapedefaults": {
           "line": {
            "color": "#2a3f5f"
           }
          },
          "ternary": {
           "aaxis": {
            "gridcolor": "white",
            "linecolor": "white",
            "ticks": ""
           },
           "baxis": {
            "gridcolor": "white",
            "linecolor": "white",
            "ticks": ""
           },
           "bgcolor": "#E5ECF6",
           "caxis": {
            "gridcolor": "white",
            "linecolor": "white",
            "ticks": ""
           }
          },
          "title": {
           "x": 0.05
          },
          "xaxis": {
           "automargin": true,
           "gridcolor": "white",
           "linecolor": "white",
           "ticks": "",
           "title": {
            "standoff": 15
           },
           "zerolinecolor": "white",
           "zerolinewidth": 2
          },
          "yaxis": {
           "automargin": true,
           "gridcolor": "white",
           "linecolor": "white",
           "ticks": "",
           "title": {
            "standoff": 15
           },
           "zerolinecolor": "white",
           "zerolinewidth": 2
          }
         }
        },
        "title": {
         "text": "Number of titles by duration"
        },
        "xaxis": {
         "anchor": "y",
         "domain": [
          0,
          1
         ],
         "title": {
          "text": "duration"
         }
        },
        "yaxis": {
         "anchor": "x",
         "domain": [
          0,
          1
         ],
         "title": {
          "text": "count"
         }
        }
       }
      },
      "text/html": [
       "<div>                            <div id=\"5b1bc6dc-e066-4f4f-985e-8e01345a5778\" class=\"plotly-graph-div\" style=\"height:525px; width:100%;\"></div>            <script type=\"text/javascript\">                require([\"plotly\"], function(Plotly) {                    window.PLOTLYENV=window.PLOTLYENV || {};                                    if (document.getElementById(\"5b1bc6dc-e066-4f4f-985e-8e01345a5778\")) {                    Plotly.newPlot(                        \"5b1bc6dc-e066-4f4f-985e-8e01345a5778\",                        [{\"alignmentgroup\":\"True\",\"bingroup\":\"x\",\"hovertemplate\":\"duration=%{x}<br>count=%{y}<extra></extra>\",\"legendgroup\":\"\",\"marker\":{\"color\":\"#636efa\",\"pattern\":{\"shape\":\"\"}},\"name\":\"\",\"nbinsx\":10,\"offsetgroup\":\"\",\"orientation\":\"v\",\"showlegend\":false,\"x\":[142,175,200,152,154,96,161,201,195,139,178,148,124,142,179,169,133,207,146,121,136,130,130,106,127,116,175,118,110,87,125,112,102,107,119,87,169,115,112,109,189,110,150,165,155,137,113,165,95,151,155,153,125,130,116,89,137,117,88,165,170,89,146,99,98,116,156,122,149,134,122,136,157,123,119,137,128,120,229,107,134,103,177,129,102,216,136,93,68,189,99,108,113,181,103,138,110,129,88,160,126,91,116,125,143,93,102,132,153,183,160,120,138,140,153,170,129,81,127,131,172,115,108,107,129,156,96,91,95,162,130,86,186,151,96,170,118,161,131,126,131,129,224,180,105,117,140,119,124,130,139,107,132,117,126,122,178,238,149,172,98,116,116,123,148,123,182,92,93,100,135,105,94,140,83,95,98,143,99,98,121,163,121,167,188,121,109,110,129,127,94,107,100,117,129,120,121,133,111,122,101,134,165,138,212,154,89,134,93,114,88,130,101,158,99,108,124,132,113,131,191,167,130,147,102,88,165,132,118,101,108,174,98,92,98,106,85,101,105,115,115,124,105,103,138,184,120,99,131,138,98,123,118,114,118,112,124,160,67,146,125,115,134,141,129,104,94,124,150,119,128,143,85,151,118,101,99,92,125,102,106,107,91,80,122,102,112,92,135,136,153,105,126,68,84,103,145,80,106,127,178,137,172,76,130,96,82,115,95,143,125,120,127,112,104,113,189,127,188,96,113,132,122,126,140,133,112,102,93,109,81,108,111,119,96,197,127,138,66,181,141,144,128,83,121,98,117,94,174,112,108,70,99,96,137,136,100,90,96,161,115,181,169,98,136,138,119,123,112,120,103,97,109,165,156,147,100,126,115,105,144,102,107,119,90,197,86,113,133,64,141,113,122,105,119,102,122,123,113,97,117,111,85,99,134,75,109,117,91,128,111,119,100,114,92,141,101,115,127,96,129,135,109,157,193,94,155,113,130,117,159,141,112,162,126,120,144,120,109,97,108,115,136,90,170,220,116,134,124,91,103,96,119,98,101,93,179,155,121,103,127,103,107,100,92,94,158,86,115,130,107,100,108,124,131,122,242,127,141,126,89,113,152,107,92,145,84,126,132,78,117,128,100,128,100,143,107,100,125,106,157,94,104,94,153,123,120,105,166,112,94,111,87,80,108,102,105,136,101,100,108,101,106,105,88,129,138,129,118,139,123,150,132,80,178,79,163,114,144,130,154,81,95,101,120,93,115,106,120,110,123,142,99,112,120,122,130,139,129,141,127,130,118,110,115,101,112,108,143,152,117,121,119,114,122,105,110,116,139,121,109,146,113,100,121,113,113,117,93,101,90,131,98,93,121,82,124,100,117,99,116,123,114,133,105,127,144,90,118,122,102,187,87,154,89,88,129,95,118,98,194,114,80,130,135,101,105,129,134,143,202,89,106,92,137,124,122,113,112,110,135,88,146,104,125,131,91,142,129,158,102,99,101,104,119,103,88,100,146,150,140,140,110,97,102,152,100,94,85,104,112,191,119,111,94,103,134,157,158,127,101,109,98,134,168,93,145,111,88,123,121,144,116,124,147,106,113,129,94,126,128,111,146,85,105,132,130,162,113,110,113,162,110,78,92,95,138,102,128,96,164,126,110,109,122,124,128,157,120,102,152,170,102,116,164,85,104,99,81,131,101,121,69,92,94,141,116,98,135,121,108,114,102,112,140,157,128,108,139,83,131,113,136,96,118,108,83,205,124,111,137,104,109,115,99,114,133,131,131,123,126,97,126,89,122,121,125,105,118,81,115,126,113,107,126,111,85,120,93,100,107,126,131,116,143,93,96,160,137,119,114,98,111,138,144,107,114,125,146,113,85,97,93,113,128,114,147,127,167,124,109,124,102,130,125,98,154,97,128,98,101,147,172,125,88,125,121,112,120,133,110,135,110,80,135,101,112,124,129,104,96,105,109,117,78,138,106,90,106,91,112,134,112,104,101,120,123,133,110,129,120,83,88,96,139,113,84,106,170,144,104,153,85,130,93,148,115,102,125,106,121,143,116,99,116,128,119,104,114,152,129,103,112,92,141,106,109,104,122,111,112,116,130,133,134,92,104,110,97,100,118,112,138,92,118,140,128,101,75,97,111,175,94,97,132,120,107,89,86,103,108,105,117,102,104,157,104,98,109,96,103,114,99,118,150,105,87,136,162,109,107,90,112,126,116,118,138,114,126],\"xaxis\":\"x\",\"yaxis\":\"y\",\"type\":\"histogram\"}],                        {\"template\":{\"data\":{\"bar\":[{\"error_x\":{\"color\":\"#2a3f5f\"},\"error_y\":{\"color\":\"#2a3f5f\"},\"marker\":{\"line\":{\"color\":\"#E5ECF6\",\"width\":0.5},\"pattern\":{\"fillmode\":\"overlay\",\"size\":10,\"solidity\":0.2}},\"type\":\"bar\"}],\"barpolar\":[{\"marker\":{\"line\":{\"color\":\"#E5ECF6\",\"width\":0.5},\"pattern\":{\"fillmode\":\"overlay\",\"size\":10,\"solidity\":0.2}},\"type\":\"barpolar\"}],\"carpet\":[{\"aaxis\":{\"endlinecolor\":\"#2a3f5f\",\"gridcolor\":\"white\",\"linecolor\":\"white\",\"minorgridcolor\":\"white\",\"startlinecolor\":\"#2a3f5f\"},\"baxis\":{\"endlinecolor\":\"#2a3f5f\",\"gridcolor\":\"white\",\"linecolor\":\"white\",\"minorgridcolor\":\"white\",\"startlinecolor\":\"#2a3f5f\"},\"type\":\"carpet\"}],\"choropleth\":[{\"colorbar\":{\"outlinewidth\":0,\"ticks\":\"\"},\"type\":\"choropleth\"}],\"contour\":[{\"colorbar\":{\"outlinewidth\":0,\"ticks\":\"\"},\"colorscale\":[[0.0,\"#0d0887\"],[0.1111111111111111,\"#46039f\"],[0.2222222222222222,\"#7201a8\"],[0.3333333333333333,\"#9c179e\"],[0.4444444444444444,\"#bd3786\"],[0.5555555555555556,\"#d8576b\"],[0.6666666666666666,\"#ed7953\"],[0.7777777777777778,\"#fb9f3a\"],[0.8888888888888888,\"#fdca26\"],[1.0,\"#f0f921\"]],\"type\":\"contour\"}],\"contourcarpet\":[{\"colorbar\":{\"outlinewidth\":0,\"ticks\":\"\"},\"type\":\"contourcarpet\"}],\"heatmap\":[{\"colorbar\":{\"outlinewidth\":0,\"ticks\":\"\"},\"colorscale\":[[0.0,\"#0d0887\"],[0.1111111111111111,\"#46039f\"],[0.2222222222222222,\"#7201a8\"],[0.3333333333333333,\"#9c179e\"],[0.4444444444444444,\"#bd3786\"],[0.5555555555555556,\"#d8576b\"],[0.6666666666666666,\"#ed7953\"],[0.7777777777777778,\"#fb9f3a\"],[0.8888888888888888,\"#fdca26\"],[1.0,\"#f0f921\"]],\"type\":\"heatmap\"}],\"heatmapgl\":[{\"colorbar\":{\"outlinewidth\":0,\"ticks\":\"\"},\"colorscale\":[[0.0,\"#0d0887\"],[0.1111111111111111,\"#46039f\"],[0.2222222222222222,\"#7201a8\"],[0.3333333333333333,\"#9c179e\"],[0.4444444444444444,\"#bd3786\"],[0.5555555555555556,\"#d8576b\"],[0.6666666666666666,\"#ed7953\"],[0.7777777777777778,\"#fb9f3a\"],[0.8888888888888888,\"#fdca26\"],[1.0,\"#f0f921\"]],\"type\":\"heatmapgl\"}],\"histogram\":[{\"marker\":{\"pattern\":{\"fillmode\":\"overlay\",\"size\":10,\"solidity\":0.2}},\"type\":\"histogram\"}],\"histogram2d\":[{\"colorbar\":{\"outlinewidth\":0,\"ticks\":\"\"},\"colorscale\":[[0.0,\"#0d0887\"],[0.1111111111111111,\"#46039f\"],[0.2222222222222222,\"#7201a8\"],[0.3333333333333333,\"#9c179e\"],[0.4444444444444444,\"#bd3786\"],[0.5555555555555556,\"#d8576b\"],[0.6666666666666666,\"#ed7953\"],[0.7777777777777778,\"#fb9f3a\"],[0.8888888888888888,\"#fdca26\"],[1.0,\"#f0f921\"]],\"type\":\"histogram2d\"}],\"histogram2dcontour\":[{\"colorbar\":{\"outlinewidth\":0,\"ticks\":\"\"},\"colorscale\":[[0.0,\"#0d0887\"],[0.1111111111111111,\"#46039f\"],[0.2222222222222222,\"#7201a8\"],[0.3333333333333333,\"#9c179e\"],[0.4444444444444444,\"#bd3786\"],[0.5555555555555556,\"#d8576b\"],[0.6666666666666666,\"#ed7953\"],[0.7777777777777778,\"#fb9f3a\"],[0.8888888888888888,\"#fdca26\"],[1.0,\"#f0f921\"]],\"type\":\"histogram2dcontour\"}],\"mesh3d\":[{\"colorbar\":{\"outlinewidth\":0,\"ticks\":\"\"},\"type\":\"mesh3d\"}],\"parcoords\":[{\"line\":{\"colorbar\":{\"outlinewidth\":0,\"ticks\":\"\"}},\"type\":\"parcoords\"}],\"pie\":[{\"automargin\":true,\"type\":\"pie\"}],\"scatter\":[{\"marker\":{\"colorbar\":{\"outlinewidth\":0,\"ticks\":\"\"}},\"type\":\"scatter\"}],\"scatter3d\":[{\"line\":{\"colorbar\":{\"outlinewidth\":0,\"ticks\":\"\"}},\"marker\":{\"colorbar\":{\"outlinewidth\":0,\"ticks\":\"\"}},\"type\":\"scatter3d\"}],\"scattercarpet\":[{\"marker\":{\"colorbar\":{\"outlinewidth\":0,\"ticks\":\"\"}},\"type\":\"scattercarpet\"}],\"scattergeo\":[{\"marker\":{\"colorbar\":{\"outlinewidth\":0,\"ticks\":\"\"}},\"type\":\"scattergeo\"}],\"scattergl\":[{\"marker\":{\"colorbar\":{\"outlinewidth\":0,\"ticks\":\"\"}},\"type\":\"scattergl\"}],\"scattermapbox\":[{\"marker\":{\"colorbar\":{\"outlinewidth\":0,\"ticks\":\"\"}},\"type\":\"scattermapbox\"}],\"scatterpolar\":[{\"marker\":{\"colorbar\":{\"outlinewidth\":0,\"ticks\":\"\"}},\"type\":\"scatterpolar\"}],\"scatterpolargl\":[{\"marker\":{\"colorbar\":{\"outlinewidth\":0,\"ticks\":\"\"}},\"type\":\"scatterpolargl\"}],\"scatterternary\":[{\"marker\":{\"colorbar\":{\"outlinewidth\":0,\"ticks\":\"\"}},\"type\":\"scatterternary\"}],\"surface\":[{\"colorbar\":{\"outlinewidth\":0,\"ticks\":\"\"},\"colorscale\":[[0.0,\"#0d0887\"],[0.1111111111111111,\"#46039f\"],[0.2222222222222222,\"#7201a8\"],[0.3333333333333333,\"#9c179e\"],[0.4444444444444444,\"#bd3786\"],[0.5555555555555556,\"#d8576b\"],[0.6666666666666666,\"#ed7953\"],[0.7777777777777778,\"#fb9f3a\"],[0.8888888888888888,\"#fdca26\"],[1.0,\"#f0f921\"]],\"type\":\"surface\"}],\"table\":[{\"cells\":{\"fill\":{\"color\":\"#EBF0F8\"},\"line\":{\"color\":\"white\"}},\"header\":{\"fill\":{\"color\":\"#C8D4E3\"},\"line\":{\"color\":\"white\"}},\"type\":\"table\"}]},\"layout\":{\"annotationdefaults\":{\"arrowcolor\":\"#2a3f5f\",\"arrowhead\":0,\"arrowwidth\":1},\"autotypenumbers\":\"strict\",\"coloraxis\":{\"colorbar\":{\"outlinewidth\":0,\"ticks\":\"\"}},\"colorscale\":{\"diverging\":[[0,\"#8e0152\"],[0.1,\"#c51b7d\"],[0.2,\"#de77ae\"],[0.3,\"#f1b6da\"],[0.4,\"#fde0ef\"],[0.5,\"#f7f7f7\"],[0.6,\"#e6f5d0\"],[0.7,\"#b8e186\"],[0.8,\"#7fbc41\"],[0.9,\"#4d9221\"],[1,\"#276419\"]],\"sequential\":[[0.0,\"#0d0887\"],[0.1111111111111111,\"#46039f\"],[0.2222222222222222,\"#7201a8\"],[0.3333333333333333,\"#9c179e\"],[0.4444444444444444,\"#bd3786\"],[0.5555555555555556,\"#d8576b\"],[0.6666666666666666,\"#ed7953\"],[0.7777777777777778,\"#fb9f3a\"],[0.8888888888888888,\"#fdca26\"],[1.0,\"#f0f921\"]],\"sequentialminus\":[[0.0,\"#0d0887\"],[0.1111111111111111,\"#46039f\"],[0.2222222222222222,\"#7201a8\"],[0.3333333333333333,\"#9c179e\"],[0.4444444444444444,\"#bd3786\"],[0.5555555555555556,\"#d8576b\"],[0.6666666666666666,\"#ed7953\"],[0.7777777777777778,\"#fb9f3a\"],[0.8888888888888888,\"#fdca26\"],[1.0,\"#f0f921\"]]},\"colorway\":[\"#636efa\",\"#EF553B\",\"#00cc96\",\"#ab63fa\",\"#FFA15A\",\"#19d3f3\",\"#FF6692\",\"#B6E880\",\"#FF97FF\",\"#FECB52\"],\"font\":{\"color\":\"#2a3f5f\"},\"geo\":{\"bgcolor\":\"white\",\"lakecolor\":\"white\",\"landcolor\":\"#E5ECF6\",\"showlakes\":true,\"showland\":true,\"subunitcolor\":\"white\"},\"hoverlabel\":{\"align\":\"left\"},\"hovermode\":\"closest\",\"mapbox\":{\"style\":\"light\"},\"paper_bgcolor\":\"white\",\"plot_bgcolor\":\"#E5ECF6\",\"polar\":{\"angularaxis\":{\"gridcolor\":\"white\",\"linecolor\":\"white\",\"ticks\":\"\"},\"bgcolor\":\"#E5ECF6\",\"radialaxis\":{\"gridcolor\":\"white\",\"linecolor\":\"white\",\"ticks\":\"\"}},\"scene\":{\"xaxis\":{\"backgroundcolor\":\"#E5ECF6\",\"gridcolor\":\"white\",\"gridwidth\":2,\"linecolor\":\"white\",\"showbackground\":true,\"ticks\":\"\",\"zerolinecolor\":\"white\"},\"yaxis\":{\"backgroundcolor\":\"#E5ECF6\",\"gridcolor\":\"white\",\"gridwidth\":2,\"linecolor\":\"white\",\"showbackground\":true,\"ticks\":\"\",\"zerolinecolor\":\"white\"},\"zaxis\":{\"backgroundcolor\":\"#E5ECF6\",\"gridcolor\":\"white\",\"gridwidth\":2,\"linecolor\":\"white\",\"showbackground\":true,\"ticks\":\"\",\"zerolinecolor\":\"white\"}},\"shapedefaults\":{\"line\":{\"color\":\"#2a3f5f\"}},\"ternary\":{\"aaxis\":{\"gridcolor\":\"white\",\"linecolor\":\"white\",\"ticks\":\"\"},\"baxis\":{\"gridcolor\":\"white\",\"linecolor\":\"white\",\"ticks\":\"\"},\"bgcolor\":\"#E5ECF6\",\"caxis\":{\"gridcolor\":\"white\",\"linecolor\":\"white\",\"ticks\":\"\"}},\"title\":{\"x\":0.05},\"xaxis\":{\"automargin\":true,\"gridcolor\":\"white\",\"linecolor\":\"white\",\"ticks\":\"\",\"title\":{\"standoff\":15},\"zerolinecolor\":\"white\",\"zerolinewidth\":2},\"yaxis\":{\"automargin\":true,\"gridcolor\":\"white\",\"linecolor\":\"white\",\"ticks\":\"\",\"title\":{\"standoff\":15},\"zerolinecolor\":\"white\",\"zerolinewidth\":2}}},\"xaxis\":{\"anchor\":\"y\",\"domain\":[0.0,1.0],\"title\":{\"text\":\"duration\"}},\"yaxis\":{\"anchor\":\"x\",\"domain\":[0.0,1.0],\"title\":{\"text\":\"count\"}},\"legend\":{\"tracegroupgap\":0},\"title\":{\"text\":\"Number of titles by duration\"},\"barmode\":\"relative\"},                        {\"responsive\": true}                    ).then(function(){\n",
       "                            \n",
       "var gd = document.getElementById('5b1bc6dc-e066-4f4f-985e-8e01345a5778');\n",
       "var x = new MutationObserver(function (mutations, observer) {{\n",
       "        var display = window.getComputedStyle(gd).display;\n",
       "        if (!display || display === 'none') {{\n",
       "            console.log([gd, 'removed!']);\n",
       "            Plotly.purge(gd);\n",
       "            observer.disconnect();\n",
       "        }}\n",
       "}});\n",
       "\n",
       "// Listen for the removal of the full notebook cells\n",
       "var notebookContainer = gd.closest('#notebook-container');\n",
       "if (notebookContainer) {{\n",
       "    x.observe(notebookContainer, {childList: true});\n",
       "}}\n",
       "\n",
       "// Listen for the clearing of the current output cell\n",
       "var outputEl = gd.closest('.output');\n",
       "if (outputEl) {{\n",
       "    x.observe(outputEl, {childList: true});\n",
       "}}\n",
       "\n",
       "                        })                };                });            </script>        </div>"
      ]
     },
     "metadata": {},
     "output_type": "display_data"
    }
   ],
   "source": [
    "# Answer:\n",
    "import numpy as np\n",
    "import plotly.express as px\n",
    "\n",
    "fig=px.histogram(movies, x='duration',title=\"Number of titles by duration\",nbins=10)\n",
    "fig.show()\n",
    "\n"
   ]
  },
  {
   "cell_type": "markdown",
   "metadata": {},
   "source": [
    "#### Use a box plot to display that same data."
   ]
  },
  {
   "cell_type": "code",
   "execution_count": 85,
   "metadata": {},
   "outputs": [
    {
     "data": {
      "application/vnd.plotly.v1+json": {
       "config": {
        "plotlyServerURL": "https://plot.ly"
       },
       "data": [
        {
         "alignmentgroup": "True",
         "hovertemplate": "duration=%{y}<extra></extra>",
         "legendgroup": "",
         "marker": {
          "color": "#636efa"
         },
         "name": "",
         "notched": false,
         "offsetgroup": "",
         "orientation": "v",
         "showlegend": false,
         "type": "box",
         "x0": " ",
         "xaxis": "x",
         "y": [
          142,
          175,
          200,
          152,
          154,
          96,
          161,
          201,
          195,
          139,
          178,
          148,
          124,
          142,
          179,
          169,
          133,
          207,
          146,
          121,
          136,
          130,
          130,
          106,
          127,
          116,
          175,
          118,
          110,
          87,
          125,
          112,
          102,
          107,
          119,
          87,
          169,
          115,
          112,
          109,
          189,
          110,
          150,
          165,
          155,
          137,
          113,
          165,
          95,
          151,
          155,
          153,
          125,
          130,
          116,
          89,
          137,
          117,
          88,
          165,
          170,
          89,
          146,
          99,
          98,
          116,
          156,
          122,
          149,
          134,
          122,
          136,
          157,
          123,
          119,
          137,
          128,
          120,
          229,
          107,
          134,
          103,
          177,
          129,
          102,
          216,
          136,
          93,
          68,
          189,
          99,
          108,
          113,
          181,
          103,
          138,
          110,
          129,
          88,
          160,
          126,
          91,
          116,
          125,
          143,
          93,
          102,
          132,
          153,
          183,
          160,
          120,
          138,
          140,
          153,
          170,
          129,
          81,
          127,
          131,
          172,
          115,
          108,
          107,
          129,
          156,
          96,
          91,
          95,
          162,
          130,
          86,
          186,
          151,
          96,
          170,
          118,
          161,
          131,
          126,
          131,
          129,
          224,
          180,
          105,
          117,
          140,
          119,
          124,
          130,
          139,
          107,
          132,
          117,
          126,
          122,
          178,
          238,
          149,
          172,
          98,
          116,
          116,
          123,
          148,
          123,
          182,
          92,
          93,
          100,
          135,
          105,
          94,
          140,
          83,
          95,
          98,
          143,
          99,
          98,
          121,
          163,
          121,
          167,
          188,
          121,
          109,
          110,
          129,
          127,
          94,
          107,
          100,
          117,
          129,
          120,
          121,
          133,
          111,
          122,
          101,
          134,
          165,
          138,
          212,
          154,
          89,
          134,
          93,
          114,
          88,
          130,
          101,
          158,
          99,
          108,
          124,
          132,
          113,
          131,
          191,
          167,
          130,
          147,
          102,
          88,
          165,
          132,
          118,
          101,
          108,
          174,
          98,
          92,
          98,
          106,
          85,
          101,
          105,
          115,
          115,
          124,
          105,
          103,
          138,
          184,
          120,
          99,
          131,
          138,
          98,
          123,
          118,
          114,
          118,
          112,
          124,
          160,
          67,
          146,
          125,
          115,
          134,
          141,
          129,
          104,
          94,
          124,
          150,
          119,
          128,
          143,
          85,
          151,
          118,
          101,
          99,
          92,
          125,
          102,
          106,
          107,
          91,
          80,
          122,
          102,
          112,
          92,
          135,
          136,
          153,
          105,
          126,
          68,
          84,
          103,
          145,
          80,
          106,
          127,
          178,
          137,
          172,
          76,
          130,
          96,
          82,
          115,
          95,
          143,
          125,
          120,
          127,
          112,
          104,
          113,
          189,
          127,
          188,
          96,
          113,
          132,
          122,
          126,
          140,
          133,
          112,
          102,
          93,
          109,
          81,
          108,
          111,
          119,
          96,
          197,
          127,
          138,
          66,
          181,
          141,
          144,
          128,
          83,
          121,
          98,
          117,
          94,
          174,
          112,
          108,
          70,
          99,
          96,
          137,
          136,
          100,
          90,
          96,
          161,
          115,
          181,
          169,
          98,
          136,
          138,
          119,
          123,
          112,
          120,
          103,
          97,
          109,
          165,
          156,
          147,
          100,
          126,
          115,
          105,
          144,
          102,
          107,
          119,
          90,
          197,
          86,
          113,
          133,
          64,
          141,
          113,
          122,
          105,
          119,
          102,
          122,
          123,
          113,
          97,
          117,
          111,
          85,
          99,
          134,
          75,
          109,
          117,
          91,
          128,
          111,
          119,
          100,
          114,
          92,
          141,
          101,
          115,
          127,
          96,
          129,
          135,
          109,
          157,
          193,
          94,
          155,
          113,
          130,
          117,
          159,
          141,
          112,
          162,
          126,
          120,
          144,
          120,
          109,
          97,
          108,
          115,
          136,
          90,
          170,
          220,
          116,
          134,
          124,
          91,
          103,
          96,
          119,
          98,
          101,
          93,
          179,
          155,
          121,
          103,
          127,
          103,
          107,
          100,
          92,
          94,
          158,
          86,
          115,
          130,
          107,
          100,
          108,
          124,
          131,
          122,
          242,
          127,
          141,
          126,
          89,
          113,
          152,
          107,
          92,
          145,
          84,
          126,
          132,
          78,
          117,
          128,
          100,
          128,
          100,
          143,
          107,
          100,
          125,
          106,
          157,
          94,
          104,
          94,
          153,
          123,
          120,
          105,
          166,
          112,
          94,
          111,
          87,
          80,
          108,
          102,
          105,
          136,
          101,
          100,
          108,
          101,
          106,
          105,
          88,
          129,
          138,
          129,
          118,
          139,
          123,
          150,
          132,
          80,
          178,
          79,
          163,
          114,
          144,
          130,
          154,
          81,
          95,
          101,
          120,
          93,
          115,
          106,
          120,
          110,
          123,
          142,
          99,
          112,
          120,
          122,
          130,
          139,
          129,
          141,
          127,
          130,
          118,
          110,
          115,
          101,
          112,
          108,
          143,
          152,
          117,
          121,
          119,
          114,
          122,
          105,
          110,
          116,
          139,
          121,
          109,
          146,
          113,
          100,
          121,
          113,
          113,
          117,
          93,
          101,
          90,
          131,
          98,
          93,
          121,
          82,
          124,
          100,
          117,
          99,
          116,
          123,
          114,
          133,
          105,
          127,
          144,
          90,
          118,
          122,
          102,
          187,
          87,
          154,
          89,
          88,
          129,
          95,
          118,
          98,
          194,
          114,
          80,
          130,
          135,
          101,
          105,
          129,
          134,
          143,
          202,
          89,
          106,
          92,
          137,
          124,
          122,
          113,
          112,
          110,
          135,
          88,
          146,
          104,
          125,
          131,
          91,
          142,
          129,
          158,
          102,
          99,
          101,
          104,
          119,
          103,
          88,
          100,
          146,
          150,
          140,
          140,
          110,
          97,
          102,
          152,
          100,
          94,
          85,
          104,
          112,
          191,
          119,
          111,
          94,
          103,
          134,
          157,
          158,
          127,
          101,
          109,
          98,
          134,
          168,
          93,
          145,
          111,
          88,
          123,
          121,
          144,
          116,
          124,
          147,
          106,
          113,
          129,
          94,
          126,
          128,
          111,
          146,
          85,
          105,
          132,
          130,
          162,
          113,
          110,
          113,
          162,
          110,
          78,
          92,
          95,
          138,
          102,
          128,
          96,
          164,
          126,
          110,
          109,
          122,
          124,
          128,
          157,
          120,
          102,
          152,
          170,
          102,
          116,
          164,
          85,
          104,
          99,
          81,
          131,
          101,
          121,
          69,
          92,
          94,
          141,
          116,
          98,
          135,
          121,
          108,
          114,
          102,
          112,
          140,
          157,
          128,
          108,
          139,
          83,
          131,
          113,
          136,
          96,
          118,
          108,
          83,
          205,
          124,
          111,
          137,
          104,
          109,
          115,
          99,
          114,
          133,
          131,
          131,
          123,
          126,
          97,
          126,
          89,
          122,
          121,
          125,
          105,
          118,
          81,
          115,
          126,
          113,
          107,
          126,
          111,
          85,
          120,
          93,
          100,
          107,
          126,
          131,
          116,
          143,
          93,
          96,
          160,
          137,
          119,
          114,
          98,
          111,
          138,
          144,
          107,
          114,
          125,
          146,
          113,
          85,
          97,
          93,
          113,
          128,
          114,
          147,
          127,
          167,
          124,
          109,
          124,
          102,
          130,
          125,
          98,
          154,
          97,
          128,
          98,
          101,
          147,
          172,
          125,
          88,
          125,
          121,
          112,
          120,
          133,
          110,
          135,
          110,
          80,
          135,
          101,
          112,
          124,
          129,
          104,
          96,
          105,
          109,
          117,
          78,
          138,
          106,
          90,
          106,
          91,
          112,
          134,
          112,
          104,
          101,
          120,
          123,
          133,
          110,
          129,
          120,
          83,
          88,
          96,
          139,
          113,
          84,
          106,
          170,
          144,
          104,
          153,
          85,
          130,
          93,
          148,
          115,
          102,
          125,
          106,
          121,
          143,
          116,
          99,
          116,
          128,
          119,
          104,
          114,
          152,
          129,
          103,
          112,
          92,
          141,
          106,
          109,
          104,
          122,
          111,
          112,
          116,
          130,
          133,
          134,
          92,
          104,
          110,
          97,
          100,
          118,
          112,
          138,
          92,
          118,
          140,
          128,
          101,
          75,
          97,
          111,
          175,
          94,
          97,
          132,
          120,
          107,
          89,
          86,
          103,
          108,
          105,
          117,
          102,
          104,
          157,
          104,
          98,
          109,
          96,
          103,
          114,
          99,
          118,
          150,
          105,
          87,
          136,
          162,
          109,
          107,
          90,
          112,
          126,
          116,
          118,
          138,
          114,
          126
         ],
         "y0": " ",
         "yaxis": "y"
        }
       ],
       "layout": {
        "boxmode": "group",
        "legend": {
         "tracegroupgap": 0
        },
        "template": {
         "data": {
          "bar": [
           {
            "error_x": {
             "color": "#2a3f5f"
            },
            "error_y": {
             "color": "#2a3f5f"
            },
            "marker": {
             "line": {
              "color": "#E5ECF6",
              "width": 0.5
             },
             "pattern": {
              "fillmode": "overlay",
              "size": 10,
              "solidity": 0.2
             }
            },
            "type": "bar"
           }
          ],
          "barpolar": [
           {
            "marker": {
             "line": {
              "color": "#E5ECF6",
              "width": 0.5
             },
             "pattern": {
              "fillmode": "overlay",
              "size": 10,
              "solidity": 0.2
             }
            },
            "type": "barpolar"
           }
          ],
          "carpet": [
           {
            "aaxis": {
             "endlinecolor": "#2a3f5f",
             "gridcolor": "white",
             "linecolor": "white",
             "minorgridcolor": "white",
             "startlinecolor": "#2a3f5f"
            },
            "baxis": {
             "endlinecolor": "#2a3f5f",
             "gridcolor": "white",
             "linecolor": "white",
             "minorgridcolor": "white",
             "startlinecolor": "#2a3f5f"
            },
            "type": "carpet"
           }
          ],
          "choropleth": [
           {
            "colorbar": {
             "outlinewidth": 0,
             "ticks": ""
            },
            "type": "choropleth"
           }
          ],
          "contour": [
           {
            "colorbar": {
             "outlinewidth": 0,
             "ticks": ""
            },
            "colorscale": [
             [
              0,
              "#0d0887"
             ],
             [
              0.1111111111111111,
              "#46039f"
             ],
             [
              0.2222222222222222,
              "#7201a8"
             ],
             [
              0.3333333333333333,
              "#9c179e"
             ],
             [
              0.4444444444444444,
              "#bd3786"
             ],
             [
              0.5555555555555556,
              "#d8576b"
             ],
             [
              0.6666666666666666,
              "#ed7953"
             ],
             [
              0.7777777777777778,
              "#fb9f3a"
             ],
             [
              0.8888888888888888,
              "#fdca26"
             ],
             [
              1,
              "#f0f921"
             ]
            ],
            "type": "contour"
           }
          ],
          "contourcarpet": [
           {
            "colorbar": {
             "outlinewidth": 0,
             "ticks": ""
            },
            "type": "contourcarpet"
           }
          ],
          "heatmap": [
           {
            "colorbar": {
             "outlinewidth": 0,
             "ticks": ""
            },
            "colorscale": [
             [
              0,
              "#0d0887"
             ],
             [
              0.1111111111111111,
              "#46039f"
             ],
             [
              0.2222222222222222,
              "#7201a8"
             ],
             [
              0.3333333333333333,
              "#9c179e"
             ],
             [
              0.4444444444444444,
              "#bd3786"
             ],
             [
              0.5555555555555556,
              "#d8576b"
             ],
             [
              0.6666666666666666,
              "#ed7953"
             ],
             [
              0.7777777777777778,
              "#fb9f3a"
             ],
             [
              0.8888888888888888,
              "#fdca26"
             ],
             [
              1,
              "#f0f921"
             ]
            ],
            "type": "heatmap"
           }
          ],
          "heatmapgl": [
           {
            "colorbar": {
             "outlinewidth": 0,
             "ticks": ""
            },
            "colorscale": [
             [
              0,
              "#0d0887"
             ],
             [
              0.1111111111111111,
              "#46039f"
             ],
             [
              0.2222222222222222,
              "#7201a8"
             ],
             [
              0.3333333333333333,
              "#9c179e"
             ],
             [
              0.4444444444444444,
              "#bd3786"
             ],
             [
              0.5555555555555556,
              "#d8576b"
             ],
             [
              0.6666666666666666,
              "#ed7953"
             ],
             [
              0.7777777777777778,
              "#fb9f3a"
             ],
             [
              0.8888888888888888,
              "#fdca26"
             ],
             [
              1,
              "#f0f921"
             ]
            ],
            "type": "heatmapgl"
           }
          ],
          "histogram": [
           {
            "marker": {
             "pattern": {
              "fillmode": "overlay",
              "size": 10,
              "solidity": 0.2
             }
            },
            "type": "histogram"
           }
          ],
          "histogram2d": [
           {
            "colorbar": {
             "outlinewidth": 0,
             "ticks": ""
            },
            "colorscale": [
             [
              0,
              "#0d0887"
             ],
             [
              0.1111111111111111,
              "#46039f"
             ],
             [
              0.2222222222222222,
              "#7201a8"
             ],
             [
              0.3333333333333333,
              "#9c179e"
             ],
             [
              0.4444444444444444,
              "#bd3786"
             ],
             [
              0.5555555555555556,
              "#d8576b"
             ],
             [
              0.6666666666666666,
              "#ed7953"
             ],
             [
              0.7777777777777778,
              "#fb9f3a"
             ],
             [
              0.8888888888888888,
              "#fdca26"
             ],
             [
              1,
              "#f0f921"
             ]
            ],
            "type": "histogram2d"
           }
          ],
          "histogram2dcontour": [
           {
            "colorbar": {
             "outlinewidth": 0,
             "ticks": ""
            },
            "colorscale": [
             [
              0,
              "#0d0887"
             ],
             [
              0.1111111111111111,
              "#46039f"
             ],
             [
              0.2222222222222222,
              "#7201a8"
             ],
             [
              0.3333333333333333,
              "#9c179e"
             ],
             [
              0.4444444444444444,
              "#bd3786"
             ],
             [
              0.5555555555555556,
              "#d8576b"
             ],
             [
              0.6666666666666666,
              "#ed7953"
             ],
             [
              0.7777777777777778,
              "#fb9f3a"
             ],
             [
              0.8888888888888888,
              "#fdca26"
             ],
             [
              1,
              "#f0f921"
             ]
            ],
            "type": "histogram2dcontour"
           }
          ],
          "mesh3d": [
           {
            "colorbar": {
             "outlinewidth": 0,
             "ticks": ""
            },
            "type": "mesh3d"
           }
          ],
          "parcoords": [
           {
            "line": {
             "colorbar": {
              "outlinewidth": 0,
              "ticks": ""
             }
            },
            "type": "parcoords"
           }
          ],
          "pie": [
           {
            "automargin": true,
            "type": "pie"
           }
          ],
          "scatter": [
           {
            "marker": {
             "colorbar": {
              "outlinewidth": 0,
              "ticks": ""
             }
            },
            "type": "scatter"
           }
          ],
          "scatter3d": [
           {
            "line": {
             "colorbar": {
              "outlinewidth": 0,
              "ticks": ""
             }
            },
            "marker": {
             "colorbar": {
              "outlinewidth": 0,
              "ticks": ""
             }
            },
            "type": "scatter3d"
           }
          ],
          "scattercarpet": [
           {
            "marker": {
             "colorbar": {
              "outlinewidth": 0,
              "ticks": ""
             }
            },
            "type": "scattercarpet"
           }
          ],
          "scattergeo": [
           {
            "marker": {
             "colorbar": {
              "outlinewidth": 0,
              "ticks": ""
             }
            },
            "type": "scattergeo"
           }
          ],
          "scattergl": [
           {
            "marker": {
             "colorbar": {
              "outlinewidth": 0,
              "ticks": ""
             }
            },
            "type": "scattergl"
           }
          ],
          "scattermapbox": [
           {
            "marker": {
             "colorbar": {
              "outlinewidth": 0,
              "ticks": ""
             }
            },
            "type": "scattermapbox"
           }
          ],
          "scatterpolar": [
           {
            "marker": {
             "colorbar": {
              "outlinewidth": 0,
              "ticks": ""
             }
            },
            "type": "scatterpolar"
           }
          ],
          "scatterpolargl": [
           {
            "marker": {
             "colorbar": {
              "outlinewidth": 0,
              "ticks": ""
             }
            },
            "type": "scatterpolargl"
           }
          ],
          "scatterternary": [
           {
            "marker": {
             "colorbar": {
              "outlinewidth": 0,
              "ticks": ""
             }
            },
            "type": "scatterternary"
           }
          ],
          "surface": [
           {
            "colorbar": {
             "outlinewidth": 0,
             "ticks": ""
            },
            "colorscale": [
             [
              0,
              "#0d0887"
             ],
             [
              0.1111111111111111,
              "#46039f"
             ],
             [
              0.2222222222222222,
              "#7201a8"
             ],
             [
              0.3333333333333333,
              "#9c179e"
             ],
             [
              0.4444444444444444,
              "#bd3786"
             ],
             [
              0.5555555555555556,
              "#d8576b"
             ],
             [
              0.6666666666666666,
              "#ed7953"
             ],
             [
              0.7777777777777778,
              "#fb9f3a"
             ],
             [
              0.8888888888888888,
              "#fdca26"
             ],
             [
              1,
              "#f0f921"
             ]
            ],
            "type": "surface"
           }
          ],
          "table": [
           {
            "cells": {
             "fill": {
              "color": "#EBF0F8"
             },
             "line": {
              "color": "white"
             }
            },
            "header": {
             "fill": {
              "color": "#C8D4E3"
             },
             "line": {
              "color": "white"
             }
            },
            "type": "table"
           }
          ]
         },
         "layout": {
          "annotationdefaults": {
           "arrowcolor": "#2a3f5f",
           "arrowhead": 0,
           "arrowwidth": 1
          },
          "autotypenumbers": "strict",
          "coloraxis": {
           "colorbar": {
            "outlinewidth": 0,
            "ticks": ""
           }
          },
          "colorscale": {
           "diverging": [
            [
             0,
             "#8e0152"
            ],
            [
             0.1,
             "#c51b7d"
            ],
            [
             0.2,
             "#de77ae"
            ],
            [
             0.3,
             "#f1b6da"
            ],
            [
             0.4,
             "#fde0ef"
            ],
            [
             0.5,
             "#f7f7f7"
            ],
            [
             0.6,
             "#e6f5d0"
            ],
            [
             0.7,
             "#b8e186"
            ],
            [
             0.8,
             "#7fbc41"
            ],
            [
             0.9,
             "#4d9221"
            ],
            [
             1,
             "#276419"
            ]
           ],
           "sequential": [
            [
             0,
             "#0d0887"
            ],
            [
             0.1111111111111111,
             "#46039f"
            ],
            [
             0.2222222222222222,
             "#7201a8"
            ],
            [
             0.3333333333333333,
             "#9c179e"
            ],
            [
             0.4444444444444444,
             "#bd3786"
            ],
            [
             0.5555555555555556,
             "#d8576b"
            ],
            [
             0.6666666666666666,
             "#ed7953"
            ],
            [
             0.7777777777777778,
             "#fb9f3a"
            ],
            [
             0.8888888888888888,
             "#fdca26"
            ],
            [
             1,
             "#f0f921"
            ]
           ],
           "sequentialminus": [
            [
             0,
             "#0d0887"
            ],
            [
             0.1111111111111111,
             "#46039f"
            ],
            [
             0.2222222222222222,
             "#7201a8"
            ],
            [
             0.3333333333333333,
             "#9c179e"
            ],
            [
             0.4444444444444444,
             "#bd3786"
            ],
            [
             0.5555555555555556,
             "#d8576b"
            ],
            [
             0.6666666666666666,
             "#ed7953"
            ],
            [
             0.7777777777777778,
             "#fb9f3a"
            ],
            [
             0.8888888888888888,
             "#fdca26"
            ],
            [
             1,
             "#f0f921"
            ]
           ]
          },
          "colorway": [
           "#636efa",
           "#EF553B",
           "#00cc96",
           "#ab63fa",
           "#FFA15A",
           "#19d3f3",
           "#FF6692",
           "#B6E880",
           "#FF97FF",
           "#FECB52"
          ],
          "font": {
           "color": "#2a3f5f"
          },
          "geo": {
           "bgcolor": "white",
           "lakecolor": "white",
           "landcolor": "#E5ECF6",
           "showlakes": true,
           "showland": true,
           "subunitcolor": "white"
          },
          "hoverlabel": {
           "align": "left"
          },
          "hovermode": "closest",
          "mapbox": {
           "style": "light"
          },
          "paper_bgcolor": "white",
          "plot_bgcolor": "#E5ECF6",
          "polar": {
           "angularaxis": {
            "gridcolor": "white",
            "linecolor": "white",
            "ticks": ""
           },
           "bgcolor": "#E5ECF6",
           "radialaxis": {
            "gridcolor": "white",
            "linecolor": "white",
            "ticks": ""
           }
          },
          "scene": {
           "xaxis": {
            "backgroundcolor": "#E5ECF6",
            "gridcolor": "white",
            "gridwidth": 2,
            "linecolor": "white",
            "showbackground": true,
            "ticks": "",
            "zerolinecolor": "white"
           },
           "yaxis": {
            "backgroundcolor": "#E5ECF6",
            "gridcolor": "white",
            "gridwidth": 2,
            "linecolor": "white",
            "showbackground": true,
            "ticks": "",
            "zerolinecolor": "white"
           },
           "zaxis": {
            "backgroundcolor": "#E5ECF6",
            "gridcolor": "white",
            "gridwidth": 2,
            "linecolor": "white",
            "showbackground": true,
            "ticks": "",
            "zerolinecolor": "white"
           }
          },
          "shapedefaults": {
           "line": {
            "color": "#2a3f5f"
           }
          },
          "ternary": {
           "aaxis": {
            "gridcolor": "white",
            "linecolor": "white",
            "ticks": ""
           },
           "baxis": {
            "gridcolor": "white",
            "linecolor": "white",
            "ticks": ""
           },
           "bgcolor": "#E5ECF6",
           "caxis": {
            "gridcolor": "white",
            "linecolor": "white",
            "ticks": ""
           }
          },
          "title": {
           "x": 0.05
          },
          "xaxis": {
           "automargin": true,
           "gridcolor": "white",
           "linecolor": "white",
           "ticks": "",
           "title": {
            "standoff": 15
           },
           "zerolinecolor": "white",
           "zerolinewidth": 2
          },
          "yaxis": {
           "automargin": true,
           "gridcolor": "white",
           "linecolor": "white",
           "ticks": "",
           "title": {
            "standoff": 15
           },
           "zerolinecolor": "white",
           "zerolinewidth": 2
          }
         }
        },
        "title": {
         "text": "Duration Distribution for all movies"
        },
        "xaxis": {
         "anchor": "y",
         "domain": [
          0,
          1
         ]
        },
        "yaxis": {
         "anchor": "x",
         "domain": [
          0,
          1
         ],
         "title": {
          "text": "duration"
         }
        }
       }
      },
      "text/html": [
       "<div>                            <div id=\"420f9b3a-8e7c-45c8-97cb-b983993b1db7\" class=\"plotly-graph-div\" style=\"height:525px; width:100%;\"></div>            <script type=\"text/javascript\">                require([\"plotly\"], function(Plotly) {                    window.PLOTLYENV=window.PLOTLYENV || {};                                    if (document.getElementById(\"420f9b3a-8e7c-45c8-97cb-b983993b1db7\")) {                    Plotly.newPlot(                        \"420f9b3a-8e7c-45c8-97cb-b983993b1db7\",                        [{\"alignmentgroup\":\"True\",\"hovertemplate\":\"duration=%{y}<extra></extra>\",\"legendgroup\":\"\",\"marker\":{\"color\":\"#636efa\"},\"name\":\"\",\"notched\":false,\"offsetgroup\":\"\",\"orientation\":\"v\",\"showlegend\":false,\"x0\":\" \",\"xaxis\":\"x\",\"y\":[142,175,200,152,154,96,161,201,195,139,178,148,124,142,179,169,133,207,146,121,136,130,130,106,127,116,175,118,110,87,125,112,102,107,119,87,169,115,112,109,189,110,150,165,155,137,113,165,95,151,155,153,125,130,116,89,137,117,88,165,170,89,146,99,98,116,156,122,149,134,122,136,157,123,119,137,128,120,229,107,134,103,177,129,102,216,136,93,68,189,99,108,113,181,103,138,110,129,88,160,126,91,116,125,143,93,102,132,153,183,160,120,138,140,153,170,129,81,127,131,172,115,108,107,129,156,96,91,95,162,130,86,186,151,96,170,118,161,131,126,131,129,224,180,105,117,140,119,124,130,139,107,132,117,126,122,178,238,149,172,98,116,116,123,148,123,182,92,93,100,135,105,94,140,83,95,98,143,99,98,121,163,121,167,188,121,109,110,129,127,94,107,100,117,129,120,121,133,111,122,101,134,165,138,212,154,89,134,93,114,88,130,101,158,99,108,124,132,113,131,191,167,130,147,102,88,165,132,118,101,108,174,98,92,98,106,85,101,105,115,115,124,105,103,138,184,120,99,131,138,98,123,118,114,118,112,124,160,67,146,125,115,134,141,129,104,94,124,150,119,128,143,85,151,118,101,99,92,125,102,106,107,91,80,122,102,112,92,135,136,153,105,126,68,84,103,145,80,106,127,178,137,172,76,130,96,82,115,95,143,125,120,127,112,104,113,189,127,188,96,113,132,122,126,140,133,112,102,93,109,81,108,111,119,96,197,127,138,66,181,141,144,128,83,121,98,117,94,174,112,108,70,99,96,137,136,100,90,96,161,115,181,169,98,136,138,119,123,112,120,103,97,109,165,156,147,100,126,115,105,144,102,107,119,90,197,86,113,133,64,141,113,122,105,119,102,122,123,113,97,117,111,85,99,134,75,109,117,91,128,111,119,100,114,92,141,101,115,127,96,129,135,109,157,193,94,155,113,130,117,159,141,112,162,126,120,144,120,109,97,108,115,136,90,170,220,116,134,124,91,103,96,119,98,101,93,179,155,121,103,127,103,107,100,92,94,158,86,115,130,107,100,108,124,131,122,242,127,141,126,89,113,152,107,92,145,84,126,132,78,117,128,100,128,100,143,107,100,125,106,157,94,104,94,153,123,120,105,166,112,94,111,87,80,108,102,105,136,101,100,108,101,106,105,88,129,138,129,118,139,123,150,132,80,178,79,163,114,144,130,154,81,95,101,120,93,115,106,120,110,123,142,99,112,120,122,130,139,129,141,127,130,118,110,115,101,112,108,143,152,117,121,119,114,122,105,110,116,139,121,109,146,113,100,121,113,113,117,93,101,90,131,98,93,121,82,124,100,117,99,116,123,114,133,105,127,144,90,118,122,102,187,87,154,89,88,129,95,118,98,194,114,80,130,135,101,105,129,134,143,202,89,106,92,137,124,122,113,112,110,135,88,146,104,125,131,91,142,129,158,102,99,101,104,119,103,88,100,146,150,140,140,110,97,102,152,100,94,85,104,112,191,119,111,94,103,134,157,158,127,101,109,98,134,168,93,145,111,88,123,121,144,116,124,147,106,113,129,94,126,128,111,146,85,105,132,130,162,113,110,113,162,110,78,92,95,138,102,128,96,164,126,110,109,122,124,128,157,120,102,152,170,102,116,164,85,104,99,81,131,101,121,69,92,94,141,116,98,135,121,108,114,102,112,140,157,128,108,139,83,131,113,136,96,118,108,83,205,124,111,137,104,109,115,99,114,133,131,131,123,126,97,126,89,122,121,125,105,118,81,115,126,113,107,126,111,85,120,93,100,107,126,131,116,143,93,96,160,137,119,114,98,111,138,144,107,114,125,146,113,85,97,93,113,128,114,147,127,167,124,109,124,102,130,125,98,154,97,128,98,101,147,172,125,88,125,121,112,120,133,110,135,110,80,135,101,112,124,129,104,96,105,109,117,78,138,106,90,106,91,112,134,112,104,101,120,123,133,110,129,120,83,88,96,139,113,84,106,170,144,104,153,85,130,93,148,115,102,125,106,121,143,116,99,116,128,119,104,114,152,129,103,112,92,141,106,109,104,122,111,112,116,130,133,134,92,104,110,97,100,118,112,138,92,118,140,128,101,75,97,111,175,94,97,132,120,107,89,86,103,108,105,117,102,104,157,104,98,109,96,103,114,99,118,150,105,87,136,162,109,107,90,112,126,116,118,138,114,126],\"y0\":\" \",\"yaxis\":\"y\",\"type\":\"box\"}],                        {\"template\":{\"data\":{\"bar\":[{\"error_x\":{\"color\":\"#2a3f5f\"},\"error_y\":{\"color\":\"#2a3f5f\"},\"marker\":{\"line\":{\"color\":\"#E5ECF6\",\"width\":0.5},\"pattern\":{\"fillmode\":\"overlay\",\"size\":10,\"solidity\":0.2}},\"type\":\"bar\"}],\"barpolar\":[{\"marker\":{\"line\":{\"color\":\"#E5ECF6\",\"width\":0.5},\"pattern\":{\"fillmode\":\"overlay\",\"size\":10,\"solidity\":0.2}},\"type\":\"barpolar\"}],\"carpet\":[{\"aaxis\":{\"endlinecolor\":\"#2a3f5f\",\"gridcolor\":\"white\",\"linecolor\":\"white\",\"minorgridcolor\":\"white\",\"startlinecolor\":\"#2a3f5f\"},\"baxis\":{\"endlinecolor\":\"#2a3f5f\",\"gridcolor\":\"white\",\"linecolor\":\"white\",\"minorgridcolor\":\"white\",\"startlinecolor\":\"#2a3f5f\"},\"type\":\"carpet\"}],\"choropleth\":[{\"colorbar\":{\"outlinewidth\":0,\"ticks\":\"\"},\"type\":\"choropleth\"}],\"contour\":[{\"colorbar\":{\"outlinewidth\":0,\"ticks\":\"\"},\"colorscale\":[[0.0,\"#0d0887\"],[0.1111111111111111,\"#46039f\"],[0.2222222222222222,\"#7201a8\"],[0.3333333333333333,\"#9c179e\"],[0.4444444444444444,\"#bd3786\"],[0.5555555555555556,\"#d8576b\"],[0.6666666666666666,\"#ed7953\"],[0.7777777777777778,\"#fb9f3a\"],[0.8888888888888888,\"#fdca26\"],[1.0,\"#f0f921\"]],\"type\":\"contour\"}],\"contourcarpet\":[{\"colorbar\":{\"outlinewidth\":0,\"ticks\":\"\"},\"type\":\"contourcarpet\"}],\"heatmap\":[{\"colorbar\":{\"outlinewidth\":0,\"ticks\":\"\"},\"colorscale\":[[0.0,\"#0d0887\"],[0.1111111111111111,\"#46039f\"],[0.2222222222222222,\"#7201a8\"],[0.3333333333333333,\"#9c179e\"],[0.4444444444444444,\"#bd3786\"],[0.5555555555555556,\"#d8576b\"],[0.6666666666666666,\"#ed7953\"],[0.7777777777777778,\"#fb9f3a\"],[0.8888888888888888,\"#fdca26\"],[1.0,\"#f0f921\"]],\"type\":\"heatmap\"}],\"heatmapgl\":[{\"colorbar\":{\"outlinewidth\":0,\"ticks\":\"\"},\"colorscale\":[[0.0,\"#0d0887\"],[0.1111111111111111,\"#46039f\"],[0.2222222222222222,\"#7201a8\"],[0.3333333333333333,\"#9c179e\"],[0.4444444444444444,\"#bd3786\"],[0.5555555555555556,\"#d8576b\"],[0.6666666666666666,\"#ed7953\"],[0.7777777777777778,\"#fb9f3a\"],[0.8888888888888888,\"#fdca26\"],[1.0,\"#f0f921\"]],\"type\":\"heatmapgl\"}],\"histogram\":[{\"marker\":{\"pattern\":{\"fillmode\":\"overlay\",\"size\":10,\"solidity\":0.2}},\"type\":\"histogram\"}],\"histogram2d\":[{\"colorbar\":{\"outlinewidth\":0,\"ticks\":\"\"},\"colorscale\":[[0.0,\"#0d0887\"],[0.1111111111111111,\"#46039f\"],[0.2222222222222222,\"#7201a8\"],[0.3333333333333333,\"#9c179e\"],[0.4444444444444444,\"#bd3786\"],[0.5555555555555556,\"#d8576b\"],[0.6666666666666666,\"#ed7953\"],[0.7777777777777778,\"#fb9f3a\"],[0.8888888888888888,\"#fdca26\"],[1.0,\"#f0f921\"]],\"type\":\"histogram2d\"}],\"histogram2dcontour\":[{\"colorbar\":{\"outlinewidth\":0,\"ticks\":\"\"},\"colorscale\":[[0.0,\"#0d0887\"],[0.1111111111111111,\"#46039f\"],[0.2222222222222222,\"#7201a8\"],[0.3333333333333333,\"#9c179e\"],[0.4444444444444444,\"#bd3786\"],[0.5555555555555556,\"#d8576b\"],[0.6666666666666666,\"#ed7953\"],[0.7777777777777778,\"#fb9f3a\"],[0.8888888888888888,\"#fdca26\"],[1.0,\"#f0f921\"]],\"type\":\"histogram2dcontour\"}],\"mesh3d\":[{\"colorbar\":{\"outlinewidth\":0,\"ticks\":\"\"},\"type\":\"mesh3d\"}],\"parcoords\":[{\"line\":{\"colorbar\":{\"outlinewidth\":0,\"ticks\":\"\"}},\"type\":\"parcoords\"}],\"pie\":[{\"automargin\":true,\"type\":\"pie\"}],\"scatter\":[{\"marker\":{\"colorbar\":{\"outlinewidth\":0,\"ticks\":\"\"}},\"type\":\"scatter\"}],\"scatter3d\":[{\"line\":{\"colorbar\":{\"outlinewidth\":0,\"ticks\":\"\"}},\"marker\":{\"colorbar\":{\"outlinewidth\":0,\"ticks\":\"\"}},\"type\":\"scatter3d\"}],\"scattercarpet\":[{\"marker\":{\"colorbar\":{\"outlinewidth\":0,\"ticks\":\"\"}},\"type\":\"scattercarpet\"}],\"scattergeo\":[{\"marker\":{\"colorbar\":{\"outlinewidth\":0,\"ticks\":\"\"}},\"type\":\"scattergeo\"}],\"scattergl\":[{\"marker\":{\"colorbar\":{\"outlinewidth\":0,\"ticks\":\"\"}},\"type\":\"scattergl\"}],\"scattermapbox\":[{\"marker\":{\"colorbar\":{\"outlinewidth\":0,\"ticks\":\"\"}},\"type\":\"scattermapbox\"}],\"scatterpolar\":[{\"marker\":{\"colorbar\":{\"outlinewidth\":0,\"ticks\":\"\"}},\"type\":\"scatterpolar\"}],\"scatterpolargl\":[{\"marker\":{\"colorbar\":{\"outlinewidth\":0,\"ticks\":\"\"}},\"type\":\"scatterpolargl\"}],\"scatterternary\":[{\"marker\":{\"colorbar\":{\"outlinewidth\":0,\"ticks\":\"\"}},\"type\":\"scatterternary\"}],\"surface\":[{\"colorbar\":{\"outlinewidth\":0,\"ticks\":\"\"},\"colorscale\":[[0.0,\"#0d0887\"],[0.1111111111111111,\"#46039f\"],[0.2222222222222222,\"#7201a8\"],[0.3333333333333333,\"#9c179e\"],[0.4444444444444444,\"#bd3786\"],[0.5555555555555556,\"#d8576b\"],[0.6666666666666666,\"#ed7953\"],[0.7777777777777778,\"#fb9f3a\"],[0.8888888888888888,\"#fdca26\"],[1.0,\"#f0f921\"]],\"type\":\"surface\"}],\"table\":[{\"cells\":{\"fill\":{\"color\":\"#EBF0F8\"},\"line\":{\"color\":\"white\"}},\"header\":{\"fill\":{\"color\":\"#C8D4E3\"},\"line\":{\"color\":\"white\"}},\"type\":\"table\"}]},\"layout\":{\"annotationdefaults\":{\"arrowcolor\":\"#2a3f5f\",\"arrowhead\":0,\"arrowwidth\":1},\"autotypenumbers\":\"strict\",\"coloraxis\":{\"colorbar\":{\"outlinewidth\":0,\"ticks\":\"\"}},\"colorscale\":{\"diverging\":[[0,\"#8e0152\"],[0.1,\"#c51b7d\"],[0.2,\"#de77ae\"],[0.3,\"#f1b6da\"],[0.4,\"#fde0ef\"],[0.5,\"#f7f7f7\"],[0.6,\"#e6f5d0\"],[0.7,\"#b8e186\"],[0.8,\"#7fbc41\"],[0.9,\"#4d9221\"],[1,\"#276419\"]],\"sequential\":[[0.0,\"#0d0887\"],[0.1111111111111111,\"#46039f\"],[0.2222222222222222,\"#7201a8\"],[0.3333333333333333,\"#9c179e\"],[0.4444444444444444,\"#bd3786\"],[0.5555555555555556,\"#d8576b\"],[0.6666666666666666,\"#ed7953\"],[0.7777777777777778,\"#fb9f3a\"],[0.8888888888888888,\"#fdca26\"],[1.0,\"#f0f921\"]],\"sequentialminus\":[[0.0,\"#0d0887\"],[0.1111111111111111,\"#46039f\"],[0.2222222222222222,\"#7201a8\"],[0.3333333333333333,\"#9c179e\"],[0.4444444444444444,\"#bd3786\"],[0.5555555555555556,\"#d8576b\"],[0.6666666666666666,\"#ed7953\"],[0.7777777777777778,\"#fb9f3a\"],[0.8888888888888888,\"#fdca26\"],[1.0,\"#f0f921\"]]},\"colorway\":[\"#636efa\",\"#EF553B\",\"#00cc96\",\"#ab63fa\",\"#FFA15A\",\"#19d3f3\",\"#FF6692\",\"#B6E880\",\"#FF97FF\",\"#FECB52\"],\"font\":{\"color\":\"#2a3f5f\"},\"geo\":{\"bgcolor\":\"white\",\"lakecolor\":\"white\",\"landcolor\":\"#E5ECF6\",\"showlakes\":true,\"showland\":true,\"subunitcolor\":\"white\"},\"hoverlabel\":{\"align\":\"left\"},\"hovermode\":\"closest\",\"mapbox\":{\"style\":\"light\"},\"paper_bgcolor\":\"white\",\"plot_bgcolor\":\"#E5ECF6\",\"polar\":{\"angularaxis\":{\"gridcolor\":\"white\",\"linecolor\":\"white\",\"ticks\":\"\"},\"bgcolor\":\"#E5ECF6\",\"radialaxis\":{\"gridcolor\":\"white\",\"linecolor\":\"white\",\"ticks\":\"\"}},\"scene\":{\"xaxis\":{\"backgroundcolor\":\"#E5ECF6\",\"gridcolor\":\"white\",\"gridwidth\":2,\"linecolor\":\"white\",\"showbackground\":true,\"ticks\":\"\",\"zerolinecolor\":\"white\"},\"yaxis\":{\"backgroundcolor\":\"#E5ECF6\",\"gridcolor\":\"white\",\"gridwidth\":2,\"linecolor\":\"white\",\"showbackground\":true,\"ticks\":\"\",\"zerolinecolor\":\"white\"},\"zaxis\":{\"backgroundcolor\":\"#E5ECF6\",\"gridcolor\":\"white\",\"gridwidth\":2,\"linecolor\":\"white\",\"showbackground\":true,\"ticks\":\"\",\"zerolinecolor\":\"white\"}},\"shapedefaults\":{\"line\":{\"color\":\"#2a3f5f\"}},\"ternary\":{\"aaxis\":{\"gridcolor\":\"white\",\"linecolor\":\"white\",\"ticks\":\"\"},\"baxis\":{\"gridcolor\":\"white\",\"linecolor\":\"white\",\"ticks\":\"\"},\"bgcolor\":\"#E5ECF6\",\"caxis\":{\"gridcolor\":\"white\",\"linecolor\":\"white\",\"ticks\":\"\"}},\"title\":{\"x\":0.05},\"xaxis\":{\"automargin\":true,\"gridcolor\":\"white\",\"linecolor\":\"white\",\"ticks\":\"\",\"title\":{\"standoff\":15},\"zerolinecolor\":\"white\",\"zerolinewidth\":2},\"yaxis\":{\"automargin\":true,\"gridcolor\":\"white\",\"linecolor\":\"white\",\"ticks\":\"\",\"title\":{\"standoff\":15},\"zerolinecolor\":\"white\",\"zerolinewidth\":2}}},\"xaxis\":{\"anchor\":\"y\",\"domain\":[0.0,1.0]},\"yaxis\":{\"anchor\":\"x\",\"domain\":[0.0,1.0],\"title\":{\"text\":\"duration\"}},\"legend\":{\"tracegroupgap\":0},\"title\":{\"text\":\"Duration Distribution for all movies\"},\"boxmode\":\"group\"},                        {\"responsive\": true}                    ).then(function(){\n",
       "                            \n",
       "var gd = document.getElementById('420f9b3a-8e7c-45c8-97cb-b983993b1db7');\n",
       "var x = new MutationObserver(function (mutations, observer) {{\n",
       "        var display = window.getComputedStyle(gd).display;\n",
       "        if (!display || display === 'none') {{\n",
       "            console.log([gd, 'removed!']);\n",
       "            Plotly.purge(gd);\n",
       "            observer.disconnect();\n",
       "        }}\n",
       "}});\n",
       "\n",
       "// Listen for the removal of the full notebook cells\n",
       "var notebookContainer = gd.closest('#notebook-container');\n",
       "if (notebookContainer) {{\n",
       "    x.observe(notebookContainer, {childList: true});\n",
       "}}\n",
       "\n",
       "// Listen for the clearing of the current output cell\n",
       "var outputEl = gd.closest('.output');\n",
       "if (outputEl) {{\n",
       "    x.observe(outputEl, {childList: true});\n",
       "}}\n",
       "\n",
       "                        })                };                });            </script>        </div>"
      ]
     },
     "metadata": {},
     "output_type": "display_data"
    },
    {
     "data": {
      "application/vnd.plotly.v1+json": {
       "config": {
        "plotlyServerURL": "https://plot.ly"
       },
       "data": [
        {
         "alignmentgroup": "True",
         "hovertemplate": "genre=%{x}<br>duration=%{y}<extra></extra>",
         "legendgroup": "Crime",
         "marker": {
          "color": "#636efa"
         },
         "name": "Crime",
         "notched": false,
         "offsetgroup": "Crime",
         "orientation": "v",
         "showlegend": true,
         "type": "box",
         "x": [
          "Crime",
          "Crime",
          "Crime",
          "Crime",
          "Crime",
          "Crime",
          "Crime",
          "Crime",
          "Crime",
          "Crime",
          "Crime",
          "Crime",
          "Crime",
          "Crime",
          "Crime",
          "Crime",
          "Crime",
          "Crime",
          "Crime",
          "Crime",
          "Crime",
          "Crime",
          "Crime",
          "Crime",
          "Crime",
          "Crime",
          "Crime",
          "Crime",
          "Crime",
          "Crime",
          "Crime",
          "Crime",
          "Crime",
          "Crime",
          "Crime",
          "Crime",
          "Crime",
          "Crime",
          "Crime",
          "Crime",
          "Crime",
          "Crime",
          "Crime",
          "Crime",
          "Crime",
          "Crime",
          "Crime",
          "Crime",
          "Crime",
          "Crime",
          "Crime",
          "Crime",
          "Crime",
          "Crime",
          "Crime",
          "Crime",
          "Crime",
          "Crime",
          "Crime",
          "Crime",
          "Crime",
          "Crime",
          "Crime",
          "Crime",
          "Crime",
          "Crime",
          "Crime",
          "Crime",
          "Crime",
          "Crime",
          "Crime",
          "Crime",
          "Crime",
          "Crime",
          "Crime",
          "Crime",
          "Crime",
          "Crime",
          "Crime",
          "Crime",
          "Crime",
          "Crime",
          "Crime",
          "Crime",
          "Crime",
          "Crime",
          "Crime",
          "Crime",
          "Crime",
          "Crime",
          "Crime",
          "Crime",
          "Crime",
          "Crime",
          "Crime",
          "Crime",
          "Crime",
          "Crime",
          "Crime",
          "Crime",
          "Crime",
          "Crime",
          "Crime",
          "Crime",
          "Crime",
          "Crime",
          "Crime",
          "Crime",
          "Crime",
          "Crime",
          "Crime",
          "Crime",
          "Crime",
          "Crime",
          "Crime",
          "Crime",
          "Crime",
          "Crime",
          "Crime",
          "Crime",
          "Crime",
          "Crime",
          "Crime",
          "Crime"
         ],
         "x0": " ",
         "xaxis": "x",
         "y": [
          142,
          175,
          200,
          154,
          130,
          106,
          110,
          119,
          189,
          151,
          99,
          116,
          229,
          107,
          136,
          99,
          113,
          88,
          138,
          170,
          108,
          126,
          100,
          105,
          95,
          98,
          99,
          121,
          122,
          101,
          101,
          124,
          132,
          88,
          101,
          92,
          98,
          114,
          160,
          67,
          85,
          125,
          153,
          80,
          178,
          140,
          109,
          138,
          120,
          119,
          90,
          117,
          100,
          114,
          94,
          155,
          144,
          109,
          115,
          158,
          131,
          141,
          152,
          100,
          128,
          143,
          120,
          110,
          130,
          112,
          121,
          116,
          117,
          124,
          129,
          114,
          135,
          122,
          129,
          99,
          101,
          100,
          112,
          157,
          109,
          147,
          129,
          162,
          122,
          152,
          102,
          116,
          98,
          108,
          113,
          122,
          125,
          120,
          100,
          131,
          113,
          147,
          167,
          109,
          130,
          154,
          97,
          147,
          125,
          121,
          101,
          138,
          104,
          96,
          130,
          104,
          106,
          112,
          134,
          110,
          112,
          108,
          109,
          126
         ],
         "y0": " ",
         "yaxis": "y"
        },
        {
         "alignmentgroup": "True",
         "hovertemplate": "genre=%{x}<br>duration=%{y}<extra></extra>",
         "legendgroup": "Action",
         "marker": {
          "color": "#EF553B"
         },
         "name": "Action",
         "notched": false,
         "offsetgroup": "Action",
         "orientation": "v",
         "showlegend": true,
         "type": "box",
         "x": [
          "Action",
          "Action",
          "Action",
          "Action",
          "Action",
          "Action",
          "Action",
          "Action",
          "Action",
          "Action",
          "Action",
          "Action",
          "Action",
          "Action",
          "Action",
          "Action",
          "Action",
          "Action",
          "Action",
          "Action",
          "Action",
          "Action",
          "Action",
          "Action",
          "Action",
          "Action",
          "Action",
          "Action",
          "Action",
          "Action",
          "Action",
          "Action",
          "Action",
          "Action",
          "Action",
          "Action",
          "Action",
          "Action",
          "Action",
          "Action",
          "Action",
          "Action",
          "Action",
          "Action",
          "Action",
          "Action",
          "Action",
          "Action",
          "Action",
          "Action",
          "Action",
          "Action",
          "Action",
          "Action",
          "Action",
          "Action",
          "Action",
          "Action",
          "Action",
          "Action",
          "Action",
          "Action",
          "Action",
          "Action",
          "Action",
          "Action",
          "Action",
          "Action",
          "Action",
          "Action",
          "Action",
          "Action",
          "Action",
          "Action",
          "Action",
          "Action",
          "Action",
          "Action",
          "Action",
          "Action",
          "Action",
          "Action",
          "Action",
          "Action",
          "Action",
          "Action",
          "Action",
          "Action",
          "Action",
          "Action",
          "Action",
          "Action",
          "Action",
          "Action",
          "Action",
          "Action",
          "Action",
          "Action",
          "Action",
          "Action",
          "Action",
          "Action",
          "Action",
          "Action",
          "Action",
          "Action",
          "Action",
          "Action",
          "Action",
          "Action",
          "Action",
          "Action",
          "Action",
          "Action",
          "Action",
          "Action",
          "Action",
          "Action",
          "Action",
          "Action",
          "Action",
          "Action",
          "Action",
          "Action",
          "Action",
          "Action",
          "Action",
          "Action",
          "Action",
          "Action",
          "Action",
          "Action",
          "Action",
          "Action",
          "Action",
          "Action"
         ],
         "x0": " ",
         "xaxis": "x",
         "y": [
          152,
          148,
          124,
          121,
          136,
          169,
          115,
          165,
          155,
          137,
          137,
          134,
          177,
          110,
          126,
          140,
          127,
          107,
          162,
          170,
          131,
          132,
          123,
          140,
          143,
          129,
          121,
          111,
          106,
          115,
          115,
          131,
          115,
          150,
          99,
          107,
          145,
          137,
          127,
          102,
          112,
          137,
          119,
          144,
          197,
          133,
          113,
          111,
          99,
          128,
          119,
          129,
          162,
          126,
          120,
          108,
          119,
          93,
          130,
          107,
          132,
          128,
          104,
          112,
          102,
          136,
          139,
          150,
          132,
          80,
          178,
          130,
          99,
          110,
          108,
          143,
          117,
          114,
          146,
          113,
          131,
          117,
          102,
          154,
          98,
          130,
          92,
          158,
          104,
          140,
          191,
          103,
          134,
          168,
          93,
          145,
          144,
          126,
          111,
          162,
          102,
          110,
          128,
          102,
          116,
          101,
          94,
          141,
          135,
          121,
          112,
          118,
          108,
          205,
          131,
          126,
          105,
          126,
          116,
          119,
          111,
          107,
          102,
          112,
          129,
          134,
          139,
          113,
          115,
          119,
          114,
          122,
          104,
          118,
          136,
          138
         ],
         "y0": " ",
         "yaxis": "y"
        },
        {
         "alignmentgroup": "True",
         "hovertemplate": "genre=%{x}<br>duration=%{y}<extra></extra>",
         "legendgroup": "Drama",
         "marker": {
          "color": "#00cc96"
         },
         "name": "Drama",
         "notched": false,
         "offsetgroup": "Drama",
         "orientation": "v",
         "showlegend": true,
         "type": "box",
         "x": [
          "Drama",
          "Drama",
          "Drama",
          "Drama",
          "Drama",
          "Drama",
          "Drama",
          "Drama",
          "Drama",
          "Drama",
          "Drama",
          "Drama",
          "Drama",
          "Drama",
          "Drama",
          "Drama",
          "Drama",
          "Drama",
          "Drama",
          "Drama",
          "Drama",
          "Drama",
          "Drama",
          "Drama",
          "Drama",
          "Drama",
          "Drama",
          "Drama",
          "Drama",
          "Drama",
          "Drama",
          "Drama",
          "Drama",
          "Drama",
          "Drama",
          "Drama",
          "Drama",
          "Drama",
          "Drama",
          "Drama",
          "Drama",
          "Drama",
          "Drama",
          "Drama",
          "Drama",
          "Drama",
          "Drama",
          "Drama",
          "Drama",
          "Drama",
          "Drama",
          "Drama",
          "Drama",
          "Drama",
          "Drama",
          "Drama",
          "Drama",
          "Drama",
          "Drama",
          "Drama",
          "Drama",
          "Drama",
          "Drama",
          "Drama",
          "Drama",
          "Drama",
          "Drama",
          "Drama",
          "Drama",
          "Drama",
          "Drama",
          "Drama",
          "Drama",
          "Drama",
          "Drama",
          "Drama",
          "Drama",
          "Drama",
          "Drama",
          "Drama",
          "Drama",
          "Drama",
          "Drama",
          "Drama",
          "Drama",
          "Drama",
          "Drama",
          "Drama",
          "Drama",
          "Drama",
          "Drama",
          "Drama",
          "Drama",
          "Drama",
          "Drama",
          "Drama",
          "Drama",
          "Drama",
          "Drama",
          "Drama",
          "Drama",
          "Drama",
          "Drama",
          "Drama",
          "Drama",
          "Drama",
          "Drama",
          "Drama",
          "Drama",
          "Drama",
          "Drama",
          "Drama",
          "Drama",
          "Drama",
          "Drama",
          "Drama",
          "Drama",
          "Drama",
          "Drama",
          "Drama",
          "Drama",
          "Drama",
          "Drama",
          "Drama",
          "Drama",
          "Drama",
          "Drama",
          "Drama",
          "Drama",
          "Drama",
          "Drama",
          "Drama",
          "Drama",
          "Drama",
          "Drama",
          "Drama",
          "Drama",
          "Drama",
          "Drama",
          "Drama",
          "Drama",
          "Drama",
          "Drama",
          "Drama",
          "Drama",
          "Drama",
          "Drama",
          "Drama",
          "Drama",
          "Drama",
          "Drama",
          "Drama",
          "Drama",
          "Drama",
          "Drama",
          "Drama",
          "Drama",
          "Drama",
          "Drama",
          "Drama",
          "Drama",
          "Drama",
          "Drama",
          "Drama",
          "Drama",
          "Drama",
          "Drama",
          "Drama",
          "Drama",
          "Drama",
          "Drama",
          "Drama",
          "Drama",
          "Drama",
          "Drama",
          "Drama",
          "Drama",
          "Drama",
          "Drama",
          "Drama",
          "Drama",
          "Drama",
          "Drama",
          "Drama",
          "Drama",
          "Drama",
          "Drama",
          "Drama",
          "Drama",
          "Drama",
          "Drama",
          "Drama",
          "Drama",
          "Drama",
          "Drama",
          "Drama",
          "Drama",
          "Drama",
          "Drama",
          "Drama",
          "Drama",
          "Drama",
          "Drama",
          "Drama",
          "Drama",
          "Drama",
          "Drama",
          "Drama",
          "Drama",
          "Drama",
          "Drama",
          "Drama",
          "Drama",
          "Drama",
          "Drama",
          "Drama",
          "Drama",
          "Drama",
          "Drama",
          "Drama",
          "Drama",
          "Drama",
          "Drama",
          "Drama",
          "Drama",
          "Drama",
          "Drama",
          "Drama",
          "Drama",
          "Drama",
          "Drama",
          "Drama",
          "Drama",
          "Drama",
          "Drama",
          "Drama",
          "Drama",
          "Drama",
          "Drama",
          "Drama",
          "Drama",
          "Drama",
          "Drama",
          "Drama",
          "Drama",
          "Drama",
          "Drama",
          "Drama",
          "Drama",
          "Drama",
          "Drama",
          "Drama",
          "Drama",
          "Drama",
          "Drama",
          "Drama",
          "Drama",
          "Drama",
          "Drama",
          "Drama",
          "Drama",
          "Drama",
          "Drama",
          "Drama",
          "Drama",
          "Drama",
          "Drama",
          "Drama",
          "Drama",
          "Drama",
          "Drama",
          "Drama",
          "Drama",
          "Drama",
          "Drama",
          "Drama",
          "Drama",
          "Drama"
         ],
         "x0": " ",
         "xaxis": "x",
         "y": [
          96,
          139,
          142,
          133,
          207,
          130,
          127,
          118,
          102,
          107,
          110,
          165,
          155,
          153,
          130,
          137,
          88,
          122,
          157,
          123,
          119,
          120,
          129,
          102,
          93,
          189,
          108,
          138,
          116,
          143,
          153,
          129,
          115,
          91,
          130,
          186,
          96,
          118,
          126,
          129,
          140,
          139,
          238,
          149,
          172,
          116,
          182,
          93,
          94,
          83,
          121,
          163,
          188,
          121,
          129,
          107,
          120,
          165,
          138,
          154,
          134,
          130,
          158,
          108,
          113,
          131,
          167,
          147,
          165,
          132,
          118,
          108,
          98,
          101,
          105,
          105,
          103,
          99,
          98,
          123,
          146,
          134,
          124,
          119,
          128,
          102,
          80,
          122,
          135,
          136,
          105,
          103,
          115,
          120,
          189,
          188,
          113,
          126,
          133,
          112,
          108,
          96,
          197,
          138,
          128,
          121,
          98,
          94,
          136,
          115,
          181,
          98,
          136,
          97,
          109,
          165,
          156,
          147,
          126,
          105,
          113,
          64,
          141,
          122,
          122,
          123,
          113,
          85,
          134,
          109,
          141,
          101,
          109,
          113,
          130,
          159,
          141,
          112,
          97,
          170,
          124,
          91,
          179,
          155,
          100,
          124,
          242,
          127,
          113,
          145,
          117,
          106,
          94,
          153,
          123,
          105,
          166,
          111,
          101,
          105,
          129,
          138,
          118,
          123,
          144,
          154,
          101,
          120,
          120,
          129,
          141,
          118,
          105,
          101,
          98,
          121,
          116,
          133,
          105,
          144,
          122,
          118,
          194,
          134,
          106,
          137,
          124,
          104,
          125,
          131,
          142,
          119,
          150,
          152,
          119,
          111,
          134,
          158,
          127,
          101,
          123,
          106,
          146,
          132,
          130,
          110,
          138,
          128,
          164,
          126,
          170,
          164,
          131,
          114,
          157,
          131,
          136,
          124,
          137,
          115,
          99,
          114,
          131,
          121,
          115,
          111,
          107,
          93,
          114,
          138,
          114,
          113,
          93,
          127,
          124,
          125,
          128,
          172,
          125,
          133,
          135,
          135,
          104,
          105,
          109,
          112,
          112,
          101,
          120,
          133,
          129,
          84,
          106,
          144,
          148,
          102,
          143,
          116,
          129,
          141,
          109,
          104,
          130,
          133,
          92,
          104,
          97,
          175,
          120,
          107,
          89,
          105,
          157,
          109,
          162,
          107,
          112,
          126
         ],
         "y0": " ",
         "yaxis": "y"
        },
        {
         "alignmentgroup": "True",
         "hovertemplate": "genre=%{x}<br>duration=%{y}<extra></extra>",
         "legendgroup": "Western",
         "marker": {
          "color": "#ab63fa"
         },
         "name": "Western",
         "notched": false,
         "offsetgroup": "Western",
         "orientation": "v",
         "showlegend": true,
         "type": "box",
         "x": [
          "Western",
          "Western",
          "Western",
          "Western",
          "Western",
          "Western",
          "Western",
          "Western",
          "Western"
         ],
         "x0": " ",
         "xaxis": "x",
         "y": [
          161,
          175,
          165,
          132,
          131,
          85,
          141,
          135,
          105
         ],
         "y0": " ",
         "yaxis": "y"
        },
        {
         "alignmentgroup": "True",
         "hovertemplate": "genre=%{x}<br>duration=%{y}<extra></extra>",
         "legendgroup": "Adventure",
         "marker": {
          "color": "#FFA15A"
         },
         "name": "Adventure",
         "notched": false,
         "offsetgroup": "Adventure",
         "orientation": "v",
         "showlegend": true,
         "type": "box",
         "x": [
          "Adventure",
          "Adventure",
          "Adventure",
          "Adventure",
          "Adventure",
          "Adventure",
          "Adventure",
          "Adventure",
          "Adventure",
          "Adventure",
          "Adventure",
          "Adventure",
          "Adventure",
          "Adventure",
          "Adventure",
          "Adventure",
          "Adventure",
          "Adventure",
          "Adventure",
          "Adventure",
          "Adventure",
          "Adventure",
          "Adventure",
          "Adventure",
          "Adventure",
          "Adventure",
          "Adventure",
          "Adventure",
          "Adventure",
          "Adventure",
          "Adventure",
          "Adventure",
          "Adventure",
          "Adventure",
          "Adventure",
          "Adventure",
          "Adventure",
          "Adventure",
          "Adventure",
          "Adventure",
          "Adventure",
          "Adventure",
          "Adventure",
          "Adventure",
          "Adventure",
          "Adventure",
          "Adventure",
          "Adventure",
          "Adventure",
          "Adventure",
          "Adventure",
          "Adventure",
          "Adventure",
          "Adventure",
          "Adventure",
          "Adventure",
          "Adventure",
          "Adventure",
          "Adventure",
          "Adventure",
          "Adventure",
          "Adventure",
          "Adventure",
          "Adventure",
          "Adventure",
          "Adventure",
          "Adventure",
          "Adventure",
          "Adventure",
          "Adventure",
          "Adventure",
          "Adventure",
          "Adventure",
          "Adventure",
          "Adventure"
         ],
         "x0": " ",
         "xaxis": "x",
         "y": [
          201,
          178,
          179,
          169,
          116,
          149,
          136,
          216,
          91,
          153,
          172,
          95,
          151,
          161,
          131,
          224,
          148,
          98,
          212,
          89,
          99,
          130,
          102,
          184,
          143,
          127,
          143,
          125,
          93,
          119,
          127,
          181,
          161,
          169,
          112,
          100,
          105,
          96,
          193,
          117,
          220,
          101,
          126,
          94,
          108,
          106,
          114,
          142,
          122,
          115,
          110,
          127,
          143,
          146,
          146,
          110,
          94,
          157,
          140,
          139,
          126,
          144,
          110,
          153,
          125,
          121,
          152,
          103,
          138,
          140,
          128,
          101,
          97,
          102,
          118
         ],
         "y0": " ",
         "yaxis": "y"
        },
        {
         "alignmentgroup": "True",
         "hovertemplate": "genre=%{x}<br>duration=%{y}<extra></extra>",
         "legendgroup": "Biography",
         "marker": {
          "color": "#19d3f3"
         },
         "name": "Biography",
         "notched": false,
         "offsetgroup": "Biography",
         "orientation": "v",
         "showlegend": true,
         "type": "box",
         "x": [
          "Biography",
          "Biography",
          "Biography",
          "Biography",
          "Biography",
          "Biography",
          "Biography",
          "Biography",
          "Biography",
          "Biography",
          "Biography",
          "Biography",
          "Biography",
          "Biography",
          "Biography",
          "Biography",
          "Biography",
          "Biography",
          "Biography",
          "Biography",
          "Biography",
          "Biography",
          "Biography",
          "Biography",
          "Biography",
          "Biography",
          "Biography",
          "Biography",
          "Biography",
          "Biography",
          "Biography",
          "Biography",
          "Biography",
          "Biography",
          "Biography",
          "Biography",
          "Biography",
          "Biography",
          "Biography",
          "Biography",
          "Biography",
          "Biography",
          "Biography",
          "Biography",
          "Biography",
          "Biography",
          "Biography",
          "Biography",
          "Biography",
          "Biography",
          "Biography",
          "Biography",
          "Biography",
          "Biography",
          "Biography",
          "Biography",
          "Biography",
          "Biography",
          "Biography",
          "Biography",
          "Biography",
          "Biography",
          "Biography",
          "Biography",
          "Biography",
          "Biography",
          "Biography",
          "Biography",
          "Biography",
          "Biography",
          "Biography",
          "Biography",
          "Biography",
          "Biography",
          "Biography",
          "Biography",
          "Biography"
         ],
         "x0": " ",
         "xaxis": "x",
         "y": [
          195,
          146,
          112,
          150,
          160,
          129,
          156,
          180,
          124,
          178,
          135,
          110,
          133,
          134,
          114,
          191,
          125,
          151,
          118,
          112,
          172,
          112,
          141,
          144,
          117,
          174,
          117,
          111,
          127,
          157,
          136,
          116,
          134,
          103,
          127,
          157,
          108,
          163,
          106,
          123,
          120,
          127,
          130,
          152,
          122,
          121,
          113,
          123,
          105,
          129,
          202,
          140,
          98,
          121,
          128,
          124,
          128,
          96,
          133,
          126,
          118,
          143,
          160,
          98,
          125,
          146,
          128,
          114,
          124,
          101,
          123,
          170,
          85,
          99,
          118,
          114,
          150
         ],
         "y0": " ",
         "yaxis": "y"
        },
        {
         "alignmentgroup": "True",
         "hovertemplate": "genre=%{x}<br>duration=%{y}<extra></extra>",
         "legendgroup": "Comedy",
         "marker": {
          "color": "#FF6692"
         },
         "name": "Comedy",
         "notched": false,
         "offsetgroup": "Comedy",
         "orientation": "v",
         "showlegend": true,
         "type": "box",
         "x": [
          "Comedy",
          "Comedy",
          "Comedy",
          "Comedy",
          "Comedy",
          "Comedy",
          "Comedy",
          "Comedy",
          "Comedy",
          "Comedy",
          "Comedy",
          "Comedy",
          "Comedy",
          "Comedy",
          "Comedy",
          "Comedy",
          "Comedy",
          "Comedy",
          "Comedy",
          "Comedy",
          "Comedy",
          "Comedy",
          "Comedy",
          "Comedy",
          "Comedy",
          "Comedy",
          "Comedy",
          "Comedy",
          "Comedy",
          "Comedy",
          "Comedy",
          "Comedy",
          "Comedy",
          "Comedy",
          "Comedy",
          "Comedy",
          "Comedy",
          "Comedy",
          "Comedy",
          "Comedy",
          "Comedy",
          "Comedy",
          "Comedy",
          "Comedy",
          "Comedy",
          "Comedy",
          "Comedy",
          "Comedy",
          "Comedy",
          "Comedy",
          "Comedy",
          "Comedy",
          "Comedy",
          "Comedy",
          "Comedy",
          "Comedy",
          "Comedy",
          "Comedy",
          "Comedy",
          "Comedy",
          "Comedy",
          "Comedy",
          "Comedy",
          "Comedy",
          "Comedy",
          "Comedy",
          "Comedy",
          "Comedy",
          "Comedy",
          "Comedy",
          "Comedy",
          "Comedy",
          "Comedy",
          "Comedy",
          "Comedy",
          "Comedy",
          "Comedy",
          "Comedy",
          "Comedy",
          "Comedy",
          "Comedy",
          "Comedy",
          "Comedy",
          "Comedy",
          "Comedy",
          "Comedy",
          "Comedy",
          "Comedy",
          "Comedy",
          "Comedy",
          "Comedy",
          "Comedy",
          "Comedy",
          "Comedy",
          "Comedy",
          "Comedy",
          "Comedy",
          "Comedy",
          "Comedy",
          "Comedy",
          "Comedy",
          "Comedy",
          "Comedy",
          "Comedy",
          "Comedy",
          "Comedy",
          "Comedy",
          "Comedy",
          "Comedy",
          "Comedy",
          "Comedy",
          "Comedy",
          "Comedy",
          "Comedy",
          "Comedy",
          "Comedy",
          "Comedy",
          "Comedy",
          "Comedy",
          "Comedy",
          "Comedy",
          "Comedy",
          "Comedy",
          "Comedy",
          "Comedy",
          "Comedy",
          "Comedy",
          "Comedy",
          "Comedy",
          "Comedy",
          "Comedy",
          "Comedy",
          "Comedy",
          "Comedy",
          "Comedy",
          "Comedy",
          "Comedy",
          "Comedy",
          "Comedy",
          "Comedy",
          "Comedy",
          "Comedy",
          "Comedy",
          "Comedy",
          "Comedy",
          "Comedy",
          "Comedy",
          "Comedy",
          "Comedy",
          "Comedy",
          "Comedy",
          "Comedy",
          "Comedy",
          "Comedy",
          "Comedy",
          "Comedy"
         ],
         "x0": " ",
         "xaxis": "x",
         "y": [
          116,
          87,
          87,
          95,
          125,
          170,
          156,
          122,
          68,
          181,
          103,
          129,
          125,
          102,
          183,
          120,
          105,
          107,
          117,
          122,
          123,
          167,
          127,
          94,
          93,
          174,
          120,
          118,
          118,
          112,
          104,
          94,
          101,
          106,
          91,
          102,
          92,
          68,
          106,
          130,
          82,
          104,
          113,
          96,
          99,
          100,
          96,
          123,
          103,
          107,
          119,
          97,
          120,
          96,
          121,
          103,
          107,
          92,
          94,
          108,
          122,
          89,
          107,
          84,
          105,
          100,
          88,
          129,
          79,
          95,
          93,
          115,
          112,
          139,
          101,
          139,
          109,
          113,
          121,
          93,
          90,
          93,
          82,
          100,
          99,
          114,
          118,
          187,
          87,
          89,
          88,
          80,
          89,
          110,
          135,
          88,
          91,
          102,
          97,
          94,
          85,
          116,
          124,
          113,
          113,
          110,
          92,
          95,
          96,
          109,
          85,
          99,
          81,
          121,
          108,
          102,
          104,
          109,
          97,
          89,
          126,
          113,
          107,
          93,
          96,
          137,
          97,
          98,
          110,
          124,
          90,
          106,
          110,
          120,
          104,
          106,
          112,
          111,
          116,
          97,
          100,
          92,
          118,
          111,
          94,
          132,
          86,
          103,
          117,
          104,
          98,
          96,
          103,
          99,
          90,
          116
         ],
         "y0": " ",
         "yaxis": "y"
        },
        {
         "alignmentgroup": "True",
         "hovertemplate": "genre=%{x}<br>duration=%{y}<extra></extra>",
         "legendgroup": "Animation",
         "marker": {
          "color": "#B6E880"
         },
         "name": "Animation",
         "notched": false,
         "offsetgroup": "Animation",
         "orientation": "v",
         "showlegend": true,
         "type": "box",
         "x": [
          "Animation",
          "Animation",
          "Animation",
          "Animation",
          "Animation",
          "Animation",
          "Animation",
          "Animation",
          "Animation",
          "Animation",
          "Animation",
          "Animation",
          "Animation",
          "Animation",
          "Animation",
          "Animation",
          "Animation",
          "Animation",
          "Animation",
          "Animation",
          "Animation",
          "Animation",
          "Animation",
          "Animation",
          "Animation",
          "Animation",
          "Animation",
          "Animation",
          "Animation",
          "Animation",
          "Animation",
          "Animation",
          "Animation",
          "Animation",
          "Animation",
          "Animation",
          "Animation",
          "Animation",
          "Animation",
          "Animation",
          "Animation",
          "Animation",
          "Animation",
          "Animation",
          "Animation",
          "Animation",
          "Animation",
          "Animation",
          "Animation",
          "Animation",
          "Animation",
          "Animation",
          "Animation",
          "Animation",
          "Animation",
          "Animation",
          "Animation",
          "Animation",
          "Animation",
          "Animation",
          "Animation",
          "Animation"
         ],
         "x0": " ",
         "xaxis": "x",
         "y": [
          125,
          89,
          89,
          98,
          134,
          103,
          81,
          96,
          86,
          119,
          98,
          92,
          100,
          117,
          124,
          124,
          92,
          84,
          76,
          96,
          95,
          111,
          83,
          90,
          115,
          102,
          86,
          102,
          92,
          115,
          90,
          98,
          103,
          100,
          126,
          78,
          100,
          125,
          94,
          87,
          101,
          81,
          90,
          95,
          101,
          88,
          100,
          102,
          104,
          94,
          78,
          92,
          83,
          83,
          81,
          85,
          98,
          88,
          80,
          88,
          75,
          87
         ],
         "y0": " ",
         "yaxis": "y"
        },
        {
         "alignmentgroup": "True",
         "hovertemplate": "genre=%{x}<br>duration=%{y}<extra></extra>",
         "legendgroup": "Mystery",
         "marker": {
          "color": "#FF97FF"
         },
         "name": "Mystery",
         "notched": false,
         "offsetgroup": "Mystery",
         "orientation": "v",
         "showlegend": true,
         "type": "box",
         "x": [
          "Mystery",
          "Mystery",
          "Mystery",
          "Mystery",
          "Mystery",
          "Mystery",
          "Mystery",
          "Mystery",
          "Mystery",
          "Mystery",
          "Mystery",
          "Mystery",
          "Mystery",
          "Mystery",
          "Mystery",
          "Mystery"
         ],
         "x0": " ",
         "xaxis": "x",
         "y": [
          112,
          113,
          128,
          160,
          130,
          138,
          138,
          129,
          126,
          86,
          100,
          69,
          117,
          106,
          93,
          105
         ],
         "y0": " ",
         "yaxis": "y"
        },
        {
         "alignmentgroup": "True",
         "hovertemplate": "genre=%{x}<br>duration=%{y}<extra></extra>",
         "legendgroup": "Horror",
         "marker": {
          "color": "#FECB52"
         },
         "name": "Horror",
         "notched": false,
         "offsetgroup": "Horror",
         "orientation": "v",
         "showlegend": true,
         "type": "box",
         "x": [
          "Horror",
          "Horror",
          "Horror",
          "Horror",
          "Horror",
          "Horror",
          "Horror",
          "Horror",
          "Horror",
          "Horror",
          "Horror",
          "Horror",
          "Horror",
          "Horror",
          "Horror",
          "Horror",
          "Horror",
          "Horror",
          "Horror",
          "Horror",
          "Horror",
          "Horror",
          "Horror",
          "Horror",
          "Horror",
          "Horror",
          "Horror",
          "Horror",
          "Horror"
         ],
         "x0": " ",
         "xaxis": "x",
         "y": [
          109,
          117,
          146,
          116,
          109,
          127,
          122,
          81,
          70,
          96,
          75,
          80,
          119,
          103,
          88,
          85,
          113,
          104,
          111,
          123,
          85,
          112,
          96,
          78,
          91,
          83,
          128,
          92,
          114
         ],
         "y0": " ",
         "yaxis": "y"
        },
        {
         "alignmentgroup": "True",
         "hovertemplate": "genre=%{x}<br>duration=%{y}<extra></extra>",
         "legendgroup": "Film-Noir",
         "marker": {
          "color": "#636efa"
         },
         "name": "Film-Noir",
         "notched": false,
         "offsetgroup": "Film-Noir",
         "orientation": "v",
         "showlegend": true,
         "type": "box",
         "x": [
          "Film-Noir",
          "Film-Noir",
          "Film-Noir"
         ],
         "x0": " ",
         "xaxis": "x",
         "y": [
          93,
          88,
          111
         ],
         "y0": " ",
         "yaxis": "y"
        },
        {
         "alignmentgroup": "True",
         "hovertemplate": "genre=%{x}<br>duration=%{y}<extra></extra>",
         "legendgroup": "Sci-Fi",
         "marker": {
          "color": "#EF553B"
         },
         "name": "Sci-Fi",
         "notched": false,
         "offsetgroup": "Sci-Fi",
         "orientation": "v",
         "showlegend": true,
         "type": "box",
         "x": [
          "Sci-Fi",
          "Sci-Fi",
          "Sci-Fi",
          "Sci-Fi",
          "Sci-Fi"
         ],
         "x0": " ",
         "xaxis": "x",
         "y": [
          117,
          132,
          91,
          92,
          113
         ],
         "y0": " ",
         "yaxis": "y"
        },
        {
         "alignmentgroup": "True",
         "hovertemplate": "genre=%{x}<br>duration=%{y}<extra></extra>",
         "legendgroup": "History",
         "marker": {
          "color": "#00cc96"
         },
         "name": "History",
         "notched": false,
         "offsetgroup": "History",
         "orientation": "v",
         "showlegend": true,
         "type": "box",
         "x": [
          "History"
         ],
         "x0": " ",
         "xaxis": "x",
         "y": [
          66
         ],
         "y0": " ",
         "yaxis": "y"
        },
        {
         "alignmentgroup": "True",
         "hovertemplate": "genre=%{x}<br>duration=%{y}<extra></extra>",
         "legendgroup": "Thriller",
         "marker": {
          "color": "#ab63fa"
         },
         "name": "Thriller",
         "notched": false,
         "offsetgroup": "Thriller",
         "orientation": "v",
         "showlegend": true,
         "type": "box",
         "x": [
          "Thriller",
          "Thriller",
          "Thriller",
          "Thriller",
          "Thriller"
         ],
         "x0": " ",
         "xaxis": "x",
         "y": [
          108,
          107,
          120,
          120,
          116
         ],
         "y0": " ",
         "yaxis": "y"
        },
        {
         "alignmentgroup": "True",
         "hovertemplate": "genre=%{x}<br>duration=%{y}<extra></extra>",
         "legendgroup": "Family",
         "marker": {
          "color": "#FFA15A"
         },
         "name": "Family",
         "notched": false,
         "offsetgroup": "Family",
         "orientation": "v",
         "showlegend": true,
         "type": "box",
         "x": [
          "Family",
          "Family"
         ],
         "x0": " ",
         "xaxis": "x",
         "y": [
          115,
          100
         ],
         "y0": " ",
         "yaxis": "y"
        },
        {
         "alignmentgroup": "True",
         "hovertemplate": "genre=%{x}<br>duration=%{y}<extra></extra>",
         "legendgroup": "Fantasy",
         "marker": {
          "color": "#19d3f3"
         },
         "name": "Fantasy",
         "notched": false,
         "offsetgroup": "Fantasy",
         "orientation": "v",
         "showlegend": true,
         "type": "box",
         "x": [
          "Fantasy"
         ],
         "x0": " ",
         "xaxis": "x",
         "y": [
          112
         ],
         "y0": " ",
         "yaxis": "y"
        }
       ],
       "layout": {
        "boxmode": "overlay",
        "legend": {
         "title": {
          "text": "genre"
         },
         "tracegroupgap": 0
        },
        "template": {
         "data": {
          "bar": [
           {
            "error_x": {
             "color": "#2a3f5f"
            },
            "error_y": {
             "color": "#2a3f5f"
            },
            "marker": {
             "line": {
              "color": "#E5ECF6",
              "width": 0.5
             },
             "pattern": {
              "fillmode": "overlay",
              "size": 10,
              "solidity": 0.2
             }
            },
            "type": "bar"
           }
          ],
          "barpolar": [
           {
            "marker": {
             "line": {
              "color": "#E5ECF6",
              "width": 0.5
             },
             "pattern": {
              "fillmode": "overlay",
              "size": 10,
              "solidity": 0.2
             }
            },
            "type": "barpolar"
           }
          ],
          "carpet": [
           {
            "aaxis": {
             "endlinecolor": "#2a3f5f",
             "gridcolor": "white",
             "linecolor": "white",
             "minorgridcolor": "white",
             "startlinecolor": "#2a3f5f"
            },
            "baxis": {
             "endlinecolor": "#2a3f5f",
             "gridcolor": "white",
             "linecolor": "white",
             "minorgridcolor": "white",
             "startlinecolor": "#2a3f5f"
            },
            "type": "carpet"
           }
          ],
          "choropleth": [
           {
            "colorbar": {
             "outlinewidth": 0,
             "ticks": ""
            },
            "type": "choropleth"
           }
          ],
          "contour": [
           {
            "colorbar": {
             "outlinewidth": 0,
             "ticks": ""
            },
            "colorscale": [
             [
              0,
              "#0d0887"
             ],
             [
              0.1111111111111111,
              "#46039f"
             ],
             [
              0.2222222222222222,
              "#7201a8"
             ],
             [
              0.3333333333333333,
              "#9c179e"
             ],
             [
              0.4444444444444444,
              "#bd3786"
             ],
             [
              0.5555555555555556,
              "#d8576b"
             ],
             [
              0.6666666666666666,
              "#ed7953"
             ],
             [
              0.7777777777777778,
              "#fb9f3a"
             ],
             [
              0.8888888888888888,
              "#fdca26"
             ],
             [
              1,
              "#f0f921"
             ]
            ],
            "type": "contour"
           }
          ],
          "contourcarpet": [
           {
            "colorbar": {
             "outlinewidth": 0,
             "ticks": ""
            },
            "type": "contourcarpet"
           }
          ],
          "heatmap": [
           {
            "colorbar": {
             "outlinewidth": 0,
             "ticks": ""
            },
            "colorscale": [
             [
              0,
              "#0d0887"
             ],
             [
              0.1111111111111111,
              "#46039f"
             ],
             [
              0.2222222222222222,
              "#7201a8"
             ],
             [
              0.3333333333333333,
              "#9c179e"
             ],
             [
              0.4444444444444444,
              "#bd3786"
             ],
             [
              0.5555555555555556,
              "#d8576b"
             ],
             [
              0.6666666666666666,
              "#ed7953"
             ],
             [
              0.7777777777777778,
              "#fb9f3a"
             ],
             [
              0.8888888888888888,
              "#fdca26"
             ],
             [
              1,
              "#f0f921"
             ]
            ],
            "type": "heatmap"
           }
          ],
          "heatmapgl": [
           {
            "colorbar": {
             "outlinewidth": 0,
             "ticks": ""
            },
            "colorscale": [
             [
              0,
              "#0d0887"
             ],
             [
              0.1111111111111111,
              "#46039f"
             ],
             [
              0.2222222222222222,
              "#7201a8"
             ],
             [
              0.3333333333333333,
              "#9c179e"
             ],
             [
              0.4444444444444444,
              "#bd3786"
             ],
             [
              0.5555555555555556,
              "#d8576b"
             ],
             [
              0.6666666666666666,
              "#ed7953"
             ],
             [
              0.7777777777777778,
              "#fb9f3a"
             ],
             [
              0.8888888888888888,
              "#fdca26"
             ],
             [
              1,
              "#f0f921"
             ]
            ],
            "type": "heatmapgl"
           }
          ],
          "histogram": [
           {
            "marker": {
             "pattern": {
              "fillmode": "overlay",
              "size": 10,
              "solidity": 0.2
             }
            },
            "type": "histogram"
           }
          ],
          "histogram2d": [
           {
            "colorbar": {
             "outlinewidth": 0,
             "ticks": ""
            },
            "colorscale": [
             [
              0,
              "#0d0887"
             ],
             [
              0.1111111111111111,
              "#46039f"
             ],
             [
              0.2222222222222222,
              "#7201a8"
             ],
             [
              0.3333333333333333,
              "#9c179e"
             ],
             [
              0.4444444444444444,
              "#bd3786"
             ],
             [
              0.5555555555555556,
              "#d8576b"
             ],
             [
              0.6666666666666666,
              "#ed7953"
             ],
             [
              0.7777777777777778,
              "#fb9f3a"
             ],
             [
              0.8888888888888888,
              "#fdca26"
             ],
             [
              1,
              "#f0f921"
             ]
            ],
            "type": "histogram2d"
           }
          ],
          "histogram2dcontour": [
           {
            "colorbar": {
             "outlinewidth": 0,
             "ticks": ""
            },
            "colorscale": [
             [
              0,
              "#0d0887"
             ],
             [
              0.1111111111111111,
              "#46039f"
             ],
             [
              0.2222222222222222,
              "#7201a8"
             ],
             [
              0.3333333333333333,
              "#9c179e"
             ],
             [
              0.4444444444444444,
              "#bd3786"
             ],
             [
              0.5555555555555556,
              "#d8576b"
             ],
             [
              0.6666666666666666,
              "#ed7953"
             ],
             [
              0.7777777777777778,
              "#fb9f3a"
             ],
             [
              0.8888888888888888,
              "#fdca26"
             ],
             [
              1,
              "#f0f921"
             ]
            ],
            "type": "histogram2dcontour"
           }
          ],
          "mesh3d": [
           {
            "colorbar": {
             "outlinewidth": 0,
             "ticks": ""
            },
            "type": "mesh3d"
           }
          ],
          "parcoords": [
           {
            "line": {
             "colorbar": {
              "outlinewidth": 0,
              "ticks": ""
             }
            },
            "type": "parcoords"
           }
          ],
          "pie": [
           {
            "automargin": true,
            "type": "pie"
           }
          ],
          "scatter": [
           {
            "marker": {
             "colorbar": {
              "outlinewidth": 0,
              "ticks": ""
             }
            },
            "type": "scatter"
           }
          ],
          "scatter3d": [
           {
            "line": {
             "colorbar": {
              "outlinewidth": 0,
              "ticks": ""
             }
            },
            "marker": {
             "colorbar": {
              "outlinewidth": 0,
              "ticks": ""
             }
            },
            "type": "scatter3d"
           }
          ],
          "scattercarpet": [
           {
            "marker": {
             "colorbar": {
              "outlinewidth": 0,
              "ticks": ""
             }
            },
            "type": "scattercarpet"
           }
          ],
          "scattergeo": [
           {
            "marker": {
             "colorbar": {
              "outlinewidth": 0,
              "ticks": ""
             }
            },
            "type": "scattergeo"
           }
          ],
          "scattergl": [
           {
            "marker": {
             "colorbar": {
              "outlinewidth": 0,
              "ticks": ""
             }
            },
            "type": "scattergl"
           }
          ],
          "scattermapbox": [
           {
            "marker": {
             "colorbar": {
              "outlinewidth": 0,
              "ticks": ""
             }
            },
            "type": "scattermapbox"
           }
          ],
          "scatterpolar": [
           {
            "marker": {
             "colorbar": {
              "outlinewidth": 0,
              "ticks": ""
             }
            },
            "type": "scatterpolar"
           }
          ],
          "scatterpolargl": [
           {
            "marker": {
             "colorbar": {
              "outlinewidth": 0,
              "ticks": ""
             }
            },
            "type": "scatterpolargl"
           }
          ],
          "scatterternary": [
           {
            "marker": {
             "colorbar": {
              "outlinewidth": 0,
              "ticks": ""
             }
            },
            "type": "scatterternary"
           }
          ],
          "surface": [
           {
            "colorbar": {
             "outlinewidth": 0,
             "ticks": ""
            },
            "colorscale": [
             [
              0,
              "#0d0887"
             ],
             [
              0.1111111111111111,
              "#46039f"
             ],
             [
              0.2222222222222222,
              "#7201a8"
             ],
             [
              0.3333333333333333,
              "#9c179e"
             ],
             [
              0.4444444444444444,
              "#bd3786"
             ],
             [
              0.5555555555555556,
              "#d8576b"
             ],
             [
              0.6666666666666666,
              "#ed7953"
             ],
             [
              0.7777777777777778,
              "#fb9f3a"
             ],
             [
              0.8888888888888888,
              "#fdca26"
             ],
             [
              1,
              "#f0f921"
             ]
            ],
            "type": "surface"
           }
          ],
          "table": [
           {
            "cells": {
             "fill": {
              "color": "#EBF0F8"
             },
             "line": {
              "color": "white"
             }
            },
            "header": {
             "fill": {
              "color": "#C8D4E3"
             },
             "line": {
              "color": "white"
             }
            },
            "type": "table"
           }
          ]
         },
         "layout": {
          "annotationdefaults": {
           "arrowcolor": "#2a3f5f",
           "arrowhead": 0,
           "arrowwidth": 1
          },
          "autotypenumbers": "strict",
          "coloraxis": {
           "colorbar": {
            "outlinewidth": 0,
            "ticks": ""
           }
          },
          "colorscale": {
           "diverging": [
            [
             0,
             "#8e0152"
            ],
            [
             0.1,
             "#c51b7d"
            ],
            [
             0.2,
             "#de77ae"
            ],
            [
             0.3,
             "#f1b6da"
            ],
            [
             0.4,
             "#fde0ef"
            ],
            [
             0.5,
             "#f7f7f7"
            ],
            [
             0.6,
             "#e6f5d0"
            ],
            [
             0.7,
             "#b8e186"
            ],
            [
             0.8,
             "#7fbc41"
            ],
            [
             0.9,
             "#4d9221"
            ],
            [
             1,
             "#276419"
            ]
           ],
           "sequential": [
            [
             0,
             "#0d0887"
            ],
            [
             0.1111111111111111,
             "#46039f"
            ],
            [
             0.2222222222222222,
             "#7201a8"
            ],
            [
             0.3333333333333333,
             "#9c179e"
            ],
            [
             0.4444444444444444,
             "#bd3786"
            ],
            [
             0.5555555555555556,
             "#d8576b"
            ],
            [
             0.6666666666666666,
             "#ed7953"
            ],
            [
             0.7777777777777778,
             "#fb9f3a"
            ],
            [
             0.8888888888888888,
             "#fdca26"
            ],
            [
             1,
             "#f0f921"
            ]
           ],
           "sequentialminus": [
            [
             0,
             "#0d0887"
            ],
            [
             0.1111111111111111,
             "#46039f"
            ],
            [
             0.2222222222222222,
             "#7201a8"
            ],
            [
             0.3333333333333333,
             "#9c179e"
            ],
            [
             0.4444444444444444,
             "#bd3786"
            ],
            [
             0.5555555555555556,
             "#d8576b"
            ],
            [
             0.6666666666666666,
             "#ed7953"
            ],
            [
             0.7777777777777778,
             "#fb9f3a"
            ],
            [
             0.8888888888888888,
             "#fdca26"
            ],
            [
             1,
             "#f0f921"
            ]
           ]
          },
          "colorway": [
           "#636efa",
           "#EF553B",
           "#00cc96",
           "#ab63fa",
           "#FFA15A",
           "#19d3f3",
           "#FF6692",
           "#B6E880",
           "#FF97FF",
           "#FECB52"
          ],
          "font": {
           "color": "#2a3f5f"
          },
          "geo": {
           "bgcolor": "white",
           "lakecolor": "white",
           "landcolor": "#E5ECF6",
           "showlakes": true,
           "showland": true,
           "subunitcolor": "white"
          },
          "hoverlabel": {
           "align": "left"
          },
          "hovermode": "closest",
          "mapbox": {
           "style": "light"
          },
          "paper_bgcolor": "white",
          "plot_bgcolor": "#E5ECF6",
          "polar": {
           "angularaxis": {
            "gridcolor": "white",
            "linecolor": "white",
            "ticks": ""
           },
           "bgcolor": "#E5ECF6",
           "radialaxis": {
            "gridcolor": "white",
            "linecolor": "white",
            "ticks": ""
           }
          },
          "scene": {
           "xaxis": {
            "backgroundcolor": "#E5ECF6",
            "gridcolor": "white",
            "gridwidth": 2,
            "linecolor": "white",
            "showbackground": true,
            "ticks": "",
            "zerolinecolor": "white"
           },
           "yaxis": {
            "backgroundcolor": "#E5ECF6",
            "gridcolor": "white",
            "gridwidth": 2,
            "linecolor": "white",
            "showbackground": true,
            "ticks": "",
            "zerolinecolor": "white"
           },
           "zaxis": {
            "backgroundcolor": "#E5ECF6",
            "gridcolor": "white",
            "gridwidth": 2,
            "linecolor": "white",
            "showbackground": true,
            "ticks": "",
            "zerolinecolor": "white"
           }
          },
          "shapedefaults": {
           "line": {
            "color": "#2a3f5f"
           }
          },
          "ternary": {
           "aaxis": {
            "gridcolor": "white",
            "linecolor": "white",
            "ticks": ""
           },
           "baxis": {
            "gridcolor": "white",
            "linecolor": "white",
            "ticks": ""
           },
           "bgcolor": "#E5ECF6",
           "caxis": {
            "gridcolor": "white",
            "linecolor": "white",
            "ticks": ""
           }
          },
          "title": {
           "x": 0.05
          },
          "xaxis": {
           "automargin": true,
           "gridcolor": "white",
           "linecolor": "white",
           "ticks": "",
           "title": {
            "standoff": 15
           },
           "zerolinecolor": "white",
           "zerolinewidth": 2
          },
          "yaxis": {
           "automargin": true,
           "gridcolor": "white",
           "linecolor": "white",
           "ticks": "",
           "title": {
            "standoff": 15
           },
           "zerolinecolor": "white",
           "zerolinewidth": 2
          }
         }
        },
        "title": {
         "text": "Duration Distribution by Genre"
        },
        "xaxis": {
         "anchor": "y",
         "categoryarray": [
          "Crime",
          "Action",
          "Drama",
          "Western",
          "Adventure",
          "Biography",
          "Comedy",
          "Animation",
          "Mystery",
          "Horror",
          "Film-Noir",
          "Sci-Fi",
          "History",
          "Thriller",
          "Family",
          "Fantasy"
         ],
         "categoryorder": "array",
         "domain": [
          0,
          1
         ],
         "title": {
          "text": "genre"
         }
        },
        "yaxis": {
         "anchor": "x",
         "domain": [
          0,
          1
         ],
         "title": {
          "text": "duration"
         }
        }
       }
      },
      "text/html": [
       "<div>                            <div id=\"417781ef-51d8-4f86-a175-e29525c5af4b\" class=\"plotly-graph-div\" style=\"height:525px; width:100%;\"></div>            <script type=\"text/javascript\">                require([\"plotly\"], function(Plotly) {                    window.PLOTLYENV=window.PLOTLYENV || {};                                    if (document.getElementById(\"417781ef-51d8-4f86-a175-e29525c5af4b\")) {                    Plotly.newPlot(                        \"417781ef-51d8-4f86-a175-e29525c5af4b\",                        [{\"alignmentgroup\":\"True\",\"hovertemplate\":\"genre=%{x}<br>duration=%{y}<extra></extra>\",\"legendgroup\":\"Crime\",\"marker\":{\"color\":\"#636efa\"},\"name\":\"Crime\",\"notched\":false,\"offsetgroup\":\"Crime\",\"orientation\":\"v\",\"showlegend\":true,\"x\":[\"Crime\",\"Crime\",\"Crime\",\"Crime\",\"Crime\",\"Crime\",\"Crime\",\"Crime\",\"Crime\",\"Crime\",\"Crime\",\"Crime\",\"Crime\",\"Crime\",\"Crime\",\"Crime\",\"Crime\",\"Crime\",\"Crime\",\"Crime\",\"Crime\",\"Crime\",\"Crime\",\"Crime\",\"Crime\",\"Crime\",\"Crime\",\"Crime\",\"Crime\",\"Crime\",\"Crime\",\"Crime\",\"Crime\",\"Crime\",\"Crime\",\"Crime\",\"Crime\",\"Crime\",\"Crime\",\"Crime\",\"Crime\",\"Crime\",\"Crime\",\"Crime\",\"Crime\",\"Crime\",\"Crime\",\"Crime\",\"Crime\",\"Crime\",\"Crime\",\"Crime\",\"Crime\",\"Crime\",\"Crime\",\"Crime\",\"Crime\",\"Crime\",\"Crime\",\"Crime\",\"Crime\",\"Crime\",\"Crime\",\"Crime\",\"Crime\",\"Crime\",\"Crime\",\"Crime\",\"Crime\",\"Crime\",\"Crime\",\"Crime\",\"Crime\",\"Crime\",\"Crime\",\"Crime\",\"Crime\",\"Crime\",\"Crime\",\"Crime\",\"Crime\",\"Crime\",\"Crime\",\"Crime\",\"Crime\",\"Crime\",\"Crime\",\"Crime\",\"Crime\",\"Crime\",\"Crime\",\"Crime\",\"Crime\",\"Crime\",\"Crime\",\"Crime\",\"Crime\",\"Crime\",\"Crime\",\"Crime\",\"Crime\",\"Crime\",\"Crime\",\"Crime\",\"Crime\",\"Crime\",\"Crime\",\"Crime\",\"Crime\",\"Crime\",\"Crime\",\"Crime\",\"Crime\",\"Crime\",\"Crime\",\"Crime\",\"Crime\",\"Crime\",\"Crime\",\"Crime\",\"Crime\",\"Crime\",\"Crime\",\"Crime\"],\"x0\":\" \",\"xaxis\":\"x\",\"y\":[142,175,200,154,130,106,110,119,189,151,99,116,229,107,136,99,113,88,138,170,108,126,100,105,95,98,99,121,122,101,101,124,132,88,101,92,98,114,160,67,85,125,153,80,178,140,109,138,120,119,90,117,100,114,94,155,144,109,115,158,131,141,152,100,128,143,120,110,130,112,121,116,117,124,129,114,135,122,129,99,101,100,112,157,109,147,129,162,122,152,102,116,98,108,113,122,125,120,100,131,113,147,167,109,130,154,97,147,125,121,101,138,104,96,130,104,106,112,134,110,112,108,109,126],\"y0\":\" \",\"yaxis\":\"y\",\"type\":\"box\"},{\"alignmentgroup\":\"True\",\"hovertemplate\":\"genre=%{x}<br>duration=%{y}<extra></extra>\",\"legendgroup\":\"Action\",\"marker\":{\"color\":\"#EF553B\"},\"name\":\"Action\",\"notched\":false,\"offsetgroup\":\"Action\",\"orientation\":\"v\",\"showlegend\":true,\"x\":[\"Action\",\"Action\",\"Action\",\"Action\",\"Action\",\"Action\",\"Action\",\"Action\",\"Action\",\"Action\",\"Action\",\"Action\",\"Action\",\"Action\",\"Action\",\"Action\",\"Action\",\"Action\",\"Action\",\"Action\",\"Action\",\"Action\",\"Action\",\"Action\",\"Action\",\"Action\",\"Action\",\"Action\",\"Action\",\"Action\",\"Action\",\"Action\",\"Action\",\"Action\",\"Action\",\"Action\",\"Action\",\"Action\",\"Action\",\"Action\",\"Action\",\"Action\",\"Action\",\"Action\",\"Action\",\"Action\",\"Action\",\"Action\",\"Action\",\"Action\",\"Action\",\"Action\",\"Action\",\"Action\",\"Action\",\"Action\",\"Action\",\"Action\",\"Action\",\"Action\",\"Action\",\"Action\",\"Action\",\"Action\",\"Action\",\"Action\",\"Action\",\"Action\",\"Action\",\"Action\",\"Action\",\"Action\",\"Action\",\"Action\",\"Action\",\"Action\",\"Action\",\"Action\",\"Action\",\"Action\",\"Action\",\"Action\",\"Action\",\"Action\",\"Action\",\"Action\",\"Action\",\"Action\",\"Action\",\"Action\",\"Action\",\"Action\",\"Action\",\"Action\",\"Action\",\"Action\",\"Action\",\"Action\",\"Action\",\"Action\",\"Action\",\"Action\",\"Action\",\"Action\",\"Action\",\"Action\",\"Action\",\"Action\",\"Action\",\"Action\",\"Action\",\"Action\",\"Action\",\"Action\",\"Action\",\"Action\",\"Action\",\"Action\",\"Action\",\"Action\",\"Action\",\"Action\",\"Action\",\"Action\",\"Action\",\"Action\",\"Action\",\"Action\",\"Action\",\"Action\",\"Action\",\"Action\",\"Action\",\"Action\",\"Action\",\"Action\"],\"x0\":\" \",\"xaxis\":\"x\",\"y\":[152,148,124,121,136,169,115,165,155,137,137,134,177,110,126,140,127,107,162,170,131,132,123,140,143,129,121,111,106,115,115,131,115,150,99,107,145,137,127,102,112,137,119,144,197,133,113,111,99,128,119,129,162,126,120,108,119,93,130,107,132,128,104,112,102,136,139,150,132,80,178,130,99,110,108,143,117,114,146,113,131,117,102,154,98,130,92,158,104,140,191,103,134,168,93,145,144,126,111,162,102,110,128,102,116,101,94,141,135,121,112,118,108,205,131,126,105,126,116,119,111,107,102,112,129,134,139,113,115,119,114,122,104,118,136,138],\"y0\":\" \",\"yaxis\":\"y\",\"type\":\"box\"},{\"alignmentgroup\":\"True\",\"hovertemplate\":\"genre=%{x}<br>duration=%{y}<extra></extra>\",\"legendgroup\":\"Drama\",\"marker\":{\"color\":\"#00cc96\"},\"name\":\"Drama\",\"notched\":false,\"offsetgroup\":\"Drama\",\"orientation\":\"v\",\"showlegend\":true,\"x\":[\"Drama\",\"Drama\",\"Drama\",\"Drama\",\"Drama\",\"Drama\",\"Drama\",\"Drama\",\"Drama\",\"Drama\",\"Drama\",\"Drama\",\"Drama\",\"Drama\",\"Drama\",\"Drama\",\"Drama\",\"Drama\",\"Drama\",\"Drama\",\"Drama\",\"Drama\",\"Drama\",\"Drama\",\"Drama\",\"Drama\",\"Drama\",\"Drama\",\"Drama\",\"Drama\",\"Drama\",\"Drama\",\"Drama\",\"Drama\",\"Drama\",\"Drama\",\"Drama\",\"Drama\",\"Drama\",\"Drama\",\"Drama\",\"Drama\",\"Drama\",\"Drama\",\"Drama\",\"Drama\",\"Drama\",\"Drama\",\"Drama\",\"Drama\",\"Drama\",\"Drama\",\"Drama\",\"Drama\",\"Drama\",\"Drama\",\"Drama\",\"Drama\",\"Drama\",\"Drama\",\"Drama\",\"Drama\",\"Drama\",\"Drama\",\"Drama\",\"Drama\",\"Drama\",\"Drama\",\"Drama\",\"Drama\",\"Drama\",\"Drama\",\"Drama\",\"Drama\",\"Drama\",\"Drama\",\"Drama\",\"Drama\",\"Drama\",\"Drama\",\"Drama\",\"Drama\",\"Drama\",\"Drama\",\"Drama\",\"Drama\",\"Drama\",\"Drama\",\"Drama\",\"Drama\",\"Drama\",\"Drama\",\"Drama\",\"Drama\",\"Drama\",\"Drama\",\"Drama\",\"Drama\",\"Drama\",\"Drama\",\"Drama\",\"Drama\",\"Drama\",\"Drama\",\"Drama\",\"Drama\",\"Drama\",\"Drama\",\"Drama\",\"Drama\",\"Drama\",\"Drama\",\"Drama\",\"Drama\",\"Drama\",\"Drama\",\"Drama\",\"Drama\",\"Drama\",\"Drama\",\"Drama\",\"Drama\",\"Drama\",\"Drama\",\"Drama\",\"Drama\",\"Drama\",\"Drama\",\"Drama\",\"Drama\",\"Drama\",\"Drama\",\"Drama\",\"Drama\",\"Drama\",\"Drama\",\"Drama\",\"Drama\",\"Drama\",\"Drama\",\"Drama\",\"Drama\",\"Drama\",\"Drama\",\"Drama\",\"Drama\",\"Drama\",\"Drama\",\"Drama\",\"Drama\",\"Drama\",\"Drama\",\"Drama\",\"Drama\",\"Drama\",\"Drama\",\"Drama\",\"Drama\",\"Drama\",\"Drama\",\"Drama\",\"Drama\",\"Drama\",\"Drama\",\"Drama\",\"Drama\",\"Drama\",\"Drama\",\"Drama\",\"Drama\",\"Drama\",\"Drama\",\"Drama\",\"Drama\",\"Drama\",\"Drama\",\"Drama\",\"Drama\",\"Drama\",\"Drama\",\"Drama\",\"Drama\",\"Drama\",\"Drama\",\"Drama\",\"Drama\",\"Drama\",\"Drama\",\"Drama\",\"Drama\",\"Drama\",\"Drama\",\"Drama\",\"Drama\",\"Drama\",\"Drama\",\"Drama\",\"Drama\",\"Drama\",\"Drama\",\"Drama\",\"Drama\",\"Drama\",\"Drama\",\"Drama\",\"Drama\",\"Drama\",\"Drama\",\"Drama\",\"Drama\",\"Drama\",\"Drama\",\"Drama\",\"Drama\",\"Drama\",\"Drama\",\"Drama\",\"Drama\",\"Drama\",\"Drama\",\"Drama\",\"Drama\",\"Drama\",\"Drama\",\"Drama\",\"Drama\",\"Drama\",\"Drama\",\"Drama\",\"Drama\",\"Drama\",\"Drama\",\"Drama\",\"Drama\",\"Drama\",\"Drama\",\"Drama\",\"Drama\",\"Drama\",\"Drama\",\"Drama\",\"Drama\",\"Drama\",\"Drama\",\"Drama\",\"Drama\",\"Drama\",\"Drama\",\"Drama\",\"Drama\",\"Drama\",\"Drama\",\"Drama\",\"Drama\",\"Drama\",\"Drama\",\"Drama\",\"Drama\",\"Drama\",\"Drama\",\"Drama\",\"Drama\",\"Drama\",\"Drama\",\"Drama\",\"Drama\",\"Drama\",\"Drama\",\"Drama\",\"Drama\",\"Drama\",\"Drama\",\"Drama\",\"Drama\",\"Drama\",\"Drama\",\"Drama\",\"Drama\"],\"x0\":\" \",\"xaxis\":\"x\",\"y\":[96,139,142,133,207,130,127,118,102,107,110,165,155,153,130,137,88,122,157,123,119,120,129,102,93,189,108,138,116,143,153,129,115,91,130,186,96,118,126,129,140,139,238,149,172,116,182,93,94,83,121,163,188,121,129,107,120,165,138,154,134,130,158,108,113,131,167,147,165,132,118,108,98,101,105,105,103,99,98,123,146,134,124,119,128,102,80,122,135,136,105,103,115,120,189,188,113,126,133,112,108,96,197,138,128,121,98,94,136,115,181,98,136,97,109,165,156,147,126,105,113,64,141,122,122,123,113,85,134,109,141,101,109,113,130,159,141,112,97,170,124,91,179,155,100,124,242,127,113,145,117,106,94,153,123,105,166,111,101,105,129,138,118,123,144,154,101,120,120,129,141,118,105,101,98,121,116,133,105,144,122,118,194,134,106,137,124,104,125,131,142,119,150,152,119,111,134,158,127,101,123,106,146,132,130,110,138,128,164,126,170,164,131,114,157,131,136,124,137,115,99,114,131,121,115,111,107,93,114,138,114,113,93,127,124,125,128,172,125,133,135,135,104,105,109,112,112,101,120,133,129,84,106,144,148,102,143,116,129,141,109,104,130,133,92,104,97,175,120,107,89,105,157,109,162,107,112,126],\"y0\":\" \",\"yaxis\":\"y\",\"type\":\"box\"},{\"alignmentgroup\":\"True\",\"hovertemplate\":\"genre=%{x}<br>duration=%{y}<extra></extra>\",\"legendgroup\":\"Western\",\"marker\":{\"color\":\"#ab63fa\"},\"name\":\"Western\",\"notched\":false,\"offsetgroup\":\"Western\",\"orientation\":\"v\",\"showlegend\":true,\"x\":[\"Western\",\"Western\",\"Western\",\"Western\",\"Western\",\"Western\",\"Western\",\"Western\",\"Western\"],\"x0\":\" \",\"xaxis\":\"x\",\"y\":[161,175,165,132,131,85,141,135,105],\"y0\":\" \",\"yaxis\":\"y\",\"type\":\"box\"},{\"alignmentgroup\":\"True\",\"hovertemplate\":\"genre=%{x}<br>duration=%{y}<extra></extra>\",\"legendgroup\":\"Adventure\",\"marker\":{\"color\":\"#FFA15A\"},\"name\":\"Adventure\",\"notched\":false,\"offsetgroup\":\"Adventure\",\"orientation\":\"v\",\"showlegend\":true,\"x\":[\"Adventure\",\"Adventure\",\"Adventure\",\"Adventure\",\"Adventure\",\"Adventure\",\"Adventure\",\"Adventure\",\"Adventure\",\"Adventure\",\"Adventure\",\"Adventure\",\"Adventure\",\"Adventure\",\"Adventure\",\"Adventure\",\"Adventure\",\"Adventure\",\"Adventure\",\"Adventure\",\"Adventure\",\"Adventure\",\"Adventure\",\"Adventure\",\"Adventure\",\"Adventure\",\"Adventure\",\"Adventure\",\"Adventure\",\"Adventure\",\"Adventure\",\"Adventure\",\"Adventure\",\"Adventure\",\"Adventure\",\"Adventure\",\"Adventure\",\"Adventure\",\"Adventure\",\"Adventure\",\"Adventure\",\"Adventure\",\"Adventure\",\"Adventure\",\"Adventure\",\"Adventure\",\"Adventure\",\"Adventure\",\"Adventure\",\"Adventure\",\"Adventure\",\"Adventure\",\"Adventure\",\"Adventure\",\"Adventure\",\"Adventure\",\"Adventure\",\"Adventure\",\"Adventure\",\"Adventure\",\"Adventure\",\"Adventure\",\"Adventure\",\"Adventure\",\"Adventure\",\"Adventure\",\"Adventure\",\"Adventure\",\"Adventure\",\"Adventure\",\"Adventure\",\"Adventure\",\"Adventure\",\"Adventure\",\"Adventure\"],\"x0\":\" \",\"xaxis\":\"x\",\"y\":[201,178,179,169,116,149,136,216,91,153,172,95,151,161,131,224,148,98,212,89,99,130,102,184,143,127,143,125,93,119,127,181,161,169,112,100,105,96,193,117,220,101,126,94,108,106,114,142,122,115,110,127,143,146,146,110,94,157,140,139,126,144,110,153,125,121,152,103,138,140,128,101,97,102,118],\"y0\":\" \",\"yaxis\":\"y\",\"type\":\"box\"},{\"alignmentgroup\":\"True\",\"hovertemplate\":\"genre=%{x}<br>duration=%{y}<extra></extra>\",\"legendgroup\":\"Biography\",\"marker\":{\"color\":\"#19d3f3\"},\"name\":\"Biography\",\"notched\":false,\"offsetgroup\":\"Biography\",\"orientation\":\"v\",\"showlegend\":true,\"x\":[\"Biography\",\"Biography\",\"Biography\",\"Biography\",\"Biography\",\"Biography\",\"Biography\",\"Biography\",\"Biography\",\"Biography\",\"Biography\",\"Biography\",\"Biography\",\"Biography\",\"Biography\",\"Biography\",\"Biography\",\"Biography\",\"Biography\",\"Biography\",\"Biography\",\"Biography\",\"Biography\",\"Biography\",\"Biography\",\"Biography\",\"Biography\",\"Biography\",\"Biography\",\"Biography\",\"Biography\",\"Biography\",\"Biography\",\"Biography\",\"Biography\",\"Biography\",\"Biography\",\"Biography\",\"Biography\",\"Biography\",\"Biography\",\"Biography\",\"Biography\",\"Biography\",\"Biography\",\"Biography\",\"Biography\",\"Biography\",\"Biography\",\"Biography\",\"Biography\",\"Biography\",\"Biography\",\"Biography\",\"Biography\",\"Biography\",\"Biography\",\"Biography\",\"Biography\",\"Biography\",\"Biography\",\"Biography\",\"Biography\",\"Biography\",\"Biography\",\"Biography\",\"Biography\",\"Biography\",\"Biography\",\"Biography\",\"Biography\",\"Biography\",\"Biography\",\"Biography\",\"Biography\",\"Biography\",\"Biography\"],\"x0\":\" \",\"xaxis\":\"x\",\"y\":[195,146,112,150,160,129,156,180,124,178,135,110,133,134,114,191,125,151,118,112,172,112,141,144,117,174,117,111,127,157,136,116,134,103,127,157,108,163,106,123,120,127,130,152,122,121,113,123,105,129,202,140,98,121,128,124,128,96,133,126,118,143,160,98,125,146,128,114,124,101,123,170,85,99,118,114,150],\"y0\":\" \",\"yaxis\":\"y\",\"type\":\"box\"},{\"alignmentgroup\":\"True\",\"hovertemplate\":\"genre=%{x}<br>duration=%{y}<extra></extra>\",\"legendgroup\":\"Comedy\",\"marker\":{\"color\":\"#FF6692\"},\"name\":\"Comedy\",\"notched\":false,\"offsetgroup\":\"Comedy\",\"orientation\":\"v\",\"showlegend\":true,\"x\":[\"Comedy\",\"Comedy\",\"Comedy\",\"Comedy\",\"Comedy\",\"Comedy\",\"Comedy\",\"Comedy\",\"Comedy\",\"Comedy\",\"Comedy\",\"Comedy\",\"Comedy\",\"Comedy\",\"Comedy\",\"Comedy\",\"Comedy\",\"Comedy\",\"Comedy\",\"Comedy\",\"Comedy\",\"Comedy\",\"Comedy\",\"Comedy\",\"Comedy\",\"Comedy\",\"Comedy\",\"Comedy\",\"Comedy\",\"Comedy\",\"Comedy\",\"Comedy\",\"Comedy\",\"Comedy\",\"Comedy\",\"Comedy\",\"Comedy\",\"Comedy\",\"Comedy\",\"Comedy\",\"Comedy\",\"Comedy\",\"Comedy\",\"Comedy\",\"Comedy\",\"Comedy\",\"Comedy\",\"Comedy\",\"Comedy\",\"Comedy\",\"Comedy\",\"Comedy\",\"Comedy\",\"Comedy\",\"Comedy\",\"Comedy\",\"Comedy\",\"Comedy\",\"Comedy\",\"Comedy\",\"Comedy\",\"Comedy\",\"Comedy\",\"Comedy\",\"Comedy\",\"Comedy\",\"Comedy\",\"Comedy\",\"Comedy\",\"Comedy\",\"Comedy\",\"Comedy\",\"Comedy\",\"Comedy\",\"Comedy\",\"Comedy\",\"Comedy\",\"Comedy\",\"Comedy\",\"Comedy\",\"Comedy\",\"Comedy\",\"Comedy\",\"Comedy\",\"Comedy\",\"Comedy\",\"Comedy\",\"Comedy\",\"Comedy\",\"Comedy\",\"Comedy\",\"Comedy\",\"Comedy\",\"Comedy\",\"Comedy\",\"Comedy\",\"Comedy\",\"Comedy\",\"Comedy\",\"Comedy\",\"Comedy\",\"Comedy\",\"Comedy\",\"Comedy\",\"Comedy\",\"Comedy\",\"Comedy\",\"Comedy\",\"Comedy\",\"Comedy\",\"Comedy\",\"Comedy\",\"Comedy\",\"Comedy\",\"Comedy\",\"Comedy\",\"Comedy\",\"Comedy\",\"Comedy\",\"Comedy\",\"Comedy\",\"Comedy\",\"Comedy\",\"Comedy\",\"Comedy\",\"Comedy\",\"Comedy\",\"Comedy\",\"Comedy\",\"Comedy\",\"Comedy\",\"Comedy\",\"Comedy\",\"Comedy\",\"Comedy\",\"Comedy\",\"Comedy\",\"Comedy\",\"Comedy\",\"Comedy\",\"Comedy\",\"Comedy\",\"Comedy\",\"Comedy\",\"Comedy\",\"Comedy\",\"Comedy\",\"Comedy\",\"Comedy\",\"Comedy\",\"Comedy\",\"Comedy\",\"Comedy\",\"Comedy\",\"Comedy\",\"Comedy\"],\"x0\":\" \",\"xaxis\":\"x\",\"y\":[116,87,87,95,125,170,156,122,68,181,103,129,125,102,183,120,105,107,117,122,123,167,127,94,93,174,120,118,118,112,104,94,101,106,91,102,92,68,106,130,82,104,113,96,99,100,96,123,103,107,119,97,120,96,121,103,107,92,94,108,122,89,107,84,105,100,88,129,79,95,93,115,112,139,101,139,109,113,121,93,90,93,82,100,99,114,118,187,87,89,88,80,89,110,135,88,91,102,97,94,85,116,124,113,113,110,92,95,96,109,85,99,81,121,108,102,104,109,97,89,126,113,107,93,96,137,97,98,110,124,90,106,110,120,104,106,112,111,116,97,100,92,118,111,94,132,86,103,117,104,98,96,103,99,90,116],\"y0\":\" \",\"yaxis\":\"y\",\"type\":\"box\"},{\"alignmentgroup\":\"True\",\"hovertemplate\":\"genre=%{x}<br>duration=%{y}<extra></extra>\",\"legendgroup\":\"Animation\",\"marker\":{\"color\":\"#B6E880\"},\"name\":\"Animation\",\"notched\":false,\"offsetgroup\":\"Animation\",\"orientation\":\"v\",\"showlegend\":true,\"x\":[\"Animation\",\"Animation\",\"Animation\",\"Animation\",\"Animation\",\"Animation\",\"Animation\",\"Animation\",\"Animation\",\"Animation\",\"Animation\",\"Animation\",\"Animation\",\"Animation\",\"Animation\",\"Animation\",\"Animation\",\"Animation\",\"Animation\",\"Animation\",\"Animation\",\"Animation\",\"Animation\",\"Animation\",\"Animation\",\"Animation\",\"Animation\",\"Animation\",\"Animation\",\"Animation\",\"Animation\",\"Animation\",\"Animation\",\"Animation\",\"Animation\",\"Animation\",\"Animation\",\"Animation\",\"Animation\",\"Animation\",\"Animation\",\"Animation\",\"Animation\",\"Animation\",\"Animation\",\"Animation\",\"Animation\",\"Animation\",\"Animation\",\"Animation\",\"Animation\",\"Animation\",\"Animation\",\"Animation\",\"Animation\",\"Animation\",\"Animation\",\"Animation\",\"Animation\",\"Animation\",\"Animation\",\"Animation\"],\"x0\":\" \",\"xaxis\":\"x\",\"y\":[125,89,89,98,134,103,81,96,86,119,98,92,100,117,124,124,92,84,76,96,95,111,83,90,115,102,86,102,92,115,90,98,103,100,126,78,100,125,94,87,101,81,90,95,101,88,100,102,104,94,78,92,83,83,81,85,98,88,80,88,75,87],\"y0\":\" \",\"yaxis\":\"y\",\"type\":\"box\"},{\"alignmentgroup\":\"True\",\"hovertemplate\":\"genre=%{x}<br>duration=%{y}<extra></extra>\",\"legendgroup\":\"Mystery\",\"marker\":{\"color\":\"#FF97FF\"},\"name\":\"Mystery\",\"notched\":false,\"offsetgroup\":\"Mystery\",\"orientation\":\"v\",\"showlegend\":true,\"x\":[\"Mystery\",\"Mystery\",\"Mystery\",\"Mystery\",\"Mystery\",\"Mystery\",\"Mystery\",\"Mystery\",\"Mystery\",\"Mystery\",\"Mystery\",\"Mystery\",\"Mystery\",\"Mystery\",\"Mystery\",\"Mystery\"],\"x0\":\" \",\"xaxis\":\"x\",\"y\":[112,113,128,160,130,138,138,129,126,86,100,69,117,106,93,105],\"y0\":\" \",\"yaxis\":\"y\",\"type\":\"box\"},{\"alignmentgroup\":\"True\",\"hovertemplate\":\"genre=%{x}<br>duration=%{y}<extra></extra>\",\"legendgroup\":\"Horror\",\"marker\":{\"color\":\"#FECB52\"},\"name\":\"Horror\",\"notched\":false,\"offsetgroup\":\"Horror\",\"orientation\":\"v\",\"showlegend\":true,\"x\":[\"Horror\",\"Horror\",\"Horror\",\"Horror\",\"Horror\",\"Horror\",\"Horror\",\"Horror\",\"Horror\",\"Horror\",\"Horror\",\"Horror\",\"Horror\",\"Horror\",\"Horror\",\"Horror\",\"Horror\",\"Horror\",\"Horror\",\"Horror\",\"Horror\",\"Horror\",\"Horror\",\"Horror\",\"Horror\",\"Horror\",\"Horror\",\"Horror\",\"Horror\"],\"x0\":\" \",\"xaxis\":\"x\",\"y\":[109,117,146,116,109,127,122,81,70,96,75,80,119,103,88,85,113,104,111,123,85,112,96,78,91,83,128,92,114],\"y0\":\" \",\"yaxis\":\"y\",\"type\":\"box\"},{\"alignmentgroup\":\"True\",\"hovertemplate\":\"genre=%{x}<br>duration=%{y}<extra></extra>\",\"legendgroup\":\"Film-Noir\",\"marker\":{\"color\":\"#636efa\"},\"name\":\"Film-Noir\",\"notched\":false,\"offsetgroup\":\"Film-Noir\",\"orientation\":\"v\",\"showlegend\":true,\"x\":[\"Film-Noir\",\"Film-Noir\",\"Film-Noir\"],\"x0\":\" \",\"xaxis\":\"x\",\"y\":[93,88,111],\"y0\":\" \",\"yaxis\":\"y\",\"type\":\"box\"},{\"alignmentgroup\":\"True\",\"hovertemplate\":\"genre=%{x}<br>duration=%{y}<extra></extra>\",\"legendgroup\":\"Sci-Fi\",\"marker\":{\"color\":\"#EF553B\"},\"name\":\"Sci-Fi\",\"notched\":false,\"offsetgroup\":\"Sci-Fi\",\"orientation\":\"v\",\"showlegend\":true,\"x\":[\"Sci-Fi\",\"Sci-Fi\",\"Sci-Fi\",\"Sci-Fi\",\"Sci-Fi\"],\"x0\":\" \",\"xaxis\":\"x\",\"y\":[117,132,91,92,113],\"y0\":\" \",\"yaxis\":\"y\",\"type\":\"box\"},{\"alignmentgroup\":\"True\",\"hovertemplate\":\"genre=%{x}<br>duration=%{y}<extra></extra>\",\"legendgroup\":\"History\",\"marker\":{\"color\":\"#00cc96\"},\"name\":\"History\",\"notched\":false,\"offsetgroup\":\"History\",\"orientation\":\"v\",\"showlegend\":true,\"x\":[\"History\"],\"x0\":\" \",\"xaxis\":\"x\",\"y\":[66],\"y0\":\" \",\"yaxis\":\"y\",\"type\":\"box\"},{\"alignmentgroup\":\"True\",\"hovertemplate\":\"genre=%{x}<br>duration=%{y}<extra></extra>\",\"legendgroup\":\"Thriller\",\"marker\":{\"color\":\"#ab63fa\"},\"name\":\"Thriller\",\"notched\":false,\"offsetgroup\":\"Thriller\",\"orientation\":\"v\",\"showlegend\":true,\"x\":[\"Thriller\",\"Thriller\",\"Thriller\",\"Thriller\",\"Thriller\"],\"x0\":\" \",\"xaxis\":\"x\",\"y\":[108,107,120,120,116],\"y0\":\" \",\"yaxis\":\"y\",\"type\":\"box\"},{\"alignmentgroup\":\"True\",\"hovertemplate\":\"genre=%{x}<br>duration=%{y}<extra></extra>\",\"legendgroup\":\"Family\",\"marker\":{\"color\":\"#FFA15A\"},\"name\":\"Family\",\"notched\":false,\"offsetgroup\":\"Family\",\"orientation\":\"v\",\"showlegend\":true,\"x\":[\"Family\",\"Family\"],\"x0\":\" \",\"xaxis\":\"x\",\"y\":[115,100],\"y0\":\" \",\"yaxis\":\"y\",\"type\":\"box\"},{\"alignmentgroup\":\"True\",\"hovertemplate\":\"genre=%{x}<br>duration=%{y}<extra></extra>\",\"legendgroup\":\"Fantasy\",\"marker\":{\"color\":\"#19d3f3\"},\"name\":\"Fantasy\",\"notched\":false,\"offsetgroup\":\"Fantasy\",\"orientation\":\"v\",\"showlegend\":true,\"x\":[\"Fantasy\"],\"x0\":\" \",\"xaxis\":\"x\",\"y\":[112],\"y0\":\" \",\"yaxis\":\"y\",\"type\":\"box\"}],                        {\"template\":{\"data\":{\"bar\":[{\"error_x\":{\"color\":\"#2a3f5f\"},\"error_y\":{\"color\":\"#2a3f5f\"},\"marker\":{\"line\":{\"color\":\"#E5ECF6\",\"width\":0.5},\"pattern\":{\"fillmode\":\"overlay\",\"size\":10,\"solidity\":0.2}},\"type\":\"bar\"}],\"barpolar\":[{\"marker\":{\"line\":{\"color\":\"#E5ECF6\",\"width\":0.5},\"pattern\":{\"fillmode\":\"overlay\",\"size\":10,\"solidity\":0.2}},\"type\":\"barpolar\"}],\"carpet\":[{\"aaxis\":{\"endlinecolor\":\"#2a3f5f\",\"gridcolor\":\"white\",\"linecolor\":\"white\",\"minorgridcolor\":\"white\",\"startlinecolor\":\"#2a3f5f\"},\"baxis\":{\"endlinecolor\":\"#2a3f5f\",\"gridcolor\":\"white\",\"linecolor\":\"white\",\"minorgridcolor\":\"white\",\"startlinecolor\":\"#2a3f5f\"},\"type\":\"carpet\"}],\"choropleth\":[{\"colorbar\":{\"outlinewidth\":0,\"ticks\":\"\"},\"type\":\"choropleth\"}],\"contour\":[{\"colorbar\":{\"outlinewidth\":0,\"ticks\":\"\"},\"colorscale\":[[0.0,\"#0d0887\"],[0.1111111111111111,\"#46039f\"],[0.2222222222222222,\"#7201a8\"],[0.3333333333333333,\"#9c179e\"],[0.4444444444444444,\"#bd3786\"],[0.5555555555555556,\"#d8576b\"],[0.6666666666666666,\"#ed7953\"],[0.7777777777777778,\"#fb9f3a\"],[0.8888888888888888,\"#fdca26\"],[1.0,\"#f0f921\"]],\"type\":\"contour\"}],\"contourcarpet\":[{\"colorbar\":{\"outlinewidth\":0,\"ticks\":\"\"},\"type\":\"contourcarpet\"}],\"heatmap\":[{\"colorbar\":{\"outlinewidth\":0,\"ticks\":\"\"},\"colorscale\":[[0.0,\"#0d0887\"],[0.1111111111111111,\"#46039f\"],[0.2222222222222222,\"#7201a8\"],[0.3333333333333333,\"#9c179e\"],[0.4444444444444444,\"#bd3786\"],[0.5555555555555556,\"#d8576b\"],[0.6666666666666666,\"#ed7953\"],[0.7777777777777778,\"#fb9f3a\"],[0.8888888888888888,\"#fdca26\"],[1.0,\"#f0f921\"]],\"type\":\"heatmap\"}],\"heatmapgl\":[{\"colorbar\":{\"outlinewidth\":0,\"ticks\":\"\"},\"colorscale\":[[0.0,\"#0d0887\"],[0.1111111111111111,\"#46039f\"],[0.2222222222222222,\"#7201a8\"],[0.3333333333333333,\"#9c179e\"],[0.4444444444444444,\"#bd3786\"],[0.5555555555555556,\"#d8576b\"],[0.6666666666666666,\"#ed7953\"],[0.7777777777777778,\"#fb9f3a\"],[0.8888888888888888,\"#fdca26\"],[1.0,\"#f0f921\"]],\"type\":\"heatmapgl\"}],\"histogram\":[{\"marker\":{\"pattern\":{\"fillmode\":\"overlay\",\"size\":10,\"solidity\":0.2}},\"type\":\"histogram\"}],\"histogram2d\":[{\"colorbar\":{\"outlinewidth\":0,\"ticks\":\"\"},\"colorscale\":[[0.0,\"#0d0887\"],[0.1111111111111111,\"#46039f\"],[0.2222222222222222,\"#7201a8\"],[0.3333333333333333,\"#9c179e\"],[0.4444444444444444,\"#bd3786\"],[0.5555555555555556,\"#d8576b\"],[0.6666666666666666,\"#ed7953\"],[0.7777777777777778,\"#fb9f3a\"],[0.8888888888888888,\"#fdca26\"],[1.0,\"#f0f921\"]],\"type\":\"histogram2d\"}],\"histogram2dcontour\":[{\"colorbar\":{\"outlinewidth\":0,\"ticks\":\"\"},\"colorscale\":[[0.0,\"#0d0887\"],[0.1111111111111111,\"#46039f\"],[0.2222222222222222,\"#7201a8\"],[0.3333333333333333,\"#9c179e\"],[0.4444444444444444,\"#bd3786\"],[0.5555555555555556,\"#d8576b\"],[0.6666666666666666,\"#ed7953\"],[0.7777777777777778,\"#fb9f3a\"],[0.8888888888888888,\"#fdca26\"],[1.0,\"#f0f921\"]],\"type\":\"histogram2dcontour\"}],\"mesh3d\":[{\"colorbar\":{\"outlinewidth\":0,\"ticks\":\"\"},\"type\":\"mesh3d\"}],\"parcoords\":[{\"line\":{\"colorbar\":{\"outlinewidth\":0,\"ticks\":\"\"}},\"type\":\"parcoords\"}],\"pie\":[{\"automargin\":true,\"type\":\"pie\"}],\"scatter\":[{\"marker\":{\"colorbar\":{\"outlinewidth\":0,\"ticks\":\"\"}},\"type\":\"scatter\"}],\"scatter3d\":[{\"line\":{\"colorbar\":{\"outlinewidth\":0,\"ticks\":\"\"}},\"marker\":{\"colorbar\":{\"outlinewidth\":0,\"ticks\":\"\"}},\"type\":\"scatter3d\"}],\"scattercarpet\":[{\"marker\":{\"colorbar\":{\"outlinewidth\":0,\"ticks\":\"\"}},\"type\":\"scattercarpet\"}],\"scattergeo\":[{\"marker\":{\"colorbar\":{\"outlinewidth\":0,\"ticks\":\"\"}},\"type\":\"scattergeo\"}],\"scattergl\":[{\"marker\":{\"colorbar\":{\"outlinewidth\":0,\"ticks\":\"\"}},\"type\":\"scattergl\"}],\"scattermapbox\":[{\"marker\":{\"colorbar\":{\"outlinewidth\":0,\"ticks\":\"\"}},\"type\":\"scattermapbox\"}],\"scatterpolar\":[{\"marker\":{\"colorbar\":{\"outlinewidth\":0,\"ticks\":\"\"}},\"type\":\"scatterpolar\"}],\"scatterpolargl\":[{\"marker\":{\"colorbar\":{\"outlinewidth\":0,\"ticks\":\"\"}},\"type\":\"scatterpolargl\"}],\"scatterternary\":[{\"marker\":{\"colorbar\":{\"outlinewidth\":0,\"ticks\":\"\"}},\"type\":\"scatterternary\"}],\"surface\":[{\"colorbar\":{\"outlinewidth\":0,\"ticks\":\"\"},\"colorscale\":[[0.0,\"#0d0887\"],[0.1111111111111111,\"#46039f\"],[0.2222222222222222,\"#7201a8\"],[0.3333333333333333,\"#9c179e\"],[0.4444444444444444,\"#bd3786\"],[0.5555555555555556,\"#d8576b\"],[0.6666666666666666,\"#ed7953\"],[0.7777777777777778,\"#fb9f3a\"],[0.8888888888888888,\"#fdca26\"],[1.0,\"#f0f921\"]],\"type\":\"surface\"}],\"table\":[{\"cells\":{\"fill\":{\"color\":\"#EBF0F8\"},\"line\":{\"color\":\"white\"}},\"header\":{\"fill\":{\"color\":\"#C8D4E3\"},\"line\":{\"color\":\"white\"}},\"type\":\"table\"}]},\"layout\":{\"annotationdefaults\":{\"arrowcolor\":\"#2a3f5f\",\"arrowhead\":0,\"arrowwidth\":1},\"autotypenumbers\":\"strict\",\"coloraxis\":{\"colorbar\":{\"outlinewidth\":0,\"ticks\":\"\"}},\"colorscale\":{\"diverging\":[[0,\"#8e0152\"],[0.1,\"#c51b7d\"],[0.2,\"#de77ae\"],[0.3,\"#f1b6da\"],[0.4,\"#fde0ef\"],[0.5,\"#f7f7f7\"],[0.6,\"#e6f5d0\"],[0.7,\"#b8e186\"],[0.8,\"#7fbc41\"],[0.9,\"#4d9221\"],[1,\"#276419\"]],\"sequential\":[[0.0,\"#0d0887\"],[0.1111111111111111,\"#46039f\"],[0.2222222222222222,\"#7201a8\"],[0.3333333333333333,\"#9c179e\"],[0.4444444444444444,\"#bd3786\"],[0.5555555555555556,\"#d8576b\"],[0.6666666666666666,\"#ed7953\"],[0.7777777777777778,\"#fb9f3a\"],[0.8888888888888888,\"#fdca26\"],[1.0,\"#f0f921\"]],\"sequentialminus\":[[0.0,\"#0d0887\"],[0.1111111111111111,\"#46039f\"],[0.2222222222222222,\"#7201a8\"],[0.3333333333333333,\"#9c179e\"],[0.4444444444444444,\"#bd3786\"],[0.5555555555555556,\"#d8576b\"],[0.6666666666666666,\"#ed7953\"],[0.7777777777777778,\"#fb9f3a\"],[0.8888888888888888,\"#fdca26\"],[1.0,\"#f0f921\"]]},\"colorway\":[\"#636efa\",\"#EF553B\",\"#00cc96\",\"#ab63fa\",\"#FFA15A\",\"#19d3f3\",\"#FF6692\",\"#B6E880\",\"#FF97FF\",\"#FECB52\"],\"font\":{\"color\":\"#2a3f5f\"},\"geo\":{\"bgcolor\":\"white\",\"lakecolor\":\"white\",\"landcolor\":\"#E5ECF6\",\"showlakes\":true,\"showland\":true,\"subunitcolor\":\"white\"},\"hoverlabel\":{\"align\":\"left\"},\"hovermode\":\"closest\",\"mapbox\":{\"style\":\"light\"},\"paper_bgcolor\":\"white\",\"plot_bgcolor\":\"#E5ECF6\",\"polar\":{\"angularaxis\":{\"gridcolor\":\"white\",\"linecolor\":\"white\",\"ticks\":\"\"},\"bgcolor\":\"#E5ECF6\",\"radialaxis\":{\"gridcolor\":\"white\",\"linecolor\":\"white\",\"ticks\":\"\"}},\"scene\":{\"xaxis\":{\"backgroundcolor\":\"#E5ECF6\",\"gridcolor\":\"white\",\"gridwidth\":2,\"linecolor\":\"white\",\"showbackground\":true,\"ticks\":\"\",\"zerolinecolor\":\"white\"},\"yaxis\":{\"backgroundcolor\":\"#E5ECF6\",\"gridcolor\":\"white\",\"gridwidth\":2,\"linecolor\":\"white\",\"showbackground\":true,\"ticks\":\"\",\"zerolinecolor\":\"white\"},\"zaxis\":{\"backgroundcolor\":\"#E5ECF6\",\"gridcolor\":\"white\",\"gridwidth\":2,\"linecolor\":\"white\",\"showbackground\":true,\"ticks\":\"\",\"zerolinecolor\":\"white\"}},\"shapedefaults\":{\"line\":{\"color\":\"#2a3f5f\"}},\"ternary\":{\"aaxis\":{\"gridcolor\":\"white\",\"linecolor\":\"white\",\"ticks\":\"\"},\"baxis\":{\"gridcolor\":\"white\",\"linecolor\":\"white\",\"ticks\":\"\"},\"bgcolor\":\"#E5ECF6\",\"caxis\":{\"gridcolor\":\"white\",\"linecolor\":\"white\",\"ticks\":\"\"}},\"title\":{\"x\":0.05},\"xaxis\":{\"automargin\":true,\"gridcolor\":\"white\",\"linecolor\":\"white\",\"ticks\":\"\",\"title\":{\"standoff\":15},\"zerolinecolor\":\"white\",\"zerolinewidth\":2},\"yaxis\":{\"automargin\":true,\"gridcolor\":\"white\",\"linecolor\":\"white\",\"ticks\":\"\",\"title\":{\"standoff\":15},\"zerolinecolor\":\"white\",\"zerolinewidth\":2}}},\"xaxis\":{\"anchor\":\"y\",\"domain\":[0.0,1.0],\"title\":{\"text\":\"genre\"},\"categoryorder\":\"array\",\"categoryarray\":[\"Crime\",\"Action\",\"Drama\",\"Western\",\"Adventure\",\"Biography\",\"Comedy\",\"Animation\",\"Mystery\",\"Horror\",\"Film-Noir\",\"Sci-Fi\",\"History\",\"Thriller\",\"Family\",\"Fantasy\"]},\"yaxis\":{\"anchor\":\"x\",\"domain\":[0.0,1.0],\"title\":{\"text\":\"duration\"}},\"legend\":{\"title\":{\"text\":\"genre\"},\"tracegroupgap\":0},\"title\":{\"text\":\"Duration Distribution by Genre\"},\"boxmode\":\"overlay\"},                        {\"responsive\": true}                    ).then(function(){\n",
       "                            \n",
       "var gd = document.getElementById('417781ef-51d8-4f86-a175-e29525c5af4b');\n",
       "var x = new MutationObserver(function (mutations, observer) {{\n",
       "        var display = window.getComputedStyle(gd).display;\n",
       "        if (!display || display === 'none') {{\n",
       "            console.log([gd, 'removed!']);\n",
       "            Plotly.purge(gd);\n",
       "            observer.disconnect();\n",
       "        }}\n",
       "}});\n",
       "\n",
       "// Listen for the removal of the full notebook cells\n",
       "var notebookContainer = gd.closest('#notebook-container');\n",
       "if (notebookContainer) {{\n",
       "    x.observe(notebookContainer, {childList: true});\n",
       "}}\n",
       "\n",
       "// Listen for the clearing of the current output cell\n",
       "var outputEl = gd.closest('.output');\n",
       "if (outputEl) {{\n",
       "    x.observe(outputEl, {childList: true});\n",
       "}}\n",
       "\n",
       "                        })                };                });            </script>        </div>"
      ]
     },
     "metadata": {},
     "output_type": "display_data"
    }
   ],
   "source": [
    "# Answer:\n",
    "fig=px.box(movies,y=\"duration\", title=\"Duration Distribution for all movies\")\n",
    "fig.show()\n",
    "fig_genre=px.box(movies,x='genre', y=\"duration\",title=\"Duration Distribution by Genre\", color='genre')\n",
    "fig_genre.show()"
   ]
  },
  {
   "cell_type": "markdown",
   "metadata": {},
   "source": [
<<<<<<< HEAD
    "**Jonathan's Note:** These charts are great, but if you are using plotly express in a jupyter notebook you can simply just use `px.plot` and not have to save it as a figure.  You would only need to save it if you wanted to make additional modifications to the figure object that were not available in the plotly express api."
   ]
  },
  {
   "cell_type": "markdown",
   "metadata": {},
   "source": [
=======
>>>>>>> 47b2484ce0a32c8c37275f0354207e26eb222815
    "## Intermediate level"
   ]
  },
  {
   "cell_type": "markdown",
   "metadata": {},
   "source": [
    "#### Count how many movies have each of the content ratings."
   ]
  },
  {
   "cell_type": "code",
   "execution_count": 98,
   "metadata": {},
   "outputs": [],
   "source": [
    "# Answer:\n",
    "data=movies.groupby('content_rating')['title'].count().reset_index()"
   ]
  },
  {
   "cell_type": "markdown",
   "metadata": {},
   "source": [
    "#### Use a visualization to display that same data, including a title and x and y labels."
   ]
  },
  {
   "cell_type": "code",
   "execution_count": 288,
   "metadata": {},
   "outputs": [
    {
     "data": {
      "application/vnd.plotly.v1+json": {
       "config": {
        "plotlyServerURL": "https://plot.ly"
       },
       "data": [
        {
         "alignmentgroup": "True",
         "hovertemplate": "content_rating=%{x}<br>title=%{y}<extra></extra>",
         "legendgroup": "",
         "marker": {
          "color": "#636efa",
          "pattern": {
           "shape": ""
          }
         },
         "name": "",
         "offsetgroup": "",
         "orientation": "v",
         "showlegend": false,
         "textposition": "auto",
         "type": "bar",
         "x": [
          "APPROVED",
          "G",
          "GP",
          "NC-17",
          "NOT RATED",
          "PASSED",
          "PG",
          "PG-13",
          "R",
          "TV-MA",
          "UNRATED",
          "X",
          "nan"
         ],
         "xaxis": "x",
         "y": [
          47,
          32,
          3,
          7,
          65,
          7,
          123,
          189,
          460,
          1,
          38,
          4,
          3
         ],
         "yaxis": "y"
        }
       ],
       "layout": {
        "barmode": "relative",
        "legend": {
         "tracegroupgap": 0
        },
        "template": {
         "data": {
          "bar": [
           {
            "error_x": {
             "color": "#2a3f5f"
            },
            "error_y": {
             "color": "#2a3f5f"
            },
            "marker": {
             "line": {
              "color": "#E5ECF6",
              "width": 0.5
             },
             "pattern": {
              "fillmode": "overlay",
              "size": 10,
              "solidity": 0.2
             }
            },
            "type": "bar"
           }
          ],
          "barpolar": [
           {
            "marker": {
             "line": {
              "color": "#E5ECF6",
              "width": 0.5
             },
             "pattern": {
              "fillmode": "overlay",
              "size": 10,
              "solidity": 0.2
             }
            },
            "type": "barpolar"
           }
          ],
          "carpet": [
           {
            "aaxis": {
             "endlinecolor": "#2a3f5f",
             "gridcolor": "white",
             "linecolor": "white",
             "minorgridcolor": "white",
             "startlinecolor": "#2a3f5f"
            },
            "baxis": {
             "endlinecolor": "#2a3f5f",
             "gridcolor": "white",
             "linecolor": "white",
             "minorgridcolor": "white",
             "startlinecolor": "#2a3f5f"
            },
            "type": "carpet"
           }
          ],
          "choropleth": [
           {
            "colorbar": {
             "outlinewidth": 0,
             "ticks": ""
            },
            "type": "choropleth"
           }
          ],
          "contour": [
           {
            "colorbar": {
             "outlinewidth": 0,
             "ticks": ""
            },
            "colorscale": [
             [
              0,
              "#0d0887"
             ],
             [
              0.1111111111111111,
              "#46039f"
             ],
             [
              0.2222222222222222,
              "#7201a8"
             ],
             [
              0.3333333333333333,
              "#9c179e"
             ],
             [
              0.4444444444444444,
              "#bd3786"
             ],
             [
              0.5555555555555556,
              "#d8576b"
             ],
             [
              0.6666666666666666,
              "#ed7953"
             ],
             [
              0.7777777777777778,
              "#fb9f3a"
             ],
             [
              0.8888888888888888,
              "#fdca26"
             ],
             [
              1,
              "#f0f921"
             ]
            ],
            "type": "contour"
           }
          ],
          "contourcarpet": [
           {
            "colorbar": {
             "outlinewidth": 0,
             "ticks": ""
            },
            "type": "contourcarpet"
           }
          ],
          "heatmap": [
           {
            "colorbar": {
             "outlinewidth": 0,
             "ticks": ""
            },
            "colorscale": [
             [
              0,
              "#0d0887"
             ],
             [
              0.1111111111111111,
              "#46039f"
             ],
             [
              0.2222222222222222,
              "#7201a8"
             ],
             [
              0.3333333333333333,
              "#9c179e"
             ],
             [
              0.4444444444444444,
              "#bd3786"
             ],
             [
              0.5555555555555556,
              "#d8576b"
             ],
             [
              0.6666666666666666,
              "#ed7953"
             ],
             [
              0.7777777777777778,
              "#fb9f3a"
             ],
             [
              0.8888888888888888,
              "#fdca26"
             ],
             [
              1,
              "#f0f921"
             ]
            ],
            "type": "heatmap"
           }
          ],
          "heatmapgl": [
           {
            "colorbar": {
             "outlinewidth": 0,
             "ticks": ""
            },
            "colorscale": [
             [
              0,
              "#0d0887"
             ],
             [
              0.1111111111111111,
              "#46039f"
             ],
             [
              0.2222222222222222,
              "#7201a8"
             ],
             [
              0.3333333333333333,
              "#9c179e"
             ],
             [
              0.4444444444444444,
              "#bd3786"
             ],
             [
              0.5555555555555556,
              "#d8576b"
             ],
             [
              0.6666666666666666,
              "#ed7953"
             ],
             [
              0.7777777777777778,
              "#fb9f3a"
             ],
             [
              0.8888888888888888,
              "#fdca26"
             ],
             [
              1,
              "#f0f921"
             ]
            ],
            "type": "heatmapgl"
           }
          ],
          "histogram": [
           {
            "marker": {
             "pattern": {
              "fillmode": "overlay",
              "size": 10,
              "solidity": 0.2
             }
            },
            "type": "histogram"
           }
          ],
          "histogram2d": [
           {
            "colorbar": {
             "outlinewidth": 0,
             "ticks": ""
            },
            "colorscale": [
             [
              0,
              "#0d0887"
             ],
             [
              0.1111111111111111,
              "#46039f"
             ],
             [
              0.2222222222222222,
              "#7201a8"
             ],
             [
              0.3333333333333333,
              "#9c179e"
             ],
             [
              0.4444444444444444,
              "#bd3786"
             ],
             [
              0.5555555555555556,
              "#d8576b"
             ],
             [
              0.6666666666666666,
              "#ed7953"
             ],
             [
              0.7777777777777778,
              "#fb9f3a"
             ],
             [
              0.8888888888888888,
              "#fdca26"
             ],
             [
              1,
              "#f0f921"
             ]
            ],
            "type": "histogram2d"
           }
          ],
          "histogram2dcontour": [
           {
            "colorbar": {
             "outlinewidth": 0,
             "ticks": ""
            },
            "colorscale": [
             [
              0,
              "#0d0887"
             ],
             [
              0.1111111111111111,
              "#46039f"
             ],
             [
              0.2222222222222222,
              "#7201a8"
             ],
             [
              0.3333333333333333,
              "#9c179e"
             ],
             [
              0.4444444444444444,
              "#bd3786"
             ],
             [
              0.5555555555555556,
              "#d8576b"
             ],
             [
              0.6666666666666666,
              "#ed7953"
             ],
             [
              0.7777777777777778,
              "#fb9f3a"
             ],
             [
              0.8888888888888888,
              "#fdca26"
             ],
             [
              1,
              "#f0f921"
             ]
            ],
            "type": "histogram2dcontour"
           }
          ],
          "mesh3d": [
           {
            "colorbar": {
             "outlinewidth": 0,
             "ticks": ""
            },
            "type": "mesh3d"
           }
          ],
          "parcoords": [
           {
            "line": {
             "colorbar": {
              "outlinewidth": 0,
              "ticks": ""
             }
            },
            "type": "parcoords"
           }
          ],
          "pie": [
           {
            "automargin": true,
            "type": "pie"
           }
          ],
          "scatter": [
           {
            "marker": {
             "colorbar": {
              "outlinewidth": 0,
              "ticks": ""
             }
            },
            "type": "scatter"
           }
          ],
          "scatter3d": [
           {
            "line": {
             "colorbar": {
              "outlinewidth": 0,
              "ticks": ""
             }
            },
            "marker": {
             "colorbar": {
              "outlinewidth": 0,
              "ticks": ""
             }
            },
            "type": "scatter3d"
           }
          ],
          "scattercarpet": [
           {
            "marker": {
             "colorbar": {
              "outlinewidth": 0,
              "ticks": ""
             }
            },
            "type": "scattercarpet"
           }
          ],
          "scattergeo": [
           {
            "marker": {
             "colorbar": {
              "outlinewidth": 0,
              "ticks": ""
             }
            },
            "type": "scattergeo"
           }
          ],
          "scattergl": [
           {
            "marker": {
             "colorbar": {
              "outlinewidth": 0,
              "ticks": ""
             }
            },
            "type": "scattergl"
           }
          ],
          "scattermapbox": [
           {
            "marker": {
             "colorbar": {
              "outlinewidth": 0,
              "ticks": ""
             }
            },
            "type": "scattermapbox"
           }
          ],
          "scatterpolar": [
           {
            "marker": {
             "colorbar": {
              "outlinewidth": 0,
              "ticks": ""
             }
            },
            "type": "scatterpolar"
           }
          ],
          "scatterpolargl": [
           {
            "marker": {
             "colorbar": {
              "outlinewidth": 0,
              "ticks": ""
             }
            },
            "type": "scatterpolargl"
           }
          ],
          "scatterternary": [
           {
            "marker": {
             "colorbar": {
              "outlinewidth": 0,
              "ticks": ""
             }
            },
            "type": "scatterternary"
           }
          ],
          "surface": [
           {
            "colorbar": {
             "outlinewidth": 0,
             "ticks": ""
            },
            "colorscale": [
             [
              0,
              "#0d0887"
             ],
             [
              0.1111111111111111,
              "#46039f"
             ],
             [
              0.2222222222222222,
              "#7201a8"
             ],
             [
              0.3333333333333333,
              "#9c179e"
             ],
             [
              0.4444444444444444,
              "#bd3786"
             ],
             [
              0.5555555555555556,
              "#d8576b"
             ],
             [
              0.6666666666666666,
              "#ed7953"
             ],
             [
              0.7777777777777778,
              "#fb9f3a"
             ],
             [
              0.8888888888888888,
              "#fdca26"
             ],
             [
              1,
              "#f0f921"
             ]
            ],
            "type": "surface"
           }
          ],
          "table": [
           {
            "cells": {
             "fill": {
              "color": "#EBF0F8"
             },
             "line": {
              "color": "white"
             }
            },
            "header": {
             "fill": {
              "color": "#C8D4E3"
             },
             "line": {
              "color": "white"
             }
            },
            "type": "table"
           }
          ]
         },
         "layout": {
          "annotationdefaults": {
           "arrowcolor": "#2a3f5f",
           "arrowhead": 0,
           "arrowwidth": 1
          },
          "autotypenumbers": "strict",
          "coloraxis": {
           "colorbar": {
            "outlinewidth": 0,
            "ticks": ""
           }
          },
          "colorscale": {
           "diverging": [
            [
             0,
             "#8e0152"
            ],
            [
             0.1,
             "#c51b7d"
            ],
            [
             0.2,
             "#de77ae"
            ],
            [
             0.3,
             "#f1b6da"
            ],
            [
             0.4,
             "#fde0ef"
            ],
            [
             0.5,
             "#f7f7f7"
            ],
            [
             0.6,
             "#e6f5d0"
            ],
            [
             0.7,
             "#b8e186"
            ],
            [
             0.8,
             "#7fbc41"
            ],
            [
             0.9,
             "#4d9221"
            ],
            [
             1,
             "#276419"
            ]
           ],
           "sequential": [
            [
             0,
             "#0d0887"
            ],
            [
             0.1111111111111111,
             "#46039f"
            ],
            [
             0.2222222222222222,
             "#7201a8"
            ],
            [
             0.3333333333333333,
             "#9c179e"
            ],
            [
             0.4444444444444444,
             "#bd3786"
            ],
            [
             0.5555555555555556,
             "#d8576b"
            ],
            [
             0.6666666666666666,
             "#ed7953"
            ],
            [
             0.7777777777777778,
             "#fb9f3a"
            ],
            [
             0.8888888888888888,
             "#fdca26"
            ],
            [
             1,
             "#f0f921"
            ]
           ],
           "sequentialminus": [
            [
             0,
             "#0d0887"
            ],
            [
             0.1111111111111111,
             "#46039f"
            ],
            [
             0.2222222222222222,
             "#7201a8"
            ],
            [
             0.3333333333333333,
             "#9c179e"
            ],
            [
             0.4444444444444444,
             "#bd3786"
            ],
            [
             0.5555555555555556,
             "#d8576b"
            ],
            [
             0.6666666666666666,
             "#ed7953"
            ],
            [
             0.7777777777777778,
             "#fb9f3a"
            ],
            [
             0.8888888888888888,
             "#fdca26"
            ],
            [
             1,
             "#f0f921"
            ]
           ]
          },
          "colorway": [
           "#636efa",
           "#EF553B",
           "#00cc96",
           "#ab63fa",
           "#FFA15A",
           "#19d3f3",
           "#FF6692",
           "#B6E880",
           "#FF97FF",
           "#FECB52"
          ],
          "font": {
           "color": "#2a3f5f"
          },
          "geo": {
           "bgcolor": "white",
           "lakecolor": "white",
           "landcolor": "#E5ECF6",
           "showlakes": true,
           "showland": true,
           "subunitcolor": "white"
          },
          "hoverlabel": {
           "align": "left"
          },
          "hovermode": "closest",
          "mapbox": {
           "style": "light"
          },
          "paper_bgcolor": "white",
          "plot_bgcolor": "#E5ECF6",
          "polar": {
           "angularaxis": {
            "gridcolor": "white",
            "linecolor": "white",
            "ticks": ""
           },
           "bgcolor": "#E5ECF6",
           "radialaxis": {
            "gridcolor": "white",
            "linecolor": "white",
            "ticks": ""
           }
          },
          "scene": {
           "xaxis": {
            "backgroundcolor": "#E5ECF6",
            "gridcolor": "white",
            "gridwidth": 2,
            "linecolor": "white",
            "showbackground": true,
            "ticks": "",
            "zerolinecolor": "white"
           },
           "yaxis": {
            "backgroundcolor": "#E5ECF6",
            "gridcolor": "white",
            "gridwidth": 2,
            "linecolor": "white",
            "showbackground": true,
            "ticks": "",
            "zerolinecolor": "white"
           },
           "zaxis": {
            "backgroundcolor": "#E5ECF6",
            "gridcolor": "white",
            "gridwidth": 2,
            "linecolor": "white",
            "showbackground": true,
            "ticks": "",
            "zerolinecolor": "white"
           }
          },
          "shapedefaults": {
           "line": {
            "color": "#2a3f5f"
           }
          },
          "ternary": {
           "aaxis": {
            "gridcolor": "white",
            "linecolor": "white",
            "ticks": ""
           },
           "baxis": {
            "gridcolor": "white",
            "linecolor": "white",
            "ticks": ""
           },
           "bgcolor": "#E5ECF6",
           "caxis": {
            "gridcolor": "white",
            "linecolor": "white",
            "ticks": ""
           }
          },
          "title": {
           "x": 0.05
          },
          "xaxis": {
           "automargin": true,
           "gridcolor": "white",
           "linecolor": "white",
           "ticks": "",
           "title": {
            "standoff": 15
           },
           "zerolinecolor": "white",
           "zerolinewidth": 2
          },
          "yaxis": {
           "automargin": true,
           "gridcolor": "white",
           "linecolor": "white",
           "ticks": "",
           "title": {
            "standoff": 15
           },
           "zerolinecolor": "white",
           "zerolinewidth": 2
          }
         }
        },
        "title": {
         "text": "Number of titles per content rating"
        },
        "xaxis": {
         "anchor": "y",
         "domain": [
          0,
          1
         ],
         "title": {
          "text": "content_rating"
         }
        },
        "yaxis": {
         "anchor": "x",
         "domain": [
          0,
          1
         ],
         "title": {
          "text": "title"
         }
        }
       }
      },
      "text/html": [
       "<div>                            <div id=\"d7e8cbd7-0b8e-405d-8ecc-696206f60497\" class=\"plotly-graph-div\" style=\"height:525px; width:100%;\"></div>            <script type=\"text/javascript\">                require([\"plotly\"], function(Plotly) {                    window.PLOTLYENV=window.PLOTLYENV || {};                                    if (document.getElementById(\"d7e8cbd7-0b8e-405d-8ecc-696206f60497\")) {                    Plotly.newPlot(                        \"d7e8cbd7-0b8e-405d-8ecc-696206f60497\",                        [{\"alignmentgroup\":\"True\",\"hovertemplate\":\"content_rating=%{x}<br>title=%{y}<extra></extra>\",\"legendgroup\":\"\",\"marker\":{\"color\":\"#636efa\",\"pattern\":{\"shape\":\"\"}},\"name\":\"\",\"offsetgroup\":\"\",\"orientation\":\"v\",\"showlegend\":false,\"textposition\":\"auto\",\"x\":[\"APPROVED\",\"G\",\"GP\",\"NC-17\",\"NOT RATED\",\"PASSED\",\"PG\",\"PG-13\",\"R\",\"TV-MA\",\"UNRATED\",\"X\",\"nan\"],\"xaxis\":\"x\",\"y\":[47,32,3,7,65,7,123,189,460,1,38,4,3],\"yaxis\":\"y\",\"type\":\"bar\"}],                        {\"template\":{\"data\":{\"bar\":[{\"error_x\":{\"color\":\"#2a3f5f\"},\"error_y\":{\"color\":\"#2a3f5f\"},\"marker\":{\"line\":{\"color\":\"#E5ECF6\",\"width\":0.5},\"pattern\":{\"fillmode\":\"overlay\",\"size\":10,\"solidity\":0.2}},\"type\":\"bar\"}],\"barpolar\":[{\"marker\":{\"line\":{\"color\":\"#E5ECF6\",\"width\":0.5},\"pattern\":{\"fillmode\":\"overlay\",\"size\":10,\"solidity\":0.2}},\"type\":\"barpolar\"}],\"carpet\":[{\"aaxis\":{\"endlinecolor\":\"#2a3f5f\",\"gridcolor\":\"white\",\"linecolor\":\"white\",\"minorgridcolor\":\"white\",\"startlinecolor\":\"#2a3f5f\"},\"baxis\":{\"endlinecolor\":\"#2a3f5f\",\"gridcolor\":\"white\",\"linecolor\":\"white\",\"minorgridcolor\":\"white\",\"startlinecolor\":\"#2a3f5f\"},\"type\":\"carpet\"}],\"choropleth\":[{\"colorbar\":{\"outlinewidth\":0,\"ticks\":\"\"},\"type\":\"choropleth\"}],\"contour\":[{\"colorbar\":{\"outlinewidth\":0,\"ticks\":\"\"},\"colorscale\":[[0.0,\"#0d0887\"],[0.1111111111111111,\"#46039f\"],[0.2222222222222222,\"#7201a8\"],[0.3333333333333333,\"#9c179e\"],[0.4444444444444444,\"#bd3786\"],[0.5555555555555556,\"#d8576b\"],[0.6666666666666666,\"#ed7953\"],[0.7777777777777778,\"#fb9f3a\"],[0.8888888888888888,\"#fdca26\"],[1.0,\"#f0f921\"]],\"type\":\"contour\"}],\"contourcarpet\":[{\"colorbar\":{\"outlinewidth\":0,\"ticks\":\"\"},\"type\":\"contourcarpet\"}],\"heatmap\":[{\"colorbar\":{\"outlinewidth\":0,\"ticks\":\"\"},\"colorscale\":[[0.0,\"#0d0887\"],[0.1111111111111111,\"#46039f\"],[0.2222222222222222,\"#7201a8\"],[0.3333333333333333,\"#9c179e\"],[0.4444444444444444,\"#bd3786\"],[0.5555555555555556,\"#d8576b\"],[0.6666666666666666,\"#ed7953\"],[0.7777777777777778,\"#fb9f3a\"],[0.8888888888888888,\"#fdca26\"],[1.0,\"#f0f921\"]],\"type\":\"heatmap\"}],\"heatmapgl\":[{\"colorbar\":{\"outlinewidth\":0,\"ticks\":\"\"},\"colorscale\":[[0.0,\"#0d0887\"],[0.1111111111111111,\"#46039f\"],[0.2222222222222222,\"#7201a8\"],[0.3333333333333333,\"#9c179e\"],[0.4444444444444444,\"#bd3786\"],[0.5555555555555556,\"#d8576b\"],[0.6666666666666666,\"#ed7953\"],[0.7777777777777778,\"#fb9f3a\"],[0.8888888888888888,\"#fdca26\"],[1.0,\"#f0f921\"]],\"type\":\"heatmapgl\"}],\"histogram\":[{\"marker\":{\"pattern\":{\"fillmode\":\"overlay\",\"size\":10,\"solidity\":0.2}},\"type\":\"histogram\"}],\"histogram2d\":[{\"colorbar\":{\"outlinewidth\":0,\"ticks\":\"\"},\"colorscale\":[[0.0,\"#0d0887\"],[0.1111111111111111,\"#46039f\"],[0.2222222222222222,\"#7201a8\"],[0.3333333333333333,\"#9c179e\"],[0.4444444444444444,\"#bd3786\"],[0.5555555555555556,\"#d8576b\"],[0.6666666666666666,\"#ed7953\"],[0.7777777777777778,\"#fb9f3a\"],[0.8888888888888888,\"#fdca26\"],[1.0,\"#f0f921\"]],\"type\":\"histogram2d\"}],\"histogram2dcontour\":[{\"colorbar\":{\"outlinewidth\":0,\"ticks\":\"\"},\"colorscale\":[[0.0,\"#0d0887\"],[0.1111111111111111,\"#46039f\"],[0.2222222222222222,\"#7201a8\"],[0.3333333333333333,\"#9c179e\"],[0.4444444444444444,\"#bd3786\"],[0.5555555555555556,\"#d8576b\"],[0.6666666666666666,\"#ed7953\"],[0.7777777777777778,\"#fb9f3a\"],[0.8888888888888888,\"#fdca26\"],[1.0,\"#f0f921\"]],\"type\":\"histogram2dcontour\"}],\"mesh3d\":[{\"colorbar\":{\"outlinewidth\":0,\"ticks\":\"\"},\"type\":\"mesh3d\"}],\"parcoords\":[{\"line\":{\"colorbar\":{\"outlinewidth\":0,\"ticks\":\"\"}},\"type\":\"parcoords\"}],\"pie\":[{\"automargin\":true,\"type\":\"pie\"}],\"scatter\":[{\"marker\":{\"colorbar\":{\"outlinewidth\":0,\"ticks\":\"\"}},\"type\":\"scatter\"}],\"scatter3d\":[{\"line\":{\"colorbar\":{\"outlinewidth\":0,\"ticks\":\"\"}},\"marker\":{\"colorbar\":{\"outlinewidth\":0,\"ticks\":\"\"}},\"type\":\"scatter3d\"}],\"scattercarpet\":[{\"marker\":{\"colorbar\":{\"outlinewidth\":0,\"ticks\":\"\"}},\"type\":\"scattercarpet\"}],\"scattergeo\":[{\"marker\":{\"colorbar\":{\"outlinewidth\":0,\"ticks\":\"\"}},\"type\":\"scattergeo\"}],\"scattergl\":[{\"marker\":{\"colorbar\":{\"outlinewidth\":0,\"ticks\":\"\"}},\"type\":\"scattergl\"}],\"scattermapbox\":[{\"marker\":{\"colorbar\":{\"outlinewidth\":0,\"ticks\":\"\"}},\"type\":\"scattermapbox\"}],\"scatterpolar\":[{\"marker\":{\"colorbar\":{\"outlinewidth\":0,\"ticks\":\"\"}},\"type\":\"scatterpolar\"}],\"scatterpolargl\":[{\"marker\":{\"colorbar\":{\"outlinewidth\":0,\"ticks\":\"\"}},\"type\":\"scatterpolargl\"}],\"scatterternary\":[{\"marker\":{\"colorbar\":{\"outlinewidth\":0,\"ticks\":\"\"}},\"type\":\"scatterternary\"}],\"surface\":[{\"colorbar\":{\"outlinewidth\":0,\"ticks\":\"\"},\"colorscale\":[[0.0,\"#0d0887\"],[0.1111111111111111,\"#46039f\"],[0.2222222222222222,\"#7201a8\"],[0.3333333333333333,\"#9c179e\"],[0.4444444444444444,\"#bd3786\"],[0.5555555555555556,\"#d8576b\"],[0.6666666666666666,\"#ed7953\"],[0.7777777777777778,\"#fb9f3a\"],[0.8888888888888888,\"#fdca26\"],[1.0,\"#f0f921\"]],\"type\":\"surface\"}],\"table\":[{\"cells\":{\"fill\":{\"color\":\"#EBF0F8\"},\"line\":{\"color\":\"white\"}},\"header\":{\"fill\":{\"color\":\"#C8D4E3\"},\"line\":{\"color\":\"white\"}},\"type\":\"table\"}]},\"layout\":{\"annotationdefaults\":{\"arrowcolor\":\"#2a3f5f\",\"arrowhead\":0,\"arrowwidth\":1},\"autotypenumbers\":\"strict\",\"coloraxis\":{\"colorbar\":{\"outlinewidth\":0,\"ticks\":\"\"}},\"colorscale\":{\"diverging\":[[0,\"#8e0152\"],[0.1,\"#c51b7d\"],[0.2,\"#de77ae\"],[0.3,\"#f1b6da\"],[0.4,\"#fde0ef\"],[0.5,\"#f7f7f7\"],[0.6,\"#e6f5d0\"],[0.7,\"#b8e186\"],[0.8,\"#7fbc41\"],[0.9,\"#4d9221\"],[1,\"#276419\"]],\"sequential\":[[0.0,\"#0d0887\"],[0.1111111111111111,\"#46039f\"],[0.2222222222222222,\"#7201a8\"],[0.3333333333333333,\"#9c179e\"],[0.4444444444444444,\"#bd3786\"],[0.5555555555555556,\"#d8576b\"],[0.6666666666666666,\"#ed7953\"],[0.7777777777777778,\"#fb9f3a\"],[0.8888888888888888,\"#fdca26\"],[1.0,\"#f0f921\"]],\"sequentialminus\":[[0.0,\"#0d0887\"],[0.1111111111111111,\"#46039f\"],[0.2222222222222222,\"#7201a8\"],[0.3333333333333333,\"#9c179e\"],[0.4444444444444444,\"#bd3786\"],[0.5555555555555556,\"#d8576b\"],[0.6666666666666666,\"#ed7953\"],[0.7777777777777778,\"#fb9f3a\"],[0.8888888888888888,\"#fdca26\"],[1.0,\"#f0f921\"]]},\"colorway\":[\"#636efa\",\"#EF553B\",\"#00cc96\",\"#ab63fa\",\"#FFA15A\",\"#19d3f3\",\"#FF6692\",\"#B6E880\",\"#FF97FF\",\"#FECB52\"],\"font\":{\"color\":\"#2a3f5f\"},\"geo\":{\"bgcolor\":\"white\",\"lakecolor\":\"white\",\"landcolor\":\"#E5ECF6\",\"showlakes\":true,\"showland\":true,\"subunitcolor\":\"white\"},\"hoverlabel\":{\"align\":\"left\"},\"hovermode\":\"closest\",\"mapbox\":{\"style\":\"light\"},\"paper_bgcolor\":\"white\",\"plot_bgcolor\":\"#E5ECF6\",\"polar\":{\"angularaxis\":{\"gridcolor\":\"white\",\"linecolor\":\"white\",\"ticks\":\"\"},\"bgcolor\":\"#E5ECF6\",\"radialaxis\":{\"gridcolor\":\"white\",\"linecolor\":\"white\",\"ticks\":\"\"}},\"scene\":{\"xaxis\":{\"backgroundcolor\":\"#E5ECF6\",\"gridcolor\":\"white\",\"gridwidth\":2,\"linecolor\":\"white\",\"showbackground\":true,\"ticks\":\"\",\"zerolinecolor\":\"white\"},\"yaxis\":{\"backgroundcolor\":\"#E5ECF6\",\"gridcolor\":\"white\",\"gridwidth\":2,\"linecolor\":\"white\",\"showbackground\":true,\"ticks\":\"\",\"zerolinecolor\":\"white\"},\"zaxis\":{\"backgroundcolor\":\"#E5ECF6\",\"gridcolor\":\"white\",\"gridwidth\":2,\"linecolor\":\"white\",\"showbackground\":true,\"ticks\":\"\",\"zerolinecolor\":\"white\"}},\"shapedefaults\":{\"line\":{\"color\":\"#2a3f5f\"}},\"ternary\":{\"aaxis\":{\"gridcolor\":\"white\",\"linecolor\":\"white\",\"ticks\":\"\"},\"baxis\":{\"gridcolor\":\"white\",\"linecolor\":\"white\",\"ticks\":\"\"},\"bgcolor\":\"#E5ECF6\",\"caxis\":{\"gridcolor\":\"white\",\"linecolor\":\"white\",\"ticks\":\"\"}},\"title\":{\"x\":0.05},\"xaxis\":{\"automargin\":true,\"gridcolor\":\"white\",\"linecolor\":\"white\",\"ticks\":\"\",\"title\":{\"standoff\":15},\"zerolinecolor\":\"white\",\"zerolinewidth\":2},\"yaxis\":{\"automargin\":true,\"gridcolor\":\"white\",\"linecolor\":\"white\",\"ticks\":\"\",\"title\":{\"standoff\":15},\"zerolinecolor\":\"white\",\"zerolinewidth\":2}}},\"xaxis\":{\"anchor\":\"y\",\"domain\":[0.0,1.0],\"title\":{\"text\":\"content_rating\"}},\"yaxis\":{\"anchor\":\"x\",\"domain\":[0.0,1.0],\"title\":{\"text\":\"title\"}},\"legend\":{\"tracegroupgap\":0},\"title\":{\"text\":\"Number of titles per content rating\"},\"barmode\":\"relative\"},                        {\"responsive\": true}                    ).then(function(){\n",
       "                            \n",
       "var gd = document.getElementById('d7e8cbd7-0b8e-405d-8ecc-696206f60497');\n",
       "var x = new MutationObserver(function (mutations, observer) {{\n",
       "        var display = window.getComputedStyle(gd).display;\n",
       "        if (!display || display === 'none') {{\n",
       "            console.log([gd, 'removed!']);\n",
       "            Plotly.purge(gd);\n",
       "            observer.disconnect();\n",
       "        }}\n",
       "}});\n",
       "\n",
       "// Listen for the removal of the full notebook cells\n",
       "var notebookContainer = gd.closest('#notebook-container');\n",
       "if (notebookContainer) {{\n",
       "    x.observe(notebookContainer, {childList: true});\n",
       "}}\n",
       "\n",
       "// Listen for the clearing of the current output cell\n",
       "var outputEl = gd.closest('.output');\n",
       "if (outputEl) {{\n",
       "    x.observe(outputEl, {childList: true});\n",
       "}}\n",
       "\n",
       "                        })                };                });            </script>        </div>"
      ]
     },
     "metadata": {},
     "output_type": "display_data"
    }
   ],
   "source": [
    "# Answer:\n",
    "px.bar(data, x='content_rating', y='title', title='Number of titles per content rating')"
   ]
  },
  {
   "cell_type": "markdown",
   "metadata": {},
   "source": [
    "#### Convert the following content ratings to \"UNRATED\": NOT RATED, APPROVED, PASSED, GP."
   ]
  },
  {
   "cell_type": "code",
   "execution_count": 202,
   "metadata": {},
   "outputs": [
    {
     "data": {
      "text/html": [
       "<div>\n",
       "<style scoped>\n",
       "    .dataframe tbody tr th:only-of-type {\n",
       "        vertical-align: middle;\n",
       "    }\n",
       "\n",
       "    .dataframe tbody tr th {\n",
       "        vertical-align: top;\n",
       "    }\n",
       "\n",
       "    .dataframe thead th {\n",
       "        text-align: right;\n",
       "    }\n",
       "</style>\n",
       "<table border=\"1\" class=\"dataframe\">\n",
       "  <thead>\n",
       "    <tr style=\"text-align: right;\">\n",
       "      <th></th>\n",
       "      <th>content_rating</th>\n",
       "      <th>title</th>\n",
       "    </tr>\n",
       "  </thead>\n",
       "  <tbody>\n",
       "    <tr>\n",
       "      <th>0</th>\n",
       "      <td>G</td>\n",
       "      <td>32</td>\n",
       "    </tr>\n",
       "    <tr>\n",
       "      <th>1</th>\n",
       "      <td>NC-17</td>\n",
       "      <td>7</td>\n",
       "    </tr>\n",
       "    <tr>\n",
       "      <th>2</th>\n",
       "      <td>PG</td>\n",
       "      <td>123</td>\n",
       "    </tr>\n",
       "    <tr>\n",
       "      <th>3</th>\n",
       "      <td>PG-13</td>\n",
       "      <td>189</td>\n",
       "    </tr>\n",
       "    <tr>\n",
       "      <th>4</th>\n",
       "      <td>R</td>\n",
       "      <td>460</td>\n",
       "    </tr>\n",
       "    <tr>\n",
       "      <th>5</th>\n",
       "      <td>TV-MA</td>\n",
       "      <td>1</td>\n",
       "    </tr>\n",
       "    <tr>\n",
       "      <th>6</th>\n",
       "      <td>UNRATED</td>\n",
       "      <td>160</td>\n",
       "    </tr>\n",
       "    <tr>\n",
       "      <th>7</th>\n",
       "      <td>X</td>\n",
       "      <td>4</td>\n",
       "    </tr>\n",
       "    <tr>\n",
       "      <th>8</th>\n",
       "      <td>nan</td>\n",
       "      <td>3</td>\n",
       "    </tr>\n",
       "  </tbody>\n",
       "</table>\n",
       "</div>"
      ],
      "text/plain": [
       "  content_rating  title\n",
       "0              G     32\n",
       "1          NC-17      7\n",
       "2             PG    123\n",
       "3          PG-13    189\n",
       "4              R    460\n",
       "5          TV-MA      1\n",
       "6        UNRATED    160\n",
       "7              X      4\n",
       "8            nan      3"
      ]
     },
     "execution_count": 202,
     "metadata": {},
     "output_type": "execute_result"
    }
   ],
   "source": [
    "# Answer:\n",
    "movies['content_rating'] = movies['content_rating'].astype(str)\n",
    "movies['content_rating'] = [x.replace('NOT RATED', 'UNRATED') for x in movies['content_rating']]\n",
    "movies['content_rating'] = [x.replace('GP', 'UNRATED') for x in movies['content_rating']]\n",
    "movies['content_rating'] = [x.replace('APPROVED', 'UNRATED') for x in movies['content_rating']]\n",
    "movies['content_rating'] = [x.replace('PASSED', 'UNRATED') for x in movies['content_rating']]\n",
    "movies.groupby('content_rating')['title'].count().reset_index()\n"
   ]
  },
  {
   "cell_type": "markdown",
   "metadata": {},
   "source": [
<<<<<<< HEAD
    "**Jonathan's Note:** Pandas actually has a `replace` method that would allow you to do this with one line."
   ]
  },
  {
   "cell_type": "markdown",
   "metadata": {},
   "source": [
=======
>>>>>>> 47b2484ce0a32c8c37275f0354207e26eb222815
    "#### Convert the following content ratings to \"NC-17\": X, TV-MA."
   ]
  },
  {
   "cell_type": "code",
   "execution_count": 203,
   "metadata": {},
   "outputs": [
    {
     "data": {
      "text/html": [
       "<div>\n",
       "<style scoped>\n",
       "    .dataframe tbody tr th:only-of-type {\n",
       "        vertical-align: middle;\n",
       "    }\n",
       "\n",
       "    .dataframe tbody tr th {\n",
       "        vertical-align: top;\n",
       "    }\n",
       "\n",
       "    .dataframe thead th {\n",
       "        text-align: right;\n",
       "    }\n",
       "</style>\n",
       "<table border=\"1\" class=\"dataframe\">\n",
       "  <thead>\n",
       "    <tr style=\"text-align: right;\">\n",
       "      <th></th>\n",
       "      <th>content_rating</th>\n",
       "      <th>title</th>\n",
       "    </tr>\n",
       "  </thead>\n",
       "  <tbody>\n",
       "    <tr>\n",
       "      <th>0</th>\n",
       "      <td>G</td>\n",
       "      <td>32</td>\n",
       "    </tr>\n",
       "    <tr>\n",
       "      <th>1</th>\n",
       "      <td>NC-17</td>\n",
       "      <td>12</td>\n",
       "    </tr>\n",
       "    <tr>\n",
       "      <th>2</th>\n",
       "      <td>PG</td>\n",
       "      <td>123</td>\n",
       "    </tr>\n",
       "    <tr>\n",
       "      <th>3</th>\n",
       "      <td>PG-13</td>\n",
       "      <td>189</td>\n",
       "    </tr>\n",
       "    <tr>\n",
       "      <th>4</th>\n",
       "      <td>R</td>\n",
       "      <td>460</td>\n",
       "    </tr>\n",
       "    <tr>\n",
       "      <th>5</th>\n",
       "      <td>UNRATED</td>\n",
       "      <td>160</td>\n",
       "    </tr>\n",
       "    <tr>\n",
       "      <th>6</th>\n",
       "      <td>nan</td>\n",
       "      <td>3</td>\n",
       "    </tr>\n",
       "  </tbody>\n",
       "</table>\n",
       "</div>"
      ],
      "text/plain": [
       "  content_rating  title\n",
       "0              G     32\n",
       "1          NC-17     12\n",
       "2             PG    123\n",
       "3          PG-13    189\n",
       "4              R    460\n",
       "5        UNRATED    160\n",
       "6            nan      3"
      ]
     },
     "execution_count": 203,
     "metadata": {},
     "output_type": "execute_result"
    }
   ],
   "source": [
    "# Answer:\n",
    "movies['content_rating'] = [x.replace('X', 'NC-17') for x in movies['content_rating']]\n",
    "movies['content_rating'] = [x.replace('TV-MA', 'NC-17') for x in movies['content_rating']]\n",
    "movies.groupby('content_rating')['title'].count().reset_index()"
   ]
  },
  {
   "cell_type": "markdown",
   "metadata": {},
   "source": [
    "#### Count the number of missing values in each column."
   ]
  },
  {
   "cell_type": "code",
   "execution_count": 219,
   "metadata": {},
   "outputs": [
    {
     "data": {
      "text/plain": [
       "star_rating       0\n",
       "title             0\n",
       "content_rating    0\n",
       "genre             0\n",
       "duration          0\n",
       "actors_list       0\n",
       "dtype: int64"
      ]
     },
     "execution_count": 219,
     "metadata": {},
     "output_type": "execute_result"
    }
   ],
   "source": [
    "# Answer:\n",
    "movies.isnull().sum()\n"
   ]
  },
  {
   "cell_type": "markdown",
   "metadata": {},
   "source": [
    "#### If there are missing values: examine them, then fill them in with \"reasonable\" values."
   ]
  },
  {
   "cell_type": "code",
   "execution_count": 247,
   "metadata": {},
   "outputs": [],
   "source": [
    "# Answer:\n",
    "\n",
    "movies.loc[movies.content_rating == 'nan', 'title']\n",
    "movies.at[187,'content_rating']='PG'\n",
    "movies.at[649,'content_rating']='PG'\n",
    "movies.at[936,'content_rating']='PG-13'\n",
    "\n"
   ]
  },
  {
   "cell_type": "markdown",
   "metadata": {},
   "source": [
    "#### Calculate the average star rating for movies 2 hours or longer, and compare that with the average star rating for movies shorter than 2 hours."
   ]
  },
  {
   "cell_type": "code",
   "execution_count": 331,
<<<<<<< HEAD
   "metadata": {
    "scrolled": true
   },
=======
   "metadata": {},
>>>>>>> 47b2484ce0a32c8c37275f0354207e26eb222815
   "outputs": [
    {
     "name": "stdout",
     "output_type": "stream",
     "text": [
      "duration_type\n",
      "Long     7.948899\n",
      "Short    7.838667\n",
      "Name: star_rating, dtype: float64\n",
      "duration_type\n",
      "Long          NaN\n",
      "Short   -0.110232\n",
      "Name: star_rating, dtype: float64\n"
     ]
    }
   ],
   "source": [
    "# Answer:\n",
    "conditions= [movies['duration']<120, movies['duration']>=120]\n",
    "results = ['Short','Long']\n",
    "movies['duration_type']=np.select(conditions, results, 'other')\n",
    "print(movies.groupby('duration_type')['star_rating'].mean())\n",
    "print(movies.groupby('duration_type')['star_rating'].mean().diff())\n",
    "\n"
   ]
  },
  {
   "cell_type": "markdown",
   "metadata": {},
   "source": [
<<<<<<< HEAD
    "**Jonathan's Note:** Nice job doing the grouping to get the answer.  Note that if you are creating a two value column you can use np.where as well."
   ]
  },
  {
   "cell_type": "markdown",
   "metadata": {},
   "source": [
=======
>>>>>>> 47b2484ce0a32c8c37275f0354207e26eb222815
    "#### Use a visualization to detect whether there is a relationship between duration and star rating."
   ]
  },
  {
   "cell_type": "code",
   "execution_count": 316,
   "metadata": {},
   "outputs": [
    {
     "data": {
      "application/vnd.plotly.v1+json": {
       "config": {
        "plotlyServerURL": "https://plot.ly"
       },
       "data": [
        {
         "alignmentgroup": "True",
         "hovertemplate": "star_rating=%{x}<br>duration=%{y}<extra></extra>",
         "legendgroup": "",
         "marker": {
          "color": "#636efa"
         },
         "name": "",
         "notched": false,
         "offsetgroup": "",
         "orientation": "v",
         "showlegend": false,
         "type": "box",
         "x": [
          9.3,
          9.2,
          9.1,
          9,
          8.9,
          8.9,
          8.9,
          8.9,
          8.9,
          8.9,
          8.8,
          8.8,
          8.8,
          8.8,
          8.8,
          8.7,
          8.7,
          8.7,
          8.7,
          8.7,
          8.7,
          8.7,
          8.7,
          8.7,
          8.7,
          8.6,
          8.6,
          8.6,
          8.6,
          8.6,
          8.6,
          8.6,
          8.6,
          8.6,
          8.6,
          8.6,
          8.6,
          8.6,
          8.6,
          8.6,
          8.5,
          8.5,
          8.5,
          8.5,
          8.5,
          8.5,
          8.5,
          8.5,
          8.5,
          8.5,
          8.5,
          8.5,
          8.5,
          8.5,
          8.5,
          8.5,
          8.5,
          8.5,
          8.5,
          8.5,
          8.5,
          8.5,
          8.5,
          8.4,
          8.4,
          8.4,
          8.4,
          8.4,
          8.4,
          8.4,
          8.4,
          8.4,
          8.4,
          8.4,
          8.4,
          8.4,
          8.4,
          8.4,
          8.4,
          8.4,
          8.4,
          8.4,
          8.4,
          8.4,
          8.4,
          8.4,
          8.4,
          8.4,
          8.4,
          8.4,
          8.4,
          8.4,
          8.4,
          8.4,
          8.4,
          8.4,
          8.4,
          8.4,
          8.4,
          8.4,
          8.3,
          8.3,
          8.3,
          8.3,
          8.3,
          8.3,
          8.3,
          8.3,
          8.3,
          8.3,
          8.3,
          8.3,
          8.3,
          8.3,
          8.3,
          8.3,
          8.3,
          8.3,
          8.3,
          8.3,
          8.3,
          8.3,
          8.3,
          8.3,
          8.3,
          8.3,
          8.3,
          8.3,
          8.3,
          8.3,
          8.3,
          8.3,
          8.3,
          8.3,
          8.3,
          8.3,
          8.3,
          8.3,
          8.3,
          8.3,
          8.3,
          8.3,
          8.3,
          8.2,
          8.2,
          8.2,
          8.2,
          8.2,
          8.2,
          8.2,
          8.2,
          8.2,
          8.2,
          8.2,
          8.2,
          8.2,
          8.2,
          8.2,
          8.2,
          8.2,
          8.2,
          8.2,
          8.2,
          8.2,
          8.2,
          8.2,
          8.2,
          8.2,
          8.2,
          8.2,
          8.2,
          8.2,
          8.2,
          8.2,
          8.2,
          8.2,
          8.2,
          8.2,
          8.2,
          8.2,
          8.2,
          8.2,
          8.2,
          8.2,
          8.2,
          8.2,
          8.2,
          8.2,
          8.2,
          8.2,
          8.2,
          8.2,
          8.2,
          8.2,
          8.1,
          8.1,
          8.1,
          8.1,
          8.1,
          8.1,
          8.1,
          8.1,
          8.1,
          8.1,
          8.1,
          8.1,
          8.1,
          8.1,
          8.1,
          8.1,
          8.1,
          8.1,
          8.1,
          8.1,
          8.1,
          8.1,
          8.1,
          8.1,
          8.1,
          8.1,
          8.1,
          8.1,
          8.1,
          8.1,
          8.1,
          8.1,
          8.1,
          8.1,
          8.1,
          8.1,
          8.1,
          8.1,
          8.1,
          8.1,
          8.1,
          8.1,
          8.1,
          8.1,
          8.1,
          8.1,
          8.1,
          8.1,
          8.1,
          8.1,
          8.1,
          8.1,
          8.1,
          8.1,
          8.1,
          8.1,
          8.1,
          8.1,
          8.1,
          8.1,
          8.1,
          8.1,
          8.1,
          8.1,
          8.1,
          8.1,
          8.1,
          8.1,
          8.1,
          8.1,
          8.1,
          8.1,
          8.1,
          8.1,
          8.1,
          8.1,
          8.1,
          8.1,
          8.1,
          8.1,
          8.1,
          8.1,
          8.1,
          8.1,
          8.1,
          8.1,
          8.1,
          8.1,
          8.1,
          8.1,
          8.1,
          8.1,
          8.1,
          8.1,
          8.1,
          8.1,
          8.1,
          8.1,
          8.1,
          8.1,
          8.1,
          8.1,
          8.1,
          8,
          8,
          8,
          8,
          8,
          8,
          8,
          8,
          8,
          8,
          8,
          8,
          8,
          8,
          8,
          8,
          8,
          8,
          8,
          8,
          8,
          8,
          8,
          8,
          8,
          8,
          8,
          8,
          8,
          8,
          8,
          8,
          8,
          8,
          8,
          8,
          8,
          8,
          8,
          8,
          8,
          8,
          8,
          8,
          8,
          8,
          8,
          8,
          8,
          8,
          8,
          8,
          8,
          8,
          8,
          8,
          8,
          8,
          8,
          8,
          8,
          8,
          8,
          8,
          8,
          8,
          8,
          8,
          8,
          8,
          8,
          8,
          8,
          8,
          8,
          8,
          8,
          8,
          8,
          8,
          8,
          8,
          8,
          8,
          8,
          8,
          8,
          8,
          8,
          8,
          8,
          8,
          8,
          8,
          8,
          8,
          8,
          7.9,
          7.9,
          7.9,
          7.9,
          7.9,
          7.9,
          7.9,
          7.9,
          7.9,
          7.9,
          7.9,
          7.9,
          7.9,
          7.9,
          7.9,
          7.9,
          7.9,
          7.9,
          7.9,
          7.9,
          7.9,
          7.9,
          7.9,
          7.9,
          7.9,
          7.9,
          7.9,
          7.9,
          7.9,
          7.9,
          7.9,
          7.9,
          7.9,
          7.9,
          7.9,
          7.9,
          7.9,
          7.9,
          7.9,
          7.9,
          7.9,
          7.9,
          7.9,
          7.9,
          7.9,
          7.9,
          7.9,
          7.9,
          7.9,
          7.9,
          7.9,
          7.9,
          7.9,
          7.9,
          7.9,
          7.9,
          7.9,
          7.9,
          7.9,
          7.9,
          7.9,
          7.9,
          7.9,
          7.9,
          7.9,
          7.9,
          7.9,
          7.9,
          7.9,
          7.9,
          7.9,
          7.9,
          7.9,
          7.9,
          7.9,
          7.8,
          7.8,
          7.8,
          7.8,
          7.8,
          7.8,
          7.8,
          7.8,
          7.8,
          7.8,
          7.8,
          7.8,
          7.8,
          7.8,
          7.8,
          7.8,
          7.8,
          7.8,
          7.8,
          7.8,
          7.8,
          7.8,
          7.8,
          7.8,
          7.8,
          7.8,
          7.8,
          7.8,
          7.8,
          7.8,
          7.8,
          7.8,
          7.8,
          7.8,
          7.8,
          7.8,
          7.8,
          7.8,
          7.8,
          7.8,
          7.8,
          7.8,
          7.8,
          7.8,
          7.8,
          7.8,
          7.8,
          7.8,
          7.8,
          7.8,
          7.8,
          7.8,
          7.8,
          7.8,
          7.8,
          7.8,
          7.8,
          7.8,
          7.8,
          7.8,
          7.8,
          7.8,
          7.8,
          7.8,
          7.8,
          7.8,
          7.8,
          7.8,
          7.8,
          7.8,
          7.8,
          7.8,
          7.8,
          7.8,
          7.8,
          7.8,
          7.8,
          7.8,
          7.8,
          7.8,
          7.8,
          7.8,
          7.8,
          7.8,
          7.8,
          7.8,
          7.8,
          7.8,
          7.8,
          7.8,
          7.8,
          7.8,
          7.8,
          7.8,
          7.8,
          7.8,
          7.8,
          7.8,
          7.8,
          7.8,
          7.8,
          7.8,
          7.8,
          7.8,
          7.8,
          7.8,
          7.8,
          7.8,
          7.8,
          7.8,
          7.8,
          7.8,
          7.8,
          7.8,
          7.8,
          7.8,
          7.7,
          7.7,
          7.7,
          7.7,
          7.7,
          7.7,
          7.7,
          7.7,
          7.7,
          7.7,
          7.7,
          7.7,
          7.7,
          7.7,
          7.7,
          7.7,
          7.7,
          7.7,
          7.7,
          7.7,
          7.7,
          7.7,
          7.7,
          7.7,
          7.7,
          7.7,
          7.7,
          7.7,
          7.7,
          7.7,
          7.7,
          7.7,
          7.7,
          7.7,
          7.7,
          7.7,
          7.7,
          7.7,
          7.7,
          7.7,
          7.7,
          7.7,
          7.7,
          7.7,
          7.7,
          7.7,
          7.7,
          7.7,
          7.7,
          7.7,
          7.7,
          7.7,
          7.7,
          7.7,
          7.7,
          7.7,
          7.7,
          7.7,
          7.7,
          7.7,
          7.7,
          7.7,
          7.7,
          7.7,
          7.7,
          7.7,
          7.7,
          7.7,
          7.7,
          7.7,
          7.7,
          7.7,
          7.7,
          7.7,
          7.7,
          7.7,
          7.7,
          7.7,
          7.7,
          7.7,
          7.7,
          7.7,
          7.7,
          7.7,
          7.7,
          7.7,
          7.7,
          7.7,
          7.7,
          7.7,
          7.7,
          7.7,
          7.7,
          7.7,
          7.7,
          7.7,
          7.7,
          7.7,
          7.7,
          7.7,
          7.7,
          7.7,
          7.7,
          7.7,
          7.7,
          7.7,
          7.7,
          7.7,
          7.7,
          7.7,
          7.7,
          7.7,
          7.7,
          7.6,
          7.6,
          7.6,
          7.6,
          7.6,
          7.6,
          7.6,
          7.6,
          7.6,
          7.6,
          7.6,
          7.6,
          7.6,
          7.6,
          7.6,
          7.6,
          7.6,
          7.6,
          7.6,
          7.6,
          7.6,
          7.6,
          7.6,
          7.6,
          7.6,
          7.6,
          7.6,
          7.6,
          7.6,
          7.6,
          7.6,
          7.6,
          7.6,
          7.6,
          7.6,
          7.6,
          7.6,
          7.6,
          7.6,
          7.6,
          7.6,
          7.6,
          7.6,
          7.6,
          7.6,
          7.6,
          7.6,
          7.6,
          7.6,
          7.6,
          7.6,
          7.6,
          7.6,
          7.6,
          7.6,
          7.6,
          7.6,
          7.6,
          7.6,
          7.6,
          7.6,
          7.6,
          7.6,
          7.6,
          7.6,
          7.6,
          7.6,
          7.6,
          7.6,
          7.6,
          7.6,
          7.6,
          7.6,
          7.6,
          7.6,
          7.6,
          7.6,
          7.6,
          7.6,
          7.6,
          7.6,
          7.6,
          7.6,
          7.6,
          7.6,
          7.6,
          7.6,
          7.6,
          7.6,
          7.6,
          7.6,
          7.6,
          7.6,
          7.6,
          7.6,
          7.6,
          7.6,
          7.6,
          7.6,
          7.6,
          7.6,
          7.6,
          7.6,
          7.6,
          7.6,
          7.6,
          7.6,
          7.6,
          7.6,
          7.6,
          7.6,
          7.6,
          7.6,
          7.6,
          7.6,
          7.6,
          7.6,
          7.6,
          7.6,
          7.6,
          7.6,
          7.6,
          7.6,
          7.6,
          7.5,
          7.5,
          7.5,
          7.5,
          7.5,
          7.5,
          7.5,
          7.5,
          7.5,
          7.5,
          7.5,
          7.5,
          7.5,
          7.5,
          7.5,
          7.5,
          7.5,
          7.5,
          7.5,
          7.5,
          7.5,
          7.5,
          7.5,
          7.5,
          7.5,
          7.5,
          7.5,
          7.5,
          7.5,
          7.5,
          7.5,
          7.5,
          7.5,
          7.5,
          7.5,
          7.5,
          7.5,
          7.5,
          7.5,
          7.5,
          7.5,
          7.5,
          7.5,
          7.5,
          7.5,
          7.5,
          7.5,
          7.5,
          7.5,
          7.5,
          7.5,
          7.5,
          7.5,
          7.5,
          7.5,
          7.5,
          7.5,
          7.5,
          7.5,
          7.5,
          7.5,
          7.5,
          7.5,
          7.5,
          7.5,
          7.5,
          7.5,
          7.5,
          7.5,
          7.5,
          7.5,
          7.5,
          7.5,
          7.5,
          7.5,
          7.5,
          7.5,
          7.5,
          7.5,
          7.5,
          7.5,
          7.5,
          7.5,
          7.5,
          7.5,
          7.5,
          7.5,
          7.5,
          7.5,
          7.5,
          7.5,
          7.5,
          7.5,
          7.5,
          7.5,
          7.5,
          7.5,
          7.5,
          7.5,
          7.5,
          7.5,
          7.5,
          7.5,
          7.5,
          7.5,
          7.5,
          7.5,
          7.5,
          7.4,
          7.4,
          7.4,
          7.4,
          7.4,
          7.4,
          7.4,
          7.4,
          7.4,
          7.4,
          7.4,
          7.4,
          7.4,
          7.4,
          7.4,
          7.4,
          7.4,
          7.4,
          7.4,
          7.4,
          7.4,
          7.4,
          7.4,
          7.4,
          7.4,
          7.4,
          7.4,
          7.4,
          7.4,
          7.4,
          7.4,
          7.4,
          7.4,
          7.4,
          7.4,
          7.4,
          7.4,
          7.4,
          7.4,
          7.4,
          7.4,
          7.4,
          7.4,
          7.4,
          7.4,
          7.4,
          7.4,
          7.4,
          7.4
         ],
         "x0": " ",
         "xaxis": "x",
         "y": [
          142,
          175,
          200,
          152,
          154,
          96,
          161,
          201,
          195,
          139,
          178,
          148,
          124,
          142,
          179,
          169,
          133,
          207,
          146,
          121,
          136,
          130,
          130,
          106,
          127,
          116,
          175,
          118,
          110,
          87,
          125,
          112,
          102,
          107,
          119,
          87,
          169,
          115,
          112,
          109,
          189,
          110,
          150,
          165,
          155,
          137,
          113,
          165,
          95,
          151,
          155,
          153,
          125,
          130,
          116,
          89,
          137,
          117,
          88,
          165,
          170,
          89,
          146,
          99,
          98,
          116,
          156,
          122,
          149,
          134,
          122,
          136,
          157,
          123,
          119,
          137,
          128,
          120,
          229,
          107,
          134,
          103,
          177,
          129,
          102,
          216,
          136,
          93,
          68,
          189,
          99,
          108,
          113,
          181,
          103,
          138,
          110,
          129,
          88,
          160,
          126,
          91,
          116,
          125,
          143,
          93,
          102,
          132,
          153,
          183,
          160,
          120,
          138,
          140,
          153,
          170,
          129,
          81,
          127,
          131,
          172,
          115,
          108,
          107,
          129,
          156,
          96,
          91,
          95,
          162,
          130,
          86,
          186,
          151,
          96,
          170,
          118,
          161,
          131,
          126,
          131,
          129,
          224,
          180,
          105,
          117,
          140,
          119,
          124,
          130,
          139,
          107,
          132,
          117,
          126,
          122,
          178,
          238,
          149,
          172,
          98,
          116,
          116,
          123,
          148,
          123,
          182,
          92,
          93,
          100,
          135,
          105,
          94,
          140,
          83,
          95,
          98,
          143,
          99,
          98,
          121,
          163,
          121,
          167,
          188,
          121,
          109,
          110,
          129,
          127,
          94,
          107,
          100,
          117,
          129,
          120,
          121,
          133,
          111,
          122,
          101,
          134,
          165,
          138,
          212,
          154,
          89,
          134,
          93,
          114,
          88,
          130,
          101,
          158,
          99,
          108,
          124,
          132,
          113,
          131,
          191,
          167,
          130,
          147,
          102,
          88,
          165,
          132,
          118,
          101,
          108,
          174,
          98,
          92,
          98,
          106,
          85,
          101,
          105,
          115,
          115,
          124,
          105,
          103,
          138,
          184,
          120,
          99,
          131,
          138,
          98,
          123,
          118,
          114,
          118,
          112,
          124,
          160,
          67,
          146,
          125,
          115,
          134,
          141,
          129,
          104,
          94,
          124,
          150,
          119,
          128,
          143,
          85,
          151,
          118,
          101,
          99,
          92,
          125,
          102,
          106,
          107,
          91,
          80,
          122,
          102,
          112,
          92,
          135,
          136,
          153,
          105,
          126,
          68,
          84,
          103,
          145,
          80,
          106,
          127,
          178,
          137,
          172,
          76,
          130,
          96,
          82,
          115,
          95,
          143,
          125,
          120,
          127,
          112,
          104,
          113,
          189,
          127,
          188,
          96,
          113,
          132,
          122,
          126,
          140,
          133,
          112,
          102,
          93,
          109,
          81,
          108,
          111,
          119,
          96,
          197,
          127,
          138,
          66,
          181,
          141,
          144,
          128,
          83,
          121,
          98,
          117,
          94,
          174,
          112,
          108,
          70,
          99,
          96,
          137,
          136,
          100,
          90,
          96,
          161,
          115,
          181,
          169,
          98,
          136,
          138,
          119,
          123,
          112,
          120,
          103,
          97,
          109,
          165,
          156,
          147,
          100,
          126,
          115,
          105,
          144,
          102,
          107,
          119,
          90,
          197,
          86,
          113,
          133,
          64,
          141,
          113,
          122,
          105,
          119,
          102,
          122,
          123,
          113,
          97,
          117,
          111,
          85,
          99,
          134,
          75,
          109,
          117,
          91,
          128,
          111,
          119,
          100,
          114,
          92,
          141,
          101,
          115,
          127,
          96,
          129,
          135,
          109,
          157,
          193,
          94,
          155,
          113,
          130,
          117,
          159,
          141,
          112,
          162,
          126,
          120,
          144,
          120,
          109,
          97,
          108,
          115,
          136,
          90,
          170,
          220,
          116,
          134,
          124,
          91,
          103,
          96,
          119,
          98,
          101,
          93,
          179,
          155,
          121,
          103,
          127,
          103,
          107,
          100,
          92,
          94,
          158,
          86,
          115,
          130,
          107,
          100,
          108,
          124,
          131,
          122,
          242,
          127,
          141,
          126,
          89,
          113,
          152,
          107,
          92,
          145,
          84,
          126,
          132,
          78,
          117,
          128,
          100,
          128,
          100,
          143,
          107,
          100,
          125,
          106,
          157,
          94,
          104,
          94,
          153,
          123,
          120,
          105,
          166,
          112,
          94,
          111,
          87,
          80,
          108,
          102,
          105,
          136,
          101,
          100,
          108,
          101,
          106,
          105,
          88,
          129,
          138,
          129,
          118,
          139,
          123,
          150,
          132,
          80,
          178,
          79,
          163,
          114,
          144,
          130,
          154,
          81,
          95,
          101,
          120,
          93,
          115,
          106,
          120,
          110,
          123,
          142,
          99,
          112,
          120,
          122,
          130,
          139,
          129,
          141,
          127,
          130,
          118,
          110,
          115,
          101,
          112,
          108,
          143,
          152,
          117,
          121,
          119,
          114,
          122,
          105,
          110,
          116,
          139,
          121,
          109,
          146,
          113,
          100,
          121,
          113,
          113,
          117,
          93,
          101,
          90,
          131,
          98,
          93,
          121,
          82,
          124,
          100,
          117,
          99,
          116,
          123,
          114,
          133,
          105,
          127,
          144,
          90,
          118,
          122,
          102,
          187,
          87,
          154,
          89,
          88,
          129,
          95,
          118,
          98,
          194,
          114,
          80,
          130,
          135,
          101,
          105,
          129,
          134,
          143,
          202,
          89,
          106,
          92,
          137,
          124,
          122,
          113,
          112,
          110,
          135,
          88,
          146,
          104,
          125,
          131,
          91,
          142,
          129,
          158,
          102,
          99,
          101,
          104,
          119,
          103,
          88,
          100,
          146,
          150,
          140,
          140,
          110,
          97,
          102,
          152,
          100,
          94,
          85,
          104,
          112,
          191,
          119,
          111,
          94,
          103,
          134,
          157,
          158,
          127,
          101,
          109,
          98,
          134,
          168,
          93,
          145,
          111,
          88,
          123,
          121,
          144,
          116,
          124,
          147,
          106,
          113,
          129,
          94,
          126,
          128,
          111,
          146,
          85,
          105,
          132,
          130,
          162,
          113,
          110,
          113,
          162,
          110,
          78,
          92,
          95,
          138,
          102,
          128,
          96,
          164,
          126,
          110,
          109,
          122,
          124,
          128,
          157,
          120,
          102,
          152,
          170,
          102,
          116,
          164,
          85,
          104,
          99,
          81,
          131,
          101,
          121,
          69,
          92,
          94,
          141,
          116,
          98,
          135,
          121,
          108,
          114,
          102,
          112,
          140,
          157,
          128,
          108,
          139,
          83,
          131,
          113,
          136,
          96,
          118,
          108,
          83,
          205,
          124,
          111,
          137,
          104,
          109,
          115,
          99,
          114,
          133,
          131,
          131,
          123,
          126,
          97,
          126,
          89,
          122,
          121,
          125,
          105,
          118,
          81,
          115,
          126,
          113,
          107,
          126,
          111,
          85,
          120,
          93,
          100,
          107,
          126,
          131,
          116,
          143,
          93,
          96,
          160,
          137,
          119,
          114,
          98,
          111,
          138,
          144,
          107,
          114,
          125,
          146,
          113,
          85,
          97,
          93,
          113,
          128,
          114,
          147,
          127,
          167,
          124,
          109,
          124,
          102,
          130,
          125,
          98,
          154,
          97,
          128,
          98,
          101,
          147,
          172,
          125,
          88,
          125,
          121,
          112,
          120,
          133,
          110,
          135,
          110,
          80,
          135,
          101,
          112,
          124,
          129,
          104,
          96,
          105,
          109,
          117,
          78,
          138,
          106,
          90,
          106,
          91,
          112,
          134,
          112,
          104,
          101,
          120,
          123,
          133,
          110,
          129,
          120,
          83,
          88,
          96,
          139,
          113,
          84,
          106,
          170,
          144,
          104,
          153,
          85,
          130,
          93,
          148,
          115,
          102,
          125,
          106,
          121,
          143,
          116,
          99,
          116,
          128,
          119,
          104,
          114,
          152,
          129,
          103,
          112,
          92,
          141,
          106,
          109,
          104,
          122,
          111,
          112,
          116,
          130,
          133,
          134,
          92,
          104,
          110,
          97,
          100,
          118,
          112,
          138,
          92,
          118,
          140,
          128,
          101,
          75,
          97,
          111,
          175,
          94,
          97,
          132,
          120,
          107,
          89,
          86,
          103,
          108,
          105,
          117,
          102,
          104,
          157,
          104,
          98,
          109,
          96,
          103,
          114,
          99,
          118,
          150,
          105,
          87,
          136,
          162,
          109,
          107,
          90,
          112,
          126,
          116,
          118,
          138,
          114,
          126
         ],
         "y0": " ",
         "yaxis": "y"
        }
       ],
       "layout": {
        "boxmode": "group",
        "legend": {
         "tracegroupgap": 0
        },
        "margin": {
         "t": 60
        },
        "template": {
         "data": {
          "bar": [
           {
            "error_x": {
             "color": "#2a3f5f"
            },
            "error_y": {
             "color": "#2a3f5f"
            },
            "marker": {
             "line": {
              "color": "#E5ECF6",
              "width": 0.5
             },
             "pattern": {
              "fillmode": "overlay",
              "size": 10,
              "solidity": 0.2
             }
            },
            "type": "bar"
           }
          ],
          "barpolar": [
           {
            "marker": {
             "line": {
              "color": "#E5ECF6",
              "width": 0.5
             },
             "pattern": {
              "fillmode": "overlay",
              "size": 10,
              "solidity": 0.2
             }
            },
            "type": "barpolar"
           }
          ],
          "carpet": [
           {
            "aaxis": {
             "endlinecolor": "#2a3f5f",
             "gridcolor": "white",
             "linecolor": "white",
             "minorgridcolor": "white",
             "startlinecolor": "#2a3f5f"
            },
            "baxis": {
             "endlinecolor": "#2a3f5f",
             "gridcolor": "white",
             "linecolor": "white",
             "minorgridcolor": "white",
             "startlinecolor": "#2a3f5f"
            },
            "type": "carpet"
           }
          ],
          "choropleth": [
           {
            "colorbar": {
             "outlinewidth": 0,
             "ticks": ""
            },
            "type": "choropleth"
           }
          ],
          "contour": [
           {
            "colorbar": {
             "outlinewidth": 0,
             "ticks": ""
            },
            "colorscale": [
             [
              0,
              "#0d0887"
             ],
             [
              0.1111111111111111,
              "#46039f"
             ],
             [
              0.2222222222222222,
              "#7201a8"
             ],
             [
              0.3333333333333333,
              "#9c179e"
             ],
             [
              0.4444444444444444,
              "#bd3786"
             ],
             [
              0.5555555555555556,
              "#d8576b"
             ],
             [
              0.6666666666666666,
              "#ed7953"
             ],
             [
              0.7777777777777778,
              "#fb9f3a"
             ],
             [
              0.8888888888888888,
              "#fdca26"
             ],
             [
              1,
              "#f0f921"
             ]
            ],
            "type": "contour"
           }
          ],
          "contourcarpet": [
           {
            "colorbar": {
             "outlinewidth": 0,
             "ticks": ""
            },
            "type": "contourcarpet"
           }
          ],
          "heatmap": [
           {
            "colorbar": {
             "outlinewidth": 0,
             "ticks": ""
            },
            "colorscale": [
             [
              0,
              "#0d0887"
             ],
             [
              0.1111111111111111,
              "#46039f"
             ],
             [
              0.2222222222222222,
              "#7201a8"
             ],
             [
              0.3333333333333333,
              "#9c179e"
             ],
             [
              0.4444444444444444,
              "#bd3786"
             ],
             [
              0.5555555555555556,
              "#d8576b"
             ],
             [
              0.6666666666666666,
              "#ed7953"
             ],
             [
              0.7777777777777778,
              "#fb9f3a"
             ],
             [
              0.8888888888888888,
              "#fdca26"
             ],
             [
              1,
              "#f0f921"
             ]
            ],
            "type": "heatmap"
           }
          ],
          "heatmapgl": [
           {
            "colorbar": {
             "outlinewidth": 0,
             "ticks": ""
            },
            "colorscale": [
             [
              0,
              "#0d0887"
             ],
             [
              0.1111111111111111,
              "#46039f"
             ],
             [
              0.2222222222222222,
              "#7201a8"
             ],
             [
              0.3333333333333333,
              "#9c179e"
             ],
             [
              0.4444444444444444,
              "#bd3786"
             ],
             [
              0.5555555555555556,
              "#d8576b"
             ],
             [
              0.6666666666666666,
              "#ed7953"
             ],
             [
              0.7777777777777778,
              "#fb9f3a"
             ],
             [
              0.8888888888888888,
              "#fdca26"
             ],
             [
              1,
              "#f0f921"
             ]
            ],
            "type": "heatmapgl"
           }
          ],
          "histogram": [
           {
            "marker": {
             "pattern": {
              "fillmode": "overlay",
              "size": 10,
              "solidity": 0.2
             }
            },
            "type": "histogram"
           }
          ],
          "histogram2d": [
           {
            "colorbar": {
             "outlinewidth": 0,
             "ticks": ""
            },
            "colorscale": [
             [
              0,
              "#0d0887"
             ],
             [
              0.1111111111111111,
              "#46039f"
             ],
             [
              0.2222222222222222,
              "#7201a8"
             ],
             [
              0.3333333333333333,
              "#9c179e"
             ],
             [
              0.4444444444444444,
              "#bd3786"
             ],
             [
              0.5555555555555556,
              "#d8576b"
             ],
             [
              0.6666666666666666,
              "#ed7953"
             ],
             [
              0.7777777777777778,
              "#fb9f3a"
             ],
             [
              0.8888888888888888,
              "#fdca26"
             ],
             [
              1,
              "#f0f921"
             ]
            ],
            "type": "histogram2d"
           }
          ],
          "histogram2dcontour": [
           {
            "colorbar": {
             "outlinewidth": 0,
             "ticks": ""
            },
            "colorscale": [
             [
              0,
              "#0d0887"
             ],
             [
              0.1111111111111111,
              "#46039f"
             ],
             [
              0.2222222222222222,
              "#7201a8"
             ],
             [
              0.3333333333333333,
              "#9c179e"
             ],
             [
              0.4444444444444444,
              "#bd3786"
             ],
             [
              0.5555555555555556,
              "#d8576b"
             ],
             [
              0.6666666666666666,
              "#ed7953"
             ],
             [
              0.7777777777777778,
              "#fb9f3a"
             ],
             [
              0.8888888888888888,
              "#fdca26"
             ],
             [
              1,
              "#f0f921"
             ]
            ],
            "type": "histogram2dcontour"
           }
          ],
          "mesh3d": [
           {
            "colorbar": {
             "outlinewidth": 0,
             "ticks": ""
            },
            "type": "mesh3d"
           }
          ],
          "parcoords": [
           {
            "line": {
             "colorbar": {
              "outlinewidth": 0,
              "ticks": ""
             }
            },
            "type": "parcoords"
           }
          ],
          "pie": [
           {
            "automargin": true,
            "type": "pie"
           }
          ],
          "scatter": [
           {
            "marker": {
             "colorbar": {
              "outlinewidth": 0,
              "ticks": ""
             }
            },
            "type": "scatter"
           }
          ],
          "scatter3d": [
           {
            "line": {
             "colorbar": {
              "outlinewidth": 0,
              "ticks": ""
             }
            },
            "marker": {
             "colorbar": {
              "outlinewidth": 0,
              "ticks": ""
             }
            },
            "type": "scatter3d"
           }
          ],
          "scattercarpet": [
           {
            "marker": {
             "colorbar": {
              "outlinewidth": 0,
              "ticks": ""
             }
            },
            "type": "scattercarpet"
           }
          ],
          "scattergeo": [
           {
            "marker": {
             "colorbar": {
              "outlinewidth": 0,
              "ticks": ""
             }
            },
            "type": "scattergeo"
           }
          ],
          "scattergl": [
           {
            "marker": {
             "colorbar": {
              "outlinewidth": 0,
              "ticks": ""
             }
            },
            "type": "scattergl"
           }
          ],
          "scattermapbox": [
           {
            "marker": {
             "colorbar": {
              "outlinewidth": 0,
              "ticks": ""
             }
            },
            "type": "scattermapbox"
           }
          ],
          "scatterpolar": [
           {
            "marker": {
             "colorbar": {
              "outlinewidth": 0,
              "ticks": ""
             }
            },
            "type": "scatterpolar"
           }
          ],
          "scatterpolargl": [
           {
            "marker": {
             "colorbar": {
              "outlinewidth": 0,
              "ticks": ""
             }
            },
            "type": "scatterpolargl"
           }
          ],
          "scatterternary": [
           {
            "marker": {
             "colorbar": {
              "outlinewidth": 0,
              "ticks": ""
             }
            },
            "type": "scatterternary"
           }
          ],
          "surface": [
           {
            "colorbar": {
             "outlinewidth": 0,
             "ticks": ""
            },
            "colorscale": [
             [
              0,
              "#0d0887"
             ],
             [
              0.1111111111111111,
              "#46039f"
             ],
             [
              0.2222222222222222,
              "#7201a8"
             ],
             [
              0.3333333333333333,
              "#9c179e"
             ],
             [
              0.4444444444444444,
              "#bd3786"
             ],
             [
              0.5555555555555556,
              "#d8576b"
             ],
             [
              0.6666666666666666,
              "#ed7953"
             ],
             [
              0.7777777777777778,
              "#fb9f3a"
             ],
             [
              0.8888888888888888,
              "#fdca26"
             ],
             [
              1,
              "#f0f921"
             ]
            ],
            "type": "surface"
           }
          ],
          "table": [
           {
            "cells": {
             "fill": {
              "color": "#EBF0F8"
             },
             "line": {
              "color": "white"
             }
            },
            "header": {
             "fill": {
              "color": "#C8D4E3"
             },
             "line": {
              "color": "white"
             }
            },
            "type": "table"
           }
          ]
         },
         "layout": {
          "annotationdefaults": {
           "arrowcolor": "#2a3f5f",
           "arrowhead": 0,
           "arrowwidth": 1
          },
          "autotypenumbers": "strict",
          "coloraxis": {
           "colorbar": {
            "outlinewidth": 0,
            "ticks": ""
           }
          },
          "colorscale": {
           "diverging": [
            [
             0,
             "#8e0152"
            ],
            [
             0.1,
             "#c51b7d"
            ],
            [
             0.2,
             "#de77ae"
            ],
            [
             0.3,
             "#f1b6da"
            ],
            [
             0.4,
             "#fde0ef"
            ],
            [
             0.5,
             "#f7f7f7"
            ],
            [
             0.6,
             "#e6f5d0"
            ],
            [
             0.7,
             "#b8e186"
            ],
            [
             0.8,
             "#7fbc41"
            ],
            [
             0.9,
             "#4d9221"
            ],
            [
             1,
             "#276419"
            ]
           ],
           "sequential": [
            [
             0,
             "#0d0887"
            ],
            [
             0.1111111111111111,
             "#46039f"
            ],
            [
             0.2222222222222222,
             "#7201a8"
            ],
            [
             0.3333333333333333,
             "#9c179e"
            ],
            [
             0.4444444444444444,
             "#bd3786"
            ],
            [
             0.5555555555555556,
             "#d8576b"
            ],
            [
             0.6666666666666666,
             "#ed7953"
            ],
            [
             0.7777777777777778,
             "#fb9f3a"
            ],
            [
             0.8888888888888888,
             "#fdca26"
            ],
            [
             1,
             "#f0f921"
            ]
           ],
           "sequentialminus": [
            [
             0,
             "#0d0887"
            ],
            [
             0.1111111111111111,
             "#46039f"
            ],
            [
             0.2222222222222222,
             "#7201a8"
            ],
            [
             0.3333333333333333,
             "#9c179e"
            ],
            [
             0.4444444444444444,
             "#bd3786"
            ],
            [
             0.5555555555555556,
             "#d8576b"
            ],
            [
             0.6666666666666666,
             "#ed7953"
            ],
            [
             0.7777777777777778,
             "#fb9f3a"
            ],
            [
             0.8888888888888888,
             "#fdca26"
            ],
            [
             1,
             "#f0f921"
            ]
           ]
          },
          "colorway": [
           "#636efa",
           "#EF553B",
           "#00cc96",
           "#ab63fa",
           "#FFA15A",
           "#19d3f3",
           "#FF6692",
           "#B6E880",
           "#FF97FF",
           "#FECB52"
          ],
          "font": {
           "color": "#2a3f5f"
          },
          "geo": {
           "bgcolor": "white",
           "lakecolor": "white",
           "landcolor": "#E5ECF6",
           "showlakes": true,
           "showland": true,
           "subunitcolor": "white"
          },
          "hoverlabel": {
           "align": "left"
          },
          "hovermode": "closest",
          "mapbox": {
           "style": "light"
          },
          "paper_bgcolor": "white",
          "plot_bgcolor": "#E5ECF6",
          "polar": {
           "angularaxis": {
            "gridcolor": "white",
            "linecolor": "white",
            "ticks": ""
           },
           "bgcolor": "#E5ECF6",
           "radialaxis": {
            "gridcolor": "white",
            "linecolor": "white",
            "ticks": ""
           }
          },
          "scene": {
           "xaxis": {
            "backgroundcolor": "#E5ECF6",
            "gridcolor": "white",
            "gridwidth": 2,
            "linecolor": "white",
            "showbackground": true,
            "ticks": "",
            "zerolinecolor": "white"
           },
           "yaxis": {
            "backgroundcolor": "#E5ECF6",
            "gridcolor": "white",
            "gridwidth": 2,
            "linecolor": "white",
            "showbackground": true,
            "ticks": "",
            "zerolinecolor": "white"
           },
           "zaxis": {
            "backgroundcolor": "#E5ECF6",
            "gridcolor": "white",
            "gridwidth": 2,
            "linecolor": "white",
            "showbackground": true,
            "ticks": "",
            "zerolinecolor": "white"
           }
          },
          "shapedefaults": {
           "line": {
            "color": "#2a3f5f"
           }
          },
          "ternary": {
           "aaxis": {
            "gridcolor": "white",
            "linecolor": "white",
            "ticks": ""
           },
           "baxis": {
            "gridcolor": "white",
            "linecolor": "white",
            "ticks": ""
           },
           "bgcolor": "#E5ECF6",
           "caxis": {
            "gridcolor": "white",
            "linecolor": "white",
            "ticks": ""
           }
          },
          "title": {
           "x": 0.05
          },
          "xaxis": {
           "automargin": true,
           "gridcolor": "white",
           "linecolor": "white",
           "ticks": "",
           "title": {
            "standoff": 15
           },
           "zerolinecolor": "white",
           "zerolinewidth": 2
          },
          "yaxis": {
           "automargin": true,
           "gridcolor": "white",
           "linecolor": "white",
           "ticks": "",
           "title": {
            "standoff": 15
           },
           "zerolinecolor": "white",
           "zerolinewidth": 2
          }
         }
        },
        "xaxis": {
         "anchor": "y",
         "domain": [
          0,
          1
         ],
         "title": {
          "text": "star_rating"
         }
        },
        "yaxis": {
         "anchor": "x",
         "domain": [
          0,
          1
         ],
         "title": {
          "text": "duration"
         }
        }
       }
      },
      "text/html": [
       "<div>                            <div id=\"3367f3c7-7869-4e0f-a7fa-17f2f96ae8f6\" class=\"plotly-graph-div\" style=\"height:525px; width:100%;\"></div>            <script type=\"text/javascript\">                require([\"plotly\"], function(Plotly) {                    window.PLOTLYENV=window.PLOTLYENV || {};                                    if (document.getElementById(\"3367f3c7-7869-4e0f-a7fa-17f2f96ae8f6\")) {                    Plotly.newPlot(                        \"3367f3c7-7869-4e0f-a7fa-17f2f96ae8f6\",                        [{\"alignmentgroup\":\"True\",\"hovertemplate\":\"star_rating=%{x}<br>duration=%{y}<extra></extra>\",\"legendgroup\":\"\",\"marker\":{\"color\":\"#636efa\"},\"name\":\"\",\"notched\":false,\"offsetgroup\":\"\",\"orientation\":\"v\",\"showlegend\":false,\"x\":[9.3,9.2,9.1,9.0,8.9,8.9,8.9,8.9,8.9,8.9,8.8,8.8,8.8,8.8,8.8,8.7,8.7,8.7,8.7,8.7,8.7,8.7,8.7,8.7,8.7,8.6,8.6,8.6,8.6,8.6,8.6,8.6,8.6,8.6,8.6,8.6,8.6,8.6,8.6,8.6,8.5,8.5,8.5,8.5,8.5,8.5,8.5,8.5,8.5,8.5,8.5,8.5,8.5,8.5,8.5,8.5,8.5,8.5,8.5,8.5,8.5,8.5,8.5,8.4,8.4,8.4,8.4,8.4,8.4,8.4,8.4,8.4,8.4,8.4,8.4,8.4,8.4,8.4,8.4,8.4,8.4,8.4,8.4,8.4,8.4,8.4,8.4,8.4,8.4,8.4,8.4,8.4,8.4,8.4,8.4,8.4,8.4,8.4,8.4,8.4,8.3,8.3,8.3,8.3,8.3,8.3,8.3,8.3,8.3,8.3,8.3,8.3,8.3,8.3,8.3,8.3,8.3,8.3,8.3,8.3,8.3,8.3,8.3,8.3,8.3,8.3,8.3,8.3,8.3,8.3,8.3,8.3,8.3,8.3,8.3,8.3,8.3,8.3,8.3,8.3,8.3,8.3,8.3,8.2,8.2,8.2,8.2,8.2,8.2,8.2,8.2,8.2,8.2,8.2,8.2,8.2,8.2,8.2,8.2,8.2,8.2,8.2,8.2,8.2,8.2,8.2,8.2,8.2,8.2,8.2,8.2,8.2,8.2,8.2,8.2,8.2,8.2,8.2,8.2,8.2,8.2,8.2,8.2,8.2,8.2,8.2,8.2,8.2,8.2,8.2,8.2,8.2,8.2,8.2,8.1,8.1,8.1,8.1,8.1,8.1,8.1,8.1,8.1,8.1,8.1,8.1,8.1,8.1,8.1,8.1,8.1,8.1,8.1,8.1,8.1,8.1,8.1,8.1,8.1,8.1,8.1,8.1,8.1,8.1,8.1,8.1,8.1,8.1,8.1,8.1,8.1,8.1,8.1,8.1,8.1,8.1,8.1,8.1,8.1,8.1,8.1,8.1,8.1,8.1,8.1,8.1,8.1,8.1,8.1,8.1,8.1,8.1,8.1,8.1,8.1,8.1,8.1,8.1,8.1,8.1,8.1,8.1,8.1,8.1,8.1,8.1,8.1,8.1,8.1,8.1,8.1,8.1,8.1,8.1,8.1,8.1,8.1,8.1,8.1,8.1,8.1,8.1,8.1,8.1,8.1,8.1,8.1,8.1,8.1,8.1,8.1,8.1,8.1,8.1,8.1,8.1,8.1,8.0,8.0,8.0,8.0,8.0,8.0,8.0,8.0,8.0,8.0,8.0,8.0,8.0,8.0,8.0,8.0,8.0,8.0,8.0,8.0,8.0,8.0,8.0,8.0,8.0,8.0,8.0,8.0,8.0,8.0,8.0,8.0,8.0,8.0,8.0,8.0,8.0,8.0,8.0,8.0,8.0,8.0,8.0,8.0,8.0,8.0,8.0,8.0,8.0,8.0,8.0,8.0,8.0,8.0,8.0,8.0,8.0,8.0,8.0,8.0,8.0,8.0,8.0,8.0,8.0,8.0,8.0,8.0,8.0,8.0,8.0,8.0,8.0,8.0,8.0,8.0,8.0,8.0,8.0,8.0,8.0,8.0,8.0,8.0,8.0,8.0,8.0,8.0,8.0,8.0,8.0,8.0,8.0,8.0,8.0,8.0,8.0,7.9,7.9,7.9,7.9,7.9,7.9,7.9,7.9,7.9,7.9,7.9,7.9,7.9,7.9,7.9,7.9,7.9,7.9,7.9,7.9,7.9,7.9,7.9,7.9,7.9,7.9,7.9,7.9,7.9,7.9,7.9,7.9,7.9,7.9,7.9,7.9,7.9,7.9,7.9,7.9,7.9,7.9,7.9,7.9,7.9,7.9,7.9,7.9,7.9,7.9,7.9,7.9,7.9,7.9,7.9,7.9,7.9,7.9,7.9,7.9,7.9,7.9,7.9,7.9,7.9,7.9,7.9,7.9,7.9,7.9,7.9,7.9,7.9,7.9,7.9,7.8,7.8,7.8,7.8,7.8,7.8,7.8,7.8,7.8,7.8,7.8,7.8,7.8,7.8,7.8,7.8,7.8,7.8,7.8,7.8,7.8,7.8,7.8,7.8,7.8,7.8,7.8,7.8,7.8,7.8,7.8,7.8,7.8,7.8,7.8,7.8,7.8,7.8,7.8,7.8,7.8,7.8,7.8,7.8,7.8,7.8,7.8,7.8,7.8,7.8,7.8,7.8,7.8,7.8,7.8,7.8,7.8,7.8,7.8,7.8,7.8,7.8,7.8,7.8,7.8,7.8,7.8,7.8,7.8,7.8,7.8,7.8,7.8,7.8,7.8,7.8,7.8,7.8,7.8,7.8,7.8,7.8,7.8,7.8,7.8,7.8,7.8,7.8,7.8,7.8,7.8,7.8,7.8,7.8,7.8,7.8,7.8,7.8,7.8,7.8,7.8,7.8,7.8,7.8,7.8,7.8,7.8,7.8,7.8,7.8,7.8,7.8,7.8,7.8,7.8,7.8,7.7,7.7,7.7,7.7,7.7,7.7,7.7,7.7,7.7,7.7,7.7,7.7,7.7,7.7,7.7,7.7,7.7,7.7,7.7,7.7,7.7,7.7,7.7,7.7,7.7,7.7,7.7,7.7,7.7,7.7,7.7,7.7,7.7,7.7,7.7,7.7,7.7,7.7,7.7,7.7,7.7,7.7,7.7,7.7,7.7,7.7,7.7,7.7,7.7,7.7,7.7,7.7,7.7,7.7,7.7,7.7,7.7,7.7,7.7,7.7,7.7,7.7,7.7,7.7,7.7,7.7,7.7,7.7,7.7,7.7,7.7,7.7,7.7,7.7,7.7,7.7,7.7,7.7,7.7,7.7,7.7,7.7,7.7,7.7,7.7,7.7,7.7,7.7,7.7,7.7,7.7,7.7,7.7,7.7,7.7,7.7,7.7,7.7,7.7,7.7,7.7,7.7,7.7,7.7,7.7,7.7,7.7,7.7,7.7,7.7,7.7,7.7,7.7,7.6,7.6,7.6,7.6,7.6,7.6,7.6,7.6,7.6,7.6,7.6,7.6,7.6,7.6,7.6,7.6,7.6,7.6,7.6,7.6,7.6,7.6,7.6,7.6,7.6,7.6,7.6,7.6,7.6,7.6,7.6,7.6,7.6,7.6,7.6,7.6,7.6,7.6,7.6,7.6,7.6,7.6,7.6,7.6,7.6,7.6,7.6,7.6,7.6,7.6,7.6,7.6,7.6,7.6,7.6,7.6,7.6,7.6,7.6,7.6,7.6,7.6,7.6,7.6,7.6,7.6,7.6,7.6,7.6,7.6,7.6,7.6,7.6,7.6,7.6,7.6,7.6,7.6,7.6,7.6,7.6,7.6,7.6,7.6,7.6,7.6,7.6,7.6,7.6,7.6,7.6,7.6,7.6,7.6,7.6,7.6,7.6,7.6,7.6,7.6,7.6,7.6,7.6,7.6,7.6,7.6,7.6,7.6,7.6,7.6,7.6,7.6,7.6,7.6,7.6,7.6,7.6,7.6,7.6,7.6,7.6,7.6,7.6,7.6,7.5,7.5,7.5,7.5,7.5,7.5,7.5,7.5,7.5,7.5,7.5,7.5,7.5,7.5,7.5,7.5,7.5,7.5,7.5,7.5,7.5,7.5,7.5,7.5,7.5,7.5,7.5,7.5,7.5,7.5,7.5,7.5,7.5,7.5,7.5,7.5,7.5,7.5,7.5,7.5,7.5,7.5,7.5,7.5,7.5,7.5,7.5,7.5,7.5,7.5,7.5,7.5,7.5,7.5,7.5,7.5,7.5,7.5,7.5,7.5,7.5,7.5,7.5,7.5,7.5,7.5,7.5,7.5,7.5,7.5,7.5,7.5,7.5,7.5,7.5,7.5,7.5,7.5,7.5,7.5,7.5,7.5,7.5,7.5,7.5,7.5,7.5,7.5,7.5,7.5,7.5,7.5,7.5,7.5,7.5,7.5,7.5,7.5,7.5,7.5,7.5,7.5,7.5,7.5,7.5,7.5,7.5,7.5,7.4,7.4,7.4,7.4,7.4,7.4,7.4,7.4,7.4,7.4,7.4,7.4,7.4,7.4,7.4,7.4,7.4,7.4,7.4,7.4,7.4,7.4,7.4,7.4,7.4,7.4,7.4,7.4,7.4,7.4,7.4,7.4,7.4,7.4,7.4,7.4,7.4,7.4,7.4,7.4,7.4,7.4,7.4,7.4,7.4,7.4,7.4,7.4,7.4],\"x0\":\" \",\"xaxis\":\"x\",\"y\":[142,175,200,152,154,96,161,201,195,139,178,148,124,142,179,169,133,207,146,121,136,130,130,106,127,116,175,118,110,87,125,112,102,107,119,87,169,115,112,109,189,110,150,165,155,137,113,165,95,151,155,153,125,130,116,89,137,117,88,165,170,89,146,99,98,116,156,122,149,134,122,136,157,123,119,137,128,120,229,107,134,103,177,129,102,216,136,93,68,189,99,108,113,181,103,138,110,129,88,160,126,91,116,125,143,93,102,132,153,183,160,120,138,140,153,170,129,81,127,131,172,115,108,107,129,156,96,91,95,162,130,86,186,151,96,170,118,161,131,126,131,129,224,180,105,117,140,119,124,130,139,107,132,117,126,122,178,238,149,172,98,116,116,123,148,123,182,92,93,100,135,105,94,140,83,95,98,143,99,98,121,163,121,167,188,121,109,110,129,127,94,107,100,117,129,120,121,133,111,122,101,134,165,138,212,154,89,134,93,114,88,130,101,158,99,108,124,132,113,131,191,167,130,147,102,88,165,132,118,101,108,174,98,92,98,106,85,101,105,115,115,124,105,103,138,184,120,99,131,138,98,123,118,114,118,112,124,160,67,146,125,115,134,141,129,104,94,124,150,119,128,143,85,151,118,101,99,92,125,102,106,107,91,80,122,102,112,92,135,136,153,105,126,68,84,103,145,80,106,127,178,137,172,76,130,96,82,115,95,143,125,120,127,112,104,113,189,127,188,96,113,132,122,126,140,133,112,102,93,109,81,108,111,119,96,197,127,138,66,181,141,144,128,83,121,98,117,94,174,112,108,70,99,96,137,136,100,90,96,161,115,181,169,98,136,138,119,123,112,120,103,97,109,165,156,147,100,126,115,105,144,102,107,119,90,197,86,113,133,64,141,113,122,105,119,102,122,123,113,97,117,111,85,99,134,75,109,117,91,128,111,119,100,114,92,141,101,115,127,96,129,135,109,157,193,94,155,113,130,117,159,141,112,162,126,120,144,120,109,97,108,115,136,90,170,220,116,134,124,91,103,96,119,98,101,93,179,155,121,103,127,103,107,100,92,94,158,86,115,130,107,100,108,124,131,122,242,127,141,126,89,113,152,107,92,145,84,126,132,78,117,128,100,128,100,143,107,100,125,106,157,94,104,94,153,123,120,105,166,112,94,111,87,80,108,102,105,136,101,100,108,101,106,105,88,129,138,129,118,139,123,150,132,80,178,79,163,114,144,130,154,81,95,101,120,93,115,106,120,110,123,142,99,112,120,122,130,139,129,141,127,130,118,110,115,101,112,108,143,152,117,121,119,114,122,105,110,116,139,121,109,146,113,100,121,113,113,117,93,101,90,131,98,93,121,82,124,100,117,99,116,123,114,133,105,127,144,90,118,122,102,187,87,154,89,88,129,95,118,98,194,114,80,130,135,101,105,129,134,143,202,89,106,92,137,124,122,113,112,110,135,88,146,104,125,131,91,142,129,158,102,99,101,104,119,103,88,100,146,150,140,140,110,97,102,152,100,94,85,104,112,191,119,111,94,103,134,157,158,127,101,109,98,134,168,93,145,111,88,123,121,144,116,124,147,106,113,129,94,126,128,111,146,85,105,132,130,162,113,110,113,162,110,78,92,95,138,102,128,96,164,126,110,109,122,124,128,157,120,102,152,170,102,116,164,85,104,99,81,131,101,121,69,92,94,141,116,98,135,121,108,114,102,112,140,157,128,108,139,83,131,113,136,96,118,108,83,205,124,111,137,104,109,115,99,114,133,131,131,123,126,97,126,89,122,121,125,105,118,81,115,126,113,107,126,111,85,120,93,100,107,126,131,116,143,93,96,160,137,119,114,98,111,138,144,107,114,125,146,113,85,97,93,113,128,114,147,127,167,124,109,124,102,130,125,98,154,97,128,98,101,147,172,125,88,125,121,112,120,133,110,135,110,80,135,101,112,124,129,104,96,105,109,117,78,138,106,90,106,91,112,134,112,104,101,120,123,133,110,129,120,83,88,96,139,113,84,106,170,144,104,153,85,130,93,148,115,102,125,106,121,143,116,99,116,128,119,104,114,152,129,103,112,92,141,106,109,104,122,111,112,116,130,133,134,92,104,110,97,100,118,112,138,92,118,140,128,101,75,97,111,175,94,97,132,120,107,89,86,103,108,105,117,102,104,157,104,98,109,96,103,114,99,118,150,105,87,136,162,109,107,90,112,126,116,118,138,114,126],\"y0\":\" \",\"yaxis\":\"y\",\"type\":\"box\"}],                        {\"template\":{\"data\":{\"bar\":[{\"error_x\":{\"color\":\"#2a3f5f\"},\"error_y\":{\"color\":\"#2a3f5f\"},\"marker\":{\"line\":{\"color\":\"#E5ECF6\",\"width\":0.5},\"pattern\":{\"fillmode\":\"overlay\",\"size\":10,\"solidity\":0.2}},\"type\":\"bar\"}],\"barpolar\":[{\"marker\":{\"line\":{\"color\":\"#E5ECF6\",\"width\":0.5},\"pattern\":{\"fillmode\":\"overlay\",\"size\":10,\"solidity\":0.2}},\"type\":\"barpolar\"}],\"carpet\":[{\"aaxis\":{\"endlinecolor\":\"#2a3f5f\",\"gridcolor\":\"white\",\"linecolor\":\"white\",\"minorgridcolor\":\"white\",\"startlinecolor\":\"#2a3f5f\"},\"baxis\":{\"endlinecolor\":\"#2a3f5f\",\"gridcolor\":\"white\",\"linecolor\":\"white\",\"minorgridcolor\":\"white\",\"startlinecolor\":\"#2a3f5f\"},\"type\":\"carpet\"}],\"choropleth\":[{\"colorbar\":{\"outlinewidth\":0,\"ticks\":\"\"},\"type\":\"choropleth\"}],\"contour\":[{\"colorbar\":{\"outlinewidth\":0,\"ticks\":\"\"},\"colorscale\":[[0.0,\"#0d0887\"],[0.1111111111111111,\"#46039f\"],[0.2222222222222222,\"#7201a8\"],[0.3333333333333333,\"#9c179e\"],[0.4444444444444444,\"#bd3786\"],[0.5555555555555556,\"#d8576b\"],[0.6666666666666666,\"#ed7953\"],[0.7777777777777778,\"#fb9f3a\"],[0.8888888888888888,\"#fdca26\"],[1.0,\"#f0f921\"]],\"type\":\"contour\"}],\"contourcarpet\":[{\"colorbar\":{\"outlinewidth\":0,\"ticks\":\"\"},\"type\":\"contourcarpet\"}],\"heatmap\":[{\"colorbar\":{\"outlinewidth\":0,\"ticks\":\"\"},\"colorscale\":[[0.0,\"#0d0887\"],[0.1111111111111111,\"#46039f\"],[0.2222222222222222,\"#7201a8\"],[0.3333333333333333,\"#9c179e\"],[0.4444444444444444,\"#bd3786\"],[0.5555555555555556,\"#d8576b\"],[0.6666666666666666,\"#ed7953\"],[0.7777777777777778,\"#fb9f3a\"],[0.8888888888888888,\"#fdca26\"],[1.0,\"#f0f921\"]],\"type\":\"heatmap\"}],\"heatmapgl\":[{\"colorbar\":{\"outlinewidth\":0,\"ticks\":\"\"},\"colorscale\":[[0.0,\"#0d0887\"],[0.1111111111111111,\"#46039f\"],[0.2222222222222222,\"#7201a8\"],[0.3333333333333333,\"#9c179e\"],[0.4444444444444444,\"#bd3786\"],[0.5555555555555556,\"#d8576b\"],[0.6666666666666666,\"#ed7953\"],[0.7777777777777778,\"#fb9f3a\"],[0.8888888888888888,\"#fdca26\"],[1.0,\"#f0f921\"]],\"type\":\"heatmapgl\"}],\"histogram\":[{\"marker\":{\"pattern\":{\"fillmode\":\"overlay\",\"size\":10,\"solidity\":0.2}},\"type\":\"histogram\"}],\"histogram2d\":[{\"colorbar\":{\"outlinewidth\":0,\"ticks\":\"\"},\"colorscale\":[[0.0,\"#0d0887\"],[0.1111111111111111,\"#46039f\"],[0.2222222222222222,\"#7201a8\"],[0.3333333333333333,\"#9c179e\"],[0.4444444444444444,\"#bd3786\"],[0.5555555555555556,\"#d8576b\"],[0.6666666666666666,\"#ed7953\"],[0.7777777777777778,\"#fb9f3a\"],[0.8888888888888888,\"#fdca26\"],[1.0,\"#f0f921\"]],\"type\":\"histogram2d\"}],\"histogram2dcontour\":[{\"colorbar\":{\"outlinewidth\":0,\"ticks\":\"\"},\"colorscale\":[[0.0,\"#0d0887\"],[0.1111111111111111,\"#46039f\"],[0.2222222222222222,\"#7201a8\"],[0.3333333333333333,\"#9c179e\"],[0.4444444444444444,\"#bd3786\"],[0.5555555555555556,\"#d8576b\"],[0.6666666666666666,\"#ed7953\"],[0.7777777777777778,\"#fb9f3a\"],[0.8888888888888888,\"#fdca26\"],[1.0,\"#f0f921\"]],\"type\":\"histogram2dcontour\"}],\"mesh3d\":[{\"colorbar\":{\"outlinewidth\":0,\"ticks\":\"\"},\"type\":\"mesh3d\"}],\"parcoords\":[{\"line\":{\"colorbar\":{\"outlinewidth\":0,\"ticks\":\"\"}},\"type\":\"parcoords\"}],\"pie\":[{\"automargin\":true,\"type\":\"pie\"}],\"scatter\":[{\"marker\":{\"colorbar\":{\"outlinewidth\":0,\"ticks\":\"\"}},\"type\":\"scatter\"}],\"scatter3d\":[{\"line\":{\"colorbar\":{\"outlinewidth\":0,\"ticks\":\"\"}},\"marker\":{\"colorbar\":{\"outlinewidth\":0,\"ticks\":\"\"}},\"type\":\"scatter3d\"}],\"scattercarpet\":[{\"marker\":{\"colorbar\":{\"outlinewidth\":0,\"ticks\":\"\"}},\"type\":\"scattercarpet\"}],\"scattergeo\":[{\"marker\":{\"colorbar\":{\"outlinewidth\":0,\"ticks\":\"\"}},\"type\":\"scattergeo\"}],\"scattergl\":[{\"marker\":{\"colorbar\":{\"outlinewidth\":0,\"ticks\":\"\"}},\"type\":\"scattergl\"}],\"scattermapbox\":[{\"marker\":{\"colorbar\":{\"outlinewidth\":0,\"ticks\":\"\"}},\"type\":\"scattermapbox\"}],\"scatterpolar\":[{\"marker\":{\"colorbar\":{\"outlinewidth\":0,\"ticks\":\"\"}},\"type\":\"scatterpolar\"}],\"scatterpolargl\":[{\"marker\":{\"colorbar\":{\"outlinewidth\":0,\"ticks\":\"\"}},\"type\":\"scatterpolargl\"}],\"scatterternary\":[{\"marker\":{\"colorbar\":{\"outlinewidth\":0,\"ticks\":\"\"}},\"type\":\"scatterternary\"}],\"surface\":[{\"colorbar\":{\"outlinewidth\":0,\"ticks\":\"\"},\"colorscale\":[[0.0,\"#0d0887\"],[0.1111111111111111,\"#46039f\"],[0.2222222222222222,\"#7201a8\"],[0.3333333333333333,\"#9c179e\"],[0.4444444444444444,\"#bd3786\"],[0.5555555555555556,\"#d8576b\"],[0.6666666666666666,\"#ed7953\"],[0.7777777777777778,\"#fb9f3a\"],[0.8888888888888888,\"#fdca26\"],[1.0,\"#f0f921\"]],\"type\":\"surface\"}],\"table\":[{\"cells\":{\"fill\":{\"color\":\"#EBF0F8\"},\"line\":{\"color\":\"white\"}},\"header\":{\"fill\":{\"color\":\"#C8D4E3\"},\"line\":{\"color\":\"white\"}},\"type\":\"table\"}]},\"layout\":{\"annotationdefaults\":{\"arrowcolor\":\"#2a3f5f\",\"arrowhead\":0,\"arrowwidth\":1},\"autotypenumbers\":\"strict\",\"coloraxis\":{\"colorbar\":{\"outlinewidth\":0,\"ticks\":\"\"}},\"colorscale\":{\"diverging\":[[0,\"#8e0152\"],[0.1,\"#c51b7d\"],[0.2,\"#de77ae\"],[0.3,\"#f1b6da\"],[0.4,\"#fde0ef\"],[0.5,\"#f7f7f7\"],[0.6,\"#e6f5d0\"],[0.7,\"#b8e186\"],[0.8,\"#7fbc41\"],[0.9,\"#4d9221\"],[1,\"#276419\"]],\"sequential\":[[0.0,\"#0d0887\"],[0.1111111111111111,\"#46039f\"],[0.2222222222222222,\"#7201a8\"],[0.3333333333333333,\"#9c179e\"],[0.4444444444444444,\"#bd3786\"],[0.5555555555555556,\"#d8576b\"],[0.6666666666666666,\"#ed7953\"],[0.7777777777777778,\"#fb9f3a\"],[0.8888888888888888,\"#fdca26\"],[1.0,\"#f0f921\"]],\"sequentialminus\":[[0.0,\"#0d0887\"],[0.1111111111111111,\"#46039f\"],[0.2222222222222222,\"#7201a8\"],[0.3333333333333333,\"#9c179e\"],[0.4444444444444444,\"#bd3786\"],[0.5555555555555556,\"#d8576b\"],[0.6666666666666666,\"#ed7953\"],[0.7777777777777778,\"#fb9f3a\"],[0.8888888888888888,\"#fdca26\"],[1.0,\"#f0f921\"]]},\"colorway\":[\"#636efa\",\"#EF553B\",\"#00cc96\",\"#ab63fa\",\"#FFA15A\",\"#19d3f3\",\"#FF6692\",\"#B6E880\",\"#FF97FF\",\"#FECB52\"],\"font\":{\"color\":\"#2a3f5f\"},\"geo\":{\"bgcolor\":\"white\",\"lakecolor\":\"white\",\"landcolor\":\"#E5ECF6\",\"showlakes\":true,\"showland\":true,\"subunitcolor\":\"white\"},\"hoverlabel\":{\"align\":\"left\"},\"hovermode\":\"closest\",\"mapbox\":{\"style\":\"light\"},\"paper_bgcolor\":\"white\",\"plot_bgcolor\":\"#E5ECF6\",\"polar\":{\"angularaxis\":{\"gridcolor\":\"white\",\"linecolor\":\"white\",\"ticks\":\"\"},\"bgcolor\":\"#E5ECF6\",\"radialaxis\":{\"gridcolor\":\"white\",\"linecolor\":\"white\",\"ticks\":\"\"}},\"scene\":{\"xaxis\":{\"backgroundcolor\":\"#E5ECF6\",\"gridcolor\":\"white\",\"gridwidth\":2,\"linecolor\":\"white\",\"showbackground\":true,\"ticks\":\"\",\"zerolinecolor\":\"white\"},\"yaxis\":{\"backgroundcolor\":\"#E5ECF6\",\"gridcolor\":\"white\",\"gridwidth\":2,\"linecolor\":\"white\",\"showbackground\":true,\"ticks\":\"\",\"zerolinecolor\":\"white\"},\"zaxis\":{\"backgroundcolor\":\"#E5ECF6\",\"gridcolor\":\"white\",\"gridwidth\":2,\"linecolor\":\"white\",\"showbackground\":true,\"ticks\":\"\",\"zerolinecolor\":\"white\"}},\"shapedefaults\":{\"line\":{\"color\":\"#2a3f5f\"}},\"ternary\":{\"aaxis\":{\"gridcolor\":\"white\",\"linecolor\":\"white\",\"ticks\":\"\"},\"baxis\":{\"gridcolor\":\"white\",\"linecolor\":\"white\",\"ticks\":\"\"},\"bgcolor\":\"#E5ECF6\",\"caxis\":{\"gridcolor\":\"white\",\"linecolor\":\"white\",\"ticks\":\"\"}},\"title\":{\"x\":0.05},\"xaxis\":{\"automargin\":true,\"gridcolor\":\"white\",\"linecolor\":\"white\",\"ticks\":\"\",\"title\":{\"standoff\":15},\"zerolinecolor\":\"white\",\"zerolinewidth\":2},\"yaxis\":{\"automargin\":true,\"gridcolor\":\"white\",\"linecolor\":\"white\",\"ticks\":\"\",\"title\":{\"standoff\":15},\"zerolinecolor\":\"white\",\"zerolinewidth\":2}}},\"xaxis\":{\"anchor\":\"y\",\"domain\":[0.0,1.0],\"title\":{\"text\":\"star_rating\"}},\"yaxis\":{\"anchor\":\"x\",\"domain\":[0.0,1.0],\"title\":{\"text\":\"duration\"}},\"legend\":{\"tracegroupgap\":0},\"margin\":{\"t\":60},\"boxmode\":\"group\"},                        {\"responsive\": true}                    ).then(function(){\n",
       "                            \n",
       "var gd = document.getElementById('3367f3c7-7869-4e0f-a7fa-17f2f96ae8f6');\n",
       "var x = new MutationObserver(function (mutations, observer) {{\n",
       "        var display = window.getComputedStyle(gd).display;\n",
       "        if (!display || display === 'none') {{\n",
       "            console.log([gd, 'removed!']);\n",
       "            Plotly.purge(gd);\n",
       "            observer.disconnect();\n",
       "        }}\n",
       "}});\n",
       "\n",
       "// Listen for the removal of the full notebook cells\n",
       "var notebookContainer = gd.closest('#notebook-container');\n",
       "if (notebookContainer) {{\n",
       "    x.observe(notebookContainer, {childList: true});\n",
       "}}\n",
       "\n",
       "// Listen for the clearing of the current output cell\n",
       "var outputEl = gd.closest('.output');\n",
       "if (outputEl) {{\n",
       "    x.observe(outputEl, {childList: true});\n",
       "}}\n",
       "\n",
       "                        })                };                });            </script>        </div>"
      ]
     },
     "metadata": {},
     "output_type": "display_data"
    }
   ],
   "source": [
    "# Answer:\n",
    "px.box(movies, x='star_rating', y='duration')\n"
   ]
  },
  {
   "cell_type": "markdown",
   "metadata": {},
   "source": [
    "#### Calculate the average duration for each genre."
   ]
  },
  {
   "cell_type": "code",
   "execution_count": 313,
   "metadata": {},
   "outputs": [
    {
     "data": {
      "text/plain": [
       "genre\n",
       "Action       126.485294\n",
       "Adventure    134.840000\n",
       "Animation     96.596774\n",
       "Biography    131.844156\n",
       "Comedy       107.602564\n",
       "Crime        122.298387\n",
       "Drama        126.539568\n",
       "Family       107.500000\n",
       "Fantasy      112.000000\n",
       "Film-Noir     97.333333\n",
       "History       66.000000\n",
       "Horror       102.517241\n",
       "Mystery      115.625000\n",
       "Sci-Fi       109.000000\n",
       "Thriller     114.200000\n",
       "Western      136.666667\n",
       "Name: duration, dtype: float64"
      ]
     },
     "execution_count": 313,
     "metadata": {},
     "output_type": "execute_result"
    }
   ],
   "source": [
    "# Answer:\n",
    "movies.groupby('genre')['duration'].mean()\n"
   ]
  },
  {
   "cell_type": "markdown",
   "metadata": {},
   "source": [
    "## Advanced level"
   ]
  },
  {
   "cell_type": "markdown",
   "metadata": {},
   "source": [
    "#### Visualize the relationship between content rating and duration."
   ]
  },
  {
   "cell_type": "code",
   "execution_count": 321,
   "metadata": {},
   "outputs": [
    {
     "data": {
      "application/vnd.plotly.v1+json": {
       "config": {
        "plotlyServerURL": "https://plot.ly"
       },
       "data": [
        {
         "alignmentgroup": "True",
         "hovertemplate": "content_rating=%{x}<br>duration=%{y}<extra></extra>",
         "legendgroup": "",
         "marker": {
          "color": "#636efa"
         },
         "name": "",
         "notched": false,
         "offsetgroup": "",
         "orientation": "v",
         "showlegend": false,
         "type": "box",
         "x": [
          "R",
          "R",
          "R",
          "PG-13",
          "R",
          "UNRATED",
          "UNRATED",
          "PG-13",
          "R",
          "R",
          "PG-13",
          "PG-13",
          "PG",
          "PG-13",
          "PG-13",
          "PG-13",
          "R",
          "UNRATED",
          "R",
          "PG",
          "R",
          "R",
          "UNRATED",
          "R",
          "R",
          "PG-13",
          "PG-13",
          "R",
          "R",
          "UNRATED",
          "PG",
          "R",
          "PG",
          "R",
          "R",
          "G",
          "R",
          "PG",
          "UNRATED",
          "R",
          "R",
          "UNRATED",
          "R",
          "PG-13",
          "R",
          "R",
          "R",
          "PG",
          "PG",
          "R",
          "R",
          "R",
          "UNRATED",
          "PG-13",
          "PG",
          "G",
          "R",
          "R",
          "UNRATED",
          "R",
          "PG-13",
          "UNRATED",
          "R",
          "UNRATED",
          "G",
          "UNRATED",
          "UNRATED",
          "R",
          "R",
          "PG-13",
          "R",
          "UNRATED",
          "UNRATED",
          "PG-13",
          "UNRATED",
          "R",
          "UNRATED",
          "R",
          "R",
          "UNRATED",
          "PG",
          "G",
          "R",
          "UNRATED",
          "R",
          "PG",
          "NC-17",
          "UNRATED",
          "UNRATED",
          "UNRATED",
          "R",
          "R",
          "R",
          "UNRATED",
          "UNRATED",
          "UNRATED",
          "UNRATED",
          "PG",
          "UNRATED",
          "R",
          "UNRATED",
          "PG",
          "R",
          "UNRATED",
          "UNRATED",
          "UNRATED",
          "R",
          "UNRATED",
          "UNRATED",
          "UNRATED",
          "G",
          "UNRATED",
          "R",
          "PG-13",
          "R",
          "R",
          "UNRATED",
          "G",
          "PG-13",
          "R",
          "UNRATED",
          "R",
          "UNRATED",
          "UNRATED",
          "R",
          "R",
          "PG",
          "UNRATED",
          "UNRATED",
          "R",
          "R",
          "G",
          "UNRATED",
          "UNRATED",
          "UNRATED",
          "R",
          "R",
          "PG",
          "R",
          "R",
          "UNRATED",
          "R",
          "PG",
          "R",
          "UNRATED",
          "R",
          "PG-13",
          "PG",
          "PG",
          "UNRATED",
          "R",
          "R",
          "R",
          "R",
          "PG",
          "R",
          "R",
          "G",
          "R",
          "UNRATED",
          "PG",
          "UNRATED",
          "R",
          "R",
          "R",
          "UNRATED",
          "R",
          "UNRATED",
          "G",
          "UNRATED",
          "PG-13",
          "PG",
          "R",
          "R",
          "UNRATED",
          "PG-13",
          "R",
          "PG-13",
          "UNRATED",
          "PG",
          "PG-13",
          "UNRATED",
          "UNRATED",
          "UNRATED",
          "R",
          "R",
          "R",
          "PG",
          "UNRATED",
          "R",
          "R",
          "PG-13",
          "G",
          "PG",
          "R",
          "R",
          "PG-13",
          "R",
          "R",
          "R",
          "PG",
          "R",
          "R",
          "UNRATED",
          "G",
          "R",
          "R",
          "UNRATED",
          "PG",
          "PG-13",
          "UNRATED",
          "PG-13",
          "R",
          "R",
          "R",
          "UNRATED",
          "R",
          "UNRATED",
          "R",
          "NC-17",
          "PG",
          "PG",
          "PG-13",
          "R",
          "UNRATED",
          "R",
          "R",
          "PG-13",
          "R",
          "UNRATED",
          "UNRATED",
          "UNRATED",
          "PG-13",
          "UNRATED",
          "UNRATED",
          "R",
          "PG",
          "UNRATED",
          "R",
          "UNRATED",
          "PG-13",
          "PG",
          "R",
          "R",
          "R",
          "PG",
          "UNRATED",
          "R",
          "PG-13",
          "PG",
          "PG",
          "UNRATED",
          "UNRATED",
          "UNRATED",
          "UNRATED",
          "UNRATED",
          "R",
          "UNRATED",
          "UNRATED",
          "PG-13",
          "PG-13",
          "R",
          "UNRATED",
          "UNRATED",
          "R",
          "UNRATED",
          "PG",
          "PG",
          "R",
          "PG",
          "PG-13",
          "PG-13",
          "UNRATED",
          "R",
          "R",
          "PG",
          "R",
          "G",
          "R",
          "PG-13",
          "PG",
          "R",
          "UNRATED",
          "R",
          "PG",
          "UNRATED",
          "PG-13",
          "UNRATED",
          "R",
          "UNRATED",
          "R",
          "UNRATED",
          "UNRATED",
          "UNRATED",
          "G",
          "PG",
          "R",
          "PG",
          "UNRATED",
          "PG-13",
          "R",
          "PG-13",
          "UNRATED",
          "PG",
          "PG",
          "PG-13",
          "R",
          "PG",
          "R",
          "R",
          "PG-13",
          "R",
          "PG-13",
          "G",
          "PG-13",
          "UNRATED",
          "R",
          "UNRATED",
          "R",
          "R",
          "R",
          "R",
          "R",
          "R",
          "R",
          "R",
          "R",
          "PG",
          "UNRATED",
          "UNRATED",
          "UNRATED",
          "R",
          "G",
          "UNRATED",
          "R",
          "PG-13",
          "PG",
          "R",
          "UNRATED",
          "PG-13",
          "PG-13",
          "PG-13",
          "PG",
          "UNRATED",
          "R",
          "R",
          "R",
          "PG",
          "G",
          "R",
          "UNRATED",
          "UNRATED",
          "R",
          "UNRATED",
          "R",
          "R",
          "PG-13",
          "G",
          "UNRATED",
          "PG-13",
          "R",
          "G",
          "PG-13",
          "R",
          "R",
          "R",
          "PG-13",
          "R",
          "G",
          "R",
          "PG-13",
          "R",
          "R",
          "PG-13",
          "R",
          "R",
          "UNRATED",
          "PG-13",
          "PG",
          "PG-13",
          "PG-13",
          "PG",
          "R",
          "R",
          "UNRATED",
          "PG-13",
          "PG",
          "NC-17",
          "R",
          "UNRATED",
          "R",
          "PG-13",
          "R",
          "PG",
          "R",
          "PG",
          "R",
          "PG-13",
          "PG",
          "R",
          "PG-13",
          "R",
          "R",
          "PG-13",
          "PG",
          "UNRATED",
          "R",
          "R",
          "PG-13",
          "R",
          "UNRATED",
          "PG-13",
          "UNRATED",
          "R",
          "G",
          "R",
          "R",
          "R",
          "R",
          "UNRATED",
          "PG",
          "PG",
          "R",
          "R",
          "R",
          "PG",
          "R",
          "UNRATED",
          "PG-13",
          "R",
          "R",
          "R",
          "R",
          "PG-13",
          "PG-13",
          "R",
          "R",
          "PG-13",
          "R",
          "PG-13",
          "R",
          "R",
          "PG-13",
          "PG",
          "UNRATED",
          "UNRATED",
          "R",
          "PG-13",
          "PG",
          "R",
          "R",
          "UNRATED",
          "R",
          "UNRATED",
          "R",
          "PG-13",
          "NC-17",
          "R",
          "R",
          "PG-13",
          "PG-13",
          "G",
          "R",
          "R",
          "R",
          "R",
          "R",
          "UNRATED",
          "PG",
          "R",
          "R",
          "PG",
          "UNRATED",
          "R",
          "R",
          "R",
          "PG-13",
          "PG-13",
          "UNRATED",
          "R",
          "R",
          "UNRATED",
          "R",
          "R",
          "UNRATED",
          "R",
          "NC-17",
          "PG-13",
          "PG-13",
          "PG-13",
          "R",
          "UNRATED",
          "R",
          "R",
          "PG",
          "PG",
          "R",
          "G",
          "G",
          "PG-13",
          "R",
          "PG",
          "R",
          "PG-13",
          "PG",
          "R",
          "R",
          "PG-13",
          "PG-13",
          "R",
          "PG-13",
          "PG-13",
          "PG",
          "UNRATED",
          "PG",
          "R",
          "PG",
          "PG-13",
          "PG",
          "R",
          "PG",
          "UNRATED",
          "PG-13",
          "UNRATED",
          "PG",
          "PG",
          "UNRATED",
          "R",
          "UNRATED",
          "R",
          "R",
          "UNRATED",
          "PG-13",
          "R",
          "G",
          "PG",
          "PG-13",
          "PG",
          "R",
          "PG-13",
          "PG-13",
          "R",
          "PG-13",
          "R",
          "R",
          "R",
          "UNRATED",
          "PG",
          "R",
          "R",
          "PG-13",
          "PG",
          "R",
          "R",
          "PG-13",
          "R",
          "R",
          "UNRATED",
          "R",
          "R",
          "R",
          "R",
          "PG-13",
          "UNRATED",
          "R",
          "PG",
          "R",
          "PG-13",
          "PG-13",
          "PG-13",
          "R",
          "R",
          "PG-13",
          "UNRATED",
          "R",
          "UNRATED",
          "R",
          "PG-13",
          "PG-13",
          "PG-13",
          "PG",
          "R",
          "UNRATED",
          "R",
          "R",
          "PG",
          "PG",
          "R",
          "R",
          "R",
          "PG",
          "PG-13",
          "UNRATED",
          "R",
          "R",
          "PG",
          "R",
          "R",
          "R",
          "R",
          "R",
          "R",
          "R",
          "R",
          "NC-17",
          "PG-13",
          "R",
          "R",
          "R",
          "R",
          "R",
          "R",
          "UNRATED",
          "R",
          "R",
          "R",
          "R",
          "PG",
          "UNRATED",
          "UNRATED",
          "PG-13",
          "R",
          "PG-13",
          "PG-13",
          "R",
          "G",
          "PG-13",
          "PG-13",
          "R",
          "PG-13",
          "PG-13",
          "UNRATED",
          "R",
          "R",
          "PG",
          "R",
          "R",
          "R",
          "R",
          "PG-13",
          "R",
          "PG",
          "PG-13",
          "PG-13",
          "PG-13",
          "PG",
          "R",
          "UNRATED",
          "R",
          "PG",
          "R",
          "R",
          "UNRATED",
          "PG-13",
          "R",
          "R",
          "UNRATED",
          "PG",
          "PG-13",
          "R",
          "PG-13",
          "PG-13",
          "PG-13",
          "R",
          "PG",
          "UNRATED",
          "R",
          "PG-13",
          "G",
          "PG",
          "R",
          "R",
          "R",
          "UNRATED",
          "G",
          "R",
          "R",
          "R",
          "PG-13",
          "PG-13",
          "PG-13",
          "R",
          "PG-13",
          "R",
          "PG-13",
          "R",
          "PG-13",
          "UNRATED",
          "R",
          "PG-13",
          "R",
          "UNRATED",
          "R",
          "R",
          "R",
          "R",
          "PG-13",
          "R",
          "R",
          "PG-13",
          "R",
          "R",
          "R",
          "UNRATED",
          "R",
          "PG-13",
          "PG-13",
          "R",
          "R",
          "PG-13",
          "R",
          "R",
          "R",
          "UNRATED",
          "R",
          "NC-17",
          "R",
          "R",
          "PG-13",
          "R",
          "R",
          "R",
          "R",
          "R",
          "R",
          "R",
          "PG-13",
          "PG-13",
          "R",
          "R",
          "UNRATED",
          "R",
          "R",
          "R",
          "R",
          "PG-13",
          "PG-13",
          "PG",
          "R",
          "R",
          "R",
          "R",
          "R",
          "PG",
          "R",
          "R",
          "R",
          "R",
          "PG",
          "R",
          "R",
          "PG-13",
          "R",
          "PG",
          "PG",
          "NC-17",
          "PG-13",
          "UNRATED",
          "PG-13",
          "G",
          "R",
          "R",
          "R",
          "UNRATED",
          "PG",
          "R",
          "G",
          "UNRATED",
          "R",
          "R",
          "R",
          "R",
          "PG",
          "R",
          "R",
          "PG",
          "PG-13",
          "PG-13",
          "R",
          "R",
          "R",
          "R",
          "PG-13",
          "R",
          "R",
          "R",
          "R",
          "PG-13",
          "R",
          "PG",
          "PG-13",
          "R",
          "R",
          "R",
          "PG",
          "R",
          "NC-17",
          "R",
          "R",
          "R",
          "PG",
          "PG-13",
          "UNRATED",
          "R",
          "PG-13",
          "PG-13",
          "PG-13",
          "R",
          "R",
          "PG-13",
          "PG-13",
          "R",
          "PG-13",
          "PG",
          "PG-13",
          "R",
          "PG",
          "PG-13",
          "R",
          "R",
          "G",
          "PG-13",
          "PG",
          "UNRATED",
          "PG-13",
          "PG",
          "R",
          "UNRATED",
          "R",
          "R",
          "R",
          "R",
          "R",
          "R",
          "R",
          "PG",
          "R",
          "R",
          "PG-13",
          "R",
          "R",
          "R",
          "R",
          "R",
          "UNRATED",
          "PG-13",
          "R",
          "R",
          "PG",
          "PG-13",
          "PG",
          "PG-13",
          "PG",
          "PG",
          "PG",
          "R",
          "PG-13",
          "PG-13",
          "PG-13",
          "PG-13",
          "R",
          "R",
          "R",
          "R",
          "R",
          "PG-13",
          "UNRATED",
          "PG-13",
          "PG-13",
          "R",
          "R",
          "PG-13",
          "R",
          "R",
          "PG-13",
          "R",
          "PG-13",
          "R",
          "R",
          "R",
          "R",
          "R",
          "G",
          "R",
          "R",
          "R",
          "R",
          "R",
          "PG-13",
          "R",
          "R",
          "PG",
          "R",
          "R",
          "PG-13",
          "R",
          "UNRATED",
          "R",
          "PG",
          "UNRATED",
          "R",
          "R",
          "R",
          "R",
          "R",
          "R",
          "R",
          "R",
          "PG",
          "PG",
          "R",
          "R",
          "R",
          "NC-17",
          "R",
          "NC-17",
          "R",
          "R",
          "R",
          "R",
          "R",
          "R",
          "PG-13",
          "PG-13",
          "PG-13",
          "R",
          "R",
          "R",
          "R",
          "PG-13",
          "R",
          "R",
          "PG-13",
          "PG",
          "PG-13",
          "R",
          "PG-13",
          "PG",
          "G",
          "R",
          "PG-13",
          "PG",
          "PG-13",
          "PG-13",
          "R",
          "R",
          "PG-13",
          "UNRATED",
          "R",
          "PG",
          "R",
          "R",
          "R",
          "PG",
          "PG-13",
          "R",
          "PG",
          "R",
          "PG-13",
          "R",
          "PG-13",
          "R",
          "PG",
          "R",
          "PG-13",
          "PG-13",
          "PG-13",
          "R",
          "R",
          "R",
          "R",
          "R",
          "NC-17",
          "PG-13",
          "PG",
          "PG",
          "PG-13",
          "PG",
          "R"
         ],
         "x0": " ",
         "xaxis": "x",
         "y": [
          142,
          175,
          200,
          152,
          154,
          96,
          161,
          201,
          195,
          139,
          178,
          148,
          124,
          142,
          179,
          169,
          133,
          207,
          146,
          121,
          136,
          130,
          130,
          106,
          127,
          116,
          175,
          118,
          110,
          87,
          125,
          112,
          102,
          107,
          119,
          87,
          169,
          115,
          112,
          109,
          189,
          110,
          150,
          165,
          155,
          137,
          113,
          165,
          95,
          151,
          155,
          153,
          125,
          130,
          116,
          89,
          137,
          117,
          88,
          165,
          170,
          89,
          146,
          99,
          98,
          116,
          156,
          122,
          149,
          134,
          122,
          136,
          157,
          123,
          119,
          137,
          128,
          120,
          229,
          107,
          134,
          103,
          177,
          129,
          102,
          216,
          136,
          93,
          68,
          189,
          99,
          108,
          113,
          181,
          103,
          138,
          110,
          129,
          88,
          160,
          126,
          91,
          116,
          125,
          143,
          93,
          102,
          132,
          153,
          183,
          160,
          120,
          138,
          140,
          153,
          170,
          129,
          81,
          127,
          131,
          172,
          115,
          108,
          107,
          129,
          156,
          96,
          91,
          95,
          162,
          130,
          86,
          186,
          151,
          96,
          170,
          118,
          161,
          131,
          126,
          131,
          129,
          224,
          180,
          105,
          117,
          140,
          119,
          124,
          130,
          139,
          107,
          132,
          117,
          126,
          122,
          178,
          238,
          149,
          172,
          98,
          116,
          116,
          123,
          148,
          123,
          182,
          92,
          93,
          100,
          135,
          105,
          94,
          140,
          83,
          95,
          98,
          143,
          99,
          98,
          121,
          163,
          121,
          167,
          188,
          121,
          109,
          110,
          129,
          127,
          94,
          107,
          100,
          117,
          129,
          120,
          121,
          133,
          111,
          122,
          101,
          134,
          165,
          138,
          212,
          154,
          89,
          134,
          93,
          114,
          88,
          130,
          101,
          158,
          99,
          108,
          124,
          132,
          113,
          131,
          191,
          167,
          130,
          147,
          102,
          88,
          165,
          132,
          118,
          101,
          108,
          174,
          98,
          92,
          98,
          106,
          85,
          101,
          105,
          115,
          115,
          124,
          105,
          103,
          138,
          184,
          120,
          99,
          131,
          138,
          98,
          123,
          118,
          114,
          118,
          112,
          124,
          160,
          67,
          146,
          125,
          115,
          134,
          141,
          129,
          104,
          94,
          124,
          150,
          119,
          128,
          143,
          85,
          151,
          118,
          101,
          99,
          92,
          125,
          102,
          106,
          107,
          91,
          80,
          122,
          102,
          112,
          92,
          135,
          136,
          153,
          105,
          126,
          68,
          84,
          103,
          145,
          80,
          106,
          127,
          178,
          137,
          172,
          76,
          130,
          96,
          82,
          115,
          95,
          143,
          125,
          120,
          127,
          112,
          104,
          113,
          189,
          127,
          188,
          96,
          113,
          132,
          122,
          126,
          140,
          133,
          112,
          102,
          93,
          109,
          81,
          108,
          111,
          119,
          96,
          197,
          127,
          138,
          66,
          181,
          141,
          144,
          128,
          83,
          121,
          98,
          117,
          94,
          174,
          112,
          108,
          70,
          99,
          96,
          137,
          136,
          100,
          90,
          96,
          161,
          115,
          181,
          169,
          98,
          136,
          138,
          119,
          123,
          112,
          120,
          103,
          97,
          109,
          165,
          156,
          147,
          100,
          126,
          115,
          105,
          144,
          102,
          107,
          119,
          90,
          197,
          86,
          113,
          133,
          64,
          141,
          113,
          122,
          105,
          119,
          102,
          122,
          123,
          113,
          97,
          117,
          111,
          85,
          99,
          134,
          75,
          109,
          117,
          91,
          128,
          111,
          119,
          100,
          114,
          92,
          141,
          101,
          115,
          127,
          96,
          129,
          135,
          109,
          157,
          193,
          94,
          155,
          113,
          130,
          117,
          159,
          141,
          112,
          162,
          126,
          120,
          144,
          120,
          109,
          97,
          108,
          115,
          136,
          90,
          170,
          220,
          116,
          134,
          124,
          91,
          103,
          96,
          119,
          98,
          101,
          93,
          179,
          155,
          121,
          103,
          127,
          103,
          107,
          100,
          92,
          94,
          158,
          86,
          115,
          130,
          107,
          100,
          108,
          124,
          131,
          122,
          242,
          127,
          141,
          126,
          89,
          113,
          152,
          107,
          92,
          145,
          84,
          126,
          132,
          78,
          117,
          128,
          100,
          128,
          100,
          143,
          107,
          100,
          125,
          106,
          157,
          94,
          104,
          94,
          153,
          123,
          120,
          105,
          166,
          112,
          94,
          111,
          87,
          80,
          108,
          102,
          105,
          136,
          101,
          100,
          108,
          101,
          106,
          105,
          88,
          129,
          138,
          129,
          118,
          139,
          123,
          150,
          132,
          80,
          178,
          79,
          163,
          114,
          144,
          130,
          154,
          81,
          95,
          101,
          120,
          93,
          115,
          106,
          120,
          110,
          123,
          142,
          99,
          112,
          120,
          122,
          130,
          139,
          129,
          141,
          127,
          130,
          118,
          110,
          115,
          101,
          112,
          108,
          143,
          152,
          117,
          121,
          119,
          114,
          122,
          105,
          110,
          116,
          139,
          121,
          109,
          146,
          113,
          100,
          121,
          113,
          113,
          117,
          93,
          101,
          90,
          131,
          98,
          93,
          121,
          82,
          124,
          100,
          117,
          99,
          116,
          123,
          114,
          133,
          105,
          127,
          144,
          90,
          118,
          122,
          102,
          187,
          87,
          154,
          89,
          88,
          129,
          95,
          118,
          98,
          194,
          114,
          80,
          130,
          135,
          101,
          105,
          129,
          134,
          143,
          202,
          89,
          106,
          92,
          137,
          124,
          122,
          113,
          112,
          110,
          135,
          88,
          146,
          104,
          125,
          131,
          91,
          142,
          129,
          158,
          102,
          99,
          101,
          104,
          119,
          103,
          88,
          100,
          146,
          150,
          140,
          140,
          110,
          97,
          102,
          152,
          100,
          94,
          85,
          104,
          112,
          191,
          119,
          111,
          94,
          103,
          134,
          157,
          158,
          127,
          101,
          109,
          98,
          134,
          168,
          93,
          145,
          111,
          88,
          123,
          121,
          144,
          116,
          124,
          147,
          106,
          113,
          129,
          94,
          126,
          128,
          111,
          146,
          85,
          105,
          132,
          130,
          162,
          113,
          110,
          113,
          162,
          110,
          78,
          92,
          95,
          138,
          102,
          128,
          96,
          164,
          126,
          110,
          109,
          122,
          124,
          128,
          157,
          120,
          102,
          152,
          170,
          102,
          116,
          164,
          85,
          104,
          99,
          81,
          131,
          101,
          121,
          69,
          92,
          94,
          141,
          116,
          98,
          135,
          121,
          108,
          114,
          102,
          112,
          140,
          157,
          128,
          108,
          139,
          83,
          131,
          113,
          136,
          96,
          118,
          108,
          83,
          205,
          124,
          111,
          137,
          104,
          109,
          115,
          99,
          114,
          133,
          131,
          131,
          123,
          126,
          97,
          126,
          89,
          122,
          121,
          125,
          105,
          118,
          81,
          115,
          126,
          113,
          107,
          126,
          111,
          85,
          120,
          93,
          100,
          107,
          126,
          131,
          116,
          143,
          93,
          96,
          160,
          137,
          119,
          114,
          98,
          111,
          138,
          144,
          107,
          114,
          125,
          146,
          113,
          85,
          97,
          93,
          113,
          128,
          114,
          147,
          127,
          167,
          124,
          109,
          124,
          102,
          130,
          125,
          98,
          154,
          97,
          128,
          98,
          101,
          147,
          172,
          125,
          88,
          125,
          121,
          112,
          120,
          133,
          110,
          135,
          110,
          80,
          135,
          101,
          112,
          124,
          129,
          104,
          96,
          105,
          109,
          117,
          78,
          138,
          106,
          90,
          106,
          91,
          112,
          134,
          112,
          104,
          101,
          120,
          123,
          133,
          110,
          129,
          120,
          83,
          88,
          96,
          139,
          113,
          84,
          106,
          170,
          144,
          104,
          153,
          85,
          130,
          93,
          148,
          115,
          102,
          125,
          106,
          121,
          143,
          116,
          99,
          116,
          128,
          119,
          104,
          114,
          152,
          129,
          103,
          112,
          92,
          141,
          106,
          109,
          104,
          122,
          111,
          112,
          116,
          130,
          133,
          134,
          92,
          104,
          110,
          97,
          100,
          118,
          112,
          138,
          92,
          118,
          140,
          128,
          101,
          75,
          97,
          111,
          175,
          94,
          97,
          132,
          120,
          107,
          89,
          86,
          103,
          108,
          105,
          117,
          102,
          104,
          157,
          104,
          98,
          109,
          96,
          103,
          114,
          99,
          118,
          150,
          105,
          87,
          136,
          162,
          109,
          107,
          90,
          112,
          126,
          116,
          118,
          138,
          114,
          126
         ],
         "y0": " ",
         "yaxis": "y"
        }
       ],
       "layout": {
        "boxmode": "group",
        "legend": {
         "tracegroupgap": 0
        },
        "margin": {
         "t": 60
        },
        "template": {
         "data": {
          "bar": [
           {
            "error_x": {
             "color": "#2a3f5f"
            },
            "error_y": {
             "color": "#2a3f5f"
            },
            "marker": {
             "line": {
              "color": "#E5ECF6",
              "width": 0.5
             },
             "pattern": {
              "fillmode": "overlay",
              "size": 10,
              "solidity": 0.2
             }
            },
            "type": "bar"
           }
          ],
          "barpolar": [
           {
            "marker": {
             "line": {
              "color": "#E5ECF6",
              "width": 0.5
             },
             "pattern": {
              "fillmode": "overlay",
              "size": 10,
              "solidity": 0.2
             }
            },
            "type": "barpolar"
           }
          ],
          "carpet": [
           {
            "aaxis": {
             "endlinecolor": "#2a3f5f",
             "gridcolor": "white",
             "linecolor": "white",
             "minorgridcolor": "white",
             "startlinecolor": "#2a3f5f"
            },
            "baxis": {
             "endlinecolor": "#2a3f5f",
             "gridcolor": "white",
             "linecolor": "white",
             "minorgridcolor": "white",
             "startlinecolor": "#2a3f5f"
            },
            "type": "carpet"
           }
          ],
          "choropleth": [
           {
            "colorbar": {
             "outlinewidth": 0,
             "ticks": ""
            },
            "type": "choropleth"
           }
          ],
          "contour": [
           {
            "colorbar": {
             "outlinewidth": 0,
             "ticks": ""
            },
            "colorscale": [
             [
              0,
              "#0d0887"
             ],
             [
              0.1111111111111111,
              "#46039f"
             ],
             [
              0.2222222222222222,
              "#7201a8"
             ],
             [
              0.3333333333333333,
              "#9c179e"
             ],
             [
              0.4444444444444444,
              "#bd3786"
             ],
             [
              0.5555555555555556,
              "#d8576b"
             ],
             [
              0.6666666666666666,
              "#ed7953"
             ],
             [
              0.7777777777777778,
              "#fb9f3a"
             ],
             [
              0.8888888888888888,
              "#fdca26"
             ],
             [
              1,
              "#f0f921"
             ]
            ],
            "type": "contour"
           }
          ],
          "contourcarpet": [
           {
            "colorbar": {
             "outlinewidth": 0,
             "ticks": ""
            },
            "type": "contourcarpet"
           }
          ],
          "heatmap": [
           {
            "colorbar": {
             "outlinewidth": 0,
             "ticks": ""
            },
            "colorscale": [
             [
              0,
              "#0d0887"
             ],
             [
              0.1111111111111111,
              "#46039f"
             ],
             [
              0.2222222222222222,
              "#7201a8"
             ],
             [
              0.3333333333333333,
              "#9c179e"
             ],
             [
              0.4444444444444444,
              "#bd3786"
             ],
             [
              0.5555555555555556,
              "#d8576b"
             ],
             [
              0.6666666666666666,
              "#ed7953"
             ],
             [
              0.7777777777777778,
              "#fb9f3a"
             ],
             [
              0.8888888888888888,
              "#fdca26"
             ],
             [
              1,
              "#f0f921"
             ]
            ],
            "type": "heatmap"
           }
          ],
          "heatmapgl": [
           {
            "colorbar": {
             "outlinewidth": 0,
             "ticks": ""
            },
            "colorscale": [
             [
              0,
              "#0d0887"
             ],
             [
              0.1111111111111111,
              "#46039f"
             ],
             [
              0.2222222222222222,
              "#7201a8"
             ],
             [
              0.3333333333333333,
              "#9c179e"
             ],
             [
              0.4444444444444444,
              "#bd3786"
             ],
             [
              0.5555555555555556,
              "#d8576b"
             ],
             [
              0.6666666666666666,
              "#ed7953"
             ],
             [
              0.7777777777777778,
              "#fb9f3a"
             ],
             [
              0.8888888888888888,
              "#fdca26"
             ],
             [
              1,
              "#f0f921"
             ]
            ],
            "type": "heatmapgl"
           }
          ],
          "histogram": [
           {
            "marker": {
             "pattern": {
              "fillmode": "overlay",
              "size": 10,
              "solidity": 0.2
             }
            },
            "type": "histogram"
           }
          ],
          "histogram2d": [
           {
            "colorbar": {
             "outlinewidth": 0,
             "ticks": ""
            },
            "colorscale": [
             [
              0,
              "#0d0887"
             ],
             [
              0.1111111111111111,
              "#46039f"
             ],
             [
              0.2222222222222222,
              "#7201a8"
             ],
             [
              0.3333333333333333,
              "#9c179e"
             ],
             [
              0.4444444444444444,
              "#bd3786"
             ],
             [
              0.5555555555555556,
              "#d8576b"
             ],
             [
              0.6666666666666666,
              "#ed7953"
             ],
             [
              0.7777777777777778,
              "#fb9f3a"
             ],
             [
              0.8888888888888888,
              "#fdca26"
             ],
             [
              1,
              "#f0f921"
             ]
            ],
            "type": "histogram2d"
           }
          ],
          "histogram2dcontour": [
           {
            "colorbar": {
             "outlinewidth": 0,
             "ticks": ""
            },
            "colorscale": [
             [
              0,
              "#0d0887"
             ],
             [
              0.1111111111111111,
              "#46039f"
             ],
             [
              0.2222222222222222,
              "#7201a8"
             ],
             [
              0.3333333333333333,
              "#9c179e"
             ],
             [
              0.4444444444444444,
              "#bd3786"
             ],
             [
              0.5555555555555556,
              "#d8576b"
             ],
             [
              0.6666666666666666,
              "#ed7953"
             ],
             [
              0.7777777777777778,
              "#fb9f3a"
             ],
             [
              0.8888888888888888,
              "#fdca26"
             ],
             [
              1,
              "#f0f921"
             ]
            ],
            "type": "histogram2dcontour"
           }
          ],
          "mesh3d": [
           {
            "colorbar": {
             "outlinewidth": 0,
             "ticks": ""
            },
            "type": "mesh3d"
           }
          ],
          "parcoords": [
           {
            "line": {
             "colorbar": {
              "outlinewidth": 0,
              "ticks": ""
             }
            },
            "type": "parcoords"
           }
          ],
          "pie": [
           {
            "automargin": true,
            "type": "pie"
           }
          ],
          "scatter": [
           {
            "marker": {
             "colorbar": {
              "outlinewidth": 0,
              "ticks": ""
             }
            },
            "type": "scatter"
           }
          ],
          "scatter3d": [
           {
            "line": {
             "colorbar": {
              "outlinewidth": 0,
              "ticks": ""
             }
            },
            "marker": {
             "colorbar": {
              "outlinewidth": 0,
              "ticks": ""
             }
            },
            "type": "scatter3d"
           }
          ],
          "scattercarpet": [
           {
            "marker": {
             "colorbar": {
              "outlinewidth": 0,
              "ticks": ""
             }
            },
            "type": "scattercarpet"
           }
          ],
          "scattergeo": [
           {
            "marker": {
             "colorbar": {
              "outlinewidth": 0,
              "ticks": ""
             }
            },
            "type": "scattergeo"
           }
          ],
          "scattergl": [
           {
            "marker": {
             "colorbar": {
              "outlinewidth": 0,
              "ticks": ""
             }
            },
            "type": "scattergl"
           }
          ],
          "scattermapbox": [
           {
            "marker": {
             "colorbar": {
              "outlinewidth": 0,
              "ticks": ""
             }
            },
            "type": "scattermapbox"
           }
          ],
          "scatterpolar": [
           {
            "marker": {
             "colorbar": {
              "outlinewidth": 0,
              "ticks": ""
             }
            },
            "type": "scatterpolar"
           }
          ],
          "scatterpolargl": [
           {
            "marker": {
             "colorbar": {
              "outlinewidth": 0,
              "ticks": ""
             }
            },
            "type": "scatterpolargl"
           }
          ],
          "scatterternary": [
           {
            "marker": {
             "colorbar": {
              "outlinewidth": 0,
              "ticks": ""
             }
            },
            "type": "scatterternary"
           }
          ],
          "surface": [
           {
            "colorbar": {
             "outlinewidth": 0,
             "ticks": ""
            },
            "colorscale": [
             [
              0,
              "#0d0887"
             ],
             [
              0.1111111111111111,
              "#46039f"
             ],
             [
              0.2222222222222222,
              "#7201a8"
             ],
             [
              0.3333333333333333,
              "#9c179e"
             ],
             [
              0.4444444444444444,
              "#bd3786"
             ],
             [
              0.5555555555555556,
              "#d8576b"
             ],
             [
              0.6666666666666666,
              "#ed7953"
             ],
             [
              0.7777777777777778,
              "#fb9f3a"
             ],
             [
              0.8888888888888888,
              "#fdca26"
             ],
             [
              1,
              "#f0f921"
             ]
            ],
            "type": "surface"
           }
          ],
          "table": [
           {
            "cells": {
             "fill": {
              "color": "#EBF0F8"
             },
             "line": {
              "color": "white"
             }
            },
            "header": {
             "fill": {
              "color": "#C8D4E3"
             },
             "line": {
              "color": "white"
             }
            },
            "type": "table"
           }
          ]
         },
         "layout": {
          "annotationdefaults": {
           "arrowcolor": "#2a3f5f",
           "arrowhead": 0,
           "arrowwidth": 1
          },
          "autotypenumbers": "strict",
          "coloraxis": {
           "colorbar": {
            "outlinewidth": 0,
            "ticks": ""
           }
          },
          "colorscale": {
           "diverging": [
            [
             0,
             "#8e0152"
            ],
            [
             0.1,
             "#c51b7d"
            ],
            [
             0.2,
             "#de77ae"
            ],
            [
             0.3,
             "#f1b6da"
            ],
            [
             0.4,
             "#fde0ef"
            ],
            [
             0.5,
             "#f7f7f7"
            ],
            [
             0.6,
             "#e6f5d0"
            ],
            [
             0.7,
             "#b8e186"
            ],
            [
             0.8,
             "#7fbc41"
            ],
            [
             0.9,
             "#4d9221"
            ],
            [
             1,
             "#276419"
            ]
           ],
           "sequential": [
            [
             0,
             "#0d0887"
            ],
            [
             0.1111111111111111,
             "#46039f"
            ],
            [
             0.2222222222222222,
             "#7201a8"
            ],
            [
             0.3333333333333333,
             "#9c179e"
            ],
            [
             0.4444444444444444,
             "#bd3786"
            ],
            [
             0.5555555555555556,
             "#d8576b"
            ],
            [
             0.6666666666666666,
             "#ed7953"
            ],
            [
             0.7777777777777778,
             "#fb9f3a"
            ],
            [
             0.8888888888888888,
             "#fdca26"
            ],
            [
             1,
             "#f0f921"
            ]
           ],
           "sequentialminus": [
            [
             0,
             "#0d0887"
            ],
            [
             0.1111111111111111,
             "#46039f"
            ],
            [
             0.2222222222222222,
             "#7201a8"
            ],
            [
             0.3333333333333333,
             "#9c179e"
            ],
            [
             0.4444444444444444,
             "#bd3786"
            ],
            [
             0.5555555555555556,
             "#d8576b"
            ],
            [
             0.6666666666666666,
             "#ed7953"
            ],
            [
             0.7777777777777778,
             "#fb9f3a"
            ],
            [
             0.8888888888888888,
             "#fdca26"
            ],
            [
             1,
             "#f0f921"
            ]
           ]
          },
          "colorway": [
           "#636efa",
           "#EF553B",
           "#00cc96",
           "#ab63fa",
           "#FFA15A",
           "#19d3f3",
           "#FF6692",
           "#B6E880",
           "#FF97FF",
           "#FECB52"
          ],
          "font": {
           "color": "#2a3f5f"
          },
          "geo": {
           "bgcolor": "white",
           "lakecolor": "white",
           "landcolor": "#E5ECF6",
           "showlakes": true,
           "showland": true,
           "subunitcolor": "white"
          },
          "hoverlabel": {
           "align": "left"
          },
          "hovermode": "closest",
          "mapbox": {
           "style": "light"
          },
          "paper_bgcolor": "white",
          "plot_bgcolor": "#E5ECF6",
          "polar": {
           "angularaxis": {
            "gridcolor": "white",
            "linecolor": "white",
            "ticks": ""
           },
           "bgcolor": "#E5ECF6",
           "radialaxis": {
            "gridcolor": "white",
            "linecolor": "white",
            "ticks": ""
           }
          },
          "scene": {
           "xaxis": {
            "backgroundcolor": "#E5ECF6",
            "gridcolor": "white",
            "gridwidth": 2,
            "linecolor": "white",
            "showbackground": true,
            "ticks": "",
            "zerolinecolor": "white"
           },
           "yaxis": {
            "backgroundcolor": "#E5ECF6",
            "gridcolor": "white",
            "gridwidth": 2,
            "linecolor": "white",
            "showbackground": true,
            "ticks": "",
            "zerolinecolor": "white"
           },
           "zaxis": {
            "backgroundcolor": "#E5ECF6",
            "gridcolor": "white",
            "gridwidth": 2,
            "linecolor": "white",
            "showbackground": true,
            "ticks": "",
            "zerolinecolor": "white"
           }
          },
          "shapedefaults": {
           "line": {
            "color": "#2a3f5f"
           }
          },
          "ternary": {
           "aaxis": {
            "gridcolor": "white",
            "linecolor": "white",
            "ticks": ""
           },
           "baxis": {
            "gridcolor": "white",
            "linecolor": "white",
            "ticks": ""
           },
           "bgcolor": "#E5ECF6",
           "caxis": {
            "gridcolor": "white",
            "linecolor": "white",
            "ticks": ""
           }
          },
          "title": {
           "x": 0.05
          },
          "xaxis": {
           "automargin": true,
           "gridcolor": "white",
           "linecolor": "white",
           "ticks": "",
           "title": {
            "standoff": 15
           },
           "zerolinecolor": "white",
           "zerolinewidth": 2
          },
          "yaxis": {
           "automargin": true,
           "gridcolor": "white",
           "linecolor": "white",
           "ticks": "",
           "title": {
            "standoff": 15
           },
           "zerolinecolor": "white",
           "zerolinewidth": 2
          }
         }
        },
        "xaxis": {
         "anchor": "y",
         "domain": [
          0,
          1
         ],
         "title": {
          "text": "content_rating"
         }
        },
        "yaxis": {
         "anchor": "x",
         "domain": [
          0,
          1
         ],
         "title": {
          "text": "duration"
         }
        }
       }
      },
      "text/html": [
       "<div>                            <div id=\"888f66c3-9f6d-4533-a11a-4920baa27818\" class=\"plotly-graph-div\" style=\"height:525px; width:100%;\"></div>            <script type=\"text/javascript\">                require([\"plotly\"], function(Plotly) {                    window.PLOTLYENV=window.PLOTLYENV || {};                                    if (document.getElementById(\"888f66c3-9f6d-4533-a11a-4920baa27818\")) {                    Plotly.newPlot(                        \"888f66c3-9f6d-4533-a11a-4920baa27818\",                        [{\"alignmentgroup\":\"True\",\"hovertemplate\":\"content_rating=%{x}<br>duration=%{y}<extra></extra>\",\"legendgroup\":\"\",\"marker\":{\"color\":\"#636efa\"},\"name\":\"\",\"notched\":false,\"offsetgroup\":\"\",\"orientation\":\"v\",\"showlegend\":false,\"x\":[\"R\",\"R\",\"R\",\"PG-13\",\"R\",\"UNRATED\",\"UNRATED\",\"PG-13\",\"R\",\"R\",\"PG-13\",\"PG-13\",\"PG\",\"PG-13\",\"PG-13\",\"PG-13\",\"R\",\"UNRATED\",\"R\",\"PG\",\"R\",\"R\",\"UNRATED\",\"R\",\"R\",\"PG-13\",\"PG-13\",\"R\",\"R\",\"UNRATED\",\"PG\",\"R\",\"PG\",\"R\",\"R\",\"G\",\"R\",\"PG\",\"UNRATED\",\"R\",\"R\",\"UNRATED\",\"R\",\"PG-13\",\"R\",\"R\",\"R\",\"PG\",\"PG\",\"R\",\"R\",\"R\",\"UNRATED\",\"PG-13\",\"PG\",\"G\",\"R\",\"R\",\"UNRATED\",\"R\",\"PG-13\",\"UNRATED\",\"R\",\"UNRATED\",\"G\",\"UNRATED\",\"UNRATED\",\"R\",\"R\",\"PG-13\",\"R\",\"UNRATED\",\"UNRATED\",\"PG-13\",\"UNRATED\",\"R\",\"UNRATED\",\"R\",\"R\",\"UNRATED\",\"PG\",\"G\",\"R\",\"UNRATED\",\"R\",\"PG\",\"NC-17\",\"UNRATED\",\"UNRATED\",\"UNRATED\",\"R\",\"R\",\"R\",\"UNRATED\",\"UNRATED\",\"UNRATED\",\"UNRATED\",\"PG\",\"UNRATED\",\"R\",\"UNRATED\",\"PG\",\"R\",\"UNRATED\",\"UNRATED\",\"UNRATED\",\"R\",\"UNRATED\",\"UNRATED\",\"UNRATED\",\"G\",\"UNRATED\",\"R\",\"PG-13\",\"R\",\"R\",\"UNRATED\",\"G\",\"PG-13\",\"R\",\"UNRATED\",\"R\",\"UNRATED\",\"UNRATED\",\"R\",\"R\",\"PG\",\"UNRATED\",\"UNRATED\",\"R\",\"R\",\"G\",\"UNRATED\",\"UNRATED\",\"UNRATED\",\"R\",\"R\",\"PG\",\"R\",\"R\",\"UNRATED\",\"R\",\"PG\",\"R\",\"UNRATED\",\"R\",\"PG-13\",\"PG\",\"PG\",\"UNRATED\",\"R\",\"R\",\"R\",\"R\",\"PG\",\"R\",\"R\",\"G\",\"R\",\"UNRATED\",\"PG\",\"UNRATED\",\"R\",\"R\",\"R\",\"UNRATED\",\"R\",\"UNRATED\",\"G\",\"UNRATED\",\"PG-13\",\"PG\",\"R\",\"R\",\"UNRATED\",\"PG-13\",\"R\",\"PG-13\",\"UNRATED\",\"PG\",\"PG-13\",\"UNRATED\",\"UNRATED\",\"UNRATED\",\"R\",\"R\",\"R\",\"PG\",\"UNRATED\",\"R\",\"R\",\"PG-13\",\"G\",\"PG\",\"R\",\"R\",\"PG-13\",\"R\",\"R\",\"R\",\"PG\",\"R\",\"R\",\"UNRATED\",\"G\",\"R\",\"R\",\"UNRATED\",\"PG\",\"PG-13\",\"UNRATED\",\"PG-13\",\"R\",\"R\",\"R\",\"UNRATED\",\"R\",\"UNRATED\",\"R\",\"NC-17\",\"PG\",\"PG\",\"PG-13\",\"R\",\"UNRATED\",\"R\",\"R\",\"PG-13\",\"R\",\"UNRATED\",\"UNRATED\",\"UNRATED\",\"PG-13\",\"UNRATED\",\"UNRATED\",\"R\",\"PG\",\"UNRATED\",\"R\",\"UNRATED\",\"PG-13\",\"PG\",\"R\",\"R\",\"R\",\"PG\",\"UNRATED\",\"R\",\"PG-13\",\"PG\",\"PG\",\"UNRATED\",\"UNRATED\",\"UNRATED\",\"UNRATED\",\"UNRATED\",\"R\",\"UNRATED\",\"UNRATED\",\"PG-13\",\"PG-13\",\"R\",\"UNRATED\",\"UNRATED\",\"R\",\"UNRATED\",\"PG\",\"PG\",\"R\",\"PG\",\"PG-13\",\"PG-13\",\"UNRATED\",\"R\",\"R\",\"PG\",\"R\",\"G\",\"R\",\"PG-13\",\"PG\",\"R\",\"UNRATED\",\"R\",\"PG\",\"UNRATED\",\"PG-13\",\"UNRATED\",\"R\",\"UNRATED\",\"R\",\"UNRATED\",\"UNRATED\",\"UNRATED\",\"G\",\"PG\",\"R\",\"PG\",\"UNRATED\",\"PG-13\",\"R\",\"PG-13\",\"UNRATED\",\"PG\",\"PG\",\"PG-13\",\"R\",\"PG\",\"R\",\"R\",\"PG-13\",\"R\",\"PG-13\",\"G\",\"PG-13\",\"UNRATED\",\"R\",\"UNRATED\",\"R\",\"R\",\"R\",\"R\",\"R\",\"R\",\"R\",\"R\",\"R\",\"PG\",\"UNRATED\",\"UNRATED\",\"UNRATED\",\"R\",\"G\",\"UNRATED\",\"R\",\"PG-13\",\"PG\",\"R\",\"UNRATED\",\"PG-13\",\"PG-13\",\"PG-13\",\"PG\",\"UNRATED\",\"R\",\"R\",\"R\",\"PG\",\"G\",\"R\",\"UNRATED\",\"UNRATED\",\"R\",\"UNRATED\",\"R\",\"R\",\"PG-13\",\"G\",\"UNRATED\",\"PG-13\",\"R\",\"G\",\"PG-13\",\"R\",\"R\",\"R\",\"PG-13\",\"R\",\"G\",\"R\",\"PG-13\",\"R\",\"R\",\"PG-13\",\"R\",\"R\",\"UNRATED\",\"PG-13\",\"PG\",\"PG-13\",\"PG-13\",\"PG\",\"R\",\"R\",\"UNRATED\",\"PG-13\",\"PG\",\"NC-17\",\"R\",\"UNRATED\",\"R\",\"PG-13\",\"R\",\"PG\",\"R\",\"PG\",\"R\",\"PG-13\",\"PG\",\"R\",\"PG-13\",\"R\",\"R\",\"PG-13\",\"PG\",\"UNRATED\",\"R\",\"R\",\"PG-13\",\"R\",\"UNRATED\",\"PG-13\",\"UNRATED\",\"R\",\"G\",\"R\",\"R\",\"R\",\"R\",\"UNRATED\",\"PG\",\"PG\",\"R\",\"R\",\"R\",\"PG\",\"R\",\"UNRATED\",\"PG-13\",\"R\",\"R\",\"R\",\"R\",\"PG-13\",\"PG-13\",\"R\",\"R\",\"PG-13\",\"R\",\"PG-13\",\"R\",\"R\",\"PG-13\",\"PG\",\"UNRATED\",\"UNRATED\",\"R\",\"PG-13\",\"PG\",\"R\",\"R\",\"UNRATED\",\"R\",\"UNRATED\",\"R\",\"PG-13\",\"NC-17\",\"R\",\"R\",\"PG-13\",\"PG-13\",\"G\",\"R\",\"R\",\"R\",\"R\",\"R\",\"UNRATED\",\"PG\",\"R\",\"R\",\"PG\",\"UNRATED\",\"R\",\"R\",\"R\",\"PG-13\",\"PG-13\",\"UNRATED\",\"R\",\"R\",\"UNRATED\",\"R\",\"R\",\"UNRATED\",\"R\",\"NC-17\",\"PG-13\",\"PG-13\",\"PG-13\",\"R\",\"UNRATED\",\"R\",\"R\",\"PG\",\"PG\",\"R\",\"G\",\"G\",\"PG-13\",\"R\",\"PG\",\"R\",\"PG-13\",\"PG\",\"R\",\"R\",\"PG-13\",\"PG-13\",\"R\",\"PG-13\",\"PG-13\",\"PG\",\"UNRATED\",\"PG\",\"R\",\"PG\",\"PG-13\",\"PG\",\"R\",\"PG\",\"UNRATED\",\"PG-13\",\"UNRATED\",\"PG\",\"PG\",\"UNRATED\",\"R\",\"UNRATED\",\"R\",\"R\",\"UNRATED\",\"PG-13\",\"R\",\"G\",\"PG\",\"PG-13\",\"PG\",\"R\",\"PG-13\",\"PG-13\",\"R\",\"PG-13\",\"R\",\"R\",\"R\",\"UNRATED\",\"PG\",\"R\",\"R\",\"PG-13\",\"PG\",\"R\",\"R\",\"PG-13\",\"R\",\"R\",\"UNRATED\",\"R\",\"R\",\"R\",\"R\",\"PG-13\",\"UNRATED\",\"R\",\"PG\",\"R\",\"PG-13\",\"PG-13\",\"PG-13\",\"R\",\"R\",\"PG-13\",\"UNRATED\",\"R\",\"UNRATED\",\"R\",\"PG-13\",\"PG-13\",\"PG-13\",\"PG\",\"R\",\"UNRATED\",\"R\",\"R\",\"PG\",\"PG\",\"R\",\"R\",\"R\",\"PG\",\"PG-13\",\"UNRATED\",\"R\",\"R\",\"PG\",\"R\",\"R\",\"R\",\"R\",\"R\",\"R\",\"R\",\"R\",\"NC-17\",\"PG-13\",\"R\",\"R\",\"R\",\"R\",\"R\",\"R\",\"UNRATED\",\"R\",\"R\",\"R\",\"R\",\"PG\",\"UNRATED\",\"UNRATED\",\"PG-13\",\"R\",\"PG-13\",\"PG-13\",\"R\",\"G\",\"PG-13\",\"PG-13\",\"R\",\"PG-13\",\"PG-13\",\"UNRATED\",\"R\",\"R\",\"PG\",\"R\",\"R\",\"R\",\"R\",\"PG-13\",\"R\",\"PG\",\"PG-13\",\"PG-13\",\"PG-13\",\"PG\",\"R\",\"UNRATED\",\"R\",\"PG\",\"R\",\"R\",\"UNRATED\",\"PG-13\",\"R\",\"R\",\"UNRATED\",\"PG\",\"PG-13\",\"R\",\"PG-13\",\"PG-13\",\"PG-13\",\"R\",\"PG\",\"UNRATED\",\"R\",\"PG-13\",\"G\",\"PG\",\"R\",\"R\",\"R\",\"UNRATED\",\"G\",\"R\",\"R\",\"R\",\"PG-13\",\"PG-13\",\"PG-13\",\"R\",\"PG-13\",\"R\",\"PG-13\",\"R\",\"PG-13\",\"UNRATED\",\"R\",\"PG-13\",\"R\",\"UNRATED\",\"R\",\"R\",\"R\",\"R\",\"PG-13\",\"R\",\"R\",\"PG-13\",\"R\",\"R\",\"R\",\"UNRATED\",\"R\",\"PG-13\",\"PG-13\",\"R\",\"R\",\"PG-13\",\"R\",\"R\",\"R\",\"UNRATED\",\"R\",\"NC-17\",\"R\",\"R\",\"PG-13\",\"R\",\"R\",\"R\",\"R\",\"R\",\"R\",\"R\",\"PG-13\",\"PG-13\",\"R\",\"R\",\"UNRATED\",\"R\",\"R\",\"R\",\"R\",\"PG-13\",\"PG-13\",\"PG\",\"R\",\"R\",\"R\",\"R\",\"R\",\"PG\",\"R\",\"R\",\"R\",\"R\",\"PG\",\"R\",\"R\",\"PG-13\",\"R\",\"PG\",\"PG\",\"NC-17\",\"PG-13\",\"UNRATED\",\"PG-13\",\"G\",\"R\",\"R\",\"R\",\"UNRATED\",\"PG\",\"R\",\"G\",\"UNRATED\",\"R\",\"R\",\"R\",\"R\",\"PG\",\"R\",\"R\",\"PG\",\"PG-13\",\"PG-13\",\"R\",\"R\",\"R\",\"R\",\"PG-13\",\"R\",\"R\",\"R\",\"R\",\"PG-13\",\"R\",\"PG\",\"PG-13\",\"R\",\"R\",\"R\",\"PG\",\"R\",\"NC-17\",\"R\",\"R\",\"R\",\"PG\",\"PG-13\",\"UNRATED\",\"R\",\"PG-13\",\"PG-13\",\"PG-13\",\"R\",\"R\",\"PG-13\",\"PG-13\",\"R\",\"PG-13\",\"PG\",\"PG-13\",\"R\",\"PG\",\"PG-13\",\"R\",\"R\",\"G\",\"PG-13\",\"PG\",\"UNRATED\",\"PG-13\",\"PG\",\"R\",\"UNRATED\",\"R\",\"R\",\"R\",\"R\",\"R\",\"R\",\"R\",\"PG\",\"R\",\"R\",\"PG-13\",\"R\",\"R\",\"R\",\"R\",\"R\",\"UNRATED\",\"PG-13\",\"R\",\"R\",\"PG\",\"PG-13\",\"PG\",\"PG-13\",\"PG\",\"PG\",\"PG\",\"R\",\"PG-13\",\"PG-13\",\"PG-13\",\"PG-13\",\"R\",\"R\",\"R\",\"R\",\"R\",\"PG-13\",\"UNRATED\",\"PG-13\",\"PG-13\",\"R\",\"R\",\"PG-13\",\"R\",\"R\",\"PG-13\",\"R\",\"PG-13\",\"R\",\"R\",\"R\",\"R\",\"R\",\"G\",\"R\",\"R\",\"R\",\"R\",\"R\",\"PG-13\",\"R\",\"R\",\"PG\",\"R\",\"R\",\"PG-13\",\"R\",\"UNRATED\",\"R\",\"PG\",\"UNRATED\",\"R\",\"R\",\"R\",\"R\",\"R\",\"R\",\"R\",\"R\",\"PG\",\"PG\",\"R\",\"R\",\"R\",\"NC-17\",\"R\",\"NC-17\",\"R\",\"R\",\"R\",\"R\",\"R\",\"R\",\"PG-13\",\"PG-13\",\"PG-13\",\"R\",\"R\",\"R\",\"R\",\"PG-13\",\"R\",\"R\",\"PG-13\",\"PG\",\"PG-13\",\"R\",\"PG-13\",\"PG\",\"G\",\"R\",\"PG-13\",\"PG\",\"PG-13\",\"PG-13\",\"R\",\"R\",\"PG-13\",\"UNRATED\",\"R\",\"PG\",\"R\",\"R\",\"R\",\"PG\",\"PG-13\",\"R\",\"PG\",\"R\",\"PG-13\",\"R\",\"PG-13\",\"R\",\"PG\",\"R\",\"PG-13\",\"PG-13\",\"PG-13\",\"R\",\"R\",\"R\",\"R\",\"R\",\"NC-17\",\"PG-13\",\"PG\",\"PG\",\"PG-13\",\"PG\",\"R\"],\"x0\":\" \",\"xaxis\":\"x\",\"y\":[142,175,200,152,154,96,161,201,195,139,178,148,124,142,179,169,133,207,146,121,136,130,130,106,127,116,175,118,110,87,125,112,102,107,119,87,169,115,112,109,189,110,150,165,155,137,113,165,95,151,155,153,125,130,116,89,137,117,88,165,170,89,146,99,98,116,156,122,149,134,122,136,157,123,119,137,128,120,229,107,134,103,177,129,102,216,136,93,68,189,99,108,113,181,103,138,110,129,88,160,126,91,116,125,143,93,102,132,153,183,160,120,138,140,153,170,129,81,127,131,172,115,108,107,129,156,96,91,95,162,130,86,186,151,96,170,118,161,131,126,131,129,224,180,105,117,140,119,124,130,139,107,132,117,126,122,178,238,149,172,98,116,116,123,148,123,182,92,93,100,135,105,94,140,83,95,98,143,99,98,121,163,121,167,188,121,109,110,129,127,94,107,100,117,129,120,121,133,111,122,101,134,165,138,212,154,89,134,93,114,88,130,101,158,99,108,124,132,113,131,191,167,130,147,102,88,165,132,118,101,108,174,98,92,98,106,85,101,105,115,115,124,105,103,138,184,120,99,131,138,98,123,118,114,118,112,124,160,67,146,125,115,134,141,129,104,94,124,150,119,128,143,85,151,118,101,99,92,125,102,106,107,91,80,122,102,112,92,135,136,153,105,126,68,84,103,145,80,106,127,178,137,172,76,130,96,82,115,95,143,125,120,127,112,104,113,189,127,188,96,113,132,122,126,140,133,112,102,93,109,81,108,111,119,96,197,127,138,66,181,141,144,128,83,121,98,117,94,174,112,108,70,99,96,137,136,100,90,96,161,115,181,169,98,136,138,119,123,112,120,103,97,109,165,156,147,100,126,115,105,144,102,107,119,90,197,86,113,133,64,141,113,122,105,119,102,122,123,113,97,117,111,85,99,134,75,109,117,91,128,111,119,100,114,92,141,101,115,127,96,129,135,109,157,193,94,155,113,130,117,159,141,112,162,126,120,144,120,109,97,108,115,136,90,170,220,116,134,124,91,103,96,119,98,101,93,179,155,121,103,127,103,107,100,92,94,158,86,115,130,107,100,108,124,131,122,242,127,141,126,89,113,152,107,92,145,84,126,132,78,117,128,100,128,100,143,107,100,125,106,157,94,104,94,153,123,120,105,166,112,94,111,87,80,108,102,105,136,101,100,108,101,106,105,88,129,138,129,118,139,123,150,132,80,178,79,163,114,144,130,154,81,95,101,120,93,115,106,120,110,123,142,99,112,120,122,130,139,129,141,127,130,118,110,115,101,112,108,143,152,117,121,119,114,122,105,110,116,139,121,109,146,113,100,121,113,113,117,93,101,90,131,98,93,121,82,124,100,117,99,116,123,114,133,105,127,144,90,118,122,102,187,87,154,89,88,129,95,118,98,194,114,80,130,135,101,105,129,134,143,202,89,106,92,137,124,122,113,112,110,135,88,146,104,125,131,91,142,129,158,102,99,101,104,119,103,88,100,146,150,140,140,110,97,102,152,100,94,85,104,112,191,119,111,94,103,134,157,158,127,101,109,98,134,168,93,145,111,88,123,121,144,116,124,147,106,113,129,94,126,128,111,146,85,105,132,130,162,113,110,113,162,110,78,92,95,138,102,128,96,164,126,110,109,122,124,128,157,120,102,152,170,102,116,164,85,104,99,81,131,101,121,69,92,94,141,116,98,135,121,108,114,102,112,140,157,128,108,139,83,131,113,136,96,118,108,83,205,124,111,137,104,109,115,99,114,133,131,131,123,126,97,126,89,122,121,125,105,118,81,115,126,113,107,126,111,85,120,93,100,107,126,131,116,143,93,96,160,137,119,114,98,111,138,144,107,114,125,146,113,85,97,93,113,128,114,147,127,167,124,109,124,102,130,125,98,154,97,128,98,101,147,172,125,88,125,121,112,120,133,110,135,110,80,135,101,112,124,129,104,96,105,109,117,78,138,106,90,106,91,112,134,112,104,101,120,123,133,110,129,120,83,88,96,139,113,84,106,170,144,104,153,85,130,93,148,115,102,125,106,121,143,116,99,116,128,119,104,114,152,129,103,112,92,141,106,109,104,122,111,112,116,130,133,134,92,104,110,97,100,118,112,138,92,118,140,128,101,75,97,111,175,94,97,132,120,107,89,86,103,108,105,117,102,104,157,104,98,109,96,103,114,99,118,150,105,87,136,162,109,107,90,112,126,116,118,138,114,126],\"y0\":\" \",\"yaxis\":\"y\",\"type\":\"box\"}],                        {\"template\":{\"data\":{\"bar\":[{\"error_x\":{\"color\":\"#2a3f5f\"},\"error_y\":{\"color\":\"#2a3f5f\"},\"marker\":{\"line\":{\"color\":\"#E5ECF6\",\"width\":0.5},\"pattern\":{\"fillmode\":\"overlay\",\"size\":10,\"solidity\":0.2}},\"type\":\"bar\"}],\"barpolar\":[{\"marker\":{\"line\":{\"color\":\"#E5ECF6\",\"width\":0.5},\"pattern\":{\"fillmode\":\"overlay\",\"size\":10,\"solidity\":0.2}},\"type\":\"barpolar\"}],\"carpet\":[{\"aaxis\":{\"endlinecolor\":\"#2a3f5f\",\"gridcolor\":\"white\",\"linecolor\":\"white\",\"minorgridcolor\":\"white\",\"startlinecolor\":\"#2a3f5f\"},\"baxis\":{\"endlinecolor\":\"#2a3f5f\",\"gridcolor\":\"white\",\"linecolor\":\"white\",\"minorgridcolor\":\"white\",\"startlinecolor\":\"#2a3f5f\"},\"type\":\"carpet\"}],\"choropleth\":[{\"colorbar\":{\"outlinewidth\":0,\"ticks\":\"\"},\"type\":\"choropleth\"}],\"contour\":[{\"colorbar\":{\"outlinewidth\":0,\"ticks\":\"\"},\"colorscale\":[[0.0,\"#0d0887\"],[0.1111111111111111,\"#46039f\"],[0.2222222222222222,\"#7201a8\"],[0.3333333333333333,\"#9c179e\"],[0.4444444444444444,\"#bd3786\"],[0.5555555555555556,\"#d8576b\"],[0.6666666666666666,\"#ed7953\"],[0.7777777777777778,\"#fb9f3a\"],[0.8888888888888888,\"#fdca26\"],[1.0,\"#f0f921\"]],\"type\":\"contour\"}],\"contourcarpet\":[{\"colorbar\":{\"outlinewidth\":0,\"ticks\":\"\"},\"type\":\"contourcarpet\"}],\"heatmap\":[{\"colorbar\":{\"outlinewidth\":0,\"ticks\":\"\"},\"colorscale\":[[0.0,\"#0d0887\"],[0.1111111111111111,\"#46039f\"],[0.2222222222222222,\"#7201a8\"],[0.3333333333333333,\"#9c179e\"],[0.4444444444444444,\"#bd3786\"],[0.5555555555555556,\"#d8576b\"],[0.6666666666666666,\"#ed7953\"],[0.7777777777777778,\"#fb9f3a\"],[0.8888888888888888,\"#fdca26\"],[1.0,\"#f0f921\"]],\"type\":\"heatmap\"}],\"heatmapgl\":[{\"colorbar\":{\"outlinewidth\":0,\"ticks\":\"\"},\"colorscale\":[[0.0,\"#0d0887\"],[0.1111111111111111,\"#46039f\"],[0.2222222222222222,\"#7201a8\"],[0.3333333333333333,\"#9c179e\"],[0.4444444444444444,\"#bd3786\"],[0.5555555555555556,\"#d8576b\"],[0.6666666666666666,\"#ed7953\"],[0.7777777777777778,\"#fb9f3a\"],[0.8888888888888888,\"#fdca26\"],[1.0,\"#f0f921\"]],\"type\":\"heatmapgl\"}],\"histogram\":[{\"marker\":{\"pattern\":{\"fillmode\":\"overlay\",\"size\":10,\"solidity\":0.2}},\"type\":\"histogram\"}],\"histogram2d\":[{\"colorbar\":{\"outlinewidth\":0,\"ticks\":\"\"},\"colorscale\":[[0.0,\"#0d0887\"],[0.1111111111111111,\"#46039f\"],[0.2222222222222222,\"#7201a8\"],[0.3333333333333333,\"#9c179e\"],[0.4444444444444444,\"#bd3786\"],[0.5555555555555556,\"#d8576b\"],[0.6666666666666666,\"#ed7953\"],[0.7777777777777778,\"#fb9f3a\"],[0.8888888888888888,\"#fdca26\"],[1.0,\"#f0f921\"]],\"type\":\"histogram2d\"}],\"histogram2dcontour\":[{\"colorbar\":{\"outlinewidth\":0,\"ticks\":\"\"},\"colorscale\":[[0.0,\"#0d0887\"],[0.1111111111111111,\"#46039f\"],[0.2222222222222222,\"#7201a8\"],[0.3333333333333333,\"#9c179e\"],[0.4444444444444444,\"#bd3786\"],[0.5555555555555556,\"#d8576b\"],[0.6666666666666666,\"#ed7953\"],[0.7777777777777778,\"#fb9f3a\"],[0.8888888888888888,\"#fdca26\"],[1.0,\"#f0f921\"]],\"type\":\"histogram2dcontour\"}],\"mesh3d\":[{\"colorbar\":{\"outlinewidth\":0,\"ticks\":\"\"},\"type\":\"mesh3d\"}],\"parcoords\":[{\"line\":{\"colorbar\":{\"outlinewidth\":0,\"ticks\":\"\"}},\"type\":\"parcoords\"}],\"pie\":[{\"automargin\":true,\"type\":\"pie\"}],\"scatter\":[{\"marker\":{\"colorbar\":{\"outlinewidth\":0,\"ticks\":\"\"}},\"type\":\"scatter\"}],\"scatter3d\":[{\"line\":{\"colorbar\":{\"outlinewidth\":0,\"ticks\":\"\"}},\"marker\":{\"colorbar\":{\"outlinewidth\":0,\"ticks\":\"\"}},\"type\":\"scatter3d\"}],\"scattercarpet\":[{\"marker\":{\"colorbar\":{\"outlinewidth\":0,\"ticks\":\"\"}},\"type\":\"scattercarpet\"}],\"scattergeo\":[{\"marker\":{\"colorbar\":{\"outlinewidth\":0,\"ticks\":\"\"}},\"type\":\"scattergeo\"}],\"scattergl\":[{\"marker\":{\"colorbar\":{\"outlinewidth\":0,\"ticks\":\"\"}},\"type\":\"scattergl\"}],\"scattermapbox\":[{\"marker\":{\"colorbar\":{\"outlinewidth\":0,\"ticks\":\"\"}},\"type\":\"scattermapbox\"}],\"scatterpolar\":[{\"marker\":{\"colorbar\":{\"outlinewidth\":0,\"ticks\":\"\"}},\"type\":\"scatterpolar\"}],\"scatterpolargl\":[{\"marker\":{\"colorbar\":{\"outlinewidth\":0,\"ticks\":\"\"}},\"type\":\"scatterpolargl\"}],\"scatterternary\":[{\"marker\":{\"colorbar\":{\"outlinewidth\":0,\"ticks\":\"\"}},\"type\":\"scatterternary\"}],\"surface\":[{\"colorbar\":{\"outlinewidth\":0,\"ticks\":\"\"},\"colorscale\":[[0.0,\"#0d0887\"],[0.1111111111111111,\"#46039f\"],[0.2222222222222222,\"#7201a8\"],[0.3333333333333333,\"#9c179e\"],[0.4444444444444444,\"#bd3786\"],[0.5555555555555556,\"#d8576b\"],[0.6666666666666666,\"#ed7953\"],[0.7777777777777778,\"#fb9f3a\"],[0.8888888888888888,\"#fdca26\"],[1.0,\"#f0f921\"]],\"type\":\"surface\"}],\"table\":[{\"cells\":{\"fill\":{\"color\":\"#EBF0F8\"},\"line\":{\"color\":\"white\"}},\"header\":{\"fill\":{\"color\":\"#C8D4E3\"},\"line\":{\"color\":\"white\"}},\"type\":\"table\"}]},\"layout\":{\"annotationdefaults\":{\"arrowcolor\":\"#2a3f5f\",\"arrowhead\":0,\"arrowwidth\":1},\"autotypenumbers\":\"strict\",\"coloraxis\":{\"colorbar\":{\"outlinewidth\":0,\"ticks\":\"\"}},\"colorscale\":{\"diverging\":[[0,\"#8e0152\"],[0.1,\"#c51b7d\"],[0.2,\"#de77ae\"],[0.3,\"#f1b6da\"],[0.4,\"#fde0ef\"],[0.5,\"#f7f7f7\"],[0.6,\"#e6f5d0\"],[0.7,\"#b8e186\"],[0.8,\"#7fbc41\"],[0.9,\"#4d9221\"],[1,\"#276419\"]],\"sequential\":[[0.0,\"#0d0887\"],[0.1111111111111111,\"#46039f\"],[0.2222222222222222,\"#7201a8\"],[0.3333333333333333,\"#9c179e\"],[0.4444444444444444,\"#bd3786\"],[0.5555555555555556,\"#d8576b\"],[0.6666666666666666,\"#ed7953\"],[0.7777777777777778,\"#fb9f3a\"],[0.8888888888888888,\"#fdca26\"],[1.0,\"#f0f921\"]],\"sequentialminus\":[[0.0,\"#0d0887\"],[0.1111111111111111,\"#46039f\"],[0.2222222222222222,\"#7201a8\"],[0.3333333333333333,\"#9c179e\"],[0.4444444444444444,\"#bd3786\"],[0.5555555555555556,\"#d8576b\"],[0.6666666666666666,\"#ed7953\"],[0.7777777777777778,\"#fb9f3a\"],[0.8888888888888888,\"#fdca26\"],[1.0,\"#f0f921\"]]},\"colorway\":[\"#636efa\",\"#EF553B\",\"#00cc96\",\"#ab63fa\",\"#FFA15A\",\"#19d3f3\",\"#FF6692\",\"#B6E880\",\"#FF97FF\",\"#FECB52\"],\"font\":{\"color\":\"#2a3f5f\"},\"geo\":{\"bgcolor\":\"white\",\"lakecolor\":\"white\",\"landcolor\":\"#E5ECF6\",\"showlakes\":true,\"showland\":true,\"subunitcolor\":\"white\"},\"hoverlabel\":{\"align\":\"left\"},\"hovermode\":\"closest\",\"mapbox\":{\"style\":\"light\"},\"paper_bgcolor\":\"white\",\"plot_bgcolor\":\"#E5ECF6\",\"polar\":{\"angularaxis\":{\"gridcolor\":\"white\",\"linecolor\":\"white\",\"ticks\":\"\"},\"bgcolor\":\"#E5ECF6\",\"radialaxis\":{\"gridcolor\":\"white\",\"linecolor\":\"white\",\"ticks\":\"\"}},\"scene\":{\"xaxis\":{\"backgroundcolor\":\"#E5ECF6\",\"gridcolor\":\"white\",\"gridwidth\":2,\"linecolor\":\"white\",\"showbackground\":true,\"ticks\":\"\",\"zerolinecolor\":\"white\"},\"yaxis\":{\"backgroundcolor\":\"#E5ECF6\",\"gridcolor\":\"white\",\"gridwidth\":2,\"linecolor\":\"white\",\"showbackground\":true,\"ticks\":\"\",\"zerolinecolor\":\"white\"},\"zaxis\":{\"backgroundcolor\":\"#E5ECF6\",\"gridcolor\":\"white\",\"gridwidth\":2,\"linecolor\":\"white\",\"showbackground\":true,\"ticks\":\"\",\"zerolinecolor\":\"white\"}},\"shapedefaults\":{\"line\":{\"color\":\"#2a3f5f\"}},\"ternary\":{\"aaxis\":{\"gridcolor\":\"white\",\"linecolor\":\"white\",\"ticks\":\"\"},\"baxis\":{\"gridcolor\":\"white\",\"linecolor\":\"white\",\"ticks\":\"\"},\"bgcolor\":\"#E5ECF6\",\"caxis\":{\"gridcolor\":\"white\",\"linecolor\":\"white\",\"ticks\":\"\"}},\"title\":{\"x\":0.05},\"xaxis\":{\"automargin\":true,\"gridcolor\":\"white\",\"linecolor\":\"white\",\"ticks\":\"\",\"title\":{\"standoff\":15},\"zerolinecolor\":\"white\",\"zerolinewidth\":2},\"yaxis\":{\"automargin\":true,\"gridcolor\":\"white\",\"linecolor\":\"white\",\"ticks\":\"\",\"title\":{\"standoff\":15},\"zerolinecolor\":\"white\",\"zerolinewidth\":2}}},\"xaxis\":{\"anchor\":\"y\",\"domain\":[0.0,1.0],\"title\":{\"text\":\"content_rating\"}},\"yaxis\":{\"anchor\":\"x\",\"domain\":[0.0,1.0],\"title\":{\"text\":\"duration\"}},\"legend\":{\"tracegroupgap\":0},\"margin\":{\"t\":60},\"boxmode\":\"group\"},                        {\"responsive\": true}                    ).then(function(){\n",
       "                            \n",
       "var gd = document.getElementById('888f66c3-9f6d-4533-a11a-4920baa27818');\n",
       "var x = new MutationObserver(function (mutations, observer) {{\n",
       "        var display = window.getComputedStyle(gd).display;\n",
       "        if (!display || display === 'none') {{\n",
       "            console.log([gd, 'removed!']);\n",
       "            Plotly.purge(gd);\n",
       "            observer.disconnect();\n",
       "        }}\n",
       "}});\n",
       "\n",
       "// Listen for the removal of the full notebook cells\n",
       "var notebookContainer = gd.closest('#notebook-container');\n",
       "if (notebookContainer) {{\n",
       "    x.observe(notebookContainer, {childList: true});\n",
       "}}\n",
       "\n",
       "// Listen for the clearing of the current output cell\n",
       "var outputEl = gd.closest('.output');\n",
       "if (outputEl) {{\n",
       "    x.observe(outputEl, {childList: true});\n",
       "}}\n",
       "\n",
       "                        })                };                });            </script>        </div>"
      ]
     },
     "metadata": {},
     "output_type": "display_data"
    }
   ],
   "source": [
    "# Answer:\n",
    "px.box(movies, x='content_rating', y='duration')"
   ]
  },
  {
   "cell_type": "markdown",
   "metadata": {},
   "source": [
    "#### Determine the top rated movie (by star rating) for each genre."
   ]
  },
  {
   "cell_type": "code",
   "execution_count": 434,
<<<<<<< HEAD
   "metadata": {
    "scrolled": true
   },
=======
   "metadata": {},
>>>>>>> 47b2484ce0a32c8c37275f0354207e26eb222815
   "outputs": [
    {
     "data": {
      "text/html": [
       "<div>\n",
       "<style scoped>\n",
       "    .dataframe tbody tr th:only-of-type {\n",
       "        vertical-align: middle;\n",
       "    }\n",
       "\n",
       "    .dataframe tbody tr th {\n",
       "        vertical-align: top;\n",
       "    }\n",
       "\n",
       "    .dataframe thead th {\n",
       "        text-align: right;\n",
       "    }\n",
       "</style>\n",
       "<table border=\"1\" class=\"dataframe\">\n",
       "  <thead>\n",
       "    <tr style=\"text-align: right;\">\n",
       "      <th></th>\n",
       "      <th>star_rating</th>\n",
       "      <th>title</th>\n",
       "      <th>content_rating</th>\n",
       "      <th>genre</th>\n",
       "      <th>duration</th>\n",
       "      <th>actors_list</th>\n",
       "      <th>duration_type</th>\n",
       "    </tr>\n",
       "  </thead>\n",
       "  <tbody>\n",
       "    <tr>\n",
       "      <th>3</th>\n",
       "      <td>9.0</td>\n",
       "      <td>The Dark Knight</td>\n",
       "      <td>PG-13</td>\n",
       "      <td>Action</td>\n",
       "      <td>152</td>\n",
       "      <td>[u'Christian Bale', u'Heath Ledger', u'Aaron E...</td>\n",
       "      <td>Long</td>\n",
       "    </tr>\n",
       "    <tr>\n",
       "      <th>7</th>\n",
       "      <td>8.9</td>\n",
       "      <td>The Lord of the Rings: The Return of the King</td>\n",
       "      <td>PG-13</td>\n",
       "      <td>Adventure</td>\n",
       "      <td>201</td>\n",
       "      <td>[u'Elijah Wood', u'Viggo Mortensen', u'Ian McK...</td>\n",
       "      <td>Long</td>\n",
       "    </tr>\n",
       "    <tr>\n",
       "      <th>30</th>\n",
       "      <td>8.6</td>\n",
       "      <td>Spirited Away</td>\n",
       "      <td>PG</td>\n",
       "      <td>Animation</td>\n",
       "      <td>125</td>\n",
       "      <td>[u'Daveigh Chase', u'Suzanne Pleshette', u'Miy...</td>\n",
       "      <td>Long</td>\n",
       "    </tr>\n",
       "    <tr>\n",
       "      <th>8</th>\n",
       "      <td>8.9</td>\n",
       "      <td>Schindler's List</td>\n",
       "      <td>R</td>\n",
       "      <td>Biography</td>\n",
       "      <td>195</td>\n",
       "      <td>[u'Liam Neeson', u'Ralph Fiennes', u'Ben Kings...</td>\n",
       "      <td>Long</td>\n",
       "    </tr>\n",
       "    <tr>\n",
       "      <th>25</th>\n",
       "      <td>8.6</td>\n",
       "      <td>Life Is Beautiful</td>\n",
       "      <td>PG-13</td>\n",
       "      <td>Comedy</td>\n",
       "      <td>116</td>\n",
       "      <td>[u'Roberto Benigni', u'Nicoletta Braschi', u'G...</td>\n",
       "      <td>Short</td>\n",
       "    </tr>\n",
       "    <tr>\n",
       "      <th>0</th>\n",
       "      <td>9.3</td>\n",
       "      <td>The Shawshank Redemption</td>\n",
       "      <td>R</td>\n",
       "      <td>Crime</td>\n",
       "      <td>142</td>\n",
       "      <td>[u'Tim Robbins', u'Morgan Freeman', u'Bob Gunt...</td>\n",
       "      <td>Long</td>\n",
       "    </tr>\n",
       "    <tr>\n",
       "      <th>5</th>\n",
       "      <td>8.9</td>\n",
       "      <td>12 Angry Men</td>\n",
       "      <td>UNRATED</td>\n",
       "      <td>Drama</td>\n",
       "      <td>96</td>\n",
       "      <td>[u'Henry Fonda', u'Lee J. Cobb', u'Martin Bals...</td>\n",
       "      <td>Short</td>\n",
       "    </tr>\n",
       "    <tr>\n",
       "      <th>468</th>\n",
       "      <td>7.9</td>\n",
       "      <td>E.T. the Extra-Terrestrial</td>\n",
       "      <td>PG</td>\n",
       "      <td>Family</td>\n",
       "      <td>115</td>\n",
       "      <td>[u'Henry Thomas', u'Drew Barrymore', u'Peter C...</td>\n",
       "      <td>Short</td>\n",
       "    </tr>\n",
       "    <tr>\n",
       "      <th>638</th>\n",
       "      <td>7.7</td>\n",
       "      <td>The City of Lost Children</td>\n",
       "      <td>R</td>\n",
       "      <td>Fantasy</td>\n",
       "      <td>112</td>\n",
       "      <td>[u'Ron Perlman', u'Daniel Emilfork', u'Judith ...</td>\n",
       "      <td>Short</td>\n",
       "    </tr>\n",
       "    <tr>\n",
       "      <th>105</th>\n",
       "      <td>8.3</td>\n",
       "      <td>The Third Man</td>\n",
       "      <td>UNRATED</td>\n",
       "      <td>Film-Noir</td>\n",
       "      <td>93</td>\n",
       "      <td>[u'Orson Welles', u'Joseph Cotten', u'Alida Va...</td>\n",
       "      <td>Short</td>\n",
       "    </tr>\n",
       "    <tr>\n",
       "      <th>338</th>\n",
       "      <td>8.0</td>\n",
       "      <td>Battleship Potemkin</td>\n",
       "      <td>UNRATED</td>\n",
       "      <td>History</td>\n",
       "      <td>66</td>\n",
       "      <td>[u'Aleksandr Antonov', u'Vladimir Barsky', u'G...</td>\n",
       "      <td>Short</td>\n",
       "    </tr>\n",
       "    <tr>\n",
       "      <th>39</th>\n",
       "      <td>8.6</td>\n",
       "      <td>Psycho</td>\n",
       "      <td>R</td>\n",
       "      <td>Horror</td>\n",
       "      <td>109</td>\n",
       "      <td>[u'Anthony Perkins', u'Janet Leigh', u'Vera Mi...</td>\n",
       "      <td>Short</td>\n",
       "    </tr>\n",
       "    <tr>\n",
       "      <th>38</th>\n",
       "      <td>8.6</td>\n",
       "      <td>Rear Window</td>\n",
       "      <td>UNRATED</td>\n",
       "      <td>Mystery</td>\n",
       "      <td>112</td>\n",
       "      <td>[u'James Stewart', u'Grace Kelly', u'Wendell C...</td>\n",
       "      <td>Short</td>\n",
       "    </tr>\n",
       "    <tr>\n",
       "      <th>145</th>\n",
       "      <td>8.2</td>\n",
       "      <td>Blade Runner</td>\n",
       "      <td>R</td>\n",
       "      <td>Sci-Fi</td>\n",
       "      <td>117</td>\n",
       "      <td>[u'Harrison Ford', u'Rutger Hauer', u'Sean You...</td>\n",
       "      <td>Short</td>\n",
       "    </tr>\n",
       "    <tr>\n",
       "      <th>350</th>\n",
       "      <td>8.0</td>\n",
       "      <td>Shadow of a Doubt</td>\n",
       "      <td>UNRATED</td>\n",
       "      <td>Thriller</td>\n",
       "      <td>108</td>\n",
       "      <td>[u'Teresa Wright', u'Joseph Cotten', u'Macdona...</td>\n",
       "      <td>Short</td>\n",
       "    </tr>\n",
       "    <tr>\n",
       "      <th>6</th>\n",
       "      <td>8.9</td>\n",
       "      <td>The Good, the Bad and the Ugly</td>\n",
       "      <td>UNRATED</td>\n",
       "      <td>Western</td>\n",
       "      <td>161</td>\n",
       "      <td>[u'Clint Eastwood', u'Eli Wallach', u'Lee Van ...</td>\n",
       "      <td>Long</td>\n",
       "    </tr>\n",
       "  </tbody>\n",
       "</table>\n",
       "</div>"
      ],
      "text/plain": [
       "     star_rating                                          title  \\\n",
       "3            9.0                                The Dark Knight   \n",
       "7            8.9  The Lord of the Rings: The Return of the King   \n",
       "30           8.6                                  Spirited Away   \n",
       "8            8.9                               Schindler's List   \n",
       "25           8.6                              Life Is Beautiful   \n",
       "0            9.3                       The Shawshank Redemption   \n",
       "5            8.9                                   12 Angry Men   \n",
       "468          7.9                     E.T. the Extra-Terrestrial   \n",
       "638          7.7                      The City of Lost Children   \n",
       "105          8.3                                  The Third Man   \n",
       "338          8.0                            Battleship Potemkin   \n",
       "39           8.6                                         Psycho   \n",
       "38           8.6                                    Rear Window   \n",
       "145          8.2                                   Blade Runner   \n",
       "350          8.0                              Shadow of a Doubt   \n",
       "6            8.9                 The Good, the Bad and the Ugly   \n",
       "\n",
       "    content_rating      genre  duration  \\\n",
       "3            PG-13     Action       152   \n",
       "7            PG-13  Adventure       201   \n",
       "30              PG  Animation       125   \n",
       "8                R  Biography       195   \n",
       "25           PG-13     Comedy       116   \n",
       "0                R      Crime       142   \n",
       "5          UNRATED      Drama        96   \n",
       "468             PG     Family       115   \n",
       "638              R    Fantasy       112   \n",
       "105        UNRATED  Film-Noir        93   \n",
       "338        UNRATED    History        66   \n",
       "39               R     Horror       109   \n",
       "38         UNRATED    Mystery       112   \n",
       "145              R     Sci-Fi       117   \n",
       "350        UNRATED   Thriller       108   \n",
       "6          UNRATED    Western       161   \n",
       "\n",
       "                                           actors_list duration_type  \n",
       "3    [u'Christian Bale', u'Heath Ledger', u'Aaron E...          Long  \n",
       "7    [u'Elijah Wood', u'Viggo Mortensen', u'Ian McK...          Long  \n",
       "30   [u'Daveigh Chase', u'Suzanne Pleshette', u'Miy...          Long  \n",
       "8    [u'Liam Neeson', u'Ralph Fiennes', u'Ben Kings...          Long  \n",
       "25   [u'Roberto Benigni', u'Nicoletta Braschi', u'G...         Short  \n",
       "0    [u'Tim Robbins', u'Morgan Freeman', u'Bob Gunt...          Long  \n",
       "5    [u'Henry Fonda', u'Lee J. Cobb', u'Martin Bals...         Short  \n",
       "468  [u'Henry Thomas', u'Drew Barrymore', u'Peter C...         Short  \n",
       "638  [u'Ron Perlman', u'Daniel Emilfork', u'Judith ...         Short  \n",
       "105  [u'Orson Welles', u'Joseph Cotten', u'Alida Va...         Short  \n",
       "338  [u'Aleksandr Antonov', u'Vladimir Barsky', u'G...         Short  \n",
       "39   [u'Anthony Perkins', u'Janet Leigh', u'Vera Mi...         Short  \n",
       "38   [u'James Stewart', u'Grace Kelly', u'Wendell C...         Short  \n",
       "145  [u'Harrison Ford', u'Rutger Hauer', u'Sean You...         Short  \n",
       "350  [u'Teresa Wright', u'Joseph Cotten', u'Macdona...         Short  \n",
       "6    [u'Clint Eastwood', u'Eli Wallach', u'Lee Van ...          Long  "
      ]
     },
     "execution_count": 434,
     "metadata": {},
     "output_type": "execute_result"
    }
   ],
   "source": [
    "# Answer\n",
    "\n",
    "movies.loc[movies.groupby('genre')['star_rating'].idxmax()]\n",
    "                                   "
   ]
  },
  {
   "cell_type": "markdown",
   "metadata": {},
   "source": [
<<<<<<< HEAD
    "**Jonathan's Note:** This answer works, but if there were duplicate values here (and there are), `max()` would return all of them vs `idxmax`."
   ]
  },
  {
   "cell_type": "markdown",
   "metadata": {},
   "source": [
=======
>>>>>>> 47b2484ce0a32c8c37275f0354207e26eb222815
    "#### Check if there are multiple movies with the same title, and if so, determine if they are actually duplicates."
   ]
  },
  {
   "cell_type": "code",
   "execution_count": 704,
   "metadata": {},
   "outputs": [
    {
     "name": "stdout",
     "output_type": "stream",
     "text": [
      "The Girl with the Dragon Tattoo      2\n",
      "Dracula                              2\n",
      "Les Miserables                       2\n",
      "True Grit                            2\n",
      "The Blind Swordsman: Zatoichi        1\n",
      "                                    ..\n",
      "Ghost Dog: The Way of the Samurai    1\n",
      "The Fly                              1\n",
      "Love Me If You Dare                  1\n",
      "Bicycle Thieves                      1\n",
      "Pleasantville                        1\n",
      "Name: title, Length: 975, dtype: int64\n"
     ]
    },
    {
     "data": {
      "text/html": [
       "<div>\n",
       "<style scoped>\n",
       "    .dataframe tbody tr th:only-of-type {\n",
       "        vertical-align: middle;\n",
       "    }\n",
       "\n",
       "    .dataframe tbody tr th {\n",
       "        vertical-align: top;\n",
       "    }\n",
       "\n",
       "    .dataframe thead th {\n",
       "        text-align: right;\n",
       "    }\n",
       "</style>\n",
       "<table border=\"1\" class=\"dataframe\">\n",
       "  <thead>\n",
       "    <tr style=\"text-align: right;\">\n",
       "      <th></th>\n",
       "      <th>star_rating</th>\n",
       "      <th>title</th>\n",
       "      <th>content_rating</th>\n",
       "      <th>genre</th>\n",
       "      <th>duration</th>\n",
       "      <th>actors_list</th>\n",
       "      <th>duration_type</th>\n",
       "      <th>&gt;10</th>\n",
       "    </tr>\n",
       "  </thead>\n",
       "  <tbody>\n",
       "    <tr>\n",
       "      <th>482</th>\n",
       "      <td>7.8</td>\n",
       "      <td>The Girl with the Dragon Tattoo</td>\n",
       "      <td>R</td>\n",
       "      <td>Crime</td>\n",
       "      <td>152</td>\n",
       "      <td>['Michael Nyqvist', 'Noomi Rapace', 'Ewa Fr\\xf...</td>\n",
       "      <td>Long</td>\n",
       "      <td>Long</td>\n",
       "    </tr>\n",
       "    <tr>\n",
       "      <th>905</th>\n",
       "      <td>7.5</td>\n",
       "      <td>Dracula</td>\n",
       "      <td>R</td>\n",
       "      <td>Horror</td>\n",
       "      <td>128</td>\n",
       "      <td>['Gary Oldman', 'Winona Ryder', 'Anthony Hopki...</td>\n",
       "      <td>Long</td>\n",
       "      <td>Long</td>\n",
       "    </tr>\n",
       "    <tr>\n",
       "      <th>924</th>\n",
       "      <td>7.5</td>\n",
       "      <td>Les Miserables</td>\n",
       "      <td>PG-13</td>\n",
       "      <td>Crime</td>\n",
       "      <td>134</td>\n",
       "      <td>['Liam Neeson', 'Geoffrey Rsh', 'Uma Thrman']</td>\n",
       "      <td>Long</td>\n",
       "      <td>Long</td>\n",
       "    </tr>\n",
       "    <tr>\n",
       "      <th>936</th>\n",
       "      <td>7.4</td>\n",
       "      <td>True Grit</td>\n",
       "      <td>PG-13</td>\n",
       "      <td>Adventure</td>\n",
       "      <td>128</td>\n",
       "      <td>['John Wayne', 'Kim Darby', 'Glen Campbell']</td>\n",
       "      <td>Long</td>\n",
       "      <td>Long</td>\n",
       "    </tr>\n",
       "  </tbody>\n",
       "</table>\n",
       "</div>"
      ],
      "text/plain": [
       "     star_rating                            title content_rating      genre  \\\n",
       "482          7.8  The Girl with the Dragon Tattoo              R      Crime   \n",
       "905          7.5                          Dracula              R     Horror   \n",
       "924          7.5                   Les Miserables          PG-13      Crime   \n",
       "936          7.4                        True Grit          PG-13  Adventure   \n",
       "\n",
       "     duration                                        actors_list  \\\n",
       "482       152  ['Michael Nyqvist', 'Noomi Rapace', 'Ewa Fr\\xf...   \n",
       "905       128  ['Gary Oldman', 'Winona Ryder', 'Anthony Hopki...   \n",
       "924       134      ['Liam Neeson', 'Geoffrey Rsh', 'Uma Thrman']   \n",
       "936       128       ['John Wayne', 'Kim Darby', 'Glen Campbell']   \n",
       "\n",
       "    duration_type   >10  \n",
       "482          Long  Long  \n",
       "905          Long  Long  \n",
       "924          Long  Long  \n",
       "936          Long  Long  "
      ]
     },
     "execution_count": 704,
     "metadata": {},
     "output_type": "execute_result"
    }
   ],
   "source": [
    "# Answer:\n",
    "\n",
    "print(movies['title'].value_counts().sort_values(ascending=False))\n",
    "movies[movies['title'].duplicated()]\n"
   ]
  },
  {
   "cell_type": "markdown",
   "metadata": {
    "collapsed": true
   },
   "source": [
    "#### Calculate the average star rating for each genre, but only include genres with at least 10 movies\n"
   ]
  },
  {
   "cell_type": "markdown",
   "metadata": {},
   "source": [
    "#### Option 1: manually create a list of relevant genres, then filter using that list"
   ]
  },
  {
   "cell_type": "code",
   "execution_count": null,
   "metadata": {
    "collapsed": true
   },
   "outputs": [],
   "source": [
    "# Answer:"
   ]
  },
  {
   "cell_type": "markdown",
   "metadata": {},
   "source": [
    "#### Option 2: automatically create a list of relevant genres by saving the value_counts and then filtering"
   ]
  },
  {
   "cell_type": "code",
   "execution_count": 676,
   "metadata": {},
   "outputs": [],
   "source": [
    "# Answer:\n"
   ]
  },
  {
   "cell_type": "markdown",
   "metadata": {},
   "source": [
    "#### Option 3: calculate the average star rating for all genres, then filter using a boolean Series"
   ]
  },
  {
   "cell_type": "code",
   "execution_count": null,
   "metadata": {
    "collapsed": true
   },
   "outputs": [],
   "source": [
    "# Answer:"
   ]
  },
  {
   "cell_type": "markdown",
   "metadata": {},
   "source": [
    "#### Option 4: aggregate by count and mean, then filter using the count"
   ]
  },
  {
   "cell_type": "code",
   "execution_count": 675,
   "metadata": {},
   "outputs": [
    {
     "data": {
      "text/html": [
       "<div>\n",
       "<style scoped>\n",
       "    .dataframe tbody tr th:only-of-type {\n",
       "        vertical-align: middle;\n",
       "    }\n",
       "\n",
       "    .dataframe tbody tr th {\n",
       "        vertical-align: top;\n",
       "    }\n",
       "\n",
       "    .dataframe thead tr th {\n",
       "        text-align: left;\n",
       "    }\n",
       "\n",
       "    .dataframe thead tr:last-of-type th {\n",
       "        text-align: right;\n",
       "    }\n",
       "</style>\n",
       "<table border=\"1\" class=\"dataframe\">\n",
       "  <thead>\n",
       "    <tr>\n",
       "      <th></th>\n",
       "      <th colspan=\"2\" halign=\"left\">star_rating</th>\n",
       "      <th colspan=\"2\" halign=\"left\">duration</th>\n",
       "      <th>selection</th>\n",
       "    </tr>\n",
       "    <tr>\n",
       "      <th></th>\n",
       "      <th>count</th>\n",
       "      <th>mean</th>\n",
       "      <th>count</th>\n",
       "      <th>mean</th>\n",
       "      <th></th>\n",
       "    </tr>\n",
       "    <tr>\n",
       "      <th>genre</th>\n",
       "      <th></th>\n",
       "      <th></th>\n",
       "      <th></th>\n",
       "      <th></th>\n",
       "      <th></th>\n",
       "    </tr>\n",
       "  </thead>\n",
       "  <tbody>\n",
       "    <tr>\n",
       "      <th>Action</th>\n",
       "      <td>136</td>\n",
       "      <td>7.884559</td>\n",
       "      <td>136</td>\n",
       "      <td>126.485294</td>\n",
       "      <td>over 10</td>\n",
       "    </tr>\n",
       "    <tr>\n",
       "      <th>Adventure</th>\n",
       "      <td>75</td>\n",
       "      <td>7.933333</td>\n",
       "      <td>75</td>\n",
       "      <td>134.840000</td>\n",
       "      <td>over 10</td>\n",
       "    </tr>\n",
       "    <tr>\n",
       "      <th>Animation</th>\n",
       "      <td>62</td>\n",
       "      <td>7.914516</td>\n",
       "      <td>62</td>\n",
       "      <td>96.596774</td>\n",
       "      <td>over 10</td>\n",
       "    </tr>\n",
       "    <tr>\n",
       "      <th>Biography</th>\n",
       "      <td>77</td>\n",
       "      <td>7.862338</td>\n",
       "      <td>77</td>\n",
       "      <td>131.844156</td>\n",
       "      <td>over 10</td>\n",
       "    </tr>\n",
       "    <tr>\n",
       "      <th>Comedy</th>\n",
       "      <td>156</td>\n",
       "      <td>7.822436</td>\n",
       "      <td>156</td>\n",
       "      <td>107.602564</td>\n",
       "      <td>over 10</td>\n",
       "    </tr>\n",
       "    <tr>\n",
       "      <th>Crime</th>\n",
       "      <td>124</td>\n",
       "      <td>7.916935</td>\n",
       "      <td>124</td>\n",
       "      <td>122.298387</td>\n",
       "      <td>over 10</td>\n",
       "    </tr>\n",
       "    <tr>\n",
       "      <th>Drama</th>\n",
       "      <td>278</td>\n",
       "      <td>7.902518</td>\n",
       "      <td>278</td>\n",
       "      <td>126.539568</td>\n",
       "      <td>over 10</td>\n",
       "    </tr>\n",
       "    <tr>\n",
       "      <th>Horror</th>\n",
       "      <td>29</td>\n",
       "      <td>7.806897</td>\n",
       "      <td>29</td>\n",
       "      <td>102.517241</td>\n",
       "      <td>over 10</td>\n",
       "    </tr>\n",
       "    <tr>\n",
       "      <th>Mystery</th>\n",
       "      <td>16</td>\n",
       "      <td>7.975000</td>\n",
       "      <td>16</td>\n",
       "      <td>115.625000</td>\n",
       "      <td>over 10</td>\n",
       "    </tr>\n",
       "  </tbody>\n",
       "</table>\n",
       "</div>"
      ],
      "text/plain": [
       "          star_rating           duration             selection\n",
       "                count      mean    count        mean          \n",
       "genre                                                         \n",
       "Action            136  7.884559      136  126.485294   over 10\n",
       "Adventure          75  7.933333       75  134.840000   over 10\n",
       "Animation          62  7.914516       62   96.596774   over 10\n",
       "Biography          77  7.862338       77  131.844156   over 10\n",
       "Comedy            156  7.822436      156  107.602564   over 10\n",
       "Crime             124  7.916935      124  122.298387   over 10\n",
       "Drama             278  7.902518      278  126.539568   over 10\n",
       "Horror             29  7.806897       29  102.517241   over 10\n",
       "Mystery            16  7.975000       16  115.625000   over 10"
      ]
     },
     "execution_count": 675,
     "metadata": {},
     "output_type": "execute_result"
    }
   ],
   "source": [
    "# Answer:\n",
    "np.mean(movies['star_rating'])\n",
    "grouping=movies.groupby(['genre']).agg(['count', np.mean])\n",
    "\n",
    "grouping.loc[:,'star_rating']\n",
    "\n",
    "conditions=[grouping.iloc[:,2]>10,grouping.iloc[:,2]<=10]\n",
    "results=['over 10','under 10']\n",
    "grouping['selection']=np.select(conditions,results,'other')\n",
    "\n",
    "grouping[grouping['selection'] =='over 10']\n",
    "\n"
   ]
  },
  {
   "cell_type": "markdown",
   "metadata": {},
   "source": [
    "## Bonus"
   ]
  },
  {
   "cell_type": "markdown",
   "metadata": {
    "collapsed": true
   },
   "source": [
    "#### Figure out something \"interesting\" using the actors data!"
   ]
  },
  {
   "cell_type": "code",
   "execution_count": 701,
   "metadata": {},
   "outputs": [],
   "source": [
    "movies['actors_list'] = [x.replace('u', '') for x in movies['actors_list']]\n",
    "movies['actors_list'] = [x.replace('\\\\xf4', '') for x in movies['actors_list']]\n",
    "movies['actors_list'] = [x.replace('\\\\xe7ois', '') for x in movies['actors_list']]\n",
    "movies['actors_list'] = [x.replace('\\\\xf3', 'o') for x in movies['actors_list']]"
   ]
  },
  {
   "cell_type": "code",
   "execution_count": null,
   "metadata": {},
   "outputs": [],
   "source": []
  }
 ],
 "metadata": {
  "kernelspec": {
   "display_name": "Python 3",
   "language": "python",
   "name": "python3"
  },
  "language_info": {
   "codemirror_mode": {
    "name": "ipython",
    "version": 3
   },
   "file_extension": ".py",
   "mimetype": "text/x-python",
   "name": "python",
   "nbconvert_exporter": "python",
   "pygments_lexer": "ipython3",
<<<<<<< HEAD
   "version": "3.8.5"
=======
   "version": "3.8.8"
>>>>>>> 47b2484ce0a32c8c37275f0354207e26eb222815
  }
 },
 "nbformat": 4,
 "nbformat_minor": 1
}
