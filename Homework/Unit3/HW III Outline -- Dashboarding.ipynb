{
 "cells": [
  {
   "cell_type": "markdown",
   "metadata": {},
   "source": [
    "### HW III:  Dashboarding Challenge\n",
    "\n",
    "Your prompt for homework III is to continue your work for homework II, but take your final, fitted model and use it in a streamlit application.\n",
    "\n",
    "You are allowed to use your own creativity to design the application as you would like, but you should at least try and create something as complicated as what was done in class.\n",
    "\n",
    "To turn in your HW project, you should just turn in a link to your github url, as well as the link to your deployed application on streamlit cloud.\n",
    "\n",
    "Here are some helpful links:\n",
    "\n",
    " - Streamlit API reference:  https://docs.streamlit.io/library/api-reference\n",
    " - Streamlit gallery: https://streamlit.io/gallery?category=featured\n",
    "\n",
    "#### Streamlit Cloud\n",
    "\n",
    "Please sign up for a free streamlit cloud account as soon as possible.  We're going to use this to deploy your homework project.  The page can be found here:  https://streamlit.io/cloud"
   ]
  },
  {
   "cell_type": "code",
   "execution_count": null,
   "metadata": {},
   "outputs": [],
   "source": []
  }
 ],
 "metadata": {
  "kernelspec": {
   "display_name": "Python 3",
   "language": "python",
   "name": "python3"
  },
  "language_info": {
   "codemirror_mode": {
    "name": "ipython",
    "version": 3
   },
   "file_extension": ".py",
   "mimetype": "text/x-python",
   "name": "python",
   "nbconvert_exporter": "python",
   "pygments_lexer": "ipython3",
   "version": "3.8.8"
  }
 },
 "nbformat": 4,
 "nbformat_minor": 4
}
