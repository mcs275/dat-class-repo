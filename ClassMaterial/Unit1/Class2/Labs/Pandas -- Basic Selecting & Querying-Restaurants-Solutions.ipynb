{
 "cells": [
  {
   "cell_type": "markdown",
   "metadata": {},
   "source": [
    "### Pandas Lab -- Basic Selecting & Querying\n",
    "\n",
    "This lab walks you through various sections of Pandas syntax for grabbing & selecting data.\n",
    "\n",
    "The lab is broken down into three parts, and will be completed throughout class.\n",
    "\n",
    " - 1. Basic selectors with Pandas\n",
    " - 2. Selecting based on conditions & boolean indexes\n",
    " - 3. Special commands for selecting certain types of rows"
   ]
  },
  {
   "cell_type": "markdown",
   "metadata": {},
   "source": [
    "### Section 1:  Selecting Data With Pandas"
   ]
  },
  {
   "cell_type": "code",
   "execution_count": 56,
   "metadata": {},
   "outputs": [],
   "source": [
    "# you might need to change the file path to get this working correctly\n",
    "import pandas as pd\n",
    "import numpy as np\n",
    "df = pd.read_csv('../data/restaurant data/master.csv', parse_dates=['visit_date'])"
   ]
  },
  {
   "cell_type": "markdown",
   "metadata": {},
   "source": [
    "**1). What is the average number of visitors througout the entire dataset?**"
   ]
  },
  {
   "cell_type": "code",
   "execution_count": 9,
   "metadata": {},
   "outputs": [
    {
     "data": {
      "text/plain": [
       "20.973761245180636"
      ]
     },
     "execution_count": 9,
     "metadata": {},
     "output_type": "execute_result"
    }
   ],
   "source": [
    "df['visitors'].mean()"
   ]
  },
  {
   "cell_type": "markdown",
   "metadata": {},
   "source": [
    "**2). What are the median values of the visitors and holiday columns?**"
   ]
  },
  {
   "cell_type": "code",
   "execution_count": 12,
   "metadata": {},
   "outputs": [
    {
     "data": {
      "text/plain": [
       "visitors    17.0\n",
       "holiday      0.0\n",
       "dtype: float64"
      ]
     },
     "execution_count": 12,
     "metadata": {},
     "output_type": "execute_result"
    }
   ],
   "source": [
    "# your answer here\n",
    "df[['visitors', 'holiday']].median()"
   ]
  },
  {
   "cell_type": "markdown",
   "metadata": {},
   "source": [
    "**3). What was the lowest number of visitors among the first 5000 rows in the dataset?**"
   ]
  },
  {
   "cell_type": "code",
   "execution_count": 13,
   "metadata": {},
   "outputs": [
    {
     "data": {
      "text/plain": [
       "1"
      ]
     },
     "execution_count": 13,
     "metadata": {},
     "output_type": "execute_result"
    }
   ],
   "source": [
    "# your answer here\n",
    "df[:5000]['visitors'].min()"
   ]
  },
  {
   "cell_type": "markdown",
   "metadata": {},
   "source": [
    "**4). What is the modal value of the last 4 columns in the dataset?**"
   ]
  },
  {
   "cell_type": "code",
   "execution_count": 14,
   "metadata": {},
   "outputs": [
    {
     "data": {
      "text/html": [
       "<div>\n",
       "<style scoped>\n",
       "    .dataframe tbody tr th:only-of-type {\n",
       "        vertical-align: middle;\n",
       "    }\n",
       "\n",
       "    .dataframe tbody tr th {\n",
       "        vertical-align: top;\n",
       "    }\n",
       "\n",
       "    .dataframe thead th {\n",
       "        text-align: right;\n",
       "    }\n",
       "</style>\n",
       "<table border=\"1\" class=\"dataframe\">\n",
       "  <thead>\n",
       "    <tr style=\"text-align: right;\">\n",
       "      <th></th>\n",
       "      <th>genre</th>\n",
       "      <th>area</th>\n",
       "      <th>latitude</th>\n",
       "      <th>longitude</th>\n",
       "    </tr>\n",
       "  </thead>\n",
       "  <tbody>\n",
       "    <tr>\n",
       "      <th>0</th>\n",
       "      <td>Izakaya</td>\n",
       "      <td>Fukuoka-ken Fukuoka-shi Daimyō</td>\n",
       "      <td>33.589216</td>\n",
       "      <td>130.392813</td>\n",
       "    </tr>\n",
       "  </tbody>\n",
       "</table>\n",
       "</div>"
      ],
      "text/plain": [
       "     genre                            area   latitude   longitude\n",
       "0  Izakaya  Fukuoka-ken Fukuoka-shi Daimyō  33.589216  130.392813"
      ]
     },
     "execution_count": 14,
     "metadata": {},
     "output_type": "execute_result"
    }
   ],
   "source": [
    "# your answer here\n",
    "df.iloc[:, -4:].mode()"
   ]
  },
  {
   "cell_type": "markdown",
   "metadata": {},
   "source": [
    "**5). What is the mean value of the first 250 rows of the first 3 columns in the dataset?**"
   ]
  },
  {
   "cell_type": "code",
   "execution_count": 15,
   "metadata": {},
   "outputs": [
    {
     "data": {
      "text/plain": [
       "visitors    24.912\n",
       "dtype: float64"
      ]
     },
     "execution_count": 15,
     "metadata": {},
     "output_type": "execute_result"
    }
   ],
   "source": [
    "# your answer here\n",
    "df.iloc[:250, :3].mean()"
   ]
  },
  {
   "cell_type": "markdown",
   "metadata": {},
   "source": [
    "### Section II: Selecting Based on Conditions"
   ]
  },
  {
   "cell_type": "markdown",
   "metadata": {},
   "source": [
    "**1). What was the average attendance on Monday?  On the weekend (Saturday & Sunday)?**"
   ]
  },
  {
   "cell_type": "code",
   "execution_count": 18,
   "metadata": {},
   "outputs": [
    {
     "data": {
      "text/plain": [
       "17.177009027207877"
      ]
     },
     "execution_count": 18,
     "metadata": {},
     "output_type": "execute_result"
    }
   ],
   "source": [
    "# your answer here\n",
    "df[df['day_of_week'] == 'Monday']['visitors'].mean()"
   ]
  },
  {
   "cell_type": "code",
   "execution_count": 20,
   "metadata": {
    "scrolled": true
   },
   "outputs": [
    {
     "data": {
      "text/plain": [
       "25.256869738495084"
      ]
     },
     "execution_count": 20,
     "metadata": {},
     "output_type": "execute_result"
    }
   ],
   "source": [
    "# straight forward way\n",
    "df[(df['day_of_week'] == 'Saturday') | (df['day_of_week'] == 'Sunday')]['visitors'].mean()"
   ]
  },
  {
   "cell_type": "code",
   "execution_count": 22,
   "metadata": {},
   "outputs": [
    {
     "data": {
      "text/plain": [
       "25.256869738495084"
      ]
     },
     "execution_count": 22,
     "metadata": {},
     "output_type": "execute_result"
    }
   ],
   "source": [
    "# slightly more straight forward way\n",
    "df[df['day_of_week'].isin(['Saturday', 'Sunday'])]['visitors'].mean()"
   ]
  },
  {
   "cell_type": "markdown",
   "metadata": {},
   "source": [
    "**2). Is attendance higher on average for holidays or non-holidays?**"
   ]
  },
  {
   "cell_type": "code",
   "execution_count": 23,
   "metadata": {},
   "outputs": [
    {
     "data": {
      "text/plain": [
       "23.703326810176126"
      ]
     },
     "execution_count": 23,
     "metadata": {},
     "output_type": "execute_result"
    }
   ],
   "source": [
    "# your answer here\n",
    "df[df['holiday'] == 1]['visitors'].mean()"
   ]
  },
  {
   "cell_type": "code",
   "execution_count": 24,
   "metadata": {},
   "outputs": [
    {
     "data": {
      "text/plain": [
       "20.828063827386945"
      ]
     },
     "execution_count": 24,
     "metadata": {},
     "output_type": "execute_result"
    }
   ],
   "source": [
    "# non - holidays\n",
    "df[df['holiday'] == 0]['visitors'].mean()"
   ]
  },
  {
   "cell_type": "code",
   "execution_count": 25,
   "metadata": {},
   "outputs": [
    {
     "data": {
      "text/plain": [
       "holiday\n",
       "0    20.828064\n",
       "1    23.703327\n",
       "Name: visitors, dtype: float64"
      ]
     },
     "execution_count": 25,
     "metadata": {},
     "output_type": "execute_result"
    }
   ],
   "source": [
    "# more straight forward way to do it -- this will be covered in more detail in a later class\n",
    "df.groupby('holiday')['visitors'].mean()"
   ]
  },
  {
   "cell_type": "markdown",
   "metadata": {},
   "source": [
    "**3). What was the highest day of attendance for Dining Bars?**"
   ]
  },
  {
   "cell_type": "code",
   "execution_count": 29,
   "metadata": {},
   "outputs": [
    {
     "data": {
      "text/plain": [
       "348"
      ]
     },
     "execution_count": 29,
     "metadata": {},
     "output_type": "execute_result"
    }
   ],
   "source": [
    "# your answer here -- notice the different way of selecting\n",
    "df[df.genre == 'Dining bar']['visitors'].max()"
   ]
  },
  {
   "cell_type": "markdown",
   "metadata": {},
   "source": [
    "**4). What was the date that had the highest number of reservations that was a holiday?  Hint:  use the `idxmax()` function**"
   ]
  },
  {
   "cell_type": "code",
   "execution_count": 35,
   "metadata": {},
   "outputs": [
    {
     "data": {
      "text/plain": [
       "122871"
      ]
     },
     "execution_count": 35,
     "metadata": {},
     "output_type": "execute_result"
    }
   ],
   "source": [
    "# your answer here\n",
    "df[df.holiday == 1]['visitors'].idxmax()"
   ]
  },
  {
   "cell_type": "code",
   "execution_count": 33,
   "metadata": {},
   "outputs": [
    {
     "data": {
      "text/plain": [
       "id                                air_df554c4527a1cfe6\n",
       "visit_date                         2016-12-30 00:00:00\n",
       "visitors                                           205\n",
       "day_of_week                                     Friday\n",
       "holiday                                              1\n",
       "genre                                          Izakaya\n",
       "area           Shizuoka-ken Hamamatsu-shi Motoshirochō\n",
       "latitude                                       34.7109\n",
       "longitude                                      137.726\n",
       "Name: 122871, dtype: object"
      ]
     },
     "execution_count": 33,
     "metadata": {},
     "output_type": "execute_result"
    }
   ],
   "source": [
    "# get the index position\n",
    "df.iloc[122871]"
   ]
  },
  {
   "cell_type": "markdown",
   "metadata": {},
   "source": [
    "**Section III: Special Types of Selectors**"
   ]
  },
  {
   "cell_type": "markdown",
   "metadata": {},
   "source": [
    "To get some additional practice using common Pandas methods, we'll go over some common scenarios you typically have to select data for. \n",
    "\n",
    "*The methods used in this section have not been covered in class.*  Each question will come with the recommended method to use.  It's best to use the `?` before the method to read how it works and figure out how to use it.  \n",
    "\n",
    "It's designed to be a little bit of a treasure hunt to familiarize yourself with a lot of the bread & butter pandas methods."
   ]
  },
  {
   "cell_type": "markdown",
   "metadata": {},
   "source": [
    "**1). Can you return the amount of null values for each column?**\n",
    "\n",
    "To use: `df.isnull()`.  **Hint:** `True` sums to 1, `False` to 0."
   ]
  },
  {
   "cell_type": "code",
   "execution_count": 45,
   "metadata": {},
   "outputs": [
    {
     "data": {
      "text/plain": [
       "id                       0\n",
       "visit_date               0\n",
       "visitors                 0\n",
       "calendar_date            0\n",
       "day_of_week              0\n",
       "holiday                  0\n",
       "genre                    0\n",
       "area                     0\n",
       "latitude                 0\n",
       "longitude                0\n",
       "reserve_visitors    143714\n",
       "dtype: int64"
      ]
     },
     "execution_count": 45,
     "metadata": {},
     "output_type": "execute_result"
    }
   ],
   "source": [
    "# your answer here\n",
    "df.isnull().sum()"
   ]
  },
  {
   "cell_type": "markdown",
   "metadata": {},
   "source": [
    "**2). Can you find the count values for every single unique value within a column?**\n",
    "\n",
    "To use: `pd.Series.value_counts()`.  **Hint:** This is a *Series* method, not a *Dataframe* method.  "
   ]
  },
  {
   "cell_type": "code",
   "execution_count": 37,
   "metadata": {},
   "outputs": [
    {
     "data": {
      "text/plain": [
       "Izakaya                         62052\n",
       "Cafe/Sweets                     52764\n",
       "Dining bar                      34192\n",
       "Italian/French                  30011\n",
       "Bar/Cocktail                    25135\n",
       "Japanese food                   18789\n",
       "Other                            8246\n",
       "Yakiniku/Korean food             7025\n",
       "Western food                     4897\n",
       "Creative cuisine                 3868\n",
       "Okonomiyaki/Monja/Teppanyaki     3706\n",
       "Asian                             535\n",
       "Karaoke/Party                     516\n",
       "International cuisine             372\n",
       "Name: genre, dtype: int64"
      ]
     },
     "execution_count": 37,
     "metadata": {},
     "output_type": "execute_result"
    }
   ],
   "source": [
    "# your answer here\n",
    "df['genre'].value_counts()"
   ]
  },
  {
   "cell_type": "code",
   "execution_count": 38,
   "metadata": {},
   "outputs": [
    {
     "data": {
      "text/plain": [
       "0    239333\n",
       "1     12775\n",
       "Name: holiday, dtype: int64"
      ]
     },
     "execution_count": 38,
     "metadata": {},
     "output_type": "execute_result"
    }
   ],
   "source": [
    "df['holiday'].value_counts()"
   ]
  },
  {
   "cell_type": "markdown",
   "metadata": {},
   "source": [
    "**3). Can you find the column with the highest number of unique values?  Can you sort columns their number of unique values?**\n",
    "\n",
    "To use: `df.nunique`, and `df.sort_values()` if you want to sort it."
   ]
  },
  {
   "cell_type": "code",
   "execution_count": 41,
   "metadata": {},
   "outputs": [
    {
     "data": {
      "text/plain": [
       "'id'"
      ]
     },
     "execution_count": 41,
     "metadata": {},
     "output_type": "execute_result"
    }
   ],
   "source": [
    "# your answer here\n",
    "df.nunique().idxmax()"
   ]
  },
  {
   "cell_type": "code",
   "execution_count": 42,
   "metadata": {},
   "outputs": [
    {
     "data": {
      "text/plain": [
       "holiday          2\n",
       "day_of_week      7\n",
       "genre           14\n",
       "area           103\n",
       "latitude       108\n",
       "longitude      108\n",
       "visitors       204\n",
       "visit_date     478\n",
       "id             829\n",
       "dtype: int64"
      ]
     },
     "execution_count": 42,
     "metadata": {},
     "output_type": "execute_result"
    }
   ],
   "source": [
    "# if you want to sort\n",
    "df.nunique().sort_values()"
   ]
  },
  {
   "cell_type": "markdown",
   "metadata": {},
   "source": [
    "**4). Can you query your dataframe so that it only returns columns that have empty values?**\n",
    "\n",
    "To use: `df.isnull()`, `df.loc`"
   ]
  },
  {
   "cell_type": "code",
   "execution_count": 46,
   "metadata": {},
   "outputs": [
    {
     "data": {
      "text/html": [
       "<div>\n",
       "<style scoped>\n",
       "    .dataframe tbody tr th:only-of-type {\n",
       "        vertical-align: middle;\n",
       "    }\n",
       "\n",
       "    .dataframe tbody tr th {\n",
       "        vertical-align: top;\n",
       "    }\n",
       "\n",
       "    .dataframe thead th {\n",
       "        text-align: right;\n",
       "    }\n",
       "</style>\n",
       "<table border=\"1\" class=\"dataframe\">\n",
       "  <thead>\n",
       "    <tr style=\"text-align: right;\">\n",
       "      <th></th>\n",
       "      <th>reserve_visitors</th>\n",
       "    </tr>\n",
       "  </thead>\n",
       "  <tbody>\n",
       "    <tr>\n",
       "      <th>0</th>\n",
       "      <td>NaN</td>\n",
       "    </tr>\n",
       "    <tr>\n",
       "      <th>1</th>\n",
       "      <td>NaN</td>\n",
       "    </tr>\n",
       "    <tr>\n",
       "      <th>2</th>\n",
       "      <td>NaN</td>\n",
       "    </tr>\n",
       "    <tr>\n",
       "      <th>3</th>\n",
       "      <td>NaN</td>\n",
       "    </tr>\n",
       "    <tr>\n",
       "      <th>4</th>\n",
       "      <td>NaN</td>\n",
       "    </tr>\n",
       "    <tr>\n",
       "      <th>...</th>\n",
       "      <td>...</td>\n",
       "    </tr>\n",
       "    <tr>\n",
       "      <th>252103</th>\n",
       "      <td>6.0</td>\n",
       "    </tr>\n",
       "    <tr>\n",
       "      <th>252104</th>\n",
       "      <td>37.0</td>\n",
       "    </tr>\n",
       "    <tr>\n",
       "      <th>252105</th>\n",
       "      <td>35.0</td>\n",
       "    </tr>\n",
       "    <tr>\n",
       "      <th>252106</th>\n",
       "      <td>3.0</td>\n",
       "    </tr>\n",
       "    <tr>\n",
       "      <th>252107</th>\n",
       "      <td>32.0</td>\n",
       "    </tr>\n",
       "  </tbody>\n",
       "</table>\n",
       "<p>252108 rows × 1 columns</p>\n",
       "</div>"
      ],
      "text/plain": [
       "        reserve_visitors\n",
       "0                    NaN\n",
       "1                    NaN\n",
       "2                    NaN\n",
       "3                    NaN\n",
       "4                    NaN\n",
       "...                  ...\n",
       "252103               6.0\n",
       "252104              37.0\n",
       "252105              35.0\n",
       "252106               3.0\n",
       "252107              32.0\n",
       "\n",
       "[252108 rows x 1 columns]"
      ]
     },
     "execution_count": 46,
     "metadata": {},
     "output_type": "execute_result"
    }
   ],
   "source": [
    "# your answer here\n",
    "df.loc[:, df.isnull().sum() > 0]"
   ]
  },
  {
   "cell_type": "markdown",
   "metadata": {},
   "source": [
    "**5).  Can you query the dataframe such that it only returns rows that have *no* missing values, in any of their columns?**\n",
    "\n",
    "To use: `df.isnull()`, `df.any()`, or, conversely, `df.notnull()`, and `df.all()`\n",
    "\n",
    "**Hint:** The `~` operator, if put in front of a query, selects for values that are **not** True."
   ]
  },
  {
   "cell_type": "code",
   "execution_count": 49,
   "metadata": {},
   "outputs": [
    {
     "data": {
      "text/html": [
       "<div>\n",
       "<style scoped>\n",
       "    .dataframe tbody tr th:only-of-type {\n",
       "        vertical-align: middle;\n",
       "    }\n",
       "\n",
       "    .dataframe tbody tr th {\n",
       "        vertical-align: top;\n",
       "    }\n",
       "\n",
       "    .dataframe thead th {\n",
       "        text-align: right;\n",
       "    }\n",
       "</style>\n",
       "<table border=\"1\" class=\"dataframe\">\n",
       "  <thead>\n",
       "    <tr style=\"text-align: right;\">\n",
       "      <th></th>\n",
       "      <th>id</th>\n",
       "      <th>visit_date</th>\n",
       "      <th>visitors</th>\n",
       "      <th>calendar_date</th>\n",
       "      <th>day_of_week</th>\n",
       "      <th>holiday</th>\n",
       "      <th>genre</th>\n",
       "      <th>area</th>\n",
       "      <th>latitude</th>\n",
       "      <th>longitude</th>\n",
       "      <th>reserve_visitors</th>\n",
       "    </tr>\n",
       "  </thead>\n",
       "  <tbody>\n",
       "    <tr>\n",
       "      <th>11</th>\n",
       "      <td>air_ba937bf13d40fb24</td>\n",
       "      <td>2016-01-26</td>\n",
       "      <td>11</td>\n",
       "      <td>2016-01-26</td>\n",
       "      <td>Tuesday</td>\n",
       "      <td>0</td>\n",
       "      <td>Dining bar</td>\n",
       "      <td>Tōkyō-to Minato-ku Shibakōen</td>\n",
       "      <td>35.658068</td>\n",
       "      <td>139.751599</td>\n",
       "      <td>2.0</td>\n",
       "    </tr>\n",
       "    <tr>\n",
       "      <th>21</th>\n",
       "      <td>air_ba937bf13d40fb24</td>\n",
       "      <td>2016-02-09</td>\n",
       "      <td>15</td>\n",
       "      <td>2016-02-09</td>\n",
       "      <td>Tuesday</td>\n",
       "      <td>0</td>\n",
       "      <td>Dining bar</td>\n",
       "      <td>Tōkyō-to Minato-ku Shibakōen</td>\n",
       "      <td>35.658068</td>\n",
       "      <td>139.751599</td>\n",
       "      <td>7.0</td>\n",
       "    </tr>\n",
       "    <tr>\n",
       "      <th>24</th>\n",
       "      <td>air_ba937bf13d40fb24</td>\n",
       "      <td>2016-02-12</td>\n",
       "      <td>26</td>\n",
       "      <td>2016-02-12</td>\n",
       "      <td>Friday</td>\n",
       "      <td>0</td>\n",
       "      <td>Dining bar</td>\n",
       "      <td>Tōkyō-to Minato-ku Shibakōen</td>\n",
       "      <td>35.658068</td>\n",
       "      <td>139.751599</td>\n",
       "      <td>18.0</td>\n",
       "    </tr>\n",
       "    <tr>\n",
       "      <th>25</th>\n",
       "      <td>air_ba937bf13d40fb24</td>\n",
       "      <td>2016-02-13</td>\n",
       "      <td>8</td>\n",
       "      <td>2016-02-13</td>\n",
       "      <td>Saturday</td>\n",
       "      <td>0</td>\n",
       "      <td>Dining bar</td>\n",
       "      <td>Tōkyō-to Minato-ku Shibakōen</td>\n",
       "      <td>35.658068</td>\n",
       "      <td>139.751599</td>\n",
       "      <td>2.0</td>\n",
       "    </tr>\n",
       "    <tr>\n",
       "      <th>37</th>\n",
       "      <td>air_ba937bf13d40fb24</td>\n",
       "      <td>2016-02-27</td>\n",
       "      <td>23</td>\n",
       "      <td>2016-02-27</td>\n",
       "      <td>Saturday</td>\n",
       "      <td>0</td>\n",
       "      <td>Dining bar</td>\n",
       "      <td>Tōkyō-to Minato-ku Shibakōen</td>\n",
       "      <td>35.658068</td>\n",
       "      <td>139.751599</td>\n",
       "      <td>2.0</td>\n",
       "    </tr>\n",
       "    <tr>\n",
       "      <th>...</th>\n",
       "      <td>...</td>\n",
       "      <td>...</td>\n",
       "      <td>...</td>\n",
       "      <td>...</td>\n",
       "      <td>...</td>\n",
       "      <td>...</td>\n",
       "      <td>...</td>\n",
       "      <td>...</td>\n",
       "      <td>...</td>\n",
       "      <td>...</td>\n",
       "      <td>...</td>\n",
       "    </tr>\n",
       "    <tr>\n",
       "      <th>252103</th>\n",
       "      <td>air_a17f0778617c76e2</td>\n",
       "      <td>2017-04-21</td>\n",
       "      <td>49</td>\n",
       "      <td>2017-04-21</td>\n",
       "      <td>Friday</td>\n",
       "      <td>0</td>\n",
       "      <td>Italian/French</td>\n",
       "      <td>Hyōgo-ken Kōbe-shi Kumoidōri</td>\n",
       "      <td>34.695124</td>\n",
       "      <td>135.197852</td>\n",
       "      <td>6.0</td>\n",
       "    </tr>\n",
       "    <tr>\n",
       "      <th>252104</th>\n",
       "      <td>air_a17f0778617c76e2</td>\n",
       "      <td>2017-04-22</td>\n",
       "      <td>60</td>\n",
       "      <td>2017-04-22</td>\n",
       "      <td>Saturday</td>\n",
       "      <td>0</td>\n",
       "      <td>Italian/French</td>\n",
       "      <td>Hyōgo-ken Kōbe-shi Kumoidōri</td>\n",
       "      <td>34.695124</td>\n",
       "      <td>135.197852</td>\n",
       "      <td>37.0</td>\n",
       "    </tr>\n",
       "    <tr>\n",
       "      <th>252105</th>\n",
       "      <td>air_a17f0778617c76e2</td>\n",
       "      <td>2017-03-26</td>\n",
       "      <td>69</td>\n",
       "      <td>2017-03-26</td>\n",
       "      <td>Sunday</td>\n",
       "      <td>0</td>\n",
       "      <td>Italian/French</td>\n",
       "      <td>Hyōgo-ken Kōbe-shi Kumoidōri</td>\n",
       "      <td>34.695124</td>\n",
       "      <td>135.197852</td>\n",
       "      <td>35.0</td>\n",
       "    </tr>\n",
       "    <tr>\n",
       "      <th>252106</th>\n",
       "      <td>air_a17f0778617c76e2</td>\n",
       "      <td>2017-03-20</td>\n",
       "      <td>31</td>\n",
       "      <td>2017-03-20</td>\n",
       "      <td>Monday</td>\n",
       "      <td>1</td>\n",
       "      <td>Italian/French</td>\n",
       "      <td>Hyōgo-ken Kōbe-shi Kumoidōri</td>\n",
       "      <td>34.695124</td>\n",
       "      <td>135.197852</td>\n",
       "      <td>3.0</td>\n",
       "    </tr>\n",
       "    <tr>\n",
       "      <th>252107</th>\n",
       "      <td>air_a17f0778617c76e2</td>\n",
       "      <td>2017-04-09</td>\n",
       "      <td>26</td>\n",
       "      <td>2017-04-09</td>\n",
       "      <td>Sunday</td>\n",
       "      <td>0</td>\n",
       "      <td>Italian/French</td>\n",
       "      <td>Hyōgo-ken Kōbe-shi Kumoidōri</td>\n",
       "      <td>34.695124</td>\n",
       "      <td>135.197852</td>\n",
       "      <td>32.0</td>\n",
       "    </tr>\n",
       "  </tbody>\n",
       "</table>\n",
       "<p>108394 rows × 11 columns</p>\n",
       "</div>"
      ],
      "text/plain": [
       "                          id visit_date  visitors calendar_date day_of_week  \\\n",
       "11      air_ba937bf13d40fb24 2016-01-26        11    2016-01-26     Tuesday   \n",
       "21      air_ba937bf13d40fb24 2016-02-09        15    2016-02-09     Tuesday   \n",
       "24      air_ba937bf13d40fb24 2016-02-12        26    2016-02-12      Friday   \n",
       "25      air_ba937bf13d40fb24 2016-02-13         8    2016-02-13    Saturday   \n",
       "37      air_ba937bf13d40fb24 2016-02-27        23    2016-02-27    Saturday   \n",
       "...                      ...        ...       ...           ...         ...   \n",
       "252103  air_a17f0778617c76e2 2017-04-21        49    2017-04-21      Friday   \n",
       "252104  air_a17f0778617c76e2 2017-04-22        60    2017-04-22    Saturday   \n",
       "252105  air_a17f0778617c76e2 2017-03-26        69    2017-03-26      Sunday   \n",
       "252106  air_a17f0778617c76e2 2017-03-20        31    2017-03-20      Monday   \n",
       "252107  air_a17f0778617c76e2 2017-04-09        26    2017-04-09      Sunday   \n",
       "\n",
       "        holiday           genre                          area   latitude  \\\n",
       "11            0      Dining bar  Tōkyō-to Minato-ku Shibakōen  35.658068   \n",
       "21            0      Dining bar  Tōkyō-to Minato-ku Shibakōen  35.658068   \n",
       "24            0      Dining bar  Tōkyō-to Minato-ku Shibakōen  35.658068   \n",
       "25            0      Dining bar  Tōkyō-to Minato-ku Shibakōen  35.658068   \n",
       "37            0      Dining bar  Tōkyō-to Minato-ku Shibakōen  35.658068   \n",
       "...         ...             ...                           ...        ...   \n",
       "252103        0  Italian/French  Hyōgo-ken Kōbe-shi Kumoidōri  34.695124   \n",
       "252104        0  Italian/French  Hyōgo-ken Kōbe-shi Kumoidōri  34.695124   \n",
       "252105        0  Italian/French  Hyōgo-ken Kōbe-shi Kumoidōri  34.695124   \n",
       "252106        1  Italian/French  Hyōgo-ken Kōbe-shi Kumoidōri  34.695124   \n",
       "252107        0  Italian/French  Hyōgo-ken Kōbe-shi Kumoidōri  34.695124   \n",
       "\n",
       "         longitude  reserve_visitors  \n",
       "11      139.751599               2.0  \n",
       "21      139.751599               7.0  \n",
       "24      139.751599              18.0  \n",
       "25      139.751599               2.0  \n",
       "37      139.751599               2.0  \n",
       "...            ...               ...  \n",
       "252103  135.197852               6.0  \n",
       "252104  135.197852              37.0  \n",
       "252105  135.197852              35.0  \n",
       "252106  135.197852               3.0  \n",
       "252107  135.197852              32.0  \n",
       "\n",
       "[108394 rows x 11 columns]"
      ]
     },
     "execution_count": 49,
     "metadata": {},
     "output_type": "execute_result"
    }
   ],
   "source": [
    "# your answer here\n",
    "df[~df.isnull().any(axis=1)]"
   ]
  },
  {
   "cell_type": "code",
   "execution_count": 51,
   "metadata": {},
   "outputs": [
    {
     "data": {
      "text/html": [
       "<div>\n",
       "<style scoped>\n",
       "    .dataframe tbody tr th:only-of-type {\n",
       "        vertical-align: middle;\n",
       "    }\n",
       "\n",
       "    .dataframe tbody tr th {\n",
       "        vertical-align: top;\n",
       "    }\n",
       "\n",
       "    .dataframe thead th {\n",
       "        text-align: right;\n",
       "    }\n",
       "</style>\n",
       "<table border=\"1\" class=\"dataframe\">\n",
       "  <thead>\n",
       "    <tr style=\"text-align: right;\">\n",
       "      <th></th>\n",
       "      <th>id</th>\n",
       "      <th>visit_date</th>\n",
       "      <th>visitors</th>\n",
       "      <th>calendar_date</th>\n",
       "      <th>day_of_week</th>\n",
       "      <th>holiday</th>\n",
       "      <th>genre</th>\n",
       "      <th>area</th>\n",
       "      <th>latitude</th>\n",
       "      <th>longitude</th>\n",
       "      <th>reserve_visitors</th>\n",
       "    </tr>\n",
       "  </thead>\n",
       "  <tbody>\n",
       "    <tr>\n",
       "      <th>11</th>\n",
       "      <td>air_ba937bf13d40fb24</td>\n",
       "      <td>2016-01-26</td>\n",
       "      <td>11</td>\n",
       "      <td>2016-01-26</td>\n",
       "      <td>Tuesday</td>\n",
       "      <td>0</td>\n",
       "      <td>Dining bar</td>\n",
       "      <td>Tōkyō-to Minato-ku Shibakōen</td>\n",
       "      <td>35.658068</td>\n",
       "      <td>139.751599</td>\n",
       "      <td>2.0</td>\n",
       "    </tr>\n",
       "    <tr>\n",
       "      <th>21</th>\n",
       "      <td>air_ba937bf13d40fb24</td>\n",
       "      <td>2016-02-09</td>\n",
       "      <td>15</td>\n",
       "      <td>2016-02-09</td>\n",
       "      <td>Tuesday</td>\n",
       "      <td>0</td>\n",
       "      <td>Dining bar</td>\n",
       "      <td>Tōkyō-to Minato-ku Shibakōen</td>\n",
       "      <td>35.658068</td>\n",
       "      <td>139.751599</td>\n",
       "      <td>7.0</td>\n",
       "    </tr>\n",
       "    <tr>\n",
       "      <th>24</th>\n",
       "      <td>air_ba937bf13d40fb24</td>\n",
       "      <td>2016-02-12</td>\n",
       "      <td>26</td>\n",
       "      <td>2016-02-12</td>\n",
       "      <td>Friday</td>\n",
       "      <td>0</td>\n",
       "      <td>Dining bar</td>\n",
       "      <td>Tōkyō-to Minato-ku Shibakōen</td>\n",
       "      <td>35.658068</td>\n",
       "      <td>139.751599</td>\n",
       "      <td>18.0</td>\n",
       "    </tr>\n",
       "    <tr>\n",
       "      <th>25</th>\n",
       "      <td>air_ba937bf13d40fb24</td>\n",
       "      <td>2016-02-13</td>\n",
       "      <td>8</td>\n",
       "      <td>2016-02-13</td>\n",
       "      <td>Saturday</td>\n",
       "      <td>0</td>\n",
       "      <td>Dining bar</td>\n",
       "      <td>Tōkyō-to Minato-ku Shibakōen</td>\n",
       "      <td>35.658068</td>\n",
       "      <td>139.751599</td>\n",
       "      <td>2.0</td>\n",
       "    </tr>\n",
       "    <tr>\n",
       "      <th>37</th>\n",
       "      <td>air_ba937bf13d40fb24</td>\n",
       "      <td>2016-02-27</td>\n",
       "      <td>23</td>\n",
       "      <td>2016-02-27</td>\n",
       "      <td>Saturday</td>\n",
       "      <td>0</td>\n",
       "      <td>Dining bar</td>\n",
       "      <td>Tōkyō-to Minato-ku Shibakōen</td>\n",
       "      <td>35.658068</td>\n",
       "      <td>139.751599</td>\n",
       "      <td>2.0</td>\n",
       "    </tr>\n",
       "    <tr>\n",
       "      <th>...</th>\n",
       "      <td>...</td>\n",
       "      <td>...</td>\n",
       "      <td>...</td>\n",
       "      <td>...</td>\n",
       "      <td>...</td>\n",
       "      <td>...</td>\n",
       "      <td>...</td>\n",
       "      <td>...</td>\n",
       "      <td>...</td>\n",
       "      <td>...</td>\n",
       "      <td>...</td>\n",
       "    </tr>\n",
       "    <tr>\n",
       "      <th>252103</th>\n",
       "      <td>air_a17f0778617c76e2</td>\n",
       "      <td>2017-04-21</td>\n",
       "      <td>49</td>\n",
       "      <td>2017-04-21</td>\n",
       "      <td>Friday</td>\n",
       "      <td>0</td>\n",
       "      <td>Italian/French</td>\n",
       "      <td>Hyōgo-ken Kōbe-shi Kumoidōri</td>\n",
       "      <td>34.695124</td>\n",
       "      <td>135.197852</td>\n",
       "      <td>6.0</td>\n",
       "    </tr>\n",
       "    <tr>\n",
       "      <th>252104</th>\n",
       "      <td>air_a17f0778617c76e2</td>\n",
       "      <td>2017-04-22</td>\n",
       "      <td>60</td>\n",
       "      <td>2017-04-22</td>\n",
       "      <td>Saturday</td>\n",
       "      <td>0</td>\n",
       "      <td>Italian/French</td>\n",
       "      <td>Hyōgo-ken Kōbe-shi Kumoidōri</td>\n",
       "      <td>34.695124</td>\n",
       "      <td>135.197852</td>\n",
       "      <td>37.0</td>\n",
       "    </tr>\n",
       "    <tr>\n",
       "      <th>252105</th>\n",
       "      <td>air_a17f0778617c76e2</td>\n",
       "      <td>2017-03-26</td>\n",
       "      <td>69</td>\n",
       "      <td>2017-03-26</td>\n",
       "      <td>Sunday</td>\n",
       "      <td>0</td>\n",
       "      <td>Italian/French</td>\n",
       "      <td>Hyōgo-ken Kōbe-shi Kumoidōri</td>\n",
       "      <td>34.695124</td>\n",
       "      <td>135.197852</td>\n",
       "      <td>35.0</td>\n",
       "    </tr>\n",
       "    <tr>\n",
       "      <th>252106</th>\n",
       "      <td>air_a17f0778617c76e2</td>\n",
       "      <td>2017-03-20</td>\n",
       "      <td>31</td>\n",
       "      <td>2017-03-20</td>\n",
       "      <td>Monday</td>\n",
       "      <td>1</td>\n",
       "      <td>Italian/French</td>\n",
       "      <td>Hyōgo-ken Kōbe-shi Kumoidōri</td>\n",
       "      <td>34.695124</td>\n",
       "      <td>135.197852</td>\n",
       "      <td>3.0</td>\n",
       "    </tr>\n",
       "    <tr>\n",
       "      <th>252107</th>\n",
       "      <td>air_a17f0778617c76e2</td>\n",
       "      <td>2017-04-09</td>\n",
       "      <td>26</td>\n",
       "      <td>2017-04-09</td>\n",
       "      <td>Sunday</td>\n",
       "      <td>0</td>\n",
       "      <td>Italian/French</td>\n",
       "      <td>Hyōgo-ken Kōbe-shi Kumoidōri</td>\n",
       "      <td>34.695124</td>\n",
       "      <td>135.197852</td>\n",
       "      <td>32.0</td>\n",
       "    </tr>\n",
       "  </tbody>\n",
       "</table>\n",
       "<p>108394 rows × 11 columns</p>\n",
       "</div>"
      ],
      "text/plain": [
       "                          id visit_date  visitors calendar_date day_of_week  \\\n",
       "11      air_ba937bf13d40fb24 2016-01-26        11    2016-01-26     Tuesday   \n",
       "21      air_ba937bf13d40fb24 2016-02-09        15    2016-02-09     Tuesday   \n",
       "24      air_ba937bf13d40fb24 2016-02-12        26    2016-02-12      Friday   \n",
       "25      air_ba937bf13d40fb24 2016-02-13         8    2016-02-13    Saturday   \n",
       "37      air_ba937bf13d40fb24 2016-02-27        23    2016-02-27    Saturday   \n",
       "...                      ...        ...       ...           ...         ...   \n",
       "252103  air_a17f0778617c76e2 2017-04-21        49    2017-04-21      Friday   \n",
       "252104  air_a17f0778617c76e2 2017-04-22        60    2017-04-22    Saturday   \n",
       "252105  air_a17f0778617c76e2 2017-03-26        69    2017-03-26      Sunday   \n",
       "252106  air_a17f0778617c76e2 2017-03-20        31    2017-03-20      Monday   \n",
       "252107  air_a17f0778617c76e2 2017-04-09        26    2017-04-09      Sunday   \n",
       "\n",
       "        holiday           genre                          area   latitude  \\\n",
       "11            0      Dining bar  Tōkyō-to Minato-ku Shibakōen  35.658068   \n",
       "21            0      Dining bar  Tōkyō-to Minato-ku Shibakōen  35.658068   \n",
       "24            0      Dining bar  Tōkyō-to Minato-ku Shibakōen  35.658068   \n",
       "25            0      Dining bar  Tōkyō-to Minato-ku Shibakōen  35.658068   \n",
       "37            0      Dining bar  Tōkyō-to Minato-ku Shibakōen  35.658068   \n",
       "...         ...             ...                           ...        ...   \n",
       "252103        0  Italian/French  Hyōgo-ken Kōbe-shi Kumoidōri  34.695124   \n",
       "252104        0  Italian/French  Hyōgo-ken Kōbe-shi Kumoidōri  34.695124   \n",
       "252105        0  Italian/French  Hyōgo-ken Kōbe-shi Kumoidōri  34.695124   \n",
       "252106        1  Italian/French  Hyōgo-ken Kōbe-shi Kumoidōri  34.695124   \n",
       "252107        0  Italian/French  Hyōgo-ken Kōbe-shi Kumoidōri  34.695124   \n",
       "\n",
       "         longitude  reserve_visitors  \n",
       "11      139.751599               2.0  \n",
       "21      139.751599               7.0  \n",
       "24      139.751599              18.0  \n",
       "25      139.751599               2.0  \n",
       "37      139.751599               2.0  \n",
       "...            ...               ...  \n",
       "252103  135.197852               6.0  \n",
       "252104  135.197852              37.0  \n",
       "252105  135.197852              35.0  \n",
       "252106  135.197852               3.0  \n",
       "252107  135.197852              32.0  \n",
       "\n",
       "[108394 rows x 11 columns]"
      ]
     },
     "execution_count": 51,
     "metadata": {},
     "output_type": "execute_result"
    }
   ],
   "source": [
    "# your could also do this\n",
    "df[df.notnull().all(axis=1)]"
   ]
  },
  {
   "cell_type": "markdown",
   "metadata": {},
   "source": [
    "**6).  Can you find rows that contain duplicate values?**\n",
    "\n",
    "To use:  `df.duplicated()`"
   ]
  },
  {
   "cell_type": "code",
   "execution_count": 53,
   "metadata": {},
   "outputs": [
    {
     "data": {
      "text/html": [
       "<div>\n",
       "<style scoped>\n",
       "    .dataframe tbody tr th:only-of-type {\n",
       "        vertical-align: middle;\n",
       "    }\n",
       "\n",
       "    .dataframe tbody tr th {\n",
       "        vertical-align: top;\n",
       "    }\n",
       "\n",
       "    .dataframe thead th {\n",
       "        text-align: right;\n",
       "    }\n",
       "</style>\n",
       "<table border=\"1\" class=\"dataframe\">\n",
       "  <thead>\n",
       "    <tr style=\"text-align: right;\">\n",
       "      <th></th>\n",
       "      <th>id</th>\n",
       "      <th>visit_date</th>\n",
       "      <th>visitors</th>\n",
       "      <th>calendar_date</th>\n",
       "      <th>day_of_week</th>\n",
       "      <th>holiday</th>\n",
       "      <th>genre</th>\n",
       "      <th>area</th>\n",
       "      <th>latitude</th>\n",
       "      <th>longitude</th>\n",
       "      <th>reserve_visitors</th>\n",
       "    </tr>\n",
       "  </thead>\n",
       "  <tbody>\n",
       "  </tbody>\n",
       "</table>\n",
       "</div>"
      ],
      "text/plain": [
       "Empty DataFrame\n",
       "Columns: [id, visit_date, visitors, calendar_date, day_of_week, holiday, genre, area, latitude, longitude, reserve_visitors]\n",
       "Index: []"
      ]
     },
     "execution_count": 53,
     "metadata": {},
     "output_type": "execute_result"
    }
   ],
   "source": [
    "# your answers\n",
    "df[df.duplicated()]"
   ]
  },
  {
   "cell_type": "markdown",
   "metadata": {},
   "source": [
    "**7). Can you find rows that contain duplicated values for the visitors and date columns?**  \n",
    "\n",
    "To use: `df.duplicated()`"
   ]
  },
  {
   "cell_type": "code",
   "execution_count": 54,
   "metadata": {
    "scrolled": true
   },
   "outputs": [
    {
     "data": {
      "text/html": [
       "<div>\n",
       "<style scoped>\n",
       "    .dataframe tbody tr th:only-of-type {\n",
       "        vertical-align: middle;\n",
       "    }\n",
       "\n",
       "    .dataframe tbody tr th {\n",
       "        vertical-align: top;\n",
       "    }\n",
       "\n",
       "    .dataframe thead th {\n",
       "        text-align: right;\n",
       "    }\n",
       "</style>\n",
       "<table border=\"1\" class=\"dataframe\">\n",
       "  <thead>\n",
       "    <tr style=\"text-align: right;\">\n",
       "      <th></th>\n",
       "      <th>id</th>\n",
       "      <th>visit_date</th>\n",
       "      <th>visitors</th>\n",
       "      <th>calendar_date</th>\n",
       "      <th>day_of_week</th>\n",
       "      <th>holiday</th>\n",
       "      <th>genre</th>\n",
       "      <th>area</th>\n",
       "      <th>latitude</th>\n",
       "      <th>longitude</th>\n",
       "      <th>reserve_visitors</th>\n",
       "    </tr>\n",
       "  </thead>\n",
       "  <tbody>\n",
       "    <tr>\n",
       "      <th>416</th>\n",
       "      <td>air_25e9888d30b386df</td>\n",
       "      <td>2016-02-18</td>\n",
       "      <td>22</td>\n",
       "      <td>2016-02-18</td>\n",
       "      <td>Thursday</td>\n",
       "      <td>0</td>\n",
       "      <td>Izakaya</td>\n",
       "      <td>Tōkyō-to Shinagawa-ku Higashigotanda</td>\n",
       "      <td>35.626568</td>\n",
       "      <td>139.725858</td>\n",
       "      <td>NaN</td>\n",
       "    </tr>\n",
       "    <tr>\n",
       "      <th>424</th>\n",
       "      <td>air_25e9888d30b386df</td>\n",
       "      <td>2016-03-02</td>\n",
       "      <td>21</td>\n",
       "      <td>2016-03-02</td>\n",
       "      <td>Wednesday</td>\n",
       "      <td>0</td>\n",
       "      <td>Izakaya</td>\n",
       "      <td>Tōkyō-to Shinagawa-ku Higashigotanda</td>\n",
       "      <td>35.626568</td>\n",
       "      <td>139.725858</td>\n",
       "      <td>NaN</td>\n",
       "    </tr>\n",
       "    <tr>\n",
       "      <th>442</th>\n",
       "      <td>air_25e9888d30b386df</td>\n",
       "      <td>2016-03-27</td>\n",
       "      <td>1</td>\n",
       "      <td>2016-03-27</td>\n",
       "      <td>Sunday</td>\n",
       "      <td>0</td>\n",
       "      <td>Izakaya</td>\n",
       "      <td>Tōkyō-to Shinagawa-ku Higashigotanda</td>\n",
       "      <td>35.626568</td>\n",
       "      <td>139.725858</td>\n",
       "      <td>NaN</td>\n",
       "    </tr>\n",
       "    <tr>\n",
       "      <th>654</th>\n",
       "      <td>air_25e9888d30b386df</td>\n",
       "      <td>2017-04-16</td>\n",
       "      <td>1</td>\n",
       "      <td>2017-04-16</td>\n",
       "      <td>Sunday</td>\n",
       "      <td>0</td>\n",
       "      <td>Izakaya</td>\n",
       "      <td>Tōkyō-to Shinagawa-ku Higashigotanda</td>\n",
       "      <td>35.626568</td>\n",
       "      <td>139.725858</td>\n",
       "      <td>7.0</td>\n",
       "    </tr>\n",
       "    <tr>\n",
       "      <th>726</th>\n",
       "      <td>air_fd6aac1043520e83</td>\n",
       "      <td>2016-01-30</td>\n",
       "      <td>12</td>\n",
       "      <td>2016-01-30</td>\n",
       "      <td>Saturday</td>\n",
       "      <td>0</td>\n",
       "      <td>Izakaya</td>\n",
       "      <td>Tōkyō-to Minato-ku Shibakōen</td>\n",
       "      <td>35.658068</td>\n",
       "      <td>139.751599</td>\n",
       "      <td>NaN</td>\n",
       "    </tr>\n",
       "    <tr>\n",
       "      <th>...</th>\n",
       "      <td>...</td>\n",
       "      <td>...</td>\n",
       "      <td>...</td>\n",
       "      <td>...</td>\n",
       "      <td>...</td>\n",
       "      <td>...</td>\n",
       "      <td>...</td>\n",
       "      <td>...</td>\n",
       "      <td>...</td>\n",
       "      <td>...</td>\n",
       "      <td>...</td>\n",
       "    </tr>\n",
       "    <tr>\n",
       "      <th>252102</th>\n",
       "      <td>air_a17f0778617c76e2</td>\n",
       "      <td>2017-04-20</td>\n",
       "      <td>22</td>\n",
       "      <td>2017-04-20</td>\n",
       "      <td>Thursday</td>\n",
       "      <td>0</td>\n",
       "      <td>Italian/French</td>\n",
       "      <td>Hyōgo-ken Kōbe-shi Kumoidōri</td>\n",
       "      <td>34.695124</td>\n",
       "      <td>135.197852</td>\n",
       "      <td>1.0</td>\n",
       "    </tr>\n",
       "    <tr>\n",
       "      <th>252103</th>\n",
       "      <td>air_a17f0778617c76e2</td>\n",
       "      <td>2017-04-21</td>\n",
       "      <td>49</td>\n",
       "      <td>2017-04-21</td>\n",
       "      <td>Friday</td>\n",
       "      <td>0</td>\n",
       "      <td>Italian/French</td>\n",
       "      <td>Hyōgo-ken Kōbe-shi Kumoidōri</td>\n",
       "      <td>34.695124</td>\n",
       "      <td>135.197852</td>\n",
       "      <td>6.0</td>\n",
       "    </tr>\n",
       "    <tr>\n",
       "      <th>252105</th>\n",
       "      <td>air_a17f0778617c76e2</td>\n",
       "      <td>2017-03-26</td>\n",
       "      <td>69</td>\n",
       "      <td>2017-03-26</td>\n",
       "      <td>Sunday</td>\n",
       "      <td>0</td>\n",
       "      <td>Italian/French</td>\n",
       "      <td>Hyōgo-ken Kōbe-shi Kumoidōri</td>\n",
       "      <td>34.695124</td>\n",
       "      <td>135.197852</td>\n",
       "      <td>35.0</td>\n",
       "    </tr>\n",
       "    <tr>\n",
       "      <th>252106</th>\n",
       "      <td>air_a17f0778617c76e2</td>\n",
       "      <td>2017-03-20</td>\n",
       "      <td>31</td>\n",
       "      <td>2017-03-20</td>\n",
       "      <td>Monday</td>\n",
       "      <td>1</td>\n",
       "      <td>Italian/French</td>\n",
       "      <td>Hyōgo-ken Kōbe-shi Kumoidōri</td>\n",
       "      <td>34.695124</td>\n",
       "      <td>135.197852</td>\n",
       "      <td>3.0</td>\n",
       "    </tr>\n",
       "    <tr>\n",
       "      <th>252107</th>\n",
       "      <td>air_a17f0778617c76e2</td>\n",
       "      <td>2017-04-09</td>\n",
       "      <td>26</td>\n",
       "      <td>2017-04-09</td>\n",
       "      <td>Sunday</td>\n",
       "      <td>0</td>\n",
       "      <td>Italian/French</td>\n",
       "      <td>Hyōgo-ken Kōbe-shi Kumoidōri</td>\n",
       "      <td>34.695124</td>\n",
       "      <td>135.197852</td>\n",
       "      <td>32.0</td>\n",
       "    </tr>\n",
       "  </tbody>\n",
       "</table>\n",
       "<p>221148 rows × 11 columns</p>\n",
       "</div>"
      ],
      "text/plain": [
       "                          id visit_date  visitors calendar_date day_of_week  \\\n",
       "416     air_25e9888d30b386df 2016-02-18        22    2016-02-18    Thursday   \n",
       "424     air_25e9888d30b386df 2016-03-02        21    2016-03-02   Wednesday   \n",
       "442     air_25e9888d30b386df 2016-03-27         1    2016-03-27      Sunday   \n",
       "654     air_25e9888d30b386df 2017-04-16         1    2017-04-16      Sunday   \n",
       "726     air_fd6aac1043520e83 2016-01-30        12    2016-01-30    Saturday   \n",
       "...                      ...        ...       ...           ...         ...   \n",
       "252102  air_a17f0778617c76e2 2017-04-20        22    2017-04-20    Thursday   \n",
       "252103  air_a17f0778617c76e2 2017-04-21        49    2017-04-21      Friday   \n",
       "252105  air_a17f0778617c76e2 2017-03-26        69    2017-03-26      Sunday   \n",
       "252106  air_a17f0778617c76e2 2017-03-20        31    2017-03-20      Monday   \n",
       "252107  air_a17f0778617c76e2 2017-04-09        26    2017-04-09      Sunday   \n",
       "\n",
       "        holiday           genre                                  area  \\\n",
       "416           0         Izakaya  Tōkyō-to Shinagawa-ku Higashigotanda   \n",
       "424           0         Izakaya  Tōkyō-to Shinagawa-ku Higashigotanda   \n",
       "442           0         Izakaya  Tōkyō-to Shinagawa-ku Higashigotanda   \n",
       "654           0         Izakaya  Tōkyō-to Shinagawa-ku Higashigotanda   \n",
       "726           0         Izakaya          Tōkyō-to Minato-ku Shibakōen   \n",
       "...         ...             ...                                   ...   \n",
       "252102        0  Italian/French          Hyōgo-ken Kōbe-shi Kumoidōri   \n",
       "252103        0  Italian/French          Hyōgo-ken Kōbe-shi Kumoidōri   \n",
       "252105        0  Italian/French          Hyōgo-ken Kōbe-shi Kumoidōri   \n",
       "252106        1  Italian/French          Hyōgo-ken Kōbe-shi Kumoidōri   \n",
       "252107        0  Italian/French          Hyōgo-ken Kōbe-shi Kumoidōri   \n",
       "\n",
       "         latitude   longitude  reserve_visitors  \n",
       "416     35.626568  139.725858               NaN  \n",
       "424     35.626568  139.725858               NaN  \n",
       "442     35.626568  139.725858               NaN  \n",
       "654     35.626568  139.725858               7.0  \n",
       "726     35.658068  139.751599               NaN  \n",
       "...           ...         ...               ...  \n",
       "252102  34.695124  135.197852               1.0  \n",
       "252103  34.695124  135.197852               6.0  \n",
       "252105  34.695124  135.197852              35.0  \n",
       "252106  34.695124  135.197852               3.0  \n",
       "252107  34.695124  135.197852              32.0  \n",
       "\n",
       "[221148 rows x 11 columns]"
      ]
     },
     "execution_count": 54,
     "metadata": {},
     "output_type": "execute_result"
    }
   ],
   "source": [
    "# your answer here\n",
    "df[df.duplicated(subset=['visitors', 'visit_date'])]"
   ]
  },
  {
   "cell_type": "markdown",
   "metadata": {},
   "source": [
    "**8).  Can you only select columns that are text based?**\n",
    "\n",
    "To use: `df.select_dtypes()`, and (optionally) the `columns` attribute.  **Note:** `columns` is NOT a method!"
   ]
  },
  {
   "cell_type": "code",
   "execution_count": 58,
   "metadata": {},
   "outputs": [
    {
     "data": {
      "text/html": [
       "<div>\n",
       "<style scoped>\n",
       "    .dataframe tbody tr th:only-of-type {\n",
       "        vertical-align: middle;\n",
       "    }\n",
       "\n",
       "    .dataframe tbody tr th {\n",
       "        vertical-align: top;\n",
       "    }\n",
       "\n",
       "    .dataframe thead th {\n",
       "        text-align: right;\n",
       "    }\n",
       "</style>\n",
       "<table border=\"1\" class=\"dataframe\">\n",
       "  <thead>\n",
       "    <tr style=\"text-align: right;\">\n",
       "      <th></th>\n",
       "      <th>id</th>\n",
       "      <th>calendar_date</th>\n",
       "      <th>day_of_week</th>\n",
       "      <th>genre</th>\n",
       "      <th>area</th>\n",
       "    </tr>\n",
       "  </thead>\n",
       "  <tbody>\n",
       "    <tr>\n",
       "      <th>0</th>\n",
       "      <td>air_ba937bf13d40fb24</td>\n",
       "      <td>2016-01-13</td>\n",
       "      <td>Wednesday</td>\n",
       "      <td>Dining bar</td>\n",
       "      <td>Tōkyō-to Minato-ku Shibakōen</td>\n",
       "    </tr>\n",
       "    <tr>\n",
       "      <th>1</th>\n",
       "      <td>air_ba937bf13d40fb24</td>\n",
       "      <td>2016-01-14</td>\n",
       "      <td>Thursday</td>\n",
       "      <td>Dining bar</td>\n",
       "      <td>Tōkyō-to Minato-ku Shibakōen</td>\n",
       "    </tr>\n",
       "    <tr>\n",
       "      <th>2</th>\n",
       "      <td>air_ba937bf13d40fb24</td>\n",
       "      <td>2016-01-15</td>\n",
       "      <td>Friday</td>\n",
       "      <td>Dining bar</td>\n",
       "      <td>Tōkyō-to Minato-ku Shibakōen</td>\n",
       "    </tr>\n",
       "    <tr>\n",
       "      <th>3</th>\n",
       "      <td>air_ba937bf13d40fb24</td>\n",
       "      <td>2016-01-16</td>\n",
       "      <td>Saturday</td>\n",
       "      <td>Dining bar</td>\n",
       "      <td>Tōkyō-to Minato-ku Shibakōen</td>\n",
       "    </tr>\n",
       "    <tr>\n",
       "      <th>4</th>\n",
       "      <td>air_ba937bf13d40fb24</td>\n",
       "      <td>2016-01-18</td>\n",
       "      <td>Monday</td>\n",
       "      <td>Dining bar</td>\n",
       "      <td>Tōkyō-to Minato-ku Shibakōen</td>\n",
       "    </tr>\n",
       "    <tr>\n",
       "      <th>...</th>\n",
       "      <td>...</td>\n",
       "      <td>...</td>\n",
       "      <td>...</td>\n",
       "      <td>...</td>\n",
       "      <td>...</td>\n",
       "    </tr>\n",
       "    <tr>\n",
       "      <th>252103</th>\n",
       "      <td>air_a17f0778617c76e2</td>\n",
       "      <td>2017-04-21</td>\n",
       "      <td>Friday</td>\n",
       "      <td>Italian/French</td>\n",
       "      <td>Hyōgo-ken Kōbe-shi Kumoidōri</td>\n",
       "    </tr>\n",
       "    <tr>\n",
       "      <th>252104</th>\n",
       "      <td>air_a17f0778617c76e2</td>\n",
       "      <td>2017-04-22</td>\n",
       "      <td>Saturday</td>\n",
       "      <td>Italian/French</td>\n",
       "      <td>Hyōgo-ken Kōbe-shi Kumoidōri</td>\n",
       "    </tr>\n",
       "    <tr>\n",
       "      <th>252105</th>\n",
       "      <td>air_a17f0778617c76e2</td>\n",
       "      <td>2017-03-26</td>\n",
       "      <td>Sunday</td>\n",
       "      <td>Italian/French</td>\n",
       "      <td>Hyōgo-ken Kōbe-shi Kumoidōri</td>\n",
       "    </tr>\n",
       "    <tr>\n",
       "      <th>252106</th>\n",
       "      <td>air_a17f0778617c76e2</td>\n",
       "      <td>2017-03-20</td>\n",
       "      <td>Monday</td>\n",
       "      <td>Italian/French</td>\n",
       "      <td>Hyōgo-ken Kōbe-shi Kumoidōri</td>\n",
       "    </tr>\n",
       "    <tr>\n",
       "      <th>252107</th>\n",
       "      <td>air_a17f0778617c76e2</td>\n",
       "      <td>2017-04-09</td>\n",
       "      <td>Sunday</td>\n",
       "      <td>Italian/French</td>\n",
       "      <td>Hyōgo-ken Kōbe-shi Kumoidōri</td>\n",
       "    </tr>\n",
       "  </tbody>\n",
       "</table>\n",
       "<p>252108 rows × 5 columns</p>\n",
       "</div>"
      ],
      "text/plain": [
       "                          id calendar_date day_of_week           genre  \\\n",
       "0       air_ba937bf13d40fb24    2016-01-13   Wednesday      Dining bar   \n",
       "1       air_ba937bf13d40fb24    2016-01-14    Thursday      Dining bar   \n",
       "2       air_ba937bf13d40fb24    2016-01-15      Friday      Dining bar   \n",
       "3       air_ba937bf13d40fb24    2016-01-16    Saturday      Dining bar   \n",
       "4       air_ba937bf13d40fb24    2016-01-18      Monday      Dining bar   \n",
       "...                      ...           ...         ...             ...   \n",
       "252103  air_a17f0778617c76e2    2017-04-21      Friday  Italian/French   \n",
       "252104  air_a17f0778617c76e2    2017-04-22    Saturday  Italian/French   \n",
       "252105  air_a17f0778617c76e2    2017-03-26      Sunday  Italian/French   \n",
       "252106  air_a17f0778617c76e2    2017-03-20      Monday  Italian/French   \n",
       "252107  air_a17f0778617c76e2    2017-04-09      Sunday  Italian/French   \n",
       "\n",
       "                                area  \n",
       "0       Tōkyō-to Minato-ku Shibakōen  \n",
       "1       Tōkyō-to Minato-ku Shibakōen  \n",
       "2       Tōkyō-to Minato-ku Shibakōen  \n",
       "3       Tōkyō-to Minato-ku Shibakōen  \n",
       "4       Tōkyō-to Minato-ku Shibakōen  \n",
       "...                              ...  \n",
       "252103  Hyōgo-ken Kōbe-shi Kumoidōri  \n",
       "252104  Hyōgo-ken Kōbe-shi Kumoidōri  \n",
       "252105  Hyōgo-ken Kōbe-shi Kumoidōri  \n",
       "252106  Hyōgo-ken Kōbe-shi Kumoidōri  \n",
       "252107  Hyōgo-ken Kōbe-shi Kumoidōri  \n",
       "\n",
       "[252108 rows x 5 columns]"
      ]
     },
     "execution_count": 58,
     "metadata": {},
     "output_type": "execute_result"
    }
   ],
   "source": [
    "# your answer here\n",
    "cat_cols = df.select_dtypes(include=np.object).columns.tolist()\n",
    "df[cat_cols]"
   ]
  },
  {
   "cell_type": "markdown",
   "metadata": {},
   "source": [
    "**9).  Can you only select columns that are numeric?**\n",
    "\n",
    "To use: `df.select_dtypes()`.  This question is very similar to the one above it, just for a different data type."
   ]
  },
  {
   "cell_type": "code",
   "execution_count": 59,
   "metadata": {},
   "outputs": [
    {
     "data": {
      "text/html": [
       "<div>\n",
       "<style scoped>\n",
       "    .dataframe tbody tr th:only-of-type {\n",
       "        vertical-align: middle;\n",
       "    }\n",
       "\n",
       "    .dataframe tbody tr th {\n",
       "        vertical-align: top;\n",
       "    }\n",
       "\n",
       "    .dataframe thead th {\n",
       "        text-align: right;\n",
       "    }\n",
       "</style>\n",
       "<table border=\"1\" class=\"dataframe\">\n",
       "  <thead>\n",
       "    <tr style=\"text-align: right;\">\n",
       "      <th></th>\n",
       "      <th>visitors</th>\n",
       "      <th>holiday</th>\n",
       "      <th>latitude</th>\n",
       "      <th>longitude</th>\n",
       "      <th>reserve_visitors</th>\n",
       "    </tr>\n",
       "  </thead>\n",
       "  <tbody>\n",
       "    <tr>\n",
       "      <th>0</th>\n",
       "      <td>25</td>\n",
       "      <td>0</td>\n",
       "      <td>35.658068</td>\n",
       "      <td>139.751599</td>\n",
       "      <td>NaN</td>\n",
       "    </tr>\n",
       "    <tr>\n",
       "      <th>1</th>\n",
       "      <td>32</td>\n",
       "      <td>0</td>\n",
       "      <td>35.658068</td>\n",
       "      <td>139.751599</td>\n",
       "      <td>NaN</td>\n",
       "    </tr>\n",
       "    <tr>\n",
       "      <th>2</th>\n",
       "      <td>29</td>\n",
       "      <td>0</td>\n",
       "      <td>35.658068</td>\n",
       "      <td>139.751599</td>\n",
       "      <td>NaN</td>\n",
       "    </tr>\n",
       "    <tr>\n",
       "      <th>3</th>\n",
       "      <td>22</td>\n",
       "      <td>0</td>\n",
       "      <td>35.658068</td>\n",
       "      <td>139.751599</td>\n",
       "      <td>NaN</td>\n",
       "    </tr>\n",
       "    <tr>\n",
       "      <th>4</th>\n",
       "      <td>6</td>\n",
       "      <td>0</td>\n",
       "      <td>35.658068</td>\n",
       "      <td>139.751599</td>\n",
       "      <td>NaN</td>\n",
       "    </tr>\n",
       "    <tr>\n",
       "      <th>...</th>\n",
       "      <td>...</td>\n",
       "      <td>...</td>\n",
       "      <td>...</td>\n",
       "      <td>...</td>\n",
       "      <td>...</td>\n",
       "    </tr>\n",
       "    <tr>\n",
       "      <th>252103</th>\n",
       "      <td>49</td>\n",
       "      <td>0</td>\n",
       "      <td>34.695124</td>\n",
       "      <td>135.197852</td>\n",
       "      <td>6.0</td>\n",
       "    </tr>\n",
       "    <tr>\n",
       "      <th>252104</th>\n",
       "      <td>60</td>\n",
       "      <td>0</td>\n",
       "      <td>34.695124</td>\n",
       "      <td>135.197852</td>\n",
       "      <td>37.0</td>\n",
       "    </tr>\n",
       "    <tr>\n",
       "      <th>252105</th>\n",
       "      <td>69</td>\n",
       "      <td>0</td>\n",
       "      <td>34.695124</td>\n",
       "      <td>135.197852</td>\n",
       "      <td>35.0</td>\n",
       "    </tr>\n",
       "    <tr>\n",
       "      <th>252106</th>\n",
       "      <td>31</td>\n",
       "      <td>1</td>\n",
       "      <td>34.695124</td>\n",
       "      <td>135.197852</td>\n",
       "      <td>3.0</td>\n",
       "    </tr>\n",
       "    <tr>\n",
       "      <th>252107</th>\n",
       "      <td>26</td>\n",
       "      <td>0</td>\n",
       "      <td>34.695124</td>\n",
       "      <td>135.197852</td>\n",
       "      <td>32.0</td>\n",
       "    </tr>\n",
       "  </tbody>\n",
       "</table>\n",
       "<p>252108 rows × 5 columns</p>\n",
       "</div>"
      ],
      "text/plain": [
       "        visitors  holiday   latitude   longitude  reserve_visitors\n",
       "0             25        0  35.658068  139.751599               NaN\n",
       "1             32        0  35.658068  139.751599               NaN\n",
       "2             29        0  35.658068  139.751599               NaN\n",
       "3             22        0  35.658068  139.751599               NaN\n",
       "4              6        0  35.658068  139.751599               NaN\n",
       "...          ...      ...        ...         ...               ...\n",
       "252103        49        0  34.695124  135.197852               6.0\n",
       "252104        60        0  34.695124  135.197852              37.0\n",
       "252105        69        0  34.695124  135.197852              35.0\n",
       "252106        31        1  34.695124  135.197852               3.0\n",
       "252107        26        0  34.695124  135.197852              32.0\n",
       "\n",
       "[252108 rows x 5 columns]"
      ]
     },
     "execution_count": 59,
     "metadata": {},
     "output_type": "execute_result"
    }
   ],
   "source": [
    "# your answer here\n",
    "num_cols = df.select_dtypes(include=np.number).columns.tolist()\n",
    "df[num_cols]"
   ]
  },
  {
   "cell_type": "markdown",
   "metadata": {},
   "source": [
    "**10). Can you fill in the missing values of your numeric columns with their average value?**\n",
    "\n",
    "To use: `df.fillna()`, to be used in conjunction with the suggested methods from question 11."
   ]
  },
  {
   "cell_type": "code",
   "execution_count": 62,
   "metadata": {},
   "outputs": [
    {
     "data": {
      "text/plain": [
       "visitors            0\n",
       "holiday             0\n",
       "latitude            0\n",
       "longitude           0\n",
       "reserve_visitors    0\n",
       "dtype: int64"
      ]
     },
     "execution_count": 62,
     "metadata": {},
     "output_type": "execute_result"
    }
   ],
   "source": [
    "# your answer here\n",
    "df[num_cols] = df[num_cols].fillna(df[num_cols].mean())\n",
    "# and just to double check\n",
    "df[num_cols].isnull().sum()"
   ]
  },
  {
   "cell_type": "markdown",
   "metadata": {},
   "source": [
    "**11). Can you select all the rows between Jan. 1 2016 & June 30, 2016?**"
   ]
  },
  {
   "cell_type": "code",
   "execution_count": 63,
   "metadata": {},
   "outputs": [
    {
     "data": {
      "text/html": [
       "<div>\n",
       "<style scoped>\n",
       "    .dataframe tbody tr th:only-of-type {\n",
       "        vertical-align: middle;\n",
       "    }\n",
       "\n",
       "    .dataframe tbody tr th {\n",
       "        vertical-align: top;\n",
       "    }\n",
       "\n",
       "    .dataframe thead th {\n",
       "        text-align: right;\n",
       "    }\n",
       "</style>\n",
       "<table border=\"1\" class=\"dataframe\">\n",
       "  <thead>\n",
       "    <tr style=\"text-align: right;\">\n",
       "      <th></th>\n",
       "      <th>id</th>\n",
       "      <th>visit_date</th>\n",
       "      <th>visitors</th>\n",
       "      <th>calendar_date</th>\n",
       "      <th>day_of_week</th>\n",
       "      <th>holiday</th>\n",
       "      <th>genre</th>\n",
       "      <th>area</th>\n",
       "      <th>latitude</th>\n",
       "      <th>longitude</th>\n",
       "      <th>reserve_visitors</th>\n",
       "    </tr>\n",
       "  </thead>\n",
       "  <tbody>\n",
       "    <tr>\n",
       "      <th>0</th>\n",
       "      <td>air_ba937bf13d40fb24</td>\n",
       "      <td>2016-01-13</td>\n",
       "      <td>25</td>\n",
       "      <td>2016-01-13</td>\n",
       "      <td>Wednesday</td>\n",
       "      <td>0</td>\n",
       "      <td>Dining bar</td>\n",
       "      <td>Tōkyō-to Minato-ku Shibakōen</td>\n",
       "      <td>35.658068</td>\n",
       "      <td>139.751599</td>\n",
       "      <td>16.699808</td>\n",
       "    </tr>\n",
       "    <tr>\n",
       "      <th>1</th>\n",
       "      <td>air_ba937bf13d40fb24</td>\n",
       "      <td>2016-01-14</td>\n",
       "      <td>32</td>\n",
       "      <td>2016-01-14</td>\n",
       "      <td>Thursday</td>\n",
       "      <td>0</td>\n",
       "      <td>Dining bar</td>\n",
       "      <td>Tōkyō-to Minato-ku Shibakōen</td>\n",
       "      <td>35.658068</td>\n",
       "      <td>139.751599</td>\n",
       "      <td>16.699808</td>\n",
       "    </tr>\n",
       "    <tr>\n",
       "      <th>2</th>\n",
       "      <td>air_ba937bf13d40fb24</td>\n",
       "      <td>2016-01-15</td>\n",
       "      <td>29</td>\n",
       "      <td>2016-01-15</td>\n",
       "      <td>Friday</td>\n",
       "      <td>0</td>\n",
       "      <td>Dining bar</td>\n",
       "      <td>Tōkyō-to Minato-ku Shibakōen</td>\n",
       "      <td>35.658068</td>\n",
       "      <td>139.751599</td>\n",
       "      <td>16.699808</td>\n",
       "    </tr>\n",
       "    <tr>\n",
       "      <th>3</th>\n",
       "      <td>air_ba937bf13d40fb24</td>\n",
       "      <td>2016-01-16</td>\n",
       "      <td>22</td>\n",
       "      <td>2016-01-16</td>\n",
       "      <td>Saturday</td>\n",
       "      <td>0</td>\n",
       "      <td>Dining bar</td>\n",
       "      <td>Tōkyō-to Minato-ku Shibakōen</td>\n",
       "      <td>35.658068</td>\n",
       "      <td>139.751599</td>\n",
       "      <td>16.699808</td>\n",
       "    </tr>\n",
       "    <tr>\n",
       "      <th>4</th>\n",
       "      <td>air_ba937bf13d40fb24</td>\n",
       "      <td>2016-01-18</td>\n",
       "      <td>6</td>\n",
       "      <td>2016-01-18</td>\n",
       "      <td>Monday</td>\n",
       "      <td>0</td>\n",
       "      <td>Dining bar</td>\n",
       "      <td>Tōkyō-to Minato-ku Shibakōen</td>\n",
       "      <td>35.658068</td>\n",
       "      <td>139.751599</td>\n",
       "      <td>16.699808</td>\n",
       "    </tr>\n",
       "    <tr>\n",
       "      <th>...</th>\n",
       "      <td>...</td>\n",
       "      <td>...</td>\n",
       "      <td>...</td>\n",
       "      <td>...</td>\n",
       "      <td>...</td>\n",
       "      <td>...</td>\n",
       "      <td>...</td>\n",
       "      <td>...</td>\n",
       "      <td>...</td>\n",
       "      <td>...</td>\n",
       "      <td>...</td>\n",
       "    </tr>\n",
       "    <tr>\n",
       "      <th>126441</th>\n",
       "      <td>air_764f71040a413d4d</td>\n",
       "      <td>2016-06-12</td>\n",
       "      <td>71</td>\n",
       "      <td>2016-06-12</td>\n",
       "      <td>Sunday</td>\n",
       "      <td>0</td>\n",
       "      <td>Asian</td>\n",
       "      <td>Tōkyō-to Shibuya-ku Shibuya</td>\n",
       "      <td>35.661777</td>\n",
       "      <td>139.704051</td>\n",
       "      <td>16.699808</td>\n",
       "    </tr>\n",
       "    <tr>\n",
       "      <th>126442</th>\n",
       "      <td>air_764f71040a413d4d</td>\n",
       "      <td>2016-06-19</td>\n",
       "      <td>75</td>\n",
       "      <td>2016-06-19</td>\n",
       "      <td>Sunday</td>\n",
       "      <td>0</td>\n",
       "      <td>Asian</td>\n",
       "      <td>Tōkyō-to Shibuya-ku Shibuya</td>\n",
       "      <td>35.661777</td>\n",
       "      <td>139.704051</td>\n",
       "      <td>16.699808</td>\n",
       "    </tr>\n",
       "    <tr>\n",
       "      <th>126443</th>\n",
       "      <td>air_764f71040a413d4d</td>\n",
       "      <td>2016-06-26</td>\n",
       "      <td>56</td>\n",
       "      <td>2016-06-26</td>\n",
       "      <td>Sunday</td>\n",
       "      <td>0</td>\n",
       "      <td>Asian</td>\n",
       "      <td>Tōkyō-to Shibuya-ku Shibuya</td>\n",
       "      <td>35.661777</td>\n",
       "      <td>139.704051</td>\n",
       "      <td>16.699808</td>\n",
       "    </tr>\n",
       "    <tr>\n",
       "      <th>126479</th>\n",
       "      <td>air_764f71040a413d4d</td>\n",
       "      <td>2016-05-29</td>\n",
       "      <td>73</td>\n",
       "      <td>2016-05-29</td>\n",
       "      <td>Sunday</td>\n",
       "      <td>0</td>\n",
       "      <td>Asian</td>\n",
       "      <td>Tōkyō-to Shibuya-ku Shibuya</td>\n",
       "      <td>35.661777</td>\n",
       "      <td>139.704051</td>\n",
       "      <td>16.699808</td>\n",
       "    </tr>\n",
       "    <tr>\n",
       "      <th>126480</th>\n",
       "      <td>air_d98380a4aeb0290b</td>\n",
       "      <td>2016-05-25</td>\n",
       "      <td>12</td>\n",
       "      <td>2016-05-25</td>\n",
       "      <td>Wednesday</td>\n",
       "      <td>0</td>\n",
       "      <td>Cafe/Sweets</td>\n",
       "      <td>Ōsaka-fu Sakai-shi Minamikawaramachi</td>\n",
       "      <td>34.573254</td>\n",
       "      <td>135.483101</td>\n",
       "      <td>16.699808</td>\n",
       "    </tr>\n",
       "  </tbody>\n",
       "</table>\n",
       "<p>47699 rows × 11 columns</p>\n",
       "</div>"
      ],
      "text/plain": [
       "                          id visit_date  visitors calendar_date day_of_week  \\\n",
       "0       air_ba937bf13d40fb24 2016-01-13        25    2016-01-13   Wednesday   \n",
       "1       air_ba937bf13d40fb24 2016-01-14        32    2016-01-14    Thursday   \n",
       "2       air_ba937bf13d40fb24 2016-01-15        29    2016-01-15      Friday   \n",
       "3       air_ba937bf13d40fb24 2016-01-16        22    2016-01-16    Saturday   \n",
       "4       air_ba937bf13d40fb24 2016-01-18         6    2016-01-18      Monday   \n",
       "...                      ...        ...       ...           ...         ...   \n",
       "126441  air_764f71040a413d4d 2016-06-12        71    2016-06-12      Sunday   \n",
       "126442  air_764f71040a413d4d 2016-06-19        75    2016-06-19      Sunday   \n",
       "126443  air_764f71040a413d4d 2016-06-26        56    2016-06-26      Sunday   \n",
       "126479  air_764f71040a413d4d 2016-05-29        73    2016-05-29      Sunday   \n",
       "126480  air_d98380a4aeb0290b 2016-05-25        12    2016-05-25   Wednesday   \n",
       "\n",
       "        holiday        genre                                  area   latitude  \\\n",
       "0             0   Dining bar          Tōkyō-to Minato-ku Shibakōen  35.658068   \n",
       "1             0   Dining bar          Tōkyō-to Minato-ku Shibakōen  35.658068   \n",
       "2             0   Dining bar          Tōkyō-to Minato-ku Shibakōen  35.658068   \n",
       "3             0   Dining bar          Tōkyō-to Minato-ku Shibakōen  35.658068   \n",
       "4             0   Dining bar          Tōkyō-to Minato-ku Shibakōen  35.658068   \n",
       "...         ...          ...                                   ...        ...   \n",
       "126441        0        Asian           Tōkyō-to Shibuya-ku Shibuya  35.661777   \n",
       "126442        0        Asian           Tōkyō-to Shibuya-ku Shibuya  35.661777   \n",
       "126443        0        Asian           Tōkyō-to Shibuya-ku Shibuya  35.661777   \n",
       "126479        0        Asian           Tōkyō-to Shibuya-ku Shibuya  35.661777   \n",
       "126480        0  Cafe/Sweets  Ōsaka-fu Sakai-shi Minamikawaramachi  34.573254   \n",
       "\n",
       "         longitude  reserve_visitors  \n",
       "0       139.751599         16.699808  \n",
       "1       139.751599         16.699808  \n",
       "2       139.751599         16.699808  \n",
       "3       139.751599         16.699808  \n",
       "4       139.751599         16.699808  \n",
       "...            ...               ...  \n",
       "126441  139.704051         16.699808  \n",
       "126442  139.704051         16.699808  \n",
       "126443  139.704051         16.699808  \n",
       "126479  139.704051         16.699808  \n",
       "126480  135.483101         16.699808  \n",
       "\n",
       "[47699 rows x 11 columns]"
      ]
     },
     "execution_count": 63,
     "metadata": {},
     "output_type": "execute_result"
    }
   ],
   "source": [
    "# your answer here\n",
    "query = df.visit_date.between('2016-01-01', '2016-06-30')\n",
    "# slightly better way to select a value based on a query\n",
    "df[query]"
   ]
  },
  {
   "cell_type": "markdown",
   "metadata": {},
   "source": [
    "**12).  Can you determine the quarter of the year for each reservation?  The month?**"
   ]
  },
  {
   "cell_type": "code",
   "execution_count": 67,
   "metadata": {},
   "outputs": [
    {
     "data": {
      "text/html": [
       "<div>\n",
       "<style scoped>\n",
       "    .dataframe tbody tr th:only-of-type {\n",
       "        vertical-align: middle;\n",
       "    }\n",
       "\n",
       "    .dataframe tbody tr th {\n",
       "        vertical-align: top;\n",
       "    }\n",
       "\n",
       "    .dataframe thead th {\n",
       "        text-align: right;\n",
       "    }\n",
       "</style>\n",
       "<table border=\"1\" class=\"dataframe\">\n",
       "  <thead>\n",
       "    <tr style=\"text-align: right;\">\n",
       "      <th></th>\n",
       "      <th>id</th>\n",
       "      <th>visit_date</th>\n",
       "      <th>visitors</th>\n",
       "      <th>calendar_date</th>\n",
       "      <th>day_of_week</th>\n",
       "      <th>holiday</th>\n",
       "      <th>genre</th>\n",
       "      <th>area</th>\n",
       "      <th>latitude</th>\n",
       "      <th>longitude</th>\n",
       "      <th>reserve_visitors</th>\n",
       "      <th>quarter</th>\n",
       "      <th>month</th>\n",
       "    </tr>\n",
       "  </thead>\n",
       "  <tbody>\n",
       "    <tr>\n",
       "      <th>0</th>\n",
       "      <td>air_ba937bf13d40fb24</td>\n",
       "      <td>2016-01-13</td>\n",
       "      <td>25</td>\n",
       "      <td>2016-01-13</td>\n",
       "      <td>Wednesday</td>\n",
       "      <td>0</td>\n",
       "      <td>Dining bar</td>\n",
       "      <td>Tōkyō-to Minato-ku Shibakōen</td>\n",
       "      <td>35.658068</td>\n",
       "      <td>139.751599</td>\n",
       "      <td>16.699808</td>\n",
       "      <td>1</td>\n",
       "      <td>1</td>\n",
       "    </tr>\n",
       "    <tr>\n",
       "      <th>1</th>\n",
       "      <td>air_ba937bf13d40fb24</td>\n",
       "      <td>2016-01-14</td>\n",
       "      <td>32</td>\n",
       "      <td>2016-01-14</td>\n",
       "      <td>Thursday</td>\n",
       "      <td>0</td>\n",
       "      <td>Dining bar</td>\n",
       "      <td>Tōkyō-to Minato-ku Shibakōen</td>\n",
       "      <td>35.658068</td>\n",
       "      <td>139.751599</td>\n",
       "      <td>16.699808</td>\n",
       "      <td>1</td>\n",
       "      <td>1</td>\n",
       "    </tr>\n",
       "    <tr>\n",
       "      <th>2</th>\n",
       "      <td>air_ba937bf13d40fb24</td>\n",
       "      <td>2016-01-15</td>\n",
       "      <td>29</td>\n",
       "      <td>2016-01-15</td>\n",
       "      <td>Friday</td>\n",
       "      <td>0</td>\n",
       "      <td>Dining bar</td>\n",
       "      <td>Tōkyō-to Minato-ku Shibakōen</td>\n",
       "      <td>35.658068</td>\n",
       "      <td>139.751599</td>\n",
       "      <td>16.699808</td>\n",
       "      <td>1</td>\n",
       "      <td>1</td>\n",
       "    </tr>\n",
       "    <tr>\n",
       "      <th>3</th>\n",
       "      <td>air_ba937bf13d40fb24</td>\n",
       "      <td>2016-01-16</td>\n",
       "      <td>22</td>\n",
       "      <td>2016-01-16</td>\n",
       "      <td>Saturday</td>\n",
       "      <td>0</td>\n",
       "      <td>Dining bar</td>\n",
       "      <td>Tōkyō-to Minato-ku Shibakōen</td>\n",
       "      <td>35.658068</td>\n",
       "      <td>139.751599</td>\n",
       "      <td>16.699808</td>\n",
       "      <td>1</td>\n",
       "      <td>1</td>\n",
       "    </tr>\n",
       "    <tr>\n",
       "      <th>4</th>\n",
       "      <td>air_ba937bf13d40fb24</td>\n",
       "      <td>2016-01-18</td>\n",
       "      <td>6</td>\n",
       "      <td>2016-01-18</td>\n",
       "      <td>Monday</td>\n",
       "      <td>0</td>\n",
       "      <td>Dining bar</td>\n",
       "      <td>Tōkyō-to Minato-ku Shibakōen</td>\n",
       "      <td>35.658068</td>\n",
       "      <td>139.751599</td>\n",
       "      <td>16.699808</td>\n",
       "      <td>1</td>\n",
       "      <td>1</td>\n",
       "    </tr>\n",
       "  </tbody>\n",
       "</table>\n",
       "</div>"
      ],
      "text/plain": [
       "                     id visit_date  visitors calendar_date day_of_week  \\\n",
       "0  air_ba937bf13d40fb24 2016-01-13        25    2016-01-13   Wednesday   \n",
       "1  air_ba937bf13d40fb24 2016-01-14        32    2016-01-14    Thursday   \n",
       "2  air_ba937bf13d40fb24 2016-01-15        29    2016-01-15      Friday   \n",
       "3  air_ba937bf13d40fb24 2016-01-16        22    2016-01-16    Saturday   \n",
       "4  air_ba937bf13d40fb24 2016-01-18         6    2016-01-18      Monday   \n",
       "\n",
       "   holiday       genre                          area   latitude   longitude  \\\n",
       "0        0  Dining bar  Tōkyō-to Minato-ku Shibakōen  35.658068  139.751599   \n",
       "1        0  Dining bar  Tōkyō-to Minato-ku Shibakōen  35.658068  139.751599   \n",
       "2        0  Dining bar  Tōkyō-to Minato-ku Shibakōen  35.658068  139.751599   \n",
       "3        0  Dining bar  Tōkyō-to Minato-ku Shibakōen  35.658068  139.751599   \n",
       "4        0  Dining bar  Tōkyō-to Minato-ku Shibakōen  35.658068  139.751599   \n",
       "\n",
       "   reserve_visitors  quarter  month  \n",
       "0         16.699808        1      1  \n",
       "1         16.699808        1      1  \n",
       "2         16.699808        1      1  \n",
       "3         16.699808        1      1  \n",
       "4         16.699808        1      1  "
      ]
     },
     "execution_count": 67,
     "metadata": {},
     "output_type": "execute_result"
    }
   ],
   "source": [
    "# we can get the quarters using the dt attribute\n",
    "df['quarter'] = df.visit_date.dt.quarter\n",
    "# and the same for the month\n",
    "df['month']   = df.visit_date.dt.month\n",
    "# and here we have it\n",
    "df.head()"
   ]
  }
 ],
 "metadata": {
  "kernelspec": {
   "display_name": "Python 3",
   "language": "python",
   "name": "python3"
  },
  "language_info": {
   "codemirror_mode": {
    "name": "ipython",
    "version": 3
   },
   "file_extension": ".py",
   "mimetype": "text/x-python",
   "name": "python",
   "nbconvert_exporter": "python",
   "pygments_lexer": "ipython3",
   "version": "3.8.5"
  }
 },
 "nbformat": 4,
 "nbformat_minor": 2
}
