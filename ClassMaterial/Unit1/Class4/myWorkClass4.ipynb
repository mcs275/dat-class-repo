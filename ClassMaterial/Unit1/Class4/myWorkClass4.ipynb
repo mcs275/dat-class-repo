{
 "cells": [
  {
   "cell_type": "code",
   "execution_count": 1,
   "metadata": {},
   "outputs": [],
   "source": [
    "import pandas as pd\n",
    "import numpy as np\n",
    "\n",
    "df = pd.read_csv('../data/master.csv',parse_dates = ['visit_date'])"
   ]
  },
  {
   "cell_type": "code",
   "execution_count": 4,
   "metadata": {},
   "outputs": [],
   "source": [
    "df['PartofWeek'] = np.where(df['day_of_week'].isin(['Saturday','Sunday']),'weekend','weekday')"
   ]
  },
  {
   "cell_type": "code",
   "execution_count": 5,
   "metadata": {},
   "outputs": [],
   "source": [
    "conditions = [\n",
    "    df['visitors'] < 20,\n",
    "    df['visitors'].between(21, 30),\n",
    "    df['visitors'] > 30\n",
    "]\n",
    "\n",
    "results = [\n",
    "    'Low Traffic',\n",
    "    'Medium Traffic',\n",
    "    'High Traffic'\n",
    "]\n",
    "\n",
    "df['Traffic'] = np.select(conditions,results,'Other')"
   ]
  },
  {
   "cell_type": "code",
   "execution_count": 6,
   "metadata": {},
   "outputs": [
    {
     "data": {
      "text/plain": [
       "0         Medium Traffic\n",
       "1           High Traffic\n",
       "2         Medium Traffic\n",
       "3         Medium Traffic\n",
       "4            Low Traffic\n",
       "               ...      \n",
       "252103      High Traffic\n",
       "252104      High Traffic\n",
       "252105      High Traffic\n",
       "252106      High Traffic\n",
       "252107    Medium Traffic\n",
       "Name: Traffic, Length: 252108, dtype: object"
      ]
     },
     "execution_count": 6,
     "metadata": {},
     "output_type": "execute_result"
    }
   ],
   "source": [
    "df['Traffic']"
   ]
  },
  {
   "cell_type": "code",
   "execution_count": 12,
   "metadata": {},
   "outputs": [],
   "source": [
    "def clean_string(value):\n",
    "    return value.lower().replace('-', ' ')"
   ]
  },
  {
   "cell_type": "code",
   "execution_count": 13,
   "metadata": {},
   "outputs": [
    {
     "data": {
      "text/plain": [
       "'the best way to clean data'"
      ]
     },
     "execution_count": 13,
     "metadata": {},
     "output_type": "execute_result"
    }
   ],
   "source": [
    "clean_string('The-best way to clean-Data')"
   ]
  },
  {
   "cell_type": "code",
   "execution_count": 14,
   "metadata": {},
   "outputs": [
    {
     "data": {
      "text/plain": [
       "0         tōkyō to minato ku shibakōen\n",
       "1         tōkyō to minato ku shibakōen\n",
       "2         tōkyō to minato ku shibakōen\n",
       "3         tōkyō to minato ku shibakōen\n",
       "4         tōkyō to minato ku shibakōen\n",
       "                      ...             \n",
       "252103    hyōgo ken kōbe shi kumoidōri\n",
       "252104    hyōgo ken kōbe shi kumoidōri\n",
       "252105    hyōgo ken kōbe shi kumoidōri\n",
       "252106    hyōgo ken kōbe shi kumoidōri\n",
       "252107    hyōgo ken kōbe shi kumoidōri\n",
       "Name: area, Length: 252108, dtype: object"
      ]
     },
     "execution_count": 14,
     "metadata": {},
     "output_type": "execute_result"
    }
   ],
   "source": [
    "df['area'].apply(clean_string)"
   ]
  },
  {
   "cell_type": "code",
   "execution_count": null,
   "metadata": {},
   "outputs": [],
   "source": []
  }
 ],
 "metadata": {
  "kernelspec": {
   "display_name": "Python 3",
   "language": "python",
   "name": "python3"
  },
  "language_info": {
   "codemirror_mode": {
    "name": "ipython",
    "version": 3
   },
   "file_extension": ".py",
   "mimetype": "text/x-python",
   "name": "python",
   "nbconvert_exporter": "python",
   "pygments_lexer": "ipython3",
   "version": "3.7.4"
  }
 },
 "nbformat": 4,
 "nbformat_minor": 2
}
