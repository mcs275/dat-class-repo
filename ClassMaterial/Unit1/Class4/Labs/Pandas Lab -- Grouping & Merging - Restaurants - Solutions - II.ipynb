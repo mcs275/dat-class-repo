{
 "cells": [
  {
   "cell_type": "markdown",
   "metadata": {},
   "source": [
    "### Pandas Lab -- Grouping & Merging\n",
    "\n",
    "Welcome to today's lab!  It will come in two different parts:  \n",
    "\n",
    "One section will be devoted to using the `groupby` method in order to answer different questions about our data.  \n",
    "\n",
    "The second portion will be devoted towards combining grouping & merging to create summary statistics -- one of the more important features you can add to a dataset for statistical modeling.  "
   ]
  },
  {
   "cell_type": "markdown",
   "metadata": {},
   "source": [
    "### Section I - Grouping"
   ]
  },
  {
   "cell_type": "markdown",
   "metadata": {},
   "source": [
    "**Question 1:** What restaurant had the highest total amount of visitors throughout the dataset?"
   ]
  },
  {
   "cell_type": "code",
   "execution_count": 1,
   "metadata": {},
   "outputs": [],
   "source": [
    "# your answer here\n",
    "import pandas as pd\n",
    "import numpy as np\n",
    "df = pd.read_csv('../data/restaurant data/master.csv', parse_dates=['visit_date'])"
   ]
  },
  {
   "cell_type": "code",
   "execution_count": 2,
   "metadata": {},
   "outputs": [
    {
     "data": {
      "text/plain": [
       "'air_399904bdb7685ca0'"
      ]
     },
     "execution_count": 2,
     "metadata": {},
     "output_type": "execute_result"
    }
   ],
   "source": [
    "# the restaurant \n",
    "df.groupby('id')['visitors'].sum().idxmax()"
   ]
  },
  {
   "cell_type": "code",
   "execution_count": 3,
   "metadata": {},
   "outputs": [
    {
     "data": {
      "text/html": [
       "<div>\n",
       "<style scoped>\n",
       "    .dataframe tbody tr th:only-of-type {\n",
       "        vertical-align: middle;\n",
       "    }\n",
       "\n",
       "    .dataframe tbody tr th {\n",
       "        vertical-align: top;\n",
       "    }\n",
       "\n",
       "    .dataframe thead th {\n",
       "        text-align: right;\n",
       "    }\n",
       "</style>\n",
       "<table border=\"1\" class=\"dataframe\">\n",
       "  <thead>\n",
       "    <tr style=\"text-align: right;\">\n",
       "      <th></th>\n",
       "      <th>visitors</th>\n",
       "    </tr>\n",
       "    <tr>\n",
       "      <th>id</th>\n",
       "      <th></th>\n",
       "    </tr>\n",
       "  </thead>\n",
       "  <tbody>\n",
       "    <tr>\n",
       "      <th>air_399904bdb7685ca0</th>\n",
       "      <td>18717</td>\n",
       "    </tr>\n",
       "  </tbody>\n",
       "</table>\n",
       "</div>"
      ],
      "text/plain": [
       "                      visitors\n",
       "id                            \n",
       "air_399904bdb7685ca0     18717"
      ]
     },
     "execution_count": 3,
     "metadata": {},
     "output_type": "execute_result"
    }
   ],
   "source": [
    "# restaurant with the amount attached\n",
    "visits = df.groupby('id')[['visitors']].sum()\n",
    "idx    = visits.idxmax()\n",
    "visits.loc[idx, :]"
   ]
  },
  {
   "cell_type": "markdown",
   "metadata": {},
   "source": [
    "**Question 2:** What was the average difference in attendance between holidays & non-holidays for all restaurants?"
   ]
  },
  {
   "cell_type": "code",
   "execution_count": 4,
   "metadata": {},
   "outputs": [
    {
     "data": {
      "text/plain": [
       "holiday\n",
       "0    20.828064\n",
       "1    23.703327\n",
       "Name: visitors, dtype: float64"
      ]
     },
     "execution_count": 4,
     "metadata": {},
     "output_type": "execute_result"
    }
   ],
   "source": [
    "# your answer here\n",
    "df.groupby('holiday')['visitors'].mean()"
   ]
  },
  {
   "cell_type": "code",
   "execution_count": 5,
   "metadata": {},
   "outputs": [
    {
     "data": {
      "text/plain": [
       "holiday\n",
       "0         NaN\n",
       "1    2.875263\n",
       "Name: visitors, dtype: float64"
      ]
     },
     "execution_count": 5,
     "metadata": {},
     "output_type": "execute_result"
    }
   ],
   "source": [
    "# if you wanted to get the difference between them\n",
    "df.groupby('holiday')['visitors'].mean().diff()"
   ]
  },
  {
   "cell_type": "markdown",
   "metadata": {},
   "source": [
    "**Question 3:** Can you grab the first 15 rows of dates for each restaurant?  The last 15 rows?"
   ]
  },
  {
   "cell_type": "code",
   "execution_count": 6,
   "metadata": {},
   "outputs": [
    {
     "data": {
      "text/html": [
       "<div>\n",
       "<style scoped>\n",
       "    .dataframe tbody tr th:only-of-type {\n",
       "        vertical-align: middle;\n",
       "    }\n",
       "\n",
       "    .dataframe tbody tr th {\n",
       "        vertical-align: top;\n",
       "    }\n",
       "\n",
       "    .dataframe thead th {\n",
       "        text-align: right;\n",
       "    }\n",
       "</style>\n",
       "<table border=\"1\" class=\"dataframe\">\n",
       "  <thead>\n",
       "    <tr style=\"text-align: right;\">\n",
       "      <th></th>\n",
       "      <th></th>\n",
       "      <th>id</th>\n",
       "      <th>visit_date</th>\n",
       "      <th>visitors</th>\n",
       "      <th>calendar_date</th>\n",
       "      <th>day_of_week</th>\n",
       "      <th>holiday</th>\n",
       "      <th>genre</th>\n",
       "      <th>area</th>\n",
       "      <th>latitude</th>\n",
       "      <th>longitude</th>\n",
       "      <th>reserve_visitors</th>\n",
       "    </tr>\n",
       "    <tr>\n",
       "      <th>id</th>\n",
       "      <th></th>\n",
       "      <th></th>\n",
       "      <th></th>\n",
       "      <th></th>\n",
       "      <th></th>\n",
       "      <th></th>\n",
       "      <th></th>\n",
       "      <th></th>\n",
       "      <th></th>\n",
       "      <th></th>\n",
       "      <th></th>\n",
       "      <th></th>\n",
       "    </tr>\n",
       "  </thead>\n",
       "  <tbody>\n",
       "    <tr>\n",
       "      <th rowspan=\"5\" valign=\"top\">air_00a91d42b08b08d9</th>\n",
       "      <th>166836</th>\n",
       "      <td>air_00a91d42b08b08d9</td>\n",
       "      <td>2016-07-01</td>\n",
       "      <td>35</td>\n",
       "      <td>2016-07-01</td>\n",
       "      <td>Friday</td>\n",
       "      <td>0</td>\n",
       "      <td>Italian/French</td>\n",
       "      <td>Tōkyō-to Chiyoda-ku Kudanminami</td>\n",
       "      <td>35.694003</td>\n",
       "      <td>139.753595</td>\n",
       "      <td>NaN</td>\n",
       "    </tr>\n",
       "    <tr>\n",
       "      <th>166837</th>\n",
       "      <td>air_00a91d42b08b08d9</td>\n",
       "      <td>2016-07-02</td>\n",
       "      <td>9</td>\n",
       "      <td>2016-07-02</td>\n",
       "      <td>Saturday</td>\n",
       "      <td>0</td>\n",
       "      <td>Italian/French</td>\n",
       "      <td>Tōkyō-to Chiyoda-ku Kudanminami</td>\n",
       "      <td>35.694003</td>\n",
       "      <td>139.753595</td>\n",
       "      <td>4.0</td>\n",
       "    </tr>\n",
       "    <tr>\n",
       "      <th>166838</th>\n",
       "      <td>air_00a91d42b08b08d9</td>\n",
       "      <td>2016-07-04</td>\n",
       "      <td>20</td>\n",
       "      <td>2016-07-04</td>\n",
       "      <td>Monday</td>\n",
       "      <td>0</td>\n",
       "      <td>Italian/French</td>\n",
       "      <td>Tōkyō-to Chiyoda-ku Kudanminami</td>\n",
       "      <td>35.694003</td>\n",
       "      <td>139.753595</td>\n",
       "      <td>NaN</td>\n",
       "    </tr>\n",
       "    <tr>\n",
       "      <th>166839</th>\n",
       "      <td>air_00a91d42b08b08d9</td>\n",
       "      <td>2016-07-05</td>\n",
       "      <td>25</td>\n",
       "      <td>2016-07-05</td>\n",
       "      <td>Tuesday</td>\n",
       "      <td>0</td>\n",
       "      <td>Italian/French</td>\n",
       "      <td>Tōkyō-to Chiyoda-ku Kudanminami</td>\n",
       "      <td>35.694003</td>\n",
       "      <td>139.753595</td>\n",
       "      <td>NaN</td>\n",
       "    </tr>\n",
       "    <tr>\n",
       "      <th>166840</th>\n",
       "      <td>air_00a91d42b08b08d9</td>\n",
       "      <td>2016-07-06</td>\n",
       "      <td>29</td>\n",
       "      <td>2016-07-06</td>\n",
       "      <td>Wednesday</td>\n",
       "      <td>0</td>\n",
       "      <td>Italian/French</td>\n",
       "      <td>Tōkyō-to Chiyoda-ku Kudanminami</td>\n",
       "      <td>35.694003</td>\n",
       "      <td>139.753595</td>\n",
       "      <td>NaN</td>\n",
       "    </tr>\n",
       "    <tr>\n",
       "      <th>...</th>\n",
       "      <th>...</th>\n",
       "      <td>...</td>\n",
       "      <td>...</td>\n",
       "      <td>...</td>\n",
       "      <td>...</td>\n",
       "      <td>...</td>\n",
       "      <td>...</td>\n",
       "      <td>...</td>\n",
       "      <td>...</td>\n",
       "      <td>...</td>\n",
       "      <td>...</td>\n",
       "      <td>...</td>\n",
       "    </tr>\n",
       "    <tr>\n",
       "      <th rowspan=\"5\" valign=\"top\">air_fff68b929994bfbd</th>\n",
       "      <th>216418</th>\n",
       "      <td>air_fff68b929994bfbd</td>\n",
       "      <td>2016-07-14</td>\n",
       "      <td>11</td>\n",
       "      <td>2016-07-14</td>\n",
       "      <td>Thursday</td>\n",
       "      <td>0</td>\n",
       "      <td>Bar/Cocktail</td>\n",
       "      <td>Tōkyō-to Nakano-ku Nakano</td>\n",
       "      <td>35.708146</td>\n",
       "      <td>139.666288</td>\n",
       "      <td>2.0</td>\n",
       "    </tr>\n",
       "    <tr>\n",
       "      <th>216419</th>\n",
       "      <td>air_fff68b929994bfbd</td>\n",
       "      <td>2016-07-15</td>\n",
       "      <td>3</td>\n",
       "      <td>2016-07-15</td>\n",
       "      <td>Friday</td>\n",
       "      <td>0</td>\n",
       "      <td>Bar/Cocktail</td>\n",
       "      <td>Tōkyō-to Nakano-ku Nakano</td>\n",
       "      <td>35.708146</td>\n",
       "      <td>139.666288</td>\n",
       "      <td>NaN</td>\n",
       "    </tr>\n",
       "    <tr>\n",
       "      <th>216420</th>\n",
       "      <td>air_fff68b929994bfbd</td>\n",
       "      <td>2016-07-16</td>\n",
       "      <td>8</td>\n",
       "      <td>2016-07-16</td>\n",
       "      <td>Saturday</td>\n",
       "      <td>0</td>\n",
       "      <td>Bar/Cocktail</td>\n",
       "      <td>Tōkyō-to Nakano-ku Nakano</td>\n",
       "      <td>35.708146</td>\n",
       "      <td>139.666288</td>\n",
       "      <td>4.0</td>\n",
       "    </tr>\n",
       "    <tr>\n",
       "      <th>216421</th>\n",
       "      <td>air_fff68b929994bfbd</td>\n",
       "      <td>2016-07-19</td>\n",
       "      <td>6</td>\n",
       "      <td>2016-07-19</td>\n",
       "      <td>Tuesday</td>\n",
       "      <td>0</td>\n",
       "      <td>Bar/Cocktail</td>\n",
       "      <td>Tōkyō-to Nakano-ku Nakano</td>\n",
       "      <td>35.708146</td>\n",
       "      <td>139.666288</td>\n",
       "      <td>NaN</td>\n",
       "    </tr>\n",
       "    <tr>\n",
       "      <th>216422</th>\n",
       "      <td>air_fff68b929994bfbd</td>\n",
       "      <td>2016-07-20</td>\n",
       "      <td>7</td>\n",
       "      <td>2016-07-20</td>\n",
       "      <td>Wednesday</td>\n",
       "      <td>0</td>\n",
       "      <td>Bar/Cocktail</td>\n",
       "      <td>Tōkyō-to Nakano-ku Nakano</td>\n",
       "      <td>35.708146</td>\n",
       "      <td>139.666288</td>\n",
       "      <td>NaN</td>\n",
       "    </tr>\n",
       "  </tbody>\n",
       "</table>\n",
       "<p>12435 rows × 11 columns</p>\n",
       "</div>"
      ],
      "text/plain": [
       "                                               id visit_date  visitors  \\\n",
       "id                                                                       \n",
       "air_00a91d42b08b08d9 166836  air_00a91d42b08b08d9 2016-07-01        35   \n",
       "                     166837  air_00a91d42b08b08d9 2016-07-02         9   \n",
       "                     166838  air_00a91d42b08b08d9 2016-07-04        20   \n",
       "                     166839  air_00a91d42b08b08d9 2016-07-05        25   \n",
       "                     166840  air_00a91d42b08b08d9 2016-07-06        29   \n",
       "...                                           ...        ...       ...   \n",
       "air_fff68b929994bfbd 216418  air_fff68b929994bfbd 2016-07-14        11   \n",
       "                     216419  air_fff68b929994bfbd 2016-07-15         3   \n",
       "                     216420  air_fff68b929994bfbd 2016-07-16         8   \n",
       "                     216421  air_fff68b929994bfbd 2016-07-19         6   \n",
       "                     216422  air_fff68b929994bfbd 2016-07-20         7   \n",
       "\n",
       "                            calendar_date day_of_week  holiday  \\\n",
       "id                                                               \n",
       "air_00a91d42b08b08d9 166836    2016-07-01      Friday        0   \n",
       "                     166837    2016-07-02    Saturday        0   \n",
       "                     166838    2016-07-04      Monday        0   \n",
       "                     166839    2016-07-05     Tuesday        0   \n",
       "                     166840    2016-07-06   Wednesday        0   \n",
       "...                                   ...         ...      ...   \n",
       "air_fff68b929994bfbd 216418    2016-07-14    Thursday        0   \n",
       "                     216419    2016-07-15      Friday        0   \n",
       "                     216420    2016-07-16    Saturday        0   \n",
       "                     216421    2016-07-19     Tuesday        0   \n",
       "                     216422    2016-07-20   Wednesday        0   \n",
       "\n",
       "                                      genre                             area  \\\n",
       "id                                                                             \n",
       "air_00a91d42b08b08d9 166836  Italian/French  Tōkyō-to Chiyoda-ku Kudanminami   \n",
       "                     166837  Italian/French  Tōkyō-to Chiyoda-ku Kudanminami   \n",
       "                     166838  Italian/French  Tōkyō-to Chiyoda-ku Kudanminami   \n",
       "                     166839  Italian/French  Tōkyō-to Chiyoda-ku Kudanminami   \n",
       "                     166840  Italian/French  Tōkyō-to Chiyoda-ku Kudanminami   \n",
       "...                                     ...                              ...   \n",
       "air_fff68b929994bfbd 216418    Bar/Cocktail        Tōkyō-to Nakano-ku Nakano   \n",
       "                     216419    Bar/Cocktail        Tōkyō-to Nakano-ku Nakano   \n",
       "                     216420    Bar/Cocktail        Tōkyō-to Nakano-ku Nakano   \n",
       "                     216421    Bar/Cocktail        Tōkyō-to Nakano-ku Nakano   \n",
       "                     216422    Bar/Cocktail        Tōkyō-to Nakano-ku Nakano   \n",
       "\n",
       "                              latitude   longitude  reserve_visitors  \n",
       "id                                                                    \n",
       "air_00a91d42b08b08d9 166836  35.694003  139.753595               NaN  \n",
       "                     166837  35.694003  139.753595               4.0  \n",
       "                     166838  35.694003  139.753595               NaN  \n",
       "                     166839  35.694003  139.753595               NaN  \n",
       "                     166840  35.694003  139.753595               NaN  \n",
       "...                                ...         ...               ...  \n",
       "air_fff68b929994bfbd 216418  35.708146  139.666288               2.0  \n",
       "                     216419  35.708146  139.666288               NaN  \n",
       "                     216420  35.708146  139.666288               4.0  \n",
       "                     216421  35.708146  139.666288               NaN  \n",
       "                     216422  35.708146  139.666288               NaN  \n",
       "\n",
       "[12435 rows x 11 columns]"
      ]
     },
     "execution_count": 6,
     "metadata": {},
     "output_type": "execute_result"
    }
   ],
   "source": [
    "# your answer here -- first 15 rows\n",
    "df.groupby('id').apply(lambda x: x.iloc[:15])"
   ]
  },
  {
   "cell_type": "code",
   "execution_count": 7,
   "metadata": {},
   "outputs": [
    {
     "data": {
      "text/html": [
       "<div>\n",
       "<style scoped>\n",
       "    .dataframe tbody tr th:only-of-type {\n",
       "        vertical-align: middle;\n",
       "    }\n",
       "\n",
       "    .dataframe tbody tr th {\n",
       "        vertical-align: top;\n",
       "    }\n",
       "\n",
       "    .dataframe thead th {\n",
       "        text-align: right;\n",
       "    }\n",
       "</style>\n",
       "<table border=\"1\" class=\"dataframe\">\n",
       "  <thead>\n",
       "    <tr style=\"text-align: right;\">\n",
       "      <th></th>\n",
       "      <th></th>\n",
       "      <th>id</th>\n",
       "      <th>visit_date</th>\n",
       "      <th>visitors</th>\n",
       "      <th>calendar_date</th>\n",
       "      <th>day_of_week</th>\n",
       "      <th>holiday</th>\n",
       "      <th>genre</th>\n",
       "      <th>area</th>\n",
       "      <th>latitude</th>\n",
       "      <th>longitude</th>\n",
       "      <th>reserve_visitors</th>\n",
       "    </tr>\n",
       "    <tr>\n",
       "      <th>id</th>\n",
       "      <th></th>\n",
       "      <th></th>\n",
       "      <th></th>\n",
       "      <th></th>\n",
       "      <th></th>\n",
       "      <th></th>\n",
       "      <th></th>\n",
       "      <th></th>\n",
       "      <th></th>\n",
       "      <th></th>\n",
       "      <th></th>\n",
       "      <th></th>\n",
       "    </tr>\n",
       "  </thead>\n",
       "  <tbody>\n",
       "    <tr>\n",
       "      <th rowspan=\"5\" valign=\"top\">air_00a91d42b08b08d9</th>\n",
       "      <th>167053</th>\n",
       "      <td>air_00a91d42b08b08d9</td>\n",
       "      <td>2017-04-11</td>\n",
       "      <td>43</td>\n",
       "      <td>2017-04-11</td>\n",
       "      <td>Tuesday</td>\n",
       "      <td>0</td>\n",
       "      <td>Italian/French</td>\n",
       "      <td>Tōkyō-to Chiyoda-ku Kudanminami</td>\n",
       "      <td>35.694003</td>\n",
       "      <td>139.753595</td>\n",
       "      <td>2.0</td>\n",
       "    </tr>\n",
       "    <tr>\n",
       "      <th>167054</th>\n",
       "      <td>air_00a91d42b08b08d9</td>\n",
       "      <td>2017-04-12</td>\n",
       "      <td>28</td>\n",
       "      <td>2017-04-12</td>\n",
       "      <td>Wednesday</td>\n",
       "      <td>0</td>\n",
       "      <td>Italian/French</td>\n",
       "      <td>Tōkyō-to Chiyoda-ku Kudanminami</td>\n",
       "      <td>35.694003</td>\n",
       "      <td>139.753595</td>\n",
       "      <td>2.0</td>\n",
       "    </tr>\n",
       "    <tr>\n",
       "      <th>167055</th>\n",
       "      <td>air_00a91d42b08b08d9</td>\n",
       "      <td>2017-04-13</td>\n",
       "      <td>34</td>\n",
       "      <td>2017-04-13</td>\n",
       "      <td>Thursday</td>\n",
       "      <td>0</td>\n",
       "      <td>Italian/French</td>\n",
       "      <td>Tōkyō-to Chiyoda-ku Kudanminami</td>\n",
       "      <td>35.694003</td>\n",
       "      <td>139.753595</td>\n",
       "      <td>7.0</td>\n",
       "    </tr>\n",
       "    <tr>\n",
       "      <th>167056</th>\n",
       "      <td>air_00a91d42b08b08d9</td>\n",
       "      <td>2017-04-14</td>\n",
       "      <td>39</td>\n",
       "      <td>2017-04-14</td>\n",
       "      <td>Friday</td>\n",
       "      <td>0</td>\n",
       "      <td>Italian/French</td>\n",
       "      <td>Tōkyō-to Chiyoda-ku Kudanminami</td>\n",
       "      <td>35.694003</td>\n",
       "      <td>139.753595</td>\n",
       "      <td>4.0</td>\n",
       "    </tr>\n",
       "    <tr>\n",
       "      <th>167057</th>\n",
       "      <td>air_00a91d42b08b08d9</td>\n",
       "      <td>2017-04-17</td>\n",
       "      <td>19</td>\n",
       "      <td>2017-04-17</td>\n",
       "      <td>Monday</td>\n",
       "      <td>0</td>\n",
       "      <td>Italian/French</td>\n",
       "      <td>Tōkyō-to Chiyoda-ku Kudanminami</td>\n",
       "      <td>35.694003</td>\n",
       "      <td>139.753595</td>\n",
       "      <td>NaN</td>\n",
       "    </tr>\n",
       "    <tr>\n",
       "      <th>...</th>\n",
       "      <th>...</th>\n",
       "      <td>...</td>\n",
       "      <td>...</td>\n",
       "      <td>...</td>\n",
       "      <td>...</td>\n",
       "      <td>...</td>\n",
       "      <td>...</td>\n",
       "      <td>...</td>\n",
       "      <td>...</td>\n",
       "      <td>...</td>\n",
       "      <td>...</td>\n",
       "      <td>...</td>\n",
       "    </tr>\n",
       "    <tr>\n",
       "      <th rowspan=\"5\" valign=\"top\">air_fff68b929994bfbd</th>\n",
       "      <th>216672</th>\n",
       "      <td>air_fff68b929994bfbd</td>\n",
       "      <td>2017-01-03</td>\n",
       "      <td>1</td>\n",
       "      <td>2017-01-03</td>\n",
       "      <td>Tuesday</td>\n",
       "      <td>1</td>\n",
       "      <td>Bar/Cocktail</td>\n",
       "      <td>Tōkyō-to Nakano-ku Nakano</td>\n",
       "      <td>35.708146</td>\n",
       "      <td>139.666288</td>\n",
       "      <td>NaN</td>\n",
       "    </tr>\n",
       "    <tr>\n",
       "      <th>216673</th>\n",
       "      <td>air_fff68b929994bfbd</td>\n",
       "      <td>2017-01-04</td>\n",
       "      <td>6</td>\n",
       "      <td>2017-01-04</td>\n",
       "      <td>Wednesday</td>\n",
       "      <td>0</td>\n",
       "      <td>Bar/Cocktail</td>\n",
       "      <td>Tōkyō-to Nakano-ku Nakano</td>\n",
       "      <td>35.708146</td>\n",
       "      <td>139.666288</td>\n",
       "      <td>10.0</td>\n",
       "    </tr>\n",
       "    <tr>\n",
       "      <th>216674</th>\n",
       "      <td>air_fff68b929994bfbd</td>\n",
       "      <td>2017-02-26</td>\n",
       "      <td>2</td>\n",
       "      <td>2017-02-26</td>\n",
       "      <td>Sunday</td>\n",
       "      <td>0</td>\n",
       "      <td>Bar/Cocktail</td>\n",
       "      <td>Tōkyō-to Nakano-ku Nakano</td>\n",
       "      <td>35.708146</td>\n",
       "      <td>139.666288</td>\n",
       "      <td>NaN</td>\n",
       "    </tr>\n",
       "    <tr>\n",
       "      <th>216675</th>\n",
       "      <td>air_fff68b929994bfbd</td>\n",
       "      <td>2017-03-20</td>\n",
       "      <td>2</td>\n",
       "      <td>2017-03-20</td>\n",
       "      <td>Monday</td>\n",
       "      <td>1</td>\n",
       "      <td>Bar/Cocktail</td>\n",
       "      <td>Tōkyō-to Nakano-ku Nakano</td>\n",
       "      <td>35.708146</td>\n",
       "      <td>139.666288</td>\n",
       "      <td>3.0</td>\n",
       "    </tr>\n",
       "    <tr>\n",
       "      <th>216676</th>\n",
       "      <td>air_fff68b929994bfbd</td>\n",
       "      <td>2017-04-09</td>\n",
       "      <td>5</td>\n",
       "      <td>2017-04-09</td>\n",
       "      <td>Sunday</td>\n",
       "      <td>0</td>\n",
       "      <td>Bar/Cocktail</td>\n",
       "      <td>Tōkyō-to Nakano-ku Nakano</td>\n",
       "      <td>35.708146</td>\n",
       "      <td>139.666288</td>\n",
       "      <td>32.0</td>\n",
       "    </tr>\n",
       "  </tbody>\n",
       "</table>\n",
       "<p>12435 rows × 11 columns</p>\n",
       "</div>"
      ],
      "text/plain": [
       "                                               id visit_date  visitors  \\\n",
       "id                                                                       \n",
       "air_00a91d42b08b08d9 167053  air_00a91d42b08b08d9 2017-04-11        43   \n",
       "                     167054  air_00a91d42b08b08d9 2017-04-12        28   \n",
       "                     167055  air_00a91d42b08b08d9 2017-04-13        34   \n",
       "                     167056  air_00a91d42b08b08d9 2017-04-14        39   \n",
       "                     167057  air_00a91d42b08b08d9 2017-04-17        19   \n",
       "...                                           ...        ...       ...   \n",
       "air_fff68b929994bfbd 216672  air_fff68b929994bfbd 2017-01-03         1   \n",
       "                     216673  air_fff68b929994bfbd 2017-01-04         6   \n",
       "                     216674  air_fff68b929994bfbd 2017-02-26         2   \n",
       "                     216675  air_fff68b929994bfbd 2017-03-20         2   \n",
       "                     216676  air_fff68b929994bfbd 2017-04-09         5   \n",
       "\n",
       "                            calendar_date day_of_week  holiday  \\\n",
       "id                                                               \n",
       "air_00a91d42b08b08d9 167053    2017-04-11     Tuesday        0   \n",
       "                     167054    2017-04-12   Wednesday        0   \n",
       "                     167055    2017-04-13    Thursday        0   \n",
       "                     167056    2017-04-14      Friday        0   \n",
       "                     167057    2017-04-17      Monday        0   \n",
       "...                                   ...         ...      ...   \n",
       "air_fff68b929994bfbd 216672    2017-01-03     Tuesday        1   \n",
       "                     216673    2017-01-04   Wednesday        0   \n",
       "                     216674    2017-02-26      Sunday        0   \n",
       "                     216675    2017-03-20      Monday        1   \n",
       "                     216676    2017-04-09      Sunday        0   \n",
       "\n",
       "                                      genre                             area  \\\n",
       "id                                                                             \n",
       "air_00a91d42b08b08d9 167053  Italian/French  Tōkyō-to Chiyoda-ku Kudanminami   \n",
       "                     167054  Italian/French  Tōkyō-to Chiyoda-ku Kudanminami   \n",
       "                     167055  Italian/French  Tōkyō-to Chiyoda-ku Kudanminami   \n",
       "                     167056  Italian/French  Tōkyō-to Chiyoda-ku Kudanminami   \n",
       "                     167057  Italian/French  Tōkyō-to Chiyoda-ku Kudanminami   \n",
       "...                                     ...                              ...   \n",
       "air_fff68b929994bfbd 216672    Bar/Cocktail        Tōkyō-to Nakano-ku Nakano   \n",
       "                     216673    Bar/Cocktail        Tōkyō-to Nakano-ku Nakano   \n",
       "                     216674    Bar/Cocktail        Tōkyō-to Nakano-ku Nakano   \n",
       "                     216675    Bar/Cocktail        Tōkyō-to Nakano-ku Nakano   \n",
       "                     216676    Bar/Cocktail        Tōkyō-to Nakano-ku Nakano   \n",
       "\n",
       "                              latitude   longitude  reserve_visitors  \n",
       "id                                                                    \n",
       "air_00a91d42b08b08d9 167053  35.694003  139.753595               2.0  \n",
       "                     167054  35.694003  139.753595               2.0  \n",
       "                     167055  35.694003  139.753595               7.0  \n",
       "                     167056  35.694003  139.753595               4.0  \n",
       "                     167057  35.694003  139.753595               NaN  \n",
       "...                                ...         ...               ...  \n",
       "air_fff68b929994bfbd 216672  35.708146  139.666288               NaN  \n",
       "                     216673  35.708146  139.666288              10.0  \n",
       "                     216674  35.708146  139.666288               NaN  \n",
       "                     216675  35.708146  139.666288               3.0  \n",
       "                     216676  35.708146  139.666288              32.0  \n",
       "\n",
       "[12435 rows x 11 columns]"
      ]
     },
     "execution_count": 7,
     "metadata": {},
     "output_type": "execute_result"
    }
   ],
   "source": [
    "# the last 15 rows\n",
    "df.groupby('id').apply(lambda x: x.iloc[-15:])"
   ]
  },
  {
   "cell_type": "markdown",
   "metadata": {},
   "source": [
    "**Question 4:** Grab the quarterley sales for each individual restaurant within our dataset"
   ]
  },
  {
   "cell_type": "code",
   "execution_count": 8,
   "metadata": {},
   "outputs": [
    {
     "data": {
      "text/plain": [
       "id                    visit_date  visit_date\n",
       "air_00a91d42b08b08d9  2016        3             1780\n",
       "                                  4             1740\n",
       "                      2017        1             2041\n",
       "                                  2              490\n",
       "air_0164b9927d20bcc3  2016        4              627\n",
       "                                                ... \n",
       "air_ffcc2d5087e1b476  2017        2              390\n",
       "air_fff68b929994bfbd  2016        3              404\n",
       "                                  4              452\n",
       "                      2017        1              411\n",
       "                                  2              102\n",
       "Name: visitors, Length: 3903, dtype: int64"
      ]
     },
     "execution_count": 8,
     "metadata": {},
     "output_type": "execute_result"
    }
   ],
   "source": [
    "# your answer here -- notice the use of the date parts within the groupby -- without necessarily creating them\n",
    "df.groupby(['id', df.visit_date.dt.year, df.visit_date.dt.quarter])['visitors'].sum()"
   ]
  },
  {
   "cell_type": "markdown",
   "metadata": {},
   "source": [
    "**Question 5:** What restaurant had the highest amount of reservations?"
   ]
  },
  {
   "cell_type": "code",
   "execution_count": 9,
   "metadata": {},
   "outputs": [
    {
     "data": {
      "text/plain": [
       "'air_05c325d315cc17f5'"
      ]
     },
     "execution_count": 9,
     "metadata": {},
     "output_type": "execute_result"
    }
   ],
   "source": [
    "# your answer here -- to get both answers, see the previous solution\n",
    "df.groupby('id')['reserve_visitors'].sum().idxmax()"
   ]
  },
  {
   "cell_type": "markdown",
   "metadata": {},
   "source": [
    "**Question 6:** What is the total number of missing entries for each restaurant?  "
   ]
  },
  {
   "cell_type": "code",
   "execution_count": 10,
   "metadata": {},
   "outputs": [
    {
     "data": {
      "text/plain": [
       "id\n",
       "air_00a91d42b08b08d9    122\n",
       "air_0164b9927d20bcc3     50\n",
       "air_0241aa3964b7f861    249\n",
       "air_0328696196e46f18     50\n",
       "air_034a3d5b40d5b1b1    130\n",
       "                       ... \n",
       "air_fea5dc9594450608    139\n",
       "air_fee8dcf4d619598e    149\n",
       "air_fef9ccb3ba0da2f7    123\n",
       "air_ffcc2d5087e1b476    124\n",
       "air_fff68b929994bfbd    132\n",
       "Length: 829, dtype: int64"
      ]
     },
     "execution_count": 10,
     "metadata": {},
     "output_type": "execute_result"
    }
   ],
   "source": [
    "# your answer here\n",
    "df.groupby('id').apply(lambda x: x.isnull().sum().sum())"
   ]
  },
  {
   "cell_type": "markdown",
   "metadata": {},
   "source": [
    "**Question 7:**  Create two variables, `train` and `test`.  Make `train` a dataset that contains all but the **last 15 rows** for each restaurant.  Make `test` the last 15 rows for each restaurant."
   ]
  },
  {
   "cell_type": "code",
   "execution_count": 11,
   "metadata": {},
   "outputs": [],
   "source": [
    "# we'll make sure our dataset is sorted properly first\n",
    "df = df.sort_values(by=['id', 'visit_date'], ascending=[True, True])\n",
    "# and then apply our lambda functions\n",
    "train = df.groupby('id').apply(lambda x: x.iloc[:-15])\n",
    "test  = df.groupby('id').apply(lambda x: x.iloc[-15:])"
   ]
  },
  {
   "cell_type": "markdown",
   "metadata": {},
   "source": [
    "### Grouping & Merging\n",
    "\n",
    "In this section of the lab, we are going to create different types of summary statistics -- where the rows for an individual sample can be compared with a larger group statistic.\n",
    "\n",
    "**Bonus:** If you want to make this a little bit more effective, instead of using the entire `df`, try using a grouping from the `train` variable you just created, and use the grouping's values to populate both the training and test sets."
   ]
  },
  {
   "cell_type": "markdown",
   "metadata": {},
   "source": [
    "Use the technique discussed in class to create columns for the following stats:"
   ]
  },
  {
   "cell_type": "markdown",
   "metadata": {},
   "source": [
    "**Question 1:** Create columns that list the average, median and standard deviation of visitors for each restaurant"
   ]
  },
  {
   "cell_type": "code",
   "execution_count": 12,
   "metadata": {},
   "outputs": [],
   "source": [
    "# your answer here\n",
    "id_vals = df.groupby('id')['visitors'].agg(['mean', 'median', 'std']).rename({'mean': 'id-mean', 'median': 'id-median', 'std': 'id-std'}, axis=1)\n",
    "df = df.merge(id_vals, left_on=['id'], right_index=True, how='left')"
   ]
  },
  {
   "cell_type": "markdown",
   "metadata": {},
   "source": [
    "**Question 2:** Create a column that lists the average and median sales amount for each restaurant on a particular day of the week."
   ]
  },
  {
   "cell_type": "code",
   "execution_count": 13,
   "metadata": {},
   "outputs": [],
   "source": [
    "# your answer here\n",
    "id_day_vals = df.groupby(['id', 'day_of_week'])['visitors'].agg(['mean', 'median', 'std']).rename({'mean': 'id-day-mean', 'median': 'id-day-median', 'std': 'id-day-std'}, axis=1)\n",
    "df = df.merge(id_day_vals, left_on=['id', 'day_of_week'], right_index=True, how='left')"
   ]
  },
  {
   "cell_type": "markdown",
   "metadata": {},
   "source": [
    "**Question 3:** Create columns that display the average and median sales amount for each genre in each city on each day of the week.  Create a column called `city` that captures the first value of `area` in order to this.  Values should be `Tokyo`, `Hiroshima`, etc.  **Hint:** You should use the `str` attribute combined with `split` in order to do this."
   ]
  },
  {
   "cell_type": "code",
   "execution_count": 14,
   "metadata": {},
   "outputs": [],
   "source": [
    "# your answer here\n",
    "df['city'] = df['area'].str.split().str[0]\n",
    "day_city_vals = df.groupby(['genre', 'city', 'day_of_week'])['visitors'].agg(['mean', 'median', 'std']).rename({'mean': 'city-day-mean', 'median': 'city-day-median', 'std': 'city-day-std'}, axis=1)\n",
    "df = df.merge(day_city_vals, left_on=['genre', 'city', 'day_of_week'], right_index=True, how='left')"
   ]
  }
 ],
 "metadata": {
  "kernelspec": {
   "display_name": "Python 3",
   "language": "python",
   "name": "python3"
  },
  "language_info": {
   "codemirror_mode": {
    "name": "ipython",
    "version": 3
   },
   "file_extension": ".py",
   "mimetype": "text/x-python",
   "name": "python",
   "nbconvert_exporter": "python",
   "pygments_lexer": "ipython3",
   "version": "3.8.8"
  }
 },
 "nbformat": 4,
 "nbformat_minor": 4
}
