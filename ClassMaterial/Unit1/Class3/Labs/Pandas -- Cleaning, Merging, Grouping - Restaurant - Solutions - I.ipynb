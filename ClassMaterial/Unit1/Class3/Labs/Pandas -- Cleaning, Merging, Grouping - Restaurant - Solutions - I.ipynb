{
 "cells": [
  {
   "cell_type": "markdown",
   "metadata": {},
   "source": [
    "### Pandas Lab -- Cleaning, Merging, & Grouping\n",
    "\n",
    "This lab is designed to introduce students to common use cases for Pandas when working with data:\n",
    "\n",
    " - Creating new information out of your existing data set\n",
    " - Merging, concatenating, and joining different data sources\n",
    " - Grouping -- With both time & non-time based data"
   ]
  },
  {
   "cell_type": "markdown",
   "metadata": {},
   "source": [
    "### Section I: Creating Data Out of Your Existing Columns\n",
    "\n",
    "Go ahead and create the following columns in your dataset."
   ]
  },
  {
   "cell_type": "code",
   "execution_count": 2,
   "metadata": {},
   "outputs": [],
   "source": [
    "import pandas as pd\n",
    "import numpy as np\n",
    "# read in the file\n",
    "df = pd.read_csv('../../data/master.csv', parse_dates=['visit_date'])"
   ]
  },
  {
   "cell_type": "code",
   "execution_count": 3,
   "metadata": {},
   "outputs": [
    {
     "data": {
      "text/html": [
       "<div>\n",
       "<style scoped>\n",
       "    .dataframe tbody tr th:only-of-type {\n",
       "        vertical-align: middle;\n",
       "    }\n",
       "\n",
       "    .dataframe tbody tr th {\n",
       "        vertical-align: top;\n",
       "    }\n",
       "\n",
       "    .dataframe thead th {\n",
       "        text-align: right;\n",
       "    }\n",
       "</style>\n",
       "<table border=\"1\" class=\"dataframe\">\n",
       "  <thead>\n",
       "    <tr style=\"text-align: right;\">\n",
       "      <th></th>\n",
       "      <th>id</th>\n",
       "      <th>visit_date</th>\n",
       "      <th>visitors</th>\n",
       "      <th>day_of_week</th>\n",
       "      <th>holiday</th>\n",
       "      <th>genre</th>\n",
       "      <th>area</th>\n",
       "      <th>latitude</th>\n",
       "      <th>longitude</th>\n",
       "      <th>reserve_visitors</th>\n",
       "    </tr>\n",
       "  </thead>\n",
       "  <tbody>\n",
       "    <tr>\n",
       "      <th>0</th>\n",
       "      <td>air_ba937bf13d40fb24</td>\n",
       "      <td>2016-01-13</td>\n",
       "      <td>25</td>\n",
       "      <td>Wednesday</td>\n",
       "      <td>0</td>\n",
       "      <td>Dining bar</td>\n",
       "      <td>Tōkyō-to Minato-ku Shibakōen</td>\n",
       "      <td>35.658068</td>\n",
       "      <td>139.751599</td>\n",
       "      <td>NaN</td>\n",
       "    </tr>\n",
       "    <tr>\n",
       "      <th>1</th>\n",
       "      <td>air_ba937bf13d40fb24</td>\n",
       "      <td>2016-01-14</td>\n",
       "      <td>32</td>\n",
       "      <td>Thursday</td>\n",
       "      <td>0</td>\n",
       "      <td>Dining bar</td>\n",
       "      <td>Tōkyō-to Minato-ku Shibakōen</td>\n",
       "      <td>35.658068</td>\n",
       "      <td>139.751599</td>\n",
       "      <td>NaN</td>\n",
       "    </tr>\n",
       "    <tr>\n",
       "      <th>2</th>\n",
       "      <td>air_ba937bf13d40fb24</td>\n",
       "      <td>2016-01-15</td>\n",
       "      <td>29</td>\n",
       "      <td>Friday</td>\n",
       "      <td>0</td>\n",
       "      <td>Dining bar</td>\n",
       "      <td>Tōkyō-to Minato-ku Shibakōen</td>\n",
       "      <td>35.658068</td>\n",
       "      <td>139.751599</td>\n",
       "      <td>NaN</td>\n",
       "    </tr>\n",
       "    <tr>\n",
       "      <th>3</th>\n",
       "      <td>air_ba937bf13d40fb24</td>\n",
       "      <td>2016-01-16</td>\n",
       "      <td>22</td>\n",
       "      <td>Saturday</td>\n",
       "      <td>0</td>\n",
       "      <td>Dining bar</td>\n",
       "      <td>Tōkyō-to Minato-ku Shibakōen</td>\n",
       "      <td>35.658068</td>\n",
       "      <td>139.751599</td>\n",
       "      <td>NaN</td>\n",
       "    </tr>\n",
       "    <tr>\n",
       "      <th>4</th>\n",
       "      <td>air_ba937bf13d40fb24</td>\n",
       "      <td>2016-01-18</td>\n",
       "      <td>6</td>\n",
       "      <td>Monday</td>\n",
       "      <td>0</td>\n",
       "      <td>Dining bar</td>\n",
       "      <td>Tōkyō-to Minato-ku Shibakōen</td>\n",
       "      <td>35.658068</td>\n",
       "      <td>139.751599</td>\n",
       "      <td>NaN</td>\n",
       "    </tr>\n",
       "  </tbody>\n",
       "</table>\n",
       "</div>"
      ],
      "text/plain": [
       "                     id visit_date  visitors day_of_week  holiday       genre  \\\n",
       "0  air_ba937bf13d40fb24 2016-01-13        25   Wednesday        0  Dining bar   \n",
       "1  air_ba937bf13d40fb24 2016-01-14        32    Thursday        0  Dining bar   \n",
       "2  air_ba937bf13d40fb24 2016-01-15        29      Friday        0  Dining bar   \n",
       "3  air_ba937bf13d40fb24 2016-01-16        22    Saturday        0  Dining bar   \n",
       "4  air_ba937bf13d40fb24 2016-01-18         6      Monday        0  Dining bar   \n",
       "\n",
       "                           area   latitude   longitude  reserve_visitors  \n",
       "0  Tōkyō-to Minato-ku Shibakōen  35.658068  139.751599               NaN  \n",
       "1  Tōkyō-to Minato-ku Shibakōen  35.658068  139.751599               NaN  \n",
       "2  Tōkyō-to Minato-ku Shibakōen  35.658068  139.751599               NaN  \n",
       "3  Tōkyō-to Minato-ku Shibakōen  35.658068  139.751599               NaN  \n",
       "4  Tōkyō-to Minato-ku Shibakōen  35.658068  139.751599               NaN  "
      ]
     },
     "execution_count": 3,
     "metadata": {},
     "output_type": "execute_result"
    }
   ],
   "source": [
    "df.head()"
   ]
  },
  {
   "cell_type": "markdown",
   "metadata": {},
   "source": [
    "**Column 1:**\n",
    "\n",
    "  - **Column Name:** Weekend\n",
    "  - **Values:** `True` if `day_of_week` is either Friday or Saturday, `False` if not"
   ]
  },
  {
   "cell_type": "code",
   "execution_count": 4,
   "metadata": {},
   "outputs": [],
   "source": [
    "# your answer here\n",
    "df['Weekend'] = np.where(df.day_of_week.isin(['Saturday', 'Sunday']), True, False)"
   ]
  },
  {
   "cell_type": "markdown",
   "metadata": {},
   "source": [
    "**Column 2:**\n",
    "\n",
    " - **Column Name:** Reservation Activity\n",
    " - **Values:**\n",
    "   - `Low` if `reserve_visitors` is in the bottom .25 percentile\n",
    "   - `Medium` if `reserve_visitors` is in the middle .50 percentile\n",
    "   - `High`if `reserve_visitors` is in the top .25 percentile\n",
    "   \n",
    "**Hint:** Use the `quantile` method to get this value"
   ]
  },
  {
   "cell_type": "code",
   "execution_count": 6,
   "metadata": {},
   "outputs": [
    {
     "data": {
      "text/plain": [
       "0         False\n",
       "1         False\n",
       "2         False\n",
       "3         False\n",
       "4         False\n",
       "          ...  \n",
       "252103    False\n",
       "252104    False\n",
       "252105    False\n",
       "252106     True\n",
       "252107    False\n",
       "Name: reserve_visitors, Length: 252108, dtype: bool"
      ]
     },
     "execution_count": 6,
     "metadata": {},
     "output_type": "execute_result"
    }
   ],
   "source": [
    "df['reserve_visitors'] < df['reserve_visitors'].quantile(.25)"
   ]
  },
  {
   "cell_type": "code",
   "execution_count": 21,
   "metadata": {},
   "outputs": [],
   "source": [
    "# your answer here\n",
    "conditions = [df['reserve_visitors'] < df['reserve_visitors'].quantile(0.25),\n",
    "              df['reserve_visitors'].between(df['reserve_visitors'].quantile(0.25), df['reserve_visitors'].quantile(0.75)),\n",
    "              df['reserve_visitors'] > df['reserve_visitors'].quantile(0.75)]\n",
    "\n",
    "results    = [\n",
    "    'Low',\n",
    "    'Medium',\n",
    "    'High'\n",
    "]\n",
    "\n",
    "df['Reservation Activity'] = np.select(conditions, results, 'Other')"
   ]
  },
  {
   "cell_type": "markdown",
   "metadata": {},
   "source": [
    "**Column 3:**\n",
    "\n",
    " - **Column Name:** Days\n",
    " - **Values:**\n",
    "   - The length of time that has passed from the beginning of the time series, in days\n",
    " - **Note:** When you subtract these columns, your column will be a **time delta**.  See if you can use the `dt` attribute to convert these values into an integer.  Ie, if your value reads `3 days`, you want that to be 3 instead.  You can read more about different time periods in pandas here:  https://pandas.pydata.org/pandas-docs/stable/user_guide/timeseries.html#time-date-components"
   ]
  },
  {
   "cell_type": "code",
   "execution_count": 24,
   "metadata": {},
   "outputs": [],
   "source": [
    "# your answer here\n",
    "df['Days'] = (df['visit_date'] - df['visit_date'].min()).dt.days"
   ]
  },
  {
   "cell_type": "code",
   "execution_count": 13,
   "metadata": {},
   "outputs": [
    {
     "data": {
      "text/plain": [
       "0          12\n",
       "1          13\n",
       "2          14\n",
       "3          15\n",
       "4          17\n",
       "         ... \n",
       "252103    476\n",
       "252104    477\n",
       "252105    450\n",
       "252106    444\n",
       "252107    464\n",
       "Name: visit_date, Length: 252108, dtype: int64"
      ]
     },
     "execution_count": 13,
     "metadata": {},
     "output_type": "execute_result"
    }
   ],
   "source": [
    "(df['visit_date'] - df['visit_date'].min()).dt.days"
   ]
  },
  {
   "cell_type": "markdown",
   "metadata": {},
   "source": [
    "### Section II: Merging Dataframes"
   ]
  },
  {
   "cell_type": "markdown",
   "metadata": {},
   "source": [
    "The dataset we have been working with so far (`master.csv`), is actually a combined version of several datasets.  \n",
    "\n",
    "In this section of the lab, we are going to re-create it manually from its individual pieces.\n",
    "\n",
    "In the `restaurant data` folder, you'll find the following files:\n",
    "\n",
    " - `air_reserve.csv`\n",
    " - `air_store_info.csv`\n",
    " - `air_visit_data.csv`\n",
    " - `date_info.csv`\n",
    " \n",
    "They contain all the constituent info for the `master.csv` file that we're currently using. \n",
    "\n",
    "You should have 252108 rows when you are finished.\n",
    "\n",
    "Using merges, piece the files together to recreate the one we are currently working on.  \n",
    "\n",
    "**Hint:** To get the number of reservations in the `reserve_visitors` column, you will have to use the `groupby` method first for each store_id and day before doing the merging.\n",
    "\n",
    "You will also have to make sure each column is the same datatype.\n",
    "\n",
    "Some operations that might come in handy:\n",
    "\n",
    " - `dt.date` -- converts a datetime to a date\n",
    " - `pd.to_datetime` if you need to convert something from a string to a date"
   ]
  },
  {
   "cell_type": "code",
   "execution_count": 115,
   "metadata": {},
   "outputs": [],
   "source": [
    "# your answer here\n",
    "reservations = pd.read_csv('air_reserve.csv')\n",
    "store_info   = pd.read_csv('air_store_info.csv')\n",
    "visits       = pd.read_csv('air_visit_data.csv')\n",
    "date_inf     = pd.read_csv('date_info.csv')"
   ]
  },
  {
   "cell_type": "code",
   "execution_count": 116,
   "metadata": {},
   "outputs": [],
   "source": [
    "# merge 1\n",
    "master = visits.merge(store_info, on='air_store_id')"
   ]
  },
  {
   "cell_type": "code",
   "execution_count": 117,
   "metadata": {},
   "outputs": [],
   "source": [
    "# merge 2\n",
    "master = master.merge(date_inf, left_on='visit_date', right_on='calendar_date')"
   ]
  },
  {
   "cell_type": "code",
   "execution_count": 118,
   "metadata": {},
   "outputs": [],
   "source": [
    "# these next two steps are to make the datetime column mergeable with master\n",
    "reservations['visit_datetime'] = pd.to_datetime(reservations['visit_datetime'])\n",
    "reservations['visit_datetime'] = reservations['visit_datetime'].dt.date"
   ]
  },
  {
   "cell_type": "code",
   "execution_count": 119,
   "metadata": {},
   "outputs": [],
   "source": [
    "# the reset_index() is so you can merge it back in with the master dataframe\n",
    "reservations = reservations.groupby(['air_store_id', 'visit_datetime'])['reserve_visitors'].sum().reset_index()"
   ]
  },
  {
   "cell_type": "code",
   "execution_count": 120,
   "metadata": {},
   "outputs": [],
   "source": [
    "# we have to do this for the merge\n",
    "reservations['visit_datetime'] = pd.to_datetime(reservations.visit_datetime)\n",
    "master['visit_date'] = pd.to_datetime(master.visit_date)"
   ]
  },
  {
   "cell_type": "code",
   "execution_count": 121,
   "metadata": {},
   "outputs": [],
   "source": [
    "master = master.merge(reservations, how='left', left_on=['air_store_id', 'visit_date'], right_on=['air_store_id', 'visit_datetime'])"
   ]
  },
  {
   "cell_type": "code",
   "execution_count": null,
   "metadata": {},
   "outputs": [],
   "source": []
  }
 ],
 "metadata": {
  "kernelspec": {
   "display_name": "Python 3",
   "language": "python",
   "name": "python3"
  },
  "language_info": {
   "codemirror_mode": {
    "name": "ipython",
    "version": 3
   },
   "file_extension": ".py",
   "mimetype": "text/x-python",
   "name": "python",
   "nbconvert_exporter": "python",
   "pygments_lexer": "ipython3",
   "version": "3.8.8"
  }
 },
 "nbformat": 4,
 "nbformat_minor": 2
}
