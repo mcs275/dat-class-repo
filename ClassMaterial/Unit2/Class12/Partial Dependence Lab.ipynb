{
 "cells": [
  {
   "cell_type": "markdown",
   "id": "9471b2c8",
   "metadata": {},
   "source": [
    "### Partial Dependence Lab\n",
    "\n",
    "For this lab, your assignment is somewhat simple (but not necessarily easy). \n",
    "\n",
    "Your job is to take the dataset you are currently working on, and create at least three partial dependence plots from your model.  They can be either for categorical, numeric, or interactions between two features.  \n",
    "\n",
    "You should choose these plots based either off what data is important to your model, or as a way to answer questions about your data that you find interesting.  "
   ]
  },
  {
   "cell_type": "code",
   "execution_count": null,
   "id": "8b654989",
   "metadata": {},
   "outputs": [],
   "source": [
    "# your work here"
   ]
  },
  {
   "cell_type": "code",
   "execution_count": null,
   "id": "de922a1e",
   "metadata": {},
   "outputs": [],
   "source": []
  }
 ],
 "metadata": {
  "kernelspec": {
   "display_name": "Python 3 (ipykernel)",
   "language": "python",
   "name": "python3"
  },
  "language_info": {
   "codemirror_mode": {
    "name": "ipython",
    "version": 3
   },
   "file_extension": ".py",
   "mimetype": "text/x-python",
   "name": "python",
   "nbconvert_exporter": "python",
   "pygments_lexer": "ipython3",
   "version": "3.9.7"
  }
 },
 "nbformat": 4,
 "nbformat_minor": 5
}
