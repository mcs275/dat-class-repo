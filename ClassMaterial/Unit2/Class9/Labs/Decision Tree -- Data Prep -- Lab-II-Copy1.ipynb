{
 "cells": [
  {
   "cell_type": "markdown",
   "metadata": {},
   "source": [
    "### Lab -- Data Prep\n",
    "\n",
    "Welcome to today's lab!  Today we're going to shift our attention to a more demanding dataset -- the restaurants data.  A quarter million rows, dates, and categorical data make this a more interesting, realistic use case of boosting.  \n",
    "\n",
    "The point of today's lab will be to experiment with different encoding methods and model parameters."
   ]
  },
  {
   "cell_type": "markdown",
   "metadata": {},
   "source": [
    "**Step 1:**  Load in your dataset, and declare `X` and `y`.\n",
    "\n",
    "**Bonus:**  If you would like, encode some of the time based data we created in previous classes.  For now, just try and extract different date parts like month, day, year, etc.  If you do not do this, you should drop the date columns before declaring `X` and `y`."
   ]
  },
  {
   "cell_type": "code",
   "execution_count": 13,
   "metadata": {},
   "outputs": [],
   "source": [
    "import pandas as pd\n",
    "import numpy as np\n",
    "from sklearn.tree import DecisionTreeRegressor, plot_tree\n",
    "import category_encoders as ce"
   ]
  },
  {
   "cell_type": "code",
   "execution_count": 14,
   "metadata": {},
   "outputs": [],
   "source": [
    "import matplotlib.pyplot as plt\n",
    "pd.options.plotting.backend = 'plotly'"
   ]
  },
  {
   "cell_type": "code",
   "execution_count": 15,
   "metadata": {},
   "outputs": [],
   "source": [
    "df = pd.read_csv('/Users/mcs275/dat-class-repo/Homework/Unit2/data/master.csv', parse_dates = ['visit_date'])"
   ]
  },
  {
   "cell_type": "code",
   "execution_count": 16,
   "metadata": {},
   "outputs": [],
   "source": [
    "df['month'] = df['visit_date'].dt.month"
   ]
  },
  {
   "cell_type": "code",
   "execution_count": 17,
   "metadata": {},
   "outputs": [],
   "source": [
    "df['year'] = df['visit_date'].dt.year"
   ]
  },
  {
   "cell_type": "code",
   "execution_count": 18,
   "metadata": {},
   "outputs": [],
   "source": [
    "df = df.fillna(0)"
   ]
  },
  {
   "cell_type": "code",
   "execution_count": 47,
   "metadata": {},
   "outputs": [],
   "source": [
    "X = df.drop(['visit_date', 'visitors'], axis = 1)\n",
    "y = df['visitors']"
   ]
  },
  {
   "cell_type": "code",
   "execution_count": 20,
   "metadata": {},
   "outputs": [],
   "source": [
    "import category_encoders as ce"
   ]
  },
  {
   "cell_type": "markdown",
   "metadata": {},
   "source": [
    "**Step 2:** Experiment with different encoding methods\n",
    "\n",
    "Let's do a quick check to see how different encoding methods work out of the box on our dataset.\n",
    "\n",
    "You're going to repeat the same process for each of `OrdinalEncoder`, `TargetEncoder`, and `OneHotEncoder` and see which one gives you the best results on our data."
   ]
  },
  {
   "cell_type": "markdown",
   "metadata": {},
   "source": [
    "**2a:** Use an `OrdinalEncoder` to transform your training set with the `fit_transform` method.\n",
    "\n",
    "If you are confused about how the transformation is happening, try using the `mapping()` method on your category encoder to get a hang of what's going on."
   ]
  },
  {
   "cell_type": "code",
   "execution_count": 9,
   "metadata": {},
   "outputs": [
    {
     "data": {
      "text/html": [
       "<div>\n",
       "<style scoped>\n",
       "    .dataframe tbody tr th:only-of-type {\n",
       "        vertical-align: middle;\n",
       "    }\n",
       "\n",
       "    .dataframe tbody tr th {\n",
       "        vertical-align: top;\n",
       "    }\n",
       "\n",
       "    .dataframe thead th {\n",
       "        text-align: right;\n",
       "    }\n",
       "</style>\n",
       "<table border=\"1\" class=\"dataframe\">\n",
       "  <thead>\n",
       "    <tr style=\"text-align: right;\">\n",
       "      <th></th>\n",
       "      <th>id</th>\n",
       "      <th>day_of_week</th>\n",
       "      <th>holiday</th>\n",
       "      <th>genre</th>\n",
       "      <th>area</th>\n",
       "      <th>latitude</th>\n",
       "      <th>longitude</th>\n",
       "      <th>reserve_visitors</th>\n",
       "      <th>month</th>\n",
       "      <th>year</th>\n",
       "    </tr>\n",
       "  </thead>\n",
       "  <tbody>\n",
       "    <tr>\n",
       "      <th>0</th>\n",
       "      <td>air_ba937bf13d40fb24</td>\n",
       "      <td>Wednesday</td>\n",
       "      <td>0</td>\n",
       "      <td>Dining bar</td>\n",
       "      <td>Tōkyō-to Minato-ku Shibakōen</td>\n",
       "      <td>35.658068</td>\n",
       "      <td>139.751599</td>\n",
       "      <td>0.0</td>\n",
       "      <td>1</td>\n",
       "      <td>2016</td>\n",
       "    </tr>\n",
       "    <tr>\n",
       "      <th>1</th>\n",
       "      <td>air_ba937bf13d40fb24</td>\n",
       "      <td>Thursday</td>\n",
       "      <td>0</td>\n",
       "      <td>Dining bar</td>\n",
       "      <td>Tōkyō-to Minato-ku Shibakōen</td>\n",
       "      <td>35.658068</td>\n",
       "      <td>139.751599</td>\n",
       "      <td>0.0</td>\n",
       "      <td>1</td>\n",
       "      <td>2016</td>\n",
       "    </tr>\n",
       "    <tr>\n",
       "      <th>2</th>\n",
       "      <td>air_ba937bf13d40fb24</td>\n",
       "      <td>Friday</td>\n",
       "      <td>0</td>\n",
       "      <td>Dining bar</td>\n",
       "      <td>Tōkyō-to Minato-ku Shibakōen</td>\n",
       "      <td>35.658068</td>\n",
       "      <td>139.751599</td>\n",
       "      <td>0.0</td>\n",
       "      <td>1</td>\n",
       "      <td>2016</td>\n",
       "    </tr>\n",
       "    <tr>\n",
       "      <th>3</th>\n",
       "      <td>air_ba937bf13d40fb24</td>\n",
       "      <td>Saturday</td>\n",
       "      <td>0</td>\n",
       "      <td>Dining bar</td>\n",
       "      <td>Tōkyō-to Minato-ku Shibakōen</td>\n",
       "      <td>35.658068</td>\n",
       "      <td>139.751599</td>\n",
       "      <td>0.0</td>\n",
       "      <td>1</td>\n",
       "      <td>2016</td>\n",
       "    </tr>\n",
       "    <tr>\n",
       "      <th>4</th>\n",
       "      <td>air_ba937bf13d40fb24</td>\n",
       "      <td>Monday</td>\n",
       "      <td>0</td>\n",
       "      <td>Dining bar</td>\n",
       "      <td>Tōkyō-to Minato-ku Shibakōen</td>\n",
       "      <td>35.658068</td>\n",
       "      <td>139.751599</td>\n",
       "      <td>0.0</td>\n",
       "      <td>1</td>\n",
       "      <td>2016</td>\n",
       "    </tr>\n",
       "    <tr>\n",
       "      <th>...</th>\n",
       "      <td>...</td>\n",
       "      <td>...</td>\n",
       "      <td>...</td>\n",
       "      <td>...</td>\n",
       "      <td>...</td>\n",
       "      <td>...</td>\n",
       "      <td>...</td>\n",
       "      <td>...</td>\n",
       "      <td>...</td>\n",
       "      <td>...</td>\n",
       "    </tr>\n",
       "    <tr>\n",
       "      <th>252103</th>\n",
       "      <td>air_a17f0778617c76e2</td>\n",
       "      <td>Friday</td>\n",
       "      <td>0</td>\n",
       "      <td>Italian/French</td>\n",
       "      <td>Hyōgo-ken Kōbe-shi Kumoidōri</td>\n",
       "      <td>34.695124</td>\n",
       "      <td>135.197852</td>\n",
       "      <td>6.0</td>\n",
       "      <td>4</td>\n",
       "      <td>2017</td>\n",
       "    </tr>\n",
       "    <tr>\n",
       "      <th>252104</th>\n",
       "      <td>air_a17f0778617c76e2</td>\n",
       "      <td>Saturday</td>\n",
       "      <td>0</td>\n",
       "      <td>Italian/French</td>\n",
       "      <td>Hyōgo-ken Kōbe-shi Kumoidōri</td>\n",
       "      <td>34.695124</td>\n",
       "      <td>135.197852</td>\n",
       "      <td>37.0</td>\n",
       "      <td>4</td>\n",
       "      <td>2017</td>\n",
       "    </tr>\n",
       "    <tr>\n",
       "      <th>252105</th>\n",
       "      <td>air_a17f0778617c76e2</td>\n",
       "      <td>Sunday</td>\n",
       "      <td>0</td>\n",
       "      <td>Italian/French</td>\n",
       "      <td>Hyōgo-ken Kōbe-shi Kumoidōri</td>\n",
       "      <td>34.695124</td>\n",
       "      <td>135.197852</td>\n",
       "      <td>35.0</td>\n",
       "      <td>3</td>\n",
       "      <td>2017</td>\n",
       "    </tr>\n",
       "    <tr>\n",
       "      <th>252106</th>\n",
       "      <td>air_a17f0778617c76e2</td>\n",
       "      <td>Monday</td>\n",
       "      <td>1</td>\n",
       "      <td>Italian/French</td>\n",
       "      <td>Hyōgo-ken Kōbe-shi Kumoidōri</td>\n",
       "      <td>34.695124</td>\n",
       "      <td>135.197852</td>\n",
       "      <td>3.0</td>\n",
       "      <td>3</td>\n",
       "      <td>2017</td>\n",
       "    </tr>\n",
       "    <tr>\n",
       "      <th>252107</th>\n",
       "      <td>air_a17f0778617c76e2</td>\n",
       "      <td>Sunday</td>\n",
       "      <td>0</td>\n",
       "      <td>Italian/French</td>\n",
       "      <td>Hyōgo-ken Kōbe-shi Kumoidōri</td>\n",
       "      <td>34.695124</td>\n",
       "      <td>135.197852</td>\n",
       "      <td>32.0</td>\n",
       "      <td>4</td>\n",
       "      <td>2017</td>\n",
       "    </tr>\n",
       "  </tbody>\n",
       "</table>\n",
       "<p>252108 rows × 10 columns</p>\n",
       "</div>"
      ],
      "text/plain": [
       "                          id day_of_week  holiday           genre  \\\n",
       "0       air_ba937bf13d40fb24   Wednesday        0      Dining bar   \n",
       "1       air_ba937bf13d40fb24    Thursday        0      Dining bar   \n",
       "2       air_ba937bf13d40fb24      Friday        0      Dining bar   \n",
       "3       air_ba937bf13d40fb24    Saturday        0      Dining bar   \n",
       "4       air_ba937bf13d40fb24      Monday        0      Dining bar   \n",
       "...                      ...         ...      ...             ...   \n",
       "252103  air_a17f0778617c76e2      Friday        0  Italian/French   \n",
       "252104  air_a17f0778617c76e2    Saturday        0  Italian/French   \n",
       "252105  air_a17f0778617c76e2      Sunday        0  Italian/French   \n",
       "252106  air_a17f0778617c76e2      Monday        1  Italian/French   \n",
       "252107  air_a17f0778617c76e2      Sunday        0  Italian/French   \n",
       "\n",
       "                                area   latitude   longitude  reserve_visitors  \\\n",
       "0       Tōkyō-to Minato-ku Shibakōen  35.658068  139.751599               0.0   \n",
       "1       Tōkyō-to Minato-ku Shibakōen  35.658068  139.751599               0.0   \n",
       "2       Tōkyō-to Minato-ku Shibakōen  35.658068  139.751599               0.0   \n",
       "3       Tōkyō-to Minato-ku Shibakōen  35.658068  139.751599               0.0   \n",
       "4       Tōkyō-to Minato-ku Shibakōen  35.658068  139.751599               0.0   \n",
       "...                              ...        ...         ...               ...   \n",
       "252103  Hyōgo-ken Kōbe-shi Kumoidōri  34.695124  135.197852               6.0   \n",
       "252104  Hyōgo-ken Kōbe-shi Kumoidōri  34.695124  135.197852              37.0   \n",
       "252105  Hyōgo-ken Kōbe-shi Kumoidōri  34.695124  135.197852              35.0   \n",
       "252106  Hyōgo-ken Kōbe-shi Kumoidōri  34.695124  135.197852               3.0   \n",
       "252107  Hyōgo-ken Kōbe-shi Kumoidōri  34.695124  135.197852              32.0   \n",
       "\n",
       "        month  year  \n",
       "0           1  2016  \n",
       "1           1  2016  \n",
       "2           1  2016  \n",
       "3           1  2016  \n",
       "4           1  2016  \n",
       "...       ...   ...  \n",
       "252103      4  2017  \n",
       "252104      4  2017  \n",
       "252105      3  2017  \n",
       "252106      3  2017  \n",
       "252107      4  2017  \n",
       "\n",
       "[252108 rows x 10 columns]"
      ]
     },
     "execution_count": 9,
     "metadata": {},
     "output_type": "execute_result"
    }
   ],
   "source": [
    "X"
   ]
  },
  {
   "cell_type": "code",
   "execution_count": 35,
   "metadata": {},
   "outputs": [],
   "source": [
    "ore = ce.OrdinalEncoder()\n",
    "X1 = ore.fit_transform(X)"
   ]
  },
  {
   "cell_type": "code",
   "execution_count": 36,
   "metadata": {
    "scrolled": true
   },
   "outputs": [
    {
     "data": {
      "text/plain": [
       "[{'col': 'id',\n",
       "  'mapping': air_ba937bf13d40fb24      1\n",
       "  air_25e9888d30b386df      2\n",
       "  air_fd6aac1043520e83      3\n",
       "  air_64d4491ad8cdb1c6      4\n",
       "  air_ee3a01f0c71a769f      5\n",
       "                         ... \n",
       "  air_cf5ab75a0afb8af9    826\n",
       "  air_1c0b150f9e696a5f    827\n",
       "  air_900d755ebd2f7bbd    828\n",
       "  air_a17f0778617c76e2    829\n",
       "  NaN                      -2\n",
       "  Length: 830, dtype: int64,\n",
       "  'data_type': dtype('O')},\n",
       " {'col': 'calendar_date',\n",
       "  'mapping': 2016-01-13      1\n",
       "  2016-01-14      2\n",
       "  2016-01-15      3\n",
       "  2016-01-16      4\n",
       "  2016-01-18      5\n",
       "               ... \n",
       "  2016-01-01    475\n",
       "  2016-01-03    476\n",
       "  2017-01-02    477\n",
       "  2016-01-02    478\n",
       "  NaN            -2\n",
       "  Length: 479, dtype: int64,\n",
       "  'data_type': dtype('O')},\n",
       " {'col': 'day_of_week',\n",
       "  'mapping': Wednesday    1\n",
       "  Thursday     2\n",
       "  Friday       3\n",
       "  Saturday     4\n",
       "  Monday       5\n",
       "  Tuesday      6\n",
       "  Sunday       7\n",
       "  NaN         -2\n",
       "  dtype: int64,\n",
       "  'data_type': dtype('O')},\n",
       " {'col': 'genre',\n",
       "  'mapping': Dining bar                       1\n",
       "  Izakaya                          2\n",
       "  Cafe/Sweets                      3\n",
       "  Italian/French                   4\n",
       "  Other                            5\n",
       "  Yakiniku/Korean food             6\n",
       "  Japanese food                    7\n",
       "  Okonomiyaki/Monja/Teppanyaki     8\n",
       "  Bar/Cocktail                     9\n",
       "  Creative cuisine                10\n",
       "  Western food                    11\n",
       "  Asian                           12\n",
       "  International cuisine           13\n",
       "  Karaoke/Party                   14\n",
       "  NaN                             -2\n",
       "  dtype: int64,\n",
       "  'data_type': dtype('O')},\n",
       " {'col': 'area',\n",
       "  'mapping': Tōkyō-to Minato-ku Shibakōen                   1\n",
       "  Tōkyō-to Shinagawa-ku Higashigotanda           2\n",
       "  Shizuoka-ken Hamamatsu-shi Motoshirochō        3\n",
       "  Fukuoka-ken Fukuoka-shi Daimyō                 4\n",
       "  Hyōgo-ken Kōbe-shi Sumiyoshi Higashimachi      5\n",
       "                                              ... \n",
       "  Tōkyō-to Meguro-ku Jiyūgaoka                 100\n",
       "  Fukuoka-ken Fukuoka-shi Imaizumi             101\n",
       "  Tōkyō-to Shibuya-ku Higashi                  102\n",
       "  Tōkyō-to Setagaya-ku Kitazawa                103\n",
       "  NaN                                           -2\n",
       "  Length: 104, dtype: int64,\n",
       "  'data_type': dtype('O')}]"
      ]
     },
     "execution_count": 36,
     "metadata": {},
     "output_type": "execute_result"
    }
   ],
   "source": [
    "ore.mapping"
   ]
  },
  {
   "cell_type": "markdown",
   "metadata": {},
   "source": [
    "**2b:** Initialize a `DecisionTreeRegressor` with a `max_depth` set to 5, check the model score to see how it performed using the `score` method."
   ]
  },
  {
   "cell_type": "code",
   "execution_count": 37,
   "metadata": {},
   "outputs": [
    {
     "data": {
      "text/plain": [
       "0.044156862264541186"
      ]
     },
     "execution_count": 37,
     "metadata": {},
     "output_type": "execute_result"
    }
   ],
   "source": [
    "tree = DecisionTreeRegressor(max_depth = 3)\n",
    "tree.fit(X1, y)\n",
    "tree.score(X1, y)"
   ]
  },
  {
   "cell_type": "code",
   "execution_count": 29,
   "metadata": {},
   "outputs": [
    {
     "data": {
      "image/png": "[encoded data removed]",
      "text/plain": [
       "<Figure size 1296x864 with 1 Axes>"
      ]
     },
     "metadata": {
      "needs_background": "light"
     },
     "output_type": "display_data"
    }
   ],
   "source": [
    "plt.figure(figsize = (18, 12))\n",
    "plot_tree(tree, fontsize = 12, filled=True, feature_names = X.columns);"
   ]
  },
  {
   "cell_type": "markdown",
   "metadata": {},
   "source": [
    "**2c:** Repeat these same steps for the `TargetEncoder` and the `OneHotEncoder`\n",
    "\n",
    "**Important:** The `OneHotEncoder` can take awhile to fit.  If nothing happens in around 4 minutes, just cancel the process and try it again later on when you have more time."
   ]
  },
  {
   "cell_type": "code",
   "execution_count": 23,
   "metadata": {},
   "outputs": [],
   "source": [
    "ohe = ce.OneHotEncoder()"
   ]
  },
  {
   "cell_type": "code",
   "execution_count": 38,
   "metadata": {},
   "outputs": [
    {
     "data": {
      "text/plain": [
       "0.05552937733848129"
      ]
     },
     "execution_count": 38,
     "metadata": {},
     "output_type": "execute_result"
    }
   ],
   "source": [
    "# your code here\n",
    "ohe = ce.OneHotEncoder()\n",
    "X2  = ohe.fit_transform(X)\n",
    "tree.fit(X2, y)\n",
    "tree.score(X2, y)"
   ]
  },
  {
   "cell_type": "code",
   "execution_count": 40,
   "metadata": {},
   "outputs": [],
   "source": [
    "te = ce.TargetEncoder()"
   ]
  },
  {
   "cell_type": "code",
   "execution_count": 48,
   "metadata": {},
   "outputs": [],
   "source": [
    "X3 = te.fit_transform(X, y)"
   ]
  },
  {
   "cell_type": "code",
   "execution_count": 49,
   "metadata": {},
   "outputs": [
    {
     "data": {
      "text/plain": [
       "DecisionTreeRegressor(max_depth=3)"
      ]
     },
     "execution_count": 49,
     "metadata": {},
     "output_type": "execute_result"
    }
   ],
   "source": [
    "tree = DecisionTreeRegressor(max_depth = 3)\n",
    "tree.fit(X3, y)"
   ]
  },
  {
   "cell_type": "code",
   "execution_count": 50,
   "metadata": {},
   "outputs": [
    {
     "data": {
      "text/plain": [
       "0.4232506055497004"
      ]
     },
     "execution_count": 50,
     "metadata": {},
     "output_type": "execute_result"
    }
   ],
   "source": [
    "tree.score(X3, y)"
   ]
  },
  {
   "cell_type": "markdown",
   "metadata": {},
   "source": [
    "**Step 3:** Look at your most important features\n",
    "\n",
    "Similar to the previous lab, take your model's most important features and load them into a dataframe to see what's driving your results."
   ]
  },
  {
   "cell_type": "code",
   "execution_count": 51,
   "metadata": {},
   "outputs": [
    {
     "data": {
      "text/html": [
       "<div>\n",
       "<style scoped>\n",
       "    .dataframe tbody tr th:only-of-type {\n",
       "        vertical-align: middle;\n",
       "    }\n",
       "\n",
       "    .dataframe tbody tr th {\n",
       "        vertical-align: top;\n",
       "    }\n",
       "\n",
       "    .dataframe thead th {\n",
       "        text-align: right;\n",
       "    }\n",
       "</style>\n",
       "<table border=\"1\" class=\"dataframe\">\n",
       "  <thead>\n",
       "    <tr style=\"text-align: right;\">\n",
       "      <th></th>\n",
       "      <th>Columns</th>\n",
       "      <th>Importance</th>\n",
       "    </tr>\n",
       "  </thead>\n",
       "  <tbody>\n",
       "    <tr>\n",
       "      <th>0</th>\n",
       "      <td>id</td>\n",
       "      <td>0.887216</td>\n",
       "    </tr>\n",
       "    <tr>\n",
       "      <th>1</th>\n",
       "      <td>calendar_date</td>\n",
       "      <td>0.112784</td>\n",
       "    </tr>\n",
       "    <tr>\n",
       "      <th>2</th>\n",
       "      <td>day_of_week</td>\n",
       "      <td>0.000000</td>\n",
       "    </tr>\n",
       "    <tr>\n",
       "      <th>3</th>\n",
       "      <td>holiday</td>\n",
       "      <td>0.000000</td>\n",
       "    </tr>\n",
       "    <tr>\n",
       "      <th>4</th>\n",
       "      <td>genre</td>\n",
       "      <td>0.000000</td>\n",
       "    </tr>\n",
       "    <tr>\n",
       "      <th>5</th>\n",
       "      <td>area</td>\n",
       "      <td>0.000000</td>\n",
       "    </tr>\n",
       "    <tr>\n",
       "      <th>6</th>\n",
       "      <td>latitude</td>\n",
       "      <td>0.000000</td>\n",
       "    </tr>\n",
       "    <tr>\n",
       "      <th>7</th>\n",
       "      <td>longitude</td>\n",
       "      <td>0.000000</td>\n",
       "    </tr>\n",
       "    <tr>\n",
       "      <th>8</th>\n",
       "      <td>reserve_visitors</td>\n",
       "      <td>0.000000</td>\n",
       "    </tr>\n",
       "    <tr>\n",
       "      <th>9</th>\n",
       "      <td>month</td>\n",
       "      <td>0.000000</td>\n",
       "    </tr>\n",
       "    <tr>\n",
       "      <th>10</th>\n",
       "      <td>year</td>\n",
       "      <td>0.000000</td>\n",
       "    </tr>\n",
       "  </tbody>\n",
       "</table>\n",
       "</div>"
      ],
      "text/plain": [
       "             Columns  Importance\n",
       "0                 id    0.887216\n",
       "1      calendar_date    0.112784\n",
       "2        day_of_week    0.000000\n",
       "3            holiday    0.000000\n",
       "4              genre    0.000000\n",
       "5               area    0.000000\n",
       "6           latitude    0.000000\n",
       "7          longitude    0.000000\n",
       "8   reserve_visitors    0.000000\n",
       "9              month    0.000000\n",
       "10              year    0.000000"
      ]
     },
     "execution_count": 51,
     "metadata": {},
     "output_type": "execute_result"
    }
   ],
   "source": [
    "# your code here\n",
    "feats = pd.DataFrame({\n",
    "    'Columns': X3.columns,\n",
    "    'Importance': tree.feature_importances_\n",
    "}).sort_values(by = 'Importance', ascending = False)\n",
    "\n",
    "feats"
   ]
  },
  {
   "cell_type": "markdown",
   "metadata": {},
   "source": [
    "**Step 4:** Using the pipeline that was discussed in class, try and do the following:\n",
    " \n",
    " - Create a pipeline for the encoder that worked best for the previous step, and a decision tree with the same parameters that were used previously\n",
    "\n",
    " - Create an in-sample and out-of-sample portion for your dataset.  The in sample portion will be all rows for each restaurant for the dataset, up until the last 15.  The out-of-sample portion of your data will be the last 15 days for each restaurant.  (This same task was completed in an earlier lab, so feel free to use that as a reference if you're not sure how to do this).\n",
    " \n",
    " - Fit your model on the training set, and then score it on the test set.  Note how the two different values differ."
   ]
  },
  {
   "cell_type": "code",
   "execution_count": 55,
   "metadata": {},
   "outputs": [],
   "source": [
    "from sklearn.pipeline import make_pipeline\n",
    "tree = DecisionTreeRegressor(max_depth = 5)\n",
    "pipe = make_pipeline(te, tree)\n"
   ]
  },
  {
   "cell_type": "code",
   "execution_count": 58,
   "metadata": {},
   "outputs": [],
   "source": [
    "train = df.groupby('id').apply(lambda x: x.iloc[:-15])\n",
    "test  = df.groupby('id').apply(lambda x: x.iloc[-15:])"
   ]
  },
  {
   "cell_type": "code",
   "execution_count": 60,
   "metadata": {},
   "outputs": [],
   "source": [
    "X_train = train.drop(['visit_date','visitors'], axis=1)\n",
    "y_train = train['visitors']\n",
    "# and for the test set\n",
    "X_test = test.drop(['visit_date', 'visitors'], axis = 1)\n",
    "y_test = test['visitors']"
   ]
  },
  {
   "cell_type": "code",
   "execution_count": 61,
   "metadata": {},
   "outputs": [
    {
     "data": {
      "text/plain": [
       "0.36944094661425686"
      ]
     },
     "execution_count": 61,
     "metadata": {},
     "output_type": "execute_result"
    }
   ],
   "source": [
    "# make our pipeline\n",
    "pipe = make_pipeline(te, tree)\n",
    "\n",
    "# fit on the in-sample data\n",
    "pipe.fit(X_train, y_train)\n",
    "\n",
    "# score on the out of sample data\n",
    "pipe.score(X_test, y_test)"
   ]
  },
  {
   "cell_type": "code",
   "execution_count": 62,
   "metadata": {},
   "outputs": [
    {
     "data": {
      "text/plain": [
       "Pipeline(steps=[('targetencoder',\n",
       "                 TargetEncoder(cols=['id', 'calendar_date', 'day_of_week',\n",
       "                                     'genre', 'area'])),\n",
       "                ('decisiontreeregressor', DecisionTreeRegressor(max_depth=5))])"
      ]
     },
     "execution_count": 62,
     "metadata": {},
     "output_type": "execute_result"
    }
   ],
   "source": [
    "pipe"
   ]
  },
  {
   "cell_type": "code",
   "execution_count": null,
   "metadata": {},
   "outputs": [],
   "source": []
  }
 ],
 "metadata": {
  "kernelspec": {
   "display_name": "Python 3",
   "language": "python",
   "name": "python3"
  },
  "language_info": {
   "codemirror_mode": {
    "name": "ipython",
    "version": 3
   },
   "file_extension": ".py",
   "mimetype": "text/x-python",
   "name": "python",
   "nbconvert_exporter": "python",
   "pygments_lexer": "ipython3",
   "version": "3.8.8"
  }
 },
 "nbformat": 4,
 "nbformat_minor": 4
}
