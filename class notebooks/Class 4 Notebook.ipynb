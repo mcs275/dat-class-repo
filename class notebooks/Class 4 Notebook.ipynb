{
 "cells": [
  {
   "cell_type": "code",
   "execution_count": 9,
   "id": "ae1625b2",
   "metadata": {},
   "outputs": [],
   "source": [
    "import pandas as pd\n",
    "import numpy as np\n",
    "df = pd.read_csv('/Users/mcs275/dat-11-15/ClassMaterial/Unit1/data/master.csv')"
   ]
  },
  {
   "cell_type": "code",
   "execution_count": 10,
   "id": "87c408e6",
   "metadata": {},
   "outputs": [
    {
     "data": {
      "text/html": [
       "<div>\n",
       "<style scoped>\n",
       "    .dataframe tbody tr th:only-of-type {\n",
       "        vertical-align: middle;\n",
       "    }\n",
       "\n",
       "    .dataframe tbody tr th {\n",
       "        vertical-align: top;\n",
       "    }\n",
       "\n",
       "    .dataframe thead th {\n",
       "        text-align: right;\n",
       "    }\n",
       "</style>\n",
       "<table border=\"1\" class=\"dataframe\">\n",
       "  <thead>\n",
       "    <tr style=\"text-align: right;\">\n",
       "      <th></th>\n",
       "      <th>id</th>\n",
       "      <th>visit_date</th>\n",
       "      <th>visitors</th>\n",
       "      <th>day_of_week</th>\n",
       "      <th>holiday</th>\n",
       "      <th>genre</th>\n",
       "      <th>area</th>\n",
       "      <th>latitude</th>\n",
       "      <th>longitude</th>\n",
       "      <th>reserve_visitors</th>\n",
       "    </tr>\n",
       "  </thead>\n",
       "  <tbody>\n",
       "    <tr>\n",
       "      <th>0</th>\n",
       "      <td>air_ba937bf13d40fb24</td>\n",
       "      <td>2016-01-13</td>\n",
       "      <td>25</td>\n",
       "      <td>Wednesday</td>\n",
       "      <td>0</td>\n",
       "      <td>Dining bar</td>\n",
       "      <td>Tōkyō-to Minato-ku Shibakōen</td>\n",
       "      <td>35.658068</td>\n",
       "      <td>139.751599</td>\n",
       "      <td>NaN</td>\n",
       "    </tr>\n",
       "    <tr>\n",
       "      <th>1</th>\n",
       "      <td>air_ba937bf13d40fb24</td>\n",
       "      <td>2016-01-14</td>\n",
       "      <td>32</td>\n",
       "      <td>Thursday</td>\n",
       "      <td>0</td>\n",
       "      <td>Dining bar</td>\n",
       "      <td>Tōkyō-to Minato-ku Shibakōen</td>\n",
       "      <td>35.658068</td>\n",
       "      <td>139.751599</td>\n",
       "      <td>NaN</td>\n",
       "    </tr>\n",
       "    <tr>\n",
       "      <th>2</th>\n",
       "      <td>air_ba937bf13d40fb24</td>\n",
       "      <td>2016-01-15</td>\n",
       "      <td>29</td>\n",
       "      <td>Friday</td>\n",
       "      <td>0</td>\n",
       "      <td>Dining bar</td>\n",
       "      <td>Tōkyō-to Minato-ku Shibakōen</td>\n",
       "      <td>35.658068</td>\n",
       "      <td>139.751599</td>\n",
       "      <td>NaN</td>\n",
       "    </tr>\n",
       "    <tr>\n",
       "      <th>3</th>\n",
       "      <td>air_ba937bf13d40fb24</td>\n",
       "      <td>2016-01-16</td>\n",
       "      <td>22</td>\n",
       "      <td>Saturday</td>\n",
       "      <td>0</td>\n",
       "      <td>Dining bar</td>\n",
       "      <td>Tōkyō-to Minato-ku Shibakōen</td>\n",
       "      <td>35.658068</td>\n",
       "      <td>139.751599</td>\n",
       "      <td>NaN</td>\n",
       "    </tr>\n",
       "    <tr>\n",
       "      <th>4</th>\n",
       "      <td>air_ba937bf13d40fb24</td>\n",
       "      <td>2016-01-18</td>\n",
       "      <td>6</td>\n",
       "      <td>Monday</td>\n",
       "      <td>0</td>\n",
       "      <td>Dining bar</td>\n",
       "      <td>Tōkyō-to Minato-ku Shibakōen</td>\n",
       "      <td>35.658068</td>\n",
       "      <td>139.751599</td>\n",
       "      <td>NaN</td>\n",
       "    </tr>\n",
       "  </tbody>\n",
       "</table>\n",
       "</div>"
      ],
      "text/plain": [
       "                     id  visit_date  visitors day_of_week  holiday  \\\n",
       "0  air_ba937bf13d40fb24  2016-01-13        25   Wednesday        0   \n",
       "1  air_ba937bf13d40fb24  2016-01-14        32    Thursday        0   \n",
       "2  air_ba937bf13d40fb24  2016-01-15        29      Friday        0   \n",
       "3  air_ba937bf13d40fb24  2016-01-16        22    Saturday        0   \n",
       "4  air_ba937bf13d40fb24  2016-01-18         6      Monday        0   \n",
       "\n",
       "        genre                          area   latitude   longitude  \\\n",
       "0  Dining bar  Tōkyō-to Minato-ku Shibakōen  35.658068  139.751599   \n",
       "1  Dining bar  Tōkyō-to Minato-ku Shibakōen  35.658068  139.751599   \n",
       "2  Dining bar  Tōkyō-to Minato-ku Shibakōen  35.658068  139.751599   \n",
       "3  Dining bar  Tōkyō-to Minato-ku Shibakōen  35.658068  139.751599   \n",
       "4  Dining bar  Tōkyō-to Minato-ku Shibakōen  35.658068  139.751599   \n",
       "\n",
       "   reserve_visitors  \n",
       "0               NaN  \n",
       "1               NaN  \n",
       "2               NaN  \n",
       "3               NaN  \n",
       "4               NaN  "
      ]
     },
     "execution_count": 10,
     "metadata": {},
     "output_type": "execute_result"
    }
   ],
   "source": [
    "df.head()"
   ]
  },
  {
   "cell_type": "code",
   "execution_count": 11,
   "id": "f535677c",
   "metadata": {},
   "outputs": [
    {
     "data": {
      "text/plain": [
       "array(['Weekday', 'Weekday', 'Weekday', ..., 'Weekday', 'Weekday',\n",
       "       'Weekday'], dtype='<U7')"
      ]
     },
     "execution_count": 11,
     "metadata": {},
     "output_type": "execute_result"
    }
   ],
   "source": [
    "##returns array of values for each row\n",
    "np.where(df['day_of_week'].isin(['Saturday','SUnday']), 'Weekend','Weekday')"
   ]
  },
  {
   "cell_type": "code",
   "execution_count": 12,
   "id": "a104ee9a",
   "metadata": {},
   "outputs": [],
   "source": [
    "df['PartofWeek'] = np.where(df['day_of_week'].isin(['Saturday','SUnday']), 'Weekend','Weekday')"
   ]
  },
  {
   "cell_type": "code",
   "execution_count": 13,
   "id": "364c2e21",
   "metadata": {},
   "outputs": [
    {
     "data": {
      "text/html": [
       "<div>\n",
       "<style scoped>\n",
       "    .dataframe tbody tr th:only-of-type {\n",
       "        vertical-align: middle;\n",
       "    }\n",
       "\n",
       "    .dataframe tbody tr th {\n",
       "        vertical-align: top;\n",
       "    }\n",
       "\n",
       "    .dataframe thead th {\n",
       "        text-align: right;\n",
       "    }\n",
       "</style>\n",
       "<table border=\"1\" class=\"dataframe\">\n",
       "  <thead>\n",
       "    <tr style=\"text-align: right;\">\n",
       "      <th></th>\n",
       "      <th>id</th>\n",
       "      <th>visit_date</th>\n",
       "      <th>visitors</th>\n",
       "      <th>day_of_week</th>\n",
       "      <th>holiday</th>\n",
       "      <th>genre</th>\n",
       "      <th>area</th>\n",
       "      <th>latitude</th>\n",
       "      <th>longitude</th>\n",
       "      <th>reserve_visitors</th>\n",
       "      <th>PartofWeek</th>\n",
       "    </tr>\n",
       "  </thead>\n",
       "  <tbody>\n",
       "    <tr>\n",
       "      <th>0</th>\n",
       "      <td>air_ba937bf13d40fb24</td>\n",
       "      <td>2016-01-13</td>\n",
       "      <td>25</td>\n",
       "      <td>Wednesday</td>\n",
       "      <td>0</td>\n",
       "      <td>Dining bar</td>\n",
       "      <td>Tōkyō-to Minato-ku Shibakōen</td>\n",
       "      <td>35.658068</td>\n",
       "      <td>139.751599</td>\n",
       "      <td>NaN</td>\n",
       "      <td>Weekday</td>\n",
       "    </tr>\n",
       "    <tr>\n",
       "      <th>1</th>\n",
       "      <td>air_ba937bf13d40fb24</td>\n",
       "      <td>2016-01-14</td>\n",
       "      <td>32</td>\n",
       "      <td>Thursday</td>\n",
       "      <td>0</td>\n",
       "      <td>Dining bar</td>\n",
       "      <td>Tōkyō-to Minato-ku Shibakōen</td>\n",
       "      <td>35.658068</td>\n",
       "      <td>139.751599</td>\n",
       "      <td>NaN</td>\n",
       "      <td>Weekday</td>\n",
       "    </tr>\n",
       "    <tr>\n",
       "      <th>2</th>\n",
       "      <td>air_ba937bf13d40fb24</td>\n",
       "      <td>2016-01-15</td>\n",
       "      <td>29</td>\n",
       "      <td>Friday</td>\n",
       "      <td>0</td>\n",
       "      <td>Dining bar</td>\n",
       "      <td>Tōkyō-to Minato-ku Shibakōen</td>\n",
       "      <td>35.658068</td>\n",
       "      <td>139.751599</td>\n",
       "      <td>NaN</td>\n",
       "      <td>Weekday</td>\n",
       "    </tr>\n",
       "    <tr>\n",
       "      <th>3</th>\n",
       "      <td>air_ba937bf13d40fb24</td>\n",
       "      <td>2016-01-16</td>\n",
       "      <td>22</td>\n",
       "      <td>Saturday</td>\n",
       "      <td>0</td>\n",
       "      <td>Dining bar</td>\n",
       "      <td>Tōkyō-to Minato-ku Shibakōen</td>\n",
       "      <td>35.658068</td>\n",
       "      <td>139.751599</td>\n",
       "      <td>NaN</td>\n",
       "      <td>Weekend</td>\n",
       "    </tr>\n",
       "    <tr>\n",
       "      <th>4</th>\n",
       "      <td>air_ba937bf13d40fb24</td>\n",
       "      <td>2016-01-18</td>\n",
       "      <td>6</td>\n",
       "      <td>Monday</td>\n",
       "      <td>0</td>\n",
       "      <td>Dining bar</td>\n",
       "      <td>Tōkyō-to Minato-ku Shibakōen</td>\n",
       "      <td>35.658068</td>\n",
       "      <td>139.751599</td>\n",
       "      <td>NaN</td>\n",
       "      <td>Weekday</td>\n",
       "    </tr>\n",
       "  </tbody>\n",
       "</table>\n",
       "</div>"
      ],
      "text/plain": [
       "                     id  visit_date  visitors day_of_week  holiday  \\\n",
       "0  air_ba937bf13d40fb24  2016-01-13        25   Wednesday        0   \n",
       "1  air_ba937bf13d40fb24  2016-01-14        32    Thursday        0   \n",
       "2  air_ba937bf13d40fb24  2016-01-15        29      Friday        0   \n",
       "3  air_ba937bf13d40fb24  2016-01-16        22    Saturday        0   \n",
       "4  air_ba937bf13d40fb24  2016-01-18         6      Monday        0   \n",
       "\n",
       "        genre                          area   latitude   longitude  \\\n",
       "0  Dining bar  Tōkyō-to Minato-ku Shibakōen  35.658068  139.751599   \n",
       "1  Dining bar  Tōkyō-to Minato-ku Shibakōen  35.658068  139.751599   \n",
       "2  Dining bar  Tōkyō-to Minato-ku Shibakōen  35.658068  139.751599   \n",
       "3  Dining bar  Tōkyō-to Minato-ku Shibakōen  35.658068  139.751599   \n",
       "4  Dining bar  Tōkyō-to Minato-ku Shibakōen  35.658068  139.751599   \n",
       "\n",
       "   reserve_visitors PartofWeek  \n",
       "0               NaN    Weekday  \n",
       "1               NaN    Weekday  \n",
       "2               NaN    Weekday  \n",
       "3               NaN    Weekend  \n",
       "4               NaN    Weekday  "
      ]
     },
     "execution_count": 13,
     "metadata": {},
     "output_type": "execute_result"
    }
   ],
   "source": [
    "df.head()"
   ]
  },
  {
   "cell_type": "code",
   "execution_count": 14,
   "id": "38aad15d",
   "metadata": {},
   "outputs": [],
   "source": [
    "##if you want to check for multiple conditions, the select method from numpy is best"
   ]
  },
  {
   "cell_type": "code",
   "execution_count": 18,
   "id": "71acf272",
   "metadata": {},
   "outputs": [],
   "source": [
    "conditions = [ \n",
    "    df['visitors'] < 20,\n",
    "    df['visitors'].between(21, 30),\n",
    "    df['visitors'] > 30\n",
    "]\n",
    "results = [\n",
    "    'Low Traffic',\n",
    "    'Medium Traffic',\n",
    "    'High Traffic'\n",
    "]\n",
    "\n",
    "df['Traffic'] = np.select(conditions, results, 'Other')"
   ]
  },
  {
   "cell_type": "code",
   "execution_count": 19,
   "id": "014decef",
   "metadata": {},
   "outputs": [
    {
     "data": {
      "text/html": [
       "<div>\n",
       "<style scoped>\n",
       "    .dataframe tbody tr th:only-of-type {\n",
       "        vertical-align: middle;\n",
       "    }\n",
       "\n",
       "    .dataframe tbody tr th {\n",
       "        vertical-align: top;\n",
       "    }\n",
       "\n",
       "    .dataframe thead th {\n",
       "        text-align: right;\n",
       "    }\n",
       "</style>\n",
       "<table border=\"1\" class=\"dataframe\">\n",
       "  <thead>\n",
       "    <tr style=\"text-align: right;\">\n",
       "      <th></th>\n",
       "      <th>id</th>\n",
       "      <th>visit_date</th>\n",
       "      <th>visitors</th>\n",
       "      <th>day_of_week</th>\n",
       "      <th>holiday</th>\n",
       "      <th>genre</th>\n",
       "      <th>area</th>\n",
       "      <th>latitude</th>\n",
       "      <th>longitude</th>\n",
       "      <th>reserve_visitors</th>\n",
       "      <th>PartofWeek</th>\n",
       "      <th>Traffic</th>\n",
       "    </tr>\n",
       "  </thead>\n",
       "  <tbody>\n",
       "    <tr>\n",
       "      <th>0</th>\n",
       "      <td>air_ba937bf13d40fb24</td>\n",
       "      <td>2016-01-13</td>\n",
       "      <td>25</td>\n",
       "      <td>Wednesday</td>\n",
       "      <td>0</td>\n",
       "      <td>Dining bar</td>\n",
       "      <td>Tōkyō-to Minato-ku Shibakōen</td>\n",
       "      <td>35.658068</td>\n",
       "      <td>139.751599</td>\n",
       "      <td>NaN</td>\n",
       "      <td>Weekday</td>\n",
       "      <td>Medium Traffic</td>\n",
       "    </tr>\n",
       "    <tr>\n",
       "      <th>1</th>\n",
       "      <td>air_ba937bf13d40fb24</td>\n",
       "      <td>2016-01-14</td>\n",
       "      <td>32</td>\n",
       "      <td>Thursday</td>\n",
       "      <td>0</td>\n",
       "      <td>Dining bar</td>\n",
       "      <td>Tōkyō-to Minato-ku Shibakōen</td>\n",
       "      <td>35.658068</td>\n",
       "      <td>139.751599</td>\n",
       "      <td>NaN</td>\n",
       "      <td>Weekday</td>\n",
       "      <td>High Traffic</td>\n",
       "    </tr>\n",
       "    <tr>\n",
       "      <th>2</th>\n",
       "      <td>air_ba937bf13d40fb24</td>\n",
       "      <td>2016-01-15</td>\n",
       "      <td>29</td>\n",
       "      <td>Friday</td>\n",
       "      <td>0</td>\n",
       "      <td>Dining bar</td>\n",
       "      <td>Tōkyō-to Minato-ku Shibakōen</td>\n",
       "      <td>35.658068</td>\n",
       "      <td>139.751599</td>\n",
       "      <td>NaN</td>\n",
       "      <td>Weekday</td>\n",
       "      <td>Medium Traffic</td>\n",
       "    </tr>\n",
       "    <tr>\n",
       "      <th>3</th>\n",
       "      <td>air_ba937bf13d40fb24</td>\n",
       "      <td>2016-01-16</td>\n",
       "      <td>22</td>\n",
       "      <td>Saturday</td>\n",
       "      <td>0</td>\n",
       "      <td>Dining bar</td>\n",
       "      <td>Tōkyō-to Minato-ku Shibakōen</td>\n",
       "      <td>35.658068</td>\n",
       "      <td>139.751599</td>\n",
       "      <td>NaN</td>\n",
       "      <td>Weekend</td>\n",
       "      <td>Medium Traffic</td>\n",
       "    </tr>\n",
       "    <tr>\n",
       "      <th>4</th>\n",
       "      <td>air_ba937bf13d40fb24</td>\n",
       "      <td>2016-01-18</td>\n",
       "      <td>6</td>\n",
       "      <td>Monday</td>\n",
       "      <td>0</td>\n",
       "      <td>Dining bar</td>\n",
       "      <td>Tōkyō-to Minato-ku Shibakōen</td>\n",
       "      <td>35.658068</td>\n",
       "      <td>139.751599</td>\n",
       "      <td>NaN</td>\n",
       "      <td>Weekday</td>\n",
       "      <td>Low Traffic</td>\n",
       "    </tr>\n",
       "  </tbody>\n",
       "</table>\n",
       "</div>"
      ],
      "text/plain": [
       "                     id  visit_date  visitors day_of_week  holiday  \\\n",
       "0  air_ba937bf13d40fb24  2016-01-13        25   Wednesday        0   \n",
       "1  air_ba937bf13d40fb24  2016-01-14        32    Thursday        0   \n",
       "2  air_ba937bf13d40fb24  2016-01-15        29      Friday        0   \n",
       "3  air_ba937bf13d40fb24  2016-01-16        22    Saturday        0   \n",
       "4  air_ba937bf13d40fb24  2016-01-18         6      Monday        0   \n",
       "\n",
       "        genre                          area   latitude   longitude  \\\n",
       "0  Dining bar  Tōkyō-to Minato-ku Shibakōen  35.658068  139.751599   \n",
       "1  Dining bar  Tōkyō-to Minato-ku Shibakōen  35.658068  139.751599   \n",
       "2  Dining bar  Tōkyō-to Minato-ku Shibakōen  35.658068  139.751599   \n",
       "3  Dining bar  Tōkyō-to Minato-ku Shibakōen  35.658068  139.751599   \n",
       "4  Dining bar  Tōkyō-to Minato-ku Shibakōen  35.658068  139.751599   \n",
       "\n",
       "   reserve_visitors PartofWeek         Traffic  \n",
       "0               NaN    Weekday  Medium Traffic  \n",
       "1               NaN    Weekday    High Traffic  \n",
       "2               NaN    Weekday  Medium Traffic  \n",
       "3               NaN    Weekend  Medium Traffic  \n",
       "4               NaN    Weekday     Low Traffic  "
      ]
     },
     "execution_count": 19,
     "metadata": {},
     "output_type": "execute_result"
    }
   ],
   "source": [
    "df.head()"
   ]
  },
  {
   "cell_type": "code",
   "execution_count": 20,
   "id": "277081ea",
   "metadata": {},
   "outputs": [],
   "source": [
    "def clean_string(value):\n",
    "    return value.lower().replace('-','.')"
   ]
  },
  {
   "cell_type": "code",
   "execution_count": 21,
   "id": "240b12ff",
   "metadata": {},
   "outputs": [
    {
     "data": {
      "text/plain": [
       "'the.best way to.do things'"
      ]
     },
     "execution_count": 21,
     "metadata": {},
     "output_type": "execute_result"
    }
   ],
   "source": [
    "clean_string('The-best Way to.do things')"
   ]
  },
  {
   "cell_type": "code",
   "execution_count": 22,
   "id": "7aca2d17",
   "metadata": {},
   "outputs": [
    {
     "data": {
      "text/plain": [
       "0         tōkyō.to minato.ku shibakōen\n",
       "1         tōkyō.to minato.ku shibakōen\n",
       "2         tōkyō.to minato.ku shibakōen\n",
       "3         tōkyō.to minato.ku shibakōen\n",
       "4         tōkyō.to minato.ku shibakōen\n",
       "                      ...             \n",
       "252103    hyōgo.ken kōbe.shi kumoidōri\n",
       "252104    hyōgo.ken kōbe.shi kumoidōri\n",
       "252105    hyōgo.ken kōbe.shi kumoidōri\n",
       "252106    hyōgo.ken kōbe.shi kumoidōri\n",
       "252107    hyōgo.ken kōbe.shi kumoidōri\n",
       "Name: area, Length: 252108, dtype: object"
      ]
     },
     "execution_count": 22,
     "metadata": {},
     "output_type": "execute_result"
    }
   ],
   "source": [
    "##pass function to column\n",
    "df['area'].apply(clean_string)"
   ]
  },
  {
   "cell_type": "code",
   "execution_count": 23,
   "id": "3978f179",
   "metadata": {},
   "outputs": [
    {
     "data": {
      "text/plain": [
       "10.0"
      ]
     },
     "execution_count": 23,
     "metadata": {},
     "output_type": "execute_result"
    }
   ],
   "source": [
    "df['reserve_visitors'].quantile()"
   ]
  },
  {
   "cell_type": "code",
   "execution_count": 24,
   "id": "fe61d2de",
   "metadata": {},
   "outputs": [
    {
     "data": {
      "text/plain": [
       "4.0"
      ]
     },
     "execution_count": 24,
     "metadata": {},
     "output_type": "execute_result"
    }
   ],
   "source": [
    "df['reserve_visitors'].quantile(.25)"
   ]
  },
  {
   "cell_type": "code",
   "execution_count": 32,
   "id": "f8a319ab",
   "metadata": {},
   "outputs": [
    {
     "data": {
      "text/plain": [
       "day_of_week\n",
       "Friday       231847.0\n",
       "Monday       216720.0\n",
       "Saturday     430749.0\n",
       "Sunday       423202.0\n",
       "Thursday     132328.0\n",
       "Tuesday      226444.0\n",
       "Wednesday    148869.0\n",
       "Name: reserve_visitors, dtype: float64"
      ]
     },
     "execution_count": 32,
     "metadata": {},
     "output_type": "execute_result"
    }
   ],
   "source": [
    "df.groupby(['day_of_week']).sum()['reserve_visitors']"
   ]
  },
  {
   "cell_type": "code",
   "execution_count": null,
   "id": "c07568d7",
   "metadata": {},
   "outputs": [],
   "source": []
  }
 ],
 "metadata": {
  "kernelspec": {
   "display_name": "Python 3",
   "language": "python",
   "name": "python3"
  },
  "language_info": {
   "codemirror_mode": {
    "name": "ipython",
    "version": 3
   },
   "file_extension": ".py",
   "mimetype": "text/x-python",
   "name": "python",
   "nbconvert_exporter": "python",
   "pygments_lexer": "ipython3",
   "version": "3.8.8"
  }
 },
 "nbformat": 4,
 "nbformat_minor": 5
}
